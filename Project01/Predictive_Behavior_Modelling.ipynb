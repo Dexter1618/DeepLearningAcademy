{
 "cells": [
  {
   "cell_type": "markdown",
   "metadata": {
    "colab_type": "text",
    "id": "gDtZiSHMCs5Q"
   },
   "source": [
    "# Project 1\n",
    "from Artem Opperman's course: Deep Learning for Predictive Analytics"
   ]
  },
  {
   "cell_type": "markdown",
   "metadata": {
    "colab_type": "text",
    "id": "IfMifDN-e560"
   },
   "source": [
    "## 0 Importing `tensorflow-gpu==1.14`\n",
    "\n",
    "- Artem's course uses Tensorflow 1.13\n",
    "- As of 19th August 2019, Tensorflow 2.0 has been released\n",
    "- The methods and classes used in this notebook are from Tensorflow 1.14"
   ]
  },
  {
   "cell_type": "code",
   "execution_count": 1,
   "metadata": {
    "ExecuteTime": {
     "end_time": "2019-09-27T10:52:06.473418Z",
     "start_time": "2019-09-27T10:52:05.523299Z"
    },
    "colab": {},
    "colab_type": "code",
    "id": "Omw9PDM2fAg1"
   },
   "outputs": [
    {
     "data": {
      "text/plain": [
       "'1.14.0'"
      ]
     },
     "execution_count": 1,
     "metadata": {},
     "output_type": "execute_result"
    }
   ],
   "source": [
    "import tensorflow as tf\n",
    "from IPython.display import clear_output\n",
    "\n",
    "tf.__version__"
   ]
  },
  {
   "cell_type": "markdown",
   "metadata": {
    "colab_type": "text",
    "id": "vVVsAYlyE2MR"
   },
   "source": [
    "## 1 Problem statement discussion\n"
   ]
  },
  {
   "cell_type": "markdown",
   "metadata": {
    "colab_type": "text",
    "id": "3UE4075GE7m3"
   },
   "source": [
    "The project is based on the dataset used by Moro et al., 2014 <sup>[[1]](http://dx.doi.org/10.1016/j.dss.2014.03.001)</sup> in their publication: _S. Moro, P. Cortez and P. Rita. A Data-Driven Approach to Predict the Success of Bank Telemarketing. Decision Support Systems_\n",
    "\n",
    "---\n",
    "\n",
    "The publication's abstract provides the problem statement for us: \" ***...to predict the success of telemarketing calls for selling bank long-term deposits***.\"\n",
    "\n",
    "---\n",
    "\n",
    "\n",
    "The dataset has 20 variables (predictive features) for the target variable $y$ which is defined as the answer to the binary question: has the client subscribed a term deposit?\n",
    "The dataset is based on \"Bank Marketing\" UCI dataset. <sup>[[2]](http://archive.ics.uci.edu/ml/datasets/Bank+Marketing)</sup>The data is enriched by the addition of five new social and economic features/attributes (national wide indicators from a ~10M population country, published by the Banco de Portugal and publicly available<sup>[[3]](https://www.bportugal.pt/estatisticasweb)</sup> online. Please note that the version of the dataset used for the project is not the same as the one used by Moro et.al. 2014. It does not include all attributes due to privacy concerns.\n",
    "<br>\n",
    "<br>\n",
    "The original dataset actually had 150 features with bank client, product and social-economic attributes. A semi-automatic feature selection was explored in the modeling phase, performed with the data prior to July 2012 and that allowed to select a reduced set of 22 features. We will be working with this reduced version.\n",
    "<br>\n",
    "<br>\n",
    "\n",
    "The zip file provided by Artem includes two fles:\n",
    " - `bank-additional-full.csv` with all examples, ordered by date (from May 2008 to November 2010).\n",
    " - `dataset_info.txt` which answers most of the questions relevant to descriptive analysis of the dataset.\n",
    " \n",
    " ---\n",
    "***The binary classification goal, as specified by the instructor, is to predict if the client will subscribe a bank term deposit***"
   ]
  },
  {
   "cell_type": "markdown",
   "metadata": {
    "colab_type": "text",
    "id": "2Rr6h1auONef"
   },
   "source": [
    "## 2 Extracting the dataset\n"
   ]
  },
  {
   "cell_type": "code",
   "execution_count": 2,
   "metadata": {
    "ExecuteTime": {
     "end_time": "2019-09-27T10:52:29.848034Z",
     "start_time": "2019-09-27T10:52:06.474618Z"
    },
    "colab": {
     "base_uri": "https://localhost:8080/",
     "height": 35
    },
    "colab_type": "code",
    "executionInfo": {
     "elapsed": 53837,
     "status": "ok",
     "timestamp": 1569350164256,
     "user": {
      "displayName": "Debayan Das",
      "photoUrl": "https://lh3.googleusercontent.com/a-/AAuE7mCPNX8Wtoos0c5XaxvHiR-6zcv9ODit1wL-BW_RIQ=s64",
      "userId": "17278617961040804055"
     },
     "user_tz": -330
    },
    "id": "-JqKJ_wGCYoC",
    "outputId": "6eeff654-3c7c-43fc-afc6-6d1e561507b3"
   },
   "outputs": [
    {
     "data": {
      "text/plain": [
       "('datasets.rar', <http.client.HTTPMessage at 0x7fcee70f5190>)"
      ]
     },
     "execution_count": 2,
     "metadata": {},
     "output_type": "execute_result"
    }
   ],
   "source": [
    "# In case it needs to be downloaded during notebook execution\n",
    "\n",
    "import urllib.request\n",
    "\n",
    "!rm -rf *.rar\n",
    "download_URL = \"https://www.filepicker.io/api/file/rAA6HuWARrOrIGOVzpiE\"\n",
    "urllib.request.urlretrieve(download_URL, \"datasets.rar\")"
   ]
  },
  {
   "cell_type": "code",
   "execution_count": 3,
   "metadata": {
    "ExecuteTime": {
     "end_time": "2019-09-27T10:52:29.967212Z",
     "start_time": "2019-09-27T10:52:29.854904Z"
    },
    "colab": {
     "base_uri": "https://localhost:8080/",
     "height": 35
    },
    "colab_type": "code",
    "executionInfo": {
     "elapsed": 57609,
     "status": "ok",
     "timestamp": 1569350168040,
     "user": {
      "displayName": "Debayan Das",
      "photoUrl": "https://lh3.googleusercontent.com/a-/AAuE7mCPNX8Wtoos0c5XaxvHiR-6zcv9ODit1wL-BW_RIQ=s64",
      "userId": "17278617961040804055"
     },
     "user_tz": -330
    },
    "id": "hbFogyZIOtPj",
    "outputId": "b84309b7-1840-418e-e5eb-38a15a492b38"
   },
   "outputs": [
    {
     "name": "stdout",
     "output_type": "stream",
     "text": [
      "datasets.rar  Predictive_Behavior_Modelling.ipynb  start_server.sh\r\n"
     ]
    }
   ],
   "source": [
    "!ls"
   ]
  },
  {
   "cell_type": "code",
   "execution_count": 4,
   "metadata": {
    "ExecuteTime": {
     "end_time": "2019-09-27T10:52:30.158491Z",
     "start_time": "2019-09-27T10:52:29.969043Z"
    },
    "colab": {},
    "colab_type": "code",
    "id": "drkBXJvoPONa"
   },
   "outputs": [],
   "source": [
    "# `patool` can extract WINRAR archives\n",
    "# you may need to install `unrar` executable for patool.extract_archive to work in this cell\n",
    "# command for apt: `sudo apt-get install unrar`\n",
    "#!pip install patool\n",
    "\n",
    "import patoolib\n",
    "\n",
    "# in case the archive has already been extracted from a previous iteration\n",
    "!rm -rf dataset\n",
    "\n",
    "patoolib.extract_archive(\"./datasets.rar\", outdir = \"./\")\n",
    "clear_output()"
   ]
  },
  {
   "cell_type": "code",
   "execution_count": 5,
   "metadata": {
    "ExecuteTime": {
     "end_time": "2019-09-27T10:52:30.271886Z",
     "start_time": "2019-09-27T10:52:30.159875Z"
    },
    "colab": {
     "base_uri": "https://localhost:8080/",
     "height": 35
    },
    "colab_type": "code",
    "executionInfo": {
     "elapsed": 67079,
     "status": "ok",
     "timestamp": 1569350177522,
     "user": {
      "displayName": "Debayan Das",
      "photoUrl": "https://lh3.googleusercontent.com/a-/AAuE7mCPNX8Wtoos0c5XaxvHiR-6zcv9ODit1wL-BW_RIQ=s64",
      "userId": "17278617961040804055"
     },
     "user_tz": -330
    },
    "id": "eGJDopTXQPAQ",
    "outputId": "1af6dead-5e63-4ba0-889f-097a177fb80d"
   },
   "outputs": [
    {
     "name": "stdout",
     "output_type": "stream",
     "text": [
      "bank_full.csv  dataset_info.txt\r\n"
     ]
    }
   ],
   "source": [
    "!ls dataset"
   ]
  },
  {
   "cell_type": "markdown",
   "metadata": {
    "colab_type": "text",
    "id": "yFA9I1iDQdkG"
   },
   "source": [
    "## 3 EDA\n",
    "\n",
    "The sole objective for performing this step is to obtain a parsimonious set of explanatory variables"
   ]
  },
  {
   "cell_type": "code",
   "execution_count": 6,
   "metadata": {
    "ExecuteTime": {
     "end_time": "2019-09-27T10:52:30.769898Z",
     "start_time": "2019-09-27T10:52:30.273698Z"
    },
    "colab": {},
    "colab_type": "code",
    "id": "93wIPmNzQRpq"
   },
   "outputs": [],
   "source": [
    "# you may need to install swifter as `pip install swifter`\n",
    "\n",
    "import pandas as pd\n",
    "from swifter import swifter\n",
    "import datetime\n",
    "import numpy as np\n",
    "import matplotlib.pyplot as plt\n",
    "import seaborn as sns\n",
    "\n",
    "%matplotlib inline\n",
    "\n",
    "clear_output()"
   ]
  },
  {
   "cell_type": "code",
   "execution_count": 7,
   "metadata": {
    "ExecuteTime": {
     "end_time": "2019-09-27T10:52:30.857428Z",
     "start_time": "2019-09-27T10:52:30.770907Z"
    },
    "colab": {
     "base_uri": "https://localhost:8080/",
     "height": 218
    },
    "colab_type": "code",
    "executionInfo": {
     "elapsed": 77611,
     "status": "ok",
     "timestamp": 1569350188066,
     "user": {
      "displayName": "Debayan Das",
      "photoUrl": "https://lh3.googleusercontent.com/a-/AAuE7mCPNX8Wtoos0c5XaxvHiR-6zcv9ODit1wL-BW_RIQ=s64",
      "userId": "17278617961040804055"
     },
     "user_tz": -330
    },
    "id": "wgiUHLF2Q2ua",
    "outputId": "42c5b434-1414-4686-c900-eff8e27be5b4"
   },
   "outputs": [
    {
     "data": {
      "text/html": [
       "<div>\n",
       "<style scoped>\n",
       "    .dataframe tbody tr th:only-of-type {\n",
       "        vertical-align: middle;\n",
       "    }\n",
       "\n",
       "    .dataframe tbody tr th {\n",
       "        vertical-align: top;\n",
       "    }\n",
       "\n",
       "    .dataframe thead th {\n",
       "        text-align: right;\n",
       "    }\n",
       "</style>\n",
       "<table border=\"1\" class=\"dataframe\">\n",
       "  <thead>\n",
       "    <tr style=\"text-align: right;\">\n",
       "      <th></th>\n",
       "      <th>age</th>\n",
       "      <th>job</th>\n",
       "      <th>marital</th>\n",
       "      <th>education</th>\n",
       "      <th>default</th>\n",
       "      <th>housing</th>\n",
       "      <th>loan</th>\n",
       "      <th>contact</th>\n",
       "      <th>month</th>\n",
       "      <th>day_of_week</th>\n",
       "      <th>...</th>\n",
       "      <th>campaign</th>\n",
       "      <th>pdays</th>\n",
       "      <th>previous</th>\n",
       "      <th>poutcome</th>\n",
       "      <th>emp.var.rate</th>\n",
       "      <th>cons.price.idx</th>\n",
       "      <th>cons.conf.idx</th>\n",
       "      <th>euribor3m</th>\n",
       "      <th>nr.employed</th>\n",
       "      <th>y</th>\n",
       "    </tr>\n",
       "  </thead>\n",
       "  <tbody>\n",
       "    <tr>\n",
       "      <td>0</td>\n",
       "      <td>56</td>\n",
       "      <td>housemaid</td>\n",
       "      <td>married</td>\n",
       "      <td>basic.4y</td>\n",
       "      <td>no</td>\n",
       "      <td>no</td>\n",
       "      <td>no</td>\n",
       "      <td>telephone</td>\n",
       "      <td>may</td>\n",
       "      <td>mon</td>\n",
       "      <td>...</td>\n",
       "      <td>1</td>\n",
       "      <td>999</td>\n",
       "      <td>0</td>\n",
       "      <td>nonexistent</td>\n",
       "      <td>1.1</td>\n",
       "      <td>93.994</td>\n",
       "      <td>-36.4</td>\n",
       "      <td>4.857</td>\n",
       "      <td>5191.0</td>\n",
       "      <td>no</td>\n",
       "    </tr>\n",
       "    <tr>\n",
       "      <td>1</td>\n",
       "      <td>57</td>\n",
       "      <td>services</td>\n",
       "      <td>married</td>\n",
       "      <td>high.school</td>\n",
       "      <td>unknown</td>\n",
       "      <td>no</td>\n",
       "      <td>no</td>\n",
       "      <td>telephone</td>\n",
       "      <td>may</td>\n",
       "      <td>mon</td>\n",
       "      <td>...</td>\n",
       "      <td>1</td>\n",
       "      <td>999</td>\n",
       "      <td>0</td>\n",
       "      <td>nonexistent</td>\n",
       "      <td>1.1</td>\n",
       "      <td>93.994</td>\n",
       "      <td>-36.4</td>\n",
       "      <td>4.857</td>\n",
       "      <td>5191.0</td>\n",
       "      <td>yes</td>\n",
       "    </tr>\n",
       "    <tr>\n",
       "      <td>2</td>\n",
       "      <td>37</td>\n",
       "      <td>services</td>\n",
       "      <td>married</td>\n",
       "      <td>high.school</td>\n",
       "      <td>no</td>\n",
       "      <td>yes</td>\n",
       "      <td>no</td>\n",
       "      <td>telephone</td>\n",
       "      <td>may</td>\n",
       "      <td>mon</td>\n",
       "      <td>...</td>\n",
       "      <td>1</td>\n",
       "      <td>999</td>\n",
       "      <td>0</td>\n",
       "      <td>nonexistent</td>\n",
       "      <td>1.1</td>\n",
       "      <td>93.994</td>\n",
       "      <td>-36.4</td>\n",
       "      <td>4.857</td>\n",
       "      <td>5191.0</td>\n",
       "      <td>no</td>\n",
       "    </tr>\n",
       "    <tr>\n",
       "      <td>3</td>\n",
       "      <td>40</td>\n",
       "      <td>admin.</td>\n",
       "      <td>married</td>\n",
       "      <td>basic.6y</td>\n",
       "      <td>no</td>\n",
       "      <td>no</td>\n",
       "      <td>no</td>\n",
       "      <td>telephone</td>\n",
       "      <td>may</td>\n",
       "      <td>mon</td>\n",
       "      <td>...</td>\n",
       "      <td>1</td>\n",
       "      <td>999</td>\n",
       "      <td>0</td>\n",
       "      <td>nonexistent</td>\n",
       "      <td>1.1</td>\n",
       "      <td>93.994</td>\n",
       "      <td>-36.4</td>\n",
       "      <td>4.857</td>\n",
       "      <td>5191.0</td>\n",
       "      <td>no</td>\n",
       "    </tr>\n",
       "    <tr>\n",
       "      <td>4</td>\n",
       "      <td>56</td>\n",
       "      <td>services</td>\n",
       "      <td>married</td>\n",
       "      <td>high.school</td>\n",
       "      <td>no</td>\n",
       "      <td>no</td>\n",
       "      <td>yes</td>\n",
       "      <td>telephone</td>\n",
       "      <td>may</td>\n",
       "      <td>mon</td>\n",
       "      <td>...</td>\n",
       "      <td>1</td>\n",
       "      <td>999</td>\n",
       "      <td>0</td>\n",
       "      <td>nonexistent</td>\n",
       "      <td>1.1</td>\n",
       "      <td>93.994</td>\n",
       "      <td>-36.4</td>\n",
       "      <td>4.857</td>\n",
       "      <td>5191.0</td>\n",
       "      <td>no</td>\n",
       "    </tr>\n",
       "  </tbody>\n",
       "</table>\n",
       "<p>5 rows × 21 columns</p>\n",
       "</div>"
      ],
      "text/plain": [
       "   age        job  marital    education  default housing loan    contact  \\\n",
       "0   56  housemaid  married     basic.4y       no      no   no  telephone   \n",
       "1   57   services  married  high.school  unknown      no   no  telephone   \n",
       "2   37   services  married  high.school       no     yes   no  telephone   \n",
       "3   40     admin.  married     basic.6y       no      no   no  telephone   \n",
       "4   56   services  married  high.school       no      no  yes  telephone   \n",
       "\n",
       "  month day_of_week  ...  campaign  pdays  previous     poutcome emp.var.rate  \\\n",
       "0   may         mon  ...         1    999         0  nonexistent          1.1   \n",
       "1   may         mon  ...         1    999         0  nonexistent          1.1   \n",
       "2   may         mon  ...         1    999         0  nonexistent          1.1   \n",
       "3   may         mon  ...         1    999         0  nonexistent          1.1   \n",
       "4   may         mon  ...         1    999         0  nonexistent          1.1   \n",
       "\n",
       "   cons.price.idx  cons.conf.idx  euribor3m  nr.employed    y  \n",
       "0          93.994          -36.4      4.857       5191.0   no  \n",
       "1          93.994          -36.4      4.857       5191.0  yes  \n",
       "2          93.994          -36.4      4.857       5191.0   no  \n",
       "3          93.994          -36.4      4.857       5191.0   no  \n",
       "4          93.994          -36.4      4.857       5191.0   no  \n",
       "\n",
       "[5 rows x 21 columns]"
      ]
     },
     "execution_count": 7,
     "metadata": {},
     "output_type": "execute_result"
    }
   ],
   "source": [
    "df = pd.read_csv(\"./dataset/bank_full.csv\", sep = \";\")\n",
    "df.head()"
   ]
  },
  {
   "cell_type": "code",
   "execution_count": 8,
   "metadata": {
    "ExecuteTime": {
     "end_time": "2019-09-27T10:52:30.862006Z",
     "start_time": "2019-09-27T10:52:30.859153Z"
    },
    "colab": {
     "base_uri": "https://localhost:8080/",
     "height": 108
    },
    "colab_type": "code",
    "executionInfo": {
     "elapsed": 77602,
     "status": "ok",
     "timestamp": 1569350188066,
     "user": {
      "displayName": "Debayan Das",
      "photoUrl": "https://lh3.googleusercontent.com/a-/AAuE7mCPNX8Wtoos0c5XaxvHiR-6zcv9ODit1wL-BW_RIQ=s64",
      "userId": "17278617961040804055"
     },
     "user_tz": -330
    },
    "id": "q5oMFX1mRA06",
    "outputId": "7af3b679-7d19-4279-ecbb-6de9cb6b7d8c"
   },
   "outputs": [
    {
     "data": {
      "text/plain": [
       "Index(['age', 'job', 'marital', 'education', 'default', 'housing', 'loan',\n",
       "       'contact', 'month', 'day_of_week', 'duration', 'campaign', 'pdays',\n",
       "       'previous', 'poutcome', 'emp.var.rate', 'cons.price.idx',\n",
       "       'cons.conf.idx', 'euribor3m', 'nr.employed', 'y'],\n",
       "      dtype='object')"
      ]
     },
     "execution_count": 8,
     "metadata": {},
     "output_type": "execute_result"
    }
   ],
   "source": [
    "df.columns"
   ]
  },
  {
   "cell_type": "markdown",
   "metadata": {
    "colab_type": "text",
    "heading_collapsed": true,
    "id": "b0Fp50VxRzBO"
   },
   "source": [
    "### 3.1 Understanding variable dependencies\n",
    "\n",
    "\n",
    "`dataset_info.txt` provides descriptions for the columns in `df`:\n",
    "\n",
    "***Client information***\n",
    "\n",
    "- age\n",
    "- job : type of job \n",
    "- marital : marital status\n",
    "- education\n",
    "- default: has credit in default?\n",
    "- housing: has housing loan?\n",
    "- loan: has personal loan?\n",
    "\n",
    "***Related with the last contact of the current campaign***\n",
    "\n",
    "- contact: contact communication type\n",
    "- month: last contact month of year\n",
    "- day_of_week\n",
    "- duration: last contact duration, in seconds (numeric). \n",
    "\n",
    "\n",
    "(Note:  the attribute `duration` highly affects the output target (e.g., if duration=0 then y=\"no\"). Yet, the duration is not known before a call is performed. Also, after the end of the call y is obviously known. Thus, this input should only be included for benchmark purposes and should be discarded if the intention is to have a realistic predictive model)\n",
    "\n",
    "***Other attributes***\n",
    "\n",
    "- campaign: number of contacts performed during this campaign and for this client\n",
    "- pdays: number of days that passed by after the client was last contacted from a previous campaign (numeric; 999 means client was not previously contacted)\n",
    "- previous: number of contacts performed before this campaign and for this client (numeric)\n",
    "- poutcome: outcome of the previous marketing campaign\n",
    "\n",
    "***Social and economic context attributes***\n",
    "\n",
    "- emp.var.rate: employment variation rate - quarterly indicator (numeric)\n",
    "- cons.price.idx: consumer price index - monthly indicator (numeric)     \n",
    "- cons.conf.idx: consumer confidence index - monthly indicator (numeric)     \n",
    "- euribor3m: euribor 3 month rate - daily indicator (numeric)\n",
    "- nr.employed: number of employees - quarterly indicator (numeric)"
   ]
  },
  {
   "cell_type": "code",
   "execution_count": 9,
   "metadata": {
    "ExecuteTime": {
     "end_time": "2019-09-27T10:52:30.945634Z",
     "start_time": "2019-09-27T10:52:30.863207Z"
    },
    "colab": {
     "base_uri": "https://localhost:8080/",
     "height": 417
    },
    "colab_type": "code",
    "executionInfo": {
     "elapsed": 77592,
     "status": "ok",
     "timestamp": 1569350188067,
     "user": {
      "displayName": "Debayan Das",
      "photoUrl": "https://lh3.googleusercontent.com/a-/AAuE7mCPNX8Wtoos0c5XaxvHiR-6zcv9ODit1wL-BW_RIQ=s64",
      "userId": "17278617961040804055"
     },
     "user_tz": -330
    },
    "hidden": true,
    "id": "X-rb1tbnRP4i",
    "outputId": "2e67b2f2-49ac-4fa3-a05c-0ac71d9425c4"
   },
   "outputs": [
    {
     "data": {
      "text/plain": [
       "age                 int64\n",
       "job                object\n",
       "marital            object\n",
       "education          object\n",
       "default            object\n",
       "housing            object\n",
       "loan               object\n",
       "contact            object\n",
       "month              object\n",
       "day_of_week        object\n",
       "duration            int64\n",
       "campaign            int64\n",
       "pdays               int64\n",
       "previous            int64\n",
       "poutcome           object\n",
       "emp.var.rate      float64\n",
       "cons.price.idx    float64\n",
       "cons.conf.idx     float64\n",
       "euribor3m         float64\n",
       "nr.employed       float64\n",
       "y                  object\n",
       "dtype: object"
      ]
     },
     "execution_count": 9,
     "metadata": {},
     "output_type": "execute_result"
    }
   ],
   "source": [
    "df.dtypes"
   ]
  },
  {
   "cell_type": "markdown",
   "metadata": {
    "colab_type": "text",
    "hidden": true,
    "id": "r37EgIH-ewNW"
   },
   "source": [
    "Might as well seperate the variables based on whether they are categorical or not. I intend to one-hot encode them using dummy variables"
   ]
  },
  {
   "cell_type": "code",
   "execution_count": 10,
   "metadata": {
    "ExecuteTime": {
     "end_time": "2019-09-27T10:52:31.023200Z",
     "start_time": "2019-09-27T10:52:30.946853Z"
    },
    "colab": {},
    "colab_type": "code",
    "hidden": true,
    "id": "RZeVBRUmeOEq"
   },
   "outputs": [],
   "source": [
    "categorical_variables = []\n",
    "numeric_variables = []\n",
    "\n",
    "for variable, dtype in zip(df.columns, df.dtypes):\n",
    "    if dtype == \"object\":\n",
    "        if variable != \"y\":\n",
    "            # the target response is not a part of the analysis\n",
    "            categorical_variables.append(variable)\n",
    "    else:\n",
    "        numeric_variables.append(variable)"
   ]
  },
  {
   "cell_type": "code",
   "execution_count": 11,
   "metadata": {
    "ExecuteTime": {
     "end_time": "2019-09-27T10:52:31.102694Z",
     "start_time": "2019-09-27T10:52:31.028488Z"
    },
    "colab": {
     "base_uri": "https://localhost:8080/",
     "height": 54
    },
    "colab_type": "code",
    "executionInfo": {
     "elapsed": 78709,
     "status": "ok",
     "timestamp": 1569350189195,
     "user": {
      "displayName": "Debayan Das",
      "photoUrl": "https://lh3.googleusercontent.com/a-/AAuE7mCPNX8Wtoos0c5XaxvHiR-6zcv9ODit1wL-BW_RIQ=s64",
      "userId": "17278617961040804055"
     },
     "user_tz": -330
    },
    "hidden": true,
    "id": "LxhdG-wwe-8-",
    "outputId": "0200fd22-d207-42ad-b5df-99a3c6617a36"
   },
   "outputs": [
    {
     "name": "stdout",
     "output_type": "stream",
     "text": [
      "['job', 'marital', 'education', 'default', 'housing', 'loan', 'contact', 'month', 'day_of_week', 'poutcome']\n",
      "['age', 'duration', 'campaign', 'pdays', 'previous', 'emp.var.rate', 'cons.price.idx', 'cons.conf.idx', 'euribor3m', 'nr.employed']\n"
     ]
    }
   ],
   "source": [
    "print(categorical_variables)\n",
    "print(numeric_variables)"
   ]
  },
  {
   "cell_type": "markdown",
   "metadata": {
    "colab_type": "text",
    "id": "mdhq_QFBmkMj"
   },
   "source": [
    "### 3.2 Explanability heatmaps\n",
    "\n",
    "- $R$ = coefficient of correlation between two variables $x_i$ and $x_j$\n",
    "- $R^2$ = strength of correlation between $x_i$ and $x_j$\n",
    "- $100.R^2$ = how much of target variable $x_i$ is explained by $x_j$ expressed as a percentage "
   ]
  },
  {
   "cell_type": "markdown",
   "metadata": {
    "colab_type": "text",
    "id": "sbMSB9xWmaL-"
   },
   "source": [
    "#### 3.2.1 Amongst numeric variables"
   ]
  },
  {
   "cell_type": "code",
   "execution_count": 12,
   "metadata": {
    "ExecuteTime": {
     "end_time": "2019-09-27T10:52:31.419661Z",
     "start_time": "2019-09-27T10:52:31.103841Z"
    },
    "colab": {
     "base_uri": "https://localhost:8080/",
     "height": 438
    },
    "colab_type": "code",
    "executionInfo": {
     "elapsed": 78701,
     "status": "ok",
     "timestamp": 1569350189196,
     "user": {
      "displayName": "Debayan Das",
      "photoUrl": "https://lh3.googleusercontent.com/a-/AAuE7mCPNX8Wtoos0c5XaxvHiR-6zcv9ODit1wL-BW_RIQ=s64",
      "userId": "17278617961040804055"
     },
     "user_tz": -330
    },
    "id": "HRt9NXgGfSYX",
    "outputId": "521ec4d7-9c45-4f9f-efcd-afab02c34cf6"
   },
   "outputs": [
    {
     "data": {
      "image/png": "[encoded data removed]",
      "text/plain": [
       "<Figure size 1008x432 with 2 Axes>"
      ]
     },
     "metadata": {
      "needs_background": "light"
     },
     "output_type": "display_data"
    }
   ],
   "source": [
    "correlation_matrix = df[numeric_variables].corr()\n",
    "explanability_matrix = correlation_matrix.swifter.apply(lambda x: x ** 2) * 100\n",
    "\n",
    "plt.rcParams['figure.figsize'] = 14, 6\n",
    "plt.tight_layout()\n",
    "\n",
    "sns.heatmap(explanability_matrix, xticklabels = numeric_variables, yticklabels = numeric_variables)\n",
    "plt.show()"
   ]
  },
  {
   "cell_type": "code",
   "execution_count": 13,
   "metadata": {
    "ExecuteTime": {
     "end_time": "2019-09-27T10:52:31.427369Z",
     "start_time": "2019-09-27T10:52:31.420784Z"
    },
    "colab": {
     "base_uri": "https://localhost:8080/",
     "height": 35
    },
    "colab_type": "code",
    "executionInfo": {
     "elapsed": 78692,
     "status": "ok",
     "timestamp": 1569350189196,
     "user": {
      "displayName": "Debayan Das",
      "photoUrl": "https://lh3.googleusercontent.com/a-/AAuE7mCPNX8Wtoos0c5XaxvHiR-6zcv9ODit1wL-BW_RIQ=s64",
      "userId": "17278617961040804055"
     },
     "user_tz": -330
    },
    "id": "HSfzjPSEnBLl",
    "outputId": "0db8e4eb-2067-4985-ad14-c8bb99fb7072"
   },
   "outputs": [
    {
     "data": {
      "text/plain": [
       "['euribor3m', 'nr.employed']"
      ]
     },
     "execution_count": 13,
     "metadata": {},
     "output_type": "execute_result"
    }
   ],
   "source": [
    "upper = explanability_matrix.where(np.triu(np.ones(explanability_matrix.shape), k = 1).astype(np.bool))\n",
    "to_drop = [column for column in upper.columns if any(upper[column] > 75)]\n",
    "to_drop"
   ]
  },
  {
   "cell_type": "markdown",
   "metadata": {
    "colab_type": "text",
    "id": "JNXU6vv6nhIj"
   },
   "source": [
    "***Observations from the above heatmap between numeric variables***\n",
    "\n",
    "- Age, Previous duration of campaign contact, and the number of campaigns when a client was contacted do not explain any variance of the other variables\n",
    "- The number of employees a client has had quaterly strongly correlates with and explains a considerable amount of variability for quaterly employment variability rate, euribor 3 month rate and the consumer price index\n",
    "- Quarterly Consumer Confidence doesn't correlate with any other variable.\n",
    "\n",
    "<br>\n",
    "\n",
    "***Aiming for the parsimonious model based on numeric variables only***\n",
    "\n",
    "A parsimonious model is essentially a result of Occam's Razor. The principle is to obtain a model that has the lowest number of predictor variables with the maximum predictive power for the response variable. Having analyzed the heatmap, I decided to remove the following variables because they are explainable by more than `75%` by other variables.\n",
    "\n",
    "- `euribor3m`\n",
    "- `nr.employed`"
   ]
  },
  {
   "cell_type": "markdown",
   "metadata": {
    "colab_type": "text",
    "id": "vEmQsWEnt6ZL"
   },
   "source": [
    "#### 3.2.2 numeric variables ~ client job role"
   ]
  },
  {
   "cell_type": "code",
   "execution_count": 14,
   "metadata": {
    "ExecuteTime": {
     "end_time": "2019-09-27T10:52:31.960309Z",
     "start_time": "2019-09-27T10:52:31.428390Z"
    },
    "colab": {
     "base_uri": "https://localhost:8080/",
     "height": 459
    },
    "colab_type": "code",
    "executionInfo": {
     "elapsed": 79781,
     "status": "ok",
     "timestamp": 1569350190294,
     "user": {
      "displayName": "Debayan Das",
      "photoUrl": "https://lh3.googleusercontent.com/a-/AAuE7mCPNX8Wtoos0c5XaxvHiR-6zcv9ODit1wL-BW_RIQ=s64",
      "userId": "17278617961040804055"
     },
     "user_tz": -330
    },
    "id": "lYDm5hoUrgio",
    "outputId": "892be496-bf81-423d-d58f-308d4bff245d"
   },
   "outputs": [
    {
     "data": {
      "image/png": "[encoded data removed]",
      "text/plain": [
       "<Figure size 1008x432 with 2 Axes>"
      ]
     },
     "metadata": {
      "needs_background": "light"
     },
     "output_type": "display_data"
    }
   ],
   "source": [
    "temp = pd.get_dummies(data = df.drop(\"y\", axis = 1, inplace = False), columns = [\"job\"])\n",
    "correlation_matrix = temp.corr()\n",
    "explanability_matrix = correlation_matrix.swifter.apply(lambda x: x ** 2) * 100\n",
    "\n",
    "plt.rcParams['figure.figsize'] = 14, 6\n",
    "plt.tight_layout()\n",
    "\n",
    "sns.heatmap(explanability_matrix)\n",
    "plt.show()"
   ]
  },
  {
   "cell_type": "markdown",
   "metadata": {
    "colab_type": "text",
    "id": "fEGwhXHRv-rc"
   },
   "source": [
    "***Observations from the above heatmap between numeric variables and the job kind the client has***\n",
    "\n",
    "- There's none. No variable can be explained by the specific kind of job a client has."
   ]
  },
  {
   "cell_type": "markdown",
   "metadata": {
    "colab_type": "text",
    "id": "WoFDOQa2wTKj"
   },
   "source": [
    "<br>\n",
    "\n",
    "#### 3.2.3 numeric variables ~ client's maritial status"
   ]
  },
  {
   "cell_type": "code",
   "execution_count": 15,
   "metadata": {
    "ExecuteTime": {
     "end_time": "2019-09-27T10:52:32.312405Z",
     "start_time": "2019-09-27T10:52:31.961379Z"
    },
    "colab": {
     "base_uri": "https://localhost:8080/",
     "height": 454
    },
    "colab_type": "code",
    "executionInfo": {
     "elapsed": 81596,
     "status": "ok",
     "timestamp": 1569350192118,
     "user": {
      "displayName": "Debayan Das",
      "photoUrl": "https://lh3.googleusercontent.com/a-/AAuE7mCPNX8Wtoos0c5XaxvHiR-6zcv9ODit1wL-BW_RIQ=s64",
      "userId": "17278617961040804055"
     },
     "user_tz": -330
    },
    "id": "ojeq-6DUu6nd",
    "outputId": "b3025f7e-cee4-4887-dd69-559e0edb14f7"
   },
   "outputs": [
    {
     "data": {
      "image/png": "[encoded data removed]",
      "text/plain": [
       "<Figure size 1008x432 with 2 Axes>"
      ]
     },
     "metadata": {
      "needs_background": "light"
     },
     "output_type": "display_data"
    }
   ],
   "source": [
    "temp = pd.get_dummies(data = df.drop(\"y\", axis = 1, inplace = False), columns = [\"marital\"])\n",
    "correlation_matrix = temp.corr()\n",
    "explanability_matrix = correlation_matrix.swifter.apply(lambda x: x ** 2) * 100\n",
    "\n",
    "plt.rcParams['figure.figsize'] = 14, 6\n",
    "plt.tight_layout()\n",
    "\n",
    "sns.heatmap(explanability_matrix)\n",
    "plt.show()"
   ]
  },
  {
   "cell_type": "markdown",
   "metadata": {
    "colab_type": "text",
    "id": "W3xUu_cowv5M"
   },
   "source": [
    "***Observations from the above heatmap between numeric variables and the the client's martial status***\n",
    "\n",
    "- There's none. No variable can be explained by the client's maritial status"
   ]
  },
  {
   "cell_type": "markdown",
   "metadata": {
    "colab_type": "text",
    "id": "1bsEo0-DxCZq"
   },
   "source": [
    "<br>\n",
    "\n",
    "#### 3.2.4 numeric variables ~ client's education qualification"
   ]
  },
  {
   "cell_type": "code",
   "execution_count": 16,
   "metadata": {
    "ExecuteTime": {
     "end_time": "2019-09-27T10:52:32.670672Z",
     "start_time": "2019-09-27T10:52:32.313541Z"
    },
    "colab": {
     "base_uri": "https://localhost:8080/",
     "height": 520
    },
    "colab_type": "code",
    "executionInfo": {
     "elapsed": 81585,
     "status": "ok",
     "timestamp": 1569350192118,
     "user": {
      "displayName": "Debayan Das",
      "photoUrl": "https://lh3.googleusercontent.com/a-/AAuE7mCPNX8Wtoos0c5XaxvHiR-6zcv9ODit1wL-BW_RIQ=s64",
      "userId": "17278617961040804055"
     },
     "user_tz": -330
    },
    "id": "qtq4J7shwhSC",
    "outputId": "89369a75-58c7-442d-aa4a-60e507ea09b1"
   },
   "outputs": [
    {
     "data": {
      "image/png": "[encoded data removed]",
      "text/plain": [
       "<Figure size 1008x432 with 2 Axes>"
      ]
     },
     "metadata": {
      "needs_background": "light"
     },
     "output_type": "display_data"
    }
   ],
   "source": [
    "temp = pd.get_dummies(data = df.drop(\"y\", axis = 1, inplace = False), columns = [\"education\"])\n",
    "correlation_matrix = temp.corr()\n",
    "explanability_matrix = correlation_matrix.swifter.apply(lambda x: x ** 2) * 100\n",
    "\n",
    "plt.rcParams['figure.figsize'] = 14, 6\n",
    "plt.tight_layout()\n",
    "\n",
    "sns.heatmap(explanability_matrix)\n",
    "plt.show()"
   ]
  },
  {
   "cell_type": "markdown",
   "metadata": {
    "colab_type": "text",
    "id": "bVhhoy-NxT9C"
   },
   "source": [
    "***Observations from the above heatmap between numeric variables and the the client's education qualifiation***\n",
    "\n",
    "- There's none. No variable can be explained by the client's education qualification"
   ]
  },
  {
   "cell_type": "markdown",
   "metadata": {
    "colab_type": "text",
    "id": "Wmiz7Ka3xeEj"
   },
   "source": [
    "<br>\n",
    "\n",
    "#### 3.2.5 numeric variables ~ client's credit card's default status"
   ]
  },
  {
   "cell_type": "code",
   "execution_count": 17,
   "metadata": {
    "ExecuteTime": {
     "end_time": "2019-09-27T10:52:32.949956Z",
     "start_time": "2019-09-27T10:52:32.671887Z"
    },
    "colab": {
     "base_uri": "https://localhost:8080/",
     "height": 646
    },
    "colab_type": "code",
    "executionInfo": {
     "elapsed": 82711,
     "status": "ok",
     "timestamp": 1569350193253,
     "user": {
      "displayName": "Debayan Das",
      "photoUrl": "https://lh3.googleusercontent.com/a-/AAuE7mCPNX8Wtoos0c5XaxvHiR-6zcv9ODit1wL-BW_RIQ=s64",
      "userId": "17278617961040804055"
     },
     "user_tz": -330
    },
    "id": "qAwfDzbsxLOr",
    "outputId": "9927b37b-9dab-4bc0-8f37-6890725cd8ed"
   },
   "outputs": [
    {
     "data": {
      "image/png": "[encoded data removed]",
      "text/plain": [
       "<Figure size 1008x432 with 2 Axes>"
      ]
     },
     "metadata": {
      "needs_background": "light"
     },
     "output_type": "display_data"
    }
   ],
   "source": [
    "temp = pd.get_dummies(data = df.drop(\"y\", axis = 1, inplace = False), columns = [\"default\"])\n",
    "correlation_matrix = temp.corr()\n",
    "explanability_matrix = correlation_matrix.swifter.apply(lambda x: x ** 2) * 100\n",
    "\n",
    "plt.rcParams['figure.figsize'] = 14, 6\n",
    "plt.tight_layout()\n",
    "\n",
    "sns.heatmap(explanability_matrix)\n",
    "plt.show()"
   ]
  },
  {
   "cell_type": "code",
   "execution_count": 18,
   "metadata": {
    "ExecuteTime": {
     "end_time": "2019-09-27T10:52:32.958253Z",
     "start_time": "2019-09-27T10:52:32.951002Z"
    },
    "colab": {
     "base_uri": "https://localhost:8080/",
     "height": 35
    },
    "colab_type": "code",
    "executionInfo": {
     "elapsed": 82702,
     "status": "ok",
     "timestamp": 1569350193254,
     "user": {
      "displayName": "Debayan Das",
      "photoUrl": "https://lh3.googleusercontent.com/a-/AAuE7mCPNX8Wtoos0c5XaxvHiR-6zcv9ODit1wL-BW_RIQ=s64",
      "userId": "17278617961040804055"
     },
     "user_tz": -330
    },
    "id": "nltjn3qeqxQ1",
    "outputId": "0a060a2e-0f03-419e-a22c-1ed6b56e56ba"
   },
   "outputs": [
    {
     "data": {
      "text/plain": [
       "['euribor3m', 'nr.employed', 'default_unknown']"
      ]
     },
     "execution_count": 18,
     "metadata": {},
     "output_type": "execute_result"
    }
   ],
   "source": [
    "upper = explanability_matrix.where(np.triu(np.ones(explanability_matrix.shape), k = 1).astype(np.bool))\n",
    "to_drop = [column for column in upper.columns if any(upper[column] > 75)]\n",
    "to_drop"
   ]
  },
  {
   "cell_type": "markdown",
   "metadata": {
    "colab_type": "text",
    "id": "sMklxZdOyxhz"
   },
   "source": [
    "***Observations from the above heatmap between numeric variables and the the client's credit card default status***\n",
    "\n",
    "- There's none. No variable can be explained by the client's credit card default status\n",
    "- `default_unknown` is strongly correlated with `default_no`.\n",
    "\n",
    "\n",
    "\n",
    "\n",
    "<br>\n",
    "\n",
    "***Aiming for the parsimonious model***\n",
    "\n",
    "I decided to remove the following variable because they are explainable by more than 75% by other variables.\n",
    "\n",
    "- `default_unknown`"
   ]
  },
  {
   "cell_type": "markdown",
   "metadata": {
    "colab_type": "text",
    "id": "1yF-PFWOy8d6"
   },
   "source": [
    "<br>\n",
    "\n",
    "#### 3.2.6 numeric variables ~ the default status of the client's loan statuses"
   ]
  },
  {
   "cell_type": "code",
   "execution_count": 19,
   "metadata": {
    "ExecuteTime": {
     "end_time": "2019-09-27T10:52:33.342406Z",
     "start_time": "2019-09-27T10:52:32.959304Z"
    },
    "colab": {
     "base_uri": "https://localhost:8080/",
     "height": 458
    },
    "colab_type": "code",
    "executionInfo": {
     "elapsed": 82694,
     "status": "ok",
     "timestamp": 1569350193255,
     "user": {
      "displayName": "Debayan Das",
      "photoUrl": "https://lh3.googleusercontent.com/a-/AAuE7mCPNX8Wtoos0c5XaxvHiR-6zcv9ODit1wL-BW_RIQ=s64",
      "userId": "17278617961040804055"
     },
     "user_tz": -330
    },
    "id": "45EP1B7pxlP-",
    "outputId": "f776f49d-feca-4734-92bb-f48552d11f9f"
   },
   "outputs": [
    {
     "data": {
      "image/png": "[encoded data removed]",
      "text/plain": [
       "<Figure size 1008x432 with 2 Axes>"
      ]
     },
     "metadata": {
      "needs_background": "light"
     },
     "output_type": "display_data"
    }
   ],
   "source": [
    "temp = pd.get_dummies(data = df.drop(\"y\", axis = 1, inplace = False), columns = [\"housing\", \"loan\"])\n",
    "correlation_matrix = temp.corr()\n",
    "explanability_matrix = correlation_matrix.swifter.apply(lambda x: x ** 2) * 100\n",
    "\n",
    "plt.rcParams['figure.figsize'] = 14, 6\n",
    "plt.tight_layout()\n",
    "\n",
    "sns.heatmap(explanability_matrix)\n",
    "plt.show()"
   ]
  },
  {
   "cell_type": "code",
   "execution_count": 20,
   "metadata": {
    "ExecuteTime": {
     "end_time": "2019-09-27T10:52:33.351471Z",
     "start_time": "2019-09-27T10:52:33.343750Z"
    },
    "colab": {
     "base_uri": "https://localhost:8080/",
     "height": 35
    },
    "colab_type": "code",
    "executionInfo": {
     "elapsed": 82685,
     "status": "ok",
     "timestamp": 1569350193256,
     "user": {
      "displayName": "Debayan Das",
      "photoUrl": "https://lh3.googleusercontent.com/a-/AAuE7mCPNX8Wtoos0c5XaxvHiR-6zcv9ODit1wL-BW_RIQ=s64",
      "userId": "17278617961040804055"
     },
     "user_tz": -330
    },
    "id": "rwy-fJwwru7k",
    "outputId": "1107ed83-079b-4a5d-d349-a8599c6b34a6"
   },
   "outputs": [
    {
     "data": {
      "text/plain": [
       "['euribor3m', 'nr.employed', 'housing_yes', 'loan_unknown', 'loan_yes']"
      ]
     },
     "execution_count": 20,
     "metadata": {},
     "output_type": "execute_result"
    }
   ],
   "source": [
    "upper = explanability_matrix.where(np.triu(np.ones(explanability_matrix.shape), k = 1).astype(np.bool))\n",
    "to_drop = [column for column in upper.columns if any(upper[column] > 75)]\n",
    "to_drop"
   ]
  },
  {
   "cell_type": "markdown",
   "metadata": {
    "colab_type": "text",
    "id": "LLArjvrkzgS6"
   },
   "source": [
    "***Observations from the above heatmap between numeric variables and the the client's loan statuses***\n",
    "\n",
    "- If we are uncertain about the client's housing loan status, so are we about his/her personal loan status and vice versa\n",
    "\n",
    "\n",
    "\n",
    "<br>\n",
    "\n",
    "***Aiming for the parsimonious model***\n",
    "\n",
    "I decided to remove the following variable because they are explainable by more than 75% by other variables.\n",
    "\n",
    "- `housing_yes`\n",
    "- `loan_unknown`\n",
    "- `loan_yes`"
   ]
  },
  {
   "cell_type": "markdown",
   "metadata": {
    "colab_type": "text",
    "id": "QeKArKrg17ES"
   },
   "source": [
    "### 3.3 Removing dependencies"
   ]
  },
  {
   "cell_type": "code",
   "execution_count": 21,
   "metadata": {
    "ExecuteTime": {
     "end_time": "2019-09-27T10:52:33.466612Z",
     "start_time": "2019-09-27T10:52:33.352551Z"
    },
    "colab": {
     "base_uri": "https://localhost:8080/",
     "height": 235
    },
    "colab_type": "code",
    "executionInfo": {
     "elapsed": 82678,
     "status": "ok",
     "timestamp": 1569350193257,
     "user": {
      "displayName": "Debayan Das",
      "photoUrl": "https://lh3.googleusercontent.com/a-/AAuE7mCPNX8Wtoos0c5XaxvHiR-6zcv9ODit1wL-BW_RIQ=s64",
      "userId": "17278617961040804055"
     },
     "user_tz": -330
    },
    "id": "8yFZH5DJ0-Ge",
    "outputId": "d2412a42-cef0-4c9f-d409-7b715b764582"
   },
   "outputs": [
    {
     "data": {
      "text/html": [
       "<div>\n",
       "<style scoped>\n",
       "    .dataframe tbody tr th:only-of-type {\n",
       "        vertical-align: middle;\n",
       "    }\n",
       "\n",
       "    .dataframe tbody tr th {\n",
       "        vertical-align: top;\n",
       "    }\n",
       "\n",
       "    .dataframe thead th {\n",
       "        text-align: right;\n",
       "    }\n",
       "</style>\n",
       "<table border=\"1\" class=\"dataframe\">\n",
       "  <thead>\n",
       "    <tr style=\"text-align: right;\">\n",
       "      <th></th>\n",
       "      <th>age</th>\n",
       "      <th>duration</th>\n",
       "      <th>campaign</th>\n",
       "      <th>pdays</th>\n",
       "      <th>previous</th>\n",
       "      <th>emp.var.rate</th>\n",
       "      <th>cons.price.idx</th>\n",
       "      <th>cons.conf.idx</th>\n",
       "      <th>y</th>\n",
       "      <th>job_admin.</th>\n",
       "      <th>...</th>\n",
       "      <th>month_oct</th>\n",
       "      <th>month_sep</th>\n",
       "      <th>day_of_week_fri</th>\n",
       "      <th>day_of_week_mon</th>\n",
       "      <th>day_of_week_thu</th>\n",
       "      <th>day_of_week_tue</th>\n",
       "      <th>day_of_week_wed</th>\n",
       "      <th>poutcome_failure</th>\n",
       "      <th>poutcome_nonexistent</th>\n",
       "      <th>poutcome_success</th>\n",
       "    </tr>\n",
       "  </thead>\n",
       "  <tbody>\n",
       "    <tr>\n",
       "      <td>0</td>\n",
       "      <td>56</td>\n",
       "      <td>261</td>\n",
       "      <td>1</td>\n",
       "      <td>999</td>\n",
       "      <td>0</td>\n",
       "      <td>1.1</td>\n",
       "      <td>93.994</td>\n",
       "      <td>-36.4</td>\n",
       "      <td>no</td>\n",
       "      <td>0</td>\n",
       "      <td>...</td>\n",
       "      <td>0</td>\n",
       "      <td>0</td>\n",
       "      <td>0</td>\n",
       "      <td>1</td>\n",
       "      <td>0</td>\n",
       "      <td>0</td>\n",
       "      <td>0</td>\n",
       "      <td>0</td>\n",
       "      <td>1</td>\n",
       "      <td>0</td>\n",
       "    </tr>\n",
       "    <tr>\n",
       "      <td>1</td>\n",
       "      <td>57</td>\n",
       "      <td>149</td>\n",
       "      <td>1</td>\n",
       "      <td>999</td>\n",
       "      <td>0</td>\n",
       "      <td>1.1</td>\n",
       "      <td>93.994</td>\n",
       "      <td>-36.4</td>\n",
       "      <td>yes</td>\n",
       "      <td>0</td>\n",
       "      <td>...</td>\n",
       "      <td>0</td>\n",
       "      <td>0</td>\n",
       "      <td>0</td>\n",
       "      <td>1</td>\n",
       "      <td>0</td>\n",
       "      <td>0</td>\n",
       "      <td>0</td>\n",
       "      <td>0</td>\n",
       "      <td>1</td>\n",
       "      <td>0</td>\n",
       "    </tr>\n",
       "    <tr>\n",
       "      <td>2</td>\n",
       "      <td>37</td>\n",
       "      <td>226</td>\n",
       "      <td>1</td>\n",
       "      <td>999</td>\n",
       "      <td>0</td>\n",
       "      <td>1.1</td>\n",
       "      <td>93.994</td>\n",
       "      <td>-36.4</td>\n",
       "      <td>no</td>\n",
       "      <td>0</td>\n",
       "      <td>...</td>\n",
       "      <td>0</td>\n",
       "      <td>0</td>\n",
       "      <td>0</td>\n",
       "      <td>1</td>\n",
       "      <td>0</td>\n",
       "      <td>0</td>\n",
       "      <td>0</td>\n",
       "      <td>0</td>\n",
       "      <td>1</td>\n",
       "      <td>0</td>\n",
       "    </tr>\n",
       "    <tr>\n",
       "      <td>3</td>\n",
       "      <td>40</td>\n",
       "      <td>151</td>\n",
       "      <td>1</td>\n",
       "      <td>999</td>\n",
       "      <td>0</td>\n",
       "      <td>1.1</td>\n",
       "      <td>93.994</td>\n",
       "      <td>-36.4</td>\n",
       "      <td>no</td>\n",
       "      <td>1</td>\n",
       "      <td>...</td>\n",
       "      <td>0</td>\n",
       "      <td>0</td>\n",
       "      <td>0</td>\n",
       "      <td>1</td>\n",
       "      <td>0</td>\n",
       "      <td>0</td>\n",
       "      <td>0</td>\n",
       "      <td>0</td>\n",
       "      <td>1</td>\n",
       "      <td>0</td>\n",
       "    </tr>\n",
       "    <tr>\n",
       "      <td>4</td>\n",
       "      <td>56</td>\n",
       "      <td>307</td>\n",
       "      <td>1</td>\n",
       "      <td>999</td>\n",
       "      <td>0</td>\n",
       "      <td>1.1</td>\n",
       "      <td>93.994</td>\n",
       "      <td>-36.4</td>\n",
       "      <td>no</td>\n",
       "      <td>0</td>\n",
       "      <td>...</td>\n",
       "      <td>0</td>\n",
       "      <td>0</td>\n",
       "      <td>0</td>\n",
       "      <td>1</td>\n",
       "      <td>0</td>\n",
       "      <td>0</td>\n",
       "      <td>0</td>\n",
       "      <td>0</td>\n",
       "      <td>1</td>\n",
       "      <td>0</td>\n",
       "    </tr>\n",
       "  </tbody>\n",
       "</table>\n",
       "<p>5 rows × 59 columns</p>\n",
       "</div>"
      ],
      "text/plain": [
       "   age  duration  campaign  pdays  previous  emp.var.rate  cons.price.idx  \\\n",
       "0   56       261         1    999         0           1.1          93.994   \n",
       "1   57       149         1    999         0           1.1          93.994   \n",
       "2   37       226         1    999         0           1.1          93.994   \n",
       "3   40       151         1    999         0           1.1          93.994   \n",
       "4   56       307         1    999         0           1.1          93.994   \n",
       "\n",
       "   cons.conf.idx    y  job_admin.  ...  month_oct  month_sep  day_of_week_fri  \\\n",
       "0          -36.4   no           0  ...          0          0                0   \n",
       "1          -36.4  yes           0  ...          0          0                0   \n",
       "2          -36.4   no           0  ...          0          0                0   \n",
       "3          -36.4   no           1  ...          0          0                0   \n",
       "4          -36.4   no           0  ...          0          0                0   \n",
       "\n",
       "   day_of_week_mon  day_of_week_thu  day_of_week_tue  day_of_week_wed  \\\n",
       "0                1                0                0                0   \n",
       "1                1                0                0                0   \n",
       "2                1                0                0                0   \n",
       "3                1                0                0                0   \n",
       "4                1                0                0                0   \n",
       "\n",
       "   poutcome_failure  poutcome_nonexistent  poutcome_success  \n",
       "0                 0                     1                 0  \n",
       "1                 0                     1                 0  \n",
       "2                 0                     1                 0  \n",
       "3                 0                     1                 0  \n",
       "4                 0                     1                 0  \n",
       "\n",
       "[5 rows x 59 columns]"
      ]
     },
     "execution_count": 21,
     "metadata": {},
     "output_type": "execute_result"
    }
   ],
   "source": [
    "df_encoded = pd.get_dummies(data = df, columns = categorical_variables)\n",
    "df_encoded.drop(to_drop, axis = 1, inplace = True)\n",
    "df_encoded.head()"
   ]
  },
  {
   "cell_type": "code",
   "execution_count": 22,
   "metadata": {
    "ExecuteTime": {
     "end_time": "2019-09-27T10:52:33.534332Z",
     "start_time": "2019-09-27T10:52:33.467682Z"
    },
    "colab": {
     "base_uri": "https://localhost:8080/",
     "height": 326
    },
    "colab_type": "code",
    "executionInfo": {
     "elapsed": 82668,
     "status": "ok",
     "timestamp": 1569350193257,
     "user": {
      "displayName": "Debayan Das",
      "photoUrl": "https://lh3.googleusercontent.com/a-/AAuE7mCPNX8Wtoos0c5XaxvHiR-6zcv9ODit1wL-BW_RIQ=s64",
      "userId": "17278617961040804055"
     },
     "user_tz": -330
    },
    "id": "tztGxp272SNF",
    "outputId": "840f8a47-d0cd-4af2-e9a4-106d26c3584c"
   },
   "outputs": [
    {
     "data": {
      "text/plain": [
       "Index(['age', 'duration', 'campaign', 'pdays', 'previous', 'emp.var.rate',\n",
       "       'cons.price.idx', 'cons.conf.idx', 'y', 'job_admin.', 'job_blue-collar',\n",
       "       'job_entrepreneur', 'job_housemaid', 'job_management', 'job_retired',\n",
       "       'job_self-employed', 'job_services', 'job_student', 'job_technician',\n",
       "       'job_unemployed', 'job_unknown', 'marital_divorced', 'marital_married',\n",
       "       'marital_single', 'marital_unknown', 'education_basic.4y',\n",
       "       'education_basic.6y', 'education_basic.9y', 'education_high.school',\n",
       "       'education_illiterate', 'education_professional.course',\n",
       "       'education_university.degree', 'education_unknown', 'default_no',\n",
       "       'default_unknown', 'default_yes', 'housing_no', 'housing_unknown',\n",
       "       'loan_no', 'contact_cellular', 'contact_telephone', 'month_apr',\n",
       "       'month_aug', 'month_dec', 'month_jul', 'month_jun', 'month_mar',\n",
       "       'month_may', 'month_nov', 'month_oct', 'month_sep', 'day_of_week_fri',\n",
       "       'day_of_week_mon', 'day_of_week_thu', 'day_of_week_tue',\n",
       "       'day_of_week_wed', 'poutcome_failure', 'poutcome_nonexistent',\n",
       "       'poutcome_success'],\n",
       "      dtype='object')"
      ]
     },
     "execution_count": 22,
     "metadata": {},
     "output_type": "execute_result"
    }
   ],
   "source": [
    "df_encoded.columns"
   ]
  },
  {
   "cell_type": "markdown",
   "metadata": {
    "colab_type": "text",
    "id": "_2zkN6Nj31pi"
   },
   "source": [
    "<br>\n",
    "Ought to remove the target variable $y$ because I don't want to be a part of the dataset but an independent vector"
   ]
  },
  {
   "cell_type": "code",
   "execution_count": 23,
   "metadata": {
    "ExecuteTime": {
     "end_time": "2019-09-27T10:52:33.603875Z",
     "start_time": "2019-09-27T10:52:33.537254Z"
    },
    "colab": {
     "base_uri": "https://localhost:8080/",
     "height": 35
    },
    "colab_type": "code",
    "executionInfo": {
     "elapsed": 82659,
     "status": "ok",
     "timestamp": 1569350193258,
     "user": {
      "displayName": "Debayan Das",
      "photoUrl": "https://lh3.googleusercontent.com/a-/AAuE7mCPNX8Wtoos0c5XaxvHiR-6zcv9ODit1wL-BW_RIQ=s64",
      "userId": "17278617961040804055"
     },
     "user_tz": -330
    },
    "id": "RDE6cuHevcR3",
    "outputId": "10ba40da-a067-49e8-af75-c0ce594a21da"
   },
   "outputs": [
    {
     "data": {
      "text/plain": [
       "(41188, 59)"
      ]
     },
     "execution_count": 23,
     "metadata": {},
     "output_type": "execute_result"
    }
   ],
   "source": [
    "df_encoded.shape"
   ]
  },
  {
   "cell_type": "code",
   "execution_count": 24,
   "metadata": {
    "ExecuteTime": {
     "end_time": "2019-09-27T10:52:33.794366Z",
     "start_time": "2019-09-27T10:52:33.605686Z"
    },
    "colab": {
     "base_uri": "https://localhost:8080/",
     "height": 72
    },
    "colab_type": "code",
    "executionInfo": {
     "elapsed": 82650,
     "status": "ok",
     "timestamp": 1569350193258,
     "user": {
      "displayName": "Debayan Das",
      "photoUrl": "https://lh3.googleusercontent.com/a-/AAuE7mCPNX8Wtoos0c5XaxvHiR-6zcv9ODit1wL-BW_RIQ=s64",
      "userId": "17278617961040804055"
     },
     "user_tz": -330
    },
    "id": "4f0ufxyn308S",
    "outputId": "547c2817-6476-4b8e-825e-d86653c11f08"
   },
   "outputs": [
    {
     "data": {
      "text/plain": [
       "0    36547\n",
       "1     4641\n",
       "Name: y, dtype: int64"
      ]
     },
     "execution_count": 24,
     "metadata": {},
     "output_type": "execute_result"
    }
   ],
   "source": [
    "from sklearn.preprocessing import LabelEncoder\n",
    "\n",
    "y_label_encoder = LabelEncoder()\n",
    "y_label_encoder.fit(df_encoded[\"y\"])\n",
    "df_encoded[\"y\"] = y_label_encoder.transform(df_encoded[\"y\"])\n",
    "\n",
    "df_encoded[\"y\"].value_counts()"
   ]
  },
  {
   "cell_type": "code",
   "execution_count": 25,
   "metadata": {
    "ExecuteTime": {
     "end_time": "2019-09-27T10:52:33.802211Z",
     "start_time": "2019-09-27T10:52:33.795419Z"
    },
    "colab": {},
    "colab_type": "code",
    "id": "ki6YqcOYuYxr"
   },
   "outputs": [],
   "source": [
    "y = df_encoded[\"y\"].copy(deep = True)\n",
    "df_encoded.drop(\"y\", axis = 1, inplace = True)"
   ]
  },
  {
   "cell_type": "code",
   "execution_count": 26,
   "metadata": {
    "ExecuteTime": {
     "end_time": "2019-09-27T10:52:33.884589Z",
     "start_time": "2019-09-27T10:52:33.803129Z"
    },
    "colab": {
     "base_uri": "https://localhost:8080/",
     "height": 35
    },
    "colab_type": "code",
    "executionInfo": {
     "elapsed": 82639,
     "status": "ok",
     "timestamp": 1569350193259,
     "user": {
      "displayName": "Debayan Das",
      "photoUrl": "https://lh3.googleusercontent.com/a-/AAuE7mCPNX8Wtoos0c5XaxvHiR-6zcv9ODit1wL-BW_RIQ=s64",
      "userId": "17278617961040804055"
     },
     "user_tz": -330
    },
    "id": "BeKxK1M-o0NV",
    "outputId": "441eb41c-2d9b-4761-e961-7ee3f2e292e0"
   },
   "outputs": [
    {
     "data": {
      "text/plain": [
       "((41188,), (41188, 58))"
      ]
     },
     "execution_count": 26,
     "metadata": {},
     "output_type": "execute_result"
    }
   ],
   "source": [
    "y.shape, df_encoded.shape"
   ]
  },
  {
   "cell_type": "markdown",
   "metadata": {
    "colab_type": "text",
    "id": "yoKv8MsR20wT"
   },
   "source": [
    "## 4 Preprocessing the dataset for training, testing and validation"
   ]
  },
  {
   "cell_type": "markdown",
   "metadata": {
    "colab_type": "text",
    "id": "VRirP1YeeNYJ"
   },
   "source": [
    "### 4.1 Addressing class imbalance"
   ]
  },
  {
   "cell_type": "markdown",
   "metadata": {
    "colab_type": "text",
    "id": "TFBvR0UwjJ_x"
   },
   "source": [
    "The dataset has an instristic fault of class imbalance.\n",
    "This is understandable: People don't subscribe to deposit offers usually.\n",
    "\n",
    "The idea is essentially to understand the hidden similarities of people who actually do, and then see if a new customer possess the same similarities.\n",
    "\n",
    "---\n",
    "\n",
    "(__Note__)\n",
    "\n",
    "I highly recommend reading up an introductory tutorial on [Factor Analysis](https://www.datacamp.com/community/tutorials/introduction-factor-analysis) to find latent(hidden) variables also called \"factors\" which govern the effect of certain groups of features in `df_encoded` on the response variable `y`. Let me define the concept mathematically:\n",
    "\n",
    "<br>\n",
    "\n",
    "`df_encoded` has`58` explanatory variables for `y`. We can write this as a statistical model where the explanatory variables can be modelled to predict `y`:\n",
    "\n",
    "$$\\begin{aligned} y \\sim M({x_1, x_2, x_3, ..., x_58}) \\end{aligned}$$ \n",
    "\n",
    "where $M$ is the statistical model function. Now, there may exist another statistical model $\\tilde{F}$ which can also model `y` as:\n",
    "\n",
    "$$\\begin{aligned} y \\sim \\tilde{F}({f_1, f_2, f_3, ..., f_n}) \\end{aligned}$$\n",
    "\n",
    "where $f_1, f_2, ..., f_n$ are the latent unobserved variables \"working\" behind certain \"groups\" of features from the 58 in `df_encoded`. Consider the following example image from the tutorial linked above:\n",
    "\n",
    "<img src = \"https://res.cloudinary.com/dchysltjf/image/upload/f_auto,q_auto:best/v1554830233/1.png\" width = 400 height = 350>\n",
    "\n",
    "The variables on the left are features we may have in our working dataset, while the 2 on the right are the actual albeit hidden \"factors\" underlying some groups of features. Of course, the number of factors that are available in a dataset should be less than or equal to the total number of features. It will be equal when all the features are perfectly non-collinear and have no correlation or relationship of any kind between them.\n",
    "\n",
    "__This project doesn't have any implementation of factor analysis because this is essentially a practice homework to implement a classification model using `tensorflow`.__ Doing a factor analysis can (it will, for `df_encoded`) reduce the features we have. Then, it won't make any sense to use `tensorflow` for the transformed smaller dataset of factors: A simple ML algorithm like Random Forests or Support Vector Machines can do the job instead.\n",
    "\n",
    "---"
   ]
  },
  {
   "cell_type": "code",
   "execution_count": 27,
   "metadata": {
    "ExecuteTime": {
     "end_time": "2019-09-27T10:52:34.050778Z",
     "start_time": "2019-09-27T10:52:33.889756Z"
    },
    "colab": {
     "base_uri": "https://localhost:8080/",
     "height": 323
    },
    "colab_type": "code",
    "executionInfo": {
     "elapsed": 83365,
     "status": "ok",
     "timestamp": 1569350193993,
     "user": {
      "displayName": "Debayan Das",
      "photoUrl": "https://lh3.googleusercontent.com/a-/AAuE7mCPNX8Wtoos0c5XaxvHiR-6zcv9ODit1wL-BW_RIQ=s64",
      "userId": "17278617961040804055"
     },
     "user_tz": -330
    },
    "id": "b4e2sDrxeQw4",
    "outputId": "00fcebea-cd8a-41c3-ed65-ffbb671238c5"
   },
   "outputs": [
    {
     "data": {
      "image/png": "[encoded data removed]",
      "text/plain": [
       "<Figure size 576x360 with 1 Axes>"
      ]
     },
     "metadata": {
      "needs_background": "light"
     },
     "output_type": "display_data"
    }
   ],
   "source": [
    "import matplotlib.pyplot as plt\n",
    "\n",
    "plt.rcParams['figure.figsize'] = 8, 5\n",
    "plt.tight_layout()\n",
    "\n",
    "positive_examples = y.sum()\n",
    "negative_examples = len(y) - positive_examples\n",
    "plt.barh([\"ACCEPTED DEPOSIT\", \"REJECTED DEPOSIT\"], [positive_examples, negative_examples], color = \"k\")\n",
    "plt.show()"
   ]
  },
  {
   "cell_type": "markdown",
   "metadata": {
    "colab_type": "text",
    "id": "qFXTx6fqkqB6"
   },
   "source": [
    "#### 4.1.1 Attempt at resolving this: Downsampling the majority class"
   ]
  },
  {
   "cell_type": "markdown",
   "metadata": {
    "colab_type": "text",
    "id": "Yx3qSGggkxcP"
   },
   "source": [
    "- let number of examples for minority class = `n`\n",
    "- randomly choose `n` examples from the majority class\n",
    "- create the new working dataset from these two set of examples\n",
    "\n",
    "Note:  _An alternative to this approach is using a weighted approach. Negative responses will be assigned a lower weight while the positive responses will be assigned a higher weight to counter their effect during training and on performance metrics_"
   ]
  },
  {
   "cell_type": "code",
   "execution_count": 28,
   "metadata": {
    "ExecuteTime": {
     "end_time": "2019-09-27T10:52:34.119869Z",
     "start_time": "2019-09-27T10:52:34.051841Z"
    },
    "colab": {
     "base_uri": "https://localhost:8080/",
     "height": 74
    },
    "colab_type": "code",
    "executionInfo": {
     "elapsed": 83355,
     "status": "ok",
     "timestamp": 1569350193994,
     "user": {
      "displayName": "Debayan Das",
      "photoUrl": "https://lh3.googleusercontent.com/a-/AAuE7mCPNX8Wtoos0c5XaxvHiR-6zcv9ODit1wL-BW_RIQ=s64",
      "userId": "17278617961040804055"
     },
     "user_tz": -330
    },
    "id": "J20zDk1jnrmv",
    "outputId": "3effe4c6-c023-4c1d-f969-447d3596653b"
   },
   "outputs": [],
   "source": [
    "from imblearn.under_sampling import RandomUnderSampler\n",
    "\n",
    "sampler = RandomUnderSampler(random_state = 1)\n",
    "X, Y = sampler.fit_resample(df_encoded, y)"
   ]
  },
  {
   "cell_type": "code",
   "execution_count": 29,
   "metadata": {
    "ExecuteTime": {
     "end_time": "2019-09-27T10:52:34.137772Z",
     "start_time": "2019-09-27T10:52:34.120994Z"
    },
    "colab": {
     "base_uri": "https://localhost:8080/",
     "height": 54
    },
    "colab_type": "code",
    "executionInfo": {
     "elapsed": 83346,
     "status": "ok",
     "timestamp": 1569350193995,
     "user": {
      "displayName": "Debayan Das",
      "photoUrl": "https://lh3.googleusercontent.com/a-/AAuE7mCPNX8Wtoos0c5XaxvHiR-6zcv9ODit1wL-BW_RIQ=s64",
      "userId": "17278617961040804055"
     },
     "user_tz": -330
    },
    "id": "zqtG8u8x-beO",
    "outputId": "513e8c1f-6d5f-4554-cb99-59cd3d2cbf29"
   },
   "outputs": [
    {
     "name": "stdout",
     "output_type": "stream",
     "text": [
      "(9282, 58) (9282,)\n",
      "<class 'numpy.ndarray'> <class 'numpy.ndarray'>\n"
     ]
    }
   ],
   "source": [
    "print(X.shape, Y.shape)\n",
    "print(type(X), type(Y))"
   ]
  },
  {
   "cell_type": "code",
   "execution_count": 30,
   "metadata": {
    "ExecuteTime": {
     "end_time": "2019-09-27T10:52:34.323769Z",
     "start_time": "2019-09-27T10:52:34.138767Z"
    },
    "colab": {
     "base_uri": "https://localhost:8080/",
     "height": 323
    },
    "colab_type": "code",
    "executionInfo": {
     "elapsed": 83335,
     "status": "ok",
     "timestamp": 1569350193995,
     "user": {
      "displayName": "Debayan Das",
      "photoUrl": "https://lh3.googleusercontent.com/a-/AAuE7mCPNX8Wtoos0c5XaxvHiR-6zcv9ODit1wL-BW_RIQ=s64",
      "userId": "17278617961040804055"
     },
     "user_tz": -330
    },
    "id": "oFsBnux8-wF0",
    "outputId": "436c3aae-c9ac-4071-b444-be459f22f152"
   },
   "outputs": [
    {
     "data": {
      "image/png": "[encoded data removed]",
      "text/plain": [
       "<Figure size 576x360 with 1 Axes>"
      ]
     },
     "metadata": {
      "needs_background": "light"
     },
     "output_type": "display_data"
    }
   ],
   "source": [
    "positive_examples = np.sum(Y)\n",
    "negative_examples = np.sum(~np.array(Y, dtype = bool))\n",
    "plt.barh([\"ACCEPTED DEPOSIT\", \"REJECTED DEPOSIT\"], [positive_examples, negative_examples], color = \"k\")\n",
    "plt.show()"
   ]
  },
  {
   "cell_type": "markdown",
   "metadata": {
    "colab_type": "text",
    "id": "S0jcqStY7vgL"
   },
   "source": [
    "### 4.2 Train-Validate-Test split"
   ]
  },
  {
   "cell_type": "code",
   "execution_count": 31,
   "metadata": {
    "ExecuteTime": {
     "end_time": "2019-09-27T10:52:34.330655Z",
     "start_time": "2019-09-27T10:52:34.324968Z"
    },
    "colab": {},
    "colab_type": "code",
    "id": "br-lvf9I2nXD"
   },
   "outputs": [],
   "source": [
    "from sklearn.model_selection import train_test_split\n",
    "\n",
    "x_train, x_test, y_train, y_test = train_test_split(X, Y, test_size = 20/100, random_state = 1)\n",
    "x_val, x_test, y_val, y_test = train_test_split(x_test, y_test, test_size = 8/20, random_state = 1)"
   ]
  },
  {
   "cell_type": "code",
   "execution_count": 32,
   "metadata": {
    "ExecuteTime": {
     "end_time": "2019-09-27T10:52:34.405975Z",
     "start_time": "2019-09-27T10:52:34.331782Z"
    },
    "colab": {
     "base_uri": "https://localhost:8080/",
     "height": 35
    },
    "colab_type": "code",
    "executionInfo": {
     "elapsed": 83324,
     "status": "ok",
     "timestamp": 1569350193997,
     "user": {
      "displayName": "Debayan Das",
      "photoUrl": "https://lh3.googleusercontent.com/a-/AAuE7mCPNX8Wtoos0c5XaxvHiR-6zcv9ODit1wL-BW_RIQ=s64",
      "userId": "17278617961040804055"
     },
     "user_tz": -330
    },
    "id": "K72K-3on-7QB",
    "outputId": "211f8296-01d1-4482-a23a-bef1f1a1dbff"
   },
   "outputs": [
    {
     "data": {
      "text/plain": [
       "((7425,), (1114,), (743,))"
      ]
     },
     "execution_count": 32,
     "metadata": {},
     "output_type": "execute_result"
    }
   ],
   "source": [
    "y_train.shape, y_val.shape, y_test.shape"
   ]
  },
  {
   "cell_type": "code",
   "execution_count": 33,
   "metadata": {
    "ExecuteTime": {
     "end_time": "2019-09-27T10:52:34.493781Z",
     "start_time": "2019-09-27T10:52:34.407614Z"
    },
    "colab": {
     "base_uri": "https://localhost:8080/",
     "height": 35
    },
    "colab_type": "code",
    "executionInfo": {
     "elapsed": 83316,
     "status": "ok",
     "timestamp": 1569350193997,
     "user": {
      "displayName": "Debayan Das",
      "photoUrl": "https://lh3.googleusercontent.com/a-/AAuE7mCPNX8Wtoos0c5XaxvHiR-6zcv9ODit1wL-BW_RIQ=s64",
      "userId": "17278617961040804055"
     },
     "user_tz": -330
    },
    "id": "2tvZBKpY-iDa",
    "outputId": "f4debefa-504d-4822-801c-01b43ca51247"
   },
   "outputs": [
    {
     "data": {
      "text/plain": [
       "((7425, 58), (1114, 58), (743, 58))"
      ]
     },
     "execution_count": 33,
     "metadata": {},
     "output_type": "execute_result"
    }
   ],
   "source": [
    "x_train.shape, x_val.shape, x_test.shape"
   ]
  },
  {
   "cell_type": "markdown",
   "metadata": {
    "colab_type": "text",
    "id": "V6DhvnVK9TFa"
   },
   "source": [
    "### 4.3 Min-Max Feature Scaling\n",
    "\n",
    "I will perform min-max feature scaling for every numeric variable in the three subsets"
   ]
  },
  {
   "cell_type": "code",
   "execution_count": 34,
   "metadata": {
    "ExecuteTime": {
     "end_time": "2019-09-27T10:52:34.566387Z",
     "start_time": "2019-09-27T10:52:34.498728Z"
    },
    "colab": {},
    "colab_type": "code",
    "id": "8sEf8jOM9JS-"
   },
   "outputs": [],
   "source": [
    "from sklearn.preprocessing import MinMaxScaler\n",
    "\n",
    "train_scaler = MinMaxScaler()\n",
    "x_train = train_scaler.fit_transform(x_train)\n",
    "\n",
    "val_scaler = MinMaxScaler()\n",
    "x_val = val_scaler.fit_transform(x_val)\n",
    "\n",
    "test_scaler = MinMaxScaler()\n",
    "x_test = val_scaler.fit_transform(x_test)"
   ]
  },
  {
   "cell_type": "markdown",
   "metadata": {
    "colab_type": "text",
    "id": "D7kfJKM4_sXx"
   },
   "source": [
    "## 5 Dumping records in `TFRecord` files"
   ]
  },
  {
   "cell_type": "markdown",
   "metadata": {
    "colab_type": "text",
    "id": "kQOHo4l0em1-"
   },
   "source": [
    "### 5.1 Initializing a dictionary of necessary hyperparameters"
   ]
  },
  {
   "cell_type": "code",
   "execution_count": 35,
   "metadata": {
    "ExecuteTime": {
     "end_time": "2019-09-27T10:52:34.628381Z",
     "start_time": "2019-09-27T10:52:34.567455Z"
    },
    "colab": {},
    "colab_type": "code",
    "id": "u6ZnvLJa--HM"
   },
   "outputs": [],
   "source": [
    "FLAGS = dict(tensorboard_data_dump = \"./tensorboard_data_dump/\",\n",
    "             number_of_features = x_train.shape[1],\n",
    "             batch_size = 64,\n",
    "             validation_batch_size = x_val.shape[0],\n",
    "             test_batch_size = x_test.shape[0],\n",
    "             num_parallel_calls = 3,\n",
    "             shuffle_buffer = 64,\n",
    "             prefetch_buffer = 3,\n",
    "             epochs = 100,\n",
    "             learning_rate = 1e-4)"
   ]
  },
  {
   "cell_type": "code",
   "execution_count": 36,
   "metadata": {
    "ExecuteTime": {
     "end_time": "2019-09-27T10:52:34.772587Z",
     "start_time": "2019-09-27T10:52:34.629501Z"
    },
    "colab": {
     "base_uri": "https://localhost:8080/",
     "height": 126
    },
    "colab_type": "code",
    "executionInfo": {
     "elapsed": 83305,
     "status": "ok",
     "timestamp": 1569350193999,
     "user": {
      "displayName": "Debayan Das",
      "photoUrl": "https://lh3.googleusercontent.com/a-/AAuE7mCPNX8Wtoos0c5XaxvHiR-6zcv9ODit1wL-BW_RIQ=s64",
      "userId": "17278617961040804055"
     },
     "user_tz": -330
    },
    "id": "KeMy-Ns6O0oq",
    "outputId": "ee24249b-419c-41ca-9856-cbf2bbfd2afb"
   },
   "outputs": [
    {
     "data": {
      "text/plain": [
       "{'tensorboard_data_dump': './tensorboard_data_dump/',\n",
       " 'number_of_features': 58,\n",
       " 'batch_size': 64,\n",
       " 'validation_batch_size': 1114,\n",
       " 'test_batch_size': 743,\n",
       " 'num_parallel_calls': 3,\n",
       " 'shuffle_buffer': 64,\n",
       " 'prefetch_buffer': 3,\n",
       " 'epochs': 100,\n",
       " 'learning_rate': 0.0001}"
      ]
     },
     "execution_count": 36,
     "metadata": {},
     "output_type": "execute_result"
    }
   ],
   "source": [
    "FLAGS"
   ]
  },
  {
   "cell_type": "markdown",
   "metadata": {
    "colab_type": "text",
    "id": "0vwySRufesVb"
   },
   "source": [
    "### 5.2 Creating tfRecord dump directories"
   ]
  },
  {
   "cell_type": "code",
   "execution_count": 37,
   "metadata": {
    "ExecuteTime": {
     "end_time": "2019-09-27T10:52:35.238432Z",
     "start_time": "2019-09-27T10:52:34.773469Z"
    },
    "colab": {},
    "colab_type": "code",
    "id": "xkq4dc5uA7D5"
   },
   "outputs": [],
   "source": [
    "!mkdir -p \"train_tfrecords\"\n",
    "!mkdir -p \"test_tfrecords\"\n",
    "!mkdir -p \"val_tfrecords\""
   ]
  },
  {
   "cell_type": "code",
   "execution_count": 38,
   "metadata": {
    "ExecuteTime": {
     "end_time": "2019-09-27T10:52:35.252178Z",
     "start_time": "2019-09-27T10:52:35.244643Z"
    },
    "colab": {},
    "colab_type": "code",
    "id": "d7E24z_SA4hK"
   },
   "outputs": [],
   "source": [
    "train_dump = \"./train_tfrecords/\"\n",
    "test_dump = \"./test_tfrecords/\"\n",
    "val_dump = \"./val_tfrecords/\""
   ]
  },
  {
   "cell_type": "markdown",
   "metadata": {
    "colab_type": "text",
    "id": "5W28OD5Pf3S8"
   },
   "source": [
    "### Defining a function to dump a batched subset of a dataset\n",
    "\n",
    "- `x_subset` = subset (sliced) `numpy.ndarray`\n",
    " - _`x_subset` is expected to be a matrix in the context of this project_\n",
    " \n",
    "- `y_subset` = subset (sliced) `numpy.ndarray`\n",
    " - _`y_subset` is expected to be a vector with the same number of rows as that of `x_subset`_\n",
    " \n",
    "- `writer` =  An instance of `tf.python_io.TFRecordWriter` which has been initialized with a dump directory path. \n",
    "\n",
    "<br>\n",
    "\n",
    "***How does the dumping work?***\n",
    "\n",
    "- Initialize a writer object `writer`\n",
    "- Convert all your dump data to lists (because the dumper only works with lists)\n",
    " - Since our numpy array is essentially a form of nested list, I need to extract each row(sub-list) from the nested list and then pass it to `tf.train.Feature`\n",
    "- Create a `tf.train.Feature` object out of each wrapped-up data variable seperately. Use the appropiate argument name: `float_list`, `int32_list`, `int64_list`\n",
    "- Create a native `dict` out of the `tf.train.Feature` instances by associating a key with each of them. This `dict` will now serve as a schema of storage and retrieval for each feature-label pair.\n",
    "- Wrap the `dict` in a `tf.train.Example`. In essence, each row in the dataset is now a single `Example` object to be fed into a Tensorflow Data-Flow Graph.\n",
    "\n",
    "\n",
    "***Why do we do this?***\n",
    "\n",
    "- Need for speed\n",
    "- Setting a highly-parallelized, optimized and efficient pipeline for flow of data"
   ]
  },
  {
   "cell_type": "code",
   "execution_count": 39,
   "metadata": {
    "ExecuteTime": {
     "end_time": "2019-09-27T10:52:35.329838Z",
     "start_time": "2019-09-27T10:52:35.257424Z"
    },
    "colab": {},
    "colab_type": "code",
    "id": "wYPBgz7GF6Co"
   },
   "outputs": [],
   "source": [
    "def dump_into_tf_record_file(x, y, writer):\n",
    "    data = x.tolist()\n",
    "    label = y\n",
    "    data = tf.train.Feature(float_list = tf.train.FloatList(value = data))\n",
    "    label = tf.train.Feature(float_list = tf.train.FloatList(value = [label]))\n",
    "    feature_dict = {\"features\":data, \"label\":label}\n",
    "    feature_dict = tf.train.Features(feature = feature_dict)\n",
    "    example = tf.train.Example(features = feature_dict)\n",
    "    writer.write(example.SerializeToString())"
   ]
  },
  {
   "cell_type": "markdown",
   "metadata": {
    "colab_type": "text",
    "id": "1zevQ0lojoBG"
   },
   "source": [
    "### 5.3 Defining a function to dump a dataset as tfRecord files in a specified directory\n",
    "\n",
    "- `dataset` = the `numpy.ndarray` of feature matrix to be dumped\n",
    "- `labels` = the `numpy.ndarray` vector of output/target/response variable for `dataset`\n",
    "- `dump_directory` = path to the local directory where the tfRecord files will be dumped\n",
    "- `batch_size` = how many rows of `dataset` and `labels` will be there in each tfRecord file\n",
    "\n",
    "The function will accept a dataset matrix and a label vector, divide it up by the batch size specified and then write each row of the dataset matrix and single label value associated with it in a `tfrecord` dump file."
   ]
  },
  {
   "cell_type": "code",
   "execution_count": 40,
   "metadata": {
    "ExecuteTime": {
     "end_time": "2019-09-27T10:52:35.440211Z",
     "start_time": "2019-09-27T10:52:35.331905Z"
    },
    "colab": {},
    "colab_type": "code",
    "id": "t9ydNLBDIZ49"
   },
   "outputs": [],
   "source": [
    "def dump_dataset_into_tf_records(dataset, labels, dump_directory, batch_size):\n",
    "    m = dataset.shape[0]\n",
    "    i = 0\n",
    "    j = 0\n",
    "    writer = None\n",
    "    while(i < m):\n",
    "        if i % batch_size == 0:\n",
    "            if writer is not None:\n",
    "                writer.close()\n",
    "            j = j + 1\n",
    "            record_file_name = dump_directory  + \"Batch_\" + str(j) + \".tfrecord\"\n",
    "            writer = tf.python_io.TFRecordWriter(record_file_name)\n",
    "        x = dataset[i, :]\n",
    "        y = labels[i]\n",
    "        dump_into_tf_record_file(x, y, writer)\n",
    "        i = i + 1"
   ]
  },
  {
   "cell_type": "markdown",
   "metadata": {
    "colab_type": "text",
    "id": "wFIPMFf4kdoi"
   },
   "source": [
    "### 5.4 Dump `x_train` and `y_train` at `./train_tfrecords`"
   ]
  },
  {
   "cell_type": "code",
   "execution_count": 41,
   "metadata": {
    "ExecuteTime": {
     "end_time": "2019-09-27T10:52:36.152776Z",
     "start_time": "2019-09-27T10:52:35.441179Z"
    },
    "colab": {},
    "colab_type": "code",
    "id": "zGDSmvA_OX8Z"
   },
   "outputs": [],
   "source": [
    "!rm -rf $train_dump/*\n",
    "dump_dataset_into_tf_records(x_train, y_train, train_dump, 500)"
   ]
  },
  {
   "cell_type": "markdown",
   "metadata": {
    "colab_type": "text",
    "id": "5647boQQknL6"
   },
   "source": [
    "### 5.5 Dump `x_val` and `y_val` at `./val_tfrecords`"
   ]
  },
  {
   "cell_type": "code",
   "execution_count": 42,
   "metadata": {
    "ExecuteTime": {
     "end_time": "2019-09-27T10:52:36.361430Z",
     "start_time": "2019-09-27T10:52:36.154028Z"
    },
    "colab": {},
    "colab_type": "code",
    "id": "z5PKcr9UPGn7"
   },
   "outputs": [],
   "source": [
    "!rm -rf $val_dump/*\n",
    "dump_dataset_into_tf_records(x_val, y_val, val_dump, 500)"
   ]
  },
  {
   "cell_type": "markdown",
   "metadata": {
    "colab_type": "text",
    "id": "AkGMDBjPmxuu"
   },
   "source": [
    "### 5.6 Dump `x_test` and `y_test` at `./test_tfrecords`"
   ]
  },
  {
   "cell_type": "code",
   "execution_count": 43,
   "metadata": {
    "ExecuteTime": {
     "end_time": "2019-09-27T10:52:36.552317Z",
     "start_time": "2019-09-27T10:52:36.362664Z"
    },
    "colab": {},
    "colab_type": "code",
    "id": "2POqTmIcRQjb"
   },
   "outputs": [],
   "source": [
    "!rm -rf $test_dump/*\n",
    "dump_dataset_into_tf_records(x_test, y_test, test_dump, 500)"
   ]
  },
  {
   "cell_type": "markdown",
   "metadata": {
    "colab_type": "text",
    "id": "hp00BewRbhP-"
   },
   "source": [
    "## 5.7 Creating Input Pipeline using tfRecords"
   ]
  },
  {
   "cell_type": "markdown",
   "metadata": {
    "colab_type": "text",
    "id": "LW62fXxnm7Nz"
   },
   "source": [
    "### 5.7.1 Defining a function to retrive the tfRecord files from a directory in an efficient sequential manner\n",
    "\n",
    "- Create an object of `tf.data.Dataset` by passing a list of the `tfrecord` files in the specified dump directory path\n",
    "- Convert each `tf.train.Example` object as it is read from the `tfrecord` files back into the `feature_dict` format we specified before: `{\"features\":data, \"label\":label}`. This is done using the `tf.data.Dataset.map` method.\n",
    "- To enhance the convertion from `Example` object to the `feature_dict` format, I specified an additional argument of `num_parallel_calls` = 3 (as specified previously in `FLAGS[\"num_parallel_calls\"]`). Each conversion is independent of each other and hence this will allow to parallely convert 3 `Example` objects to `feature_dict` format.\n",
    "- I also chose to shuffle the dataset during the retrieval pipeline and perform an indefinite random repeat of the data. This makes sure my model has no problem of \"finishing\" up the data flow.\n",
    "- To further enhance the performance of the training process, I used `tf.train.Dataset.prefetch` method to set how many `tf.train.Example` objects will be fetched before it's turn has arrived to be fed into the Data-Flow graph\n",
    "\n",
    "(__Note__)\n",
    "\n",
    "This method (or more technically speaking, the pipeline construction on `tf.data.Dataset`) is most prone to bugs during implementation. This method defines how the `tensorflow` graph will receive data and how it will be trained (epochs and mini-batches per epoch). I spent 2 weeks trying to debug various errors like `OutOfRange`, `labels are []`, `NextIterator:0 End of sequence`. Here are some precautionary steps I took to debug them all, with the help of my instructor Artem:\n",
    "\n",
    "1. `shuffle` must come before `batch`\n",
    "2. Based on how many epochs and how many mini-batches you will have during training, please set your `batch_size` and `prefetch_buffer` accordingly\n",
    "3. You would want your validation data to be the whole thing as 1 batch only. Then, don't perform `prefetch`.\n",
    "4. The same (3) should follow for your testing data.\n",
    "5. If you want to perform batched validation and testing on your model, set up your validation and testing pipeline accordingly."
   ]
  },
  {
   "cell_type": "code",
   "execution_count": 44,
   "metadata": {
    "ExecuteTime": {
     "end_time": "2019-09-27T10:52:36.558471Z",
     "start_time": "2019-09-27T10:52:36.553780Z"
    },
    "colab": {},
    "colab_type": "code",
    "id": "FU_RN70uNJ8-"
   },
   "outputs": [],
   "source": [
    "from os import listdir\n",
    "\n",
    "def get_dataset(directory,\n",
    "                type_of_dataset,\n",
    "                batch_size, \n",
    "                shuffle_size = FLAGS[\"shuffle_buffer\"], \n",
    "                buffer_size = FLAGS[\"prefetch_buffer\"]):\n",
    "    \n",
    "    record_file_names = [directory + file_name for file_name in listdir(directory)]\n",
    "    dataset = tf.data.TFRecordDataset(record_file_names)\n",
    "    dataset = dataset.map(parse_record, num_parallel_calls = FLAGS[\"num_parallel_calls\"])\n",
    "    \n",
    "    # error: data shape becomes [1, 1] instead of [FLAGS[\"batch_size\"], 1]\n",
    "    # solution offered by Artem on 26 September 2019 1427 hours IST: order of op: shuffle, batch\n",
    "    if type_of_dataset.upper() == \"TRAINING\":\n",
    "        dataset = dataset.shuffle(buffer_size = shuffle_size)\n",
    "    \n",
    "    dataset = dataset.repeat()\n",
    "    dataset = dataset.batch(batch_size)\n",
    "    \n",
    "    # error: validation and test data are 1 batch only so no need to prefect for them\n",
    "    # solution found by myself on 27 September 2019 Late Midnight IST\n",
    "    if type_of_dataset.upper() == \"TRAINING\":\n",
    "        dataset = dataset.prefetch(buffer_size = buffer_size)    \n",
    "    else:\n",
    "        dataset = dataset.prefetch(buffer_size = 1)   \n",
    "    return(dataset)"
   ]
  },
  {
   "cell_type": "markdown",
   "metadata": {
    "colab_type": "text",
    "id": "lRrTsZ1CoW0b"
   },
   "source": [
    "### 5.7.2 Defining a function to parse each `tf.train.Example` from the tfRecord files"
   ]
  },
  {
   "cell_type": "code",
   "execution_count": 45,
   "metadata": {
    "ExecuteTime": {
     "end_time": "2019-09-27T10:52:36.678897Z",
     "start_time": "2019-09-27T10:52:36.559480Z"
    },
    "colab": {},
    "colab_type": "code",
    "id": "Skb0OmQMbvPN"
   },
   "outputs": [],
   "source": [
    "def parse_record(serialized_record):\n",
    "    features_dict = {\"features\":tf.FixedLenFeature([FLAGS[\"number_of_features\"]], tf.float32),\n",
    "                     \"label\":tf.FixedLenFeature([1], tf.float32)}\n",
    "    parsed = tf.parse_single_example(serialized = serialized_record, features = features_dict)\n",
    "\n",
    "    data = parsed[\"features\"]\n",
    "    label = parsed[\"label\"]\n",
    "    \n",
    "    data = tf.cast(data, tf.float32)\n",
    "    label = tf.cast(label, tf.int32)\n",
    "    \n",
    "    return((data, label))"
   ]
  },
  {
   "cell_type": "markdown",
   "metadata": {
    "colab_type": "text",
    "id": "x5nF6VUtcuKN"
   },
   "source": [
    "## 6 Designing the DataFlow Graph and executing a session"
   ]
  },
  {
   "cell_type": "markdown",
   "metadata": {
    "colab_type": "text",
    "id": "u2cb6pz-o-Fh"
   },
   "source": [
    "### 6.1 Logical structure of the Data Flow Graph as an user-defined Python Class object"
   ]
  },
  {
   "cell_type": "markdown",
   "metadata": {
    "colab_type": "text",
    "id": "WLUWU0ZT-Je0"
   },
   "source": [
    "***Base Model Class***\n",
    "\n",
    "- this class will define the weight matrices, the bias vectors and their corresponding initializers\n",
    "- this class will most importantly define the feed-forward architecture of the fully-connected neural network\n",
    "- I took inspiration from François Chollet's `keras` framework which serves as a high-level wrapper API for Tensorflow (as well as other backends) and decided to write this class as a wrapper for creating custom Data Flow Graphs in Tensorflow\n",
    "\n",
    "<br>\n",
    "\n",
    "- `FCNN` will be my base model class name\n",
    "- the class will be initalizer with defining the weight and bias tensor initializers\n",
    "- the class will have a method `add_weight_matrix` which will add a weight matrix to the FCNN. The order in which the method is called to add the weight matrix determines the hidden layer to which the weight matrix will be associated.\n",
    "- similarly, the class have a method `add_bias_vector`\n",
    "- the most important method of the class will be `forward_propagation` which creates the Data Flow graph using the defined weight and bias tensors and returns the graph generated till the last hidden layer and the classification output generated"
   ]
  },
  {
   "cell_type": "markdown",
   "metadata": {
    "colab_type": "text",
    "id": "gOVEJB-Sv2hz"
   },
   "source": [
    "***Justification for variable names used in `FCNN.forward_propagation`***\n",
    "\n",
    "For $X =$ `x_subset` (a batch of features),\n",
    "- linear model $z = X.W^T + B$\n",
    "- actual hypothesis equation $h = g(z)$ where $g$ is a non-linear function. Some of the [desirable properties](https://en.wikipedia.org/wiki/Activation_function#Comparison_of_activation_functions) of $g$ are:\n",
    "    - Non-linearity (this is what makes Neural Networks _universal function approximators_)\n",
    "    - Continuously differentiable\n",
    "    - Monotonic\n",
    "    - Smooth with monotonic derivative\n",
    "    - Identity approximation near Origin \n",
    "- For $g$ = ReLU, \n",
    "$\\begin{equation}\n",
    "g(z) = \\begin{cases} \n",
    "            0, & \\text{if}\\ z \\leq 0 \\\\\n",
    "            z, & \\text{if}\\ z > 0\n",
    "        \\end{cases}\n",
    "\\end{equation}$\n",
    "- $\\hat{y}$ (pronounced `y-hat` or `y-cap`) $= g'(h)$ where $g'$ is a special activation function which gives the final desired output in a set domain.\n",
    "    - For classification problems,\n",
    "        - If it is a binary classification problem, $g'$ can be $\\sigma$ where $\\sigma(z) = \\frac{1}{1 + e^{-z}}$ (most preferred)\n",
    "        - If it is a multi-class classification problem where each of the classes are mutually exclusive, $g'$ can be the softmax function where $g'(z) = \\frac{e^z_i}{\\sum\\limits_{j=1}^J {e^{z_j}}}$ where $J = $ number of output classes the solution requires\n",
    "    - For regression problems, a linear function with the desirable output domain will do the job. ( _provided the input has been normalized_ )\n",
    "\n",
    "<br>\n",
    "\n",
    "`forward_propagation` returns $h$ and $\\hat{y}$ which are also called `logits` and `prediction` in `tensorflow` vocabulary."
   ]
  },
  {
   "cell_type": "code",
   "execution_count": 46,
   "metadata": {
    "ExecuteTime": {
     "end_time": "2019-09-27T10:52:36.772162Z",
     "start_time": "2019-09-27T10:52:36.682497Z"
    },
    "colab": {},
    "colab_type": "code",
    "id": "HG2ONvYjBK55"
   },
   "outputs": [],
   "source": [
    "class FCNN:\n",
    "    \n",
    "    def __init__(self, \n",
    "                 weight_initializer = tf.random_normal_initializer(mean = 0.0, stddev = 0.25),\n",
    "                 bias_initializer = tf.zeros_initializer()):\n",
    "        self.weight_initializer = weight_initializer\n",
    "        self.bias_initializer = bias_initializer\n",
    "        self.weights = []\n",
    "        self.biases = []\n",
    "    \n",
    "    def add_weight_matrix(self, \n",
    "                          shape, \n",
    "                          scope_name = \"WEIGHTS\", \n",
    "                          dtype = tf.float32):\n",
    "        \n",
    "        with tf.name_scope(scope_name):\n",
    "            i = len(self.weights)                                              \n",
    "            self.weights.append(tf.get_variable(name = \"W\" + str(i),\n",
    "                                                shape = shape, \n",
    "                                                dtype = dtype,\n",
    "                                                initializer = self.weight_initializer))\n",
    "    \n",
    "    def add_bias_vector(self, \n",
    "                        shape, \n",
    "                        scope_name = \"BIASES\", \n",
    "                        dtype = tf.float32):\n",
    "        \n",
    "        with tf.name_scope(scope_name):\n",
    "            i = len(self.biases)\n",
    "            self.biases.append(tf.get_variable(name = \"B\" + str(i),\n",
    "                                               shape = shape,\n",
    "                                               dtype = dtype,\n",
    "                                               initializer = self.bias_initializer))\n",
    "    \n",
    "    def forward_propagation(self, \n",
    "                            x_subset, \n",
    "                            output_activation_function = tf.nn.softmax, \n",
    "                            scope_name = \"FEED_FORWARD_PROPAGATION\"):\n",
    "        \n",
    "        with tf.name_scope(scope_name):\n",
    "            x = x_subset\n",
    "            for i in range(len(self.biases)):\n",
    "                z = tf.matmul(x, self.weights[i]) + self.biases[i]\n",
    "                h = tf.nn.relu(z)\n",
    "                x = h\n",
    "            h = tf.matmul(x, self.weights[-1], name = \"LOGITS\")\n",
    "            yhat = output_activation_function(h, name = \"SOFMAX_PREDICTION_FROM_LOGITS\")\n",
    "            return((h, yhat))"
   ]
  },
  {
   "cell_type": "markdown",
   "metadata": {
    "colab_type": "text",
    "id": "dbrbHOVWNrxv"
   },
   "source": [
    "***Train Model Class***\n",
    "\n",
    "- this class will be a child of `FCNN`\n",
    "- this class will contain methods to define the loss function and  compute the loss incured by the Neural Network (FCNN instance)\n",
    "- the most important method of this child class will be to define the back propagation of loss gradients"
   ]
  },
  {
   "cell_type": "code",
   "execution_count": 47,
   "metadata": {
    "ExecuteTime": {
     "end_time": "2019-09-27T10:52:36.883357Z",
     "start_time": "2019-09-27T10:52:36.773715Z"
    },
    "colab": {},
    "colab_type": "code",
    "id": "RxOHW5hyBrFJ"
   },
   "outputs": [],
   "source": [
    "class myModel(FCNN):\n",
    "    \n",
    "    def __init__(self, batch_size, learning_rate):\n",
    "        self.batch_size = batch_size\n",
    "        self.learning_rate = learning_rate\n",
    "        super(myModel, self).__init__()\n",
    "    \n",
    "    def compute_loss_incured(self, \n",
    "                             y_subset, \n",
    "                             h, \n",
    "                             loss_function = tf.nn.sparse_softmax_cross_entropy_with_logits, \n",
    "                             scope_name = \"LOSS\", \n",
    "                             add_penalty = True):\n",
    "        \n",
    "        with tf.name_scope(scope_name):\n",
    "            \n",
    "            # because dimensions of y_subset are (FLAGS[\"batch_size\"], 1)\n",
    "            labels = tf.squeeze(y_subset)\n",
    "\n",
    "            cross_entropy = loss_function(labels = labels, \n",
    "                                          logits = h, \n",
    "                                          name = \"CROSS_ENTROPY_LOSS\")\n",
    "            loss = tf.reduce_mean(cross_entropy, name = \"AVERAGE_CROSS_ENTROPY_LOSS\")\n",
    "            \n",
    "            if add_penalty:\n",
    "                l2_loss = tf.add_n([tf.nn.l2_loss(T) for T in tf.trainable_variables()])\n",
    "                loss = loss + self.learning_rate * l2_loss\n",
    "        \n",
    "        return(loss)\n",
    "    \n",
    "    def compute_naive_accuracy(self, \n",
    "                               x_subset, \n",
    "                               y_subset, \n",
    "                               scope_name = \"NAIVE_ACCURACY\"):\n",
    "        \n",
    "        with tf.name_scope(scope_name):\n",
    "            _, yhat = self.forward_propagation(x_subset)\n",
    "            \n",
    "            # because dimensions of y_subset are (FLAGS[\"batch_size\"], 1)\n",
    "            labels = tf.squeeze(y_subset)\n",
    "\n",
    "            # because when tf.argmax(axis = 1) will return column IDs as integers\n",
    "            labels = tf.cast(labels, tf.int64)\n",
    "\n",
    "            '''\n",
    "            yhat is a matrix of dimensions (FLAGS[\"batch_size\"], number of classes = 2).\n",
    "            labels will be a vector of length = FLAGS[\"batch_size]\n",
    "\n",
    "            Using tf.argmax on yhat along the row axis(axis = 1), we find the column which has the\n",
    "            maximum softmax probability, For the first column, ID will be 0. For the second, it will\n",
    "            be 1. Incidentally, labels are also binary.\n",
    "\n",
    "            Hence, class_ID_predicted should have dtype = an int type.\n",
    "\n",
    "            Possible question: Are you sure the predictions mean what they should, after \n",
    "            applying tf.argmax?\n",
    "            '''\n",
    "            class_ID_predicted = tf.argmax(yhat, axis = 1)\n",
    "\n",
    "            # row-wise comparision of equality like xnor\n",
    "            is_each_predicted_class_ID_correct = tf.equal(class_ID_predicted, labels)\n",
    "            \n",
    "            # to compute the accuracy using tf.reduce_mean, the values now need to be in a float type\n",
    "            is_each_predicted_class_ID_correct = tf.cast(is_each_predicted_class_ID_correct, tf.float32)\n",
    "\n",
    "            # add the values in is_each_predicted_class_ID_correct and divide by the length of the same\n",
    "            accuracy = tf.reduce_mean(is_each_predicted_class_ID_correct)\n",
    "        \n",
    "        return(accuracy)\n",
    "    \n",
    "    def backward_propagation(self, \n",
    "                             loss, \n",
    "                             scope_name = \"BACKWARD_PROPAGATION\"):\n",
    "        \n",
    "        with tf.name_scope(scope_name):\n",
    "            trainable_variables = tf.trainable_variables()\n",
    "            gradients = tf.gradients(loss, trainable_variables, name = \"dL\")\n",
    "            optimizer = tf.train.AdamOptimizer(learning_rate = self.learning_rate, name = \"Min_dL\")\n",
    "            \n",
    "            '''\n",
    "            Exact Live Documentation on how apply_gradients can be found at this link:\n",
    "            https://github.com/tensorflow/tensorflow/blob/r1.14/tensorflow/python/training/optimizer.py#L531-L637\n",
    "\n",
    "            '''\n",
    "            update_operation = optimizer.apply_gradients(grads_and_vars = zip(gradients, trainable_variables),\n",
    "                                                         name = \"dL_update\")\n",
    "        \n",
    "        return(update_operation)"
   ]
  },
  {
   "cell_type": "markdown",
   "metadata": {
    "colab_type": "text",
    "id": "T3sLJsPDfpwa"
   },
   "source": [
    "<br>\n",
    "<br>\n",
    "\n",
    "***Performance Evaluation Metrics***\n",
    "\n",
    "- Recall\n",
    "- Precision\n",
    "- F1 score\n",
    "- AUC"
   ]
  },
  {
   "cell_type": "code",
   "execution_count": 48,
   "metadata": {
    "ExecuteTime": {
     "end_time": "2019-09-27T10:52:36.987956Z",
     "start_time": "2019-09-27T10:52:36.888452Z"
    },
    "colab": {},
    "colab_type": "code",
    "id": "mw1T6l1nBrHw"
   },
   "outputs": [],
   "source": [
    "from sklearn.metrics import confusion_matrix, roc_auc_score, classification_report\n",
    "\n",
    "def evaluate_model(y_subset, yhat, pos_label_scores, interpretations_of_labels = None, complete = True):    \n",
    "    if complete:\n",
    "        print(classification_report(y_true = y_subset,\n",
    "                                    y_pred = yhat,\n",
    "                                    target_names = interpretations_of_labels,\n",
    "                                    digits = 2))\n",
    "    else:\n",
    "        tn, fp, fn, tp = confusion_matrix(y_subset, yhat).ravel() \n",
    "        \n",
    "        precision = tp / (tp + fp)\n",
    "        recall = tp / (tp + fn)\n",
    "        f1 = (2 * precision * recall) / (precision + recall)\n",
    "        auc = roc_auc_score(y_subset, pos_label_scores)\n",
    "        \n",
    "        print('Precision: %0.02f%% '% (precision * 100))\n",
    "        print('Recall: %0.02f%% '% (recall * 100))\n",
    "        print('F1 score: %0.02f%% '% (f1 * 100))\n",
    "        print('AUC: %0.02f%%' % (auc * 100))"
   ]
  },
  {
   "cell_type": "markdown",
   "metadata": {
    "colab_type": "text",
    "id": "4a9n5kAjc2fU"
   },
   "source": [
    "### 6.2 Defining Session Protocols"
   ]
  },
  {
   "cell_type": "code",
   "execution_count": 49,
   "metadata": {
    "ExecuteTime": {
     "end_time": "2019-09-27T10:52:37.120943Z",
     "start_time": "2019-09-27T10:52:36.991260Z"
    },
    "colab": {},
    "colab_type": "code",
    "id": "r9lrrvi2cky1"
   },
   "outputs": [],
   "source": [
    "config = tf.ConfigProto(log_device_placement = True)\n",
    "config.gpu_options.allow_growth = False"
   ]
  },
  {
   "cell_type": "markdown",
   "metadata": {
    "colab_type": "text",
    "id": "J_D-z6LAc7T1"
   },
   "source": [
    "### 6.3 Create  the DataFlow Graph"
   ]
  },
  {
   "cell_type": "code",
   "execution_count": 50,
   "metadata": {
    "ExecuteTime": {
     "end_time": "2019-09-27T10:52:37.568024Z",
     "start_time": "2019-09-27T10:52:37.123742Z"
    },
    "colab": {},
    "colab_type": "code",
    "id": "xEn1xtlSiACw"
   },
   "outputs": [
    {
     "name": "stdout",
     "output_type": "stream",
     "text": [
      "Training Batch Size = 64, so number of mini-batches for each epoch = 116\n",
      "After forward propagation, shape of h (logits) =  (?, 2)\n",
      "Shape of INPUT FEATURES (train, validation, test) =  (?, 58) (?, 58) (?, 58)\n",
      "Shape of GROUND TRUTH LABEL (train, validation, test) =  (?, 1) (?, 1) (?, 1)\n"
     ]
    }
   ],
   "source": [
    "G = tf.Graph()\n",
    "\n",
    "with G.as_default():\n",
    "    \n",
    "    with tf.name_scope(\"INPUT_PIPELINE\"):\n",
    "        \n",
    "        train = get_dataset(train_dump, \n",
    "                            batch_size = FLAGS[\"batch_size\"], \n",
    "                            type_of_dataset = \"TRAINING\")\n",
    "        validation = get_dataset(val_dump,\n",
    "                                 batch_size = FLAGS[\"validation_batch_size\"],\n",
    "                                 type_of_dataset = \"VALIDATION\")\n",
    "        test = get_dataset(test_dump, \n",
    "                           batch_size = FLAGS[\"test_batch_size\"], \n",
    "                           type_of_dataset = \"TESTING\")\n",
    "        \n",
    "        train_iterator = train.make_initializable_iterator()\n",
    "        test_iterator = test.make_initializable_iterator()\n",
    "        val_iterator = validation.make_initializable_iterator()\n",
    "        \n",
    "        x_train_subset, y_train_subset = train_iterator.get_next()\n",
    "        x_val_subset, y_val_subset = val_iterator.get_next()\n",
    "        x_test_subset, y_test_subset = test_iterator.get_next()\n",
    "\n",
    "        '''\n",
    "        We need to have a copy of x_train_subset and y_train_subset before moving to create the dataflow\n",
    "        graph. Since they are iterators, having performed one forward pass, the variables will be empty\n",
    "        by the time we need to compute the training accuracy and loss.\n",
    "        '''\n",
    "        x_train_subset_copy, y_train_subset_copy = tf.identity(x_train_subset), tf.identity(y_train_subset)\n",
    "    \n",
    "    model = myModel(FLAGS[\"batch_size\"], FLAGS[\"learning_rate\"])\n",
    "    \n",
    "    # H1\n",
    "    model.add_weight_matrix(shape = [FLAGS[\"number_of_features\"], 128])\n",
    "    model.add_bias_vector(shape = [128])\n",
    "    \n",
    "    # H2\n",
    "    model.add_weight_matrix(shape = [128, 256])\n",
    "    model.add_bias_vector(shape = [256])\n",
    "    \n",
    "    # H3\n",
    "    model.add_weight_matrix(shape = [256, 128])\n",
    "    model.add_bias_vector(shape = [128])\n",
    "        \n",
    "    # H4\n",
    "    model.add_weight_matrix(shape = [128, 32])\n",
    "    model.add_bias_vector(shape = [32])\n",
    "    \n",
    "    # H5\n",
    "    model.add_weight_matrix(shape = [32, 2])\n",
    "    \n",
    "    # perform one forward pass\n",
    "    h, _ = model.forward_propagation(x_subset = x_train_subset)\n",
    "    \n",
    "    # compute loss after one forward pass\n",
    "    loss = model.compute_loss_incured(y_subset = y_train_subset,\n",
    "                                      h = h)\n",
    "    loss_summary = tf.summary.scalar(name = \"LOSS\", tensor = loss)\n",
    "    \n",
    "    # based on loss incured, perform backprop\n",
    "    update_operation = model.backward_propagation(loss = loss)\n",
    "    \n",
    "    # peri-training metrics\n",
    "    train_accuracy = model.compute_naive_accuracy(x_subset = x_train_subset_copy, y_subset = y_train_subset_copy)\n",
    "    train_accuracy_summary = tf.summary.scalar(name = \"TRAIN_ACCURACY\", tensor = train_accuracy)\n",
    "    validation_accuracy = model.compute_naive_accuracy(x_subset = x_val_subset, y_subset = y_val_subset)\n",
    "    validation_accuracy_summary = tf.summary.scalar(name = \"VALIDATION_ACCURACY\", tensor = validation_accuracy)\n",
    "    \n",
    "    # for testing\n",
    "    _, predictions = model.forward_propagation(x_subset = x_test_subset)\n",
    "    \n",
    "    # collecting all the summary objects during training in one operation\n",
    "    merged_summaries = tf.summary.merge([loss_summary, train_accuracy_summary])\n",
    "    \n",
    "    # node to dump the model\n",
    "    saver = tf.train.Saver()\n",
    "\n",
    "    \n",
    "#clear up any deprecation warnings if there\n",
    "clear_output()\n",
    "    \n",
    "number_of_batches = x_train.shape[0]//FLAGS[\"batch_size\"]\n",
    "\n",
    "print(\"Training Batch Size = %i, so number of mini-batches for each epoch = %i\" % (FLAGS[\"batch_size\"], number_of_batches))\n",
    "\n",
    "print(\"After forward propagation, shape of h (logits) = \", h.shape)\n",
    "\n",
    "print(\"Shape of INPUT FEATURES (train, validation, test) = \", \n",
    "      x_train_subset.shape, \n",
    "      x_val_subset.shape, \n",
    "      x_test_subset.shape)\n",
    "\n",
    "print(\"Shape of GROUND TRUTH LABEL (train, validation, test) = \",\n",
    "      y_train_subset.shape, \n",
    "      y_val_subset.shape, \n",
    "      y_test_subset.shape)"
   ]
  },
  {
   "cell_type": "markdown",
   "metadata": {
    "ExecuteTime": {
     "end_time": "2019-09-26T12:01:10.684853Z",
     "start_time": "2019-09-26T12:01:10.677020Z"
    }
   },
   "source": [
    "### 6.4 Visualize the DataFlow Graph Inline\n",
    "\n",
    "[Source code from Tensorflow Authors](https://nbviewer.jupyter.org/github/tensorflow/examples/blob/master/community/en/r1/deepdream.ipynb#Loading-and-displaying-the-model-graph)"
   ]
  },
  {
   "cell_type": "code",
   "execution_count": 51,
   "metadata": {
    "ExecuteTime": {
     "end_time": "2019-09-27T10:52:37.574786Z",
     "start_time": "2019-09-27T10:52:37.569380Z"
    }
   },
   "outputs": [],
   "source": [
    "from IPython.display import Image, display, HTML\n",
    "\n",
    "def strip_consts(graph_def, max_const_size = 32):\n",
    "    \"\"\"Strip large constant values from graph_def.\"\"\"\n",
    "    strip_def = tf.GraphDef()\n",
    "    for n0 in graph_def.node:\n",
    "        n = strip_def.node.add() \n",
    "        n.MergeFrom(n0)\n",
    "        if n.op == 'Const':\n",
    "            tensor = n.attr['value'].tensor\n",
    "            size = len(tensor.tensor_content)\n",
    "            if size > max_const_size:\n",
    "                tensor.tensor_content = \"<stripped %d bytes>\"%size\n",
    "    return strip_def\n",
    "\n",
    "def show_graph(graph_def, max_const_size = 32):\n",
    "    \"\"\"Visualize TensorFlow graph.\"\"\"\n",
    "    if hasattr(graph_def, 'as_graph_def'):\n",
    "        graph_def = graph_def.as_graph_def()\n",
    "    strip_def = strip_consts(graph_def, max_const_size=max_const_size)\n",
    "    code = \"\"\"\n",
    "        <script>\n",
    "          function load() {{\n",
    "            document.getElementById(\"{id}\").pbtxt = {data};\n",
    "          }}\n",
    "        </script>\n",
    "        <link rel=\"import\" href=\"https://tensorboard.appspot.com/tf-graph-basic.build.html\" onload=load()>\n",
    "        <div style=\"height:600px\">\n",
    "          <tf-graph-basic id=\"{id}\"></tf-graph-basic>\n",
    "        </div>\n",
    "    \"\"\".format(data=repr(str(strip_def)), id='graph'+str(np.random.rand()))\n",
    "\n",
    "    iframe = \"\"\"\n",
    "        <iframe seamless style=\"width:950px;height:620px;border:0\" srcdoc=\"{}\"></iframe>\n",
    "    \"\"\".format(code.replace('\"', '&quot;'))\n",
    "    display(HTML(iframe))"
   ]
  },
  {
   "cell_type": "code",
   "execution_count": 52,
   "metadata": {
    "ExecuteTime": {
     "end_time": "2019-09-27T10:52:37.710046Z",
     "start_time": "2019-09-27T10:52:37.576039Z"
    }
   },
   "outputs": [
    {
     "data": {
      "text/html": [
       "\n",
       "        <iframe seamless style=\"width:950px;height:620px;border:0\" srcdoc=\"\n",
       "        <script>\n",
       "          function load() {\n",
       "            document.getElementById(&quot;graph0.9321867016515264&quot;).pbtxt = 'node {\\n  name: &quot;INPUT_PIPELINE/Const&quot;\\n  op: &quot;Const&quot;\\n  attr {\\n    key: &quot;dtype&quot;\\n    value {\\n      type: DT_STRING\\n    }\\n  }\\n  attr {\\n    key: &quot;value&quot;\\n    value {\\n      tensor {\\n        dtype: DT_STRING\\n        tensor_shape {\\n          dim {\\n            size: 15\\n          }\\n        }\\n        string_val: &quot;./train_tfrecords/Batch_1.tfrecord&quot;\\n        string_val: &quot;./train_tfrecords/Batch_10.tfrecord&quot;\\n        string_val: &quot;./train_tfrecords/Batch_11.tfrecord&quot;\\n        string_val: &quot;./train_tfrecords/Batch_12.tfrecord&quot;\\n        string_val: &quot;./train_tfrecords/Batch_13.tfrecord&quot;\\n        string_val: &quot;./train_tfrecords/Batch_14.tfrecord&quot;\\n        string_val: &quot;./train_tfrecords/Batch_15.tfrecord&quot;\\n        string_val: &quot;./train_tfrecords/Batch_2.tfrecord&quot;\\n        string_val: &quot;./train_tfrecords/Batch_3.tfrecord&quot;\\n        string_val: &quot;./train_tfrecords/Batch_4.tfrecord&quot;\\n        string_val: &quot;./train_tfrecords/Batch_5.tfrecord&quot;\\n        string_val: &quot;./train_tfrecords/Batch_6.tfrecord&quot;\\n        string_val: &quot;./train_tfrecords/Batch_7.tfrecord&quot;\\n        string_val: &quot;./train_tfrecords/Batch_8.tfrecord&quot;\\n        string_val: &quot;./train_tfrecords/Batch_9.tfrecord&quot;\\n      }\\n    }\\n  }\\n}\\nnode {\\n  name: &quot;INPUT_PIPELINE/flat_filenames/shape&quot;\\n  op: &quot;Const&quot;\\n  attr {\\n    key: &quot;dtype&quot;\\n    value {\\n      type: DT_INT32\\n    }\\n  }\\n  attr {\\n    key: &quot;value&quot;\\n    value {\\n      tensor {\\n        dtype: DT_INT32\\n        tensor_shape {\\n          dim {\\n            size: 1\\n          }\\n        }\\n        int_val: -1\\n      }\\n    }\\n  }\\n}\\nnode {\\n  name: &quot;INPUT_PIPELINE/flat_filenames&quot;\\n  op: &quot;Reshape&quot;\\n  input: &quot;INPUT_PIPELINE/Const&quot;\\n  input: &quot;INPUT_PIPELINE/flat_filenames/shape&quot;\\n  attr {\\n    key: &quot;T&quot;\\n    value {\\n      type: DT_STRING\\n    }\\n  }\\n  attr {\\n    key: &quot;Tshape&quot;\\n    value {\\n      type: DT_INT32\\n    }\\n  }\\n}\\nnode {\\n  name: &quot;INPUT_PIPELINE/TensorSliceDataset&quot;\\n  op: &quot;TensorSliceDataset&quot;\\n  input: &quot;INPUT_PIPELINE/flat_filenames&quot;\\n  attr {\\n    key: &quot;Toutput_types&quot;\\n    value {\\n      list {\\n        type: DT_STRING\\n      }\\n    }\\n  }\\n  attr {\\n    key: &quot;output_shapes&quot;\\n    value {\\n      list {\\n        shape {\\n        }\\n      }\\n    }\\n  }\\n}\\nnode {\\n  name: &quot;INPUT_PIPELINE/FlatMapDataset&quot;\\n  op: &quot;FlatMapDataset&quot;\\n  input: &quot;INPUT_PIPELINE/TensorSliceDataset&quot;\\n  attr {\\n    key: &quot;Targuments&quot;\\n    value {\\n      list {\\n      }\\n    }\\n  }\\n  attr {\\n    key: &quot;f&quot;\\n    value {\\n      func {\\n        name: &quot;__inference_Dataset_flat_map_read_one_file_11&quot;\\n      }\\n    }\\n  }\\n  attr {\\n    key: &quot;output_shapes&quot;\\n    value {\\n      list {\\n        shape {\\n        }\\n      }\\n    }\\n  }\\n  attr {\\n    key: &quot;output_types&quot;\\n    value {\\n      list {\\n        type: DT_STRING\\n      }\\n    }\\n  }\\n}\\nnode {\\n  name: &quot;INPUT_PIPELINE/num_parallel_calls&quot;\\n  op: &quot;Const&quot;\\n  attr {\\n    key: &quot;dtype&quot;\\n    value {\\n      type: DT_INT32\\n    }\\n  }\\n  attr {\\n    key: &quot;value&quot;\\n    value {\\n      tensor {\\n        dtype: DT_INT32\\n        tensor_shape {\\n        }\\n        int_val: 3\\n      }\\n    }\\n  }\\n}\\nnode {\\n  name: &quot;INPUT_PIPELINE/ParallelMapDataset&quot;\\n  op: &quot;ParallelMapDataset&quot;\\n  input: &quot;INPUT_PIPELINE/FlatMapDataset&quot;\\n  input: &quot;INPUT_PIPELINE/num_parallel_calls&quot;\\n  attr {\\n    key: &quot;Targuments&quot;\\n    value {\\n      list {\\n      }\\n    }\\n  }\\n  attr {\\n    key: &quot;f&quot;\\n    value {\\n      func {\\n        name: &quot;__inference_Dataset_map_parse_record_22&quot;\\n      }\\n    }\\n  }\\n  attr {\\n    key: &quot;output_shapes&quot;\\n    value {\\n      list {\\n        shape {\\n          dim {\\n            size: 58\\n          }\\n        }\\n        shape {\\n          dim {\\n            size: 1\\n          }\\n        }\\n      }\\n    }\\n  }\\n  attr {\\n    key: &quot;output_types&quot;\\n    value {\\n      list {\\n        type: DT_FLOAT\\n        type: DT_INT32\\n      }\\n    }\\n  }\\n  attr {\\n    key: &quot;preserve_cardinality&quot;\\n    value {\\n      b: false\\n    }\\n  }\\n  attr {\\n    key: &quot;sloppy&quot;\\n    value {\\n      b: false\\n    }\\n  }\\n  attr {\\n    key: &quot;use_inter_op_parallelism&quot;\\n    value {\\n      b: true\\n    }\\n  }\\n}\\nnode {\\n  name: &quot;INPUT_PIPELINE/buffer_size&quot;\\n  op: &quot;Const&quot;\\n  attr {\\n    key: &quot;dtype&quot;\\n    value {\\n      type: DT_INT64\\n    }\\n  }\\n  attr {\\n    key: &quot;value&quot;\\n    value {\\n      tensor {\\n        dtype: DT_INT64\\n        tensor_shape {\\n        }\\n        int64_val: 64\\n      }\\n    }\\n  }\\n}\\nnode {\\n  name: &quot;INPUT_PIPELINE/seed&quot;\\n  op: &quot;Const&quot;\\n  attr {\\n    key: &quot;dtype&quot;\\n    value {\\n      type: DT_INT64\\n    }\\n  }\\n  attr {\\n    key: &quot;value&quot;\\n    value {\\n      tensor {\\n        dtype: DT_INT64\\n        tensor_shape {\\n        }\\n        int64_val: 0\\n      }\\n    }\\n  }\\n}\\nnode {\\n  name: &quot;INPUT_PIPELINE/seed2&quot;\\n  op: &quot;Const&quot;\\n  attr {\\n    key: &quot;dtype&quot;\\n    value {\\n      type: DT_INT64\\n    }\\n  }\\n  attr {\\n    key: &quot;value&quot;\\n    value {\\n      tensor {\\n        dtype: DT_INT64\\n        tensor_shape {\\n        }\\n        int64_val: 0\\n      }\\n    }\\n  }\\n}\\nnode {\\n  name: &quot;INPUT_PIPELINE/ShuffleDataset&quot;\\n  op: &quot;ShuffleDataset&quot;\\n  input: &quot;INPUT_PIPELINE/ParallelMapDataset&quot;\\n  input: &quot;INPUT_PIPELINE/buffer_size&quot;\\n  input: &quot;INPUT_PIPELINE/seed&quot;\\n  input: &quot;INPUT_PIPELINE/seed2&quot;\\n  attr {\\n    key: &quot;output_shapes&quot;\\n    value {\\n      list {\\n        shape {\\n          dim {\\n            size: 58\\n          }\\n        }\\n        shape {\\n          dim {\\n            size: 1\\n          }\\n        }\\n      }\\n    }\\n  }\\n  attr {\\n    key: &quot;output_types&quot;\\n    value {\\n      list {\\n        type: DT_FLOAT\\n        type: DT_INT32\\n      }\\n    }\\n  }\\n  attr {\\n    key: &quot;reshuffle_each_iteration&quot;\\n    value {\\n      b: true\\n    }\\n  }\\n}\\nnode {\\n  name: &quot;INPUT_PIPELINE/count&quot;\\n  op: &quot;Const&quot;\\n  attr {\\n    key: &quot;dtype&quot;\\n    value {\\n      type: DT_INT64\\n    }\\n  }\\n  attr {\\n    key: &quot;value&quot;\\n    value {\\n      tensor {\\n        dtype: DT_INT64\\n        tensor_shape {\\n        }\\n        int64_val: -1\\n      }\\n    }\\n  }\\n}\\nnode {\\n  name: &quot;INPUT_PIPELINE/RepeatDataset&quot;\\n  op: &quot;RepeatDataset&quot;\\n  input: &quot;INPUT_PIPELINE/ShuffleDataset&quot;\\n  input: &quot;INPUT_PIPELINE/count&quot;\\n  attr {\\n    key: &quot;output_shapes&quot;\\n    value {\\n      list {\\n        shape {\\n          dim {\\n            size: 58\\n          }\\n        }\\n        shape {\\n          dim {\\n            size: 1\\n          }\\n        }\\n      }\\n    }\\n  }\\n  attr {\\n    key: &quot;output_types&quot;\\n    value {\\n      list {\\n        type: DT_FLOAT\\n        type: DT_INT32\\n      }\\n    }\\n  }\\n}\\nnode {\\n  name: &quot;INPUT_PIPELINE/batch_size&quot;\\n  op: &quot;Const&quot;\\n  attr {\\n    key: &quot;dtype&quot;\\n    value {\\n      type: DT_INT64\\n    }\\n  }\\n  attr {\\n    key: &quot;value&quot;\\n    value {\\n      tensor {\\n        dtype: DT_INT64\\n        tensor_shape {\\n        }\\n        int64_val: 64\\n      }\\n    }\\n  }\\n}\\nnode {\\n  name: &quot;INPUT_PIPELINE/drop_remainder&quot;\\n  op: &quot;Const&quot;\\n  attr {\\n    key: &quot;dtype&quot;\\n    value {\\n      type: DT_BOOL\\n    }\\n  }\\n  attr {\\n    key: &quot;value&quot;\\n    value {\\n      tensor {\\n        dtype: DT_BOOL\\n        tensor_shape {\\n        }\\n        bool_val: false\\n      }\\n    }\\n  }\\n}\\nnode {\\n  name: &quot;INPUT_PIPELINE/BatchDatasetV2&quot;\\n  op: &quot;BatchDatasetV2&quot;\\n  input: &quot;INPUT_PIPELINE/RepeatDataset&quot;\\n  input: &quot;INPUT_PIPELINE/batch_size&quot;\\n  input: &quot;INPUT_PIPELINE/drop_remainder&quot;\\n  attr {\\n    key: &quot;output_shapes&quot;\\n    value {\\n      list {\\n        shape {\\n          dim {\\n            size: -1\\n          }\\n          dim {\\n            size: 58\\n          }\\n        }\\n        shape {\\n          dim {\\n            size: -1\\n          }\\n          dim {\\n            size: 1\\n          }\\n        }\\n      }\\n    }\\n  }\\n  attr {\\n    key: &quot;output_types&quot;\\n    value {\\n      list {\\n        type: DT_FLOAT\\n        type: DT_INT32\\n      }\\n    }\\n  }\\n  attr {\\n    key: &quot;parallel_copy&quot;\\n    value {\\n      b: false\\n    }\\n  }\\n}\\nnode {\\n  name: &quot;INPUT_PIPELINE/buffer_size_1&quot;\\n  op: &quot;Const&quot;\\n  attr {\\n    key: &quot;dtype&quot;\\n    value {\\n      type: DT_INT64\\n    }\\n  }\\n  attr {\\n    key: &quot;value&quot;\\n    value {\\n      tensor {\\n        dtype: DT_INT64\\n        tensor_shape {\\n        }\\n        int64_val: 3\\n      }\\n    }\\n  }\\n}\\nnode {\\n  name: &quot;INPUT_PIPELINE/PrefetchDataset&quot;\\n  op: &quot;PrefetchDataset&quot;\\n  input: &quot;INPUT_PIPELINE/BatchDatasetV2&quot;\\n  input: &quot;INPUT_PIPELINE/buffer_size_1&quot;\\n  attr {\\n    key: &quot;output_shapes&quot;\\n    value {\\n      list {\\n        shape {\\n          dim {\\n            size: -1\\n          }\\n          dim {\\n            size: 58\\n          }\\n        }\\n        shape {\\n          dim {\\n            size: -1\\n          }\\n          dim {\\n            size: 1\\n          }\\n        }\\n      }\\n    }\\n  }\\n  attr {\\n    key: &quot;output_types&quot;\\n    value {\\n      list {\\n        type: DT_FLOAT\\n        type: DT_INT32\\n      }\\n    }\\n  }\\n  attr {\\n    key: &quot;slack_period&quot;\\n    value {\\n      i: 0\\n    }\\n  }\\n}\\nnode {\\n  name: &quot;INPUT_PIPELINE/Const_1&quot;\\n  op: &quot;Const&quot;\\n  attr {\\n    key: &quot;dtype&quot;\\n    value {\\n      type: DT_STRING\\n    }\\n  }\\n  attr {\\n    key: &quot;value&quot;\\n    value {\\n      tensor {\\n        dtype: DT_STRING\\n        tensor_shape {\\n          dim {\\n            size: 3\\n          }\\n        }\\n        string_val: &quot;./val_tfrecords/Batch_1.tfrecord&quot;\\n        string_val: &quot;./val_tfrecords/Batch_2.tfrecord&quot;\\n        string_val: &quot;./val_tfrecords/Batch_3.tfrecord&quot;\\n      }\\n    }\\n  }\\n}\\nnode {\\n  name: &quot;INPUT_PIPELINE/flat_filenames_1/shape&quot;\\n  op: &quot;Const&quot;\\n  attr {\\n    key: &quot;dtype&quot;\\n    value {\\n      type: DT_INT32\\n    }\\n  }\\n  attr {\\n    key: &quot;value&quot;\\n    value {\\n      tensor {\\n        dtype: DT_INT32\\n        tensor_shape {\\n          dim {\\n            size: 1\\n          }\\n        }\\n        int_val: -1\\n      }\\n    }\\n  }\\n}\\nnode {\\n  name: &quot;INPUT_PIPELINE/flat_filenames_1&quot;\\n  op: &quot;Reshape&quot;\\n  input: &quot;INPUT_PIPELINE/Const_1&quot;\\n  input: &quot;INPUT_PIPELINE/flat_filenames_1/shape&quot;\\n  attr {\\n    key: &quot;T&quot;\\n    value {\\n      type: DT_STRING\\n    }\\n  }\\n  attr {\\n    key: &quot;Tshape&quot;\\n    value {\\n      type: DT_INT32\\n    }\\n  }\\n}\\nnode {\\n  name: &quot;INPUT_PIPELINE/TensorSliceDataset_1&quot;\\n  op: &quot;TensorSliceDataset&quot;\\n  input: &quot;INPUT_PIPELINE/flat_filenames_1&quot;\\n  attr {\\n    key: &quot;Toutput_types&quot;\\n    value {\\n      list {\\n        type: DT_STRING\\n      }\\n    }\\n  }\\n  attr {\\n    key: &quot;output_shapes&quot;\\n    value {\\n      list {\\n        shape {\\n        }\\n      }\\n    }\\n  }\\n}\\nnode {\\n  name: &quot;INPUT_PIPELINE/FlatMapDataset_1&quot;\\n  op: &quot;FlatMapDataset&quot;\\n  input: &quot;INPUT_PIPELINE/TensorSliceDataset_1&quot;\\n  attr {\\n    key: &quot;Targuments&quot;\\n    value {\\n      list {\\n      }\\n    }\\n  }\\n  attr {\\n    key: &quot;f&quot;\\n    value {\\n      func {\\n        name: &quot;__inference_Dataset_flat_map_read_one_file_46&quot;\\n      }\\n    }\\n  }\\n  attr {\\n    key: &quot;output_shapes&quot;\\n    value {\\n      list {\\n        shape {\\n        }\\n      }\\n    }\\n  }\\n  attr {\\n    key: &quot;output_types&quot;\\n    value {\\n      list {\\n        type: DT_STRING\\n      }\\n    }\\n  }\\n}\\nnode {\\n  name: &quot;INPUT_PIPELINE/num_parallel_calls_1&quot;\\n  op: &quot;Const&quot;\\n  attr {\\n    key: &quot;dtype&quot;\\n    value {\\n      type: DT_INT32\\n    }\\n  }\\n  attr {\\n    key: &quot;value&quot;\\n    value {\\n      tensor {\\n        dtype: DT_INT32\\n        tensor_shape {\\n        }\\n        int_val: 3\\n      }\\n    }\\n  }\\n}\\nnode {\\n  name: &quot;INPUT_PIPELINE/ParallelMapDataset_1&quot;\\n  op: &quot;ParallelMapDataset&quot;\\n  input: &quot;INPUT_PIPELINE/FlatMapDataset_1&quot;\\n  input: &quot;INPUT_PIPELINE/num_parallel_calls_1&quot;\\n  attr {\\n    key: &quot;Targuments&quot;\\n    value {\\n      list {\\n      }\\n    }\\n  }\\n  attr {\\n    key: &quot;f&quot;\\n    value {\\n      func {\\n        name: &quot;__inference_Dataset_map_parse_record_57&quot;\\n      }\\n    }\\n  }\\n  attr {\\n    key: &quot;output_shapes&quot;\\n    value {\\n      list {\\n        shape {\\n          dim {\\n            size: 58\\n          }\\n        }\\n        shape {\\n          dim {\\n            size: 1\\n          }\\n        }\\n      }\\n    }\\n  }\\n  attr {\\n    key: &quot;output_types&quot;\\n    value {\\n      list {\\n        type: DT_FLOAT\\n        type: DT_INT32\\n      }\\n    }\\n  }\\n  attr {\\n    key: &quot;preserve_cardinality&quot;\\n    value {\\n      b: false\\n    }\\n  }\\n  attr {\\n    key: &quot;sloppy&quot;\\n    value {\\n      b: false\\n    }\\n  }\\n  attr {\\n    key: &quot;use_inter_op_parallelism&quot;\\n    value {\\n      b: true\\n    }\\n  }\\n}\\nnode {\\n  name: &quot;INPUT_PIPELINE/count_1&quot;\\n  op: &quot;Const&quot;\\n  attr {\\n    key: &quot;dtype&quot;\\n    value {\\n      type: DT_INT64\\n    }\\n  }\\n  attr {\\n    key: &quot;value&quot;\\n    value {\\n      tensor {\\n        dtype: DT_INT64\\n        tensor_shape {\\n        }\\n        int64_val: -1\\n      }\\n    }\\n  }\\n}\\nnode {\\n  name: &quot;INPUT_PIPELINE/RepeatDataset_1&quot;\\n  op: &quot;RepeatDataset&quot;\\n  input: &quot;INPUT_PIPELINE/ParallelMapDataset_1&quot;\\n  input: &quot;INPUT_PIPELINE/count_1&quot;\\n  attr {\\n    key: &quot;output_shapes&quot;\\n    value {\\n      list {\\n        shape {\\n          dim {\\n            size: 58\\n          }\\n        }\\n        shape {\\n          dim {\\n            size: 1\\n          }\\n        }\\n      }\\n    }\\n  }\\n  attr {\\n    key: &quot;output_types&quot;\\n    value {\\n      list {\\n        type: DT_FLOAT\\n        type: DT_INT32\\n      }\\n    }\\n  }\\n}\\nnode {\\n  name: &quot;INPUT_PIPELINE/batch_size_1&quot;\\n  op: &quot;Const&quot;\\n  attr {\\n    key: &quot;dtype&quot;\\n    value {\\n      type: DT_INT64\\n    }\\n  }\\n  attr {\\n    key: &quot;value&quot;\\n    value {\\n      tensor {\\n        dtype: DT_INT64\\n        tensor_shape {\\n        }\\n        int64_val: 1114\\n      }\\n    }\\n  }\\n}\\nnode {\\n  name: &quot;INPUT_PIPELINE/drop_remainder_1&quot;\\n  op: &quot;Const&quot;\\n  attr {\\n    key: &quot;dtype&quot;\\n    value {\\n      type: DT_BOOL\\n    }\\n  }\\n  attr {\\n    key: &quot;value&quot;\\n    value {\\n      tensor {\\n        dtype: DT_BOOL\\n        tensor_shape {\\n        }\\n        bool_val: false\\n      }\\n    }\\n  }\\n}\\nnode {\\n  name: &quot;INPUT_PIPELINE/BatchDatasetV2_1&quot;\\n  op: &quot;BatchDatasetV2&quot;\\n  input: &quot;INPUT_PIPELINE/RepeatDataset_1&quot;\\n  input: &quot;INPUT_PIPELINE/batch_size_1&quot;\\n  input: &quot;INPUT_PIPELINE/drop_remainder_1&quot;\\n  attr {\\n    key: &quot;output_shapes&quot;\\n    value {\\n      list {\\n        shape {\\n          dim {\\n            size: -1\\n          }\\n          dim {\\n            size: 58\\n          }\\n        }\\n        shape {\\n          dim {\\n            size: -1\\n          }\\n          dim {\\n            size: 1\\n          }\\n        }\\n      }\\n    }\\n  }\\n  attr {\\n    key: &quot;output_types&quot;\\n    value {\\n      list {\\n        type: DT_FLOAT\\n        type: DT_INT32\\n      }\\n    }\\n  }\\n  attr {\\n    key: &quot;parallel_copy&quot;\\n    value {\\n      b: false\\n    }\\n  }\\n}\\nnode {\\n  name: &quot;INPUT_PIPELINE/buffer_size_2&quot;\\n  op: &quot;Const&quot;\\n  attr {\\n    key: &quot;dtype&quot;\\n    value {\\n      type: DT_INT64\\n    }\\n  }\\n  attr {\\n    key: &quot;value&quot;\\n    value {\\n      tensor {\\n        dtype: DT_INT64\\n        tensor_shape {\\n        }\\n        int64_val: 1\\n      }\\n    }\\n  }\\n}\\nnode {\\n  name: &quot;INPUT_PIPELINE/PrefetchDataset_1&quot;\\n  op: &quot;PrefetchDataset&quot;\\n  input: &quot;INPUT_PIPELINE/BatchDatasetV2_1&quot;\\n  input: &quot;INPUT_PIPELINE/buffer_size_2&quot;\\n  attr {\\n    key: &quot;output_shapes&quot;\\n    value {\\n      list {\\n        shape {\\n          dim {\\n            size: -1\\n          }\\n          dim {\\n            size: 58\\n          }\\n        }\\n        shape {\\n          dim {\\n            size: -1\\n          }\\n          dim {\\n            size: 1\\n          }\\n        }\\n      }\\n    }\\n  }\\n  attr {\\n    key: &quot;output_types&quot;\\n    value {\\n      list {\\n        type: DT_FLOAT\\n        type: DT_INT32\\n      }\\n    }\\n  }\\n  attr {\\n    key: &quot;slack_period&quot;\\n    value {\\n      i: 0\\n    }\\n  }\\n}\\nnode {\\n  name: &quot;INPUT_PIPELINE/Const_2&quot;\\n  op: &quot;Const&quot;\\n  attr {\\n    key: &quot;dtype&quot;\\n    value {\\n      type: DT_STRING\\n    }\\n  }\\n  attr {\\n    key: &quot;value&quot;\\n    value {\\n      tensor {\\n        dtype: DT_STRING\\n        tensor_shape {\\n          dim {\\n            size: 2\\n          }\\n        }\\n        string_val: &quot;./test_tfrecords/Batch_1.tfrecord&quot;\\n        string_val: &quot;./test_tfrecords/Batch_2.tfrecord&quot;\\n      }\\n    }\\n  }\\n}\\nnode {\\n  name: &quot;INPUT_PIPELINE/flat_filenames_2/shape&quot;\\n  op: &quot;Const&quot;\\n  attr {\\n    key: &quot;dtype&quot;\\n    value {\\n      type: DT_INT32\\n    }\\n  }\\n  attr {\\n    key: &quot;value&quot;\\n    value {\\n      tensor {\\n        dtype: DT_INT32\\n        tensor_shape {\\n          dim {\\n            size: 1\\n          }\\n        }\\n        int_val: -1\\n      }\\n    }\\n  }\\n}\\nnode {\\n  name: &quot;INPUT_PIPELINE/flat_filenames_2&quot;\\n  op: &quot;Reshape&quot;\\n  input: &quot;INPUT_PIPELINE/Const_2&quot;\\n  input: &quot;INPUT_PIPELINE/flat_filenames_2/shape&quot;\\n  attr {\\n    key: &quot;T&quot;\\n    value {\\n      type: DT_STRING\\n    }\\n  }\\n  attr {\\n    key: &quot;Tshape&quot;\\n    value {\\n      type: DT_INT32\\n    }\\n  }\\n}\\nnode {\\n  name: &quot;INPUT_PIPELINE/TensorSliceDataset_2&quot;\\n  op: &quot;TensorSliceDataset&quot;\\n  input: &quot;INPUT_PIPELINE/flat_filenames_2&quot;\\n  attr {\\n    key: &quot;Toutput_types&quot;\\n    value {\\n      list {\\n        type: DT_STRING\\n      }\\n    }\\n  }\\n  attr {\\n    key: &quot;output_shapes&quot;\\n    value {\\n      list {\\n        shape {\\n        }\\n      }\\n    }\\n  }\\n}\\nnode {\\n  name: &quot;INPUT_PIPELINE/FlatMapDataset_2&quot;\\n  op: &quot;FlatMapDataset&quot;\\n  input: &quot;INPUT_PIPELINE/TensorSliceDataset_2&quot;\\n  attr {\\n    key: &quot;Targuments&quot;\\n    value {\\n      list {\\n      }\\n    }\\n  }\\n  attr {\\n    key: &quot;f&quot;\\n    value {\\n      func {\\n        name: &quot;__inference_Dataset_flat_map_read_one_file_77&quot;\\n      }\\n    }\\n  }\\n  attr {\\n    key: &quot;output_shapes&quot;\\n    value {\\n      list {\\n        shape {\\n        }\\n      }\\n    }\\n  }\\n  attr {\\n    key: &quot;output_types&quot;\\n    value {\\n      list {\\n        type: DT_STRING\\n      }\\n    }\\n  }\\n}\\nnode {\\n  name: &quot;INPUT_PIPELINE/num_parallel_calls_2&quot;\\n  op: &quot;Const&quot;\\n  attr {\\n    key: &quot;dtype&quot;\\n    value {\\n      type: DT_INT32\\n    }\\n  }\\n  attr {\\n    key: &quot;value&quot;\\n    value {\\n      tensor {\\n        dtype: DT_INT32\\n        tensor_shape {\\n        }\\n        int_val: 3\\n      }\\n    }\\n  }\\n}\\nnode {\\n  name: &quot;INPUT_PIPELINE/ParallelMapDataset_2&quot;\\n  op: &quot;ParallelMapDataset&quot;\\n  input: &quot;INPUT_PIPELINE/FlatMapDataset_2&quot;\\n  input: &quot;INPUT_PIPELINE/num_parallel_calls_2&quot;\\n  attr {\\n    key: &quot;Targuments&quot;\\n    value {\\n      list {\\n      }\\n    }\\n  }\\n  attr {\\n    key: &quot;f&quot;\\n    value {\\n      func {\\n        name: &quot;__inference_Dataset_map_parse_record_88&quot;\\n      }\\n    }\\n  }\\n  attr {\\n    key: &quot;output_shapes&quot;\\n    value {\\n      list {\\n        shape {\\n          dim {\\n            size: 58\\n          }\\n        }\\n        shape {\\n          dim {\\n            size: 1\\n          }\\n        }\\n      }\\n    }\\n  }\\n  attr {\\n    key: &quot;output_types&quot;\\n    value {\\n      list {\\n        type: DT_FLOAT\\n        type: DT_INT32\\n      }\\n    }\\n  }\\n  attr {\\n    key: &quot;preserve_cardinality&quot;\\n    value {\\n      b: false\\n    }\\n  }\\n  attr {\\n    key: &quot;sloppy&quot;\\n    value {\\n      b: false\\n    }\\n  }\\n  attr {\\n    key: &quot;use_inter_op_parallelism&quot;\\n    value {\\n      b: true\\n    }\\n  }\\n}\\nnode {\\n  name: &quot;INPUT_PIPELINE/count_2&quot;\\n  op: &quot;Const&quot;\\n  attr {\\n    key: &quot;dtype&quot;\\n    value {\\n      type: DT_INT64\\n    }\\n  }\\n  attr {\\n    key: &quot;value&quot;\\n    value {\\n      tensor {\\n        dtype: DT_INT64\\n        tensor_shape {\\n        }\\n        int64_val: -1\\n      }\\n    }\\n  }\\n}\\nnode {\\n  name: &quot;INPUT_PIPELINE/RepeatDataset_2&quot;\\n  op: &quot;RepeatDataset&quot;\\n  input: &quot;INPUT_PIPELINE/ParallelMapDataset_2&quot;\\n  input: &quot;INPUT_PIPELINE/count_2&quot;\\n  attr {\\n    key: &quot;output_shapes&quot;\\n    value {\\n      list {\\n        shape {\\n          dim {\\n            size: 58\\n          }\\n        }\\n        shape {\\n          dim {\\n            size: 1\\n          }\\n        }\\n      }\\n    }\\n  }\\n  attr {\\n    key: &quot;output_types&quot;\\n    value {\\n      list {\\n        type: DT_FLOAT\\n        type: DT_INT32\\n      }\\n    }\\n  }\\n}\\nnode {\\n  name: &quot;INPUT_PIPELINE/batch_size_2&quot;\\n  op: &quot;Const&quot;\\n  attr {\\n    key: &quot;dtype&quot;\\n    value {\\n      type: DT_INT64\\n    }\\n  }\\n  attr {\\n    key: &quot;value&quot;\\n    value {\\n      tensor {\\n        dtype: DT_INT64\\n        tensor_shape {\\n        }\\n        int64_val: 743\\n      }\\n    }\\n  }\\n}\\nnode {\\n  name: &quot;INPUT_PIPELINE/drop_remainder_2&quot;\\n  op: &quot;Const&quot;\\n  attr {\\n    key: &quot;dtype&quot;\\n    value {\\n      type: DT_BOOL\\n    }\\n  }\\n  attr {\\n    key: &quot;value&quot;\\n    value {\\n      tensor {\\n        dtype: DT_BOOL\\n        tensor_shape {\\n        }\\n        bool_val: false\\n      }\\n    }\\n  }\\n}\\nnode {\\n  name: &quot;INPUT_PIPELINE/BatchDatasetV2_2&quot;\\n  op: &quot;BatchDatasetV2&quot;\\n  input: &quot;INPUT_PIPELINE/RepeatDataset_2&quot;\\n  input: &quot;INPUT_PIPELINE/batch_size_2&quot;\\n  input: &quot;INPUT_PIPELINE/drop_remainder_2&quot;\\n  attr {\\n    key: &quot;output_shapes&quot;\\n    value {\\n      list {\\n        shape {\\n          dim {\\n            size: -1\\n          }\\n          dim {\\n            size: 58\\n          }\\n        }\\n        shape {\\n          dim {\\n            size: -1\\n          }\\n          dim {\\n            size: 1\\n          }\\n        }\\n      }\\n    }\\n  }\\n  attr {\\n    key: &quot;output_types&quot;\\n    value {\\n      list {\\n        type: DT_FLOAT\\n        type: DT_INT32\\n      }\\n    }\\n  }\\n  attr {\\n    key: &quot;parallel_copy&quot;\\n    value {\\n      b: false\\n    }\\n  }\\n}\\nnode {\\n  name: &quot;INPUT_PIPELINE/buffer_size_3&quot;\\n  op: &quot;Const&quot;\\n  attr {\\n    key: &quot;dtype&quot;\\n    value {\\n      type: DT_INT64\\n    }\\n  }\\n  attr {\\n    key: &quot;value&quot;\\n    value {\\n      tensor {\\n        dtype: DT_INT64\\n        tensor_shape {\\n        }\\n        int64_val: 1\\n      }\\n    }\\n  }\\n}\\nnode {\\n  name: &quot;INPUT_PIPELINE/PrefetchDataset_2&quot;\\n  op: &quot;PrefetchDataset&quot;\\n  input: &quot;INPUT_PIPELINE/BatchDatasetV2_2&quot;\\n  input: &quot;INPUT_PIPELINE/buffer_size_3&quot;\\n  attr {\\n    key: &quot;output_shapes&quot;\\n    value {\\n      list {\\n        shape {\\n          dim {\\n            size: -1\\n          }\\n          dim {\\n            size: 58\\n          }\\n        }\\n        shape {\\n          dim {\\n            size: -1\\n          }\\n          dim {\\n            size: 1\\n          }\\n        }\\n      }\\n    }\\n  }\\n  attr {\\n    key: &quot;output_types&quot;\\n    value {\\n      list {\\n        type: DT_FLOAT\\n        type: DT_INT32\\n      }\\n    }\\n  }\\n  attr {\\n    key: &quot;slack_period&quot;\\n    value {\\n      i: 0\\n    }\\n  }\\n}\\nnode {\\n  name: &quot;INPUT_PIPELINE/optimizations&quot;\\n  op: &quot;Const&quot;\\n  attr {\\n    key: &quot;dtype&quot;\\n    value {\\n      type: DT_STRING\\n    }\\n  }\\n  attr {\\n    key: &quot;value&quot;\\n    value {\\n      tensor {\\n        dtype: DT_STRING\\n        tensor_shape {\\n          dim {\\n            size: 3\\n          }\\n        }\\n        string_val: &quot;map_and_batch_fusion&quot;\\n        string_val: &quot;noop_elimination&quot;\\n        string_val: &quot;shuffle_and_repeat_fusion&quot;\\n      }\\n    }\\n  }\\n}\\nnode {\\n  name: &quot;INPUT_PIPELINE/OptimizeDataset&quot;\\n  op: &quot;OptimizeDataset&quot;\\n  input: &quot;INPUT_PIPELINE/PrefetchDataset&quot;\\n  input: &quot;INPUT_PIPELINE/optimizations&quot;\\n  attr {\\n    key: &quot;optimization_configs&quot;\\n    value {\\n      list {\\n        s: &quot;map_vectorization:use_choose_fastest:false&quot;\\n      }\\n    }\\n  }\\n  attr {\\n    key: &quot;output_shapes&quot;\\n    value {\\n      list {\\n        shape {\\n          dim {\\n            size: -1\\n          }\\n          dim {\\n            size: 58\\n          }\\n        }\\n        shape {\\n          dim {\\n            size: -1\\n          }\\n          dim {\\n            size: 1\\n          }\\n        }\\n      }\\n    }\\n  }\\n  attr {\\n    key: &quot;output_types&quot;\\n    value {\\n      list {\\n        type: DT_FLOAT\\n        type: DT_INT32\\n      }\\n    }\\n  }\\n}\\nnode {\\n  name: &quot;INPUT_PIPELINE/ModelDataset&quot;\\n  op: &quot;ModelDataset&quot;\\n  input: &quot;INPUT_PIPELINE/OptimizeDataset&quot;\\n  attr {\\n    key: &quot;cpu_budget&quot;\\n    value {\\n      i: 0\\n    }\\n  }\\n  attr {\\n    key: &quot;output_shapes&quot;\\n    value {\\n      list {\\n        shape {\\n          dim {\\n            size: -1\\n          }\\n          dim {\\n            size: 58\\n          }\\n        }\\n        shape {\\n          dim {\\n            size: -1\\n          }\\n          dim {\\n            size: 1\\n          }\\n        }\\n      }\\n    }\\n  }\\n  attr {\\n    key: &quot;output_types&quot;\\n    value {\\n      list {\\n        type: DT_FLOAT\\n        type: DT_INT32\\n      }\\n    }\\n  }\\n}\\nnode {\\n  name: &quot;INPUT_PIPELINE/IteratorV2&quot;\\n  op: &quot;IteratorV2&quot;\\n  attr {\\n    key: &quot;container&quot;\\n    value {\\n      s: &quot;&quot;\\n    }\\n  }\\n  attr {\\n    key: &quot;output_shapes&quot;\\n    value {\\n      list {\\n        shape {\\n          dim {\\n            size: -1\\n          }\\n          dim {\\n            size: 58\\n          }\\n        }\\n        shape {\\n          dim {\\n            size: -1\\n          }\\n          dim {\\n            size: 1\\n          }\\n        }\\n      }\\n    }\\n  }\\n  attr {\\n    key: &quot;output_types&quot;\\n    value {\\n      list {\\n        type: DT_FLOAT\\n        type: DT_INT32\\n      }\\n    }\\n  }\\n  attr {\\n    key: &quot;shared_name&quot;\\n    value {\\n      s: &quot;&quot;\\n    }\\n  }\\n}\\nnode {\\n  name: &quot;INPUT_PIPELINE/MakeIterator&quot;\\n  op: &quot;MakeIterator&quot;\\n  input: &quot;INPUT_PIPELINE/ModelDataset&quot;\\n  input: &quot;INPUT_PIPELINE/IteratorV2&quot;\\n  attr {\\n    key: &quot;_class&quot;\\n    value {\\n      list {\\n        s: &quot;loc:@INPUT_PIPELINE/IteratorV2&quot;\\n      }\\n    }\\n  }\\n}\\nnode {\\n  name: &quot;INPUT_PIPELINE/IteratorToStringHandle&quot;\\n  op: &quot;IteratorToStringHandle&quot;\\n  input: &quot;INPUT_PIPELINE/IteratorV2&quot;\\n}\\nnode {\\n  name: &quot;INPUT_PIPELINE/optimizations_1&quot;\\n  op: &quot;Const&quot;\\n  attr {\\n    key: &quot;dtype&quot;\\n    value {\\n      type: DT_STRING\\n    }\\n  }\\n  attr {\\n    key: &quot;value&quot;\\n    value {\\n      tensor {\\n        dtype: DT_STRING\\n        tensor_shape {\\n          dim {\\n            size: 3\\n          }\\n        }\\n        string_val: &quot;map_and_batch_fusion&quot;\\n        string_val: &quot;noop_elimination&quot;\\n        string_val: &quot;shuffle_and_repeat_fusion&quot;\\n      }\\n    }\\n  }\\n}\\nnode {\\n  name: &quot;INPUT_PIPELINE/OptimizeDataset_1&quot;\\n  op: &quot;OptimizeDataset&quot;\\n  input: &quot;INPUT_PIPELINE/PrefetchDataset_2&quot;\\n  input: &quot;INPUT_PIPELINE/optimizations_1&quot;\\n  attr {\\n    key: &quot;optimization_configs&quot;\\n    value {\\n      list {\\n        s: &quot;map_vectorization:use_choose_fastest:false&quot;\\n      }\\n    }\\n  }\\n  attr {\\n    key: &quot;output_shapes&quot;\\n    value {\\n      list {\\n        shape {\\n          dim {\\n            size: -1\\n          }\\n          dim {\\n            size: 58\\n          }\\n        }\\n        shape {\\n          dim {\\n            size: -1\\n          }\\n          dim {\\n            size: 1\\n          }\\n        }\\n      }\\n    }\\n  }\\n  attr {\\n    key: &quot;output_types&quot;\\n    value {\\n      list {\\n        type: DT_FLOAT\\n        type: DT_INT32\\n      }\\n    }\\n  }\\n}\\nnode {\\n  name: &quot;INPUT_PIPELINE/ModelDataset_1&quot;\\n  op: &quot;ModelDataset&quot;\\n  input: &quot;INPUT_PIPELINE/OptimizeDataset_1&quot;\\n  attr {\\n    key: &quot;cpu_budget&quot;\\n    value {\\n      i: 0\\n    }\\n  }\\n  attr {\\n    key: &quot;output_shapes&quot;\\n    value {\\n      list {\\n        shape {\\n          dim {\\n            size: -1\\n          }\\n          dim {\\n            size: 58\\n          }\\n        }\\n        shape {\\n          dim {\\n            size: -1\\n          }\\n          dim {\\n            size: 1\\n          }\\n        }\\n      }\\n    }\\n  }\\n  attr {\\n    key: &quot;output_types&quot;\\n    value {\\n      list {\\n        type: DT_FLOAT\\n        type: DT_INT32\\n      }\\n    }\\n  }\\n}\\nnode {\\n  name: &quot;INPUT_PIPELINE/IteratorV2_1&quot;\\n  op: &quot;IteratorV2&quot;\\n  attr {\\n    key: &quot;container&quot;\\n    value {\\n      s: &quot;&quot;\\n    }\\n  }\\n  attr {\\n    key: &quot;output_shapes&quot;\\n    value {\\n      list {\\n        shape {\\n          dim {\\n            size: -1\\n          }\\n          dim {\\n            size: 58\\n          }\\n        }\\n        shape {\\n          dim {\\n            size: -1\\n          }\\n          dim {\\n            size: 1\\n          }\\n        }\\n      }\\n    }\\n  }\\n  attr {\\n    key: &quot;output_types&quot;\\n    value {\\n      list {\\n        type: DT_FLOAT\\n        type: DT_INT32\\n      }\\n    }\\n  }\\n  attr {\\n    key: &quot;shared_name&quot;\\n    value {\\n      s: &quot;&quot;\\n    }\\n  }\\n}\\nnode {\\n  name: &quot;INPUT_PIPELINE/MakeIterator_1&quot;\\n  op: &quot;MakeIterator&quot;\\n  input: &quot;INPUT_PIPELINE/ModelDataset_1&quot;\\n  input: &quot;INPUT_PIPELINE/IteratorV2_1&quot;\\n  attr {\\n    key: &quot;_class&quot;\\n    value {\\n      list {\\n        s: &quot;loc:@INPUT_PIPELINE/IteratorV2_1&quot;\\n      }\\n    }\\n  }\\n}\\nnode {\\n  name: &quot;INPUT_PIPELINE/IteratorToStringHandle_1&quot;\\n  op: &quot;IteratorToStringHandle&quot;\\n  input: &quot;INPUT_PIPELINE/IteratorV2_1&quot;\\n}\\nnode {\\n  name: &quot;INPUT_PIPELINE/optimizations_2&quot;\\n  op: &quot;Const&quot;\\n  attr {\\n    key: &quot;dtype&quot;\\n    value {\\n      type: DT_STRING\\n    }\\n  }\\n  attr {\\n    key: &quot;value&quot;\\n    value {\\n      tensor {\\n        dtype: DT_STRING\\n        tensor_shape {\\n          dim {\\n            size: 3\\n          }\\n        }\\n        string_val: &quot;map_and_batch_fusion&quot;\\n        string_val: &quot;noop_elimination&quot;\\n        string_val: &quot;shuffle_and_repeat_fusion&quot;\\n      }\\n    }\\n  }\\n}\\nnode {\\n  name: &quot;INPUT_PIPELINE/OptimizeDataset_2&quot;\\n  op: &quot;OptimizeDataset&quot;\\n  input: &quot;INPUT_PIPELINE/PrefetchDataset_1&quot;\\n  input: &quot;INPUT_PIPELINE/optimizations_2&quot;\\n  attr {\\n    key: &quot;optimization_configs&quot;\\n    value {\\n      list {\\n        s: &quot;map_vectorization:use_choose_fastest:false&quot;\\n      }\\n    }\\n  }\\n  attr {\\n    key: &quot;output_shapes&quot;\\n    value {\\n      list {\\n        shape {\\n          dim {\\n            size: -1\\n          }\\n          dim {\\n            size: 58\\n          }\\n        }\\n        shape {\\n          dim {\\n            size: -1\\n          }\\n          dim {\\n            size: 1\\n          }\\n        }\\n      }\\n    }\\n  }\\n  attr {\\n    key: &quot;output_types&quot;\\n    value {\\n      list {\\n        type: DT_FLOAT\\n        type: DT_INT32\\n      }\\n    }\\n  }\\n}\\nnode {\\n  name: &quot;INPUT_PIPELINE/ModelDataset_2&quot;\\n  op: &quot;ModelDataset&quot;\\n  input: &quot;INPUT_PIPELINE/OptimizeDataset_2&quot;\\n  attr {\\n    key: &quot;cpu_budget&quot;\\n    value {\\n      i: 0\\n    }\\n  }\\n  attr {\\n    key: &quot;output_shapes&quot;\\n    value {\\n      list {\\n        shape {\\n          dim {\\n            size: -1\\n          }\\n          dim {\\n            size: 58\\n          }\\n        }\\n        shape {\\n          dim {\\n            size: -1\\n          }\\n          dim {\\n            size: 1\\n          }\\n        }\\n      }\\n    }\\n  }\\n  attr {\\n    key: &quot;output_types&quot;\\n    value {\\n      list {\\n        type: DT_FLOAT\\n        type: DT_INT32\\n      }\\n    }\\n  }\\n}\\nnode {\\n  name: &quot;INPUT_PIPELINE/IteratorV2_2&quot;\\n  op: &quot;IteratorV2&quot;\\n  attr {\\n    key: &quot;container&quot;\\n    value {\\n      s: &quot;&quot;\\n    }\\n  }\\n  attr {\\n    key: &quot;output_shapes&quot;\\n    value {\\n      list {\\n        shape {\\n          dim {\\n            size: -1\\n          }\\n          dim {\\n            size: 58\\n          }\\n        }\\n        shape {\\n          dim {\\n            size: -1\\n          }\\n          dim {\\n            size: 1\\n          }\\n        }\\n      }\\n    }\\n  }\\n  attr {\\n    key: &quot;output_types&quot;\\n    value {\\n      list {\\n        type: DT_FLOAT\\n        type: DT_INT32\\n      }\\n    }\\n  }\\n  attr {\\n    key: &quot;shared_name&quot;\\n    value {\\n      s: &quot;&quot;\\n    }\\n  }\\n}\\nnode {\\n  name: &quot;INPUT_PIPELINE/MakeIterator_2&quot;\\n  op: &quot;MakeIterator&quot;\\n  input: &quot;INPUT_PIPELINE/ModelDataset_2&quot;\\n  input: &quot;INPUT_PIPELINE/IteratorV2_2&quot;\\n  attr {\\n    key: &quot;_class&quot;\\n    value {\\n      list {\\n        s: &quot;loc:@INPUT_PIPELINE/IteratorV2_2&quot;\\n      }\\n    }\\n  }\\n}\\nnode {\\n  name: &quot;INPUT_PIPELINE/IteratorToStringHandle_2&quot;\\n  op: &quot;IteratorToStringHandle&quot;\\n  input: &quot;INPUT_PIPELINE/IteratorV2_2&quot;\\n}\\nnode {\\n  name: &quot;INPUT_PIPELINE/IteratorGetNext&quot;\\n  op: &quot;IteratorGetNext&quot;\\n  input: &quot;INPUT_PIPELINE/IteratorV2&quot;\\n  attr {\\n    key: &quot;output_shapes&quot;\\n    value {\\n      list {\\n        shape {\\n          dim {\\n            size: -1\\n          }\\n          dim {\\n            size: 58\\n          }\\n        }\\n        shape {\\n          dim {\\n            size: -1\\n          }\\n          dim {\\n            size: 1\\n          }\\n        }\\n      }\\n    }\\n  }\\n  attr {\\n    key: &quot;output_types&quot;\\n    value {\\n      list {\\n        type: DT_FLOAT\\n        type: DT_INT32\\n      }\\n    }\\n  }\\n}\\nnode {\\n  name: &quot;INPUT_PIPELINE/IteratorGetNext_1&quot;\\n  op: &quot;IteratorGetNext&quot;\\n  input: &quot;INPUT_PIPELINE/IteratorV2_2&quot;\\n  attr {\\n    key: &quot;output_shapes&quot;\\n    value {\\n      list {\\n        shape {\\n          dim {\\n            size: -1\\n          }\\n          dim {\\n            size: 58\\n          }\\n        }\\n        shape {\\n          dim {\\n            size: -1\\n          }\\n          dim {\\n            size: 1\\n          }\\n        }\\n      }\\n    }\\n  }\\n  attr {\\n    key: &quot;output_types&quot;\\n    value {\\n      list {\\n        type: DT_FLOAT\\n        type: DT_INT32\\n      }\\n    }\\n  }\\n}\\nnode {\\n  name: &quot;INPUT_PIPELINE/IteratorGetNext_2&quot;\\n  op: &quot;IteratorGetNext&quot;\\n  input: &quot;INPUT_PIPELINE/IteratorV2_1&quot;\\n  attr {\\n    key: &quot;output_shapes&quot;\\n    value {\\n      list {\\n        shape {\\n          dim {\\n            size: -1\\n          }\\n          dim {\\n            size: 58\\n          }\\n        }\\n        shape {\\n          dim {\\n            size: -1\\n          }\\n          dim {\\n            size: 1\\n          }\\n        }\\n      }\\n    }\\n  }\\n  attr {\\n    key: &quot;output_types&quot;\\n    value {\\n      list {\\n        type: DT_FLOAT\\n        type: DT_INT32\\n      }\\n    }\\n  }\\n}\\nnode {\\n  name: &quot;INPUT_PIPELINE/Identity&quot;\\n  op: &quot;Identity&quot;\\n  input: &quot;INPUT_PIPELINE/IteratorGetNext&quot;\\n  attr {\\n    key: &quot;T&quot;\\n    value {\\n      type: DT_FLOAT\\n    }\\n  }\\n}\\nnode {\\n  name: &quot;INPUT_PIPELINE/Identity_1&quot;\\n  op: &quot;Identity&quot;\\n  input: &quot;INPUT_PIPELINE/IteratorGetNext:1&quot;\\n  attr {\\n    key: &quot;T&quot;\\n    value {\\n      type: DT_INT32\\n    }\\n  }\\n}\\nnode {\\n  name: &quot;W0/Initializer/random_normal/shape&quot;\\n  op: &quot;Const&quot;\\n  attr {\\n    key: &quot;_class&quot;\\n    value {\\n      list {\\n        s: &quot;loc:@W0&quot;\\n      }\\n    }\\n  }\\n  attr {\\n    key: &quot;dtype&quot;\\n    value {\\n      type: DT_INT32\\n    }\\n  }\\n  attr {\\n    key: &quot;value&quot;\\n    value {\\n      tensor {\\n        dtype: DT_INT32\\n        tensor_shape {\\n          dim {\\n            size: 2\\n          }\\n        }\\n        tensor_content: &quot;:\\\\000\\\\000\\\\000\\\\200\\\\000\\\\000\\\\000&quot;\\n      }\\n    }\\n  }\\n}\\nnode {\\n  name: &quot;W0/Initializer/random_normal/mean&quot;\\n  op: &quot;Const&quot;\\n  attr {\\n    key: &quot;_class&quot;\\n    value {\\n      list {\\n        s: &quot;loc:@W0&quot;\\n      }\\n    }\\n  }\\n  attr {\\n    key: &quot;dtype&quot;\\n    value {\\n      type: DT_FLOAT\\n    }\\n  }\\n  attr {\\n    key: &quot;value&quot;\\n    value {\\n      tensor {\\n        dtype: DT_FLOAT\\n        tensor_shape {\\n        }\\n        float_val: 0.0\\n      }\\n    }\\n  }\\n}\\nnode {\\n  name: &quot;W0/Initializer/random_normal/stddev&quot;\\n  op: &quot;Const&quot;\\n  attr {\\n    key: &quot;_class&quot;\\n    value {\\n      list {\\n        s: &quot;loc:@W0&quot;\\n      }\\n    }\\n  }\\n  attr {\\n    key: &quot;dtype&quot;\\n    value {\\n      type: DT_FLOAT\\n    }\\n  }\\n  attr {\\n    key: &quot;value&quot;\\n    value {\\n      tensor {\\n        dtype: DT_FLOAT\\n        tensor_shape {\\n        }\\n        float_val: 0.25\\n      }\\n    }\\n  }\\n}\\nnode {\\n  name: &quot;W0/Initializer/random_normal/RandomStandardNormal&quot;\\n  op: &quot;RandomStandardNormal&quot;\\n  input: &quot;W0/Initializer/random_normal/shape&quot;\\n  attr {\\n    key: &quot;T&quot;\\n    value {\\n      type: DT_INT32\\n    }\\n  }\\n  attr {\\n    key: &quot;_class&quot;\\n    value {\\n      list {\\n        s: &quot;loc:@W0&quot;\\n      }\\n    }\\n  }\\n  attr {\\n    key: &quot;dtype&quot;\\n    value {\\n      type: DT_FLOAT\\n    }\\n  }\\n  attr {\\n    key: &quot;seed&quot;\\n    value {\\n      i: 0\\n    }\\n  }\\n  attr {\\n    key: &quot;seed2&quot;\\n    value {\\n      i: 0\\n    }\\n  }\\n}\\nnode {\\n  name: &quot;W0/Initializer/random_normal/mul&quot;\\n  op: &quot;Mul&quot;\\n  input: &quot;W0/Initializer/random_normal/RandomStandardNormal&quot;\\n  input: &quot;W0/Initializer/random_normal/stddev&quot;\\n  attr {\\n    key: &quot;T&quot;\\n    value {\\n      type: DT_FLOAT\\n    }\\n  }\\n  attr {\\n    key: &quot;_class&quot;\\n    value {\\n      list {\\n        s: &quot;loc:@W0&quot;\\n      }\\n    }\\n  }\\n}\\nnode {\\n  name: &quot;W0/Initializer/random_normal&quot;\\n  op: &quot;Add&quot;\\n  input: &quot;W0/Initializer/random_normal/mul&quot;\\n  input: &quot;W0/Initializer/random_normal/mean&quot;\\n  attr {\\n    key: &quot;T&quot;\\n    value {\\n      type: DT_FLOAT\\n    }\\n  }\\n  attr {\\n    key: &quot;_class&quot;\\n    value {\\n      list {\\n        s: &quot;loc:@W0&quot;\\n      }\\n    }\\n  }\\n}\\nnode {\\n  name: &quot;W0&quot;\\n  op: &quot;VariableV2&quot;\\n  attr {\\n    key: &quot;_class&quot;\\n    value {\\n      list {\\n        s: &quot;loc:@W0&quot;\\n      }\\n    }\\n  }\\n  attr {\\n    key: &quot;container&quot;\\n    value {\\n      s: &quot;&quot;\\n    }\\n  }\\n  attr {\\n    key: &quot;dtype&quot;\\n    value {\\n      type: DT_FLOAT\\n    }\\n  }\\n  attr {\\n    key: &quot;shape&quot;\\n    value {\\n      shape {\\n        dim {\\n          size: 58\\n        }\\n        dim {\\n          size: 128\\n        }\\n      }\\n    }\\n  }\\n  attr {\\n    key: &quot;shared_name&quot;\\n    value {\\n      s: &quot;&quot;\\n    }\\n  }\\n}\\nnode {\\n  name: &quot;W0/Assign&quot;\\n  op: &quot;Assign&quot;\\n  input: &quot;W0&quot;\\n  input: &quot;W0/Initializer/random_normal&quot;\\n  attr {\\n    key: &quot;T&quot;\\n    value {\\n      type: DT_FLOAT\\n    }\\n  }\\n  attr {\\n    key: &quot;_class&quot;\\n    value {\\n      list {\\n        s: &quot;loc:@W0&quot;\\n      }\\n    }\\n  }\\n  attr {\\n    key: &quot;use_locking&quot;\\n    value {\\n      b: true\\n    }\\n  }\\n  attr {\\n    key: &quot;validate_shape&quot;\\n    value {\\n      b: true\\n    }\\n  }\\n}\\nnode {\\n  name: &quot;W0/read&quot;\\n  op: &quot;Identity&quot;\\n  input: &quot;W0&quot;\\n  attr {\\n    key: &quot;T&quot;\\n    value {\\n      type: DT_FLOAT\\n    }\\n  }\\n  attr {\\n    key: &quot;_class&quot;\\n    value {\\n      list {\\n        s: &quot;loc:@W0&quot;\\n      }\\n    }\\n  }\\n}\\nnode {\\n  name: &quot;B0/Initializer/zeros&quot;\\n  op: &quot;Const&quot;\\n  attr {\\n    key: &quot;_class&quot;\\n    value {\\n      list {\\n        s: &quot;loc:@B0&quot;\\n      }\\n    }\\n  }\\n  attr {\\n    key: &quot;dtype&quot;\\n    value {\\n      type: DT_FLOAT\\n    }\\n  }\\n  attr {\\n    key: &quot;value&quot;\\n    value {\\n      tensor {\\n        dtype: DT_FLOAT\\n        tensor_shape {\\n          dim {\\n            size: 128\\n          }\\n        }\\n        float_val: 0.0\\n      }\\n    }\\n  }\\n}\\nnode {\\n  name: &quot;B0&quot;\\n  op: &quot;VariableV2&quot;\\n  attr {\\n    key: &quot;_class&quot;\\n    value {\\n      list {\\n        s: &quot;loc:@B0&quot;\\n      }\\n    }\\n  }\\n  attr {\\n    key: &quot;container&quot;\\n    value {\\n      s: &quot;&quot;\\n    }\\n  }\\n  attr {\\n    key: &quot;dtype&quot;\\n    value {\\n      type: DT_FLOAT\\n    }\\n  }\\n  attr {\\n    key: &quot;shape&quot;\\n    value {\\n      shape {\\n        dim {\\n          size: 128\\n        }\\n      }\\n    }\\n  }\\n  attr {\\n    key: &quot;shared_name&quot;\\n    value {\\n      s: &quot;&quot;\\n    }\\n  }\\n}\\nnode {\\n  name: &quot;B0/Assign&quot;\\n  op: &quot;Assign&quot;\\n  input: &quot;B0&quot;\\n  input: &quot;B0/Initializer/zeros&quot;\\n  attr {\\n    key: &quot;T&quot;\\n    value {\\n      type: DT_FLOAT\\n    }\\n  }\\n  attr {\\n    key: &quot;_class&quot;\\n    value {\\n      list {\\n        s: &quot;loc:@B0&quot;\\n      }\\n    }\\n  }\\n  attr {\\n    key: &quot;use_locking&quot;\\n    value {\\n      b: true\\n    }\\n  }\\n  attr {\\n    key: &quot;validate_shape&quot;\\n    value {\\n      b: true\\n    }\\n  }\\n}\\nnode {\\n  name: &quot;B0/read&quot;\\n  op: &quot;Identity&quot;\\n  input: &quot;B0&quot;\\n  attr {\\n    key: &quot;T&quot;\\n    value {\\n      type: DT_FLOAT\\n    }\\n  }\\n  attr {\\n    key: &quot;_class&quot;\\n    value {\\n      list {\\n        s: &quot;loc:@B0&quot;\\n      }\\n    }\\n  }\\n}\\nnode {\\n  name: &quot;W1/Initializer/random_normal/shape&quot;\\n  op: &quot;Const&quot;\\n  attr {\\n    key: &quot;_class&quot;\\n    value {\\n      list {\\n        s: &quot;loc:@W1&quot;\\n      }\\n    }\\n  }\\n  attr {\\n    key: &quot;dtype&quot;\\n    value {\\n      type: DT_INT32\\n    }\\n  }\\n  attr {\\n    key: &quot;value&quot;\\n    value {\\n      tensor {\\n        dtype: DT_INT32\\n        tensor_shape {\\n          dim {\\n            size: 2\\n          }\\n        }\\n        tensor_content: &quot;\\\\200\\\\000\\\\000\\\\000\\\\000\\\\001\\\\000\\\\000&quot;\\n      }\\n    }\\n  }\\n}\\nnode {\\n  name: &quot;W1/Initializer/random_normal/mean&quot;\\n  op: &quot;Const&quot;\\n  attr {\\n    key: &quot;_class&quot;\\n    value {\\n      list {\\n        s: &quot;loc:@W1&quot;\\n      }\\n    }\\n  }\\n  attr {\\n    key: &quot;dtype&quot;\\n    value {\\n      type: DT_FLOAT\\n    }\\n  }\\n  attr {\\n    key: &quot;value&quot;\\n    value {\\n      tensor {\\n        dtype: DT_FLOAT\\n        tensor_shape {\\n        }\\n        float_val: 0.0\\n      }\\n    }\\n  }\\n}\\nnode {\\n  name: &quot;W1/Initializer/random_normal/stddev&quot;\\n  op: &quot;Const&quot;\\n  attr {\\n    key: &quot;_class&quot;\\n    value {\\n      list {\\n        s: &quot;loc:@W1&quot;\\n      }\\n    }\\n  }\\n  attr {\\n    key: &quot;dtype&quot;\\n    value {\\n      type: DT_FLOAT\\n    }\\n  }\\n  attr {\\n    key: &quot;value&quot;\\n    value {\\n      tensor {\\n        dtype: DT_FLOAT\\n        tensor_shape {\\n        }\\n        float_val: 0.25\\n      }\\n    }\\n  }\\n}\\nnode {\\n  name: &quot;W1/Initializer/random_normal/RandomStandardNormal&quot;\\n  op: &quot;RandomStandardNormal&quot;\\n  input: &quot;W1/Initializer/random_normal/shape&quot;\\n  attr {\\n    key: &quot;T&quot;\\n    value {\\n      type: DT_INT32\\n    }\\n  }\\n  attr {\\n    key: &quot;_class&quot;\\n    value {\\n      list {\\n        s: &quot;loc:@W1&quot;\\n      }\\n    }\\n  }\\n  attr {\\n    key: &quot;dtype&quot;\\n    value {\\n      type: DT_FLOAT\\n    }\\n  }\\n  attr {\\n    key: &quot;seed&quot;\\n    value {\\n      i: 0\\n    }\\n  }\\n  attr {\\n    key: &quot;seed2&quot;\\n    value {\\n      i: 0\\n    }\\n  }\\n}\\nnode {\\n  name: &quot;W1/Initializer/random_normal/mul&quot;\\n  op: &quot;Mul&quot;\\n  input: &quot;W1/Initializer/random_normal/RandomStandardNormal&quot;\\n  input: &quot;W1/Initializer/random_normal/stddev&quot;\\n  attr {\\n    key: &quot;T&quot;\\n    value {\\n      type: DT_FLOAT\\n    }\\n  }\\n  attr {\\n    key: &quot;_class&quot;\\n    value {\\n      list {\\n        s: &quot;loc:@W1&quot;\\n      }\\n    }\\n  }\\n}\\nnode {\\n  name: &quot;W1/Initializer/random_normal&quot;\\n  op: &quot;Add&quot;\\n  input: &quot;W1/Initializer/random_normal/mul&quot;\\n  input: &quot;W1/Initializer/random_normal/mean&quot;\\n  attr {\\n    key: &quot;T&quot;\\n    value {\\n      type: DT_FLOAT\\n    }\\n  }\\n  attr {\\n    key: &quot;_class&quot;\\n    value {\\n      list {\\n        s: &quot;loc:@W1&quot;\\n      }\\n    }\\n  }\\n}\\nnode {\\n  name: &quot;W1&quot;\\n  op: &quot;VariableV2&quot;\\n  attr {\\n    key: &quot;_class&quot;\\n    value {\\n      list {\\n        s: &quot;loc:@W1&quot;\\n      }\\n    }\\n  }\\n  attr {\\n    key: &quot;container&quot;\\n    value {\\n      s: &quot;&quot;\\n    }\\n  }\\n  attr {\\n    key: &quot;dtype&quot;\\n    value {\\n      type: DT_FLOAT\\n    }\\n  }\\n  attr {\\n    key: &quot;shape&quot;\\n    value {\\n      shape {\\n        dim {\\n          size: 128\\n        }\\n        dim {\\n          size: 256\\n        }\\n      }\\n    }\\n  }\\n  attr {\\n    key: &quot;shared_name&quot;\\n    value {\\n      s: &quot;&quot;\\n    }\\n  }\\n}\\nnode {\\n  name: &quot;W1/Assign&quot;\\n  op: &quot;Assign&quot;\\n  input: &quot;W1&quot;\\n  input: &quot;W1/Initializer/random_normal&quot;\\n  attr {\\n    key: &quot;T&quot;\\n    value {\\n      type: DT_FLOAT\\n    }\\n  }\\n  attr {\\n    key: &quot;_class&quot;\\n    value {\\n      list {\\n        s: &quot;loc:@W1&quot;\\n      }\\n    }\\n  }\\n  attr {\\n    key: &quot;use_locking&quot;\\n    value {\\n      b: true\\n    }\\n  }\\n  attr {\\n    key: &quot;validate_shape&quot;\\n    value {\\n      b: true\\n    }\\n  }\\n}\\nnode {\\n  name: &quot;W1/read&quot;\\n  op: &quot;Identity&quot;\\n  input: &quot;W1&quot;\\n  attr {\\n    key: &quot;T&quot;\\n    value {\\n      type: DT_FLOAT\\n    }\\n  }\\n  attr {\\n    key: &quot;_class&quot;\\n    value {\\n      list {\\n        s: &quot;loc:@W1&quot;\\n      }\\n    }\\n  }\\n}\\nnode {\\n  name: &quot;B1/Initializer/zeros&quot;\\n  op: &quot;Const&quot;\\n  attr {\\n    key: &quot;_class&quot;\\n    value {\\n      list {\\n        s: &quot;loc:@B1&quot;\\n      }\\n    }\\n  }\\n  attr {\\n    key: &quot;dtype&quot;\\n    value {\\n      type: DT_FLOAT\\n    }\\n  }\\n  attr {\\n    key: &quot;value&quot;\\n    value {\\n      tensor {\\n        dtype: DT_FLOAT\\n        tensor_shape {\\n          dim {\\n            size: 256\\n          }\\n        }\\n        float_val: 0.0\\n      }\\n    }\\n  }\\n}\\nnode {\\n  name: &quot;B1&quot;\\n  op: &quot;VariableV2&quot;\\n  attr {\\n    key: &quot;_class&quot;\\n    value {\\n      list {\\n        s: &quot;loc:@B1&quot;\\n      }\\n    }\\n  }\\n  attr {\\n    key: &quot;container&quot;\\n    value {\\n      s: &quot;&quot;\\n    }\\n  }\\n  attr {\\n    key: &quot;dtype&quot;\\n    value {\\n      type: DT_FLOAT\\n    }\\n  }\\n  attr {\\n    key: &quot;shape&quot;\\n    value {\\n      shape {\\n        dim {\\n          size: 256\\n        }\\n      }\\n    }\\n  }\\n  attr {\\n    key: &quot;shared_name&quot;\\n    value {\\n      s: &quot;&quot;\\n    }\\n  }\\n}\\nnode {\\n  name: &quot;B1/Assign&quot;\\n  op: &quot;Assign&quot;\\n  input: &quot;B1&quot;\\n  input: &quot;B1/Initializer/zeros&quot;\\n  attr {\\n    key: &quot;T&quot;\\n    value {\\n      type: DT_FLOAT\\n    }\\n  }\\n  attr {\\n    key: &quot;_class&quot;\\n    value {\\n      list {\\n        s: &quot;loc:@B1&quot;\\n      }\\n    }\\n  }\\n  attr {\\n    key: &quot;use_locking&quot;\\n    value {\\n      b: true\\n    }\\n  }\\n  attr {\\n    key: &quot;validate_shape&quot;\\n    value {\\n      b: true\\n    }\\n  }\\n}\\nnode {\\n  name: &quot;B1/read&quot;\\n  op: &quot;Identity&quot;\\n  input: &quot;B1&quot;\\n  attr {\\n    key: &quot;T&quot;\\n    value {\\n      type: DT_FLOAT\\n    }\\n  }\\n  attr {\\n    key: &quot;_class&quot;\\n    value {\\n      list {\\n        s: &quot;loc:@B1&quot;\\n      }\\n    }\\n  }\\n}\\nnode {\\n  name: &quot;W2/Initializer/random_normal/shape&quot;\\n  op: &quot;Const&quot;\\n  attr {\\n    key: &quot;_class&quot;\\n    value {\\n      list {\\n        s: &quot;loc:@W2&quot;\\n      }\\n    }\\n  }\\n  attr {\\n    key: &quot;dtype&quot;\\n    value {\\n      type: DT_INT32\\n    }\\n  }\\n  attr {\\n    key: &quot;value&quot;\\n    value {\\n      tensor {\\n        dtype: DT_INT32\\n        tensor_shape {\\n          dim {\\n            size: 2\\n          }\\n        }\\n        tensor_content: &quot;\\\\000\\\\001\\\\000\\\\000\\\\200\\\\000\\\\000\\\\000&quot;\\n      }\\n    }\\n  }\\n}\\nnode {\\n  name: &quot;W2/Initializer/random_normal/mean&quot;\\n  op: &quot;Const&quot;\\n  attr {\\n    key: &quot;_class&quot;\\n    value {\\n      list {\\n        s: &quot;loc:@W2&quot;\\n      }\\n    }\\n  }\\n  attr {\\n    key: &quot;dtype&quot;\\n    value {\\n      type: DT_FLOAT\\n    }\\n  }\\n  attr {\\n    key: &quot;value&quot;\\n    value {\\n      tensor {\\n        dtype: DT_FLOAT\\n        tensor_shape {\\n        }\\n        float_val: 0.0\\n      }\\n    }\\n  }\\n}\\nnode {\\n  name: &quot;W2/Initializer/random_normal/stddev&quot;\\n  op: &quot;Const&quot;\\n  attr {\\n    key: &quot;_class&quot;\\n    value {\\n      list {\\n        s: &quot;loc:@W2&quot;\\n      }\\n    }\\n  }\\n  attr {\\n    key: &quot;dtype&quot;\\n    value {\\n      type: DT_FLOAT\\n    }\\n  }\\n  attr {\\n    key: &quot;value&quot;\\n    value {\\n      tensor {\\n        dtype: DT_FLOAT\\n        tensor_shape {\\n        }\\n        float_val: 0.25\\n      }\\n    }\\n  }\\n}\\nnode {\\n  name: &quot;W2/Initializer/random_normal/RandomStandardNormal&quot;\\n  op: &quot;RandomStandardNormal&quot;\\n  input: &quot;W2/Initializer/random_normal/shape&quot;\\n  attr {\\n    key: &quot;T&quot;\\n    value {\\n      type: DT_INT32\\n    }\\n  }\\n  attr {\\n    key: &quot;_class&quot;\\n    value {\\n      list {\\n        s: &quot;loc:@W2&quot;\\n      }\\n    }\\n  }\\n  attr {\\n    key: &quot;dtype&quot;\\n    value {\\n      type: DT_FLOAT\\n    }\\n  }\\n  attr {\\n    key: &quot;seed&quot;\\n    value {\\n      i: 0\\n    }\\n  }\\n  attr {\\n    key: &quot;seed2&quot;\\n    value {\\n      i: 0\\n    }\\n  }\\n}\\nnode {\\n  name: &quot;W2/Initializer/random_normal/mul&quot;\\n  op: &quot;Mul&quot;\\n  input: &quot;W2/Initializer/random_normal/RandomStandardNormal&quot;\\n  input: &quot;W2/Initializer/random_normal/stddev&quot;\\n  attr {\\n    key: &quot;T&quot;\\n    value {\\n      type: DT_FLOAT\\n    }\\n  }\\n  attr {\\n    key: &quot;_class&quot;\\n    value {\\n      list {\\n        s: &quot;loc:@W2&quot;\\n      }\\n    }\\n  }\\n}\\nnode {\\n  name: &quot;W2/Initializer/random_normal&quot;\\n  op: &quot;Add&quot;\\n  input: &quot;W2/Initializer/random_normal/mul&quot;\\n  input: &quot;W2/Initializer/random_normal/mean&quot;\\n  attr {\\n    key: &quot;T&quot;\\n    value {\\n      type: DT_FLOAT\\n    }\\n  }\\n  attr {\\n    key: &quot;_class&quot;\\n    value {\\n      list {\\n        s: &quot;loc:@W2&quot;\\n      }\\n    }\\n  }\\n}\\nnode {\\n  name: &quot;W2&quot;\\n  op: &quot;VariableV2&quot;\\n  attr {\\n    key: &quot;_class&quot;\\n    value {\\n      list {\\n        s: &quot;loc:@W2&quot;\\n      }\\n    }\\n  }\\n  attr {\\n    key: &quot;container&quot;\\n    value {\\n      s: &quot;&quot;\\n    }\\n  }\\n  attr {\\n    key: &quot;dtype&quot;\\n    value {\\n      type: DT_FLOAT\\n    }\\n  }\\n  attr {\\n    key: &quot;shape&quot;\\n    value {\\n      shape {\\n        dim {\\n          size: 256\\n        }\\n        dim {\\n          size: 128\\n        }\\n      }\\n    }\\n  }\\n  attr {\\n    key: &quot;shared_name&quot;\\n    value {\\n      s: &quot;&quot;\\n    }\\n  }\\n}\\nnode {\\n  name: &quot;W2/Assign&quot;\\n  op: &quot;Assign&quot;\\n  input: &quot;W2&quot;\\n  input: &quot;W2/Initializer/random_normal&quot;\\n  attr {\\n    key: &quot;T&quot;\\n    value {\\n      type: DT_FLOAT\\n    }\\n  }\\n  attr {\\n    key: &quot;_class&quot;\\n    value {\\n      list {\\n        s: &quot;loc:@W2&quot;\\n      }\\n    }\\n  }\\n  attr {\\n    key: &quot;use_locking&quot;\\n    value {\\n      b: true\\n    }\\n  }\\n  attr {\\n    key: &quot;validate_shape&quot;\\n    value {\\n      b: true\\n    }\\n  }\\n}\\nnode {\\n  name: &quot;W2/read&quot;\\n  op: &quot;Identity&quot;\\n  input: &quot;W2&quot;\\n  attr {\\n    key: &quot;T&quot;\\n    value {\\n      type: DT_FLOAT\\n    }\\n  }\\n  attr {\\n    key: &quot;_class&quot;\\n    value {\\n      list {\\n        s: &quot;loc:@W2&quot;\\n      }\\n    }\\n  }\\n}\\nnode {\\n  name: &quot;B2/Initializer/zeros&quot;\\n  op: &quot;Const&quot;\\n  attr {\\n    key: &quot;_class&quot;\\n    value {\\n      list {\\n        s: &quot;loc:@B2&quot;\\n      }\\n    }\\n  }\\n  attr {\\n    key: &quot;dtype&quot;\\n    value {\\n      type: DT_FLOAT\\n    }\\n  }\\n  attr {\\n    key: &quot;value&quot;\\n    value {\\n      tensor {\\n        dtype: DT_FLOAT\\n        tensor_shape {\\n          dim {\\n            size: 128\\n          }\\n        }\\n        float_val: 0.0\\n      }\\n    }\\n  }\\n}\\nnode {\\n  name: &quot;B2&quot;\\n  op: &quot;VariableV2&quot;\\n  attr {\\n    key: &quot;_class&quot;\\n    value {\\n      list {\\n        s: &quot;loc:@B2&quot;\\n      }\\n    }\\n  }\\n  attr {\\n    key: &quot;container&quot;\\n    value {\\n      s: &quot;&quot;\\n    }\\n  }\\n  attr {\\n    key: &quot;dtype&quot;\\n    value {\\n      type: DT_FLOAT\\n    }\\n  }\\n  attr {\\n    key: &quot;shape&quot;\\n    value {\\n      shape {\\n        dim {\\n          size: 128\\n        }\\n      }\\n    }\\n  }\\n  attr {\\n    key: &quot;shared_name&quot;\\n    value {\\n      s: &quot;&quot;\\n    }\\n  }\\n}\\nnode {\\n  name: &quot;B2/Assign&quot;\\n  op: &quot;Assign&quot;\\n  input: &quot;B2&quot;\\n  input: &quot;B2/Initializer/zeros&quot;\\n  attr {\\n    key: &quot;T&quot;\\n    value {\\n      type: DT_FLOAT\\n    }\\n  }\\n  attr {\\n    key: &quot;_class&quot;\\n    value {\\n      list {\\n        s: &quot;loc:@B2&quot;\\n      }\\n    }\\n  }\\n  attr {\\n    key: &quot;use_locking&quot;\\n    value {\\n      b: true\\n    }\\n  }\\n  attr {\\n    key: &quot;validate_shape&quot;\\n    value {\\n      b: true\\n    }\\n  }\\n}\\nnode {\\n  name: &quot;B2/read&quot;\\n  op: &quot;Identity&quot;\\n  input: &quot;B2&quot;\\n  attr {\\n    key: &quot;T&quot;\\n    value {\\n      type: DT_FLOAT\\n    }\\n  }\\n  attr {\\n    key: &quot;_class&quot;\\n    value {\\n      list {\\n        s: &quot;loc:@B2&quot;\\n      }\\n    }\\n  }\\n}\\nnode {\\n  name: &quot;W3/Initializer/random_normal/shape&quot;\\n  op: &quot;Const&quot;\\n  attr {\\n    key: &quot;_class&quot;\\n    value {\\n      list {\\n        s: &quot;loc:@W3&quot;\\n      }\\n    }\\n  }\\n  attr {\\n    key: &quot;dtype&quot;\\n    value {\\n      type: DT_INT32\\n    }\\n  }\\n  attr {\\n    key: &quot;value&quot;\\n    value {\\n      tensor {\\n        dtype: DT_INT32\\n        tensor_shape {\\n          dim {\\n            size: 2\\n          }\\n        }\\n        tensor_content: &quot;\\\\200\\\\000\\\\000\\\\000 \\\\000\\\\000\\\\000&quot;\\n      }\\n    }\\n  }\\n}\\nnode {\\n  name: &quot;W3/Initializer/random_normal/mean&quot;\\n  op: &quot;Const&quot;\\n  attr {\\n    key: &quot;_class&quot;\\n    value {\\n      list {\\n        s: &quot;loc:@W3&quot;\\n      }\\n    }\\n  }\\n  attr {\\n    key: &quot;dtype&quot;\\n    value {\\n      type: DT_FLOAT\\n    }\\n  }\\n  attr {\\n    key: &quot;value&quot;\\n    value {\\n      tensor {\\n        dtype: DT_FLOAT\\n        tensor_shape {\\n        }\\n        float_val: 0.0\\n      }\\n    }\\n  }\\n}\\nnode {\\n  name: &quot;W3/Initializer/random_normal/stddev&quot;\\n  op: &quot;Const&quot;\\n  attr {\\n    key: &quot;_class&quot;\\n    value {\\n      list {\\n        s: &quot;loc:@W3&quot;\\n      }\\n    }\\n  }\\n  attr {\\n    key: &quot;dtype&quot;\\n    value {\\n      type: DT_FLOAT\\n    }\\n  }\\n  attr {\\n    key: &quot;value&quot;\\n    value {\\n      tensor {\\n        dtype: DT_FLOAT\\n        tensor_shape {\\n        }\\n        float_val: 0.25\\n      }\\n    }\\n  }\\n}\\nnode {\\n  name: &quot;W3/Initializer/random_normal/RandomStandardNormal&quot;\\n  op: &quot;RandomStandardNormal&quot;\\n  input: &quot;W3/Initializer/random_normal/shape&quot;\\n  attr {\\n    key: &quot;T&quot;\\n    value {\\n      type: DT_INT32\\n    }\\n  }\\n  attr {\\n    key: &quot;_class&quot;\\n    value {\\n      list {\\n        s: &quot;loc:@W3&quot;\\n      }\\n    }\\n  }\\n  attr {\\n    key: &quot;dtype&quot;\\n    value {\\n      type: DT_FLOAT\\n    }\\n  }\\n  attr {\\n    key: &quot;seed&quot;\\n    value {\\n      i: 0\\n    }\\n  }\\n  attr {\\n    key: &quot;seed2&quot;\\n    value {\\n      i: 0\\n    }\\n  }\\n}\\nnode {\\n  name: &quot;W3/Initializer/random_normal/mul&quot;\\n  op: &quot;Mul&quot;\\n  input: &quot;W3/Initializer/random_normal/RandomStandardNormal&quot;\\n  input: &quot;W3/Initializer/random_normal/stddev&quot;\\n  attr {\\n    key: &quot;T&quot;\\n    value {\\n      type: DT_FLOAT\\n    }\\n  }\\n  attr {\\n    key: &quot;_class&quot;\\n    value {\\n      list {\\n        s: &quot;loc:@W3&quot;\\n      }\\n    }\\n  }\\n}\\nnode {\\n  name: &quot;W3/Initializer/random_normal&quot;\\n  op: &quot;Add&quot;\\n  input: &quot;W3/Initializer/random_normal/mul&quot;\\n  input: &quot;W3/Initializer/random_normal/mean&quot;\\n  attr {\\n    key: &quot;T&quot;\\n    value {\\n      type: DT_FLOAT\\n    }\\n  }\\n  attr {\\n    key: &quot;_class&quot;\\n    value {\\n      list {\\n        s: &quot;loc:@W3&quot;\\n      }\\n    }\\n  }\\n}\\nnode {\\n  name: &quot;W3&quot;\\n  op: &quot;VariableV2&quot;\\n  attr {\\n    key: &quot;_class&quot;\\n    value {\\n      list {\\n        s: &quot;loc:@W3&quot;\\n      }\\n    }\\n  }\\n  attr {\\n    key: &quot;container&quot;\\n    value {\\n      s: &quot;&quot;\\n    }\\n  }\\n  attr {\\n    key: &quot;dtype&quot;\\n    value {\\n      type: DT_FLOAT\\n    }\\n  }\\n  attr {\\n    key: &quot;shape&quot;\\n    value {\\n      shape {\\n        dim {\\n          size: 128\\n        }\\n        dim {\\n          size: 32\\n        }\\n      }\\n    }\\n  }\\n  attr {\\n    key: &quot;shared_name&quot;\\n    value {\\n      s: &quot;&quot;\\n    }\\n  }\\n}\\nnode {\\n  name: &quot;W3/Assign&quot;\\n  op: &quot;Assign&quot;\\n  input: &quot;W3&quot;\\n  input: &quot;W3/Initializer/random_normal&quot;\\n  attr {\\n    key: &quot;T&quot;\\n    value {\\n      type: DT_FLOAT\\n    }\\n  }\\n  attr {\\n    key: &quot;_class&quot;\\n    value {\\n      list {\\n        s: &quot;loc:@W3&quot;\\n      }\\n    }\\n  }\\n  attr {\\n    key: &quot;use_locking&quot;\\n    value {\\n      b: true\\n    }\\n  }\\n  attr {\\n    key: &quot;validate_shape&quot;\\n    value {\\n      b: true\\n    }\\n  }\\n}\\nnode {\\n  name: &quot;W3/read&quot;\\n  op: &quot;Identity&quot;\\n  input: &quot;W3&quot;\\n  attr {\\n    key: &quot;T&quot;\\n    value {\\n      type: DT_FLOAT\\n    }\\n  }\\n  attr {\\n    key: &quot;_class&quot;\\n    value {\\n      list {\\n        s: &quot;loc:@W3&quot;\\n      }\\n    }\\n  }\\n}\\nnode {\\n  name: &quot;B3/Initializer/zeros&quot;\\n  op: &quot;Const&quot;\\n  attr {\\n    key: &quot;_class&quot;\\n    value {\\n      list {\\n        s: &quot;loc:@B3&quot;\\n      }\\n    }\\n  }\\n  attr {\\n    key: &quot;dtype&quot;\\n    value {\\n      type: DT_FLOAT\\n    }\\n  }\\n  attr {\\n    key: &quot;value&quot;\\n    value {\\n      tensor {\\n        dtype: DT_FLOAT\\n        tensor_shape {\\n          dim {\\n            size: 32\\n          }\\n        }\\n        float_val: 0.0\\n      }\\n    }\\n  }\\n}\\nnode {\\n  name: &quot;B3&quot;\\n  op: &quot;VariableV2&quot;\\n  attr {\\n    key: &quot;_class&quot;\\n    value {\\n      list {\\n        s: &quot;loc:@B3&quot;\\n      }\\n    }\\n  }\\n  attr {\\n    key: &quot;container&quot;\\n    value {\\n      s: &quot;&quot;\\n    }\\n  }\\n  attr {\\n    key: &quot;dtype&quot;\\n    value {\\n      type: DT_FLOAT\\n    }\\n  }\\n  attr {\\n    key: &quot;shape&quot;\\n    value {\\n      shape {\\n        dim {\\n          size: 32\\n        }\\n      }\\n    }\\n  }\\n  attr {\\n    key: &quot;shared_name&quot;\\n    value {\\n      s: &quot;&quot;\\n    }\\n  }\\n}\\nnode {\\n  name: &quot;B3/Assign&quot;\\n  op: &quot;Assign&quot;\\n  input: &quot;B3&quot;\\n  input: &quot;B3/Initializer/zeros&quot;\\n  attr {\\n    key: &quot;T&quot;\\n    value {\\n      type: DT_FLOAT\\n    }\\n  }\\n  attr {\\n    key: &quot;_class&quot;\\n    value {\\n      list {\\n        s: &quot;loc:@B3&quot;\\n      }\\n    }\\n  }\\n  attr {\\n    key: &quot;use_locking&quot;\\n    value {\\n      b: true\\n    }\\n  }\\n  attr {\\n    key: &quot;validate_shape&quot;\\n    value {\\n      b: true\\n    }\\n  }\\n}\\nnode {\\n  name: &quot;B3/read&quot;\\n  op: &quot;Identity&quot;\\n  input: &quot;B3&quot;\\n  attr {\\n    key: &quot;T&quot;\\n    value {\\n      type: DT_FLOAT\\n    }\\n  }\\n  attr {\\n    key: &quot;_class&quot;\\n    value {\\n      list {\\n        s: &quot;loc:@B3&quot;\\n      }\\n    }\\n  }\\n}\\nnode {\\n  name: &quot;W4/Initializer/random_normal/shape&quot;\\n  op: &quot;Const&quot;\\n  attr {\\n    key: &quot;_class&quot;\\n    value {\\n      list {\\n        s: &quot;loc:@W4&quot;\\n      }\\n    }\\n  }\\n  attr {\\n    key: &quot;dtype&quot;\\n    value {\\n      type: DT_INT32\\n    }\\n  }\\n  attr {\\n    key: &quot;value&quot;\\n    value {\\n      tensor {\\n        dtype: DT_INT32\\n        tensor_shape {\\n          dim {\\n            size: 2\\n          }\\n        }\\n        tensor_content: &quot; \\\\000\\\\000\\\\000\\\\002\\\\000\\\\000\\\\000&quot;\\n      }\\n    }\\n  }\\n}\\nnode {\\n  name: &quot;W4/Initializer/random_normal/mean&quot;\\n  op: &quot;Const&quot;\\n  attr {\\n    key: &quot;_class&quot;\\n    value {\\n      list {\\n        s: &quot;loc:@W4&quot;\\n      }\\n    }\\n  }\\n  attr {\\n    key: &quot;dtype&quot;\\n    value {\\n      type: DT_FLOAT\\n    }\\n  }\\n  attr {\\n    key: &quot;value&quot;\\n    value {\\n      tensor {\\n        dtype: DT_FLOAT\\n        tensor_shape {\\n        }\\n        float_val: 0.0\\n      }\\n    }\\n  }\\n}\\nnode {\\n  name: &quot;W4/Initializer/random_normal/stddev&quot;\\n  op: &quot;Const&quot;\\n  attr {\\n    key: &quot;_class&quot;\\n    value {\\n      list {\\n        s: &quot;loc:@W4&quot;\\n      }\\n    }\\n  }\\n  attr {\\n    key: &quot;dtype&quot;\\n    value {\\n      type: DT_FLOAT\\n    }\\n  }\\n  attr {\\n    key: &quot;value&quot;\\n    value {\\n      tensor {\\n        dtype: DT_FLOAT\\n        tensor_shape {\\n        }\\n        float_val: 0.25\\n      }\\n    }\\n  }\\n}\\nnode {\\n  name: &quot;W4/Initializer/random_normal/RandomStandardNormal&quot;\\n  op: &quot;RandomStandardNormal&quot;\\n  input: &quot;W4/Initializer/random_normal/shape&quot;\\n  attr {\\n    key: &quot;T&quot;\\n    value {\\n      type: DT_INT32\\n    }\\n  }\\n  attr {\\n    key: &quot;_class&quot;\\n    value {\\n      list {\\n        s: &quot;loc:@W4&quot;\\n      }\\n    }\\n  }\\n  attr {\\n    key: &quot;dtype&quot;\\n    value {\\n      type: DT_FLOAT\\n    }\\n  }\\n  attr {\\n    key: &quot;seed&quot;\\n    value {\\n      i: 0\\n    }\\n  }\\n  attr {\\n    key: &quot;seed2&quot;\\n    value {\\n      i: 0\\n    }\\n  }\\n}\\nnode {\\n  name: &quot;W4/Initializer/random_normal/mul&quot;\\n  op: &quot;Mul&quot;\\n  input: &quot;W4/Initializer/random_normal/RandomStandardNormal&quot;\\n  input: &quot;W4/Initializer/random_normal/stddev&quot;\\n  attr {\\n    key: &quot;T&quot;\\n    value {\\n      type: DT_FLOAT\\n    }\\n  }\\n  attr {\\n    key: &quot;_class&quot;\\n    value {\\n      list {\\n        s: &quot;loc:@W4&quot;\\n      }\\n    }\\n  }\\n}\\nnode {\\n  name: &quot;W4/Initializer/random_normal&quot;\\n  op: &quot;Add&quot;\\n  input: &quot;W4/Initializer/random_normal/mul&quot;\\n  input: &quot;W4/Initializer/random_normal/mean&quot;\\n  attr {\\n    key: &quot;T&quot;\\n    value {\\n      type: DT_FLOAT\\n    }\\n  }\\n  attr {\\n    key: &quot;_class&quot;\\n    value {\\n      list {\\n        s: &quot;loc:@W4&quot;\\n      }\\n    }\\n  }\\n}\\nnode {\\n  name: &quot;W4&quot;\\n  op: &quot;VariableV2&quot;\\n  attr {\\n    key: &quot;_class&quot;\\n    value {\\n      list {\\n        s: &quot;loc:@W4&quot;\\n      }\\n    }\\n  }\\n  attr {\\n    key: &quot;container&quot;\\n    value {\\n      s: &quot;&quot;\\n    }\\n  }\\n  attr {\\n    key: &quot;dtype&quot;\\n    value {\\n      type: DT_FLOAT\\n    }\\n  }\\n  attr {\\n    key: &quot;shape&quot;\\n    value {\\n      shape {\\n        dim {\\n          size: 32\\n        }\\n        dim {\\n          size: 2\\n        }\\n      }\\n    }\\n  }\\n  attr {\\n    key: &quot;shared_name&quot;\\n    value {\\n      s: &quot;&quot;\\n    }\\n  }\\n}\\nnode {\\n  name: &quot;W4/Assign&quot;\\n  op: &quot;Assign&quot;\\n  input: &quot;W4&quot;\\n  input: &quot;W4/Initializer/random_normal&quot;\\n  attr {\\n    key: &quot;T&quot;\\n    value {\\n      type: DT_FLOAT\\n    }\\n  }\\n  attr {\\n    key: &quot;_class&quot;\\n    value {\\n      list {\\n        s: &quot;loc:@W4&quot;\\n      }\\n    }\\n  }\\n  attr {\\n    key: &quot;use_locking&quot;\\n    value {\\n      b: true\\n    }\\n  }\\n  attr {\\n    key: &quot;validate_shape&quot;\\n    value {\\n      b: true\\n    }\\n  }\\n}\\nnode {\\n  name: &quot;W4/read&quot;\\n  op: &quot;Identity&quot;\\n  input: &quot;W4&quot;\\n  attr {\\n    key: &quot;T&quot;\\n    value {\\n      type: DT_FLOAT\\n    }\\n  }\\n  attr {\\n    key: &quot;_class&quot;\\n    value {\\n      list {\\n        s: &quot;loc:@W4&quot;\\n      }\\n    }\\n  }\\n}\\nnode {\\n  name: &quot;FEED_FORWARD_PROPAGATION/MatMul&quot;\\n  op: &quot;MatMul&quot;\\n  input: &quot;INPUT_PIPELINE/IteratorGetNext&quot;\\n  input: &quot;W0/read&quot;\\n  attr {\\n    key: &quot;T&quot;\\n    value {\\n      type: DT_FLOAT\\n    }\\n  }\\n  attr {\\n    key: &quot;transpose_a&quot;\\n    value {\\n      b: false\\n    }\\n  }\\n  attr {\\n    key: &quot;transpose_b&quot;\\n    value {\\n      b: false\\n    }\\n  }\\n}\\nnode {\\n  name: &quot;FEED_FORWARD_PROPAGATION/add&quot;\\n  op: &quot;Add&quot;\\n  input: &quot;FEED_FORWARD_PROPAGATION/MatMul&quot;\\n  input: &quot;B0/read&quot;\\n  attr {\\n    key: &quot;T&quot;\\n    value {\\n      type: DT_FLOAT\\n    }\\n  }\\n}\\nnode {\\n  name: &quot;FEED_FORWARD_PROPAGATION/Relu&quot;\\n  op: &quot;Relu&quot;\\n  input: &quot;FEED_FORWARD_PROPAGATION/add&quot;\\n  attr {\\n    key: &quot;T&quot;\\n    value {\\n      type: DT_FLOAT\\n    }\\n  }\\n}\\nnode {\\n  name: &quot;FEED_FORWARD_PROPAGATION/MatMul_1&quot;\\n  op: &quot;MatMul&quot;\\n  input: &quot;FEED_FORWARD_PROPAGATION/Relu&quot;\\n  input: &quot;W1/read&quot;\\n  attr {\\n    key: &quot;T&quot;\\n    value {\\n      type: DT_FLOAT\\n    }\\n  }\\n  attr {\\n    key: &quot;transpose_a&quot;\\n    value {\\n      b: false\\n    }\\n  }\\n  attr {\\n    key: &quot;transpose_b&quot;\\n    value {\\n      b: false\\n    }\\n  }\\n}\\nnode {\\n  name: &quot;FEED_FORWARD_PROPAGATION/add_1&quot;\\n  op: &quot;Add&quot;\\n  input: &quot;FEED_FORWARD_PROPAGATION/MatMul_1&quot;\\n  input: &quot;B1/read&quot;\\n  attr {\\n    key: &quot;T&quot;\\n    value {\\n      type: DT_FLOAT\\n    }\\n  }\\n}\\nnode {\\n  name: &quot;FEED_FORWARD_PROPAGATION/Relu_1&quot;\\n  op: &quot;Relu&quot;\\n  input: &quot;FEED_FORWARD_PROPAGATION/add_1&quot;\\n  attr {\\n    key: &quot;T&quot;\\n    value {\\n      type: DT_FLOAT\\n    }\\n  }\\n}\\nnode {\\n  name: &quot;FEED_FORWARD_PROPAGATION/MatMul_2&quot;\\n  op: &quot;MatMul&quot;\\n  input: &quot;FEED_FORWARD_PROPAGATION/Relu_1&quot;\\n  input: &quot;W2/read&quot;\\n  attr {\\n    key: &quot;T&quot;\\n    value {\\n      type: DT_FLOAT\\n    }\\n  }\\n  attr {\\n    key: &quot;transpose_a&quot;\\n    value {\\n      b: false\\n    }\\n  }\\n  attr {\\n    key: &quot;transpose_b&quot;\\n    value {\\n      b: false\\n    }\\n  }\\n}\\nnode {\\n  name: &quot;FEED_FORWARD_PROPAGATION/add_2&quot;\\n  op: &quot;Add&quot;\\n  input: &quot;FEED_FORWARD_PROPAGATION/MatMul_2&quot;\\n  input: &quot;B2/read&quot;\\n  attr {\\n    key: &quot;T&quot;\\n    value {\\n      type: DT_FLOAT\\n    }\\n  }\\n}\\nnode {\\n  name: &quot;FEED_FORWARD_PROPAGATION/Relu_2&quot;\\n  op: &quot;Relu&quot;\\n  input: &quot;FEED_FORWARD_PROPAGATION/add_2&quot;\\n  attr {\\n    key: &quot;T&quot;\\n    value {\\n      type: DT_FLOAT\\n    }\\n  }\\n}\\nnode {\\n  name: &quot;FEED_FORWARD_PROPAGATION/MatMul_3&quot;\\n  op: &quot;MatMul&quot;\\n  input: &quot;FEED_FORWARD_PROPAGATION/Relu_2&quot;\\n  input: &quot;W3/read&quot;\\n  attr {\\n    key: &quot;T&quot;\\n    value {\\n      type: DT_FLOAT\\n    }\\n  }\\n  attr {\\n    key: &quot;transpose_a&quot;\\n    value {\\n      b: false\\n    }\\n  }\\n  attr {\\n    key: &quot;transpose_b&quot;\\n    value {\\n      b: false\\n    }\\n  }\\n}\\nnode {\\n  name: &quot;FEED_FORWARD_PROPAGATION/add_3&quot;\\n  op: &quot;Add&quot;\\n  input: &quot;FEED_FORWARD_PROPAGATION/MatMul_3&quot;\\n  input: &quot;B3/read&quot;\\n  attr {\\n    key: &quot;T&quot;\\n    value {\\n      type: DT_FLOAT\\n    }\\n  }\\n}\\nnode {\\n  name: &quot;FEED_FORWARD_PROPAGATION/Relu_3&quot;\\n  op: &quot;Relu&quot;\\n  input: &quot;FEED_FORWARD_PROPAGATION/add_3&quot;\\n  attr {\\n    key: &quot;T&quot;\\n    value {\\n      type: DT_FLOAT\\n    }\\n  }\\n}\\nnode {\\n  name: &quot;FEED_FORWARD_PROPAGATION/LOGITS&quot;\\n  op: &quot;MatMul&quot;\\n  input: &quot;FEED_FORWARD_PROPAGATION/Relu_3&quot;\\n  input: &quot;W4/read&quot;\\n  attr {\\n    key: &quot;T&quot;\\n    value {\\n      type: DT_FLOAT\\n    }\\n  }\\n  attr {\\n    key: &quot;transpose_a&quot;\\n    value {\\n      b: false\\n    }\\n  }\\n  attr {\\n    key: &quot;transpose_b&quot;\\n    value {\\n      b: false\\n    }\\n  }\\n}\\nnode {\\n  name: &quot;FEED_FORWARD_PROPAGATION/SOFMAX_PREDICTION_FROM_LOGITS&quot;\\n  op: &quot;Softmax&quot;\\n  input: &quot;FEED_FORWARD_PROPAGATION/LOGITS&quot;\\n  attr {\\n    key: &quot;T&quot;\\n    value {\\n      type: DT_FLOAT\\n    }\\n  }\\n}\\nnode {\\n  name: &quot;LOSS/Squeeze&quot;\\n  op: &quot;Squeeze&quot;\\n  input: &quot;INPUT_PIPELINE/IteratorGetNext:1&quot;\\n  attr {\\n    key: &quot;T&quot;\\n    value {\\n      type: DT_INT32\\n    }\\n  }\\n  attr {\\n    key: &quot;squeeze_dims&quot;\\n    value {\\n      list {\\n      }\\n    }\\n  }\\n}\\nnode {\\n  name: &quot;LOSS/CROSS_ENTROPY_LOSS/Shape&quot;\\n  op: &quot;Shape&quot;\\n  input: &quot;LOSS/Squeeze&quot;\\n  attr {\\n    key: &quot;T&quot;\\n    value {\\n      type: DT_INT32\\n    }\\n  }\\n  attr {\\n    key: &quot;out_type&quot;\\n    value {\\n      type: DT_INT32\\n    }\\n  }\\n}\\nnode {\\n  name: &quot;LOSS/CROSS_ENTROPY_LOSS/CROSS_ENTROPY_LOSS&quot;\\n  op: &quot;SparseSoftmaxCrossEntropyWithLogits&quot;\\n  input: &quot;FEED_FORWARD_PROPAGATION/LOGITS&quot;\\n  input: &quot;LOSS/Squeeze&quot;\\n  attr {\\n    key: &quot;T&quot;\\n    value {\\n      type: DT_FLOAT\\n    }\\n  }\\n  attr {\\n    key: &quot;Tlabels&quot;\\n    value {\\n      type: DT_INT32\\n    }\\n  }\\n}\\nnode {\\n  name: &quot;LOSS/Const&quot;\\n  op: &quot;Const&quot;\\n  attr {\\n    key: &quot;dtype&quot;\\n    value {\\n      type: DT_INT32\\n    }\\n  }\\n  attr {\\n    key: &quot;value&quot;\\n    value {\\n      tensor {\\n        dtype: DT_INT32\\n        tensor_shape {\\n          dim {\\n            size: 1\\n          }\\n        }\\n        int_val: 0\\n      }\\n    }\\n  }\\n}\\nnode {\\n  name: &quot;LOSS/AVERAGE_CROSS_ENTROPY_LOSS&quot;\\n  op: &quot;Mean&quot;\\n  input: &quot;LOSS/CROSS_ENTROPY_LOSS/CROSS_ENTROPY_LOSS&quot;\\n  input: &quot;LOSS/Const&quot;\\n  attr {\\n    key: &quot;T&quot;\\n    value {\\n      type: DT_FLOAT\\n    }\\n  }\\n  attr {\\n    key: &quot;Tidx&quot;\\n    value {\\n      type: DT_INT32\\n    }\\n  }\\n  attr {\\n    key: &quot;keep_dims&quot;\\n    value {\\n      b: false\\n    }\\n  }\\n}\\nnode {\\n  name: &quot;LOSS/L2Loss&quot;\\n  op: &quot;L2Loss&quot;\\n  input: &quot;W0/read&quot;\\n  attr {\\n    key: &quot;T&quot;\\n    value {\\n      type: DT_FLOAT\\n    }\\n  }\\n}\\nnode {\\n  name: &quot;LOSS/L2Loss_1&quot;\\n  op: &quot;L2Loss&quot;\\n  input: &quot;B0/read&quot;\\n  attr {\\n    key: &quot;T&quot;\\n    value {\\n      type: DT_FLOAT\\n    }\\n  }\\n}\\nnode {\\n  name: &quot;LOSS/L2Loss_2&quot;\\n  op: &quot;L2Loss&quot;\\n  input: &quot;W1/read&quot;\\n  attr {\\n    key: &quot;T&quot;\\n    value {\\n      type: DT_FLOAT\\n    }\\n  }\\n}\\nnode {\\n  name: &quot;LOSS/L2Loss_3&quot;\\n  op: &quot;L2Loss&quot;\\n  input: &quot;B1/read&quot;\\n  attr {\\n    key: &quot;T&quot;\\n    value {\\n      type: DT_FLOAT\\n    }\\n  }\\n}\\nnode {\\n  name: &quot;LOSS/L2Loss_4&quot;\\n  op: &quot;L2Loss&quot;\\n  input: &quot;W2/read&quot;\\n  attr {\\n    key: &quot;T&quot;\\n    value {\\n      type: DT_FLOAT\\n    }\\n  }\\n}\\nnode {\\n  name: &quot;LOSS/L2Loss_5&quot;\\n  op: &quot;L2Loss&quot;\\n  input: &quot;B2/read&quot;\\n  attr {\\n    key: &quot;T&quot;\\n    value {\\n      type: DT_FLOAT\\n    }\\n  }\\n}\\nnode {\\n  name: &quot;LOSS/L2Loss_6&quot;\\n  op: &quot;L2Loss&quot;\\n  input: &quot;W3/read&quot;\\n  attr {\\n    key: &quot;T&quot;\\n    value {\\n      type: DT_FLOAT\\n    }\\n  }\\n}\\nnode {\\n  name: &quot;LOSS/L2Loss_7&quot;\\n  op: &quot;L2Loss&quot;\\n  input: &quot;B3/read&quot;\\n  attr {\\n    key: &quot;T&quot;\\n    value {\\n      type: DT_FLOAT\\n    }\\n  }\\n}\\nnode {\\n  name: &quot;LOSS/L2Loss_8&quot;\\n  op: &quot;L2Loss&quot;\\n  input: &quot;W4/read&quot;\\n  attr {\\n    key: &quot;T&quot;\\n    value {\\n      type: DT_FLOAT\\n    }\\n  }\\n}\\nnode {\\n  name: &quot;LOSS/AddN&quot;\\n  op: &quot;AddN&quot;\\n  input: &quot;LOSS/L2Loss&quot;\\n  input: &quot;LOSS/L2Loss_1&quot;\\n  input: &quot;LOSS/L2Loss_2&quot;\\n  input: &quot;LOSS/L2Loss_3&quot;\\n  input: &quot;LOSS/L2Loss_4&quot;\\n  input: &quot;LOSS/L2Loss_5&quot;\\n  input: &quot;LOSS/L2Loss_6&quot;\\n  input: &quot;LOSS/L2Loss_7&quot;\\n  input: &quot;LOSS/L2Loss_8&quot;\\n  attr {\\n    key: &quot;N&quot;\\n    value {\\n      i: 9\\n    }\\n  }\\n  attr {\\n    key: &quot;T&quot;\\n    value {\\n      type: DT_FLOAT\\n    }\\n  }\\n}\\nnode {\\n  name: &quot;LOSS/mul/x&quot;\\n  op: &quot;Const&quot;\\n  attr {\\n    key: &quot;dtype&quot;\\n    value {\\n      type: DT_FLOAT\\n    }\\n  }\\n  attr {\\n    key: &quot;value&quot;\\n    value {\\n      tensor {\\n        dtype: DT_FLOAT\\n        tensor_shape {\\n        }\\n        float_val: 9.999999747378752e-05\\n      }\\n    }\\n  }\\n}\\nnode {\\n  name: &quot;LOSS/mul&quot;\\n  op: &quot;Mul&quot;\\n  input: &quot;LOSS/mul/x&quot;\\n  input: &quot;LOSS/AddN&quot;\\n  attr {\\n    key: &quot;T&quot;\\n    value {\\n      type: DT_FLOAT\\n    }\\n  }\\n}\\nnode {\\n  name: &quot;LOSS/add&quot;\\n  op: &quot;Add&quot;\\n  input: &quot;LOSS/AVERAGE_CROSS_ENTROPY_LOSS&quot;\\n  input: &quot;LOSS/mul&quot;\\n  attr {\\n    key: &quot;T&quot;\\n    value {\\n      type: DT_FLOAT\\n    }\\n  }\\n}\\nnode {\\n  name: &quot;LOSS_1/tags&quot;\\n  op: &quot;Const&quot;\\n  attr {\\n    key: &quot;dtype&quot;\\n    value {\\n      type: DT_STRING\\n    }\\n  }\\n  attr {\\n    key: &quot;value&quot;\\n    value {\\n      tensor {\\n        dtype: DT_STRING\\n        tensor_shape {\\n        }\\n        string_val: &quot;LOSS_1&quot;\\n      }\\n    }\\n  }\\n}\\nnode {\\n  name: &quot;LOSS_1&quot;\\n  op: &quot;ScalarSummary&quot;\\n  input: &quot;LOSS_1/tags&quot;\\n  input: &quot;LOSS/add&quot;\\n  attr {\\n    key: &quot;T&quot;\\n    value {\\n      type: DT_FLOAT\\n    }\\n  }\\n}\\nnode {\\n  name: &quot;BACKWARD_PROPAGATION/dL/Shape&quot;\\n  op: &quot;Const&quot;\\n  attr {\\n    key: &quot;dtype&quot;\\n    value {\\n      type: DT_INT32\\n    }\\n  }\\n  attr {\\n    key: &quot;value&quot;\\n    value {\\n      tensor {\\n        dtype: DT_INT32\\n        tensor_shape {\\n          dim {\\n          }\\n        }\\n      }\\n    }\\n  }\\n}\\nnode {\\n  name: &quot;BACKWARD_PROPAGATION/dL/grad_ys_0&quot;\\n  op: &quot;Const&quot;\\n  attr {\\n    key: &quot;dtype&quot;\\n    value {\\n      type: DT_FLOAT\\n    }\\n  }\\n  attr {\\n    key: &quot;value&quot;\\n    value {\\n      tensor {\\n        dtype: DT_FLOAT\\n        tensor_shape {\\n        }\\n        float_val: 1.0\\n      }\\n    }\\n  }\\n}\\nnode {\\n  name: &quot;BACKWARD_PROPAGATION/dL/Fill&quot;\\n  op: &quot;Fill&quot;\\n  input: &quot;BACKWARD_PROPAGATION/dL/Shape&quot;\\n  input: &quot;BACKWARD_PROPAGATION/dL/grad_ys_0&quot;\\n  attr {\\n    key: &quot;T&quot;\\n    value {\\n      type: DT_FLOAT\\n    }\\n  }\\n  attr {\\n    key: &quot;index_type&quot;\\n    value {\\n      type: DT_INT32\\n    }\\n  }\\n}\\nnode {\\n  name: &quot;BACKWARD_PROPAGATION/dL/LOSS/AVERAGE_CROSS_ENTROPY_LOSS_grad/Reshape/shape&quot;\\n  op: &quot;Const&quot;\\n  attr {\\n    key: &quot;dtype&quot;\\n    value {\\n      type: DT_INT32\\n    }\\n  }\\n  attr {\\n    key: &quot;value&quot;\\n    value {\\n      tensor {\\n        dtype: DT_INT32\\n        tensor_shape {\\n          dim {\\n            size: 1\\n          }\\n        }\\n        int_val: 1\\n      }\\n    }\\n  }\\n}\\nnode {\\n  name: &quot;BACKWARD_PROPAGATION/dL/LOSS/AVERAGE_CROSS_ENTROPY_LOSS_grad/Reshape&quot;\\n  op: &quot;Reshape&quot;\\n  input: &quot;BACKWARD_PROPAGATION/dL/Fill&quot;\\n  input: &quot;BACKWARD_PROPAGATION/dL/LOSS/AVERAGE_CROSS_ENTROPY_LOSS_grad/Reshape/shape&quot;\\n  attr {\\n    key: &quot;T&quot;\\n    value {\\n      type: DT_FLOAT\\n    }\\n  }\\n  attr {\\n    key: &quot;Tshape&quot;\\n    value {\\n      type: DT_INT32\\n    }\\n  }\\n}\\nnode {\\n  name: &quot;BACKWARD_PROPAGATION/dL/LOSS/AVERAGE_CROSS_ENTROPY_LOSS_grad/Shape&quot;\\n  op: &quot;Shape&quot;\\n  input: &quot;LOSS/CROSS_ENTROPY_LOSS/CROSS_ENTROPY_LOSS&quot;\\n  attr {\\n    key: &quot;T&quot;\\n    value {\\n      type: DT_FLOAT\\n    }\\n  }\\n  attr {\\n    key: &quot;out_type&quot;\\n    value {\\n      type: DT_INT32\\n    }\\n  }\\n}\\nnode {\\n  name: &quot;BACKWARD_PROPAGATION/dL/LOSS/AVERAGE_CROSS_ENTROPY_LOSS_grad/Tile&quot;\\n  op: &quot;Tile&quot;\\n  input: &quot;BACKWARD_PROPAGATION/dL/LOSS/AVERAGE_CROSS_ENTROPY_LOSS_grad/Reshape&quot;\\n  input: &quot;BACKWARD_PROPAGATION/dL/LOSS/AVERAGE_CROSS_ENTROPY_LOSS_grad/Shape&quot;\\n  attr {\\n    key: &quot;T&quot;\\n    value {\\n      type: DT_FLOAT\\n    }\\n  }\\n  attr {\\n    key: &quot;Tmultiples&quot;\\n    value {\\n      type: DT_INT32\\n    }\\n  }\\n}\\nnode {\\n  name: &quot;BACKWARD_PROPAGATION/dL/LOSS/AVERAGE_CROSS_ENTROPY_LOSS_grad/Shape_1&quot;\\n  op: &quot;Shape&quot;\\n  input: &quot;LOSS/CROSS_ENTROPY_LOSS/CROSS_ENTROPY_LOSS&quot;\\n  attr {\\n    key: &quot;T&quot;\\n    value {\\n      type: DT_FLOAT\\n    }\\n  }\\n  attr {\\n    key: &quot;out_type&quot;\\n    value {\\n      type: DT_INT32\\n    }\\n  }\\n}\\nnode {\\n  name: &quot;BACKWARD_PROPAGATION/dL/LOSS/AVERAGE_CROSS_ENTROPY_LOSS_grad/Shape_2&quot;\\n  op: &quot;Const&quot;\\n  attr {\\n    key: &quot;dtype&quot;\\n    value {\\n      type: DT_INT32\\n    }\\n  }\\n  attr {\\n    key: &quot;value&quot;\\n    value {\\n      tensor {\\n        dtype: DT_INT32\\n        tensor_shape {\\n          dim {\\n          }\\n        }\\n      }\\n    }\\n  }\\n}\\nnode {\\n  name: &quot;BACKWARD_PROPAGATION/dL/LOSS/AVERAGE_CROSS_ENTROPY_LOSS_grad/Const&quot;\\n  op: &quot;Const&quot;\\n  attr {\\n    key: &quot;dtype&quot;\\n    value {\\n      type: DT_INT32\\n    }\\n  }\\n  attr {\\n    key: &quot;value&quot;\\n    value {\\n      tensor {\\n        dtype: DT_INT32\\n        tensor_shape {\\n          dim {\\n            size: 1\\n          }\\n        }\\n        int_val: 0\\n      }\\n    }\\n  }\\n}\\nnode {\\n  name: &quot;BACKWARD_PROPAGATION/dL/LOSS/AVERAGE_CROSS_ENTROPY_LOSS_grad/Prod&quot;\\n  op: &quot;Prod&quot;\\n  input: &quot;BACKWARD_PROPAGATION/dL/LOSS/AVERAGE_CROSS_ENTROPY_LOSS_grad/Shape_1&quot;\\n  input: &quot;BACKWARD_PROPAGATION/dL/LOSS/AVERAGE_CROSS_ENTROPY_LOSS_grad/Const&quot;\\n  attr {\\n    key: &quot;T&quot;\\n    value {\\n      type: DT_INT32\\n    }\\n  }\\n  attr {\\n    key: &quot;Tidx&quot;\\n    value {\\n      type: DT_INT32\\n    }\\n  }\\n  attr {\\n    key: &quot;keep_dims&quot;\\n    value {\\n      b: false\\n    }\\n  }\\n}\\nnode {\\n  name: &quot;BACKWARD_PROPAGATION/dL/LOSS/AVERAGE_CROSS_ENTROPY_LOSS_grad/Const_1&quot;\\n  op: &quot;Const&quot;\\n  attr {\\n    key: &quot;dtype&quot;\\n    value {\\n      type: DT_INT32\\n    }\\n  }\\n  attr {\\n    key: &quot;value&quot;\\n    value {\\n      tensor {\\n        dtype: DT_INT32\\n        tensor_shape {\\n          dim {\\n            size: 1\\n          }\\n        }\\n        int_val: 0\\n      }\\n    }\\n  }\\n}\\nnode {\\n  name: &quot;BACKWARD_PROPAGATION/dL/LOSS/AVERAGE_CROSS_ENTROPY_LOSS_grad/Prod_1&quot;\\n  op: &quot;Prod&quot;\\n  input: &quot;BACKWARD_PROPAGATION/dL/LOSS/AVERAGE_CROSS_ENTROPY_LOSS_grad/Shape_2&quot;\\n  input: &quot;BACKWARD_PROPAGATION/dL/LOSS/AVERAGE_CROSS_ENTROPY_LOSS_grad/Const_1&quot;\\n  attr {\\n    key: &quot;T&quot;\\n    value {\\n      type: DT_INT32\\n    }\\n  }\\n  attr {\\n    key: &quot;Tidx&quot;\\n    value {\\n      type: DT_INT32\\n    }\\n  }\\n  attr {\\n    key: &quot;keep_dims&quot;\\n    value {\\n      b: false\\n    }\\n  }\\n}\\nnode {\\n  name: &quot;BACKWARD_PROPAGATION/dL/LOSS/AVERAGE_CROSS_ENTROPY_LOSS_grad/Maximum/y&quot;\\n  op: &quot;Const&quot;\\n  attr {\\n    key: &quot;dtype&quot;\\n    value {\\n      type: DT_INT32\\n    }\\n  }\\n  attr {\\n    key: &quot;value&quot;\\n    value {\\n      tensor {\\n        dtype: DT_INT32\\n        tensor_shape {\\n        }\\n        int_val: 1\\n      }\\n    }\\n  }\\n}\\nnode {\\n  name: &quot;BACKWARD_PROPAGATION/dL/LOSS/AVERAGE_CROSS_ENTROPY_LOSS_grad/Maximum&quot;\\n  op: &quot;Maximum&quot;\\n  input: &quot;BACKWARD_PROPAGATION/dL/LOSS/AVERAGE_CROSS_ENTROPY_LOSS_grad/Prod_1&quot;\\n  input: &quot;BACKWARD_PROPAGATION/dL/LOSS/AVERAGE_CROSS_ENTROPY_LOSS_grad/Maximum/y&quot;\\n  attr {\\n    key: &quot;T&quot;\\n    value {\\n      type: DT_INT32\\n    }\\n  }\\n}\\nnode {\\n  name: &quot;BACKWARD_PROPAGATION/dL/LOSS/AVERAGE_CROSS_ENTROPY_LOSS_grad/floordiv&quot;\\n  op: &quot;FloorDiv&quot;\\n  input: &quot;BACKWARD_PROPAGATION/dL/LOSS/AVERAGE_CROSS_ENTROPY_LOSS_grad/Prod&quot;\\n  input: &quot;BACKWARD_PROPAGATION/dL/LOSS/AVERAGE_CROSS_ENTROPY_LOSS_grad/Maximum&quot;\\n  attr {\\n    key: &quot;T&quot;\\n    value {\\n      type: DT_INT32\\n    }\\n  }\\n}\\nnode {\\n  name: &quot;BACKWARD_PROPAGATION/dL/LOSS/AVERAGE_CROSS_ENTROPY_LOSS_grad/Cast&quot;\\n  op: &quot;Cast&quot;\\n  input: &quot;BACKWARD_PROPAGATION/dL/LOSS/AVERAGE_CROSS_ENTROPY_LOSS_grad/floordiv&quot;\\n  attr {\\n    key: &quot;DstT&quot;\\n    value {\\n      type: DT_FLOAT\\n    }\\n  }\\n  attr {\\n    key: &quot;SrcT&quot;\\n    value {\\n      type: DT_INT32\\n    }\\n  }\\n  attr {\\n    key: &quot;Truncate&quot;\\n    value {\\n      b: false\\n    }\\n  }\\n}\\nnode {\\n  name: &quot;BACKWARD_PROPAGATION/dL/LOSS/AVERAGE_CROSS_ENTROPY_LOSS_grad/truediv&quot;\\n  op: &quot;RealDiv&quot;\\n  input: &quot;BACKWARD_PROPAGATION/dL/LOSS/AVERAGE_CROSS_ENTROPY_LOSS_grad/Tile&quot;\\n  input: &quot;BACKWARD_PROPAGATION/dL/LOSS/AVERAGE_CROSS_ENTROPY_LOSS_grad/Cast&quot;\\n  attr {\\n    key: &quot;T&quot;\\n    value {\\n      type: DT_FLOAT\\n    }\\n  }\\n}\\nnode {\\n  name: &quot;BACKWARD_PROPAGATION/dL/LOSS/mul_grad/Mul&quot;\\n  op: &quot;Mul&quot;\\n  input: &quot;BACKWARD_PROPAGATION/dL/Fill&quot;\\n  input: &quot;LOSS/AddN&quot;\\n  attr {\\n    key: &quot;T&quot;\\n    value {\\n      type: DT_FLOAT\\n    }\\n  }\\n}\\nnode {\\n  name: &quot;BACKWARD_PROPAGATION/dL/LOSS/mul_grad/Mul_1&quot;\\n  op: &quot;Mul&quot;\\n  input: &quot;BACKWARD_PROPAGATION/dL/Fill&quot;\\n  input: &quot;LOSS/mul/x&quot;\\n  attr {\\n    key: &quot;T&quot;\\n    value {\\n      type: DT_FLOAT\\n    }\\n  }\\n}\\nnode {\\n  name: &quot;BACKWARD_PROPAGATION/dL/zeros_like&quot;\\n  op: &quot;ZerosLike&quot;\\n  input: &quot;LOSS/CROSS_ENTROPY_LOSS/CROSS_ENTROPY_LOSS:1&quot;\\n  attr {\\n    key: &quot;T&quot;\\n    value {\\n      type: DT_FLOAT\\n    }\\n  }\\n}\\nnode {\\n  name: &quot;BACKWARD_PROPAGATION/dL/LOSS/CROSS_ENTROPY_LOSS/CROSS_ENTROPY_LOSS_grad/PreventGradient&quot;\\n  op: &quot;PreventGradient&quot;\\n  input: &quot;LOSS/CROSS_ENTROPY_LOSS/CROSS_ENTROPY_LOSS:1&quot;\\n  attr {\\n    key: &quot;T&quot;\\n    value {\\n      type: DT_FLOAT\\n    }\\n  }\\n  attr {\\n    key: &quot;message&quot;\\n    value {\\n      s: &quot;Currently there is no way to take the second derivative of sparse_softmax_cross_entropy_with_logits due to the fused implementation\\\\\\'s interaction with tf.gradients()&quot;\\n    }\\n  }\\n}\\nnode {\\n  name: &quot;BACKWARD_PROPAGATION/dL/LOSS/CROSS_ENTROPY_LOSS/CROSS_ENTROPY_LOSS_grad/ExpandDims/dim&quot;\\n  op: &quot;Const&quot;\\n  attr {\\n    key: &quot;dtype&quot;\\n    value {\\n      type: DT_INT32\\n    }\\n  }\\n  attr {\\n    key: &quot;value&quot;\\n    value {\\n      tensor {\\n        dtype: DT_INT32\\n        tensor_shape {\\n        }\\n        int_val: -1\\n      }\\n    }\\n  }\\n}\\nnode {\\n  name: &quot;BACKWARD_PROPAGATION/dL/LOSS/CROSS_ENTROPY_LOSS/CROSS_ENTROPY_LOSS_grad/ExpandDims&quot;\\n  op: &quot;ExpandDims&quot;\\n  input: &quot;BACKWARD_PROPAGATION/dL/LOSS/AVERAGE_CROSS_ENTROPY_LOSS_grad/truediv&quot;\\n  input: &quot;BACKWARD_PROPAGATION/dL/LOSS/CROSS_ENTROPY_LOSS/CROSS_ENTROPY_LOSS_grad/ExpandDims/dim&quot;\\n  attr {\\n    key: &quot;T&quot;\\n    value {\\n      type: DT_FLOAT\\n    }\\n  }\\n  attr {\\n    key: &quot;Tdim&quot;\\n    value {\\n      type: DT_INT32\\n    }\\n  }\\n}\\nnode {\\n  name: &quot;BACKWARD_PROPAGATION/dL/LOSS/CROSS_ENTROPY_LOSS/CROSS_ENTROPY_LOSS_grad/mul&quot;\\n  op: &quot;Mul&quot;\\n  input: &quot;BACKWARD_PROPAGATION/dL/LOSS/CROSS_ENTROPY_LOSS/CROSS_ENTROPY_LOSS_grad/ExpandDims&quot;\\n  input: &quot;BACKWARD_PROPAGATION/dL/LOSS/CROSS_ENTROPY_LOSS/CROSS_ENTROPY_LOSS_grad/PreventGradient&quot;\\n  attr {\\n    key: &quot;T&quot;\\n    value {\\n      type: DT_FLOAT\\n    }\\n  }\\n}\\nnode {\\n  name: &quot;BACKWARD_PROPAGATION/dL/FEED_FORWARD_PROPAGATION/LOGITS_grad/MatMul&quot;\\n  op: &quot;MatMul&quot;\\n  input: &quot;BACKWARD_PROPAGATION/dL/LOSS/CROSS_ENTROPY_LOSS/CROSS_ENTROPY_LOSS_grad/mul&quot;\\n  input: &quot;W4/read&quot;\\n  attr {\\n    key: &quot;T&quot;\\n    value {\\n      type: DT_FLOAT\\n    }\\n  }\\n  attr {\\n    key: &quot;transpose_a&quot;\\n    value {\\n      b: false\\n    }\\n  }\\n  attr {\\n    key: &quot;transpose_b&quot;\\n    value {\\n      b: true\\n    }\\n  }\\n}\\nnode {\\n  name: &quot;BACKWARD_PROPAGATION/dL/FEED_FORWARD_PROPAGATION/LOGITS_grad/MatMul_1&quot;\\n  op: &quot;MatMul&quot;\\n  input: &quot;FEED_FORWARD_PROPAGATION/Relu_3&quot;\\n  input: &quot;BACKWARD_PROPAGATION/dL/LOSS/CROSS_ENTROPY_LOSS/CROSS_ENTROPY_LOSS_grad/mul&quot;\\n  attr {\\n    key: &quot;T&quot;\\n    value {\\n      type: DT_FLOAT\\n    }\\n  }\\n  attr {\\n    key: &quot;transpose_a&quot;\\n    value {\\n      b: true\\n    }\\n  }\\n  attr {\\n    key: &quot;transpose_b&quot;\\n    value {\\n      b: false\\n    }\\n  }\\n}\\nnode {\\n  name: &quot;BACKWARD_PROPAGATION/dL/LOSS/L2Loss_grad/mul&quot;\\n  op: &quot;Mul&quot;\\n  input: &quot;W0/read&quot;\\n  input: &quot;BACKWARD_PROPAGATION/dL/LOSS/mul_grad/Mul_1&quot;\\n  attr {\\n    key: &quot;T&quot;\\n    value {\\n      type: DT_FLOAT\\n    }\\n  }\\n}\\nnode {\\n  name: &quot;BACKWARD_PROPAGATION/dL/LOSS/L2Loss_1_grad/mul&quot;\\n  op: &quot;Mul&quot;\\n  input: &quot;B0/read&quot;\\n  input: &quot;BACKWARD_PROPAGATION/dL/LOSS/mul_grad/Mul_1&quot;\\n  attr {\\n    key: &quot;T&quot;\\n    value {\\n      type: DT_FLOAT\\n    }\\n  }\\n}\\nnode {\\n  name: &quot;BACKWARD_PROPAGATION/dL/LOSS/L2Loss_2_grad/mul&quot;\\n  op: &quot;Mul&quot;\\n  input: &quot;W1/read&quot;\\n  input: &quot;BACKWARD_PROPAGATION/dL/LOSS/mul_grad/Mul_1&quot;\\n  attr {\\n    key: &quot;T&quot;\\n    value {\\n      type: DT_FLOAT\\n    }\\n  }\\n}\\nnode {\\n  name: &quot;BACKWARD_PROPAGATION/dL/LOSS/L2Loss_3_grad/mul&quot;\\n  op: &quot;Mul&quot;\\n  input: &quot;B1/read&quot;\\n  input: &quot;BACKWARD_PROPAGATION/dL/LOSS/mul_grad/Mul_1&quot;\\n  attr {\\n    key: &quot;T&quot;\\n    value {\\n      type: DT_FLOAT\\n    }\\n  }\\n}\\nnode {\\n  name: &quot;BACKWARD_PROPAGATION/dL/LOSS/L2Loss_4_grad/mul&quot;\\n  op: &quot;Mul&quot;\\n  input: &quot;W2/read&quot;\\n  input: &quot;BACKWARD_PROPAGATION/dL/LOSS/mul_grad/Mul_1&quot;\\n  attr {\\n    key: &quot;T&quot;\\n    value {\\n      type: DT_FLOAT\\n    }\\n  }\\n}\\nnode {\\n  name: &quot;BACKWARD_PROPAGATION/dL/LOSS/L2Loss_5_grad/mul&quot;\\n  op: &quot;Mul&quot;\\n  input: &quot;B2/read&quot;\\n  input: &quot;BACKWARD_PROPAGATION/dL/LOSS/mul_grad/Mul_1&quot;\\n  attr {\\n    key: &quot;T&quot;\\n    value {\\n      type: DT_FLOAT\\n    }\\n  }\\n}\\nnode {\\n  name: &quot;BACKWARD_PROPAGATION/dL/LOSS/L2Loss_6_grad/mul&quot;\\n  op: &quot;Mul&quot;\\n  input: &quot;W3/read&quot;\\n  input: &quot;BACKWARD_PROPAGATION/dL/LOSS/mul_grad/Mul_1&quot;\\n  attr {\\n    key: &quot;T&quot;\\n    value {\\n      type: DT_FLOAT\\n    }\\n  }\\n}\\nnode {\\n  name: &quot;BACKWARD_PROPAGATION/dL/LOSS/L2Loss_7_grad/mul&quot;\\n  op: &quot;Mul&quot;\\n  input: &quot;B3/read&quot;\\n  input: &quot;BACKWARD_PROPAGATION/dL/LOSS/mul_grad/Mul_1&quot;\\n  attr {\\n    key: &quot;T&quot;\\n    value {\\n      type: DT_FLOAT\\n    }\\n  }\\n}\\nnode {\\n  name: &quot;BACKWARD_PROPAGATION/dL/LOSS/L2Loss_8_grad/mul&quot;\\n  op: &quot;Mul&quot;\\n  input: &quot;W4/read&quot;\\n  input: &quot;BACKWARD_PROPAGATION/dL/LOSS/mul_grad/Mul_1&quot;\\n  attr {\\n    key: &quot;T&quot;\\n    value {\\n      type: DT_FLOAT\\n    }\\n  }\\n}\\nnode {\\n  name: &quot;BACKWARD_PROPAGATION/dL/FEED_FORWARD_PROPAGATION/Relu_3_grad/ReluGrad&quot;\\n  op: &quot;ReluGrad&quot;\\n  input: &quot;BACKWARD_PROPAGATION/dL/FEED_FORWARD_PROPAGATION/LOGITS_grad/MatMul&quot;\\n  input: &quot;FEED_FORWARD_PROPAGATION/Relu_3&quot;\\n  attr {\\n    key: &quot;T&quot;\\n    value {\\n      type: DT_FLOAT\\n    }\\n  }\\n}\\nnode {\\n  name: &quot;BACKWARD_PROPAGATION/dL/AddN&quot;\\n  op: &quot;AddN&quot;\\n  input: &quot;BACKWARD_PROPAGATION/dL/FEED_FORWARD_PROPAGATION/LOGITS_grad/MatMul_1&quot;\\n  input: &quot;BACKWARD_PROPAGATION/dL/LOSS/L2Loss_8_grad/mul&quot;\\n  attr {\\n    key: &quot;N&quot;\\n    value {\\n      i: 2\\n    }\\n  }\\n  attr {\\n    key: &quot;T&quot;\\n    value {\\n      type: DT_FLOAT\\n    }\\n  }\\n  attr {\\n    key: &quot;_class&quot;\\n    value {\\n      list {\\n        s: &quot;loc:@BACKWARD_PROPAGATION/dL/FEED_FORWARD_PROPAGATION/LOGITS_grad/MatMul_1&quot;\\n      }\\n    }\\n  }\\n}\\nnode {\\n  name: &quot;BACKWARD_PROPAGATION/dL/FEED_FORWARD_PROPAGATION/add_3_grad/Shape&quot;\\n  op: &quot;Shape&quot;\\n  input: &quot;FEED_FORWARD_PROPAGATION/MatMul_3&quot;\\n  attr {\\n    key: &quot;T&quot;\\n    value {\\n      type: DT_FLOAT\\n    }\\n  }\\n  attr {\\n    key: &quot;out_type&quot;\\n    value {\\n      type: DT_INT32\\n    }\\n  }\\n}\\nnode {\\n  name: &quot;BACKWARD_PROPAGATION/dL/FEED_FORWARD_PROPAGATION/add_3_grad/Shape_1&quot;\\n  op: &quot;Const&quot;\\n  attr {\\n    key: &quot;dtype&quot;\\n    value {\\n      type: DT_INT32\\n    }\\n  }\\n  attr {\\n    key: &quot;value&quot;\\n    value {\\n      tensor {\\n        dtype: DT_INT32\\n        tensor_shape {\\n          dim {\\n            size: 1\\n          }\\n        }\\n        int_val: 32\\n      }\\n    }\\n  }\\n}\\nnode {\\n  name: &quot;BACKWARD_PROPAGATION/dL/FEED_FORWARD_PROPAGATION/add_3_grad/BroadcastGradientArgs&quot;\\n  op: &quot;BroadcastGradientArgs&quot;\\n  input: &quot;BACKWARD_PROPAGATION/dL/FEED_FORWARD_PROPAGATION/add_3_grad/Shape&quot;\\n  input: &quot;BACKWARD_PROPAGATION/dL/FEED_FORWARD_PROPAGATION/add_3_grad/Shape_1&quot;\\n  attr {\\n    key: &quot;T&quot;\\n    value {\\n      type: DT_INT32\\n    }\\n  }\\n}\\nnode {\\n  name: &quot;BACKWARD_PROPAGATION/dL/FEED_FORWARD_PROPAGATION/add_3_grad/Sum&quot;\\n  op: &quot;Sum&quot;\\n  input: &quot;BACKWARD_PROPAGATION/dL/FEED_FORWARD_PROPAGATION/Relu_3_grad/ReluGrad&quot;\\n  input: &quot;BACKWARD_PROPAGATION/dL/FEED_FORWARD_PROPAGATION/add_3_grad/BroadcastGradientArgs&quot;\\n  attr {\\n    key: &quot;T&quot;\\n    value {\\n      type: DT_FLOAT\\n    }\\n  }\\n  attr {\\n    key: &quot;Tidx&quot;\\n    value {\\n      type: DT_INT32\\n    }\\n  }\\n  attr {\\n    key: &quot;keep_dims&quot;\\n    value {\\n      b: false\\n    }\\n  }\\n}\\nnode {\\n  name: &quot;BACKWARD_PROPAGATION/dL/FEED_FORWARD_PROPAGATION/add_3_grad/Reshape&quot;\\n  op: &quot;Reshape&quot;\\n  input: &quot;BACKWARD_PROPAGATION/dL/FEED_FORWARD_PROPAGATION/add_3_grad/Sum&quot;\\n  input: &quot;BACKWARD_PROPAGATION/dL/FEED_FORWARD_PROPAGATION/add_3_grad/Shape&quot;\\n  attr {\\n    key: &quot;T&quot;\\n    value {\\n      type: DT_FLOAT\\n    }\\n  }\\n  attr {\\n    key: &quot;Tshape&quot;\\n    value {\\n      type: DT_INT32\\n    }\\n  }\\n}\\nnode {\\n  name: &quot;BACKWARD_PROPAGATION/dL/FEED_FORWARD_PROPAGATION/add_3_grad/Sum_1&quot;\\n  op: &quot;Sum&quot;\\n  input: &quot;BACKWARD_PROPAGATION/dL/FEED_FORWARD_PROPAGATION/Relu_3_grad/ReluGrad&quot;\\n  input: &quot;BACKWARD_PROPAGATION/dL/FEED_FORWARD_PROPAGATION/add_3_grad/BroadcastGradientArgs:1&quot;\\n  attr {\\n    key: &quot;T&quot;\\n    value {\\n      type: DT_FLOAT\\n    }\\n  }\\n  attr {\\n    key: &quot;Tidx&quot;\\n    value {\\n      type: DT_INT32\\n    }\\n  }\\n  attr {\\n    key: &quot;keep_dims&quot;\\n    value {\\n      b: false\\n    }\\n  }\\n}\\nnode {\\n  name: &quot;BACKWARD_PROPAGATION/dL/FEED_FORWARD_PROPAGATION/add_3_grad/Reshape_1&quot;\\n  op: &quot;Reshape&quot;\\n  input: &quot;BACKWARD_PROPAGATION/dL/FEED_FORWARD_PROPAGATION/add_3_grad/Sum_1&quot;\\n  input: &quot;BACKWARD_PROPAGATION/dL/FEED_FORWARD_PROPAGATION/add_3_grad/Shape_1&quot;\\n  attr {\\n    key: &quot;T&quot;\\n    value {\\n      type: DT_FLOAT\\n    }\\n  }\\n  attr {\\n    key: &quot;Tshape&quot;\\n    value {\\n      type: DT_INT32\\n    }\\n  }\\n}\\nnode {\\n  name: &quot;BACKWARD_PROPAGATION/dL/FEED_FORWARD_PROPAGATION/MatMul_3_grad/MatMul&quot;\\n  op: &quot;MatMul&quot;\\n  input: &quot;BACKWARD_PROPAGATION/dL/FEED_FORWARD_PROPAGATION/add_3_grad/Reshape&quot;\\n  input: &quot;W3/read&quot;\\n  attr {\\n    key: &quot;T&quot;\\n    value {\\n      type: DT_FLOAT\\n    }\\n  }\\n  attr {\\n    key: &quot;transpose_a&quot;\\n    value {\\n      b: false\\n    }\\n  }\\n  attr {\\n    key: &quot;transpose_b&quot;\\n    value {\\n      b: true\\n    }\\n  }\\n}\\nnode {\\n  name: &quot;BACKWARD_PROPAGATION/dL/FEED_FORWARD_PROPAGATION/MatMul_3_grad/MatMul_1&quot;\\n  op: &quot;MatMul&quot;\\n  input: &quot;FEED_FORWARD_PROPAGATION/Relu_2&quot;\\n  input: &quot;BACKWARD_PROPAGATION/dL/FEED_FORWARD_PROPAGATION/add_3_grad/Reshape&quot;\\n  attr {\\n    key: &quot;T&quot;\\n    value {\\n      type: DT_FLOAT\\n    }\\n  }\\n  attr {\\n    key: &quot;transpose_a&quot;\\n    value {\\n      b: true\\n    }\\n  }\\n  attr {\\n    key: &quot;transpose_b&quot;\\n    value {\\n      b: false\\n    }\\n  }\\n}\\nnode {\\n  name: &quot;BACKWARD_PROPAGATION/dL/AddN_1&quot;\\n  op: &quot;AddN&quot;\\n  input: &quot;BACKWARD_PROPAGATION/dL/LOSS/L2Loss_7_grad/mul&quot;\\n  input: &quot;BACKWARD_PROPAGATION/dL/FEED_FORWARD_PROPAGATION/add_3_grad/Reshape_1&quot;\\n  attr {\\n    key: &quot;N&quot;\\n    value {\\n      i: 2\\n    }\\n  }\\n  attr {\\n    key: &quot;T&quot;\\n    value {\\n      type: DT_FLOAT\\n    }\\n  }\\n  attr {\\n    key: &quot;_class&quot;\\n    value {\\n      list {\\n        s: &quot;loc:@BACKWARD_PROPAGATION/dL/LOSS/L2Loss_7_grad/mul&quot;\\n      }\\n    }\\n  }\\n}\\nnode {\\n  name: &quot;BACKWARD_PROPAGATION/dL/FEED_FORWARD_PROPAGATION/Relu_2_grad/ReluGrad&quot;\\n  op: &quot;ReluGrad&quot;\\n  input: &quot;BACKWARD_PROPAGATION/dL/FEED_FORWARD_PROPAGATION/MatMul_3_grad/MatMul&quot;\\n  input: &quot;FEED_FORWARD_PROPAGATION/Relu_2&quot;\\n  attr {\\n    key: &quot;T&quot;\\n    value {\\n      type: DT_FLOAT\\n    }\\n  }\\n}\\nnode {\\n  name: &quot;BACKWARD_PROPAGATION/dL/AddN_2&quot;\\n  op: &quot;AddN&quot;\\n  input: &quot;BACKWARD_PROPAGATION/dL/LOSS/L2Loss_6_grad/mul&quot;\\n  input: &quot;BACKWARD_PROPAGATION/dL/FEED_FORWARD_PROPAGATION/MatMul_3_grad/MatMul_1&quot;\\n  attr {\\n    key: &quot;N&quot;\\n    value {\\n      i: 2\\n    }\\n  }\\n  attr {\\n    key: &quot;T&quot;\\n    value {\\n      type: DT_FLOAT\\n    }\\n  }\\n  attr {\\n    key: &quot;_class&quot;\\n    value {\\n      list {\\n        s: &quot;loc:@BACKWARD_PROPAGATION/dL/LOSS/L2Loss_6_grad/mul&quot;\\n      }\\n    }\\n  }\\n}\\nnode {\\n  name: &quot;BACKWARD_PROPAGATION/dL/FEED_FORWARD_PROPAGATION/add_2_grad/Shape&quot;\\n  op: &quot;Shape&quot;\\n  input: &quot;FEED_FORWARD_PROPAGATION/MatMul_2&quot;\\n  attr {\\n    key: &quot;T&quot;\\n    value {\\n      type: DT_FLOAT\\n    }\\n  }\\n  attr {\\n    key: &quot;out_type&quot;\\n    value {\\n      type: DT_INT32\\n    }\\n  }\\n}\\nnode {\\n  name: &quot;BACKWARD_PROPAGATION/dL/FEED_FORWARD_PROPAGATION/add_2_grad/Shape_1&quot;\\n  op: &quot;Const&quot;\\n  attr {\\n    key: &quot;dtype&quot;\\n    value {\\n      type: DT_INT32\\n    }\\n  }\\n  attr {\\n    key: &quot;value&quot;\\n    value {\\n      tensor {\\n        dtype: DT_INT32\\n        tensor_shape {\\n          dim {\\n            size: 1\\n          }\\n        }\\n        int_val: 128\\n      }\\n    }\\n  }\\n}\\nnode {\\n  name: &quot;BACKWARD_PROPAGATION/dL/FEED_FORWARD_PROPAGATION/add_2_grad/BroadcastGradientArgs&quot;\\n  op: &quot;BroadcastGradientArgs&quot;\\n  input: &quot;BACKWARD_PROPAGATION/dL/FEED_FORWARD_PROPAGATION/add_2_grad/Shape&quot;\\n  input: &quot;BACKWARD_PROPAGATION/dL/FEED_FORWARD_PROPAGATION/add_2_grad/Shape_1&quot;\\n  attr {\\n    key: &quot;T&quot;\\n    value {\\n      type: DT_INT32\\n    }\\n  }\\n}\\nnode {\\n  name: &quot;BACKWARD_PROPAGATION/dL/FEED_FORWARD_PROPAGATION/add_2_grad/Sum&quot;\\n  op: &quot;Sum&quot;\\n  input: &quot;BACKWARD_PROPAGATION/dL/FEED_FORWARD_PROPAGATION/Relu_2_grad/ReluGrad&quot;\\n  input: &quot;BACKWARD_PROPAGATION/dL/FEED_FORWARD_PROPAGATION/add_2_grad/BroadcastGradientArgs&quot;\\n  attr {\\n    key: &quot;T&quot;\\n    value {\\n      type: DT_FLOAT\\n    }\\n  }\\n  attr {\\n    key: &quot;Tidx&quot;\\n    value {\\n      type: DT_INT32\\n    }\\n  }\\n  attr {\\n    key: &quot;keep_dims&quot;\\n    value {\\n      b: false\\n    }\\n  }\\n}\\nnode {\\n  name: &quot;BACKWARD_PROPAGATION/dL/FEED_FORWARD_PROPAGATION/add_2_grad/Reshape&quot;\\n  op: &quot;Reshape&quot;\\n  input: &quot;BACKWARD_PROPAGATION/dL/FEED_FORWARD_PROPAGATION/add_2_grad/Sum&quot;\\n  input: &quot;BACKWARD_PROPAGATION/dL/FEED_FORWARD_PROPAGATION/add_2_grad/Shape&quot;\\n  attr {\\n    key: &quot;T&quot;\\n    value {\\n      type: DT_FLOAT\\n    }\\n  }\\n  attr {\\n    key: &quot;Tshape&quot;\\n    value {\\n      type: DT_INT32\\n    }\\n  }\\n}\\nnode {\\n  name: &quot;BACKWARD_PROPAGATION/dL/FEED_FORWARD_PROPAGATION/add_2_grad/Sum_1&quot;\\n  op: &quot;Sum&quot;\\n  input: &quot;BACKWARD_PROPAGATION/dL/FEED_FORWARD_PROPAGATION/Relu_2_grad/ReluGrad&quot;\\n  input: &quot;BACKWARD_PROPAGATION/dL/FEED_FORWARD_PROPAGATION/add_2_grad/BroadcastGradientArgs:1&quot;\\n  attr {\\n    key: &quot;T&quot;\\n    value {\\n      type: DT_FLOAT\\n    }\\n  }\\n  attr {\\n    key: &quot;Tidx&quot;\\n    value {\\n      type: DT_INT32\\n    }\\n  }\\n  attr {\\n    key: &quot;keep_dims&quot;\\n    value {\\n      b: false\\n    }\\n  }\\n}\\nnode {\\n  name: &quot;BACKWARD_PROPAGATION/dL/FEED_FORWARD_PROPAGATION/add_2_grad/Reshape_1&quot;\\n  op: &quot;Reshape&quot;\\n  input: &quot;BACKWARD_PROPAGATION/dL/FEED_FORWARD_PROPAGATION/add_2_grad/Sum_1&quot;\\n  input: &quot;BACKWARD_PROPAGATION/dL/FEED_FORWARD_PROPAGATION/add_2_grad/Shape_1&quot;\\n  attr {\\n    key: &quot;T&quot;\\n    value {\\n      type: DT_FLOAT\\n    }\\n  }\\n  attr {\\n    key: &quot;Tshape&quot;\\n    value {\\n      type: DT_INT32\\n    }\\n  }\\n}\\nnode {\\n  name: &quot;BACKWARD_PROPAGATION/dL/FEED_FORWARD_PROPAGATION/MatMul_2_grad/MatMul&quot;\\n  op: &quot;MatMul&quot;\\n  input: &quot;BACKWARD_PROPAGATION/dL/FEED_FORWARD_PROPAGATION/add_2_grad/Reshape&quot;\\n  input: &quot;W2/read&quot;\\n  attr {\\n    key: &quot;T&quot;\\n    value {\\n      type: DT_FLOAT\\n    }\\n  }\\n  attr {\\n    key: &quot;transpose_a&quot;\\n    value {\\n      b: false\\n    }\\n  }\\n  attr {\\n    key: &quot;transpose_b&quot;\\n    value {\\n      b: true\\n    }\\n  }\\n}\\nnode {\\n  name: &quot;BACKWARD_PROPAGATION/dL/FEED_FORWARD_PROPAGATION/MatMul_2_grad/MatMul_1&quot;\\n  op: &quot;MatMul&quot;\\n  input: &quot;FEED_FORWARD_PROPAGATION/Relu_1&quot;\\n  input: &quot;BACKWARD_PROPAGATION/dL/FEED_FORWARD_PROPAGATION/add_2_grad/Reshape&quot;\\n  attr {\\n    key: &quot;T&quot;\\n    value {\\n      type: DT_FLOAT\\n    }\\n  }\\n  attr {\\n    key: &quot;transpose_a&quot;\\n    value {\\n      b: true\\n    }\\n  }\\n  attr {\\n    key: &quot;transpose_b&quot;\\n    value {\\n      b: false\\n    }\\n  }\\n}\\nnode {\\n  name: &quot;BACKWARD_PROPAGATION/dL/AddN_3&quot;\\n  op: &quot;AddN&quot;\\n  input: &quot;BACKWARD_PROPAGATION/dL/LOSS/L2Loss_5_grad/mul&quot;\\n  input: &quot;BACKWARD_PROPAGATION/dL/FEED_FORWARD_PROPAGATION/add_2_grad/Reshape_1&quot;\\n  attr {\\n    key: &quot;N&quot;\\n    value {\\n      i: 2\\n    }\\n  }\\n  attr {\\n    key: &quot;T&quot;\\n    value {\\n      type: DT_FLOAT\\n    }\\n  }\\n  attr {\\n    key: &quot;_class&quot;\\n    value {\\n      list {\\n        s: &quot;loc:@BACKWARD_PROPAGATION/dL/LOSS/L2Loss_5_grad/mul&quot;\\n      }\\n    }\\n  }\\n}\\nnode {\\n  name: &quot;BACKWARD_PROPAGATION/dL/FEED_FORWARD_PROPAGATION/Relu_1_grad/ReluGrad&quot;\\n  op: &quot;ReluGrad&quot;\\n  input: &quot;BACKWARD_PROPAGATION/dL/FEED_FORWARD_PROPAGATION/MatMul_2_grad/MatMul&quot;\\n  input: &quot;FEED_FORWARD_PROPAGATION/Relu_1&quot;\\n  attr {\\n    key: &quot;T&quot;\\n    value {\\n      type: DT_FLOAT\\n    }\\n  }\\n}\\nnode {\\n  name: &quot;BACKWARD_PROPAGATION/dL/AddN_4&quot;\\n  op: &quot;AddN&quot;\\n  input: &quot;BACKWARD_PROPAGATION/dL/LOSS/L2Loss_4_grad/mul&quot;\\n  input: &quot;BACKWARD_PROPAGATION/dL/FEED_FORWARD_PROPAGATION/MatMul_2_grad/MatMul_1&quot;\\n  attr {\\n    key: &quot;N&quot;\\n    value {\\n      i: 2\\n    }\\n  }\\n  attr {\\n    key: &quot;T&quot;\\n    value {\\n      type: DT_FLOAT\\n    }\\n  }\\n  attr {\\n    key: &quot;_class&quot;\\n    value {\\n      list {\\n        s: &quot;loc:@BACKWARD_PROPAGATION/dL/LOSS/L2Loss_4_grad/mul&quot;\\n      }\\n    }\\n  }\\n}\\nnode {\\n  name: &quot;BACKWARD_PROPAGATION/dL/FEED_FORWARD_PROPAGATION/add_1_grad/Shape&quot;\\n  op: &quot;Shape&quot;\\n  input: &quot;FEED_FORWARD_PROPAGATION/MatMul_1&quot;\\n  attr {\\n    key: &quot;T&quot;\\n    value {\\n      type: DT_FLOAT\\n    }\\n  }\\n  attr {\\n    key: &quot;out_type&quot;\\n    value {\\n      type: DT_INT32\\n    }\\n  }\\n}\\nnode {\\n  name: &quot;BACKWARD_PROPAGATION/dL/FEED_FORWARD_PROPAGATION/add_1_grad/Shape_1&quot;\\n  op: &quot;Const&quot;\\n  attr {\\n    key: &quot;dtype&quot;\\n    value {\\n      type: DT_INT32\\n    }\\n  }\\n  attr {\\n    key: &quot;value&quot;\\n    value {\\n      tensor {\\n        dtype: DT_INT32\\n        tensor_shape {\\n          dim {\\n            size: 1\\n          }\\n        }\\n        int_val: 256\\n      }\\n    }\\n  }\\n}\\nnode {\\n  name: &quot;BACKWARD_PROPAGATION/dL/FEED_FORWARD_PROPAGATION/add_1_grad/BroadcastGradientArgs&quot;\\n  op: &quot;BroadcastGradientArgs&quot;\\n  input: &quot;BACKWARD_PROPAGATION/dL/FEED_FORWARD_PROPAGATION/add_1_grad/Shape&quot;\\n  input: &quot;BACKWARD_PROPAGATION/dL/FEED_FORWARD_PROPAGATION/add_1_grad/Shape_1&quot;\\n  attr {\\n    key: &quot;T&quot;\\n    value {\\n      type: DT_INT32\\n    }\\n  }\\n}\\nnode {\\n  name: &quot;BACKWARD_PROPAGATION/dL/FEED_FORWARD_PROPAGATION/add_1_grad/Sum&quot;\\n  op: &quot;Sum&quot;\\n  input: &quot;BACKWARD_PROPAGATION/dL/FEED_FORWARD_PROPAGATION/Relu_1_grad/ReluGrad&quot;\\n  input: &quot;BACKWARD_PROPAGATION/dL/FEED_FORWARD_PROPAGATION/add_1_grad/BroadcastGradientArgs&quot;\\n  attr {\\n    key: &quot;T&quot;\\n    value {\\n      type: DT_FLOAT\\n    }\\n  }\\n  attr {\\n    key: &quot;Tidx&quot;\\n    value {\\n      type: DT_INT32\\n    }\\n  }\\n  attr {\\n    key: &quot;keep_dims&quot;\\n    value {\\n      b: false\\n    }\\n  }\\n}\\nnode {\\n  name: &quot;BACKWARD_PROPAGATION/dL/FEED_FORWARD_PROPAGATION/add_1_grad/Reshape&quot;\\n  op: &quot;Reshape&quot;\\n  input: &quot;BACKWARD_PROPAGATION/dL/FEED_FORWARD_PROPAGATION/add_1_grad/Sum&quot;\\n  input: &quot;BACKWARD_PROPAGATION/dL/FEED_FORWARD_PROPAGATION/add_1_grad/Shape&quot;\\n  attr {\\n    key: &quot;T&quot;\\n    value {\\n      type: DT_FLOAT\\n    }\\n  }\\n  attr {\\n    key: &quot;Tshape&quot;\\n    value {\\n      type: DT_INT32\\n    }\\n  }\\n}\\nnode {\\n  name: &quot;BACKWARD_PROPAGATION/dL/FEED_FORWARD_PROPAGATION/add_1_grad/Sum_1&quot;\\n  op: &quot;Sum&quot;\\n  input: &quot;BACKWARD_PROPAGATION/dL/FEED_FORWARD_PROPAGATION/Relu_1_grad/ReluGrad&quot;\\n  input: &quot;BACKWARD_PROPAGATION/dL/FEED_FORWARD_PROPAGATION/add_1_grad/BroadcastGradientArgs:1&quot;\\n  attr {\\n    key: &quot;T&quot;\\n    value {\\n      type: DT_FLOAT\\n    }\\n  }\\n  attr {\\n    key: &quot;Tidx&quot;\\n    value {\\n      type: DT_INT32\\n    }\\n  }\\n  attr {\\n    key: &quot;keep_dims&quot;\\n    value {\\n      b: false\\n    }\\n  }\\n}\\nnode {\\n  name: &quot;BACKWARD_PROPAGATION/dL/FEED_FORWARD_PROPAGATION/add_1_grad/Reshape_1&quot;\\n  op: &quot;Reshape&quot;\\n  input: &quot;BACKWARD_PROPAGATION/dL/FEED_FORWARD_PROPAGATION/add_1_grad/Sum_1&quot;\\n  input: &quot;BACKWARD_PROPAGATION/dL/FEED_FORWARD_PROPAGATION/add_1_grad/Shape_1&quot;\\n  attr {\\n    key: &quot;T&quot;\\n    value {\\n      type: DT_FLOAT\\n    }\\n  }\\n  attr {\\n    key: &quot;Tshape&quot;\\n    value {\\n      type: DT_INT32\\n    }\\n  }\\n}\\nnode {\\n  name: &quot;BACKWARD_PROPAGATION/dL/FEED_FORWARD_PROPAGATION/MatMul_1_grad/MatMul&quot;\\n  op: &quot;MatMul&quot;\\n  input: &quot;BACKWARD_PROPAGATION/dL/FEED_FORWARD_PROPAGATION/add_1_grad/Reshape&quot;\\n  input: &quot;W1/read&quot;\\n  attr {\\n    key: &quot;T&quot;\\n    value {\\n      type: DT_FLOAT\\n    }\\n  }\\n  attr {\\n    key: &quot;transpose_a&quot;\\n    value {\\n      b: false\\n    }\\n  }\\n  attr {\\n    key: &quot;transpose_b&quot;\\n    value {\\n      b: true\\n    }\\n  }\\n}\\nnode {\\n  name: &quot;BACKWARD_PROPAGATION/dL/FEED_FORWARD_PROPAGATION/MatMul_1_grad/MatMul_1&quot;\\n  op: &quot;MatMul&quot;\\n  input: &quot;FEED_FORWARD_PROPAGATION/Relu&quot;\\n  input: &quot;BACKWARD_PROPAGATION/dL/FEED_FORWARD_PROPAGATION/add_1_grad/Reshape&quot;\\n  attr {\\n    key: &quot;T&quot;\\n    value {\\n      type: DT_FLOAT\\n    }\\n  }\\n  attr {\\n    key: &quot;transpose_a&quot;\\n    value {\\n      b: true\\n    }\\n  }\\n  attr {\\n    key: &quot;transpose_b&quot;\\n    value {\\n      b: false\\n    }\\n  }\\n}\\nnode {\\n  name: &quot;BACKWARD_PROPAGATION/dL/AddN_5&quot;\\n  op: &quot;AddN&quot;\\n  input: &quot;BACKWARD_PROPAGATION/dL/LOSS/L2Loss_3_grad/mul&quot;\\n  input: &quot;BACKWARD_PROPAGATION/dL/FEED_FORWARD_PROPAGATION/add_1_grad/Reshape_1&quot;\\n  attr {\\n    key: &quot;N&quot;\\n    value {\\n      i: 2\\n    }\\n  }\\n  attr {\\n    key: &quot;T&quot;\\n    value {\\n      type: DT_FLOAT\\n    }\\n  }\\n  attr {\\n    key: &quot;_class&quot;\\n    value {\\n      list {\\n        s: &quot;loc:@BACKWARD_PROPAGATION/dL/LOSS/L2Loss_3_grad/mul&quot;\\n      }\\n    }\\n  }\\n}\\nnode {\\n  name: &quot;BACKWARD_PROPAGATION/dL/FEED_FORWARD_PROPAGATION/Relu_grad/ReluGrad&quot;\\n  op: &quot;ReluGrad&quot;\\n  input: &quot;BACKWARD_PROPAGATION/dL/FEED_FORWARD_PROPAGATION/MatMul_1_grad/MatMul&quot;\\n  input: &quot;FEED_FORWARD_PROPAGATION/Relu&quot;\\n  attr {\\n    key: &quot;T&quot;\\n    value {\\n      type: DT_FLOAT\\n    }\\n  }\\n}\\nnode {\\n  name: &quot;BACKWARD_PROPAGATION/dL/AddN_6&quot;\\n  op: &quot;AddN&quot;\\n  input: &quot;BACKWARD_PROPAGATION/dL/LOSS/L2Loss_2_grad/mul&quot;\\n  input: &quot;BACKWARD_PROPAGATION/dL/FEED_FORWARD_PROPAGATION/MatMul_1_grad/MatMul_1&quot;\\n  attr {\\n    key: &quot;N&quot;\\n    value {\\n      i: 2\\n    }\\n  }\\n  attr {\\n    key: &quot;T&quot;\\n    value {\\n      type: DT_FLOAT\\n    }\\n  }\\n  attr {\\n    key: &quot;_class&quot;\\n    value {\\n      list {\\n        s: &quot;loc:@BACKWARD_PROPAGATION/dL/LOSS/L2Loss_2_grad/mul&quot;\\n      }\\n    }\\n  }\\n}\\nnode {\\n  name: &quot;BACKWARD_PROPAGATION/dL/FEED_FORWARD_PROPAGATION/add_grad/Shape&quot;\\n  op: &quot;Shape&quot;\\n  input: &quot;FEED_FORWARD_PROPAGATION/MatMul&quot;\\n  attr {\\n    key: &quot;T&quot;\\n    value {\\n      type: DT_FLOAT\\n    }\\n  }\\n  attr {\\n    key: &quot;out_type&quot;\\n    value {\\n      type: DT_INT32\\n    }\\n  }\\n}\\nnode {\\n  name: &quot;BACKWARD_PROPAGATION/dL/FEED_FORWARD_PROPAGATION/add_grad/Shape_1&quot;\\n  op: &quot;Const&quot;\\n  attr {\\n    key: &quot;dtype&quot;\\n    value {\\n      type: DT_INT32\\n    }\\n  }\\n  attr {\\n    key: &quot;value&quot;\\n    value {\\n      tensor {\\n        dtype: DT_INT32\\n        tensor_shape {\\n          dim {\\n            size: 1\\n          }\\n        }\\n        int_val: 128\\n      }\\n    }\\n  }\\n}\\nnode {\\n  name: &quot;BACKWARD_PROPAGATION/dL/FEED_FORWARD_PROPAGATION/add_grad/BroadcastGradientArgs&quot;\\n  op: &quot;BroadcastGradientArgs&quot;\\n  input: &quot;BACKWARD_PROPAGATION/dL/FEED_FORWARD_PROPAGATION/add_grad/Shape&quot;\\n  input: &quot;BACKWARD_PROPAGATION/dL/FEED_FORWARD_PROPAGATION/add_grad/Shape_1&quot;\\n  attr {\\n    key: &quot;T&quot;\\n    value {\\n      type: DT_INT32\\n    }\\n  }\\n}\\nnode {\\n  name: &quot;BACKWARD_PROPAGATION/dL/FEED_FORWARD_PROPAGATION/add_grad/Sum&quot;\\n  op: &quot;Sum&quot;\\n  input: &quot;BACKWARD_PROPAGATION/dL/FEED_FORWARD_PROPAGATION/Relu_grad/ReluGrad&quot;\\n  input: &quot;BACKWARD_PROPAGATION/dL/FEED_FORWARD_PROPAGATION/add_grad/BroadcastGradientArgs&quot;\\n  attr {\\n    key: &quot;T&quot;\\n    value {\\n      type: DT_FLOAT\\n    }\\n  }\\n  attr {\\n    key: &quot;Tidx&quot;\\n    value {\\n      type: DT_INT32\\n    }\\n  }\\n  attr {\\n    key: &quot;keep_dims&quot;\\n    value {\\n      b: false\\n    }\\n  }\\n}\\nnode {\\n  name: &quot;BACKWARD_PROPAGATION/dL/FEED_FORWARD_PROPAGATION/add_grad/Reshape&quot;\\n  op: &quot;Reshape&quot;\\n  input: &quot;BACKWARD_PROPAGATION/dL/FEED_FORWARD_PROPAGATION/add_grad/Sum&quot;\\n  input: &quot;BACKWARD_PROPAGATION/dL/FEED_FORWARD_PROPAGATION/add_grad/Shape&quot;\\n  attr {\\n    key: &quot;T&quot;\\n    value {\\n      type: DT_FLOAT\\n    }\\n  }\\n  attr {\\n    key: &quot;Tshape&quot;\\n    value {\\n      type: DT_INT32\\n    }\\n  }\\n}\\nnode {\\n  name: &quot;BACKWARD_PROPAGATION/dL/FEED_FORWARD_PROPAGATION/add_grad/Sum_1&quot;\\n  op: &quot;Sum&quot;\\n  input: &quot;BACKWARD_PROPAGATION/dL/FEED_FORWARD_PROPAGATION/Relu_grad/ReluGrad&quot;\\n  input: &quot;BACKWARD_PROPAGATION/dL/FEED_FORWARD_PROPAGATION/add_grad/BroadcastGradientArgs:1&quot;\\n  attr {\\n    key: &quot;T&quot;\\n    value {\\n      type: DT_FLOAT\\n    }\\n  }\\n  attr {\\n    key: &quot;Tidx&quot;\\n    value {\\n      type: DT_INT32\\n    }\\n  }\\n  attr {\\n    key: &quot;keep_dims&quot;\\n    value {\\n      b: false\\n    }\\n  }\\n}\\nnode {\\n  name: &quot;BACKWARD_PROPAGATION/dL/FEED_FORWARD_PROPAGATION/add_grad/Reshape_1&quot;\\n  op: &quot;Reshape&quot;\\n  input: &quot;BACKWARD_PROPAGATION/dL/FEED_FORWARD_PROPAGATION/add_grad/Sum_1&quot;\\n  input: &quot;BACKWARD_PROPAGATION/dL/FEED_FORWARD_PROPAGATION/add_grad/Shape_1&quot;\\n  attr {\\n    key: &quot;T&quot;\\n    value {\\n      type: DT_FLOAT\\n    }\\n  }\\n  attr {\\n    key: &quot;Tshape&quot;\\n    value {\\n      type: DT_INT32\\n    }\\n  }\\n}\\nnode {\\n  name: &quot;BACKWARD_PROPAGATION/dL/FEED_FORWARD_PROPAGATION/MatMul_grad/MatMul&quot;\\n  op: &quot;MatMul&quot;\\n  input: &quot;BACKWARD_PROPAGATION/dL/FEED_FORWARD_PROPAGATION/add_grad/Reshape&quot;\\n  input: &quot;W0/read&quot;\\n  attr {\\n    key: &quot;T&quot;\\n    value {\\n      type: DT_FLOAT\\n    }\\n  }\\n  attr {\\n    key: &quot;transpose_a&quot;\\n    value {\\n      b: false\\n    }\\n  }\\n  attr {\\n    key: &quot;transpose_b&quot;\\n    value {\\n      b: true\\n    }\\n  }\\n}\\nnode {\\n  name: &quot;BACKWARD_PROPAGATION/dL/FEED_FORWARD_PROPAGATION/MatMul_grad/MatMul_1&quot;\\n  op: &quot;MatMul&quot;\\n  input: &quot;INPUT_PIPELINE/IteratorGetNext&quot;\\n  input: &quot;BACKWARD_PROPAGATION/dL/FEED_FORWARD_PROPAGATION/add_grad/Reshape&quot;\\n  attr {\\n    key: &quot;T&quot;\\n    value {\\n      type: DT_FLOAT\\n    }\\n  }\\n  attr {\\n    key: &quot;transpose_a&quot;\\n    value {\\n      b: true\\n    }\\n  }\\n  attr {\\n    key: &quot;transpose_b&quot;\\n    value {\\n      b: false\\n    }\\n  }\\n}\\nnode {\\n  name: &quot;BACKWARD_PROPAGATION/dL/AddN_7&quot;\\n  op: &quot;AddN&quot;\\n  input: &quot;BACKWARD_PROPAGATION/dL/LOSS/L2Loss_1_grad/mul&quot;\\n  input: &quot;BACKWARD_PROPAGATION/dL/FEED_FORWARD_PROPAGATION/add_grad/Reshape_1&quot;\\n  attr {\\n    key: &quot;N&quot;\\n    value {\\n      i: 2\\n    }\\n  }\\n  attr {\\n    key: &quot;T&quot;\\n    value {\\n      type: DT_FLOAT\\n    }\\n  }\\n  attr {\\n    key: &quot;_class&quot;\\n    value {\\n      list {\\n        s: &quot;loc:@BACKWARD_PROPAGATION/dL/LOSS/L2Loss_1_grad/mul&quot;\\n      }\\n    }\\n  }\\n}\\nnode {\\n  name: &quot;BACKWARD_PROPAGATION/dL/AddN_8&quot;\\n  op: &quot;AddN&quot;\\n  input: &quot;BACKWARD_PROPAGATION/dL/LOSS/L2Loss_grad/mul&quot;\\n  input: &quot;BACKWARD_PROPAGATION/dL/FEED_FORWARD_PROPAGATION/MatMul_grad/MatMul_1&quot;\\n  attr {\\n    key: &quot;N&quot;\\n    value {\\n      i: 2\\n    }\\n  }\\n  attr {\\n    key: &quot;T&quot;\\n    value {\\n      type: DT_FLOAT\\n    }\\n  }\\n  attr {\\n    key: &quot;_class&quot;\\n    value {\\n      list {\\n        s: &quot;loc:@BACKWARD_PROPAGATION/dL/LOSS/L2Loss_grad/mul&quot;\\n      }\\n    }\\n  }\\n}\\nnode {\\n  name: &quot;BACKWARD_PROPAGATION/beta1_power/initial_value&quot;\\n  op: &quot;Const&quot;\\n  attr {\\n    key: &quot;_class&quot;\\n    value {\\n      list {\\n        s: &quot;loc:@B0&quot;\\n      }\\n    }\\n  }\\n  attr {\\n    key: &quot;dtype&quot;\\n    value {\\n      type: DT_FLOAT\\n    }\\n  }\\n  attr {\\n    key: &quot;value&quot;\\n    value {\\n      tensor {\\n        dtype: DT_FLOAT\\n        tensor_shape {\\n        }\\n        float_val: 0.8999999761581421\\n      }\\n    }\\n  }\\n}\\nnode {\\n  name: &quot;BACKWARD_PROPAGATION/beta1_power&quot;\\n  op: &quot;VariableV2&quot;\\n  attr {\\n    key: &quot;_class&quot;\\n    value {\\n      list {\\n        s: &quot;loc:@B0&quot;\\n      }\\n    }\\n  }\\n  attr {\\n    key: &quot;container&quot;\\n    value {\\n      s: &quot;&quot;\\n    }\\n  }\\n  attr {\\n    key: &quot;dtype&quot;\\n    value {\\n      type: DT_FLOAT\\n    }\\n  }\\n  attr {\\n    key: &quot;shape&quot;\\n    value {\\n      shape {\\n      }\\n    }\\n  }\\n  attr {\\n    key: &quot;shared_name&quot;\\n    value {\\n      s: &quot;&quot;\\n    }\\n  }\\n}\\nnode {\\n  name: &quot;BACKWARD_PROPAGATION/beta1_power/Assign&quot;\\n  op: &quot;Assign&quot;\\n  input: &quot;BACKWARD_PROPAGATION/beta1_power&quot;\\n  input: &quot;BACKWARD_PROPAGATION/beta1_power/initial_value&quot;\\n  attr {\\n    key: &quot;T&quot;\\n    value {\\n      type: DT_FLOAT\\n    }\\n  }\\n  attr {\\n    key: &quot;_class&quot;\\n    value {\\n      list {\\n        s: &quot;loc:@B0&quot;\\n      }\\n    }\\n  }\\n  attr {\\n    key: &quot;use_locking&quot;\\n    value {\\n      b: true\\n    }\\n  }\\n  attr {\\n    key: &quot;validate_shape&quot;\\n    value {\\n      b: true\\n    }\\n  }\\n}\\nnode {\\n  name: &quot;BACKWARD_PROPAGATION/beta1_power/read&quot;\\n  op: &quot;Identity&quot;\\n  input: &quot;BACKWARD_PROPAGATION/beta1_power&quot;\\n  attr {\\n    key: &quot;T&quot;\\n    value {\\n      type: DT_FLOAT\\n    }\\n  }\\n  attr {\\n    key: &quot;_class&quot;\\n    value {\\n      list {\\n        s: &quot;loc:@B0&quot;\\n      }\\n    }\\n  }\\n}\\nnode {\\n  name: &quot;BACKWARD_PROPAGATION/beta2_power/initial_value&quot;\\n  op: &quot;Const&quot;\\n  attr {\\n    key: &quot;_class&quot;\\n    value {\\n      list {\\n        s: &quot;loc:@B0&quot;\\n      }\\n    }\\n  }\\n  attr {\\n    key: &quot;dtype&quot;\\n    value {\\n      type: DT_FLOAT\\n    }\\n  }\\n  attr {\\n    key: &quot;value&quot;\\n    value {\\n      tensor {\\n        dtype: DT_FLOAT\\n        tensor_shape {\\n        }\\n        float_val: 0.9990000128746033\\n      }\\n    }\\n  }\\n}\\nnode {\\n  name: &quot;BACKWARD_PROPAGATION/beta2_power&quot;\\n  op: &quot;VariableV2&quot;\\n  attr {\\n    key: &quot;_class&quot;\\n    value {\\n      list {\\n        s: &quot;loc:@B0&quot;\\n      }\\n    }\\n  }\\n  attr {\\n    key: &quot;container&quot;\\n    value {\\n      s: &quot;&quot;\\n    }\\n  }\\n  attr {\\n    key: &quot;dtype&quot;\\n    value {\\n      type: DT_FLOAT\\n    }\\n  }\\n  attr {\\n    key: &quot;shape&quot;\\n    value {\\n      shape {\\n      }\\n    }\\n  }\\n  attr {\\n    key: &quot;shared_name&quot;\\n    value {\\n      s: &quot;&quot;\\n    }\\n  }\\n}\\nnode {\\n  name: &quot;BACKWARD_PROPAGATION/beta2_power/Assign&quot;\\n  op: &quot;Assign&quot;\\n  input: &quot;BACKWARD_PROPAGATION/beta2_power&quot;\\n  input: &quot;BACKWARD_PROPAGATION/beta2_power/initial_value&quot;\\n  attr {\\n    key: &quot;T&quot;\\n    value {\\n      type: DT_FLOAT\\n    }\\n  }\\n  attr {\\n    key: &quot;_class&quot;\\n    value {\\n      list {\\n        s: &quot;loc:@B0&quot;\\n      }\\n    }\\n  }\\n  attr {\\n    key: &quot;use_locking&quot;\\n    value {\\n      b: true\\n    }\\n  }\\n  attr {\\n    key: &quot;validate_shape&quot;\\n    value {\\n      b: true\\n    }\\n  }\\n}\\nnode {\\n  name: &quot;BACKWARD_PROPAGATION/beta2_power/read&quot;\\n  op: &quot;Identity&quot;\\n  input: &quot;BACKWARD_PROPAGATION/beta2_power&quot;\\n  attr {\\n    key: &quot;T&quot;\\n    value {\\n      type: DT_FLOAT\\n    }\\n  }\\n  attr {\\n    key: &quot;_class&quot;\\n    value {\\n      list {\\n        s: &quot;loc:@B0&quot;\\n      }\\n    }\\n  }\\n}\\nnode {\\n  name: &quot;W0/Min_dL/Initializer/zeros/shape_as_tensor&quot;\\n  op: &quot;Const&quot;\\n  attr {\\n    key: &quot;_class&quot;\\n    value {\\n      list {\\n        s: &quot;loc:@W0&quot;\\n      }\\n    }\\n  }\\n  attr {\\n    key: &quot;dtype&quot;\\n    value {\\n      type: DT_INT32\\n    }\\n  }\\n  attr {\\n    key: &quot;value&quot;\\n    value {\\n      tensor {\\n        dtype: DT_INT32\\n        tensor_shape {\\n          dim {\\n            size: 2\\n          }\\n        }\\n        tensor_content: &quot;:\\\\000\\\\000\\\\000\\\\200\\\\000\\\\000\\\\000&quot;\\n      }\\n    }\\n  }\\n}\\nnode {\\n  name: &quot;W0/Min_dL/Initializer/zeros/Const&quot;\\n  op: &quot;Const&quot;\\n  attr {\\n    key: &quot;_class&quot;\\n    value {\\n      list {\\n        s: &quot;loc:@W0&quot;\\n      }\\n    }\\n  }\\n  attr {\\n    key: &quot;dtype&quot;\\n    value {\\n      type: DT_FLOAT\\n    }\\n  }\\n  attr {\\n    key: &quot;value&quot;\\n    value {\\n      tensor {\\n        dtype: DT_FLOAT\\n        tensor_shape {\\n        }\\n        float_val: 0.0\\n      }\\n    }\\n  }\\n}\\nnode {\\n  name: &quot;W0/Min_dL/Initializer/zeros&quot;\\n  op: &quot;Fill&quot;\\n  input: &quot;W0/Min_dL/Initializer/zeros/shape_as_tensor&quot;\\n  input: &quot;W0/Min_dL/Initializer/zeros/Const&quot;\\n  attr {\\n    key: &quot;T&quot;\\n    value {\\n      type: DT_FLOAT\\n    }\\n  }\\n  attr {\\n    key: &quot;_class&quot;\\n    value {\\n      list {\\n        s: &quot;loc:@W0&quot;\\n      }\\n    }\\n  }\\n  attr {\\n    key: &quot;index_type&quot;\\n    value {\\n      type: DT_INT32\\n    }\\n  }\\n}\\nnode {\\n  name: &quot;W0/Min_dL&quot;\\n  op: &quot;VariableV2&quot;\\n  attr {\\n    key: &quot;_class&quot;\\n    value {\\n      list {\\n        s: &quot;loc:@W0&quot;\\n      }\\n    }\\n  }\\n  attr {\\n    key: &quot;container&quot;\\n    value {\\n      s: &quot;&quot;\\n    }\\n  }\\n  attr {\\n    key: &quot;dtype&quot;\\n    value {\\n      type: DT_FLOAT\\n    }\\n  }\\n  attr {\\n    key: &quot;shape&quot;\\n    value {\\n      shape {\\n        dim {\\n          size: 58\\n        }\\n        dim {\\n          size: 128\\n        }\\n      }\\n    }\\n  }\\n  attr {\\n    key: &quot;shared_name&quot;\\n    value {\\n      s: &quot;&quot;\\n    }\\n  }\\n}\\nnode {\\n  name: &quot;W0/Min_dL/Assign&quot;\\n  op: &quot;Assign&quot;\\n  input: &quot;W0/Min_dL&quot;\\n  input: &quot;W0/Min_dL/Initializer/zeros&quot;\\n  attr {\\n    key: &quot;T&quot;\\n    value {\\n      type: DT_FLOAT\\n    }\\n  }\\n  attr {\\n    key: &quot;_class&quot;\\n    value {\\n      list {\\n        s: &quot;loc:@W0&quot;\\n      }\\n    }\\n  }\\n  attr {\\n    key: &quot;use_locking&quot;\\n    value {\\n      b: true\\n    }\\n  }\\n  attr {\\n    key: &quot;validate_shape&quot;\\n    value {\\n      b: true\\n    }\\n  }\\n}\\nnode {\\n  name: &quot;W0/Min_dL/read&quot;\\n  op: &quot;Identity&quot;\\n  input: &quot;W0/Min_dL&quot;\\n  attr {\\n    key: &quot;T&quot;\\n    value {\\n      type: DT_FLOAT\\n    }\\n  }\\n  attr {\\n    key: &quot;_class&quot;\\n    value {\\n      list {\\n        s: &quot;loc:@W0&quot;\\n      }\\n    }\\n  }\\n}\\nnode {\\n  name: &quot;W0/Min_dL_1/Initializer/zeros/shape_as_tensor&quot;\\n  op: &quot;Const&quot;\\n  attr {\\n    key: &quot;_class&quot;\\n    value {\\n      list {\\n        s: &quot;loc:@W0&quot;\\n      }\\n    }\\n  }\\n  attr {\\n    key: &quot;dtype&quot;\\n    value {\\n      type: DT_INT32\\n    }\\n  }\\n  attr {\\n    key: &quot;value&quot;\\n    value {\\n      tensor {\\n        dtype: DT_INT32\\n        tensor_shape {\\n          dim {\\n            size: 2\\n          }\\n        }\\n        tensor_content: &quot;:\\\\000\\\\000\\\\000\\\\200\\\\000\\\\000\\\\000&quot;\\n      }\\n    }\\n  }\\n}\\nnode {\\n  name: &quot;W0/Min_dL_1/Initializer/zeros/Const&quot;\\n  op: &quot;Const&quot;\\n  attr {\\n    key: &quot;_class&quot;\\n    value {\\n      list {\\n        s: &quot;loc:@W0&quot;\\n      }\\n    }\\n  }\\n  attr {\\n    key: &quot;dtype&quot;\\n    value {\\n      type: DT_FLOAT\\n    }\\n  }\\n  attr {\\n    key: &quot;value&quot;\\n    value {\\n      tensor {\\n        dtype: DT_FLOAT\\n        tensor_shape {\\n        }\\n        float_val: 0.0\\n      }\\n    }\\n  }\\n}\\nnode {\\n  name: &quot;W0/Min_dL_1/Initializer/zeros&quot;\\n  op: &quot;Fill&quot;\\n  input: &quot;W0/Min_dL_1/Initializer/zeros/shape_as_tensor&quot;\\n  input: &quot;W0/Min_dL_1/Initializer/zeros/Const&quot;\\n  attr {\\n    key: &quot;T&quot;\\n    value {\\n      type: DT_FLOAT\\n    }\\n  }\\n  attr {\\n    key: &quot;_class&quot;\\n    value {\\n      list {\\n        s: &quot;loc:@W0&quot;\\n      }\\n    }\\n  }\\n  attr {\\n    key: &quot;index_type&quot;\\n    value {\\n      type: DT_INT32\\n    }\\n  }\\n}\\nnode {\\n  name: &quot;W0/Min_dL_1&quot;\\n  op: &quot;VariableV2&quot;\\n  attr {\\n    key: &quot;_class&quot;\\n    value {\\n      list {\\n        s: &quot;loc:@W0&quot;\\n      }\\n    }\\n  }\\n  attr {\\n    key: &quot;container&quot;\\n    value {\\n      s: &quot;&quot;\\n    }\\n  }\\n  attr {\\n    key: &quot;dtype&quot;\\n    value {\\n      type: DT_FLOAT\\n    }\\n  }\\n  attr {\\n    key: &quot;shape&quot;\\n    value {\\n      shape {\\n        dim {\\n          size: 58\\n        }\\n        dim {\\n          size: 128\\n        }\\n      }\\n    }\\n  }\\n  attr {\\n    key: &quot;shared_name&quot;\\n    value {\\n      s: &quot;&quot;\\n    }\\n  }\\n}\\nnode {\\n  name: &quot;W0/Min_dL_1/Assign&quot;\\n  op: &quot;Assign&quot;\\n  input: &quot;W0/Min_dL_1&quot;\\n  input: &quot;W0/Min_dL_1/Initializer/zeros&quot;\\n  attr {\\n    key: &quot;T&quot;\\n    value {\\n      type: DT_FLOAT\\n    }\\n  }\\n  attr {\\n    key: &quot;_class&quot;\\n    value {\\n      list {\\n        s: &quot;loc:@W0&quot;\\n      }\\n    }\\n  }\\n  attr {\\n    key: &quot;use_locking&quot;\\n    value {\\n      b: true\\n    }\\n  }\\n  attr {\\n    key: &quot;validate_shape&quot;\\n    value {\\n      b: true\\n    }\\n  }\\n}\\nnode {\\n  name: &quot;W0/Min_dL_1/read&quot;\\n  op: &quot;Identity&quot;\\n  input: &quot;W0/Min_dL_1&quot;\\n  attr {\\n    key: &quot;T&quot;\\n    value {\\n      type: DT_FLOAT\\n    }\\n  }\\n  attr {\\n    key: &quot;_class&quot;\\n    value {\\n      list {\\n        s: &quot;loc:@W0&quot;\\n      }\\n    }\\n  }\\n}\\nnode {\\n  name: &quot;B0/Min_dL/Initializer/zeros&quot;\\n  op: &quot;Const&quot;\\n  attr {\\n    key: &quot;_class&quot;\\n    value {\\n      list {\\n        s: &quot;loc:@B0&quot;\\n      }\\n    }\\n  }\\n  attr {\\n    key: &quot;dtype&quot;\\n    value {\\n      type: DT_FLOAT\\n    }\\n  }\\n  attr {\\n    key: &quot;value&quot;\\n    value {\\n      tensor {\\n        dtype: DT_FLOAT\\n        tensor_shape {\\n          dim {\\n            size: 128\\n          }\\n        }\\n        float_val: 0.0\\n      }\\n    }\\n  }\\n}\\nnode {\\n  name: &quot;B0/Min_dL&quot;\\n  op: &quot;VariableV2&quot;\\n  attr {\\n    key: &quot;_class&quot;\\n    value {\\n      list {\\n        s: &quot;loc:@B0&quot;\\n      }\\n    }\\n  }\\n  attr {\\n    key: &quot;container&quot;\\n    value {\\n      s: &quot;&quot;\\n    }\\n  }\\n  attr {\\n    key: &quot;dtype&quot;\\n    value {\\n      type: DT_FLOAT\\n    }\\n  }\\n  attr {\\n    key: &quot;shape&quot;\\n    value {\\n      shape {\\n        dim {\\n          size: 128\\n        }\\n      }\\n    }\\n  }\\n  attr {\\n    key: &quot;shared_name&quot;\\n    value {\\n      s: &quot;&quot;\\n    }\\n  }\\n}\\nnode {\\n  name: &quot;B0/Min_dL/Assign&quot;\\n  op: &quot;Assign&quot;\\n  input: &quot;B0/Min_dL&quot;\\n  input: &quot;B0/Min_dL/Initializer/zeros&quot;\\n  attr {\\n    key: &quot;T&quot;\\n    value {\\n      type: DT_FLOAT\\n    }\\n  }\\n  attr {\\n    key: &quot;_class&quot;\\n    value {\\n      list {\\n        s: &quot;loc:@B0&quot;\\n      }\\n    }\\n  }\\n  attr {\\n    key: &quot;use_locking&quot;\\n    value {\\n      b: true\\n    }\\n  }\\n  attr {\\n    key: &quot;validate_shape&quot;\\n    value {\\n      b: true\\n    }\\n  }\\n}\\nnode {\\n  name: &quot;B0/Min_dL/read&quot;\\n  op: &quot;Identity&quot;\\n  input: &quot;B0/Min_dL&quot;\\n  attr {\\n    key: &quot;T&quot;\\n    value {\\n      type: DT_FLOAT\\n    }\\n  }\\n  attr {\\n    key: &quot;_class&quot;\\n    value {\\n      list {\\n        s: &quot;loc:@B0&quot;\\n      }\\n    }\\n  }\\n}\\nnode {\\n  name: &quot;B0/Min_dL_1/Initializer/zeros&quot;\\n  op: &quot;Const&quot;\\n  attr {\\n    key: &quot;_class&quot;\\n    value {\\n      list {\\n        s: &quot;loc:@B0&quot;\\n      }\\n    }\\n  }\\n  attr {\\n    key: &quot;dtype&quot;\\n    value {\\n      type: DT_FLOAT\\n    }\\n  }\\n  attr {\\n    key: &quot;value&quot;\\n    value {\\n      tensor {\\n        dtype: DT_FLOAT\\n        tensor_shape {\\n          dim {\\n            size: 128\\n          }\\n        }\\n        float_val: 0.0\\n      }\\n    }\\n  }\\n}\\nnode {\\n  name: &quot;B0/Min_dL_1&quot;\\n  op: &quot;VariableV2&quot;\\n  attr {\\n    key: &quot;_class&quot;\\n    value {\\n      list {\\n        s: &quot;loc:@B0&quot;\\n      }\\n    }\\n  }\\n  attr {\\n    key: &quot;container&quot;\\n    value {\\n      s: &quot;&quot;\\n    }\\n  }\\n  attr {\\n    key: &quot;dtype&quot;\\n    value {\\n      type: DT_FLOAT\\n    }\\n  }\\n  attr {\\n    key: &quot;shape&quot;\\n    value {\\n      shape {\\n        dim {\\n          size: 128\\n        }\\n      }\\n    }\\n  }\\n  attr {\\n    key: &quot;shared_name&quot;\\n    value {\\n      s: &quot;&quot;\\n    }\\n  }\\n}\\nnode {\\n  name: &quot;B0/Min_dL_1/Assign&quot;\\n  op: &quot;Assign&quot;\\n  input: &quot;B0/Min_dL_1&quot;\\n  input: &quot;B0/Min_dL_1/Initializer/zeros&quot;\\n  attr {\\n    key: &quot;T&quot;\\n    value {\\n      type: DT_FLOAT\\n    }\\n  }\\n  attr {\\n    key: &quot;_class&quot;\\n    value {\\n      list {\\n        s: &quot;loc:@B0&quot;\\n      }\\n    }\\n  }\\n  attr {\\n    key: &quot;use_locking&quot;\\n    value {\\n      b: true\\n    }\\n  }\\n  attr {\\n    key: &quot;validate_shape&quot;\\n    value {\\n      b: true\\n    }\\n  }\\n}\\nnode {\\n  name: &quot;B0/Min_dL_1/read&quot;\\n  op: &quot;Identity&quot;\\n  input: &quot;B0/Min_dL_1&quot;\\n  attr {\\n    key: &quot;T&quot;\\n    value {\\n      type: DT_FLOAT\\n    }\\n  }\\n  attr {\\n    key: &quot;_class&quot;\\n    value {\\n      list {\\n        s: &quot;loc:@B0&quot;\\n      }\\n    }\\n  }\\n}\\nnode {\\n  name: &quot;W1/Min_dL/Initializer/zeros/shape_as_tensor&quot;\\n  op: &quot;Const&quot;\\n  attr {\\n    key: &quot;_class&quot;\\n    value {\\n      list {\\n        s: &quot;loc:@W1&quot;\\n      }\\n    }\\n  }\\n  attr {\\n    key: &quot;dtype&quot;\\n    value {\\n      type: DT_INT32\\n    }\\n  }\\n  attr {\\n    key: &quot;value&quot;\\n    value {\\n      tensor {\\n        dtype: DT_INT32\\n        tensor_shape {\\n          dim {\\n            size: 2\\n          }\\n        }\\n        tensor_content: &quot;\\\\200\\\\000\\\\000\\\\000\\\\000\\\\001\\\\000\\\\000&quot;\\n      }\\n    }\\n  }\\n}\\nnode {\\n  name: &quot;W1/Min_dL/Initializer/zeros/Const&quot;\\n  op: &quot;Const&quot;\\n  attr {\\n    key: &quot;_class&quot;\\n    value {\\n      list {\\n        s: &quot;loc:@W1&quot;\\n      }\\n    }\\n  }\\n  attr {\\n    key: &quot;dtype&quot;\\n    value {\\n      type: DT_FLOAT\\n    }\\n  }\\n  attr {\\n    key: &quot;value&quot;\\n    value {\\n      tensor {\\n        dtype: DT_FLOAT\\n        tensor_shape {\\n        }\\n        float_val: 0.0\\n      }\\n    }\\n  }\\n}\\nnode {\\n  name: &quot;W1/Min_dL/Initializer/zeros&quot;\\n  op: &quot;Fill&quot;\\n  input: &quot;W1/Min_dL/Initializer/zeros/shape_as_tensor&quot;\\n  input: &quot;W1/Min_dL/Initializer/zeros/Const&quot;\\n  attr {\\n    key: &quot;T&quot;\\n    value {\\n      type: DT_FLOAT\\n    }\\n  }\\n  attr {\\n    key: &quot;_class&quot;\\n    value {\\n      list {\\n        s: &quot;loc:@W1&quot;\\n      }\\n    }\\n  }\\n  attr {\\n    key: &quot;index_type&quot;\\n    value {\\n      type: DT_INT32\\n    }\\n  }\\n}\\nnode {\\n  name: &quot;W1/Min_dL&quot;\\n  op: &quot;VariableV2&quot;\\n  attr {\\n    key: &quot;_class&quot;\\n    value {\\n      list {\\n        s: &quot;loc:@W1&quot;\\n      }\\n    }\\n  }\\n  attr {\\n    key: &quot;container&quot;\\n    value {\\n      s: &quot;&quot;\\n    }\\n  }\\n  attr {\\n    key: &quot;dtype&quot;\\n    value {\\n      type: DT_FLOAT\\n    }\\n  }\\n  attr {\\n    key: &quot;shape&quot;\\n    value {\\n      shape {\\n        dim {\\n          size: 128\\n        }\\n        dim {\\n          size: 256\\n        }\\n      }\\n    }\\n  }\\n  attr {\\n    key: &quot;shared_name&quot;\\n    value {\\n      s: &quot;&quot;\\n    }\\n  }\\n}\\nnode {\\n  name: &quot;W1/Min_dL/Assign&quot;\\n  op: &quot;Assign&quot;\\n  input: &quot;W1/Min_dL&quot;\\n  input: &quot;W1/Min_dL/Initializer/zeros&quot;\\n  attr {\\n    key: &quot;T&quot;\\n    value {\\n      type: DT_FLOAT\\n    }\\n  }\\n  attr {\\n    key: &quot;_class&quot;\\n    value {\\n      list {\\n        s: &quot;loc:@W1&quot;\\n      }\\n    }\\n  }\\n  attr {\\n    key: &quot;use_locking&quot;\\n    value {\\n      b: true\\n    }\\n  }\\n  attr {\\n    key: &quot;validate_shape&quot;\\n    value {\\n      b: true\\n    }\\n  }\\n}\\nnode {\\n  name: &quot;W1/Min_dL/read&quot;\\n  op: &quot;Identity&quot;\\n  input: &quot;W1/Min_dL&quot;\\n  attr {\\n    key: &quot;T&quot;\\n    value {\\n      type: DT_FLOAT\\n    }\\n  }\\n  attr {\\n    key: &quot;_class&quot;\\n    value {\\n      list {\\n        s: &quot;loc:@W1&quot;\\n      }\\n    }\\n  }\\n}\\nnode {\\n  name: &quot;W1/Min_dL_1/Initializer/zeros/shape_as_tensor&quot;\\n  op: &quot;Const&quot;\\n  attr {\\n    key: &quot;_class&quot;\\n    value {\\n      list {\\n        s: &quot;loc:@W1&quot;\\n      }\\n    }\\n  }\\n  attr {\\n    key: &quot;dtype&quot;\\n    value {\\n      type: DT_INT32\\n    }\\n  }\\n  attr {\\n    key: &quot;value&quot;\\n    value {\\n      tensor {\\n        dtype: DT_INT32\\n        tensor_shape {\\n          dim {\\n            size: 2\\n          }\\n        }\\n        tensor_content: &quot;\\\\200\\\\000\\\\000\\\\000\\\\000\\\\001\\\\000\\\\000&quot;\\n      }\\n    }\\n  }\\n}\\nnode {\\n  name: &quot;W1/Min_dL_1/Initializer/zeros/Const&quot;\\n  op: &quot;Const&quot;\\n  attr {\\n    key: &quot;_class&quot;\\n    value {\\n      list {\\n        s: &quot;loc:@W1&quot;\\n      }\\n    }\\n  }\\n  attr {\\n    key: &quot;dtype&quot;\\n    value {\\n      type: DT_FLOAT\\n    }\\n  }\\n  attr {\\n    key: &quot;value&quot;\\n    value {\\n      tensor {\\n        dtype: DT_FLOAT\\n        tensor_shape {\\n        }\\n        float_val: 0.0\\n      }\\n    }\\n  }\\n}\\nnode {\\n  name: &quot;W1/Min_dL_1/Initializer/zeros&quot;\\n  op: &quot;Fill&quot;\\n  input: &quot;W1/Min_dL_1/Initializer/zeros/shape_as_tensor&quot;\\n  input: &quot;W1/Min_dL_1/Initializer/zeros/Const&quot;\\n  attr {\\n    key: &quot;T&quot;\\n    value {\\n      type: DT_FLOAT\\n    }\\n  }\\n  attr {\\n    key: &quot;_class&quot;\\n    value {\\n      list {\\n        s: &quot;loc:@W1&quot;\\n      }\\n    }\\n  }\\n  attr {\\n    key: &quot;index_type&quot;\\n    value {\\n      type: DT_INT32\\n    }\\n  }\\n}\\nnode {\\n  name: &quot;W1/Min_dL_1&quot;\\n  op: &quot;VariableV2&quot;\\n  attr {\\n    key: &quot;_class&quot;\\n    value {\\n      list {\\n        s: &quot;loc:@W1&quot;\\n      }\\n    }\\n  }\\n  attr {\\n    key: &quot;container&quot;\\n    value {\\n      s: &quot;&quot;\\n    }\\n  }\\n  attr {\\n    key: &quot;dtype&quot;\\n    value {\\n      type: DT_FLOAT\\n    }\\n  }\\n  attr {\\n    key: &quot;shape&quot;\\n    value {\\n      shape {\\n        dim {\\n          size: 128\\n        }\\n        dim {\\n          size: 256\\n        }\\n      }\\n    }\\n  }\\n  attr {\\n    key: &quot;shared_name&quot;\\n    value {\\n      s: &quot;&quot;\\n    }\\n  }\\n}\\nnode {\\n  name: &quot;W1/Min_dL_1/Assign&quot;\\n  op: &quot;Assign&quot;\\n  input: &quot;W1/Min_dL_1&quot;\\n  input: &quot;W1/Min_dL_1/Initializer/zeros&quot;\\n  attr {\\n    key: &quot;T&quot;\\n    value {\\n      type: DT_FLOAT\\n    }\\n  }\\n  attr {\\n    key: &quot;_class&quot;\\n    value {\\n      list {\\n        s: &quot;loc:@W1&quot;\\n      }\\n    }\\n  }\\n  attr {\\n    key: &quot;use_locking&quot;\\n    value {\\n      b: true\\n    }\\n  }\\n  attr {\\n    key: &quot;validate_shape&quot;\\n    value {\\n      b: true\\n    }\\n  }\\n}\\nnode {\\n  name: &quot;W1/Min_dL_1/read&quot;\\n  op: &quot;Identity&quot;\\n  input: &quot;W1/Min_dL_1&quot;\\n  attr {\\n    key: &quot;T&quot;\\n    value {\\n      type: DT_FLOAT\\n    }\\n  }\\n  attr {\\n    key: &quot;_class&quot;\\n    value {\\n      list {\\n        s: &quot;loc:@W1&quot;\\n      }\\n    }\\n  }\\n}\\nnode {\\n  name: &quot;B1/Min_dL/Initializer/zeros&quot;\\n  op: &quot;Const&quot;\\n  attr {\\n    key: &quot;_class&quot;\\n    value {\\n      list {\\n        s: &quot;loc:@B1&quot;\\n      }\\n    }\\n  }\\n  attr {\\n    key: &quot;dtype&quot;\\n    value {\\n      type: DT_FLOAT\\n    }\\n  }\\n  attr {\\n    key: &quot;value&quot;\\n    value {\\n      tensor {\\n        dtype: DT_FLOAT\\n        tensor_shape {\\n          dim {\\n            size: 256\\n          }\\n        }\\n        float_val: 0.0\\n      }\\n    }\\n  }\\n}\\nnode {\\n  name: &quot;B1/Min_dL&quot;\\n  op: &quot;VariableV2&quot;\\n  attr {\\n    key: &quot;_class&quot;\\n    value {\\n      list {\\n        s: &quot;loc:@B1&quot;\\n      }\\n    }\\n  }\\n  attr {\\n    key: &quot;container&quot;\\n    value {\\n      s: &quot;&quot;\\n    }\\n  }\\n  attr {\\n    key: &quot;dtype&quot;\\n    value {\\n      type: DT_FLOAT\\n    }\\n  }\\n  attr {\\n    key: &quot;shape&quot;\\n    value {\\n      shape {\\n        dim {\\n          size: 256\\n        }\\n      }\\n    }\\n  }\\n  attr {\\n    key: &quot;shared_name&quot;\\n    value {\\n      s: &quot;&quot;\\n    }\\n  }\\n}\\nnode {\\n  name: &quot;B1/Min_dL/Assign&quot;\\n  op: &quot;Assign&quot;\\n  input: &quot;B1/Min_dL&quot;\\n  input: &quot;B1/Min_dL/Initializer/zeros&quot;\\n  attr {\\n    key: &quot;T&quot;\\n    value {\\n      type: DT_FLOAT\\n    }\\n  }\\n  attr {\\n    key: &quot;_class&quot;\\n    value {\\n      list {\\n        s: &quot;loc:@B1&quot;\\n      }\\n    }\\n  }\\n  attr {\\n    key: &quot;use_locking&quot;\\n    value {\\n      b: true\\n    }\\n  }\\n  attr {\\n    key: &quot;validate_shape&quot;\\n    value {\\n      b: true\\n    }\\n  }\\n}\\nnode {\\n  name: &quot;B1/Min_dL/read&quot;\\n  op: &quot;Identity&quot;\\n  input: &quot;B1/Min_dL&quot;\\n  attr {\\n    key: &quot;T&quot;\\n    value {\\n      type: DT_FLOAT\\n    }\\n  }\\n  attr {\\n    key: &quot;_class&quot;\\n    value {\\n      list {\\n        s: &quot;loc:@B1&quot;\\n      }\\n    }\\n  }\\n}\\nnode {\\n  name: &quot;B1/Min_dL_1/Initializer/zeros&quot;\\n  op: &quot;Const&quot;\\n  attr {\\n    key: &quot;_class&quot;\\n    value {\\n      list {\\n        s: &quot;loc:@B1&quot;\\n      }\\n    }\\n  }\\n  attr {\\n    key: &quot;dtype&quot;\\n    value {\\n      type: DT_FLOAT\\n    }\\n  }\\n  attr {\\n    key: &quot;value&quot;\\n    value {\\n      tensor {\\n        dtype: DT_FLOAT\\n        tensor_shape {\\n          dim {\\n            size: 256\\n          }\\n        }\\n        float_val: 0.0\\n      }\\n    }\\n  }\\n}\\nnode {\\n  name: &quot;B1/Min_dL_1&quot;\\n  op: &quot;VariableV2&quot;\\n  attr {\\n    key: &quot;_class&quot;\\n    value {\\n      list {\\n        s: &quot;loc:@B1&quot;\\n      }\\n    }\\n  }\\n  attr {\\n    key: &quot;container&quot;\\n    value {\\n      s: &quot;&quot;\\n    }\\n  }\\n  attr {\\n    key: &quot;dtype&quot;\\n    value {\\n      type: DT_FLOAT\\n    }\\n  }\\n  attr {\\n    key: &quot;shape&quot;\\n    value {\\n      shape {\\n        dim {\\n          size: 256\\n        }\\n      }\\n    }\\n  }\\n  attr {\\n    key: &quot;shared_name&quot;\\n    value {\\n      s: &quot;&quot;\\n    }\\n  }\\n}\\nnode {\\n  name: &quot;B1/Min_dL_1/Assign&quot;\\n  op: &quot;Assign&quot;\\n  input: &quot;B1/Min_dL_1&quot;\\n  input: &quot;B1/Min_dL_1/Initializer/zeros&quot;\\n  attr {\\n    key: &quot;T&quot;\\n    value {\\n      type: DT_FLOAT\\n    }\\n  }\\n  attr {\\n    key: &quot;_class&quot;\\n    value {\\n      list {\\n        s: &quot;loc:@B1&quot;\\n      }\\n    }\\n  }\\n  attr {\\n    key: &quot;use_locking&quot;\\n    value {\\n      b: true\\n    }\\n  }\\n  attr {\\n    key: &quot;validate_shape&quot;\\n    value {\\n      b: true\\n    }\\n  }\\n}\\nnode {\\n  name: &quot;B1/Min_dL_1/read&quot;\\n  op: &quot;Identity&quot;\\n  input: &quot;B1/Min_dL_1&quot;\\n  attr {\\n    key: &quot;T&quot;\\n    value {\\n      type: DT_FLOAT\\n    }\\n  }\\n  attr {\\n    key: &quot;_class&quot;\\n    value {\\n      list {\\n        s: &quot;loc:@B1&quot;\\n      }\\n    }\\n  }\\n}\\nnode {\\n  name: &quot;W2/Min_dL/Initializer/zeros/shape_as_tensor&quot;\\n  op: &quot;Const&quot;\\n  attr {\\n    key: &quot;_class&quot;\\n    value {\\n      list {\\n        s: &quot;loc:@W2&quot;\\n      }\\n    }\\n  }\\n  attr {\\n    key: &quot;dtype&quot;\\n    value {\\n      type: DT_INT32\\n    }\\n  }\\n  attr {\\n    key: &quot;value&quot;\\n    value {\\n      tensor {\\n        dtype: DT_INT32\\n        tensor_shape {\\n          dim {\\n            size: 2\\n          }\\n        }\\n        tensor_content: &quot;\\\\000\\\\001\\\\000\\\\000\\\\200\\\\000\\\\000\\\\000&quot;\\n      }\\n    }\\n  }\\n}\\nnode {\\n  name: &quot;W2/Min_dL/Initializer/zeros/Const&quot;\\n  op: &quot;Const&quot;\\n  attr {\\n    key: &quot;_class&quot;\\n    value {\\n      list {\\n        s: &quot;loc:@W2&quot;\\n      }\\n    }\\n  }\\n  attr {\\n    key: &quot;dtype&quot;\\n    value {\\n      type: DT_FLOAT\\n    }\\n  }\\n  attr {\\n    key: &quot;value&quot;\\n    value {\\n      tensor {\\n        dtype: DT_FLOAT\\n        tensor_shape {\\n        }\\n        float_val: 0.0\\n      }\\n    }\\n  }\\n}\\nnode {\\n  name: &quot;W2/Min_dL/Initializer/zeros&quot;\\n  op: &quot;Fill&quot;\\n  input: &quot;W2/Min_dL/Initializer/zeros/shape_as_tensor&quot;\\n  input: &quot;W2/Min_dL/Initializer/zeros/Const&quot;\\n  attr {\\n    key: &quot;T&quot;\\n    value {\\n      type: DT_FLOAT\\n    }\\n  }\\n  attr {\\n    key: &quot;_class&quot;\\n    value {\\n      list {\\n        s: &quot;loc:@W2&quot;\\n      }\\n    }\\n  }\\n  attr {\\n    key: &quot;index_type&quot;\\n    value {\\n      type: DT_INT32\\n    }\\n  }\\n}\\nnode {\\n  name: &quot;W2/Min_dL&quot;\\n  op: &quot;VariableV2&quot;\\n  attr {\\n    key: &quot;_class&quot;\\n    value {\\n      list {\\n        s: &quot;loc:@W2&quot;\\n      }\\n    }\\n  }\\n  attr {\\n    key: &quot;container&quot;\\n    value {\\n      s: &quot;&quot;\\n    }\\n  }\\n  attr {\\n    key: &quot;dtype&quot;\\n    value {\\n      type: DT_FLOAT\\n    }\\n  }\\n  attr {\\n    key: &quot;shape&quot;\\n    value {\\n      shape {\\n        dim {\\n          size: 256\\n        }\\n        dim {\\n          size: 128\\n        }\\n      }\\n    }\\n  }\\n  attr {\\n    key: &quot;shared_name&quot;\\n    value {\\n      s: &quot;&quot;\\n    }\\n  }\\n}\\nnode {\\n  name: &quot;W2/Min_dL/Assign&quot;\\n  op: &quot;Assign&quot;\\n  input: &quot;W2/Min_dL&quot;\\n  input: &quot;W2/Min_dL/Initializer/zeros&quot;\\n  attr {\\n    key: &quot;T&quot;\\n    value {\\n      type: DT_FLOAT\\n    }\\n  }\\n  attr {\\n    key: &quot;_class&quot;\\n    value {\\n      list {\\n        s: &quot;loc:@W2&quot;\\n      }\\n    }\\n  }\\n  attr {\\n    key: &quot;use_locking&quot;\\n    value {\\n      b: true\\n    }\\n  }\\n  attr {\\n    key: &quot;validate_shape&quot;\\n    value {\\n      b: true\\n    }\\n  }\\n}\\nnode {\\n  name: &quot;W2/Min_dL/read&quot;\\n  op: &quot;Identity&quot;\\n  input: &quot;W2/Min_dL&quot;\\n  attr {\\n    key: &quot;T&quot;\\n    value {\\n      type: DT_FLOAT\\n    }\\n  }\\n  attr {\\n    key: &quot;_class&quot;\\n    value {\\n      list {\\n        s: &quot;loc:@W2&quot;\\n      }\\n    }\\n  }\\n}\\nnode {\\n  name: &quot;W2/Min_dL_1/Initializer/zeros/shape_as_tensor&quot;\\n  op: &quot;Const&quot;\\n  attr {\\n    key: &quot;_class&quot;\\n    value {\\n      list {\\n        s: &quot;loc:@W2&quot;\\n      }\\n    }\\n  }\\n  attr {\\n    key: &quot;dtype&quot;\\n    value {\\n      type: DT_INT32\\n    }\\n  }\\n  attr {\\n    key: &quot;value&quot;\\n    value {\\n      tensor {\\n        dtype: DT_INT32\\n        tensor_shape {\\n          dim {\\n            size: 2\\n          }\\n        }\\n        tensor_content: &quot;\\\\000\\\\001\\\\000\\\\000\\\\200\\\\000\\\\000\\\\000&quot;\\n      }\\n    }\\n  }\\n}\\nnode {\\n  name: &quot;W2/Min_dL_1/Initializer/zeros/Const&quot;\\n  op: &quot;Const&quot;\\n  attr {\\n    key: &quot;_class&quot;\\n    value {\\n      list {\\n        s: &quot;loc:@W2&quot;\\n      }\\n    }\\n  }\\n  attr {\\n    key: &quot;dtype&quot;\\n    value {\\n      type: DT_FLOAT\\n    }\\n  }\\n  attr {\\n    key: &quot;value&quot;\\n    value {\\n      tensor {\\n        dtype: DT_FLOAT\\n        tensor_shape {\\n        }\\n        float_val: 0.0\\n      }\\n    }\\n  }\\n}\\nnode {\\n  name: &quot;W2/Min_dL_1/Initializer/zeros&quot;\\n  op: &quot;Fill&quot;\\n  input: &quot;W2/Min_dL_1/Initializer/zeros/shape_as_tensor&quot;\\n  input: &quot;W2/Min_dL_1/Initializer/zeros/Const&quot;\\n  attr {\\n    key: &quot;T&quot;\\n    value {\\n      type: DT_FLOAT\\n    }\\n  }\\n  attr {\\n    key: &quot;_class&quot;\\n    value {\\n      list {\\n        s: &quot;loc:@W2&quot;\\n      }\\n    }\\n  }\\n  attr {\\n    key: &quot;index_type&quot;\\n    value {\\n      type: DT_INT32\\n    }\\n  }\\n}\\nnode {\\n  name: &quot;W2/Min_dL_1&quot;\\n  op: &quot;VariableV2&quot;\\n  attr {\\n    key: &quot;_class&quot;\\n    value {\\n      list {\\n        s: &quot;loc:@W2&quot;\\n      }\\n    }\\n  }\\n  attr {\\n    key: &quot;container&quot;\\n    value {\\n      s: &quot;&quot;\\n    }\\n  }\\n  attr {\\n    key: &quot;dtype&quot;\\n    value {\\n      type: DT_FLOAT\\n    }\\n  }\\n  attr {\\n    key: &quot;shape&quot;\\n    value {\\n      shape {\\n        dim {\\n          size: 256\\n        }\\n        dim {\\n          size: 128\\n        }\\n      }\\n    }\\n  }\\n  attr {\\n    key: &quot;shared_name&quot;\\n    value {\\n      s: &quot;&quot;\\n    }\\n  }\\n}\\nnode {\\n  name: &quot;W2/Min_dL_1/Assign&quot;\\n  op: &quot;Assign&quot;\\n  input: &quot;W2/Min_dL_1&quot;\\n  input: &quot;W2/Min_dL_1/Initializer/zeros&quot;\\n  attr {\\n    key: &quot;T&quot;\\n    value {\\n      type: DT_FLOAT\\n    }\\n  }\\n  attr {\\n    key: &quot;_class&quot;\\n    value {\\n      list {\\n        s: &quot;loc:@W2&quot;\\n      }\\n    }\\n  }\\n  attr {\\n    key: &quot;use_locking&quot;\\n    value {\\n      b: true\\n    }\\n  }\\n  attr {\\n    key: &quot;validate_shape&quot;\\n    value {\\n      b: true\\n    }\\n  }\\n}\\nnode {\\n  name: &quot;W2/Min_dL_1/read&quot;\\n  op: &quot;Identity&quot;\\n  input: &quot;W2/Min_dL_1&quot;\\n  attr {\\n    key: &quot;T&quot;\\n    value {\\n      type: DT_FLOAT\\n    }\\n  }\\n  attr {\\n    key: &quot;_class&quot;\\n    value {\\n      list {\\n        s: &quot;loc:@W2&quot;\\n      }\\n    }\\n  }\\n}\\nnode {\\n  name: &quot;B2/Min_dL/Initializer/zeros&quot;\\n  op: &quot;Const&quot;\\n  attr {\\n    key: &quot;_class&quot;\\n    value {\\n      list {\\n        s: &quot;loc:@B2&quot;\\n      }\\n    }\\n  }\\n  attr {\\n    key: &quot;dtype&quot;\\n    value {\\n      type: DT_FLOAT\\n    }\\n  }\\n  attr {\\n    key: &quot;value&quot;\\n    value {\\n      tensor {\\n        dtype: DT_FLOAT\\n        tensor_shape {\\n          dim {\\n            size: 128\\n          }\\n        }\\n        float_val: 0.0\\n      }\\n    }\\n  }\\n}\\nnode {\\n  name: &quot;B2/Min_dL&quot;\\n  op: &quot;VariableV2&quot;\\n  attr {\\n    key: &quot;_class&quot;\\n    value {\\n      list {\\n        s: &quot;loc:@B2&quot;\\n      }\\n    }\\n  }\\n  attr {\\n    key: &quot;container&quot;\\n    value {\\n      s: &quot;&quot;\\n    }\\n  }\\n  attr {\\n    key: &quot;dtype&quot;\\n    value {\\n      type: DT_FLOAT\\n    }\\n  }\\n  attr {\\n    key: &quot;shape&quot;\\n    value {\\n      shape {\\n        dim {\\n          size: 128\\n        }\\n      }\\n    }\\n  }\\n  attr {\\n    key: &quot;shared_name&quot;\\n    value {\\n      s: &quot;&quot;\\n    }\\n  }\\n}\\nnode {\\n  name: &quot;B2/Min_dL/Assign&quot;\\n  op: &quot;Assign&quot;\\n  input: &quot;B2/Min_dL&quot;\\n  input: &quot;B2/Min_dL/Initializer/zeros&quot;\\n  attr {\\n    key: &quot;T&quot;\\n    value {\\n      type: DT_FLOAT\\n    }\\n  }\\n  attr {\\n    key: &quot;_class&quot;\\n    value {\\n      list {\\n        s: &quot;loc:@B2&quot;\\n      }\\n    }\\n  }\\n  attr {\\n    key: &quot;use_locking&quot;\\n    value {\\n      b: true\\n    }\\n  }\\n  attr {\\n    key: &quot;validate_shape&quot;\\n    value {\\n      b: true\\n    }\\n  }\\n}\\nnode {\\n  name: &quot;B2/Min_dL/read&quot;\\n  op: &quot;Identity&quot;\\n  input: &quot;B2/Min_dL&quot;\\n  attr {\\n    key: &quot;T&quot;\\n    value {\\n      type: DT_FLOAT\\n    }\\n  }\\n  attr {\\n    key: &quot;_class&quot;\\n    value {\\n      list {\\n        s: &quot;loc:@B2&quot;\\n      }\\n    }\\n  }\\n}\\nnode {\\n  name: &quot;B2/Min_dL_1/Initializer/zeros&quot;\\n  op: &quot;Const&quot;\\n  attr {\\n    key: &quot;_class&quot;\\n    value {\\n      list {\\n        s: &quot;loc:@B2&quot;\\n      }\\n    }\\n  }\\n  attr {\\n    key: &quot;dtype&quot;\\n    value {\\n      type: DT_FLOAT\\n    }\\n  }\\n  attr {\\n    key: &quot;value&quot;\\n    value {\\n      tensor {\\n        dtype: DT_FLOAT\\n        tensor_shape {\\n          dim {\\n            size: 128\\n          }\\n        }\\n        float_val: 0.0\\n      }\\n    }\\n  }\\n}\\nnode {\\n  name: &quot;B2/Min_dL_1&quot;\\n  op: &quot;VariableV2&quot;\\n  attr {\\n    key: &quot;_class&quot;\\n    value {\\n      list {\\n        s: &quot;loc:@B2&quot;\\n      }\\n    }\\n  }\\n  attr {\\n    key: &quot;container&quot;\\n    value {\\n      s: &quot;&quot;\\n    }\\n  }\\n  attr {\\n    key: &quot;dtype&quot;\\n    value {\\n      type: DT_FLOAT\\n    }\\n  }\\n  attr {\\n    key: &quot;shape&quot;\\n    value {\\n      shape {\\n        dim {\\n          size: 128\\n        }\\n      }\\n    }\\n  }\\n  attr {\\n    key: &quot;shared_name&quot;\\n    value {\\n      s: &quot;&quot;\\n    }\\n  }\\n}\\nnode {\\n  name: &quot;B2/Min_dL_1/Assign&quot;\\n  op: &quot;Assign&quot;\\n  input: &quot;B2/Min_dL_1&quot;\\n  input: &quot;B2/Min_dL_1/Initializer/zeros&quot;\\n  attr {\\n    key: &quot;T&quot;\\n    value {\\n      type: DT_FLOAT\\n    }\\n  }\\n  attr {\\n    key: &quot;_class&quot;\\n    value {\\n      list {\\n        s: &quot;loc:@B2&quot;\\n      }\\n    }\\n  }\\n  attr {\\n    key: &quot;use_locking&quot;\\n    value {\\n      b: true\\n    }\\n  }\\n  attr {\\n    key: &quot;validate_shape&quot;\\n    value {\\n      b: true\\n    }\\n  }\\n}\\nnode {\\n  name: &quot;B2/Min_dL_1/read&quot;\\n  op: &quot;Identity&quot;\\n  input: &quot;B2/Min_dL_1&quot;\\n  attr {\\n    key: &quot;T&quot;\\n    value {\\n      type: DT_FLOAT\\n    }\\n  }\\n  attr {\\n    key: &quot;_class&quot;\\n    value {\\n      list {\\n        s: &quot;loc:@B2&quot;\\n      }\\n    }\\n  }\\n}\\nnode {\\n  name: &quot;W3/Min_dL/Initializer/zeros/shape_as_tensor&quot;\\n  op: &quot;Const&quot;\\n  attr {\\n    key: &quot;_class&quot;\\n    value {\\n      list {\\n        s: &quot;loc:@W3&quot;\\n      }\\n    }\\n  }\\n  attr {\\n    key: &quot;dtype&quot;\\n    value {\\n      type: DT_INT32\\n    }\\n  }\\n  attr {\\n    key: &quot;value&quot;\\n    value {\\n      tensor {\\n        dtype: DT_INT32\\n        tensor_shape {\\n          dim {\\n            size: 2\\n          }\\n        }\\n        tensor_content: &quot;\\\\200\\\\000\\\\000\\\\000 \\\\000\\\\000\\\\000&quot;\\n      }\\n    }\\n  }\\n}\\nnode {\\n  name: &quot;W3/Min_dL/Initializer/zeros/Const&quot;\\n  op: &quot;Const&quot;\\n  attr {\\n    key: &quot;_class&quot;\\n    value {\\n      list {\\n        s: &quot;loc:@W3&quot;\\n      }\\n    }\\n  }\\n  attr {\\n    key: &quot;dtype&quot;\\n    value {\\n      type: DT_FLOAT\\n    }\\n  }\\n  attr {\\n    key: &quot;value&quot;\\n    value {\\n      tensor {\\n        dtype: DT_FLOAT\\n        tensor_shape {\\n        }\\n        float_val: 0.0\\n      }\\n    }\\n  }\\n}\\nnode {\\n  name: &quot;W3/Min_dL/Initializer/zeros&quot;\\n  op: &quot;Fill&quot;\\n  input: &quot;W3/Min_dL/Initializer/zeros/shape_as_tensor&quot;\\n  input: &quot;W3/Min_dL/Initializer/zeros/Const&quot;\\n  attr {\\n    key: &quot;T&quot;\\n    value {\\n      type: DT_FLOAT\\n    }\\n  }\\n  attr {\\n    key: &quot;_class&quot;\\n    value {\\n      list {\\n        s: &quot;loc:@W3&quot;\\n      }\\n    }\\n  }\\n  attr {\\n    key: &quot;index_type&quot;\\n    value {\\n      type: DT_INT32\\n    }\\n  }\\n}\\nnode {\\n  name: &quot;W3/Min_dL&quot;\\n  op: &quot;VariableV2&quot;\\n  attr {\\n    key: &quot;_class&quot;\\n    value {\\n      list {\\n        s: &quot;loc:@W3&quot;\\n      }\\n    }\\n  }\\n  attr {\\n    key: &quot;container&quot;\\n    value {\\n      s: &quot;&quot;\\n    }\\n  }\\n  attr {\\n    key: &quot;dtype&quot;\\n    value {\\n      type: DT_FLOAT\\n    }\\n  }\\n  attr {\\n    key: &quot;shape&quot;\\n    value {\\n      shape {\\n        dim {\\n          size: 128\\n        }\\n        dim {\\n          size: 32\\n        }\\n      }\\n    }\\n  }\\n  attr {\\n    key: &quot;shared_name&quot;\\n    value {\\n      s: &quot;&quot;\\n    }\\n  }\\n}\\nnode {\\n  name: &quot;W3/Min_dL/Assign&quot;\\n  op: &quot;Assign&quot;\\n  input: &quot;W3/Min_dL&quot;\\n  input: &quot;W3/Min_dL/Initializer/zeros&quot;\\n  attr {\\n    key: &quot;T&quot;\\n    value {\\n      type: DT_FLOAT\\n    }\\n  }\\n  attr {\\n    key: &quot;_class&quot;\\n    value {\\n      list {\\n        s: &quot;loc:@W3&quot;\\n      }\\n    }\\n  }\\n  attr {\\n    key: &quot;use_locking&quot;\\n    value {\\n      b: true\\n    }\\n  }\\n  attr {\\n    key: &quot;validate_shape&quot;\\n    value {\\n      b: true\\n    }\\n  }\\n}\\nnode {\\n  name: &quot;W3/Min_dL/read&quot;\\n  op: &quot;Identity&quot;\\n  input: &quot;W3/Min_dL&quot;\\n  attr {\\n    key: &quot;T&quot;\\n    value {\\n      type: DT_FLOAT\\n    }\\n  }\\n  attr {\\n    key: &quot;_class&quot;\\n    value {\\n      list {\\n        s: &quot;loc:@W3&quot;\\n      }\\n    }\\n  }\\n}\\nnode {\\n  name: &quot;W3/Min_dL_1/Initializer/zeros/shape_as_tensor&quot;\\n  op: &quot;Const&quot;\\n  attr {\\n    key: &quot;_class&quot;\\n    value {\\n      list {\\n        s: &quot;loc:@W3&quot;\\n      }\\n    }\\n  }\\n  attr {\\n    key: &quot;dtype&quot;\\n    value {\\n      type: DT_INT32\\n    }\\n  }\\n  attr {\\n    key: &quot;value&quot;\\n    value {\\n      tensor {\\n        dtype: DT_INT32\\n        tensor_shape {\\n          dim {\\n            size: 2\\n          }\\n        }\\n        tensor_content: &quot;\\\\200\\\\000\\\\000\\\\000 \\\\000\\\\000\\\\000&quot;\\n      }\\n    }\\n  }\\n}\\nnode {\\n  name: &quot;W3/Min_dL_1/Initializer/zeros/Const&quot;\\n  op: &quot;Const&quot;\\n  attr {\\n    key: &quot;_class&quot;\\n    value {\\n      list {\\n        s: &quot;loc:@W3&quot;\\n      }\\n    }\\n  }\\n  attr {\\n    key: &quot;dtype&quot;\\n    value {\\n      type: DT_FLOAT\\n    }\\n  }\\n  attr {\\n    key: &quot;value&quot;\\n    value {\\n      tensor {\\n        dtype: DT_FLOAT\\n        tensor_shape {\\n        }\\n        float_val: 0.0\\n      }\\n    }\\n  }\\n}\\nnode {\\n  name: &quot;W3/Min_dL_1/Initializer/zeros&quot;\\n  op: &quot;Fill&quot;\\n  input: &quot;W3/Min_dL_1/Initializer/zeros/shape_as_tensor&quot;\\n  input: &quot;W3/Min_dL_1/Initializer/zeros/Const&quot;\\n  attr {\\n    key: &quot;T&quot;\\n    value {\\n      type: DT_FLOAT\\n    }\\n  }\\n  attr {\\n    key: &quot;_class&quot;\\n    value {\\n      list {\\n        s: &quot;loc:@W3&quot;\\n      }\\n    }\\n  }\\n  attr {\\n    key: &quot;index_type&quot;\\n    value {\\n      type: DT_INT32\\n    }\\n  }\\n}\\nnode {\\n  name: &quot;W3/Min_dL_1&quot;\\n  op: &quot;VariableV2&quot;\\n  attr {\\n    key: &quot;_class&quot;\\n    value {\\n      list {\\n        s: &quot;loc:@W3&quot;\\n      }\\n    }\\n  }\\n  attr {\\n    key: &quot;container&quot;\\n    value {\\n      s: &quot;&quot;\\n    }\\n  }\\n  attr {\\n    key: &quot;dtype&quot;\\n    value {\\n      type: DT_FLOAT\\n    }\\n  }\\n  attr {\\n    key: &quot;shape&quot;\\n    value {\\n      shape {\\n        dim {\\n          size: 128\\n        }\\n        dim {\\n          size: 32\\n        }\\n      }\\n    }\\n  }\\n  attr {\\n    key: &quot;shared_name&quot;\\n    value {\\n      s: &quot;&quot;\\n    }\\n  }\\n}\\nnode {\\n  name: &quot;W3/Min_dL_1/Assign&quot;\\n  op: &quot;Assign&quot;\\n  input: &quot;W3/Min_dL_1&quot;\\n  input: &quot;W3/Min_dL_1/Initializer/zeros&quot;\\n  attr {\\n    key: &quot;T&quot;\\n    value {\\n      type: DT_FLOAT\\n    }\\n  }\\n  attr {\\n    key: &quot;_class&quot;\\n    value {\\n      list {\\n        s: &quot;loc:@W3&quot;\\n      }\\n    }\\n  }\\n  attr {\\n    key: &quot;use_locking&quot;\\n    value {\\n      b: true\\n    }\\n  }\\n  attr {\\n    key: &quot;validate_shape&quot;\\n    value {\\n      b: true\\n    }\\n  }\\n}\\nnode {\\n  name: &quot;W3/Min_dL_1/read&quot;\\n  op: &quot;Identity&quot;\\n  input: &quot;W3/Min_dL_1&quot;\\n  attr {\\n    key: &quot;T&quot;\\n    value {\\n      type: DT_FLOAT\\n    }\\n  }\\n  attr {\\n    key: &quot;_class&quot;\\n    value {\\n      list {\\n        s: &quot;loc:@W3&quot;\\n      }\\n    }\\n  }\\n}\\nnode {\\n  name: &quot;B3/Min_dL/Initializer/zeros&quot;\\n  op: &quot;Const&quot;\\n  attr {\\n    key: &quot;_class&quot;\\n    value {\\n      list {\\n        s: &quot;loc:@B3&quot;\\n      }\\n    }\\n  }\\n  attr {\\n    key: &quot;dtype&quot;\\n    value {\\n      type: DT_FLOAT\\n    }\\n  }\\n  attr {\\n    key: &quot;value&quot;\\n    value {\\n      tensor {\\n        dtype: DT_FLOAT\\n        tensor_shape {\\n          dim {\\n            size: 32\\n          }\\n        }\\n        float_val: 0.0\\n      }\\n    }\\n  }\\n}\\nnode {\\n  name: &quot;B3/Min_dL&quot;\\n  op: &quot;VariableV2&quot;\\n  attr {\\n    key: &quot;_class&quot;\\n    value {\\n      list {\\n        s: &quot;loc:@B3&quot;\\n      }\\n    }\\n  }\\n  attr {\\n    key: &quot;container&quot;\\n    value {\\n      s: &quot;&quot;\\n    }\\n  }\\n  attr {\\n    key: &quot;dtype&quot;\\n    value {\\n      type: DT_FLOAT\\n    }\\n  }\\n  attr {\\n    key: &quot;shape&quot;\\n    value {\\n      shape {\\n        dim {\\n          size: 32\\n        }\\n      }\\n    }\\n  }\\n  attr {\\n    key: &quot;shared_name&quot;\\n    value {\\n      s: &quot;&quot;\\n    }\\n  }\\n}\\nnode {\\n  name: &quot;B3/Min_dL/Assign&quot;\\n  op: &quot;Assign&quot;\\n  input: &quot;B3/Min_dL&quot;\\n  input: &quot;B3/Min_dL/Initializer/zeros&quot;\\n  attr {\\n    key: &quot;T&quot;\\n    value {\\n      type: DT_FLOAT\\n    }\\n  }\\n  attr {\\n    key: &quot;_class&quot;\\n    value {\\n      list {\\n        s: &quot;loc:@B3&quot;\\n      }\\n    }\\n  }\\n  attr {\\n    key: &quot;use_locking&quot;\\n    value {\\n      b: true\\n    }\\n  }\\n  attr {\\n    key: &quot;validate_shape&quot;\\n    value {\\n      b: true\\n    }\\n  }\\n}\\nnode {\\n  name: &quot;B3/Min_dL/read&quot;\\n  op: &quot;Identity&quot;\\n  input: &quot;B3/Min_dL&quot;\\n  attr {\\n    key: &quot;T&quot;\\n    value {\\n      type: DT_FLOAT\\n    }\\n  }\\n  attr {\\n    key: &quot;_class&quot;\\n    value {\\n      list {\\n        s: &quot;loc:@B3&quot;\\n      }\\n    }\\n  }\\n}\\nnode {\\n  name: &quot;B3/Min_dL_1/Initializer/zeros&quot;\\n  op: &quot;Const&quot;\\n  attr {\\n    key: &quot;_class&quot;\\n    value {\\n      list {\\n        s: &quot;loc:@B3&quot;\\n      }\\n    }\\n  }\\n  attr {\\n    key: &quot;dtype&quot;\\n    value {\\n      type: DT_FLOAT\\n    }\\n  }\\n  attr {\\n    key: &quot;value&quot;\\n    value {\\n      tensor {\\n        dtype: DT_FLOAT\\n        tensor_shape {\\n          dim {\\n            size: 32\\n          }\\n        }\\n        float_val: 0.0\\n      }\\n    }\\n  }\\n}\\nnode {\\n  name: &quot;B3/Min_dL_1&quot;\\n  op: &quot;VariableV2&quot;\\n  attr {\\n    key: &quot;_class&quot;\\n    value {\\n      list {\\n        s: &quot;loc:@B3&quot;\\n      }\\n    }\\n  }\\n  attr {\\n    key: &quot;container&quot;\\n    value {\\n      s: &quot;&quot;\\n    }\\n  }\\n  attr {\\n    key: &quot;dtype&quot;\\n    value {\\n      type: DT_FLOAT\\n    }\\n  }\\n  attr {\\n    key: &quot;shape&quot;\\n    value {\\n      shape {\\n        dim {\\n          size: 32\\n        }\\n      }\\n    }\\n  }\\n  attr {\\n    key: &quot;shared_name&quot;\\n    value {\\n      s: &quot;&quot;\\n    }\\n  }\\n}\\nnode {\\n  name: &quot;B3/Min_dL_1/Assign&quot;\\n  op: &quot;Assign&quot;\\n  input: &quot;B3/Min_dL_1&quot;\\n  input: &quot;B3/Min_dL_1/Initializer/zeros&quot;\\n  attr {\\n    key: &quot;T&quot;\\n    value {\\n      type: DT_FLOAT\\n    }\\n  }\\n  attr {\\n    key: &quot;_class&quot;\\n    value {\\n      list {\\n        s: &quot;loc:@B3&quot;\\n      }\\n    }\\n  }\\n  attr {\\n    key: &quot;use_locking&quot;\\n    value {\\n      b: true\\n    }\\n  }\\n  attr {\\n    key: &quot;validate_shape&quot;\\n    value {\\n      b: true\\n    }\\n  }\\n}\\nnode {\\n  name: &quot;B3/Min_dL_1/read&quot;\\n  op: &quot;Identity&quot;\\n  input: &quot;B3/Min_dL_1&quot;\\n  attr {\\n    key: &quot;T&quot;\\n    value {\\n      type: DT_FLOAT\\n    }\\n  }\\n  attr {\\n    key: &quot;_class&quot;\\n    value {\\n      list {\\n        s: &quot;loc:@B3&quot;\\n      }\\n    }\\n  }\\n}\\nnode {\\n  name: &quot;W4/Min_dL/Initializer/zeros&quot;\\n  op: &quot;Const&quot;\\n  attr {\\n    key: &quot;_class&quot;\\n    value {\\n      list {\\n        s: &quot;loc:@W4&quot;\\n      }\\n    }\\n  }\\n  attr {\\n    key: &quot;dtype&quot;\\n    value {\\n      type: DT_FLOAT\\n    }\\n  }\\n  attr {\\n    key: &quot;value&quot;\\n    value {\\n      tensor {\\n        dtype: DT_FLOAT\\n        tensor_shape {\\n          dim {\\n            size: 32\\n          }\\n          dim {\\n            size: 2\\n          }\\n        }\\n        float_val: 0.0\\n      }\\n    }\\n  }\\n}\\nnode {\\n  name: &quot;W4/Min_dL&quot;\\n  op: &quot;VariableV2&quot;\\n  attr {\\n    key: &quot;_class&quot;\\n    value {\\n      list {\\n        s: &quot;loc:@W4&quot;\\n      }\\n    }\\n  }\\n  attr {\\n    key: &quot;container&quot;\\n    value {\\n      s: &quot;&quot;\\n    }\\n  }\\n  attr {\\n    key: &quot;dtype&quot;\\n    value {\\n      type: DT_FLOAT\\n    }\\n  }\\n  attr {\\n    key: &quot;shape&quot;\\n    value {\\n      shape {\\n        dim {\\n          size: 32\\n        }\\n        dim {\\n          size: 2\\n        }\\n      }\\n    }\\n  }\\n  attr {\\n    key: &quot;shared_name&quot;\\n    value {\\n      s: &quot;&quot;\\n    }\\n  }\\n}\\nnode {\\n  name: &quot;W4/Min_dL/Assign&quot;\\n  op: &quot;Assign&quot;\\n  input: &quot;W4/Min_dL&quot;\\n  input: &quot;W4/Min_dL/Initializer/zeros&quot;\\n  attr {\\n    key: &quot;T&quot;\\n    value {\\n      type: DT_FLOAT\\n    }\\n  }\\n  attr {\\n    key: &quot;_class&quot;\\n    value {\\n      list {\\n        s: &quot;loc:@W4&quot;\\n      }\\n    }\\n  }\\n  attr {\\n    key: &quot;use_locking&quot;\\n    value {\\n      b: true\\n    }\\n  }\\n  attr {\\n    key: &quot;validate_shape&quot;\\n    value {\\n      b: true\\n    }\\n  }\\n}\\nnode {\\n  name: &quot;W4/Min_dL/read&quot;\\n  op: &quot;Identity&quot;\\n  input: &quot;W4/Min_dL&quot;\\n  attr {\\n    key: &quot;T&quot;\\n    value {\\n      type: DT_FLOAT\\n    }\\n  }\\n  attr {\\n    key: &quot;_class&quot;\\n    value {\\n      list {\\n        s: &quot;loc:@W4&quot;\\n      }\\n    }\\n  }\\n}\\nnode {\\n  name: &quot;W4/Min_dL_1/Initializer/zeros&quot;\\n  op: &quot;Const&quot;\\n  attr {\\n    key: &quot;_class&quot;\\n    value {\\n      list {\\n        s: &quot;loc:@W4&quot;\\n      }\\n    }\\n  }\\n  attr {\\n    key: &quot;dtype&quot;\\n    value {\\n      type: DT_FLOAT\\n    }\\n  }\\n  attr {\\n    key: &quot;value&quot;\\n    value {\\n      tensor {\\n        dtype: DT_FLOAT\\n        tensor_shape {\\n          dim {\\n            size: 32\\n          }\\n          dim {\\n            size: 2\\n          }\\n        }\\n        float_val: 0.0\\n      }\\n    }\\n  }\\n}\\nnode {\\n  name: &quot;W4/Min_dL_1&quot;\\n  op: &quot;VariableV2&quot;\\n  attr {\\n    key: &quot;_class&quot;\\n    value {\\n      list {\\n        s: &quot;loc:@W4&quot;\\n      }\\n    }\\n  }\\n  attr {\\n    key: &quot;container&quot;\\n    value {\\n      s: &quot;&quot;\\n    }\\n  }\\n  attr {\\n    key: &quot;dtype&quot;\\n    value {\\n      type: DT_FLOAT\\n    }\\n  }\\n  attr {\\n    key: &quot;shape&quot;\\n    value {\\n      shape {\\n        dim {\\n          size: 32\\n        }\\n        dim {\\n          size: 2\\n        }\\n      }\\n    }\\n  }\\n  attr {\\n    key: &quot;shared_name&quot;\\n    value {\\n      s: &quot;&quot;\\n    }\\n  }\\n}\\nnode {\\n  name: &quot;W4/Min_dL_1/Assign&quot;\\n  op: &quot;Assign&quot;\\n  input: &quot;W4/Min_dL_1&quot;\\n  input: &quot;W4/Min_dL_1/Initializer/zeros&quot;\\n  attr {\\n    key: &quot;T&quot;\\n    value {\\n      type: DT_FLOAT\\n    }\\n  }\\n  attr {\\n    key: &quot;_class&quot;\\n    value {\\n      list {\\n        s: &quot;loc:@W4&quot;\\n      }\\n    }\\n  }\\n  attr {\\n    key: &quot;use_locking&quot;\\n    value {\\n      b: true\\n    }\\n  }\\n  attr {\\n    key: &quot;validate_shape&quot;\\n    value {\\n      b: true\\n    }\\n  }\\n}\\nnode {\\n  name: &quot;W4/Min_dL_1/read&quot;\\n  op: &quot;Identity&quot;\\n  input: &quot;W4/Min_dL_1&quot;\\n  attr {\\n    key: &quot;T&quot;\\n    value {\\n      type: DT_FLOAT\\n    }\\n  }\\n  attr {\\n    key: &quot;_class&quot;\\n    value {\\n      list {\\n        s: &quot;loc:@W4&quot;\\n      }\\n    }\\n  }\\n}\\nnode {\\n  name: &quot;BACKWARD_PROPAGATION/dL_update/learning_rate&quot;\\n  op: &quot;Const&quot;\\n  attr {\\n    key: &quot;dtype&quot;\\n    value {\\n      type: DT_FLOAT\\n    }\\n  }\\n  attr {\\n    key: &quot;value&quot;\\n    value {\\n      tensor {\\n        dtype: DT_FLOAT\\n        tensor_shape {\\n        }\\n        float_val: 9.999999747378752e-05\\n      }\\n    }\\n  }\\n}\\nnode {\\n  name: &quot;BACKWARD_PROPAGATION/dL_update/beta1&quot;\\n  op: &quot;Const&quot;\\n  attr {\\n    key: &quot;dtype&quot;\\n    value {\\n      type: DT_FLOAT\\n    }\\n  }\\n  attr {\\n    key: &quot;value&quot;\\n    value {\\n      tensor {\\n        dtype: DT_FLOAT\\n        tensor_shape {\\n        }\\n        float_val: 0.8999999761581421\\n      }\\n    }\\n  }\\n}\\nnode {\\n  name: &quot;BACKWARD_PROPAGATION/dL_update/beta2&quot;\\n  op: &quot;Const&quot;\\n  attr {\\n    key: &quot;dtype&quot;\\n    value {\\n      type: DT_FLOAT\\n    }\\n  }\\n  attr {\\n    key: &quot;value&quot;\\n    value {\\n      tensor {\\n        dtype: DT_FLOAT\\n        tensor_shape {\\n        }\\n        float_val: 0.9990000128746033\\n      }\\n    }\\n  }\\n}\\nnode {\\n  name: &quot;BACKWARD_PROPAGATION/dL_update/epsilon&quot;\\n  op: &quot;Const&quot;\\n  attr {\\n    key: &quot;dtype&quot;\\n    value {\\n      type: DT_FLOAT\\n    }\\n  }\\n  attr {\\n    key: &quot;value&quot;\\n    value {\\n      tensor {\\n        dtype: DT_FLOAT\\n        tensor_shape {\\n        }\\n        float_val: 9.99999993922529e-09\\n      }\\n    }\\n  }\\n}\\nnode {\\n  name: &quot;BACKWARD_PROPAGATION/dL_update/update_W0/ApplyAdam&quot;\\n  op: &quot;ApplyAdam&quot;\\n  input: &quot;W0&quot;\\n  input: &quot;W0/Min_dL&quot;\\n  input: &quot;W0/Min_dL_1&quot;\\n  input: &quot;BACKWARD_PROPAGATION/beta1_power/read&quot;\\n  input: &quot;BACKWARD_PROPAGATION/beta2_power/read&quot;\\n  input: &quot;BACKWARD_PROPAGATION/dL_update/learning_rate&quot;\\n  input: &quot;BACKWARD_PROPAGATION/dL_update/beta1&quot;\\n  input: &quot;BACKWARD_PROPAGATION/dL_update/beta2&quot;\\n  input: &quot;BACKWARD_PROPAGATION/dL_update/epsilon&quot;\\n  input: &quot;BACKWARD_PROPAGATION/dL/AddN_8&quot;\\n  attr {\\n    key: &quot;T&quot;\\n    value {\\n      type: DT_FLOAT\\n    }\\n  }\\n  attr {\\n    key: &quot;_class&quot;\\n    value {\\n      list {\\n        s: &quot;loc:@W0&quot;\\n      }\\n    }\\n  }\\n  attr {\\n    key: &quot;use_locking&quot;\\n    value {\\n      b: false\\n    }\\n  }\\n  attr {\\n    key: &quot;use_nesterov&quot;\\n    value {\\n      b: false\\n    }\\n  }\\n}\\nnode {\\n  name: &quot;BACKWARD_PROPAGATION/dL_update/update_B0/ApplyAdam&quot;\\n  op: &quot;ApplyAdam&quot;\\n  input: &quot;B0&quot;\\n  input: &quot;B0/Min_dL&quot;\\n  input: &quot;B0/Min_dL_1&quot;\\n  input: &quot;BACKWARD_PROPAGATION/beta1_power/read&quot;\\n  input: &quot;BACKWARD_PROPAGATION/beta2_power/read&quot;\\n  input: &quot;BACKWARD_PROPAGATION/dL_update/learning_rate&quot;\\n  input: &quot;BACKWARD_PROPAGATION/dL_update/beta1&quot;\\n  input: &quot;BACKWARD_PROPAGATION/dL_update/beta2&quot;\\n  input: &quot;BACKWARD_PROPAGATION/dL_update/epsilon&quot;\\n  input: &quot;BACKWARD_PROPAGATION/dL/AddN_7&quot;\\n  attr {\\n    key: &quot;T&quot;\\n    value {\\n      type: DT_FLOAT\\n    }\\n  }\\n  attr {\\n    key: &quot;_class&quot;\\n    value {\\n      list {\\n        s: &quot;loc:@B0&quot;\\n      }\\n    }\\n  }\\n  attr {\\n    key: &quot;use_locking&quot;\\n    value {\\n      b: false\\n    }\\n  }\\n  attr {\\n    key: &quot;use_nesterov&quot;\\n    value {\\n      b: false\\n    }\\n  }\\n}\\nnode {\\n  name: &quot;BACKWARD_PROPAGATION/dL_update/update_W1/ApplyAdam&quot;\\n  op: &quot;ApplyAdam&quot;\\n  input: &quot;W1&quot;\\n  input: &quot;W1/Min_dL&quot;\\n  input: &quot;W1/Min_dL_1&quot;\\n  input: &quot;BACKWARD_PROPAGATION/beta1_power/read&quot;\\n  input: &quot;BACKWARD_PROPAGATION/beta2_power/read&quot;\\n  input: &quot;BACKWARD_PROPAGATION/dL_update/learning_rate&quot;\\n  input: &quot;BACKWARD_PROPAGATION/dL_update/beta1&quot;\\n  input: &quot;BACKWARD_PROPAGATION/dL_update/beta2&quot;\\n  input: &quot;BACKWARD_PROPAGATION/dL_update/epsilon&quot;\\n  input: &quot;BACKWARD_PROPAGATION/dL/AddN_6&quot;\\n  attr {\\n    key: &quot;T&quot;\\n    value {\\n      type: DT_FLOAT\\n    }\\n  }\\n  attr {\\n    key: &quot;_class&quot;\\n    value {\\n      list {\\n        s: &quot;loc:@W1&quot;\\n      }\\n    }\\n  }\\n  attr {\\n    key: &quot;use_locking&quot;\\n    value {\\n      b: false\\n    }\\n  }\\n  attr {\\n    key: &quot;use_nesterov&quot;\\n    value {\\n      b: false\\n    }\\n  }\\n}\\nnode {\\n  name: &quot;BACKWARD_PROPAGATION/dL_update/update_B1/ApplyAdam&quot;\\n  op: &quot;ApplyAdam&quot;\\n  input: &quot;B1&quot;\\n  input: &quot;B1/Min_dL&quot;\\n  input: &quot;B1/Min_dL_1&quot;\\n  input: &quot;BACKWARD_PROPAGATION/beta1_power/read&quot;\\n  input: &quot;BACKWARD_PROPAGATION/beta2_power/read&quot;\\n  input: &quot;BACKWARD_PROPAGATION/dL_update/learning_rate&quot;\\n  input: &quot;BACKWARD_PROPAGATION/dL_update/beta1&quot;\\n  input: &quot;BACKWARD_PROPAGATION/dL_update/beta2&quot;\\n  input: &quot;BACKWARD_PROPAGATION/dL_update/epsilon&quot;\\n  input: &quot;BACKWARD_PROPAGATION/dL/AddN_5&quot;\\n  attr {\\n    key: &quot;T&quot;\\n    value {\\n      type: DT_FLOAT\\n    }\\n  }\\n  attr {\\n    key: &quot;_class&quot;\\n    value {\\n      list {\\n        s: &quot;loc:@B1&quot;\\n      }\\n    }\\n  }\\n  attr {\\n    key: &quot;use_locking&quot;\\n    value {\\n      b: false\\n    }\\n  }\\n  attr {\\n    key: &quot;use_nesterov&quot;\\n    value {\\n      b: false\\n    }\\n  }\\n}\\nnode {\\n  name: &quot;BACKWARD_PROPAGATION/dL_update/update_W2/ApplyAdam&quot;\\n  op: &quot;ApplyAdam&quot;\\n  input: &quot;W2&quot;\\n  input: &quot;W2/Min_dL&quot;\\n  input: &quot;W2/Min_dL_1&quot;\\n  input: &quot;BACKWARD_PROPAGATION/beta1_power/read&quot;\\n  input: &quot;BACKWARD_PROPAGATION/beta2_power/read&quot;\\n  input: &quot;BACKWARD_PROPAGATION/dL_update/learning_rate&quot;\\n  input: &quot;BACKWARD_PROPAGATION/dL_update/beta1&quot;\\n  input: &quot;BACKWARD_PROPAGATION/dL_update/beta2&quot;\\n  input: &quot;BACKWARD_PROPAGATION/dL_update/epsilon&quot;\\n  input: &quot;BACKWARD_PROPAGATION/dL/AddN_4&quot;\\n  attr {\\n    key: &quot;T&quot;\\n    value {\\n      type: DT_FLOAT\\n    }\\n  }\\n  attr {\\n    key: &quot;_class&quot;\\n    value {\\n      list {\\n        s: &quot;loc:@W2&quot;\\n      }\\n    }\\n  }\\n  attr {\\n    key: &quot;use_locking&quot;\\n    value {\\n      b: false\\n    }\\n  }\\n  attr {\\n    key: &quot;use_nesterov&quot;\\n    value {\\n      b: false\\n    }\\n  }\\n}\\nnode {\\n  name: &quot;BACKWARD_PROPAGATION/dL_update/update_B2/ApplyAdam&quot;\\n  op: &quot;ApplyAdam&quot;\\n  input: &quot;B2&quot;\\n  input: &quot;B2/Min_dL&quot;\\n  input: &quot;B2/Min_dL_1&quot;\\n  input: &quot;BACKWARD_PROPAGATION/beta1_power/read&quot;\\n  input: &quot;BACKWARD_PROPAGATION/beta2_power/read&quot;\\n  input: &quot;BACKWARD_PROPAGATION/dL_update/learning_rate&quot;\\n  input: &quot;BACKWARD_PROPAGATION/dL_update/beta1&quot;\\n  input: &quot;BACKWARD_PROPAGATION/dL_update/beta2&quot;\\n  input: &quot;BACKWARD_PROPAGATION/dL_update/epsilon&quot;\\n  input: &quot;BACKWARD_PROPAGATION/dL/AddN_3&quot;\\n  attr {\\n    key: &quot;T&quot;\\n    value {\\n      type: DT_FLOAT\\n    }\\n  }\\n  attr {\\n    key: &quot;_class&quot;\\n    value {\\n      list {\\n        s: &quot;loc:@B2&quot;\\n      }\\n    }\\n  }\\n  attr {\\n    key: &quot;use_locking&quot;\\n    value {\\n      b: false\\n    }\\n  }\\n  attr {\\n    key: &quot;use_nesterov&quot;\\n    value {\\n      b: false\\n    }\\n  }\\n}\\nnode {\\n  name: &quot;BACKWARD_PROPAGATION/dL_update/update_W3/ApplyAdam&quot;\\n  op: &quot;ApplyAdam&quot;\\n  input: &quot;W3&quot;\\n  input: &quot;W3/Min_dL&quot;\\n  input: &quot;W3/Min_dL_1&quot;\\n  input: &quot;BACKWARD_PROPAGATION/beta1_power/read&quot;\\n  input: &quot;BACKWARD_PROPAGATION/beta2_power/read&quot;\\n  input: &quot;BACKWARD_PROPAGATION/dL_update/learning_rate&quot;\\n  input: &quot;BACKWARD_PROPAGATION/dL_update/beta1&quot;\\n  input: &quot;BACKWARD_PROPAGATION/dL_update/beta2&quot;\\n  input: &quot;BACKWARD_PROPAGATION/dL_update/epsilon&quot;\\n  input: &quot;BACKWARD_PROPAGATION/dL/AddN_2&quot;\\n  attr {\\n    key: &quot;T&quot;\\n    value {\\n      type: DT_FLOAT\\n    }\\n  }\\n  attr {\\n    key: &quot;_class&quot;\\n    value {\\n      list {\\n        s: &quot;loc:@W3&quot;\\n      }\\n    }\\n  }\\n  attr {\\n    key: &quot;use_locking&quot;\\n    value {\\n      b: false\\n    }\\n  }\\n  attr {\\n    key: &quot;use_nesterov&quot;\\n    value {\\n      b: false\\n    }\\n  }\\n}\\nnode {\\n  name: &quot;BACKWARD_PROPAGATION/dL_update/update_B3/ApplyAdam&quot;\\n  op: &quot;ApplyAdam&quot;\\n  input: &quot;B3&quot;\\n  input: &quot;B3/Min_dL&quot;\\n  input: &quot;B3/Min_dL_1&quot;\\n  input: &quot;BACKWARD_PROPAGATION/beta1_power/read&quot;\\n  input: &quot;BACKWARD_PROPAGATION/beta2_power/read&quot;\\n  input: &quot;BACKWARD_PROPAGATION/dL_update/learning_rate&quot;\\n  input: &quot;BACKWARD_PROPAGATION/dL_update/beta1&quot;\\n  input: &quot;BACKWARD_PROPAGATION/dL_update/beta2&quot;\\n  input: &quot;BACKWARD_PROPAGATION/dL_update/epsilon&quot;\\n  input: &quot;BACKWARD_PROPAGATION/dL/AddN_1&quot;\\n  attr {\\n    key: &quot;T&quot;\\n    value {\\n      type: DT_FLOAT\\n    }\\n  }\\n  attr {\\n    key: &quot;_class&quot;\\n    value {\\n      list {\\n        s: &quot;loc:@B3&quot;\\n      }\\n    }\\n  }\\n  attr {\\n    key: &quot;use_locking&quot;\\n    value {\\n      b: false\\n    }\\n  }\\n  attr {\\n    key: &quot;use_nesterov&quot;\\n    value {\\n      b: false\\n    }\\n  }\\n}\\nnode {\\n  name: &quot;BACKWARD_PROPAGATION/dL_update/update_W4/ApplyAdam&quot;\\n  op: &quot;ApplyAdam&quot;\\n  input: &quot;W4&quot;\\n  input: &quot;W4/Min_dL&quot;\\n  input: &quot;W4/Min_dL_1&quot;\\n  input: &quot;BACKWARD_PROPAGATION/beta1_power/read&quot;\\n  input: &quot;BACKWARD_PROPAGATION/beta2_power/read&quot;\\n  input: &quot;BACKWARD_PROPAGATION/dL_update/learning_rate&quot;\\n  input: &quot;BACKWARD_PROPAGATION/dL_update/beta1&quot;\\n  input: &quot;BACKWARD_PROPAGATION/dL_update/beta2&quot;\\n  input: &quot;BACKWARD_PROPAGATION/dL_update/epsilon&quot;\\n  input: &quot;BACKWARD_PROPAGATION/dL/AddN&quot;\\n  attr {\\n    key: &quot;T&quot;\\n    value {\\n      type: DT_FLOAT\\n    }\\n  }\\n  attr {\\n    key: &quot;_class&quot;\\n    value {\\n      list {\\n        s: &quot;loc:@W4&quot;\\n      }\\n    }\\n  }\\n  attr {\\n    key: &quot;use_locking&quot;\\n    value {\\n      b: false\\n    }\\n  }\\n  attr {\\n    key: &quot;use_nesterov&quot;\\n    value {\\n      b: false\\n    }\\n  }\\n}\\nnode {\\n  name: &quot;BACKWARD_PROPAGATION/dL_update/mul&quot;\\n  op: &quot;Mul&quot;\\n  input: &quot;BACKWARD_PROPAGATION/beta1_power/read&quot;\\n  input: &quot;BACKWARD_PROPAGATION/dL_update/beta1&quot;\\n  input: &quot;^BACKWARD_PROPAGATION/dL_update/update_B0/ApplyAdam&quot;\\n  input: &quot;^BACKWARD_PROPAGATION/dL_update/update_B1/ApplyAdam&quot;\\n  input: &quot;^BACKWARD_PROPAGATION/dL_update/update_B2/ApplyAdam&quot;\\n  input: &quot;^BACKWARD_PROPAGATION/dL_update/update_B3/ApplyAdam&quot;\\n  input: &quot;^BACKWARD_PROPAGATION/dL_update/update_W0/ApplyAdam&quot;\\n  input: &quot;^BACKWARD_PROPAGATION/dL_update/update_W1/ApplyAdam&quot;\\n  input: &quot;^BACKWARD_PROPAGATION/dL_update/update_W2/ApplyAdam&quot;\\n  input: &quot;^BACKWARD_PROPAGATION/dL_update/update_W3/ApplyAdam&quot;\\n  input: &quot;^BACKWARD_PROPAGATION/dL_update/update_W4/ApplyAdam&quot;\\n  attr {\\n    key: &quot;T&quot;\\n    value {\\n      type: DT_FLOAT\\n    }\\n  }\\n  attr {\\n    key: &quot;_class&quot;\\n    value {\\n      list {\\n        s: &quot;loc:@B0&quot;\\n      }\\n    }\\n  }\\n}\\nnode {\\n  name: &quot;BACKWARD_PROPAGATION/dL_update/Assign&quot;\\n  op: &quot;Assign&quot;\\n  input: &quot;BACKWARD_PROPAGATION/beta1_power&quot;\\n  input: &quot;BACKWARD_PROPAGATION/dL_update/mul&quot;\\n  attr {\\n    key: &quot;T&quot;\\n    value {\\n      type: DT_FLOAT\\n    }\\n  }\\n  attr {\\n    key: &quot;_class&quot;\\n    value {\\n      list {\\n        s: &quot;loc:@B0&quot;\\n      }\\n    }\\n  }\\n  attr {\\n    key: &quot;use_locking&quot;\\n    value {\\n      b: false\\n    }\\n  }\\n  attr {\\n    key: &quot;validate_shape&quot;\\n    value {\\n      b: true\\n    }\\n  }\\n}\\nnode {\\n  name: &quot;BACKWARD_PROPAGATION/dL_update/mul_1&quot;\\n  op: &quot;Mul&quot;\\n  input: &quot;BACKWARD_PROPAGATION/beta2_power/read&quot;\\n  input: &quot;BACKWARD_PROPAGATION/dL_update/beta2&quot;\\n  input: &quot;^BACKWARD_PROPAGATION/dL_update/update_B0/ApplyAdam&quot;\\n  input: &quot;^BACKWARD_PROPAGATION/dL_update/update_B1/ApplyAdam&quot;\\n  input: &quot;^BACKWARD_PROPAGATION/dL_update/update_B2/ApplyAdam&quot;\\n  input: &quot;^BACKWARD_PROPAGATION/dL_update/update_B3/ApplyAdam&quot;\\n  input: &quot;^BACKWARD_PROPAGATION/dL_update/update_W0/ApplyAdam&quot;\\n  input: &quot;^BACKWARD_PROPAGATION/dL_update/update_W1/ApplyAdam&quot;\\n  input: &quot;^BACKWARD_PROPAGATION/dL_update/update_W2/ApplyAdam&quot;\\n  input: &quot;^BACKWARD_PROPAGATION/dL_update/update_W3/ApplyAdam&quot;\\n  input: &quot;^BACKWARD_PROPAGATION/dL_update/update_W4/ApplyAdam&quot;\\n  attr {\\n    key: &quot;T&quot;\\n    value {\\n      type: DT_FLOAT\\n    }\\n  }\\n  attr {\\n    key: &quot;_class&quot;\\n    value {\\n      list {\\n        s: &quot;loc:@B0&quot;\\n      }\\n    }\\n  }\\n}\\nnode {\\n  name: &quot;BACKWARD_PROPAGATION/dL_update/Assign_1&quot;\\n  op: &quot;Assign&quot;\\n  input: &quot;BACKWARD_PROPAGATION/beta2_power&quot;\\n  input: &quot;BACKWARD_PROPAGATION/dL_update/mul_1&quot;\\n  attr {\\n    key: &quot;T&quot;\\n    value {\\n      type: DT_FLOAT\\n    }\\n  }\\n  attr {\\n    key: &quot;_class&quot;\\n    value {\\n      list {\\n        s: &quot;loc:@B0&quot;\\n      }\\n    }\\n  }\\n  attr {\\n    key: &quot;use_locking&quot;\\n    value {\\n      b: false\\n    }\\n  }\\n  attr {\\n    key: &quot;validate_shape&quot;\\n    value {\\n      b: true\\n    }\\n  }\\n}\\nnode {\\n  name: &quot;BACKWARD_PROPAGATION/dL_update&quot;\\n  op: &quot;NoOp&quot;\\n  input: &quot;^BACKWARD_PROPAGATION/dL_update/Assign&quot;\\n  input: &quot;^BACKWARD_PROPAGATION/dL_update/Assign_1&quot;\\n  input: &quot;^BACKWARD_PROPAGATION/dL_update/update_B0/ApplyAdam&quot;\\n  input: &quot;^BACKWARD_PROPAGATION/dL_update/update_B1/ApplyAdam&quot;\\n  input: &quot;^BACKWARD_PROPAGATION/dL_update/update_B2/ApplyAdam&quot;\\n  input: &quot;^BACKWARD_PROPAGATION/dL_update/update_B3/ApplyAdam&quot;\\n  input: &quot;^BACKWARD_PROPAGATION/dL_update/update_W0/ApplyAdam&quot;\\n  input: &quot;^BACKWARD_PROPAGATION/dL_update/update_W1/ApplyAdam&quot;\\n  input: &quot;^BACKWARD_PROPAGATION/dL_update/update_W2/ApplyAdam&quot;\\n  input: &quot;^BACKWARD_PROPAGATION/dL_update/update_W3/ApplyAdam&quot;\\n  input: &quot;^BACKWARD_PROPAGATION/dL_update/update_W4/ApplyAdam&quot;\\n}\\nnode {\\n  name: &quot;NAIVE_ACCURACY/FEED_FORWARD_PROPAGATION/MatMul&quot;\\n  op: &quot;MatMul&quot;\\n  input: &quot;INPUT_PIPELINE/Identity&quot;\\n  input: &quot;W0/read&quot;\\n  attr {\\n    key: &quot;T&quot;\\n    value {\\n      type: DT_FLOAT\\n    }\\n  }\\n  attr {\\n    key: &quot;transpose_a&quot;\\n    value {\\n      b: false\\n    }\\n  }\\n  attr {\\n    key: &quot;transpose_b&quot;\\n    value {\\n      b: false\\n    }\\n  }\\n}\\nnode {\\n  name: &quot;NAIVE_ACCURACY/FEED_FORWARD_PROPAGATION/add&quot;\\n  op: &quot;Add&quot;\\n  input: &quot;NAIVE_ACCURACY/FEED_FORWARD_PROPAGATION/MatMul&quot;\\n  input: &quot;B0/read&quot;\\n  attr {\\n    key: &quot;T&quot;\\n    value {\\n      type: DT_FLOAT\\n    }\\n  }\\n}\\nnode {\\n  name: &quot;NAIVE_ACCURACY/FEED_FORWARD_PROPAGATION/Relu&quot;\\n  op: &quot;Relu&quot;\\n  input: &quot;NAIVE_ACCURACY/FEED_FORWARD_PROPAGATION/add&quot;\\n  attr {\\n    key: &quot;T&quot;\\n    value {\\n      type: DT_FLOAT\\n    }\\n  }\\n}\\nnode {\\n  name: &quot;NAIVE_ACCURACY/FEED_FORWARD_PROPAGATION/MatMul_1&quot;\\n  op: &quot;MatMul&quot;\\n  input: &quot;NAIVE_ACCURACY/FEED_FORWARD_PROPAGATION/Relu&quot;\\n  input: &quot;W1/read&quot;\\n  attr {\\n    key: &quot;T&quot;\\n    value {\\n      type: DT_FLOAT\\n    }\\n  }\\n  attr {\\n    key: &quot;transpose_a&quot;\\n    value {\\n      b: false\\n    }\\n  }\\n  attr {\\n    key: &quot;transpose_b&quot;\\n    value {\\n      b: false\\n    }\\n  }\\n}\\nnode {\\n  name: &quot;NAIVE_ACCURACY/FEED_FORWARD_PROPAGATION/add_1&quot;\\n  op: &quot;Add&quot;\\n  input: &quot;NAIVE_ACCURACY/FEED_FORWARD_PROPAGATION/MatMul_1&quot;\\n  input: &quot;B1/read&quot;\\n  attr {\\n    key: &quot;T&quot;\\n    value {\\n      type: DT_FLOAT\\n    }\\n  }\\n}\\nnode {\\n  name: &quot;NAIVE_ACCURACY/FEED_FORWARD_PROPAGATION/Relu_1&quot;\\n  op: &quot;Relu&quot;\\n  input: &quot;NAIVE_ACCURACY/FEED_FORWARD_PROPAGATION/add_1&quot;\\n  attr {\\n    key: &quot;T&quot;\\n    value {\\n      type: DT_FLOAT\\n    }\\n  }\\n}\\nnode {\\n  name: &quot;NAIVE_ACCURACY/FEED_FORWARD_PROPAGATION/MatMul_2&quot;\\n  op: &quot;MatMul&quot;\\n  input: &quot;NAIVE_ACCURACY/FEED_FORWARD_PROPAGATION/Relu_1&quot;\\n  input: &quot;W2/read&quot;\\n  attr {\\n    key: &quot;T&quot;\\n    value {\\n      type: DT_FLOAT\\n    }\\n  }\\n  attr {\\n    key: &quot;transpose_a&quot;\\n    value {\\n      b: false\\n    }\\n  }\\n  attr {\\n    key: &quot;transpose_b&quot;\\n    value {\\n      b: false\\n    }\\n  }\\n}\\nnode {\\n  name: &quot;NAIVE_ACCURACY/FEED_FORWARD_PROPAGATION/add_2&quot;\\n  op: &quot;Add&quot;\\n  input: &quot;NAIVE_ACCURACY/FEED_FORWARD_PROPAGATION/MatMul_2&quot;\\n  input: &quot;B2/read&quot;\\n  attr {\\n    key: &quot;T&quot;\\n    value {\\n      type: DT_FLOAT\\n    }\\n  }\\n}\\nnode {\\n  name: &quot;NAIVE_ACCURACY/FEED_FORWARD_PROPAGATION/Relu_2&quot;\\n  op: &quot;Relu&quot;\\n  input: &quot;NAIVE_ACCURACY/FEED_FORWARD_PROPAGATION/add_2&quot;\\n  attr {\\n    key: &quot;T&quot;\\n    value {\\n      type: DT_FLOAT\\n    }\\n  }\\n}\\nnode {\\n  name: &quot;NAIVE_ACCURACY/FEED_FORWARD_PROPAGATION/MatMul_3&quot;\\n  op: &quot;MatMul&quot;\\n  input: &quot;NAIVE_ACCURACY/FEED_FORWARD_PROPAGATION/Relu_2&quot;\\n  input: &quot;W3/read&quot;\\n  attr {\\n    key: &quot;T&quot;\\n    value {\\n      type: DT_FLOAT\\n    }\\n  }\\n  attr {\\n    key: &quot;transpose_a&quot;\\n    value {\\n      b: false\\n    }\\n  }\\n  attr {\\n    key: &quot;transpose_b&quot;\\n    value {\\n      b: false\\n    }\\n  }\\n}\\nnode {\\n  name: &quot;NAIVE_ACCURACY/FEED_FORWARD_PROPAGATION/add_3&quot;\\n  op: &quot;Add&quot;\\n  input: &quot;NAIVE_ACCURACY/FEED_FORWARD_PROPAGATION/MatMul_3&quot;\\n  input: &quot;B3/read&quot;\\n  attr {\\n    key: &quot;T&quot;\\n    value {\\n      type: DT_FLOAT\\n    }\\n  }\\n}\\nnode {\\n  name: &quot;NAIVE_ACCURACY/FEED_FORWARD_PROPAGATION/Relu_3&quot;\\n  op: &quot;Relu&quot;\\n  input: &quot;NAIVE_ACCURACY/FEED_FORWARD_PROPAGATION/add_3&quot;\\n  attr {\\n    key: &quot;T&quot;\\n    value {\\n      type: DT_FLOAT\\n    }\\n  }\\n}\\nnode {\\n  name: &quot;NAIVE_ACCURACY/FEED_FORWARD_PROPAGATION/LOGITS&quot;\\n  op: &quot;MatMul&quot;\\n  input: &quot;NAIVE_ACCURACY/FEED_FORWARD_PROPAGATION/Relu_3&quot;\\n  input: &quot;W4/read&quot;\\n  attr {\\n    key: &quot;T&quot;\\n    value {\\n      type: DT_FLOAT\\n    }\\n  }\\n  attr {\\n    key: &quot;transpose_a&quot;\\n    value {\\n      b: false\\n    }\\n  }\\n  attr {\\n    key: &quot;transpose_b&quot;\\n    value {\\n      b: false\\n    }\\n  }\\n}\\nnode {\\n  name: &quot;NAIVE_ACCURACY/FEED_FORWARD_PROPAGATION/SOFMAX_PREDICTION_FROM_LOGITS&quot;\\n  op: &quot;Softmax&quot;\\n  input: &quot;NAIVE_ACCURACY/FEED_FORWARD_PROPAGATION/LOGITS&quot;\\n  attr {\\n    key: &quot;T&quot;\\n    value {\\n      type: DT_FLOAT\\n    }\\n  }\\n}\\nnode {\\n  name: &quot;NAIVE_ACCURACY/Squeeze&quot;\\n  op: &quot;Squeeze&quot;\\n  input: &quot;INPUT_PIPELINE/Identity_1&quot;\\n  attr {\\n    key: &quot;T&quot;\\n    value {\\n      type: DT_INT32\\n    }\\n  }\\n  attr {\\n    key: &quot;squeeze_dims&quot;\\n    value {\\n      list {\\n      }\\n    }\\n  }\\n}\\nnode {\\n  name: &quot;NAIVE_ACCURACY/Cast&quot;\\n  op: &quot;Cast&quot;\\n  input: &quot;NAIVE_ACCURACY/Squeeze&quot;\\n  attr {\\n    key: &quot;DstT&quot;\\n    value {\\n      type: DT_INT64\\n    }\\n  }\\n  attr {\\n    key: &quot;SrcT&quot;\\n    value {\\n      type: DT_INT32\\n    }\\n  }\\n  attr {\\n    key: &quot;Truncate&quot;\\n    value {\\n      b: false\\n    }\\n  }\\n}\\nnode {\\n  name: &quot;NAIVE_ACCURACY/ArgMax/dimension&quot;\\n  op: &quot;Const&quot;\\n  attr {\\n    key: &quot;dtype&quot;\\n    value {\\n      type: DT_INT32\\n    }\\n  }\\n  attr {\\n    key: &quot;value&quot;\\n    value {\\n      tensor {\\n        dtype: DT_INT32\\n        tensor_shape {\\n        }\\n        int_val: 1\\n      }\\n    }\\n  }\\n}\\nnode {\\n  name: &quot;NAIVE_ACCURACY/ArgMax&quot;\\n  op: &quot;ArgMax&quot;\\n  input: &quot;NAIVE_ACCURACY/FEED_FORWARD_PROPAGATION/SOFMAX_PREDICTION_FROM_LOGITS&quot;\\n  input: &quot;NAIVE_ACCURACY/ArgMax/dimension&quot;\\n  attr {\\n    key: &quot;T&quot;\\n    value {\\n      type: DT_FLOAT\\n    }\\n  }\\n  attr {\\n    key: &quot;Tidx&quot;\\n    value {\\n      type: DT_INT32\\n    }\\n  }\\n  attr {\\n    key: &quot;output_type&quot;\\n    value {\\n      type: DT_INT64\\n    }\\n  }\\n}\\nnode {\\n  name: &quot;NAIVE_ACCURACY/Equal&quot;\\n  op: &quot;Equal&quot;\\n  input: &quot;NAIVE_ACCURACY/ArgMax&quot;\\n  input: &quot;NAIVE_ACCURACY/Cast&quot;\\n  attr {\\n    key: &quot;T&quot;\\n    value {\\n      type: DT_INT64\\n    }\\n  }\\n}\\nnode {\\n  name: &quot;NAIVE_ACCURACY/Cast_1&quot;\\n  op: &quot;Cast&quot;\\n  input: &quot;NAIVE_ACCURACY/Equal&quot;\\n  attr {\\n    key: &quot;DstT&quot;\\n    value {\\n      type: DT_FLOAT\\n    }\\n  }\\n  attr {\\n    key: &quot;SrcT&quot;\\n    value {\\n      type: DT_BOOL\\n    }\\n  }\\n  attr {\\n    key: &quot;Truncate&quot;\\n    value {\\n      b: false\\n    }\\n  }\\n}\\nnode {\\n  name: &quot;NAIVE_ACCURACY/Rank&quot;\\n  op: &quot;Rank&quot;\\n  input: &quot;NAIVE_ACCURACY/Cast_1&quot;\\n  attr {\\n    key: &quot;T&quot;\\n    value {\\n      type: DT_FLOAT\\n    }\\n  }\\n}\\nnode {\\n  name: &quot;NAIVE_ACCURACY/range/start&quot;\\n  op: &quot;Const&quot;\\n  attr {\\n    key: &quot;dtype&quot;\\n    value {\\n      type: DT_INT32\\n    }\\n  }\\n  attr {\\n    key: &quot;value&quot;\\n    value {\\n      tensor {\\n        dtype: DT_INT32\\n        tensor_shape {\\n        }\\n        int_val: 0\\n      }\\n    }\\n  }\\n}\\nnode {\\n  name: &quot;NAIVE_ACCURACY/range/delta&quot;\\n  op: &quot;Const&quot;\\n  attr {\\n    key: &quot;dtype&quot;\\n    value {\\n      type: DT_INT32\\n    }\\n  }\\n  attr {\\n    key: &quot;value&quot;\\n    value {\\n      tensor {\\n        dtype: DT_INT32\\n        tensor_shape {\\n        }\\n        int_val: 1\\n      }\\n    }\\n  }\\n}\\nnode {\\n  name: &quot;NAIVE_ACCURACY/range&quot;\\n  op: &quot;Range&quot;\\n  input: &quot;NAIVE_ACCURACY/range/start&quot;\\n  input: &quot;NAIVE_ACCURACY/Rank&quot;\\n  input: &quot;NAIVE_ACCURACY/range/delta&quot;\\n  attr {\\n    key: &quot;Tidx&quot;\\n    value {\\n      type: DT_INT32\\n    }\\n  }\\n}\\nnode {\\n  name: &quot;NAIVE_ACCURACY/Mean&quot;\\n  op: &quot;Mean&quot;\\n  input: &quot;NAIVE_ACCURACY/Cast_1&quot;\\n  input: &quot;NAIVE_ACCURACY/range&quot;\\n  attr {\\n    key: &quot;T&quot;\\n    value {\\n      type: DT_FLOAT\\n    }\\n  }\\n  attr {\\n    key: &quot;Tidx&quot;\\n    value {\\n      type: DT_INT32\\n    }\\n  }\\n  attr {\\n    key: &quot;keep_dims&quot;\\n    value {\\n      b: false\\n    }\\n  }\\n}\\nnode {\\n  name: &quot;TRAIN_ACCURACY/tags&quot;\\n  op: &quot;Const&quot;\\n  attr {\\n    key: &quot;dtype&quot;\\n    value {\\n      type: DT_STRING\\n    }\\n  }\\n  attr {\\n    key: &quot;value&quot;\\n    value {\\n      tensor {\\n        dtype: DT_STRING\\n        tensor_shape {\\n        }\\n        string_val: &quot;TRAIN_ACCURACY&quot;\\n      }\\n    }\\n  }\\n}\\nnode {\\n  name: &quot;TRAIN_ACCURACY&quot;\\n  op: &quot;ScalarSummary&quot;\\n  input: &quot;TRAIN_ACCURACY/tags&quot;\\n  input: &quot;NAIVE_ACCURACY/Mean&quot;\\n  attr {\\n    key: &quot;T&quot;\\n    value {\\n      type: DT_FLOAT\\n    }\\n  }\\n}\\nnode {\\n  name: &quot;NAIVE_ACCURACY_1/FEED_FORWARD_PROPAGATION/MatMul&quot;\\n  op: &quot;MatMul&quot;\\n  input: &quot;INPUT_PIPELINE/IteratorGetNext_1&quot;\\n  input: &quot;W0/read&quot;\\n  attr {\\n    key: &quot;T&quot;\\n    value {\\n      type: DT_FLOAT\\n    }\\n  }\\n  attr {\\n    key: &quot;transpose_a&quot;\\n    value {\\n      b: false\\n    }\\n  }\\n  attr {\\n    key: &quot;transpose_b&quot;\\n    value {\\n      b: false\\n    }\\n  }\\n}\\nnode {\\n  name: &quot;NAIVE_ACCURACY_1/FEED_FORWARD_PROPAGATION/add&quot;\\n  op: &quot;Add&quot;\\n  input: &quot;NAIVE_ACCURACY_1/FEED_FORWARD_PROPAGATION/MatMul&quot;\\n  input: &quot;B0/read&quot;\\n  attr {\\n    key: &quot;T&quot;\\n    value {\\n      type: DT_FLOAT\\n    }\\n  }\\n}\\nnode {\\n  name: &quot;NAIVE_ACCURACY_1/FEED_FORWARD_PROPAGATION/Relu&quot;\\n  op: &quot;Relu&quot;\\n  input: &quot;NAIVE_ACCURACY_1/FEED_FORWARD_PROPAGATION/add&quot;\\n  attr {\\n    key: &quot;T&quot;\\n    value {\\n      type: DT_FLOAT\\n    }\\n  }\\n}\\nnode {\\n  name: &quot;NAIVE_ACCURACY_1/FEED_FORWARD_PROPAGATION/MatMul_1&quot;\\n  op: &quot;MatMul&quot;\\n  input: &quot;NAIVE_ACCURACY_1/FEED_FORWARD_PROPAGATION/Relu&quot;\\n  input: &quot;W1/read&quot;\\n  attr {\\n    key: &quot;T&quot;\\n    value {\\n      type: DT_FLOAT\\n    }\\n  }\\n  attr {\\n    key: &quot;transpose_a&quot;\\n    value {\\n      b: false\\n    }\\n  }\\n  attr {\\n    key: &quot;transpose_b&quot;\\n    value {\\n      b: false\\n    }\\n  }\\n}\\nnode {\\n  name: &quot;NAIVE_ACCURACY_1/FEED_FORWARD_PROPAGATION/add_1&quot;\\n  op: &quot;Add&quot;\\n  input: &quot;NAIVE_ACCURACY_1/FEED_FORWARD_PROPAGATION/MatMul_1&quot;\\n  input: &quot;B1/read&quot;\\n  attr {\\n    key: &quot;T&quot;\\n    value {\\n      type: DT_FLOAT\\n    }\\n  }\\n}\\nnode {\\n  name: &quot;NAIVE_ACCURACY_1/FEED_FORWARD_PROPAGATION/Relu_1&quot;\\n  op: &quot;Relu&quot;\\n  input: &quot;NAIVE_ACCURACY_1/FEED_FORWARD_PROPAGATION/add_1&quot;\\n  attr {\\n    key: &quot;T&quot;\\n    value {\\n      type: DT_FLOAT\\n    }\\n  }\\n}\\nnode {\\n  name: &quot;NAIVE_ACCURACY_1/FEED_FORWARD_PROPAGATION/MatMul_2&quot;\\n  op: &quot;MatMul&quot;\\n  input: &quot;NAIVE_ACCURACY_1/FEED_FORWARD_PROPAGATION/Relu_1&quot;\\n  input: &quot;W2/read&quot;\\n  attr {\\n    key: &quot;T&quot;\\n    value {\\n      type: DT_FLOAT\\n    }\\n  }\\n  attr {\\n    key: &quot;transpose_a&quot;\\n    value {\\n      b: false\\n    }\\n  }\\n  attr {\\n    key: &quot;transpose_b&quot;\\n    value {\\n      b: false\\n    }\\n  }\\n}\\nnode {\\n  name: &quot;NAIVE_ACCURACY_1/FEED_FORWARD_PROPAGATION/add_2&quot;\\n  op: &quot;Add&quot;\\n  input: &quot;NAIVE_ACCURACY_1/FEED_FORWARD_PROPAGATION/MatMul_2&quot;\\n  input: &quot;B2/read&quot;\\n  attr {\\n    key: &quot;T&quot;\\n    value {\\n      type: DT_FLOAT\\n    }\\n  }\\n}\\nnode {\\n  name: &quot;NAIVE_ACCURACY_1/FEED_FORWARD_PROPAGATION/Relu_2&quot;\\n  op: &quot;Relu&quot;\\n  input: &quot;NAIVE_ACCURACY_1/FEED_FORWARD_PROPAGATION/add_2&quot;\\n  attr {\\n    key: &quot;T&quot;\\n    value {\\n      type: DT_FLOAT\\n    }\\n  }\\n}\\nnode {\\n  name: &quot;NAIVE_ACCURACY_1/FEED_FORWARD_PROPAGATION/MatMul_3&quot;\\n  op: &quot;MatMul&quot;\\n  input: &quot;NAIVE_ACCURACY_1/FEED_FORWARD_PROPAGATION/Relu_2&quot;\\n  input: &quot;W3/read&quot;\\n  attr {\\n    key: &quot;T&quot;\\n    value {\\n      type: DT_FLOAT\\n    }\\n  }\\n  attr {\\n    key: &quot;transpose_a&quot;\\n    value {\\n      b: false\\n    }\\n  }\\n  attr {\\n    key: &quot;transpose_b&quot;\\n    value {\\n      b: false\\n    }\\n  }\\n}\\nnode {\\n  name: &quot;NAIVE_ACCURACY_1/FEED_FORWARD_PROPAGATION/add_3&quot;\\n  op: &quot;Add&quot;\\n  input: &quot;NAIVE_ACCURACY_1/FEED_FORWARD_PROPAGATION/MatMul_3&quot;\\n  input: &quot;B3/read&quot;\\n  attr {\\n    key: &quot;T&quot;\\n    value {\\n      type: DT_FLOAT\\n    }\\n  }\\n}\\nnode {\\n  name: &quot;NAIVE_ACCURACY_1/FEED_FORWARD_PROPAGATION/Relu_3&quot;\\n  op: &quot;Relu&quot;\\n  input: &quot;NAIVE_ACCURACY_1/FEED_FORWARD_PROPAGATION/add_3&quot;\\n  attr {\\n    key: &quot;T&quot;\\n    value {\\n      type: DT_FLOAT\\n    }\\n  }\\n}\\nnode {\\n  name: &quot;NAIVE_ACCURACY_1/FEED_FORWARD_PROPAGATION/LOGITS&quot;\\n  op: &quot;MatMul&quot;\\n  input: &quot;NAIVE_ACCURACY_1/FEED_FORWARD_PROPAGATION/Relu_3&quot;\\n  input: &quot;W4/read&quot;\\n  attr {\\n    key: &quot;T&quot;\\n    value {\\n      type: DT_FLOAT\\n    }\\n  }\\n  attr {\\n    key: &quot;transpose_a&quot;\\n    value {\\n      b: false\\n    }\\n  }\\n  attr {\\n    key: &quot;transpose_b&quot;\\n    value {\\n      b: false\\n    }\\n  }\\n}\\nnode {\\n  name: &quot;NAIVE_ACCURACY_1/FEED_FORWARD_PROPAGATION/SOFMAX_PREDICTION_FROM_LOGITS&quot;\\n  op: &quot;Softmax&quot;\\n  input: &quot;NAIVE_ACCURACY_1/FEED_FORWARD_PROPAGATION/LOGITS&quot;\\n  attr {\\n    key: &quot;T&quot;\\n    value {\\n      type: DT_FLOAT\\n    }\\n  }\\n}\\nnode {\\n  name: &quot;NAIVE_ACCURACY_1/Squeeze&quot;\\n  op: &quot;Squeeze&quot;\\n  input: &quot;INPUT_PIPELINE/IteratorGetNext_1:1&quot;\\n  attr {\\n    key: &quot;T&quot;\\n    value {\\n      type: DT_INT32\\n    }\\n  }\\n  attr {\\n    key: &quot;squeeze_dims&quot;\\n    value {\\n      list {\\n      }\\n    }\\n  }\\n}\\nnode {\\n  name: &quot;NAIVE_ACCURACY_1/Cast&quot;\\n  op: &quot;Cast&quot;\\n  input: &quot;NAIVE_ACCURACY_1/Squeeze&quot;\\n  attr {\\n    key: &quot;DstT&quot;\\n    value {\\n      type: DT_INT64\\n    }\\n  }\\n  attr {\\n    key: &quot;SrcT&quot;\\n    value {\\n      type: DT_INT32\\n    }\\n  }\\n  attr {\\n    key: &quot;Truncate&quot;\\n    value {\\n      b: false\\n    }\\n  }\\n}\\nnode {\\n  name: &quot;NAIVE_ACCURACY_1/ArgMax/dimension&quot;\\n  op: &quot;Const&quot;\\n  attr {\\n    key: &quot;dtype&quot;\\n    value {\\n      type: DT_INT32\\n    }\\n  }\\n  attr {\\n    key: &quot;value&quot;\\n    value {\\n      tensor {\\n        dtype: DT_INT32\\n        tensor_shape {\\n        }\\n        int_val: 1\\n      }\\n    }\\n  }\\n}\\nnode {\\n  name: &quot;NAIVE_ACCURACY_1/ArgMax&quot;\\n  op: &quot;ArgMax&quot;\\n  input: &quot;NAIVE_ACCURACY_1/FEED_FORWARD_PROPAGATION/SOFMAX_PREDICTION_FROM_LOGITS&quot;\\n  input: &quot;NAIVE_ACCURACY_1/ArgMax/dimension&quot;\\n  attr {\\n    key: &quot;T&quot;\\n    value {\\n      type: DT_FLOAT\\n    }\\n  }\\n  attr {\\n    key: &quot;Tidx&quot;\\n    value {\\n      type: DT_INT32\\n    }\\n  }\\n  attr {\\n    key: &quot;output_type&quot;\\n    value {\\n      type: DT_INT64\\n    }\\n  }\\n}\\nnode {\\n  name: &quot;NAIVE_ACCURACY_1/Equal&quot;\\n  op: &quot;Equal&quot;\\n  input: &quot;NAIVE_ACCURACY_1/ArgMax&quot;\\n  input: &quot;NAIVE_ACCURACY_1/Cast&quot;\\n  attr {\\n    key: &quot;T&quot;\\n    value {\\n      type: DT_INT64\\n    }\\n  }\\n}\\nnode {\\n  name: &quot;NAIVE_ACCURACY_1/Cast_1&quot;\\n  op: &quot;Cast&quot;\\n  input: &quot;NAIVE_ACCURACY_1/Equal&quot;\\n  attr {\\n    key: &quot;DstT&quot;\\n    value {\\n      type: DT_FLOAT\\n    }\\n  }\\n  attr {\\n    key: &quot;SrcT&quot;\\n    value {\\n      type: DT_BOOL\\n    }\\n  }\\n  attr {\\n    key: &quot;Truncate&quot;\\n    value {\\n      b: false\\n    }\\n  }\\n}\\nnode {\\n  name: &quot;NAIVE_ACCURACY_1/Rank&quot;\\n  op: &quot;Rank&quot;\\n  input: &quot;NAIVE_ACCURACY_1/Cast_1&quot;\\n  attr {\\n    key: &quot;T&quot;\\n    value {\\n      type: DT_FLOAT\\n    }\\n  }\\n}\\nnode {\\n  name: &quot;NAIVE_ACCURACY_1/range/start&quot;\\n  op: &quot;Const&quot;\\n  attr {\\n    key: &quot;dtype&quot;\\n    value {\\n      type: DT_INT32\\n    }\\n  }\\n  attr {\\n    key: &quot;value&quot;\\n    value {\\n      tensor {\\n        dtype: DT_INT32\\n        tensor_shape {\\n        }\\n        int_val: 0\\n      }\\n    }\\n  }\\n}\\nnode {\\n  name: &quot;NAIVE_ACCURACY_1/range/delta&quot;\\n  op: &quot;Const&quot;\\n  attr {\\n    key: &quot;dtype&quot;\\n    value {\\n      type: DT_INT32\\n    }\\n  }\\n  attr {\\n    key: &quot;value&quot;\\n    value {\\n      tensor {\\n        dtype: DT_INT32\\n        tensor_shape {\\n        }\\n        int_val: 1\\n      }\\n    }\\n  }\\n}\\nnode {\\n  name: &quot;NAIVE_ACCURACY_1/range&quot;\\n  op: &quot;Range&quot;\\n  input: &quot;NAIVE_ACCURACY_1/range/start&quot;\\n  input: &quot;NAIVE_ACCURACY_1/Rank&quot;\\n  input: &quot;NAIVE_ACCURACY_1/range/delta&quot;\\n  attr {\\n    key: &quot;Tidx&quot;\\n    value {\\n      type: DT_INT32\\n    }\\n  }\\n}\\nnode {\\n  name: &quot;NAIVE_ACCURACY_1/Mean&quot;\\n  op: &quot;Mean&quot;\\n  input: &quot;NAIVE_ACCURACY_1/Cast_1&quot;\\n  input: &quot;NAIVE_ACCURACY_1/range&quot;\\n  attr {\\n    key: &quot;T&quot;\\n    value {\\n      type: DT_FLOAT\\n    }\\n  }\\n  attr {\\n    key: &quot;Tidx&quot;\\n    value {\\n      type: DT_INT32\\n    }\\n  }\\n  attr {\\n    key: &quot;keep_dims&quot;\\n    value {\\n      b: false\\n    }\\n  }\\n}\\nnode {\\n  name: &quot;VALIDATION_ACCURACY/tags&quot;\\n  op: &quot;Const&quot;\\n  attr {\\n    key: &quot;dtype&quot;\\n    value {\\n      type: DT_STRING\\n    }\\n  }\\n  attr {\\n    key: &quot;value&quot;\\n    value {\\n      tensor {\\n        dtype: DT_STRING\\n        tensor_shape {\\n        }\\n        string_val: &quot;VALIDATION_ACCURACY&quot;\\n      }\\n    }\\n  }\\n}\\nnode {\\n  name: &quot;VALIDATION_ACCURACY&quot;\\n  op: &quot;ScalarSummary&quot;\\n  input: &quot;VALIDATION_ACCURACY/tags&quot;\\n  input: &quot;NAIVE_ACCURACY_1/Mean&quot;\\n  attr {\\n    key: &quot;T&quot;\\n    value {\\n      type: DT_FLOAT\\n    }\\n  }\\n}\\nnode {\\n  name: &quot;FEED_FORWARD_PROPAGATION_1/MatMul&quot;\\n  op: &quot;MatMul&quot;\\n  input: &quot;INPUT_PIPELINE/IteratorGetNext_2&quot;\\n  input: &quot;W0/read&quot;\\n  attr {\\n    key: &quot;T&quot;\\n    value {\\n      type: DT_FLOAT\\n    }\\n  }\\n  attr {\\n    key: &quot;transpose_a&quot;\\n    value {\\n      b: false\\n    }\\n  }\\n  attr {\\n    key: &quot;transpose_b&quot;\\n    value {\\n      b: false\\n    }\\n  }\\n}\\nnode {\\n  name: &quot;FEED_FORWARD_PROPAGATION_1/add&quot;\\n  op: &quot;Add&quot;\\n  input: &quot;FEED_FORWARD_PROPAGATION_1/MatMul&quot;\\n  input: &quot;B0/read&quot;\\n  attr {\\n    key: &quot;T&quot;\\n    value {\\n      type: DT_FLOAT\\n    }\\n  }\\n}\\nnode {\\n  name: &quot;FEED_FORWARD_PROPAGATION_1/Relu&quot;\\n  op: &quot;Relu&quot;\\n  input: &quot;FEED_FORWARD_PROPAGATION_1/add&quot;\\n  attr {\\n    key: &quot;T&quot;\\n    value {\\n      type: DT_FLOAT\\n    }\\n  }\\n}\\nnode {\\n  name: &quot;FEED_FORWARD_PROPAGATION_1/MatMul_1&quot;\\n  op: &quot;MatMul&quot;\\n  input: &quot;FEED_FORWARD_PROPAGATION_1/Relu&quot;\\n  input: &quot;W1/read&quot;\\n  attr {\\n    key: &quot;T&quot;\\n    value {\\n      type: DT_FLOAT\\n    }\\n  }\\n  attr {\\n    key: &quot;transpose_a&quot;\\n    value {\\n      b: false\\n    }\\n  }\\n  attr {\\n    key: &quot;transpose_b&quot;\\n    value {\\n      b: false\\n    }\\n  }\\n}\\nnode {\\n  name: &quot;FEED_FORWARD_PROPAGATION_1/add_1&quot;\\n  op: &quot;Add&quot;\\n  input: &quot;FEED_FORWARD_PROPAGATION_1/MatMul_1&quot;\\n  input: &quot;B1/read&quot;\\n  attr {\\n    key: &quot;T&quot;\\n    value {\\n      type: DT_FLOAT\\n    }\\n  }\\n}\\nnode {\\n  name: &quot;FEED_FORWARD_PROPAGATION_1/Relu_1&quot;\\n  op: &quot;Relu&quot;\\n  input: &quot;FEED_FORWARD_PROPAGATION_1/add_1&quot;\\n  attr {\\n    key: &quot;T&quot;\\n    value {\\n      type: DT_FLOAT\\n    }\\n  }\\n}\\nnode {\\n  name: &quot;FEED_FORWARD_PROPAGATION_1/MatMul_2&quot;\\n  op: &quot;MatMul&quot;\\n  input: &quot;FEED_FORWARD_PROPAGATION_1/Relu_1&quot;\\n  input: &quot;W2/read&quot;\\n  attr {\\n    key: &quot;T&quot;\\n    value {\\n      type: DT_FLOAT\\n    }\\n  }\\n  attr {\\n    key: &quot;transpose_a&quot;\\n    value {\\n      b: false\\n    }\\n  }\\n  attr {\\n    key: &quot;transpose_b&quot;\\n    value {\\n      b: false\\n    }\\n  }\\n}\\nnode {\\n  name: &quot;FEED_FORWARD_PROPAGATION_1/add_2&quot;\\n  op: &quot;Add&quot;\\n  input: &quot;FEED_FORWARD_PROPAGATION_1/MatMul_2&quot;\\n  input: &quot;B2/read&quot;\\n  attr {\\n    key: &quot;T&quot;\\n    value {\\n      type: DT_FLOAT\\n    }\\n  }\\n}\\nnode {\\n  name: &quot;FEED_FORWARD_PROPAGATION_1/Relu_2&quot;\\n  op: &quot;Relu&quot;\\n  input: &quot;FEED_FORWARD_PROPAGATION_1/add_2&quot;\\n  attr {\\n    key: &quot;T&quot;\\n    value {\\n      type: DT_FLOAT\\n    }\\n  }\\n}\\nnode {\\n  name: &quot;FEED_FORWARD_PROPAGATION_1/MatMul_3&quot;\\n  op: &quot;MatMul&quot;\\n  input: &quot;FEED_FORWARD_PROPAGATION_1/Relu_2&quot;\\n  input: &quot;W3/read&quot;\\n  attr {\\n    key: &quot;T&quot;\\n    value {\\n      type: DT_FLOAT\\n    }\\n  }\\n  attr {\\n    key: &quot;transpose_a&quot;\\n    value {\\n      b: false\\n    }\\n  }\\n  attr {\\n    key: &quot;transpose_b&quot;\\n    value {\\n      b: false\\n    }\\n  }\\n}\\nnode {\\n  name: &quot;FEED_FORWARD_PROPAGATION_1/add_3&quot;\\n  op: &quot;Add&quot;\\n  input: &quot;FEED_FORWARD_PROPAGATION_1/MatMul_3&quot;\\n  input: &quot;B3/read&quot;\\n  attr {\\n    key: &quot;T&quot;\\n    value {\\n      type: DT_FLOAT\\n    }\\n  }\\n}\\nnode {\\n  name: &quot;FEED_FORWARD_PROPAGATION_1/Relu_3&quot;\\n  op: &quot;Relu&quot;\\n  input: &quot;FEED_FORWARD_PROPAGATION_1/add_3&quot;\\n  attr {\\n    key: &quot;T&quot;\\n    value {\\n      type: DT_FLOAT\\n    }\\n  }\\n}\\nnode {\\n  name: &quot;FEED_FORWARD_PROPAGATION_1/LOGITS&quot;\\n  op: &quot;MatMul&quot;\\n  input: &quot;FEED_FORWARD_PROPAGATION_1/Relu_3&quot;\\n  input: &quot;W4/read&quot;\\n  attr {\\n    key: &quot;T&quot;\\n    value {\\n      type: DT_FLOAT\\n    }\\n  }\\n  attr {\\n    key: &quot;transpose_a&quot;\\n    value {\\n      b: false\\n    }\\n  }\\n  attr {\\n    key: &quot;transpose_b&quot;\\n    value {\\n      b: false\\n    }\\n  }\\n}\\nnode {\\n  name: &quot;FEED_FORWARD_PROPAGATION_1/SOFMAX_PREDICTION_FROM_LOGITS&quot;\\n  op: &quot;Softmax&quot;\\n  input: &quot;FEED_FORWARD_PROPAGATION_1/LOGITS&quot;\\n  attr {\\n    key: &quot;T&quot;\\n    value {\\n      type: DT_FLOAT\\n    }\\n  }\\n}\\nnode {\\n  name: &quot;Merge/MergeSummary&quot;\\n  op: &quot;MergeSummary&quot;\\n  input: &quot;LOSS_1&quot;\\n  input: &quot;TRAIN_ACCURACY&quot;\\n  attr {\\n    key: &quot;N&quot;\\n    value {\\n      i: 2\\n    }\\n  }\\n}\\nnode {\\n  name: &quot;save/filename/input&quot;\\n  op: &quot;Const&quot;\\n  attr {\\n    key: &quot;dtype&quot;\\n    value {\\n      type: DT_STRING\\n    }\\n  }\\n  attr {\\n    key: &quot;value&quot;\\n    value {\\n      tensor {\\n        dtype: DT_STRING\\n        tensor_shape {\\n        }\\n        string_val: &quot;model&quot;\\n      }\\n    }\\n  }\\n}\\nnode {\\n  name: &quot;save/filename&quot;\\n  op: &quot;PlaceholderWithDefault&quot;\\n  input: &quot;save/filename/input&quot;\\n  attr {\\n    key: &quot;dtype&quot;\\n    value {\\n      type: DT_STRING\\n    }\\n  }\\n  attr {\\n    key: &quot;shape&quot;\\n    value {\\n      shape {\\n      }\\n    }\\n  }\\n}\\nnode {\\n  name: &quot;save/Const&quot;\\n  op: &quot;PlaceholderWithDefault&quot;\\n  input: &quot;save/filename&quot;\\n  attr {\\n    key: &quot;dtype&quot;\\n    value {\\n      type: DT_STRING\\n    }\\n  }\\n  attr {\\n    key: &quot;shape&quot;\\n    value {\\n      shape {\\n      }\\n    }\\n  }\\n}\\nnode {\\n  name: &quot;save/SaveV2/tensor_names&quot;\\n  op: &quot;Const&quot;\\n  attr {\\n    key: &quot;dtype&quot;\\n    value {\\n      type: DT_STRING\\n    }\\n  }\\n  attr {\\n    key: &quot;value&quot;\\n    value {\\n      tensor {\\n        dtype: DT_STRING\\n        tensor_shape {\\n          dim {\\n            size: 29\\n          }\\n        }\\n        string_val: &quot;B0&quot;\\n        string_val: &quot;B0/Min_dL&quot;\\n        string_val: &quot;B0/Min_dL_1&quot;\\n        string_val: &quot;B1&quot;\\n        string_val: &quot;B1/Min_dL&quot;\\n        string_val: &quot;B1/Min_dL_1&quot;\\n        string_val: &quot;B2&quot;\\n        string_val: &quot;B2/Min_dL&quot;\\n        string_val: &quot;B2/Min_dL_1&quot;\\n        string_val: &quot;B3&quot;\\n        string_val: &quot;B3/Min_dL&quot;\\n        string_val: &quot;B3/Min_dL_1&quot;\\n        string_val: &quot;BACKWARD_PROPAGATION/beta1_power&quot;\\n        string_val: &quot;BACKWARD_PROPAGATION/beta2_power&quot;\\n        string_val: &quot;W0&quot;\\n        string_val: &quot;W0/Min_dL&quot;\\n        string_val: &quot;W0/Min_dL_1&quot;\\n        string_val: &quot;W1&quot;\\n        string_val: &quot;W1/Min_dL&quot;\\n        string_val: &quot;W1/Min_dL_1&quot;\\n        string_val: &quot;W2&quot;\\n        string_val: &quot;W2/Min_dL&quot;\\n        string_val: &quot;W2/Min_dL_1&quot;\\n        string_val: &quot;W3&quot;\\n        string_val: &quot;W3/Min_dL&quot;\\n        string_val: &quot;W3/Min_dL_1&quot;\\n        string_val: &quot;W4&quot;\\n        string_val: &quot;W4/Min_dL&quot;\\n        string_val: &quot;W4/Min_dL_1&quot;\\n      }\\n    }\\n  }\\n}\\nnode {\\n  name: &quot;save/SaveV2/shape_and_slices&quot;\\n  op: &quot;Const&quot;\\n  attr {\\n    key: &quot;dtype&quot;\\n    value {\\n      type: DT_STRING\\n    }\\n  }\\n  attr {\\n    key: &quot;value&quot;\\n    value {\\n      tensor {\\n        dtype: DT_STRING\\n        tensor_shape {\\n          dim {\\n            size: 29\\n          }\\n        }\\n        string_val: &quot;&quot;\\n        string_val: &quot;&quot;\\n        string_val: &quot;&quot;\\n        string_val: &quot;&quot;\\n        string_val: &quot;&quot;\\n        string_val: &quot;&quot;\\n        string_val: &quot;&quot;\\n        string_val: &quot;&quot;\\n        string_val: &quot;&quot;\\n        string_val: &quot;&quot;\\n        string_val: &quot;&quot;\\n        string_val: &quot;&quot;\\n        string_val: &quot;&quot;\\n        string_val: &quot;&quot;\\n        string_val: &quot;&quot;\\n        string_val: &quot;&quot;\\n        string_val: &quot;&quot;\\n        string_val: &quot;&quot;\\n        string_val: &quot;&quot;\\n        string_val: &quot;&quot;\\n        string_val: &quot;&quot;\\n        string_val: &quot;&quot;\\n        string_val: &quot;&quot;\\n        string_val: &quot;&quot;\\n        string_val: &quot;&quot;\\n        string_val: &quot;&quot;\\n        string_val: &quot;&quot;\\n        string_val: &quot;&quot;\\n        string_val: &quot;&quot;\\n      }\\n    }\\n  }\\n}\\nnode {\\n  name: &quot;save/SaveV2&quot;\\n  op: &quot;SaveV2&quot;\\n  input: &quot;save/Const&quot;\\n  input: &quot;save/SaveV2/tensor_names&quot;\\n  input: &quot;save/SaveV2/shape_and_slices&quot;\\n  input: &quot;B0&quot;\\n  input: &quot;B0/Min_dL&quot;\\n  input: &quot;B0/Min_dL_1&quot;\\n  input: &quot;B1&quot;\\n  input: &quot;B1/Min_dL&quot;\\n  input: &quot;B1/Min_dL_1&quot;\\n  input: &quot;B2&quot;\\n  input: &quot;B2/Min_dL&quot;\\n  input: &quot;B2/Min_dL_1&quot;\\n  input: &quot;B3&quot;\\n  input: &quot;B3/Min_dL&quot;\\n  input: &quot;B3/Min_dL_1&quot;\\n  input: &quot;BACKWARD_PROPAGATION/beta1_power&quot;\\n  input: &quot;BACKWARD_PROPAGATION/beta2_power&quot;\\n  input: &quot;W0&quot;\\n  input: &quot;W0/Min_dL&quot;\\n  input: &quot;W0/Min_dL_1&quot;\\n  input: &quot;W1&quot;\\n  input: &quot;W1/Min_dL&quot;\\n  input: &quot;W1/Min_dL_1&quot;\\n  input: &quot;W2&quot;\\n  input: &quot;W2/Min_dL&quot;\\n  input: &quot;W2/Min_dL_1&quot;\\n  input: &quot;W3&quot;\\n  input: &quot;W3/Min_dL&quot;\\n  input: &quot;W3/Min_dL_1&quot;\\n  input: &quot;W4&quot;\\n  input: &quot;W4/Min_dL&quot;\\n  input: &quot;W4/Min_dL_1&quot;\\n  attr {\\n    key: &quot;dtypes&quot;\\n    value {\\n      list {\\n        type: DT_FLOAT\\n        type: DT_FLOAT\\n        type: DT_FLOAT\\n        type: DT_FLOAT\\n        type: DT_FLOAT\\n        type: DT_FLOAT\\n        type: DT_FLOAT\\n        type: DT_FLOAT\\n        type: DT_FLOAT\\n        type: DT_FLOAT\\n        type: DT_FLOAT\\n        type: DT_FLOAT\\n        type: DT_FLOAT\\n        type: DT_FLOAT\\n        type: DT_FLOAT\\n        type: DT_FLOAT\\n        type: DT_FLOAT\\n        type: DT_FLOAT\\n        type: DT_FLOAT\\n        type: DT_FLOAT\\n        type: DT_FLOAT\\n        type: DT_FLOAT\\n        type: DT_FLOAT\\n        type: DT_FLOAT\\n        type: DT_FLOAT\\n        type: DT_FLOAT\\n        type: DT_FLOAT\\n        type: DT_FLOAT\\n        type: DT_FLOAT\\n      }\\n    }\\n  }\\n}\\nnode {\\n  name: &quot;save/control_dependency&quot;\\n  op: &quot;Identity&quot;\\n  input: &quot;save/Const&quot;\\n  input: &quot;^save/SaveV2&quot;\\n  attr {\\n    key: &quot;T&quot;\\n    value {\\n      type: DT_STRING\\n    }\\n  }\\n  attr {\\n    key: &quot;_class&quot;\\n    value {\\n      list {\\n        s: &quot;loc:@save/Const&quot;\\n      }\\n    }\\n  }\\n}\\nnode {\\n  name: &quot;save/RestoreV2/tensor_names&quot;\\n  op: &quot;Const&quot;\\n  device: &quot;/device:CPU:0&quot;\\n  attr {\\n    key: &quot;dtype&quot;\\n    value {\\n      type: DT_STRING\\n    }\\n  }\\n  attr {\\n    key: &quot;value&quot;\\n    value {\\n      tensor {\\n        dtype: DT_STRING\\n        tensor_shape {\\n          dim {\\n            size: 29\\n          }\\n        }\\n        string_val: &quot;B0&quot;\\n        string_val: &quot;B0/Min_dL&quot;\\n        string_val: &quot;B0/Min_dL_1&quot;\\n        string_val: &quot;B1&quot;\\n        string_val: &quot;B1/Min_dL&quot;\\n        string_val: &quot;B1/Min_dL_1&quot;\\n        string_val: &quot;B2&quot;\\n        string_val: &quot;B2/Min_dL&quot;\\n        string_val: &quot;B2/Min_dL_1&quot;\\n        string_val: &quot;B3&quot;\\n        string_val: &quot;B3/Min_dL&quot;\\n        string_val: &quot;B3/Min_dL_1&quot;\\n        string_val: &quot;BACKWARD_PROPAGATION/beta1_power&quot;\\n        string_val: &quot;BACKWARD_PROPAGATION/beta2_power&quot;\\n        string_val: &quot;W0&quot;\\n        string_val: &quot;W0/Min_dL&quot;\\n        string_val: &quot;W0/Min_dL_1&quot;\\n        string_val: &quot;W1&quot;\\n        string_val: &quot;W1/Min_dL&quot;\\n        string_val: &quot;W1/Min_dL_1&quot;\\n        string_val: &quot;W2&quot;\\n        string_val: &quot;W2/Min_dL&quot;\\n        string_val: &quot;W2/Min_dL_1&quot;\\n        string_val: &quot;W3&quot;\\n        string_val: &quot;W3/Min_dL&quot;\\n        string_val: &quot;W3/Min_dL_1&quot;\\n        string_val: &quot;W4&quot;\\n        string_val: &quot;W4/Min_dL&quot;\\n        string_val: &quot;W4/Min_dL_1&quot;\\n      }\\n    }\\n  }\\n}\\nnode {\\n  name: &quot;save/RestoreV2/shape_and_slices&quot;\\n  op: &quot;Const&quot;\\n  device: &quot;/device:CPU:0&quot;\\n  attr {\\n    key: &quot;dtype&quot;\\n    value {\\n      type: DT_STRING\\n    }\\n  }\\n  attr {\\n    key: &quot;value&quot;\\n    value {\\n      tensor {\\n        dtype: DT_STRING\\n        tensor_shape {\\n          dim {\\n            size: 29\\n          }\\n        }\\n        string_val: &quot;&quot;\\n        string_val: &quot;&quot;\\n        string_val: &quot;&quot;\\n        string_val: &quot;&quot;\\n        string_val: &quot;&quot;\\n        string_val: &quot;&quot;\\n        string_val: &quot;&quot;\\n        string_val: &quot;&quot;\\n        string_val: &quot;&quot;\\n        string_val: &quot;&quot;\\n        string_val: &quot;&quot;\\n        string_val: &quot;&quot;\\n        string_val: &quot;&quot;\\n        string_val: &quot;&quot;\\n        string_val: &quot;&quot;\\n        string_val: &quot;&quot;\\n        string_val: &quot;&quot;\\n        string_val: &quot;&quot;\\n        string_val: &quot;&quot;\\n        string_val: &quot;&quot;\\n        string_val: &quot;&quot;\\n        string_val: &quot;&quot;\\n        string_val: &quot;&quot;\\n        string_val: &quot;&quot;\\n        string_val: &quot;&quot;\\n        string_val: &quot;&quot;\\n        string_val: &quot;&quot;\\n        string_val: &quot;&quot;\\n        string_val: &quot;&quot;\\n      }\\n    }\\n  }\\n}\\nnode {\\n  name: &quot;save/RestoreV2&quot;\\n  op: &quot;RestoreV2&quot;\\n  input: &quot;save/Const&quot;\\n  input: &quot;save/RestoreV2/tensor_names&quot;\\n  input: &quot;save/RestoreV2/shape_and_slices&quot;\\n  device: &quot;/device:CPU:0&quot;\\n  attr {\\n    key: &quot;dtypes&quot;\\n    value {\\n      list {\\n        type: DT_FLOAT\\n        type: DT_FLOAT\\n        type: DT_FLOAT\\n        type: DT_FLOAT\\n        type: DT_FLOAT\\n        type: DT_FLOAT\\n        type: DT_FLOAT\\n        type: DT_FLOAT\\n        type: DT_FLOAT\\n        type: DT_FLOAT\\n        type: DT_FLOAT\\n        type: DT_FLOAT\\n        type: DT_FLOAT\\n        type: DT_FLOAT\\n        type: DT_FLOAT\\n        type: DT_FLOAT\\n        type: DT_FLOAT\\n        type: DT_FLOAT\\n        type: DT_FLOAT\\n        type: DT_FLOAT\\n        type: DT_FLOAT\\n        type: DT_FLOAT\\n        type: DT_FLOAT\\n        type: DT_FLOAT\\n        type: DT_FLOAT\\n        type: DT_FLOAT\\n        type: DT_FLOAT\\n        type: DT_FLOAT\\n        type: DT_FLOAT\\n      }\\n    }\\n  }\\n}\\nnode {\\n  name: &quot;save/Assign&quot;\\n  op: &quot;Assign&quot;\\n  input: &quot;B0&quot;\\n  input: &quot;save/RestoreV2&quot;\\n  attr {\\n    key: &quot;T&quot;\\n    value {\\n      type: DT_FLOAT\\n    }\\n  }\\n  attr {\\n    key: &quot;_class&quot;\\n    value {\\n      list {\\n        s: &quot;loc:@B0&quot;\\n      }\\n    }\\n  }\\n  attr {\\n    key: &quot;use_locking&quot;\\n    value {\\n      b: true\\n    }\\n  }\\n  attr {\\n    key: &quot;validate_shape&quot;\\n    value {\\n      b: true\\n    }\\n  }\\n}\\nnode {\\n  name: &quot;save/Assign_1&quot;\\n  op: &quot;Assign&quot;\\n  input: &quot;B0/Min_dL&quot;\\n  input: &quot;save/RestoreV2:1&quot;\\n  attr {\\n    key: &quot;T&quot;\\n    value {\\n      type: DT_FLOAT\\n    }\\n  }\\n  attr {\\n    key: &quot;_class&quot;\\n    value {\\n      list {\\n        s: &quot;loc:@B0&quot;\\n      }\\n    }\\n  }\\n  attr {\\n    key: &quot;use_locking&quot;\\n    value {\\n      b: true\\n    }\\n  }\\n  attr {\\n    key: &quot;validate_shape&quot;\\n    value {\\n      b: true\\n    }\\n  }\\n}\\nnode {\\n  name: &quot;save/Assign_2&quot;\\n  op: &quot;Assign&quot;\\n  input: &quot;B0/Min_dL_1&quot;\\n  input: &quot;save/RestoreV2:2&quot;\\n  attr {\\n    key: &quot;T&quot;\\n    value {\\n      type: DT_FLOAT\\n    }\\n  }\\n  attr {\\n    key: &quot;_class&quot;\\n    value {\\n      list {\\n        s: &quot;loc:@B0&quot;\\n      }\\n    }\\n  }\\n  attr {\\n    key: &quot;use_locking&quot;\\n    value {\\n      b: true\\n    }\\n  }\\n  attr {\\n    key: &quot;validate_shape&quot;\\n    value {\\n      b: true\\n    }\\n  }\\n}\\nnode {\\n  name: &quot;save/Assign_3&quot;\\n  op: &quot;Assign&quot;\\n  input: &quot;B1&quot;\\n  input: &quot;save/RestoreV2:3&quot;\\n  attr {\\n    key: &quot;T&quot;\\n    value {\\n      type: DT_FLOAT\\n    }\\n  }\\n  attr {\\n    key: &quot;_class&quot;\\n    value {\\n      list {\\n        s: &quot;loc:@B1&quot;\\n      }\\n    }\\n  }\\n  attr {\\n    key: &quot;use_locking&quot;\\n    value {\\n      b: true\\n    }\\n  }\\n  attr {\\n    key: &quot;validate_shape&quot;\\n    value {\\n      b: true\\n    }\\n  }\\n}\\nnode {\\n  name: &quot;save/Assign_4&quot;\\n  op: &quot;Assign&quot;\\n  input: &quot;B1/Min_dL&quot;\\n  input: &quot;save/RestoreV2:4&quot;\\n  attr {\\n    key: &quot;T&quot;\\n    value {\\n      type: DT_FLOAT\\n    }\\n  }\\n  attr {\\n    key: &quot;_class&quot;\\n    value {\\n      list {\\n        s: &quot;loc:@B1&quot;\\n      }\\n    }\\n  }\\n  attr {\\n    key: &quot;use_locking&quot;\\n    value {\\n      b: true\\n    }\\n  }\\n  attr {\\n    key: &quot;validate_shape&quot;\\n    value {\\n      b: true\\n    }\\n  }\\n}\\nnode {\\n  name: &quot;save/Assign_5&quot;\\n  op: &quot;Assign&quot;\\n  input: &quot;B1/Min_dL_1&quot;\\n  input: &quot;save/RestoreV2:5&quot;\\n  attr {\\n    key: &quot;T&quot;\\n    value {\\n      type: DT_FLOAT\\n    }\\n  }\\n  attr {\\n    key: &quot;_class&quot;\\n    value {\\n      list {\\n        s: &quot;loc:@B1&quot;\\n      }\\n    }\\n  }\\n  attr {\\n    key: &quot;use_locking&quot;\\n    value {\\n      b: true\\n    }\\n  }\\n  attr {\\n    key: &quot;validate_shape&quot;\\n    value {\\n      b: true\\n    }\\n  }\\n}\\nnode {\\n  name: &quot;save/Assign_6&quot;\\n  op: &quot;Assign&quot;\\n  input: &quot;B2&quot;\\n  input: &quot;save/RestoreV2:6&quot;\\n  attr {\\n    key: &quot;T&quot;\\n    value {\\n      type: DT_FLOAT\\n    }\\n  }\\n  attr {\\n    key: &quot;_class&quot;\\n    value {\\n      list {\\n        s: &quot;loc:@B2&quot;\\n      }\\n    }\\n  }\\n  attr {\\n    key: &quot;use_locking&quot;\\n    value {\\n      b: true\\n    }\\n  }\\n  attr {\\n    key: &quot;validate_shape&quot;\\n    value {\\n      b: true\\n    }\\n  }\\n}\\nnode {\\n  name: &quot;save/Assign_7&quot;\\n  op: &quot;Assign&quot;\\n  input: &quot;B2/Min_dL&quot;\\n  input: &quot;save/RestoreV2:7&quot;\\n  attr {\\n    key: &quot;T&quot;\\n    value {\\n      type: DT_FLOAT\\n    }\\n  }\\n  attr {\\n    key: &quot;_class&quot;\\n    value {\\n      list {\\n        s: &quot;loc:@B2&quot;\\n      }\\n    }\\n  }\\n  attr {\\n    key: &quot;use_locking&quot;\\n    value {\\n      b: true\\n    }\\n  }\\n  attr {\\n    key: &quot;validate_shape&quot;\\n    value {\\n      b: true\\n    }\\n  }\\n}\\nnode {\\n  name: &quot;save/Assign_8&quot;\\n  op: &quot;Assign&quot;\\n  input: &quot;B2/Min_dL_1&quot;\\n  input: &quot;save/RestoreV2:8&quot;\\n  attr {\\n    key: &quot;T&quot;\\n    value {\\n      type: DT_FLOAT\\n    }\\n  }\\n  attr {\\n    key: &quot;_class&quot;\\n    value {\\n      list {\\n        s: &quot;loc:@B2&quot;\\n      }\\n    }\\n  }\\n  attr {\\n    key: &quot;use_locking&quot;\\n    value {\\n      b: true\\n    }\\n  }\\n  attr {\\n    key: &quot;validate_shape&quot;\\n    value {\\n      b: true\\n    }\\n  }\\n}\\nnode {\\n  name: &quot;save/Assign_9&quot;\\n  op: &quot;Assign&quot;\\n  input: &quot;B3&quot;\\n  input: &quot;save/RestoreV2:9&quot;\\n  attr {\\n    key: &quot;T&quot;\\n    value {\\n      type: DT_FLOAT\\n    }\\n  }\\n  attr {\\n    key: &quot;_class&quot;\\n    value {\\n      list {\\n        s: &quot;loc:@B3&quot;\\n      }\\n    }\\n  }\\n  attr {\\n    key: &quot;use_locking&quot;\\n    value {\\n      b: true\\n    }\\n  }\\n  attr {\\n    key: &quot;validate_shape&quot;\\n    value {\\n      b: true\\n    }\\n  }\\n}\\nnode {\\n  name: &quot;save/Assign_10&quot;\\n  op: &quot;Assign&quot;\\n  input: &quot;B3/Min_dL&quot;\\n  input: &quot;save/RestoreV2:10&quot;\\n  attr {\\n    key: &quot;T&quot;\\n    value {\\n      type: DT_FLOAT\\n    }\\n  }\\n  attr {\\n    key: &quot;_class&quot;\\n    value {\\n      list {\\n        s: &quot;loc:@B3&quot;\\n      }\\n    }\\n  }\\n  attr {\\n    key: &quot;use_locking&quot;\\n    value {\\n      b: true\\n    }\\n  }\\n  attr {\\n    key: &quot;validate_shape&quot;\\n    value {\\n      b: true\\n    }\\n  }\\n}\\nnode {\\n  name: &quot;save/Assign_11&quot;\\n  op: &quot;Assign&quot;\\n  input: &quot;B3/Min_dL_1&quot;\\n  input: &quot;save/RestoreV2:11&quot;\\n  attr {\\n    key: &quot;T&quot;\\n    value {\\n      type: DT_FLOAT\\n    }\\n  }\\n  attr {\\n    key: &quot;_class&quot;\\n    value {\\n      list {\\n        s: &quot;loc:@B3&quot;\\n      }\\n    }\\n  }\\n  attr {\\n    key: &quot;use_locking&quot;\\n    value {\\n      b: true\\n    }\\n  }\\n  attr {\\n    key: &quot;validate_shape&quot;\\n    value {\\n      b: true\\n    }\\n  }\\n}\\nnode {\\n  name: &quot;save/Assign_12&quot;\\n  op: &quot;Assign&quot;\\n  input: &quot;BACKWARD_PROPAGATION/beta1_power&quot;\\n  input: &quot;save/RestoreV2:12&quot;\\n  attr {\\n    key: &quot;T&quot;\\n    value {\\n      type: DT_FLOAT\\n    }\\n  }\\n  attr {\\n    key: &quot;_class&quot;\\n    value {\\n      list {\\n        s: &quot;loc:@B0&quot;\\n      }\\n    }\\n  }\\n  attr {\\n    key: &quot;use_locking&quot;\\n    value {\\n      b: true\\n    }\\n  }\\n  attr {\\n    key: &quot;validate_shape&quot;\\n    value {\\n      b: true\\n    }\\n  }\\n}\\nnode {\\n  name: &quot;save/Assign_13&quot;\\n  op: &quot;Assign&quot;\\n  input: &quot;BACKWARD_PROPAGATION/beta2_power&quot;\\n  input: &quot;save/RestoreV2:13&quot;\\n  attr {\\n    key: &quot;T&quot;\\n    value {\\n      type: DT_FLOAT\\n    }\\n  }\\n  attr {\\n    key: &quot;_class&quot;\\n    value {\\n      list {\\n        s: &quot;loc:@B0&quot;\\n      }\\n    }\\n  }\\n  attr {\\n    key: &quot;use_locking&quot;\\n    value {\\n      b: true\\n    }\\n  }\\n  attr {\\n    key: &quot;validate_shape&quot;\\n    value {\\n      b: true\\n    }\\n  }\\n}\\nnode {\\n  name: &quot;save/Assign_14&quot;\\n  op: &quot;Assign&quot;\\n  input: &quot;W0&quot;\\n  input: &quot;save/RestoreV2:14&quot;\\n  attr {\\n    key: &quot;T&quot;\\n    value {\\n      type: DT_FLOAT\\n    }\\n  }\\n  attr {\\n    key: &quot;_class&quot;\\n    value {\\n      list {\\n        s: &quot;loc:@W0&quot;\\n      }\\n    }\\n  }\\n  attr {\\n    key: &quot;use_locking&quot;\\n    value {\\n      b: true\\n    }\\n  }\\n  attr {\\n    key: &quot;validate_shape&quot;\\n    value {\\n      b: true\\n    }\\n  }\\n}\\nnode {\\n  name: &quot;save/Assign_15&quot;\\n  op: &quot;Assign&quot;\\n  input: &quot;W0/Min_dL&quot;\\n  input: &quot;save/RestoreV2:15&quot;\\n  attr {\\n    key: &quot;T&quot;\\n    value {\\n      type: DT_FLOAT\\n    }\\n  }\\n  attr {\\n    key: &quot;_class&quot;\\n    value {\\n      list {\\n        s: &quot;loc:@W0&quot;\\n      }\\n    }\\n  }\\n  attr {\\n    key: &quot;use_locking&quot;\\n    value {\\n      b: true\\n    }\\n  }\\n  attr {\\n    key: &quot;validate_shape&quot;\\n    value {\\n      b: true\\n    }\\n  }\\n}\\nnode {\\n  name: &quot;save/Assign_16&quot;\\n  op: &quot;Assign&quot;\\n  input: &quot;W0/Min_dL_1&quot;\\n  input: &quot;save/RestoreV2:16&quot;\\n  attr {\\n    key: &quot;T&quot;\\n    value {\\n      type: DT_FLOAT\\n    }\\n  }\\n  attr {\\n    key: &quot;_class&quot;\\n    value {\\n      list {\\n        s: &quot;loc:@W0&quot;\\n      }\\n    }\\n  }\\n  attr {\\n    key: &quot;use_locking&quot;\\n    value {\\n      b: true\\n    }\\n  }\\n  attr {\\n    key: &quot;validate_shape&quot;\\n    value {\\n      b: true\\n    }\\n  }\\n}\\nnode {\\n  name: &quot;save/Assign_17&quot;\\n  op: &quot;Assign&quot;\\n  input: &quot;W1&quot;\\n  input: &quot;save/RestoreV2:17&quot;\\n  attr {\\n    key: &quot;T&quot;\\n    value {\\n      type: DT_FLOAT\\n    }\\n  }\\n  attr {\\n    key: &quot;_class&quot;\\n    value {\\n      list {\\n        s: &quot;loc:@W1&quot;\\n      }\\n    }\\n  }\\n  attr {\\n    key: &quot;use_locking&quot;\\n    value {\\n      b: true\\n    }\\n  }\\n  attr {\\n    key: &quot;validate_shape&quot;\\n    value {\\n      b: true\\n    }\\n  }\\n}\\nnode {\\n  name: &quot;save/Assign_18&quot;\\n  op: &quot;Assign&quot;\\n  input: &quot;W1/Min_dL&quot;\\n  input: &quot;save/RestoreV2:18&quot;\\n  attr {\\n    key: &quot;T&quot;\\n    value {\\n      type: DT_FLOAT\\n    }\\n  }\\n  attr {\\n    key: &quot;_class&quot;\\n    value {\\n      list {\\n        s: &quot;loc:@W1&quot;\\n      }\\n    }\\n  }\\n  attr {\\n    key: &quot;use_locking&quot;\\n    value {\\n      b: true\\n    }\\n  }\\n  attr {\\n    key: &quot;validate_shape&quot;\\n    value {\\n      b: true\\n    }\\n  }\\n}\\nnode {\\n  name: &quot;save/Assign_19&quot;\\n  op: &quot;Assign&quot;\\n  input: &quot;W1/Min_dL_1&quot;\\n  input: &quot;save/RestoreV2:19&quot;\\n  attr {\\n    key: &quot;T&quot;\\n    value {\\n      type: DT_FLOAT\\n    }\\n  }\\n  attr {\\n    key: &quot;_class&quot;\\n    value {\\n      list {\\n        s: &quot;loc:@W1&quot;\\n      }\\n    }\\n  }\\n  attr {\\n    key: &quot;use_locking&quot;\\n    value {\\n      b: true\\n    }\\n  }\\n  attr {\\n    key: &quot;validate_shape&quot;\\n    value {\\n      b: true\\n    }\\n  }\\n}\\nnode {\\n  name: &quot;save/Assign_20&quot;\\n  op: &quot;Assign&quot;\\n  input: &quot;W2&quot;\\n  input: &quot;save/RestoreV2:20&quot;\\n  attr {\\n    key: &quot;T&quot;\\n    value {\\n      type: DT_FLOAT\\n    }\\n  }\\n  attr {\\n    key: &quot;_class&quot;\\n    value {\\n      list {\\n        s: &quot;loc:@W2&quot;\\n      }\\n    }\\n  }\\n  attr {\\n    key: &quot;use_locking&quot;\\n    value {\\n      b: true\\n    }\\n  }\\n  attr {\\n    key: &quot;validate_shape&quot;\\n    value {\\n      b: true\\n    }\\n  }\\n}\\nnode {\\n  name: &quot;save/Assign_21&quot;\\n  op: &quot;Assign&quot;\\n  input: &quot;W2/Min_dL&quot;\\n  input: &quot;save/RestoreV2:21&quot;\\n  attr {\\n    key: &quot;T&quot;\\n    value {\\n      type: DT_FLOAT\\n    }\\n  }\\n  attr {\\n    key: &quot;_class&quot;\\n    value {\\n      list {\\n        s: &quot;loc:@W2&quot;\\n      }\\n    }\\n  }\\n  attr {\\n    key: &quot;use_locking&quot;\\n    value {\\n      b: true\\n    }\\n  }\\n  attr {\\n    key: &quot;validate_shape&quot;\\n    value {\\n      b: true\\n    }\\n  }\\n}\\nnode {\\n  name: &quot;save/Assign_22&quot;\\n  op: &quot;Assign&quot;\\n  input: &quot;W2/Min_dL_1&quot;\\n  input: &quot;save/RestoreV2:22&quot;\\n  attr {\\n    key: &quot;T&quot;\\n    value {\\n      type: DT_FLOAT\\n    }\\n  }\\n  attr {\\n    key: &quot;_class&quot;\\n    value {\\n      list {\\n        s: &quot;loc:@W2&quot;\\n      }\\n    }\\n  }\\n  attr {\\n    key: &quot;use_locking&quot;\\n    value {\\n      b: true\\n    }\\n  }\\n  attr {\\n    key: &quot;validate_shape&quot;\\n    value {\\n      b: true\\n    }\\n  }\\n}\\nnode {\\n  name: &quot;save/Assign_23&quot;\\n  op: &quot;Assign&quot;\\n  input: &quot;W3&quot;\\n  input: &quot;save/RestoreV2:23&quot;\\n  attr {\\n    key: &quot;T&quot;\\n    value {\\n      type: DT_FLOAT\\n    }\\n  }\\n  attr {\\n    key: &quot;_class&quot;\\n    value {\\n      list {\\n        s: &quot;loc:@W3&quot;\\n      }\\n    }\\n  }\\n  attr {\\n    key: &quot;use_locking&quot;\\n    value {\\n      b: true\\n    }\\n  }\\n  attr {\\n    key: &quot;validate_shape&quot;\\n    value {\\n      b: true\\n    }\\n  }\\n}\\nnode {\\n  name: &quot;save/Assign_24&quot;\\n  op: &quot;Assign&quot;\\n  input: &quot;W3/Min_dL&quot;\\n  input: &quot;save/RestoreV2:24&quot;\\n  attr {\\n    key: &quot;T&quot;\\n    value {\\n      type: DT_FLOAT\\n    }\\n  }\\n  attr {\\n    key: &quot;_class&quot;\\n    value {\\n      list {\\n        s: &quot;loc:@W3&quot;\\n      }\\n    }\\n  }\\n  attr {\\n    key: &quot;use_locking&quot;\\n    value {\\n      b: true\\n    }\\n  }\\n  attr {\\n    key: &quot;validate_shape&quot;\\n    value {\\n      b: true\\n    }\\n  }\\n}\\nnode {\\n  name: &quot;save/Assign_25&quot;\\n  op: &quot;Assign&quot;\\n  input: &quot;W3/Min_dL_1&quot;\\n  input: &quot;save/RestoreV2:25&quot;\\n  attr {\\n    key: &quot;T&quot;\\n    value {\\n      type: DT_FLOAT\\n    }\\n  }\\n  attr {\\n    key: &quot;_class&quot;\\n    value {\\n      list {\\n        s: &quot;loc:@W3&quot;\\n      }\\n    }\\n  }\\n  attr {\\n    key: &quot;use_locking&quot;\\n    value {\\n      b: true\\n    }\\n  }\\n  attr {\\n    key: &quot;validate_shape&quot;\\n    value {\\n      b: true\\n    }\\n  }\\n}\\nnode {\\n  name: &quot;save/Assign_26&quot;\\n  op: &quot;Assign&quot;\\n  input: &quot;W4&quot;\\n  input: &quot;save/RestoreV2:26&quot;\\n  attr {\\n    key: &quot;T&quot;\\n    value {\\n      type: DT_FLOAT\\n    }\\n  }\\n  attr {\\n    key: &quot;_class&quot;\\n    value {\\n      list {\\n        s: &quot;loc:@W4&quot;\\n      }\\n    }\\n  }\\n  attr {\\n    key: &quot;use_locking&quot;\\n    value {\\n      b: true\\n    }\\n  }\\n  attr {\\n    key: &quot;validate_shape&quot;\\n    value {\\n      b: true\\n    }\\n  }\\n}\\nnode {\\n  name: &quot;save/Assign_27&quot;\\n  op: &quot;Assign&quot;\\n  input: &quot;W4/Min_dL&quot;\\n  input: &quot;save/RestoreV2:27&quot;\\n  attr {\\n    key: &quot;T&quot;\\n    value {\\n      type: DT_FLOAT\\n    }\\n  }\\n  attr {\\n    key: &quot;_class&quot;\\n    value {\\n      list {\\n        s: &quot;loc:@W4&quot;\\n      }\\n    }\\n  }\\n  attr {\\n    key: &quot;use_locking&quot;\\n    value {\\n      b: true\\n    }\\n  }\\n  attr {\\n    key: &quot;validate_shape&quot;\\n    value {\\n      b: true\\n    }\\n  }\\n}\\nnode {\\n  name: &quot;save/Assign_28&quot;\\n  op: &quot;Assign&quot;\\n  input: &quot;W4/Min_dL_1&quot;\\n  input: &quot;save/RestoreV2:28&quot;\\n  attr {\\n    key: &quot;T&quot;\\n    value {\\n      type: DT_FLOAT\\n    }\\n  }\\n  attr {\\n    key: &quot;_class&quot;\\n    value {\\n      list {\\n        s: &quot;loc:@W4&quot;\\n      }\\n    }\\n  }\\n  attr {\\n    key: &quot;use_locking&quot;\\n    value {\\n      b: true\\n    }\\n  }\\n  attr {\\n    key: &quot;validate_shape&quot;\\n    value {\\n      b: true\\n    }\\n  }\\n}\\nnode {\\n  name: &quot;save/restore_all&quot;\\n  op: &quot;NoOp&quot;\\n  input: &quot;^save/Assign&quot;\\n  input: &quot;^save/Assign_1&quot;\\n  input: &quot;^save/Assign_10&quot;\\n  input: &quot;^save/Assign_11&quot;\\n  input: &quot;^save/Assign_12&quot;\\n  input: &quot;^save/Assign_13&quot;\\n  input: &quot;^save/Assign_14&quot;\\n  input: &quot;^save/Assign_15&quot;\\n  input: &quot;^save/Assign_16&quot;\\n  input: &quot;^save/Assign_17&quot;\\n  input: &quot;^save/Assign_18&quot;\\n  input: &quot;^save/Assign_19&quot;\\n  input: &quot;^save/Assign_2&quot;\\n  input: &quot;^save/Assign_20&quot;\\n  input: &quot;^save/Assign_21&quot;\\n  input: &quot;^save/Assign_22&quot;\\n  input: &quot;^save/Assign_23&quot;\\n  input: &quot;^save/Assign_24&quot;\\n  input: &quot;^save/Assign_25&quot;\\n  input: &quot;^save/Assign_26&quot;\\n  input: &quot;^save/Assign_27&quot;\\n  input: &quot;^save/Assign_28&quot;\\n  input: &quot;^save/Assign_3&quot;\\n  input: &quot;^save/Assign_4&quot;\\n  input: &quot;^save/Assign_5&quot;\\n  input: &quot;^save/Assign_6&quot;\\n  input: &quot;^save/Assign_7&quot;\\n  input: &quot;^save/Assign_8&quot;\\n  input: &quot;^save/Assign_9&quot;\\n}\\n';\n",
       "          }\n",
       "        </script>\n",
       "        <link rel=&quot;import&quot; href=&quot;https://tensorboard.appspot.com/tf-graph-basic.build.html&quot; onload=load()>\n",
       "        <div style=&quot;height:600px&quot;>\n",
       "          <tf-graph-basic id=&quot;graph0.9321867016515264&quot;></tf-graph-basic>\n",
       "        </div>\n",
       "    \"></iframe>\n",
       "    "
      ],
      "text/plain": [
       "<IPython.core.display.HTML object>"
      ]
     },
     "metadata": {},
     "output_type": "display_data"
    }
   ],
   "source": [
    "show_graph(G)"
   ]
  },
  {
   "cell_type": "markdown",
   "metadata": {
    "colab_type": "text",
    "id": "YbfegTKSkzJY"
   },
   "source": [
    "### 6.5 Execute a session on `G`"
   ]
  },
  {
   "cell_type": "code",
   "execution_count": 53,
   "metadata": {
    "ExecuteTime": {
     "end_time": "2019-09-27T10:52:37.737585Z",
     "start_time": "2019-09-27T10:52:37.711311Z"
    }
   },
   "outputs": [],
   "source": [
    "# if you require you may uncomment this line to load the tensorboard command for Juypyter\n",
    "\n",
    "#%load_ext tensorboard"
   ]
  },
  {
   "cell_type": "code",
   "execution_count": 54,
   "metadata": {
    "ExecuteTime": {
     "end_time": "2019-09-27T10:53:26.340171Z",
     "start_time": "2019-09-27T10:52:37.738671Z"
    },
    "colab": {
     "base_uri": "https://localhost:8080/",
     "height": 1000
    },
    "colab_type": "code",
    "executionInfo": {
     "elapsed": 1892,
     "status": "error",
     "timestamp": 1569351654315,
     "user": {
      "displayName": "Debayan Das",
      "photoUrl": "https://lh3.googleusercontent.com/a-/AAuE7mCPNX8Wtoos0c5XaxvHiR-6zcv9ODit1wL-BW_RIQ=s64",
      "userId": "17278617961040804055"
     },
     "user_tz": -330
    },
    "id": "LApGHvcLiAFY",
    "outputId": "5431e25c-84e4-4645-b41a-7af744f8ec64",
    "pixiedust": {
     "displayParams": {}
    },
    "scrolled": false
   },
   "outputs": [
    {
     "name": "stdout",
     "output_type": "stream",
     "text": [
      " (Training)\n",
      "\n",
      " A - Training Accuracy\n",
      " L - Training Loss\n",
      " VA = Validation Accuracy\n",
      "\n",
      "\n",
      " Epoch 1:\tA = 58.27%\tL = 2.2824\tVA = 63.11%\n",
      " Epoch 2:\tA = 64.57%\tL = 1.3755\tVA = 65.44%\n",
      " Epoch 3:\tA = 66.69%\tL = 1.1328\tVA = 67.06%\n",
      " Epoch 4:\tA = 69.17%\tL = 0.9986\tVA = 69.48%\n",
      " Epoch 5:\tA = 71.19%\tL = 0.9291\tVA = 70.65%\n",
      " Epoch 6:\tA = 73.37%\tL = 0.8745\tVA = 71.27%\n",
      " Epoch 7:\tA = 74.14%\tL = 0.8214\tVA = 72.53%\n",
      " Epoch 8:\tA = 75.51%\tL = 0.8030\tVA = 72.71%\n",
      " Epoch 9:\tA = 77.44%\tL = 0.7778\tVA = 73.25%\n",
      " Epoch 10:\tA = 77.87%\tL = 0.7410\tVA = 73.52%\n",
      " Epoch 11:\tA = 79.51%\tL = 0.7105\tVA = 74.87%\n",
      " Epoch 12:\tA = 79.96%\tL = 0.7035\tVA = 75.22%\n",
      " Epoch 13:\tA = 81.36%\tL = 0.6815\tVA = 75.58%\n",
      " Epoch 14:\tA = 81.26%\tL = 0.6560\tVA = 76.03%\n",
      " Epoch 15:\tA = 82.61%\tL = 0.6524\tVA = 76.30%\n",
      " Epoch 16:\tA = 83.31%\tL = 0.6269\tVA = 77.47%\n",
      " Epoch 17:\tA = 83.28%\tL = 0.6258\tVA = 76.57%\n",
      " Epoch 18:\tA = 84.38%\tL = 0.5970\tVA = 77.65%\n",
      " Epoch 19:\tA = 84.63%\tL = 0.5981\tVA = 78.55%\n",
      " Epoch 20:\tA = 85.64%\tL = 0.5731\tVA = 77.92%\n",
      " Epoch 21:\tA = 86.06%\tL = 0.5646\tVA = 78.90%\n",
      " Epoch 22:\tA = 86.49%\tL = 0.5593\tVA = 77.83%\n",
      " Epoch 23:\tA = 86.68%\tL = 0.5595\tVA = 79.80%\n",
      " Epoch 24:\tA = 86.95%\tL = 0.5329\tVA = 79.44%\n",
      " Epoch 25:\tA = 87.14%\tL = 0.5335\tVA = 79.44%\n",
      " Epoch 26:\tA = 88.15%\tL = 0.5375\tVA = 79.89%\n",
      " Epoch 27:\tA = 88.16%\tL = 0.5205\tVA = 79.44%\n",
      " Epoch 28:\tA = 88.87%\tL = 0.5251\tVA = 79.62%\n",
      " Epoch 29:\tA = 88.13%\tL = 0.4996\tVA = 80.25%\n",
      " Epoch 30:\tA = 89.13%\tL = 0.5143\tVA = 79.89%\n",
      " Epoch 31:\tA = 88.91%\tL = 0.4895\tVA = 80.34%\n",
      " Epoch 32:\tA = 89.82%\tL = 0.4850\tVA = 79.62%\n",
      " Epoch 33:\tA = 89.71%\tL = 0.4869\tVA = 80.70%\n",
      " Epoch 34:\tA = 89.80%\tL = 0.4769\tVA = 80.70%\n",
      " Epoch 35:\tA = 89.48%\tL = 0.4651\tVA = 80.88%\n",
      " Epoch 36:\tA = 90.06%\tL = 0.4511\tVA = 81.33%\n",
      " Epoch 37:\tA = 90.37%\tL = 0.4679\tVA = 81.33%\n",
      " Epoch 38:\tA = 90.50%\tL = 0.4554\tVA = 81.15%\n",
      " Epoch 39:\tA = 90.40%\tL = 0.4586\tVA = 80.97%\n",
      " Epoch 40:\tA = 90.52%\tL = 0.4399\tVA = 80.97%\n",
      " Epoch 41:\tA = 90.91%\tL = 0.4410\tVA = 80.52%\n",
      " Epoch 42:\tA = 90.95%\tL = 0.4353\tVA = 80.88%\n",
      " Epoch 43:\tA = 91.10%\tL = 0.4323\tVA = 81.69%\n",
      " Epoch 44:\tA = 91.84%\tL = 0.4168\tVA = 81.42%\n",
      " Epoch 45:\tA = 91.77%\tL = 0.4186\tVA = 81.24%\n",
      " Epoch 46:\tA = 91.74%\tL = 0.4153\tVA = 81.69%\n",
      " Epoch 47:\tA = 91.70%\tL = 0.4050\tVA = 81.87%\n",
      " Epoch 48:\tA = 92.08%\tL = 0.4123\tVA = 81.15%\n",
      " Epoch 49:\tA = 92.43%\tL = 0.4016\tVA = 81.51%\n",
      " Epoch 50:\tA = 92.44%\tL = 0.4062\tVA = 80.61%\n",
      " Epoch 51:\tA = 93.00%\tL = 0.4065\tVA = 81.33%\n",
      " Epoch 52:\tA = 92.66%\tL = 0.3889\tVA = 80.61%\n",
      " Epoch 53:\tA = 92.93%\tL = 0.3893\tVA = 81.60%\n",
      " Epoch 54:\tA = 93.22%\tL = 0.3882\tVA = 81.33%\n",
      " Epoch 55:\tA = 92.61%\tL = 0.3827\tVA = 81.24%\n",
      " Epoch 56:\tA = 93.52%\tL = 0.3823\tVA = 81.87%\n",
      " Epoch 57:\tA = 93.40%\tL = 0.3812\tVA = 81.06%\n",
      " Epoch 58:\tA = 93.01%\tL = 0.3807\tVA = 81.96%\n",
      " Epoch 59:\tA = 93.45%\tL = 0.3759\tVA = 81.87%\n",
      " Epoch 60:\tA = 92.90%\tL = 0.3680\tVA = 81.60%\n",
      " Epoch 61:\tA = 93.71%\tL = 0.3607\tVA = 82.05%\n",
      " Epoch 62:\tA = 93.48%\tL = 0.3745\tVA = 81.33%\n",
      " Epoch 63:\tA = 93.52%\tL = 0.3652\tVA = 81.87%\n",
      " Epoch 64:\tA = 93.95%\tL = 0.3620\tVA = 82.14%\n",
      " Epoch 65:\tA = 93.67%\tL = 0.3538\tVA = 81.69%\n",
      " Epoch 66:\tA = 93.43%\tL = 0.3527\tVA = 81.69%\n",
      " Epoch 67:\tA = 94.05%\tL = 0.3512\tVA = 81.87%\n",
      " Epoch 68:\tA = 93.76%\tL = 0.3452\tVA = 81.96%\n",
      " Epoch 69:\tA = 94.13%\tL = 0.3493\tVA = 81.87%\n",
      " Epoch 70:\tA = 93.79%\tL = 0.3414\tVA = 80.88%\n",
      " Epoch 71:\tA = 94.10%\tL = 0.3397\tVA = 81.69%\n",
      " Epoch 72:\tA = 94.26%\tL = 0.3381\tVA = 81.96%\n",
      " Epoch 73:\tA = 93.91%\tL = 0.3377\tVA = 81.60%\n",
      " Epoch 74:\tA = 94.48%\tL = 0.3331\tVA = 81.69%\n",
      " Epoch 75:\tA = 94.64%\tL = 0.3406\tVA = 81.96%\n",
      " Epoch 76:\tA = 94.49%\tL = 0.3360\tVA = 81.69%\n",
      " Epoch 77:\tA = 94.57%\tL = 0.3271\tVA = 81.96%\n",
      " Epoch 78:\tA = 94.44%\tL = 0.3288\tVA = 81.60%\n",
      " Epoch 79:\tA = 94.99%\tL = 0.3202\tVA = 81.51%\n",
      " Epoch 80:\tA = 94.64%\tL = 0.3252\tVA = 82.05%\n",
      " Epoch 81:\tA = 94.75%\tL = 0.3282\tVA = 81.69%\n",
      " Epoch 82:\tA = 94.84%\tL = 0.3210\tVA = 82.14%\n",
      " Epoch 83:\tA = 95.06%\tL = 0.3188\tVA = 82.50%\n",
      " Epoch 84:\tA = 95.19%\tL = 0.3122\tVA = 81.87%\n",
      " Epoch 85:\tA = 95.47%\tL = 0.3140\tVA = 82.68%\n",
      " Epoch 86:\tA = 94.89%\tL = 0.3140\tVA = 81.87%\n",
      " Epoch 87:\tA = 95.30%\tL = 0.3167\tVA = 81.78%\n",
      " Epoch 88:\tA = 94.84%\tL = 0.3075\tVA = 81.60%\n",
      " Epoch 89:\tA = 95.34%\tL = 0.2994\tVA = 81.87%\n",
      " Epoch 90:\tA = 95.30%\tL = 0.3012\tVA = 82.14%\n",
      " Epoch 91:\tA = 95.19%\tL = 0.3054\tVA = 82.50%\n",
      " Epoch 92:\tA = 95.33%\tL = 0.2975\tVA = 81.78%\n",
      " Epoch 93:\tA = 95.30%\tL = 0.3032\tVA = 81.87%\n",
      " Epoch 94:\tA = 95.61%\tL = 0.2938\tVA = 82.50%\n",
      " Epoch 95:\tA = 95.45%\tL = 0.3078\tVA = 81.60%\n",
      " Epoch 96:\tA = 95.54%\tL = 0.2991\tVA = 82.32%\n",
      " Epoch 97:\tA = 95.47%\tL = 0.3022\tVA = 81.96%\n",
      " Epoch 98:\tA = 95.78%\tL = 0.3024\tVA = 81.87%\n",
      " Epoch 99:\tA = 95.84%\tL = 0.3056\tVA = 81.87%\n",
      " Epoch 100:\tA = 95.41%\tL = 0.3044\tVA = 81.78%\n"
     ]
    }
   ],
   "source": [
    "tf.reset_default_graph()\n",
    "\n",
    "# `writer` will dump the summary data during training/validation which\n",
    "# will be read and visualized by tensorboard\n",
    "temp = FLAGS[\"tensorboard_data_dump\"]\n",
    "writer = tf.summary.FileWriter(temp)\n",
    "\n",
    "!rm -rf $temp/*\n",
    "!mkdir -p \"trained_model_dumps\"\n",
    "!rm -rf $trained_model_dumps/*.ckpt\n",
    "\n",
    "# if you require you may uncomment this line to launch the tensorboard inline\n",
    "#%tensorboard --logdir {temp}\n",
    "\n",
    "loss_history = []\n",
    "train_accuracy_history = []\n",
    "validation_accuracy_history = []\n",
    "\n",
    "with tf.Session(graph = G, config = config) as session:\n",
    "    \n",
    "    # initialize all `tf.Variables` declared in the graph\n",
    "    session.run(tf.global_variables_initializer())\n",
    "    \n",
    "    print(\" (Training)\\n\")\n",
    "    print(\" A - Training Accuracy\\n L - Training Loss\\n VA = Validation Accuracy\\n\\n\")\n",
    "    \n",
    "    # I wanted to visualize the graph in tensorboard too\n",
    "    writer.add_graph(G)\n",
    "    \n",
    "    for i in range(FLAGS[\"epochs\"]):\n",
    "        \n",
    "        # you will need to start the iterator so that they are ready to\n",
    "        # flow-transfer data into the graph\n",
    "        session.run(train_iterator.initializer)\n",
    "        session.run(val_iterator.initializer)\n",
    "        \n",
    "        temp_loss = 0\n",
    "        temp_accuracy = 0\n",
    "        \n",
    "        for j in range(number_of_batches):\n",
    "\n",
    "            # compute the loss by executing the loss sub-graph\n",
    "            L = session.run(loss)\n",
    "            \n",
    "            # perform backprop on the whole graph G\n",
    "            session.run(update_operation)\n",
    "            \n",
    "            # compute the training accuracy now the graph has been trained once\n",
    "            A = session.run(train_accuracy)\n",
    "            \n",
    "            # obtain a live summary object containing data dumps for the summary objects declared\n",
    "            # in conjunction with the graph G\n",
    "            summary = session.run(merged_summaries)\n",
    "        \n",
    "            temp_loss = temp_loss + L\n",
    "            temp_accuracy = temp_accuracy + A\n",
    "            \n",
    "            # dump the current summary object and mark it with iteration id = k\n",
    "            # here, k = the iteration number/step -after- i epochs and j mini-batches of training\n",
    "            k = (i + 1) * FLAGS[\"epochs\"] + (j + 1)\n",
    "            writer.add_summary(summary, k)\n",
    "        \n",
    "        # compute the validation accuracy by running the validation accuracy sub-graph after one epoch\n",
    "        temp_validation_accuracy = session.run(validation_accuracy)\n",
    "        \n",
    "        # ought to add the summary collected for the validation accuracy data\n",
    "        summary = session.run(validation_accuracy_summary)\n",
    "        writer.add_summary(summary, k)        \n",
    "        \n",
    "        # compute the average loss and average accuracy after each epoch\n",
    "        temp_loss = temp_loss/number_of_batches\n",
    "        temp_accuracy = temp_accuracy/number_of_batches\n",
    "        \n",
    "        # record loss, train accuracy and validation accuracy so that we plot some graphs\n",
    "        loss_history.append(temp_loss)\n",
    "        train_accuracy_history.append(temp_accuracy)\n",
    "        validation_accuracy_history.append(temp_validation_accuracy)\n",
    "        \n",
    "        print(\" Epoch %i:\\tA = %0.02f%%\\tL = %0.04f\\tVA = %0.02f%%\" % ((i + 1), \n",
    "                                                                    temp_accuracy * 100, \n",
    "                                                                    temp_loss, \n",
    "                                                                    temp_validation_accuracy * 100))\n",
    "        \n",
    "        # make sure the any pending dumping work on the summary writer object is cleared\n",
    "        writer.flush()\n",
    "        \n",
    "    # the training is complete, so now we can close the open write stream associated\n",
    "    writer.close()\n",
    "    \n",
    "    # since we will be exiting our session after training, we ought to save all data associated with the session offline\n",
    "    model_dump_path = \"./trained_model_dumps/myModel_with_VA_\" + str(int(temp_validation_accuracy * 100)) + \"_percent.ckpt\"\n",
    "    saver.save(session, model_dump_path)"
   ]
  },
  {
   "cell_type": "markdown",
   "metadata": {},
   "source": [
    "### 6.5 Visualize loss, train accuracy and validation accuracy"
   ]
  },
  {
   "cell_type": "markdown",
   "metadata": {},
   "source": [
    "#### 6.5.1 In `matplotlib`"
   ]
  },
  {
   "cell_type": "code",
   "execution_count": 55,
   "metadata": {
    "ExecuteTime": {
     "end_time": "2019-09-27T10:53:26.758322Z",
     "start_time": "2019-09-27T10:53:26.345383Z"
    }
   },
   "outputs": [
    {
     "data": {
      "image/png": "[encoded data removed]",
      "text/plain": [
       "<Figure size 1224x864 with 3 Axes>"
      ]
     },
     "metadata": {
      "needs_background": "light"
     },
     "output_type": "display_data"
    }
   ],
   "source": [
    "plt.rcParams['figure.figsize'] = 17, 12\n",
    "plt.rcParams.update({'font.size': 20})\n",
    "plt.subplots_adjust(left = 0.125, bottom = 0.1, right = 0.9, top = 0.9, wspace = 0.8, hspace = 0.8)\n",
    "\n",
    "t = np.arange(len(train_accuracy_history))\n",
    "\n",
    "plt.subplot(3, 1, 1)\n",
    "plt.plot(t, loss_history, \"r\", label = \"LOSS INCURED\")\n",
    "plt.xlabel(\"Epochs\")\n",
    "plt.ylabel(\"Score\")\n",
    "plt.legend()\n",
    "plt.grid()\n",
    "\n",
    "plt.subplot(3, 1, 2)\n",
    "plt.plot(t, train_accuracy_history, \"b\", label = \"TRAINING ACCURACY\")\n",
    "plt.xlabel(\"Epochs\")\n",
    "plt.ylabel(\"Score\")\n",
    "plt.ylim([0, 1])\n",
    "plt.legend()\n",
    "plt.grid()\n",
    "\n",
    "t = np.arange(len(validation_accuracy_history))\n",
    "\n",
    "plt.subplot(3, 1, 3)\n",
    "plt.plot(t, validation_accuracy_history, \"c\", label = \"VALIDATION_ACCURACY\")\n",
    "plt.xlabel(\"Epochs\")\n",
    "plt.ylabel(\"Score\")\n",
    "plt.ylim([0, 1])\n",
    "plt.legend()\n",
    "plt.grid()\n",
    "\n",
    "plt.show()"
   ]
  },
  {
   "cell_type": "markdown",
   "metadata": {},
   "source": [
    "#### 6.5.2 In `tensorboard`"
   ]
  },
  {
   "cell_type": "markdown",
   "metadata": {},
   "source": [
    "##### LOSS\n",
    "\n",
    "<img src = \"./tensorboard_plots/LOSS_1.svg\" width = 750 height = 500 align = \"left\">"
   ]
  },
  {
   "cell_type": "markdown",
   "metadata": {},
   "source": [
    "##### TRAINING ACCURACY\n",
    "\n",
    "<img src = \"./tensorboard_plots/TRAIN_ACCURACY.svg\" width = 750 height = 500 align = \"left\">"
   ]
  },
  {
   "cell_type": "markdown",
   "metadata": {},
   "source": [
    "##### VALIDATION ACCURACY\n",
    "\n",
    "<img src = \"./tensorboard_plots/VALIDATION_ACCURACY.svg\" width = 750 height = 500 align = \"left\">"
   ]
  },
  {
   "cell_type": "markdown",
   "metadata": {},
   "source": [
    "### 6.7 Test the trained model `G` and compute evaluation metrics"
   ]
  },
  {
   "cell_type": "code",
   "execution_count": 56,
   "metadata": {
    "ExecuteTime": {
     "end_time": "2019-09-27T10:53:26.868131Z",
     "start_time": "2019-09-27T10:53:26.759255Z"
    }
   },
   "outputs": [
    {
     "name": "stdout",
     "output_type": "stream",
     "text": [
      "(Evaluation)\n",
      "\n",
      "                                    precision    recall  f1-score   support\n",
      "\n",
      "WILL_NOT_SUBSCRIBE_TO_BANK_DEPOSIT       0.83      0.83      0.83       374\n",
      "    WILL_SUBSCRIBE_TO_BANK_DEPOSIT       0.83      0.83      0.83       369\n",
      "\n",
      "                          accuracy                           0.83       743\n",
      "                         macro avg       0.83      0.83      0.83       743\n",
      "                      weighted avg       0.83      0.83      0.83       743\n",
      "\n"
     ]
    }
   ],
   "source": [
    "with tf.Session(graph = G) as session:\n",
    "    \n",
    "    # let's load our saved session data\n",
    "    saver.restore(session, model_dump_path)\n",
    "    clear_output()\n",
    "    \n",
    "    print(\"(Evaluation)\\n\")\n",
    "        \n",
    "    # ought to start the iterator for test data flow\n",
    "    session.run(test_iterator.initializer)\n",
    "    \n",
    "    # get the predictions and the ground truth used to generate that\n",
    "    # Note:    don't run this in two session calls.\n",
    "    # Reason:  performing a second run with `y_test_subset` will get you the next batch of data\n",
    "    yhat, y = session.run([predictions, y_test_subset])\n",
    "    \n",
    "    # obtain the column with the highest softmax probability\n",
    "    # that will be our actual binary prediction\n",
    "    y_predictions = np.argmax(yhat, axis = 1)\n",
    "    \n",
    "    # we need the positive class probability to compute the AUC score\n",
    "    positive_class_softmax_probability = yhat[:, 1]\n",
    "    \n",
    "    evaluate_model(y_test, \n",
    "                   y_predictions, \n",
    "                   positive_class_softmax_probability, \n",
    "                   interpretations_of_labels = [\"WILL_NOT_SUBSCRIBE_TO_BANK_DEPOSIT\", \n",
    "                                                \"WILL_SUBSCRIBE_TO_BANK_DEPOSIT\"],\n",
    "                  complete = True)"
   ]
  },
  {
   "cell_type": "code",
   "execution_count": 57,
   "metadata": {
    "ExecuteTime": {
     "end_time": "2019-09-27T10:53:26.873813Z",
     "start_time": "2019-09-27T10:53:26.869271Z"
    }
   },
   "outputs": [
    {
     "name": "stdout",
     "output_type": "stream",
     "text": [
      "Precision: 82.66% \n",
      "Recall: 82.66% \n",
      "F1 score: 82.66% \n",
      "AUC: 88.91%\n"
     ]
    }
   ],
   "source": [
    "# overall values\n",
    "evaluate_model(y_test, \n",
    "               y_predictions, \n",
    "               positive_class_softmax_probability, \n",
    "               interpretations_of_labels = [\"WILL_NOT_SUBSCRIBE_TO_BANK_DEPOSIT\", \n",
    "                                            \"WILL_SUBSCRIBE_TO_BANK_DEPOSIT\"],\n",
    "               complete = False)"
   ]
  },
  {
   "cell_type": "markdown",
   "metadata": {},
   "source": [
    "(__Note__)\n",
    "\n",
    "In case you wish to perform inference on such a model trained using the `tf.data` API, look up this [answer]( https://stackoverflow.com/questions/50940667/inference-with-a-model-trained-with-tf-dataset)."
   ]
  }
 ],
 "metadata": {
  "accelerator": "GPU",
  "colab": {
   "collapsed_sections": [],
   "name": "Predictive_Behavior_Modelling.ipynb",
   "provenance": []
  },
  "kernelspec": {
   "display_name": "Python 3",
   "language": "python",
   "name": "python3"
  },
  "language_info": {
   "codemirror_mode": {
    "name": "ipython",
    "version": 3
   },
   "file_extension": ".py",
   "mimetype": "text/x-python",
   "name": "python",
   "nbconvert_exporter": "python",
   "pygments_lexer": "ipython3",
   "version": "3.7.4"
  },
  "toc": {
   "base_numbering": 1,
   "nav_menu": {},
   "number_sections": false,
   "sideBar": true,
   "skip_h1_title": true,
   "title_cell": "Table of Contents",
   "title_sidebar": "Contents",
   "toc_cell": false,
   "toc_position": {
    "height": "calc(100% - 180px)",
    "left": "10px",
    "top": "150px",
    "width": "255.188px"
   },
   "toc_section_display": true,
   "toc_window_display": false
  },
  "varInspector": {
   "cols": {
    "lenName": 16,
    "lenType": 16,
    "lenVar": 40
   },
   "kernels_config": {
    "python": {
     "delete_cmd_postfix": "",
     "delete_cmd_prefix": "del ",
     "library": "var_list.py",
     "varRefreshCmd": "print(var_dic_list())"
    },
    "r": {
     "delete_cmd_postfix": ") ",
     "delete_cmd_prefix": "rm(",
     "library": "var_list.r",
     "varRefreshCmd": "cat(var_dic_list()) "
    }
   },
   "types_to_exclude": [
    "module",
    "function",
    "builtin_function_or_method",
    "instance",
    "_Feature"
   ],
   "window_display": false
  }
 },
 "nbformat": 4,
 "nbformat_minor": 1
}
