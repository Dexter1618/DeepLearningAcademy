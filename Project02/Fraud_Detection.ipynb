{
 "cells": [
  {
   "cell_type": "markdown",
   "metadata": {
    "colab_type": "text",
    "id": "lcD8W0LAiLmF"
   },
   "source": [
    "# Project 2\n",
    "\n",
    "from Artem Opperman's course: Deep Learning for Predictive Analytics"
   ]
  },
  {
   "cell_type": "markdown",
   "metadata": {
    "colab_type": "text",
    "id": "62-DYjVviTM7"
   },
   "source": [
    "## 0 Importing tensorflow-gpu==1.14\n",
    "\n",
    "- Artem's original version of the course used Tensorflow 1.13\n",
    "- The methods and classes used in this notebook are from Tensorflow 1.14\n",
    "- As of 30th September 2019, Tensorflow 2.0 has been released\n",
    "- Tensorflow 1.14 issues deprecation warnings for many functions and operations used here"
   ]
  },
  {
   "cell_type": "code",
   "execution_count": 1,
   "metadata": {
    "ExecuteTime": {
     "end_time": "2019-10-09T14:13:11.505634Z",
     "start_time": "2019-10-09T14:13:10.514606Z"
    },
    "colab": {
     "base_uri": "https://localhost:8080/",
     "height": 35
    },
    "colab_type": "code",
    "id": "pNGbZONqdkpR",
    "outputId": "dd2277ed-2775-42c4-a3eb-46063fe2eeb7"
   },
   "outputs": [
    {
     "data": {
      "text/plain": [
       "'1.14.0'"
      ]
     },
     "execution_count": 1,
     "metadata": {},
     "output_type": "execute_result"
    }
   ],
   "source": [
    "import tensorflow as tf\n",
    "from IPython.display import clear_output\n",
    "\n",
    "clear_output()\n",
    "\n",
    "tf.__version__"
   ]
  },
  {
   "cell_type": "code",
   "execution_count": 2,
   "metadata": {
    "ExecuteTime": {
     "end_time": "2019-10-09T14:13:11.646453Z",
     "start_time": "2019-10-09T14:13:11.507186Z"
    }
   },
   "outputs": [
    {
     "name": "stdout",
     "output_type": "stream",
     "text": [
      "Active Device: /device:CPU:0 (CPU)\n",
      "Active Device: /device:XLA_CPU:0 (XLA_CPU)\n",
      "Active Device: /device:GPU:0 (GPU)\n",
      "Active Device: /device:XLA_GPU:0 (XLA_GPU)\n"
     ]
    }
   ],
   "source": [
    "# check where will the computations of tensorflow be executed\n",
    "\n",
    "from tensorflow.python.client import device_lib\n",
    "\n",
    "for device_attribute in device_lib.list_local_devices():\n",
    "    device_name = device_attribute.name\n",
    "    device_type = device_attribute.device_type\n",
    "    print(\"Active Device: %s (%s)\" % (device_name, device_type))"
   ]
  },
  {
   "cell_type": "code",
   "execution_count": 3,
   "metadata": {
    "ExecuteTime": {
     "end_time": "2019-10-09T14:13:11.652041Z",
     "start_time": "2019-10-09T14:13:11.647570Z"
    }
   },
   "outputs": [
    {
     "data": {
      "text/plain": [
       "True"
      ]
     },
     "execution_count": 3,
     "metadata": {},
     "output_type": "execute_result"
    }
   ],
   "source": [
    "# is tf using the gpu if present in the host machine ?\n",
    "tf.test.is_gpu_available()"
   ]
  },
  {
   "cell_type": "code",
   "execution_count": 4,
   "metadata": {
    "ExecuteTime": {
     "end_time": "2019-10-09T14:13:11.749880Z",
     "start_time": "2019-10-09T14:13:11.653037Z"
    }
   },
   "outputs": [
    {
     "data": {
      "text/plain": [
       "True"
      ]
     },
     "execution_count": 4,
     "metadata": {},
     "output_type": "execute_result"
    }
   ],
   "source": [
    "# is tf version used here built from source using cuda?\n",
    "tf.test.is_built_with_cuda()"
   ]
  },
  {
   "cell_type": "markdown",
   "metadata": {
    "colab_type": "text",
    "id": "iBbyiMu2ixFc"
   },
   "source": [
    "## 1 Problem Statement\n",
    "\n",
    "The dataset has been collected and analysed during a research collaboration of [Worldline and the Machine Learning Group](http://mlg.ulb.ac.be) of ULB (Université Libre de Bruxelles) on big data mining and fraud detection. If you require more details on current and past projects on related topics from the two organizations, please follow these links: [1](http://mlg.ulb.ac.be/BruFence) and [2](http://mlg.ulb.ac.be/ARTML).\n",
    "\n",
    "\n",
    "The dataset contains transactions made by credit cards in September 2013 by European cardholders. This dataset presents transactions that occurred in two days, where we have `492` frauds out of `284807` transactions. The dataset is highly unbalanced, the positive class (frauds) account for ~ `0.172%` of all transactions.\n",
    "\n",
    "It contains only numerical input variables which are the result of a PCA transformation. Unfortunately, due to confidentiality issues,the original features and background information about the data are not provided. \n",
    "\n",
    "- Features `V1`, `V2`, … `V28` are the principal components obtained with PCA.\n",
    "- The only features which have not been transformed with PCA are `Time` and `Amount`. \n",
    "- Feature `Time` contains the seconds elapsed between each transaction and the first transaction in the dataset. \n",
    "- The feature `Amount` is the transaction Amount. This feature can be used for example-dependant cost-senstive learning. \n",
    "- Feature `Class` is the response variable and it takes value 1 in case of fraud and 0 otherwise.\n",
    "\n",
    "<br>\n",
    "\n",
    "(Citation for the project dataset)\n",
    "\n",
    "_Andrea Dal Pozzolo, Olivier Caelen, Reid A. Johnson and Gianluca Bontempi. Calibrating Probability with Undersampling for Unbalanced Classification. In Symposium on Computational Intelligence and Data Mining (CIDM), IEEE, 2015_\n",
    "\n",
    "<br>\n",
    "\n",
    "---\n",
    "\n",
    "___The goal of the project, as set by the instructor is to train an Auto-Encoder on the non-fraudulent transactions, and highlight the difference between them and the fraudulent transactions using the corresponding recreation loss incured by the trained Auto-Encoder___\n",
    "\n",
    "---"
   ]
  },
  {
   "cell_type": "markdown",
   "metadata": {
    "colab_type": "text",
    "id": "WaoF0Lz3qBFo"
   },
   "source": [
    "## 2 Decided scope of model evaluation\n",
    "\n",
    "\n",
    "\n",
    "___If you are working with the dataset, as it is, without any special approaches,___\n",
    "\n",
    "- Given the extreme class imbalance ratio of `0.172%`, [3](http://rstudio-pubs-static.s3.amazonaws.com/334864_28050f7860dd4927a596872f0cd52401.html) recommends measuring the accuracy using the Area Under the Precision-Recall Curve (AUPRC) because a confusion matrix will not be meaningful for classification in this context.\n",
    "- This [Medium article](https://medium.com/datadriveninvestor/rethinking-the-right-metrics-for-fraud-detection-4edfb629c423) recommends using custom loss functions to train machine learning which incorporates the confusion matrix metrics into the loss curve expression.\n",
    "- This [stats.stackexchange](https://stats.stackexchange.com/questions/222558/classification-evaluation-metrics-for-highly-imbalanced-data) raises the question of choosing the best possible metric for such extremely unbalanced datasets. \n",
    "\n",
    "\n",
    "___If you are using a Fully Connected AutoEncoder,___\n",
    "\n",
    "- the problem becomes an instance of anomaly detection:\n",
    "    - the model trains on the \"normal\" occurences and is trained to produce low recreation errors\n",
    "    - if the model is fed with an \"abnormal\" occurence, the recreation error is expected to be higher\n",
    "- In order to highlight the difference in recreation loss between that of fraudulent transactions from the non-fraudulent ones, I will find the gaussian fit distributions of the losses of either class.\n",
    "- I will set a manual threshold to determine how a test transaction will be classified, using the gassian fits."
   ]
  },
  {
   "cell_type": "markdown",
   "metadata": {
    "colab_type": "text",
    "id": "XbRs7BPzsgGq"
   },
   "source": [
    "## 3 Obtaining the dataset"
   ]
  },
  {
   "cell_type": "code",
   "execution_count": 5,
   "metadata": {
    "ExecuteTime": {
     "end_time": "2019-10-09T14:13:11.808577Z",
     "start_time": "2019-10-09T14:13:11.752456Z"
    },
    "colab": {
     "base_uri": "https://localhost:8080/",
     "height": 35
    },
    "colab_type": "code",
    "id": "M1FX714bpE2H",
    "outputId": "5630d728-6001-42d2-eb56-96744867f13e"
   },
   "outputs": [],
   "source": [
    "# In case it needs to be downloaded during notebook execution\n",
    "# Note: It is 150 MB in size\n",
    "\n",
    "#import urllib.request\n",
    "\n",
    "#!rm -rf *.rar\n",
    "#download_URL = \"https://www.filepicker.io/api/file/JinbMqTmTRmysAke03p0\"\n",
    "#urllib.request.urlretrieve(download_URL, \"credit_card_fraud.rar\")"
   ]
  },
  {
   "cell_type": "code",
   "execution_count": 6,
   "metadata": {
    "ExecuteTime": {
     "end_time": "2019-10-09T14:13:11.876880Z",
     "start_time": "2019-10-09T14:13:11.810847Z"
    },
    "colab": {
     "base_uri": "https://localhost:8080/",
     "height": 35
    },
    "colab_type": "code",
    "id": "C7XSN3nls1k_",
    "outputId": "316f18f7-724d-4573-9891-bd131a1c6daf"
   },
   "outputs": [],
   "source": [
    "# !ls"
   ]
  },
  {
   "cell_type": "code",
   "execution_count": 7,
   "metadata": {
    "ExecuteTime": {
     "end_time": "2019-10-09T14:13:11.950209Z",
     "start_time": "2019-10-09T14:13:11.880759Z"
    },
    "colab": {},
    "colab_type": "code",
    "id": "RKrotE8Rs3an"
   },
   "outputs": [],
   "source": [
    "# `patool` can extract WINRAR archives\n",
    "# you may need to install `unrar` executable for patool.extract_archive to work in this cell\n",
    "# command for apt: `sudo apt-get install unrar`\n",
    "\n",
    "#!sudo apt-get install unrar\n",
    "#!pip install patool\n",
    "\n",
    "#import patoolib\n",
    "\n",
    "# in case the archive has already been extracted from a previous iteration\n",
    "#!rm -rf creditcard_dataset.csv\n",
    "\n",
    "#patoolib.extract_archive(\"./credit_card_fraud.rar\", outdir = \"./\")\n",
    "#clear_output()"
   ]
  },
  {
   "cell_type": "code",
   "execution_count": 8,
   "metadata": {
    "ExecuteTime": {
     "end_time": "2019-10-09T14:13:12.050185Z",
     "start_time": "2019-10-09T14:13:11.951312Z"
    },
    "colab": {
     "base_uri": "https://localhost:8080/",
     "height": 35
    },
    "colab_type": "code",
    "id": "m1YL9CkLtFeo",
    "outputId": "5f536e79-01b6-495f-9978-64ea44cfe442"
   },
   "outputs": [],
   "source": [
    "# !ls"
   ]
  },
  {
   "cell_type": "markdown",
   "metadata": {
    "colab_type": "text",
    "id": "Ql1mRd34tNiJ"
   },
   "source": [
    "## 4 EDA"
   ]
  },
  {
   "cell_type": "code",
   "execution_count": 9,
   "metadata": {
    "ExecuteTime": {
     "end_time": "2019-10-09T14:13:12.117041Z",
     "start_time": "2019-10-09T14:13:12.051418Z"
    },
    "colab": {},
    "colab_type": "code",
    "id": "cZcgFRy2tPqX"
   },
   "outputs": [],
   "source": [
    "import pandas as pd\n",
    "import numpy as np"
   ]
  },
  {
   "cell_type": "code",
   "execution_count": 10,
   "metadata": {
    "ExecuteTime": {
     "end_time": "2019-10-09T14:13:13.574735Z",
     "start_time": "2019-10-09T14:13:12.118243Z"
    },
    "colab": {},
    "colab_type": "code",
    "id": "W0tD6dQFuObC"
   },
   "outputs": [],
   "source": [
    "df = pd.read_csv(\"creditcard_dataset.csv\")"
   ]
  },
  {
   "cell_type": "code",
   "execution_count": 11,
   "metadata": {
    "ExecuteTime": {
     "end_time": "2019-10-09T14:13:13.578830Z",
     "start_time": "2019-10-09T14:13:13.575917Z"
    },
    "colab": {
     "base_uri": "https://localhost:8080/",
     "height": 108
    },
    "colab_type": "code",
    "id": "WEyN_CR1u6-B",
    "outputId": "59b5dace-a7cf-4c94-ad76-9b5b8d9abb0e"
   },
   "outputs": [
    {
     "data": {
      "text/plain": [
       "Index(['Time', 'V1', 'V2', 'V3', 'V4', 'V5', 'V6', 'V7', 'V8', 'V9', 'V10',\n",
       "       'V11', 'V12', 'V13', 'V14', 'V15', 'V16', 'V17', 'V18', 'V19', 'V20',\n",
       "       'V21', 'V22', 'V23', 'V24', 'V25', 'V26', 'V27', 'V28', 'Amount',\n",
       "       'Class'],\n",
       "      dtype='object')"
      ]
     },
     "execution_count": 11,
     "metadata": {},
     "output_type": "execute_result"
    }
   ],
   "source": [
    "df.columns"
   ]
  },
  {
   "cell_type": "code",
   "execution_count": 12,
   "metadata": {
    "ExecuteTime": {
     "end_time": "2019-10-09T14:13:13.712403Z",
     "start_time": "2019-10-09T14:13:13.579962Z"
    },
    "colab": {
     "base_uri": "https://localhost:8080/",
     "height": 368
    },
    "colab_type": "code",
    "id": "owGfludeu8zn",
    "outputId": "2ac48537-7f04-4056-a88f-bfd7e0130d69"
   },
   "outputs": [
    {
     "data": {
      "text/html": [
       "<div>\n",
       "<style scoped>\n",
       "    .dataframe tbody tr th:only-of-type {\n",
       "        vertical-align: middle;\n",
       "    }\n",
       "\n",
       "    .dataframe tbody tr th {\n",
       "        vertical-align: top;\n",
       "    }\n",
       "\n",
       "    .dataframe thead th {\n",
       "        text-align: right;\n",
       "    }\n",
       "</style>\n",
       "<table border=\"1\" class=\"dataframe\">\n",
       "  <thead>\n",
       "    <tr style=\"text-align: right;\">\n",
       "      <th></th>\n",
       "      <th>Time</th>\n",
       "      <th>V1</th>\n",
       "      <th>V2</th>\n",
       "      <th>V3</th>\n",
       "      <th>V4</th>\n",
       "      <th>V5</th>\n",
       "      <th>V6</th>\n",
       "      <th>V7</th>\n",
       "      <th>V8</th>\n",
       "      <th>V9</th>\n",
       "      <th>...</th>\n",
       "      <th>V21</th>\n",
       "      <th>V22</th>\n",
       "      <th>V23</th>\n",
       "      <th>V24</th>\n",
       "      <th>V25</th>\n",
       "      <th>V26</th>\n",
       "      <th>V27</th>\n",
       "      <th>V28</th>\n",
       "      <th>Amount</th>\n",
       "      <th>Class</th>\n",
       "    </tr>\n",
       "  </thead>\n",
       "  <tbody>\n",
       "    <tr>\n",
       "      <td>19812</td>\n",
       "      <td>30571.0</td>\n",
       "      <td>-7.620680</td>\n",
       "      <td>5.195875</td>\n",
       "      <td>-8.860941</td>\n",
       "      <td>1.961475</td>\n",
       "      <td>-4.316869</td>\n",
       "      <td>-2.169675</td>\n",
       "      <td>-2.990864</td>\n",
       "      <td>5.236321</td>\n",
       "      <td>-0.082987</td>\n",
       "      <td>...</td>\n",
       "      <td>-0.097883</td>\n",
       "      <td>-0.958890</td>\n",
       "      <td>-0.252541</td>\n",
       "      <td>-0.431694</td>\n",
       "      <td>0.280967</td>\n",
       "      <td>-0.339278</td>\n",
       "      <td>-0.016025</td>\n",
       "      <td>-0.269778</td>\n",
       "      <td>89.99</td>\n",
       "      <td>0</td>\n",
       "    </tr>\n",
       "    <tr>\n",
       "      <td>62077</td>\n",
       "      <td>50115.0</td>\n",
       "      <td>-3.083826</td>\n",
       "      <td>-3.071362</td>\n",
       "      <td>2.736633</td>\n",
       "      <td>-1.055970</td>\n",
       "      <td>2.416835</td>\n",
       "      <td>-1.999258</td>\n",
       "      <td>-1.417768</td>\n",
       "      <td>0.265930</td>\n",
       "      <td>0.770289</td>\n",
       "      <td>...</td>\n",
       "      <td>0.367736</td>\n",
       "      <td>0.228766</td>\n",
       "      <td>0.408506</td>\n",
       "      <td>0.151818</td>\n",
       "      <td>0.333473</td>\n",
       "      <td>1.246384</td>\n",
       "      <td>-0.362080</td>\n",
       "      <td>-0.120029</td>\n",
       "      <td>82.41</td>\n",
       "      <td>0</td>\n",
       "    </tr>\n",
       "    <tr>\n",
       "      <td>260857</td>\n",
       "      <td>159752.0</td>\n",
       "      <td>-0.003014</td>\n",
       "      <td>0.197459</td>\n",
       "      <td>-0.019977</td>\n",
       "      <td>-2.341871</td>\n",
       "      <td>0.205178</td>\n",
       "      <td>-1.236227</td>\n",
       "      <td>0.613457</td>\n",
       "      <td>-0.234010</td>\n",
       "      <td>-1.404492</td>\n",
       "      <td>...</td>\n",
       "      <td>0.622693</td>\n",
       "      <td>1.857178</td>\n",
       "      <td>-0.129098</td>\n",
       "      <td>0.146127</td>\n",
       "      <td>-0.720105</td>\n",
       "      <td>-0.236423</td>\n",
       "      <td>0.455579</td>\n",
       "      <td>0.297609</td>\n",
       "      <td>15.00</td>\n",
       "      <td>0</td>\n",
       "    </tr>\n",
       "    <tr>\n",
       "      <td>158377</td>\n",
       "      <td>111145.0</td>\n",
       "      <td>2.102471</td>\n",
       "      <td>-0.089287</td>\n",
       "      <td>-1.473062</td>\n",
       "      <td>0.344294</td>\n",
       "      <td>0.202962</td>\n",
       "      <td>-0.771190</td>\n",
       "      <td>-0.090098</td>\n",
       "      <td>-0.226009</td>\n",
       "      <td>2.405752</td>\n",
       "      <td>...</td>\n",
       "      <td>0.068930</td>\n",
       "      <td>0.483046</td>\n",
       "      <td>0.018377</td>\n",
       "      <td>0.372852</td>\n",
       "      <td>0.288634</td>\n",
       "      <td>-0.467642</td>\n",
       "      <td>-0.038594</td>\n",
       "      <td>-0.061119</td>\n",
       "      <td>1.00</td>\n",
       "      <td>0</td>\n",
       "    </tr>\n",
       "    <tr>\n",
       "      <td>39791</td>\n",
       "      <td>39968.0</td>\n",
       "      <td>1.162366</td>\n",
       "      <td>-0.248152</td>\n",
       "      <td>0.947749</td>\n",
       "      <td>-0.019912</td>\n",
       "      <td>-1.051075</td>\n",
       "      <td>-0.763135</td>\n",
       "      <td>-0.414792</td>\n",
       "      <td>-0.117607</td>\n",
       "      <td>0.505680</td>\n",
       "      <td>...</td>\n",
       "      <td>0.012199</td>\n",
       "      <td>-0.009256</td>\n",
       "      <td>0.035248</td>\n",
       "      <td>0.482606</td>\n",
       "      <td>0.044694</td>\n",
       "      <td>0.951183</td>\n",
       "      <td>-0.052650</td>\n",
       "      <td>0.027331</td>\n",
       "      <td>52.33</td>\n",
       "      <td>0</td>\n",
       "    </tr>\n",
       "    <tr>\n",
       "      <td>188570</td>\n",
       "      <td>128031.0</td>\n",
       "      <td>-0.421184</td>\n",
       "      <td>0.739324</td>\n",
       "      <td>0.599909</td>\n",
       "      <td>-0.580630</td>\n",
       "      <td>-0.290216</td>\n",
       "      <td>-0.637701</td>\n",
       "      <td>-0.118179</td>\n",
       "      <td>0.380585</td>\n",
       "      <td>0.336008</td>\n",
       "      <td>...</td>\n",
       "      <td>0.197564</td>\n",
       "      <td>0.516530</td>\n",
       "      <td>0.232332</td>\n",
       "      <td>-0.054154</td>\n",
       "      <td>-1.758283</td>\n",
       "      <td>0.048710</td>\n",
       "      <td>-0.160655</td>\n",
       "      <td>0.001084</td>\n",
       "      <td>9.28</td>\n",
       "      <td>0</td>\n",
       "    </tr>\n",
       "    <tr>\n",
       "      <td>57809</td>\n",
       "      <td>48085.0</td>\n",
       "      <td>-1.633354</td>\n",
       "      <td>-1.381902</td>\n",
       "      <td>-1.280283</td>\n",
       "      <td>-0.753876</td>\n",
       "      <td>-1.319198</td>\n",
       "      <td>0.689513</td>\n",
       "      <td>-2.023809</td>\n",
       "      <td>-5.850213</td>\n",
       "      <td>-1.115934</td>\n",
       "      <td>...</td>\n",
       "      <td>-2.336569</td>\n",
       "      <td>0.576171</td>\n",
       "      <td>-4.988361</td>\n",
       "      <td>0.054565</td>\n",
       "      <td>-0.707927</td>\n",
       "      <td>-0.335557</td>\n",
       "      <td>0.768661</td>\n",
       "      <td>0.250288</td>\n",
       "      <td>1000.00</td>\n",
       "      <td>0</td>\n",
       "    </tr>\n",
       "    <tr>\n",
       "      <td>275474</td>\n",
       "      <td>166550.0</td>\n",
       "      <td>-0.745724</td>\n",
       "      <td>-0.193257</td>\n",
       "      <td>1.245986</td>\n",
       "      <td>0.093942</td>\n",
       "      <td>0.815520</td>\n",
       "      <td>-0.943372</td>\n",
       "      <td>-0.219173</td>\n",
       "      <td>-0.149823</td>\n",
       "      <td>0.908619</td>\n",
       "      <td>...</td>\n",
       "      <td>0.084805</td>\n",
       "      <td>0.546622</td>\n",
       "      <td>0.005665</td>\n",
       "      <td>-0.102555</td>\n",
       "      <td>-1.154616</td>\n",
       "      <td>-0.528665</td>\n",
       "      <td>0.035917</td>\n",
       "      <td>0.117900</td>\n",
       "      <td>12.17</td>\n",
       "      <td>0</td>\n",
       "    </tr>\n",
       "    <tr>\n",
       "      <td>16950</td>\n",
       "      <td>28316.0</td>\n",
       "      <td>1.335851</td>\n",
       "      <td>-0.798831</td>\n",
       "      <td>0.744152</td>\n",
       "      <td>-0.712019</td>\n",
       "      <td>-1.320519</td>\n",
       "      <td>-0.441295</td>\n",
       "      <td>-0.991648</td>\n",
       "      <td>-0.037742</td>\n",
       "      <td>-0.351586</td>\n",
       "      <td>...</td>\n",
       "      <td>0.370602</td>\n",
       "      <td>0.937417</td>\n",
       "      <td>-0.196487</td>\n",
       "      <td>-0.072498</td>\n",
       "      <td>0.475761</td>\n",
       "      <td>-0.021887</td>\n",
       "      <td>0.029062</td>\n",
       "      <td>0.027156</td>\n",
       "      <td>49.98</td>\n",
       "      <td>0</td>\n",
       "    </tr>\n",
       "    <tr>\n",
       "      <td>132414</td>\n",
       "      <td>79978.0</td>\n",
       "      <td>1.098268</td>\n",
       "      <td>-1.433462</td>\n",
       "      <td>0.393076</td>\n",
       "      <td>-1.119664</td>\n",
       "      <td>-1.643422</td>\n",
       "      <td>-0.841582</td>\n",
       "      <td>-0.576900</td>\n",
       "      <td>-0.270429</td>\n",
       "      <td>-2.130514</td>\n",
       "      <td>...</td>\n",
       "      <td>-0.169226</td>\n",
       "      <td>-0.446632</td>\n",
       "      <td>0.037360</td>\n",
       "      <td>0.597205</td>\n",
       "      <td>0.128129</td>\n",
       "      <td>-0.364446</td>\n",
       "      <td>0.014615</td>\n",
       "      <td>0.056646</td>\n",
       "      <td>192.30</td>\n",
       "      <td>0</td>\n",
       "    </tr>\n",
       "  </tbody>\n",
       "</table>\n",
       "<p>10 rows × 31 columns</p>\n",
       "</div>"
      ],
      "text/plain": [
       "            Time        V1        V2        V3        V4        V5        V6  \\\n",
       "19812    30571.0 -7.620680  5.195875 -8.860941  1.961475 -4.316869 -2.169675   \n",
       "62077    50115.0 -3.083826 -3.071362  2.736633 -1.055970  2.416835 -1.999258   \n",
       "260857  159752.0 -0.003014  0.197459 -0.019977 -2.341871  0.205178 -1.236227   \n",
       "158377  111145.0  2.102471 -0.089287 -1.473062  0.344294  0.202962 -0.771190   \n",
       "39791    39968.0  1.162366 -0.248152  0.947749 -0.019912 -1.051075 -0.763135   \n",
       "188570  128031.0 -0.421184  0.739324  0.599909 -0.580630 -0.290216 -0.637701   \n",
       "57809    48085.0 -1.633354 -1.381902 -1.280283 -0.753876 -1.319198  0.689513   \n",
       "275474  166550.0 -0.745724 -0.193257  1.245986  0.093942  0.815520 -0.943372   \n",
       "16950    28316.0  1.335851 -0.798831  0.744152 -0.712019 -1.320519 -0.441295   \n",
       "132414   79978.0  1.098268 -1.433462  0.393076 -1.119664 -1.643422 -0.841582   \n",
       "\n",
       "              V7        V8        V9  ...       V21       V22       V23  \\\n",
       "19812  -2.990864  5.236321 -0.082987  ... -0.097883 -0.958890 -0.252541   \n",
       "62077  -1.417768  0.265930  0.770289  ...  0.367736  0.228766  0.408506   \n",
       "260857  0.613457 -0.234010 -1.404492  ...  0.622693  1.857178 -0.129098   \n",
       "158377 -0.090098 -0.226009  2.405752  ...  0.068930  0.483046  0.018377   \n",
       "39791  -0.414792 -0.117607  0.505680  ...  0.012199 -0.009256  0.035248   \n",
       "188570 -0.118179  0.380585  0.336008  ...  0.197564  0.516530  0.232332   \n",
       "57809  -2.023809 -5.850213 -1.115934  ... -2.336569  0.576171 -4.988361   \n",
       "275474 -0.219173 -0.149823  0.908619  ...  0.084805  0.546622  0.005665   \n",
       "16950  -0.991648 -0.037742 -0.351586  ...  0.370602  0.937417 -0.196487   \n",
       "132414 -0.576900 -0.270429 -2.130514  ... -0.169226 -0.446632  0.037360   \n",
       "\n",
       "             V24       V25       V26       V27       V28   Amount  Class  \n",
       "19812  -0.431694  0.280967 -0.339278 -0.016025 -0.269778    89.99      0  \n",
       "62077   0.151818  0.333473  1.246384 -0.362080 -0.120029    82.41      0  \n",
       "260857  0.146127 -0.720105 -0.236423  0.455579  0.297609    15.00      0  \n",
       "158377  0.372852  0.288634 -0.467642 -0.038594 -0.061119     1.00      0  \n",
       "39791   0.482606  0.044694  0.951183 -0.052650  0.027331    52.33      0  \n",
       "188570 -0.054154 -1.758283  0.048710 -0.160655  0.001084     9.28      0  \n",
       "57809   0.054565 -0.707927 -0.335557  0.768661  0.250288  1000.00      0  \n",
       "275474 -0.102555 -1.154616 -0.528665  0.035917  0.117900    12.17      0  \n",
       "16950  -0.072498  0.475761 -0.021887  0.029062  0.027156    49.98      0  \n",
       "132414  0.597205  0.128129 -0.364446  0.014615  0.056646   192.30      0  \n",
       "\n",
       "[10 rows x 31 columns]"
      ]
     },
     "execution_count": 12,
     "metadata": {},
     "output_type": "execute_result"
    }
   ],
   "source": [
    "df.sample(10)"
   ]
  },
  {
   "cell_type": "markdown",
   "metadata": {
    "colab_type": "text",
    "id": "kcQoFMtbvP0n"
   },
   "source": [
    "<br>\n",
    "\n",
    "_Although the features `V1` to `V28` are obtained from PCA, we could still have a look at their statistical measures here_"
   ]
  },
  {
   "cell_type": "code",
   "execution_count": 13,
   "metadata": {
    "ExecuteTime": {
     "end_time": "2019-10-09T14:13:14.142497Z",
     "start_time": "2019-10-09T14:13:13.713825Z"
    },
    "colab": {
     "base_uri": "https://localhost:8080/",
     "height": 308
    },
    "colab_type": "code",
    "id": "TFU0fwvcvC5w",
    "outputId": "36e4c980-db16-4e86-f7be-0b7f02b64beb"
   },
   "outputs": [
    {
     "data": {
      "text/html": [
       "<div>\n",
       "<style scoped>\n",
       "    .dataframe tbody tr th:only-of-type {\n",
       "        vertical-align: middle;\n",
       "    }\n",
       "\n",
       "    .dataframe tbody tr th {\n",
       "        vertical-align: top;\n",
       "    }\n",
       "\n",
       "    .dataframe thead th {\n",
       "        text-align: right;\n",
       "    }\n",
       "</style>\n",
       "<table border=\"1\" class=\"dataframe\">\n",
       "  <thead>\n",
       "    <tr style=\"text-align: right;\">\n",
       "      <th></th>\n",
       "      <th>Time</th>\n",
       "      <th>V1</th>\n",
       "      <th>V2</th>\n",
       "      <th>V3</th>\n",
       "      <th>V4</th>\n",
       "      <th>V5</th>\n",
       "      <th>V6</th>\n",
       "      <th>V7</th>\n",
       "      <th>V8</th>\n",
       "      <th>V9</th>\n",
       "      <th>...</th>\n",
       "      <th>V21</th>\n",
       "      <th>V22</th>\n",
       "      <th>V23</th>\n",
       "      <th>V24</th>\n",
       "      <th>V25</th>\n",
       "      <th>V26</th>\n",
       "      <th>V27</th>\n",
       "      <th>V28</th>\n",
       "      <th>Amount</th>\n",
       "      <th>Class</th>\n",
       "    </tr>\n",
       "  </thead>\n",
       "  <tbody>\n",
       "    <tr>\n",
       "      <td>count</td>\n",
       "      <td>284807.00</td>\n",
       "      <td>284807.00</td>\n",
       "      <td>284807.00</td>\n",
       "      <td>284807.00</td>\n",
       "      <td>284807.00</td>\n",
       "      <td>284807.00</td>\n",
       "      <td>284807.00</td>\n",
       "      <td>284807.00</td>\n",
       "      <td>284807.00</td>\n",
       "      <td>284807.00</td>\n",
       "      <td>...</td>\n",
       "      <td>284807.00</td>\n",
       "      <td>284807.00</td>\n",
       "      <td>284807.00</td>\n",
       "      <td>284807.00</td>\n",
       "      <td>284807.00</td>\n",
       "      <td>284807.00</td>\n",
       "      <td>284807.00</td>\n",
       "      <td>284807.00</td>\n",
       "      <td>284807.00</td>\n",
       "      <td>284807.00</td>\n",
       "    </tr>\n",
       "    <tr>\n",
       "      <td>mean</td>\n",
       "      <td>94813.86</td>\n",
       "      <td>0.00</td>\n",
       "      <td>0.00</td>\n",
       "      <td>-0.00</td>\n",
       "      <td>0.00</td>\n",
       "      <td>0.00</td>\n",
       "      <td>0.00</td>\n",
       "      <td>-0.00</td>\n",
       "      <td>0.00</td>\n",
       "      <td>-0.00</td>\n",
       "      <td>...</td>\n",
       "      <td>0.00</td>\n",
       "      <td>-0.00</td>\n",
       "      <td>0.00</td>\n",
       "      <td>0.00</td>\n",
       "      <td>0.00</td>\n",
       "      <td>0.00</td>\n",
       "      <td>-0.00</td>\n",
       "      <td>-0.00</td>\n",
       "      <td>88.35</td>\n",
       "      <td>0.00</td>\n",
       "    </tr>\n",
       "    <tr>\n",
       "      <td>std</td>\n",
       "      <td>47488.15</td>\n",
       "      <td>1.96</td>\n",
       "      <td>1.65</td>\n",
       "      <td>1.52</td>\n",
       "      <td>1.42</td>\n",
       "      <td>1.38</td>\n",
       "      <td>1.33</td>\n",
       "      <td>1.24</td>\n",
       "      <td>1.19</td>\n",
       "      <td>1.10</td>\n",
       "      <td>...</td>\n",
       "      <td>0.73</td>\n",
       "      <td>0.73</td>\n",
       "      <td>0.62</td>\n",
       "      <td>0.61</td>\n",
       "      <td>0.52</td>\n",
       "      <td>0.48</td>\n",
       "      <td>0.40</td>\n",
       "      <td>0.33</td>\n",
       "      <td>250.12</td>\n",
       "      <td>0.04</td>\n",
       "    </tr>\n",
       "    <tr>\n",
       "      <td>min</td>\n",
       "      <td>0.00</td>\n",
       "      <td>-56.41</td>\n",
       "      <td>-72.72</td>\n",
       "      <td>-48.33</td>\n",
       "      <td>-5.68</td>\n",
       "      <td>-113.74</td>\n",
       "      <td>-26.16</td>\n",
       "      <td>-43.56</td>\n",
       "      <td>-73.22</td>\n",
       "      <td>-13.43</td>\n",
       "      <td>...</td>\n",
       "      <td>-34.83</td>\n",
       "      <td>-10.93</td>\n",
       "      <td>-44.81</td>\n",
       "      <td>-2.84</td>\n",
       "      <td>-10.30</td>\n",
       "      <td>-2.60</td>\n",
       "      <td>-22.57</td>\n",
       "      <td>-15.43</td>\n",
       "      <td>0.00</td>\n",
       "      <td>0.00</td>\n",
       "    </tr>\n",
       "    <tr>\n",
       "      <td>25%</td>\n",
       "      <td>54201.50</td>\n",
       "      <td>-0.92</td>\n",
       "      <td>-0.60</td>\n",
       "      <td>-0.89</td>\n",
       "      <td>-0.85</td>\n",
       "      <td>-0.69</td>\n",
       "      <td>-0.77</td>\n",
       "      <td>-0.55</td>\n",
       "      <td>-0.21</td>\n",
       "      <td>-0.64</td>\n",
       "      <td>...</td>\n",
       "      <td>-0.23</td>\n",
       "      <td>-0.54</td>\n",
       "      <td>-0.16</td>\n",
       "      <td>-0.35</td>\n",
       "      <td>-0.32</td>\n",
       "      <td>-0.33</td>\n",
       "      <td>-0.07</td>\n",
       "      <td>-0.05</td>\n",
       "      <td>5.60</td>\n",
       "      <td>0.00</td>\n",
       "    </tr>\n",
       "    <tr>\n",
       "      <td>50%</td>\n",
       "      <td>84692.00</td>\n",
       "      <td>0.02</td>\n",
       "      <td>0.07</td>\n",
       "      <td>0.18</td>\n",
       "      <td>-0.02</td>\n",
       "      <td>-0.05</td>\n",
       "      <td>-0.27</td>\n",
       "      <td>0.04</td>\n",
       "      <td>0.02</td>\n",
       "      <td>-0.05</td>\n",
       "      <td>...</td>\n",
       "      <td>-0.03</td>\n",
       "      <td>0.01</td>\n",
       "      <td>-0.01</td>\n",
       "      <td>0.04</td>\n",
       "      <td>0.02</td>\n",
       "      <td>-0.05</td>\n",
       "      <td>0.00</td>\n",
       "      <td>0.01</td>\n",
       "      <td>22.00</td>\n",
       "      <td>0.00</td>\n",
       "    </tr>\n",
       "    <tr>\n",
       "      <td>75%</td>\n",
       "      <td>139320.50</td>\n",
       "      <td>1.32</td>\n",
       "      <td>0.80</td>\n",
       "      <td>1.03</td>\n",
       "      <td>0.74</td>\n",
       "      <td>0.61</td>\n",
       "      <td>0.40</td>\n",
       "      <td>0.57</td>\n",
       "      <td>0.33</td>\n",
       "      <td>0.60</td>\n",
       "      <td>...</td>\n",
       "      <td>0.19</td>\n",
       "      <td>0.53</td>\n",
       "      <td>0.15</td>\n",
       "      <td>0.44</td>\n",
       "      <td>0.35</td>\n",
       "      <td>0.24</td>\n",
       "      <td>0.09</td>\n",
       "      <td>0.08</td>\n",
       "      <td>77.16</td>\n",
       "      <td>0.00</td>\n",
       "    </tr>\n",
       "    <tr>\n",
       "      <td>max</td>\n",
       "      <td>172792.00</td>\n",
       "      <td>2.45</td>\n",
       "      <td>22.06</td>\n",
       "      <td>9.38</td>\n",
       "      <td>16.88</td>\n",
       "      <td>34.80</td>\n",
       "      <td>73.30</td>\n",
       "      <td>120.59</td>\n",
       "      <td>20.01</td>\n",
       "      <td>15.59</td>\n",
       "      <td>...</td>\n",
       "      <td>27.20</td>\n",
       "      <td>10.50</td>\n",
       "      <td>22.53</td>\n",
       "      <td>4.58</td>\n",
       "      <td>7.52</td>\n",
       "      <td>3.52</td>\n",
       "      <td>31.61</td>\n",
       "      <td>33.85</td>\n",
       "      <td>25691.16</td>\n",
       "      <td>1.00</td>\n",
       "    </tr>\n",
       "  </tbody>\n",
       "</table>\n",
       "<p>8 rows × 31 columns</p>\n",
       "</div>"
      ],
      "text/plain": [
       "            Time         V1         V2         V3         V4         V5  \\\n",
       "count  284807.00  284807.00  284807.00  284807.00  284807.00  284807.00   \n",
       "mean    94813.86       0.00       0.00      -0.00       0.00       0.00   \n",
       "std     47488.15       1.96       1.65       1.52       1.42       1.38   \n",
       "min         0.00     -56.41     -72.72     -48.33      -5.68    -113.74   \n",
       "25%     54201.50      -0.92      -0.60      -0.89      -0.85      -0.69   \n",
       "50%     84692.00       0.02       0.07       0.18      -0.02      -0.05   \n",
       "75%    139320.50       1.32       0.80       1.03       0.74       0.61   \n",
       "max    172792.00       2.45      22.06       9.38      16.88      34.80   \n",
       "\n",
       "              V6         V7         V8         V9  ...        V21        V22  \\\n",
       "count  284807.00  284807.00  284807.00  284807.00  ...  284807.00  284807.00   \n",
       "mean        0.00      -0.00       0.00      -0.00  ...       0.00      -0.00   \n",
       "std         1.33       1.24       1.19       1.10  ...       0.73       0.73   \n",
       "min       -26.16     -43.56     -73.22     -13.43  ...     -34.83     -10.93   \n",
       "25%        -0.77      -0.55      -0.21      -0.64  ...      -0.23      -0.54   \n",
       "50%        -0.27       0.04       0.02      -0.05  ...      -0.03       0.01   \n",
       "75%         0.40       0.57       0.33       0.60  ...       0.19       0.53   \n",
       "max        73.30     120.59      20.01      15.59  ...      27.20      10.50   \n",
       "\n",
       "             V23        V24        V25        V26        V27        V28  \\\n",
       "count  284807.00  284807.00  284807.00  284807.00  284807.00  284807.00   \n",
       "mean        0.00       0.00       0.00       0.00      -0.00      -0.00   \n",
       "std         0.62       0.61       0.52       0.48       0.40       0.33   \n",
       "min       -44.81      -2.84     -10.30      -2.60     -22.57     -15.43   \n",
       "25%        -0.16      -0.35      -0.32      -0.33      -0.07      -0.05   \n",
       "50%        -0.01       0.04       0.02      -0.05       0.00       0.01   \n",
       "75%         0.15       0.44       0.35       0.24       0.09       0.08   \n",
       "max        22.53       4.58       7.52       3.52      31.61      33.85   \n",
       "\n",
       "          Amount      Class  \n",
       "count  284807.00  284807.00  \n",
       "mean       88.35       0.00  \n",
       "std       250.12       0.04  \n",
       "min         0.00       0.00  \n",
       "25%         5.60       0.00  \n",
       "50%        22.00       0.00  \n",
       "75%        77.16       0.00  \n",
       "max     25691.16       1.00  \n",
       "\n",
       "[8 rows x 31 columns]"
      ]
     },
     "execution_count": 13,
     "metadata": {},
     "output_type": "execute_result"
    }
   ],
   "source": [
    "df.describe().round(2)"
   ]
  },
  {
   "cell_type": "markdown",
   "metadata": {
    "colab_type": "text",
    "id": "-K5Ti70x8vne"
   },
   "source": [
    "<br>\n",
    "\n",
    "- _I do not consider the variable `Time` to be important for prediction, given its meaning in this context_\n",
    "- _Variable 'Amount' should very important to the response variable_."
   ]
  },
  {
   "cell_type": "code",
   "execution_count": 14,
   "metadata": {
    "ExecuteTime": {
     "end_time": "2019-10-09T14:13:14.175680Z",
     "start_time": "2019-10-09T14:13:14.143643Z"
    },
    "colab": {},
    "colab_type": "code",
    "id": "mQ13mrxBvc20"
   },
   "outputs": [],
   "source": [
    "df.drop(\"Time\", axis = 1, inplace = True)"
   ]
  },
  {
   "cell_type": "markdown",
   "metadata": {
    "colab_type": "text",
    "id": "cnAVbQg-9ICm"
   },
   "source": [
    "<br>\n",
    "\n",
    "_I also need to seperate the response variable and the feature dataset_"
   ]
  },
  {
   "cell_type": "code",
   "execution_count": 15,
   "metadata": {
    "ExecuteTime": {
     "end_time": "2019-10-09T14:13:14.299449Z",
     "start_time": "2019-10-09T14:13:14.176984Z"
    },
    "colab": {},
    "colab_type": "code",
    "id": "vuk93h1C9GeZ"
   },
   "outputs": [],
   "source": [
    "Y = df[\"Class\"]\n",
    "df.drop(\"Class\", axis = 1, inplace = True)\n",
    "\n",
    "X = df.values"
   ]
  },
  {
   "cell_type": "markdown",
   "metadata": {},
   "source": [
    "<br>\n",
    "\n",
    "_I will be min-max normalizing the dataset using `sklearn.preprocessing.MinMaxScaler`. Please note that if you already performed the split for training-validation-test, make sure that the scaler used to normalize the training dataset must also be used for the testing and validation._"
   ]
  },
  {
   "cell_type": "code",
   "execution_count": 16,
   "metadata": {
    "ExecuteTime": {
     "end_time": "2019-10-09T14:13:14.662247Z",
     "start_time": "2019-10-09T14:13:14.300618Z"
    }
   },
   "outputs": [],
   "source": [
    "from sklearn.preprocessing import MinMaxScaler\n",
    "\n",
    "scaler = MinMaxScaler(feature_range = (-1, 1), copy = False)\n",
    "scaler.fit(X)\n",
    "X = scaler.transform(X)"
   ]
  },
  {
   "cell_type": "markdown",
   "metadata": {},
   "source": [
    "<br>\n",
    "\n",
    "_Now_ ,\n",
    "\n",
    "- the label vector`Y` is not required to train the AutoEncoder because it has the sole job is to learn to recreate the input data `X`, specifically the ones for non-fraudulent transactions\n",
    "- So I divided `X` into two subsets, `X_NF` (non-fraudulent) and `X_F` (fraudulent) based on the corresponding value of `Y`\n",
    "\n",
    "_The AutoEncoder will be trained, validated and tested on `X_NF` only._"
   ]
  },
  {
   "cell_type": "code",
   "execution_count": 17,
   "metadata": {
    "ExecuteTime": {
     "end_time": "2019-10-09T14:13:14.695601Z",
     "start_time": "2019-10-09T14:13:14.663670Z"
    }
   },
   "outputs": [],
   "source": [
    "X_NF = X[Y == 0]\n",
    "X_F = X[Y != 0]"
   ]
  },
  {
   "cell_type": "code",
   "execution_count": 18,
   "metadata": {
    "ExecuteTime": {
     "end_time": "2019-10-09T14:13:14.768945Z",
     "start_time": "2019-10-09T14:13:14.696859Z"
    }
   },
   "outputs": [
    {
     "data": {
      "text/plain": [
       "((284315, 29), (492, 29))"
      ]
     },
     "execution_count": 18,
     "metadata": {},
     "output_type": "execute_result"
    }
   ],
   "source": [
    "X_NF.shape, X_F.shape"
   ]
  },
  {
   "cell_type": "markdown",
   "metadata": {
    "colab_type": "text",
    "id": "NL0VNB3I-hPj"
   },
   "source": [
    "<br>\n",
    "\n",
    "_We can now perform training-validation-test split, but on `X_NF`_"
   ]
  },
  {
   "cell_type": "code",
   "execution_count": 19,
   "metadata": {
    "ExecuteTime": {
     "end_time": "2019-10-09T14:13:14.954644Z",
     "start_time": "2019-10-09T14:13:14.770354Z"
    },
    "colab": {},
    "colab_type": "code",
    "id": "3iM4Mu_6-3ye"
   },
   "outputs": [],
   "source": [
    "from sklearn.model_selection import train_test_split\n",
    "\n",
    "temp = range(len(X_NF))\n",
    "\n",
    "x_train, x_test, _, temp_test = train_test_split(X_NF,\n",
    "                                                 temp,\n",
    "                                                 test_size = 20/100,\n",
    "                                                 random_state = 1, \n",
    "                                                 shuffle = True)\n",
    "\n",
    "x_val, x_test, _, _ = train_test_split(x_test, \n",
    "                                       temp_test, \n",
    "                                       test_size = 8/20, \n",
    "                                       random_state = 1, \n",
    "                                       shuffle = True)\n",
    "temp_test = None"
   ]
  },
  {
   "cell_type": "code",
   "execution_count": 20,
   "metadata": {
    "ExecuteTime": {
     "end_time": "2019-10-09T14:13:14.958475Z",
     "start_time": "2019-10-09T14:13:14.955698Z"
    },
    "colab": {
     "base_uri": "https://localhost:8080/",
     "height": 35
    },
    "colab_type": "code",
    "id": "qKOhqiuw_4ID",
    "outputId": "fbdefae0-cd5d-4c0b-9e04-57bdad183a51"
   },
   "outputs": [
    {
     "data": {
      "text/plain": [
       "((227452, 29), (34117, 29), (22746, 29))"
      ]
     },
     "execution_count": 20,
     "metadata": {},
     "output_type": "execute_result"
    }
   ],
   "source": [
    "x_train.shape, x_val.shape, x_test.shape"
   ]
  },
  {
   "cell_type": "markdown",
   "metadata": {
    "colab_type": "text",
    "id": "TxkCx5BG6UM9"
   },
   "source": [
    "<br>\n",
    "<br>\n",
    "\n",
    "## 5 Making the AutoEncoder"
   ]
  },
  {
   "cell_type": "markdown",
   "metadata": {
    "colab_type": "text",
    "id": "SH2oUYuF7G0L"
   },
   "source": [
    "### 5.1 Dictionary for Hyperparameters used"
   ]
  },
  {
   "cell_type": "code",
   "execution_count": 21,
   "metadata": {
    "ExecuteTime": {
     "end_time": "2019-10-09T14:13:15.043366Z",
     "start_time": "2019-10-09T14:13:14.959602Z"
    },
    "colab": {},
    "colab_type": "code",
    "id": "yUhr2_6g7PYr"
   },
   "outputs": [],
   "source": [
    "hyperparameters = dict(tensorboard_data_dump = \"./tensorboard_data_dump/\",\n",
    "                       train_tfrecord_dump_path = \"./train_records/\",\n",
    "                       validation_tfrecord_dump_path = \"./validation_records/\",\n",
    "                       test_tfrecord_dump_path = \"./test_records/\",\n",
    "                       model_dump = \"./saved_model_checkpoint/\",\n",
    "                       number_of_features = x_train.shape[1],\n",
    "                       train_batch_size = 512,\n",
    "                       validation_batch_size = x_val.shape[0],\n",
    "                       test_batch_size = x_test.shape[0],\n",
    "                       num_parallel_calls = 5,\n",
    "                       train_batch_shuffle_buffer = 512,\n",
    "                       train_batch_prefetch_buffer = 3,\n",
    "                       regularization_learning_rate = 1e-5)"
   ]
  },
  {
   "cell_type": "markdown",
   "metadata": {
    "colab_type": "text",
    "id": "XrwSGEzB66n1"
   },
   "source": [
    "### 5.1 The Input Pipeline"
   ]
  },
  {
   "cell_type": "markdown",
   "metadata": {
    "colab_type": "text",
    "id": "iiGvFV7K9K1E"
   },
   "source": [
    "#### 5.1.1 Create directories to dump"
   ]
  },
  {
   "cell_type": "code",
   "execution_count": 22,
   "metadata": {
    "ExecuteTime": {
     "end_time": "2019-10-09T14:13:15.951458Z",
     "start_time": "2019-10-09T14:13:15.044656Z"
    },
    "colab": {},
    "colab_type": "code",
    "id": "iBx7LqDQWXq-"
   },
   "outputs": [],
   "source": [
    "# if the directories already exist, remove them and their contents\n",
    "!rm -rf \"./train_records/\"\n",
    "!rm -rf \"./validation_records/\"\n",
    "!rm -rf \"./test_records/\"\n",
    "\n",
    "# recreate the directories\n",
    "!mkdir -p \"./train_records/\"\n",
    "!mkdir -p \"./validation_records/\"\n",
    "!mkdir -p \"./test_records/\""
   ]
  },
  {
   "cell_type": "markdown",
   "metadata": {
    "colab_type": "text",
    "id": "zmYD9bT3-1m6"
   },
   "source": [
    "#### 5.1.2 Function to dump dataset as `tfrecord` files"
   ]
  },
  {
   "cell_type": "markdown",
   "metadata": {
    "colab_type": "text",
    "id": "_LD-fn4Z_GIa"
   },
   "source": [
    "The function will accept a feature matrix, divide it up by the batch size specified and then write each row of each batch in a `tfrecord` dump file. The arguments of the function are defined as follows:\n",
    "\n",
    "- `features` = the numpy.ndarray of feature matrix to be dumped (shape = `(m, n)` for `m` observations and `n` features)\n",
    "- `dump_directory` = path to the local directory where the tfRecord files will be dumped\n",
    "- `batch_size` = how many rows of dataset and labels will be dumped into each individual `tfrecord` file\n",
    "\n",
    "<br> "
   ]
  },
  {
   "cell_type": "code",
   "execution_count": 23,
   "metadata": {
    "ExecuteTime": {
     "end_time": "2019-10-09T14:13:15.977850Z",
     "start_time": "2019-10-09T14:13:15.958623Z"
    },
    "colab": {},
    "colab_type": "code",
    "id": "RtzDn2Sh-ytL"
   },
   "outputs": [],
   "source": [
    "def dump_dataset_into_tf_records(features, dump_directory, batch_size):\n",
    "    \n",
    "    m = features.shape[0]\n",
    "    i = 0\n",
    "    j = 0\n",
    "    writer = None\n",
    "\n",
    "    for i in range(m):\n",
    "        \n",
    "        if i % batch_size == 0:\n",
    "            if writer is not None:\n",
    "                writer.close()\n",
    "            j = j + 1\n",
    "            record_file_name = dump_directory + \"Batch_\" + str(j) + \".tfrecord\"\n",
    "            writer = tf.python_io.TFRecordWriter(record_file_name)\n",
    "        \n",
    "        feature = features[i, :]\n",
    "\n",
    "        # to simplify the code, I wrote the dumping code as a seperate function\n",
    "        dump_into_tfrecord_file(feature, writer)"
   ]
  },
  {
   "cell_type": "markdown",
   "metadata": {
    "colab_type": "text",
    "id": "eBNl2PYZCYv7"
   },
   "source": [
    "#### 5.1.3 Function to dump a single `feature` into a `tfrecord` file"
   ]
  },
  {
   "cell_type": "markdown",
   "metadata": {
    "colab_type": "text",
    "id": "U2c18F8fC3B5"
   },
   "source": [
    "The function to dump a single vector `feature` into a `tfrecord` file which is encapsulated into a `tf.python_io.TFRecordWriter` object passed as `writer`. The shapes of `feature` must be `(n,)`.\n",
    "\n",
    "<br>\n",
    "\n",
    "___How does the dumping work?___\n",
    "\n",
    "- Initialize a `tf.python_io.TFRecordWriter` object with an existing directory writer\n",
    "- Convert `feature` to a list (because `writer` can only dump lists). So, `feature` with shape `(n, )` will become a `list` of length `n`.\n",
    "- Create a `tf.train.Feature` object out of `feature`. Use the appropiate argument name: `float_list`, `int32_list`, `int64_list` to specify the datatype of the values in the list.\n",
    "- Create a native python `dict` out of the tf.train.Feature instance of `feature`. This dict will now serve as a write schema of storage for data.\n",
    "- Since we are creating a pipeline for an AutoEncoder, our input and output data will be the same. We will define our schema accordingly.\n",
    "- Wrap the dict in a `tf.train.Example` instance. In essence, each row in `feature` is now a single `Example` object to be fed into a Tensorflow Data-Flow Graph.\n",
    "\n",
    "<br>\n",
    "\n",
    "___Why do we do this?___\n",
    "\n",
    "- Need for speed\n",
    "- Setting a highly-parallelized, optimized and efficient pipeline for flow of data"
   ]
  },
  {
   "cell_type": "code",
   "execution_count": 24,
   "metadata": {
    "ExecuteTime": {
     "end_time": "2019-10-09T14:13:16.043045Z",
     "start_time": "2019-10-09T14:13:15.983388Z"
    },
    "colab": {},
    "colab_type": "code",
    "id": "aT6ohxXzCkDM"
   },
   "outputs": [],
   "source": [
    "def dump_into_tfrecord_file(feature,  writer):\n",
    "    \n",
    "    feature_as_list = feature.tolist()\n",
    "\n",
    "    feature_as_Feature_instance = tf.train.Feature(float_list = \n",
    "                                                   tf.train.FloatList(value = feature_as_list))\n",
    "    \n",
    "    write_schema = {\"input\":feature_as_Feature_instance, \"output\":feature_as_Feature_instance}\n",
    "    write_schema_as_Feature = tf.train.Features(feature = write_schema)\n",
    "\n",
    "    example = tf.train.Example(features = write_schema_as_Feature)\n",
    "    \n",
    "    writer.write(example.SerializeToString())"
   ]
  },
  {
   "cell_type": "markdown",
   "metadata": {
    "colab_type": "text",
    "id": "sefyB_p9JS9o"
   },
   "source": [
    "#### 5.1.3 Function to read a single `feature` from a `tfrecord` file as a `tf.train.Example` instance\n",
    "\n",
    "<br>\n",
    "\n",
    "The function accepts a single serialized `tf.train.Example` instance from a `tfrecord` file, reads the `feature` vector in two copies (`input_` and `output`, because for an AutoEncoder, the input and output are the same) and returns the copies seperately as `feature_as_input` and `feature_as_output`"
   ]
  },
  {
   "cell_type": "code",
   "execution_count": 25,
   "metadata": {
    "ExecuteTime": {
     "end_time": "2019-10-09T14:13:16.144915Z",
     "start_time": "2019-10-09T14:13:16.044208Z"
    },
    "colab": {},
    "colab_type": "code",
    "id": "ySIM8WK2JsQx"
   },
   "outputs": [],
   "source": [
    "def read_feature(Example_instance):\n",
    "\n",
    "    input_ = tf.FixedLenFeature([hyperparameters[\"number_of_features\"]], tf.float32)\n",
    "    output = tf.FixedLenFeature([hyperparameters[\"number_of_features\"]], tf.float32)\n",
    "    \n",
    "    read_schema = {\"input\":input_, \"output\":output}\n",
    "    Example = tf.parse_single_example(serialized = Example_instance, features = read_schema)\n",
    "\n",
    "    feature_as_input = Example[\"input\"]\n",
    "    feature_as_output = Example[\"output\"]\n",
    "    \n",
    "    return((feature_as_input, feature_as_output))"
   ]
  },
  {
   "cell_type": "markdown",
   "metadata": {
    "colab_type": "text",
    "id": "HgeUHGmTOcD-"
   },
   "source": [
    "#### 5.1.4 Functions to generate pipelines for the three datasets"
   ]
  },
  {
   "cell_type": "markdown",
   "metadata": {
    "colab_type": "text",
    "id": "btbcz_kOO6IU"
   },
   "source": [
    "The 3 functions follow the same pipeline architecture with slight differences in their flow.\n",
    "\n",
    "- Create an object of `tf.data.Dataset` by passing a list of the `tfrecord` files in the specified dump directory path.\n",
    "- Convert each `tf.train.Example` object as it is read from the `tfrecord` files into the `read_schema` format we specified before in the function `read_feature`. This is done using the `tf.data.Dataset.map` method.\n",
    "- To enhance the convertion from `Example` object to the `read_schema` format, I specified an additional argument of `num_parallel_calls` = `5` (specified in `hyperparameters[\"num_parallel_calls\"]`). Each conversion happens independent of the other and hence this will allow to parallely convert 5 `Example` objects.\n",
    "- I also chose to shuffle the dataset during the retrieval pipeline and perform an indefinite random repeat of the data. This makes sure my model doesn't run into the problem of having emptied the data flow.\n",
    "- To enhance the performance of the training process, I used `tf.train.Dataset.prefetch` method to set how many `tf.train.Example` objects will be fetched before it's turn has arrived to be fed into the Data-Flow graph.\n",
    "\n",
    "<br>\n",
    "\n",
    "(___Note___)\n",
    "\n",
    "The methods (or more technically speaking, the pipeline construction on `tf.data.Dataset`) are most prone to bugs during implementation. The methods define how the tensorflow graph will receive data and how it will be trained (epochs and mini-batches per epoch). \n",
    "\n",
    "I had spent 2 weeks trying to debug various errors like `OutOfRange`, `labels are []`,  `NextIterator:0 End of sequence` in the [first Project assignment](https://nbviewer.jupyter.org/github/Dexter1618/DeepLearningAcademy/blob/master/Project01/Predictive_Behavior_Modelling.ipynb#5.7.1-Defining-a-function-to-retrive-the-tfRecord-files-from-a-directory-in-an-efficient-sequential-manner) which arose due to my inexperience with the `tf.data` API. \n",
    "\n",
    "Here are some key points that one must keep in mind while creating the pipelines:\n",
    "\n",
    "- `shuffle` must come before `batch`\n",
    "Based on how many epochs and how many mini-batches one will have during training, one must set the values for `batch_size` and `prefetch_buffer` accordingly\n",
    "- If the `batch_size` is set as 1 then, one must not perform a `prefetch` of more than 1. \n",
    "- One shouldn't perform batching on the test dataset. \n",
    "- If one wants to perform batched training/validation , then one must create up the training and validation pipelines and tensorflow sub-graphs accordingly."
   ]
  },
  {
   "cell_type": "code",
   "execution_count": 26,
   "metadata": {
    "ExecuteTime": {
     "end_time": "2019-10-09T14:13:16.212679Z",
     "start_time": "2019-10-09T14:13:16.145994Z"
    },
    "colab": {},
    "colab_type": "code",
    "id": "niJ_LitVOi33"
   },
   "outputs": [],
   "source": [
    "from os import listdir"
   ]
  },
  {
   "cell_type": "markdown",
   "metadata": {
    "colab_type": "text",
    "id": "ovIMQnwQY1Bb"
   },
   "source": [
    "<br>\n",
    "\n",
    "___Pipeline architecture for training data___\n",
    "\n",
    " `TFRecordDataset` $\\rightarrow$ `map` `5` at a time $\\rightarrow$ `shuffle` $\\rightarrow$ `repeat` indefinitely $\\rightarrow$ `batch` $\\rightarrow$ `prefetch` 3 batches"
   ]
  },
  {
   "cell_type": "code",
   "execution_count": 27,
   "metadata": {
    "ExecuteTime": {
     "end_time": "2019-10-09T14:13:16.288662Z",
     "start_time": "2019-10-09T14:13:16.217488Z"
    },
    "colab": {},
    "colab_type": "code",
    "id": "RAE28QYgTGVF"
   },
   "outputs": [],
   "source": [
    "def start_pipeline_for_training_data(directory = hyperparameters[\"train_tfrecord_dump_path\"],\n",
    "                                     batch_size = hyperparameters[\"train_batch_size\"],\n",
    "                                     shuffle_size = hyperparameters[\"train_batch_shuffle_buffer\"],\n",
    "                                     buffer_size = hyperparameters[\"train_batch_prefetch_buffer\"]):\n",
    "    \n",
    "    record_file_names = [directory + file_name for file_name in listdir(directory)]\n",
    "    dataset = tf.data.TFRecordDataset(record_file_names)\n",
    "    dataset = dataset.map(read_feature, num_parallel_calls = hyperparameters[\"num_parallel_calls\"])\n",
    "    dataset = dataset.shuffle(buffer_size = shuffle_size)\n",
    "    dataset = dataset.repeat()\n",
    "    dataset = dataset.batch(batch_size)\n",
    "    dataset = dataset.prefetch(buffer_size = buffer_size)\n",
    "    return(dataset)"
   ]
  },
  {
   "cell_type": "markdown",
   "metadata": {
    "colab_type": "text",
    "id": "WbGXQA3SZb8M"
   },
   "source": [
    "<br>\n",
    "\n",
    "___Pipeline architecture for validation data___\n",
    "\n",
    " `TFRecordDataset` $\\rightarrow$ `map` `5` at a time $\\rightarrow$ `repeat` indefinitely $\\rightarrow$ `batch` $\\rightarrow$ `prefetch` 1 batch only"
   ]
  },
  {
   "cell_type": "code",
   "execution_count": 28,
   "metadata": {
    "ExecuteTime": {
     "end_time": "2019-10-09T14:13:16.362597Z",
     "start_time": "2019-10-09T14:13:16.291957Z"
    },
    "colab": {},
    "colab_type": "code",
    "id": "8yquu8C2XSRh"
   },
   "outputs": [],
   "source": [
    "def start_pipeline_for_validation_data(directory = hyperparameters[\"validation_tfrecord_dump_path\"],\n",
    "                                       batch_size = hyperparameters[\"validation_batch_size\"]):\n",
    "    \n",
    "    record_file_names = [directory + file_name for file_name in listdir(directory)]\n",
    "    dataset = tf.data.TFRecordDataset(record_file_names)\n",
    "    dataset = dataset.map(read_feature, num_parallel_calls = hyperparameters[\"num_parallel_calls\"])\n",
    "    dataset = dataset.repeat()\n",
    "    dataset = dataset.batch(batch_size)\n",
    "    dataset = dataset.prefetch(buffer_size = 1)\n",
    "    return(dataset)"
   ]
  },
  {
   "cell_type": "markdown",
   "metadata": {
    "colab_type": "text",
    "id": "2H4oP7ShZkdI"
   },
   "source": [
    "<br>\n",
    "\n",
    "___Pipeline architecture___\n",
    "\n",
    " `TFRecordDataset` $\\rightarrow$ `map` `5` at a time $\\rightarrow$ `repeat` indefinitely $\\rightarrow$ `batch` $\\rightarrow$ `prefetch` 1 batch only"
   ]
  },
  {
   "cell_type": "code",
   "execution_count": 29,
   "metadata": {
    "ExecuteTime": {
     "end_time": "2019-10-09T14:13:16.510327Z",
     "start_time": "2019-10-09T14:13:16.365979Z"
    },
    "colab": {},
    "colab_type": "code",
    "id": "KAscxxQjYJMq"
   },
   "outputs": [],
   "source": [
    "def start_pipeline_for_test_data(directory = hyperparameters[\"test_tfrecord_dump_path\"],\n",
    "                                 batch_size = hyperparameters[\"test_batch_size\"]):\n",
    "    \n",
    "    record_file_names = [directory + file_name for file_name in listdir(directory)]\n",
    "    dataset = tf.data.TFRecordDataset(record_file_names)\n",
    "    dataset = dataset.map(read_feature, num_parallel_calls = hyperparameters[\"num_parallel_calls\"])\n",
    "    dataset = dataset.repeat()\n",
    "    dataset = dataset.batch(batch_size)\n",
    "    dataset = dataset.prefetch(buffer_size = 1)\n",
    "    return(dataset)"
   ]
  },
  {
   "cell_type": "markdown",
   "metadata": {
    "colab_type": "text",
    "id": "zA0VfqM0a2Ah"
   },
   "source": [
    "#### 5.1.5 Perform the dumps"
   ]
  },
  {
   "cell_type": "code",
   "execution_count": 30,
   "metadata": {
    "ExecuteTime": {
     "end_time": "2019-10-09T14:13:28.053687Z",
     "start_time": "2019-10-09T14:13:16.511434Z"
    },
    "colab": {},
    "colab_type": "code",
    "id": "krezvRdma74g"
   },
   "outputs": [],
   "source": [
    "folder = hyperparameters[\"train_tfrecord_dump_path\"]\n",
    "!rm -rf $folder/*\n",
    "dump_dataset_into_tf_records(x_train, folder, 7500)"
   ]
  },
  {
   "cell_type": "code",
   "execution_count": 31,
   "metadata": {
    "ExecuteTime": {
     "end_time": "2019-10-09T14:13:29.894164Z",
     "start_time": "2019-10-09T14:13:28.054976Z"
    },
    "colab": {},
    "colab_type": "code",
    "id": "PDAXLpQVa-Io"
   },
   "outputs": [],
   "source": [
    "folder = hyperparameters[\"validation_tfrecord_dump_path\"]\n",
    "!rm -rf $folder/*\n",
    "dump_dataset_into_tf_records(x_val, folder, 1250)"
   ]
  },
  {
   "cell_type": "code",
   "execution_count": 32,
   "metadata": {
    "ExecuteTime": {
     "end_time": "2019-10-09T14:13:31.185916Z",
     "start_time": "2019-10-09T14:13:29.901572Z"
    },
    "colab": {},
    "colab_type": "code",
    "id": "Jb7iWOu1a-LP"
   },
   "outputs": [],
   "source": [
    "folder = hyperparameters[\"test_tfrecord_dump_path\"]\n",
    "!rm -rf $folder/*\n",
    "dump_dataset_into_tf_records(x_test, folder, 750)"
   ]
  },
  {
   "cell_type": "markdown",
   "metadata": {
    "colab_type": "text",
    "id": "Ed5_tE8TwHrp"
   },
   "source": [
    "<br>\n",
    "\n",
    "### 5.2 The AutoEncoder"
   ]
  },
  {
   "cell_type": "code",
   "execution_count": 33,
   "metadata": {
    "ExecuteTime": {
     "end_time": "2019-10-09T14:13:31.192631Z",
     "start_time": "2019-10-09T14:13:31.190315Z"
    }
   },
   "outputs": [],
   "source": [
    "G = tf.Graph()"
   ]
  },
  {
   "cell_type": "markdown",
   "metadata": {},
   "source": [
    "_In order to define complex operations (sub-graphs), we start with defining nodes (with `tf.Variable` instances and simple binary, unary and boolean operations) and then use them as \"variables\" and/or \"operators\" to write our equations. Tensorflow will automatically create the sub-graphs_\n",
    "\n",
    "__In order to associate all the operations, variables and operators used, we use a context manager where our graph `G` is set as the default parent graph.__ Anything defined under that _context_ is automatically made a part of `G`."
   ]
  },
  {
   "cell_type": "markdown",
   "metadata": {
    "colab_type": "text",
    "id": "KTEqcm30wNFQ"
   },
   "source": [
    "#### 5.2.1 Integrate the input pipeline into the graph"
   ]
  },
  {
   "cell_type": "code",
   "execution_count": 34,
   "metadata": {
    "ExecuteTime": {
     "end_time": "2019-10-09T14:13:31.360158Z",
     "start_time": "2019-10-09T14:13:31.193780Z"
    }
   },
   "outputs": [],
   "source": [
    "with G.as_default():\n",
    "    \n",
    "    with tf.name_scope(\"INPUT_PIPELINE\"):\n",
    "\n",
    "        ''' Part 1A: Create the individual pipelines '''\n",
    "        train_pipeline = start_pipeline_for_training_data()\n",
    "        validation_pipeline = start_pipeline_for_validation_data()\n",
    "        test_pipeline = start_pipeline_for_test_data()\n",
    "\n",
    "        ''' Part 1B: Fit the pipelines with \"taps\" (make them iterators) '''\n",
    "        ''' The \"taps\" will provide the data flow in the specified batched amounts '''\n",
    "        train_tap = train_pipeline.make_initializable_iterator()\n",
    "        validation_tap = validation_pipeline.make_initializable_iterator()\n",
    "        test_tap = test_pipeline.make_initializable_iterator()\n",
    "\n",
    "        '''Part 1C: Open the \"taps\" '''\n",
    "        train_input, train_output = train_tap.get_next()\n",
    "        validation_input, validation_output = validation_tap.get_next()\n",
    "        test_input, test_output = test_tap.get_next()\n",
    "\n",
    "# clear deprecation warnings\n",
    "clear_output()"
   ]
  },
  {
   "cell_type": "markdown",
   "metadata": {},
   "source": [
    "#### 5.2.2 Create the hidden layer configurations of the neural network"
   ]
  },
  {
   "cell_type": "markdown",
   "metadata": {},
   "source": [
    "_Each hidden \"layer\" with $n$ neurons actually represents the matrix equation: $x.W^T + B$ where $x$ is the input from the previous layer or the initial input dataset itself and $W$, $B$ are `W` and `B` in the function `create_layer` defined below. \n",
    "[`tf.get_variable`](https://stackoverflow.com/questions/45074049/tensorflow-how-does-tf-get-variable-work) helps create a `tf.Tensor` with desired attributes and tensor dimensions as required._"
   ]
  },
  {
   "cell_type": "code",
   "execution_count": 35,
   "metadata": {
    "ExecuteTime": {
     "end_time": "2019-10-09T14:13:31.860737Z",
     "start_time": "2019-10-09T14:13:31.361254Z"
    },
    "colab": {},
    "colab_type": "code",
    "id": "Zf3kTo0zwMXi"
   },
   "outputs": [],
   "source": [
    "def create_layer(shape:list, \n",
    "                 W_name:str, \n",
    "                 B_name:str, \n",
    "                 W_arguments:dict, \n",
    "                 B_arguments:dict,\n",
    "                 is_latent:bool = False, \n",
    "                 activation_function:object = tf.nn.relu) -> tuple:\n",
    "    W = tf.get_variable(shape = shape, name = W_name, **W_arguments)\n",
    "    B = tf.get_variable(shape = [shape[1]], name = B_name, **B_arguments)\n",
    "    L = (W, B, is_latent, activation_function)\n",
    "    return(L)\n",
    "\n",
    "\n",
    "\n",
    "with G.as_default():\n",
    "    \n",
    "    with tf.name_scope(\"NETWORK_VARIABLES\"):\n",
    "        \n",
    "        ''' Part 2A: initialize the weight and bias initializers common for all the layers'''\n",
    "        weight_initializer = tf.random_normal_initializer(mean = 0, stddev = 1)\n",
    "        bias_initializer = tf.random_normal_initializer(mean = 0, stddev = 1)\n",
    "\n",
    "        \n",
    "        ''' Part 2B: Initialize the weight and bias initializers common for all the layers'''\n",
    "        ''' Note: Using regularizers creates a sparse autoencoder '''\n",
    "        r_lr = hyperparameters[\"regularization_learning_rate\"]\n",
    "        weight_regularizer = tf.contrib.layers.l2_regularizer(r_lr)\n",
    "        bias_regularizer = tf.contrib.layers.l2_regularizer(r_lr)\n",
    "\n",
    "        \n",
    "        ''' Part 2C: Create common arguments for all tensors used in the layers'''\n",
    "        W_arguments = dict(dtype = tf.float32,\n",
    "                           initializer = weight_initializer,\n",
    "                           regularizer = weight_regularizer)\n",
    "        B_arguments = dict(dtype = tf.float32,\n",
    "                           initializer = bias_initializer,\n",
    "                           regularizer = bias_regularizer)\n",
    "\n",
    "        \n",
    "        ''' Part 2D: Define Hidden Layer 1 '''\n",
    "        Layer01 = create_layer(shape = [hyperparameters[\"number_of_features\"], 24], \n",
    "                               W_name = \"W1\",\n",
    "                               B_name = \"B1\",\n",
    "                               W_arguments = W_arguments,\n",
    "                               B_arguments = B_arguments)\n",
    "        \n",
    "        ''' Part 2D: Define Hidden Layer 2 '''\n",
    "        Layer02 = create_layer(shape = [24, 12], \n",
    "                               W_name = \"W2\",\n",
    "                               B_name = \"B2\",\n",
    "                               W_arguments = W_arguments,\n",
    "                               B_arguments = B_arguments)\n",
    "\n",
    "        \n",
    "        ''' Part 2D: Define Hidden Layer 3 '''\n",
    "        ''' Note: This layer is the latent layer '''\n",
    "        Layer03 = create_layer(shape = [12, 8], \n",
    "                               W_name = \"W3\",\n",
    "                               B_name = \"B3\",\n",
    "                               W_arguments = W_arguments,\n",
    "                               B_arguments = B_arguments,\n",
    "                               is_latent = True)\n",
    "\n",
    "        \n",
    "        ''' Part 2D: Define Hidden Layer 4 '''\n",
    "        Layer04 = create_layer(shape = [8, 12], \n",
    "                               W_name = \"W4\",\n",
    "                               B_name = \"B4\",\n",
    "                               W_arguments = W_arguments,\n",
    "                               B_arguments = B_arguments)\n",
    "\n",
    "        \n",
    "        ''' Part 2D: Define Hidden Layer 5 '''\n",
    "        Layer05 = create_layer(shape = [12, 24], \n",
    "                               W_name = \"W5\",\n",
    "                               B_name = \"B5\",\n",
    "                               W_arguments = W_arguments,\n",
    "                               B_arguments = B_arguments)\n",
    "\n",
    "        \n",
    "        ''' Part 2D: Define Hidden Layer 6 '''\n",
    "        Layer06 = create_layer(shape = [24, hyperparameters[\"number_of_features\"]], \n",
    "                               W_name = \"W6\",\n",
    "                               B_name = \"B6\",\n",
    "                               W_arguments = W_arguments,\n",
    "                               B_arguments = B_arguments)\n",
    "        \n",
    "        \n",
    "        ''' Part 2E: Collect all the hidden layers '''\n",
    "        layers = [Layer01, Layer02, Layer03, Layer04, Layer05, Layer06]\n",
    "\n",
    "# clear deprecation warnings\n",
    "clear_output()"
   ]
  },
  {
   "cell_type": "markdown",
   "metadata": {},
   "source": [
    "#### 5.2.3 Perform forward passes"
   ]
  },
  {
   "cell_type": "markdown",
   "metadata": {},
   "source": [
    "_The line `z = tf.matmul(x, W) + B` is the workhose of performing the forward propagation step in a neural network. The corresponding equation is $z = x.W^T + B$ where $W$ is the weight matrix and $B$ is the bias vector. The output $z$ must be passed to an activation function `g` (must non-linear in nature, find more [here](https://en.wikipedia.org/wiki/Activation_function#Comparison_of_activation_functions)) which will transform $z$ from the domain of $x$ to the co-domain of `g` which is predefined to a specific range of values (generally in the neighbourhood of 0)_"
   ]
  },
  {
   "cell_type": "code",
   "execution_count": 36,
   "metadata": {
    "ExecuteTime": {
     "end_time": "2019-10-09T14:13:31.891960Z",
     "start_time": "2019-10-09T14:13:31.862202Z"
    }
   },
   "outputs": [],
   "source": [
    "def perform_one_forward_pass(input_data:tf.Tensor, layers:list, full_pass:bool) -> tf.Variable:\n",
    "        x = input_data\n",
    "        for W, B, is_latent, g in layers:\n",
    "            z = tf.matmul(x, W) + B\n",
    "            h = g(z)\n",
    "            if is_latent and not full_pass:\n",
    "                return(h)\n",
    "            else:\n",
    "                x = h\n",
    "        return(h)\n",
    "\n",
    "with G.as_default():    \n",
    "    \n",
    "    with tf.name_scope(\"FULL_FORWARD_PASS\"):\n",
    "        \n",
    "        predicted_train_output = perform_one_forward_pass(input_data = train_input,\n",
    "                                                          layers = layers,\n",
    "                                                          full_pass = True)\n",
    "        \n",
    "        predicted_validation_output = perform_one_forward_pass(input_data = validation_input,\n",
    "                                                               layers = layers,\n",
    "                                                               full_pass = True)\n",
    "        \n",
    "        predicted_test_output = perform_one_forward_pass(input_data = test_input,\n",
    "                                                         layers = layers, \n",
    "                                                         full_pass = True)\n",
    "\n",
    "\n",
    "# clear deprecation warnings\n",
    "clear_output()"
   ]
  },
  {
   "cell_type": "markdown",
   "metadata": {},
   "source": [
    "#### 5.2.4 Compute error in recreation"
   ]
  },
  {
   "cell_type": "markdown",
   "metadata": {},
   "source": [
    "_If we denote an AutoEncoder by the function $f$ and an input dataset as $x$, then the purpose of the AutoEncoder is to perform a mapping as $f:x \\rightarrow \\hat{x}$ where $x$ is an manifold approximation of $x$ created by dimension reduction and data compression. So, to measure how well $f$ performs the mapping, we compute the difference between $x$ and $\\hat{x}$ and measure it as a recreation error metric for $x$_."
   ]
  },
  {
   "cell_type": "code",
   "execution_count": 37,
   "metadata": {
    "ExecuteTime": {
     "end_time": "2019-10-09T14:13:31.983116Z",
     "start_time": "2019-10-09T14:13:31.893120Z"
    }
   },
   "outputs": [],
   "source": [
    "def compute_MSE(xhat:tf.Tensor, x:tf.Tensor, batch_size:int) -> tf.float32:\n",
    "    mean_squared_error = tf.keras.losses.MSE(y_true = x, y_pred = xhat)    \n",
    "    total_mean_squared_error = tf.math.reduce_mean(input_tensor = mean_squared_error, axis = None)\n",
    "    averaged_mean_squared_error = tf.math.divide(x = total_mean_squared_error, y = batch_size)\n",
    "    regularization_loss = tf.losses.get_regularization_loss()\n",
    "    \n",
    "    if regularization_loss is None:\n",
    "        final_loss = averaged_mean_squared_error\n",
    "    else:\n",
    "        final_loss = averaged_mean_squared_error + regularization_loss\n",
    "    \n",
    "    return(final_loss)\n",
    "            \n",
    "\n",
    "        \n",
    "with G.as_default():\n",
    "    \n",
    "    with tf.name_scope(\"RECREATION_LOSS\"):\n",
    "        \n",
    "        train_recreation_error = compute_MSE(xhat = predicted_train_output, \n",
    "                                             x = train_output, \n",
    "                                             batch_size = hyperparameters[\"train_batch_size\"])\n",
    "               \n",
    "        \n",
    "        val_recreation_error = compute_MSE(xhat = predicted_validation_output,\n",
    "                                           x = validation_output, \n",
    "                                           batch_size = hyperparameters[\"validation_batch_size\"])\n",
    "        \n",
    "        val_recreation_error_raw = tf.keras.losses.MSE(y_true = validation_output,\n",
    "                                                       y_pred = predicted_validation_output)\n",
    "        \n",
    "        test_recreation_error = compute_MSE(xhat = predicted_test_output,\n",
    "                                            x = test_output,\n",
    "                                            batch_size = hyperparameters[\"test_batch_size\"])\n",
    "        \n",
    "        test_recreation_error_raw = tf.keras.losses.MSE(y_true = test_output, \n",
    "                                                        y_pred = predicted_test_output)\n",
    "\n",
    "# clear deprecation warnings\n",
    "clear_output()"
   ]
  },
  {
   "cell_type": "markdown",
   "metadata": {},
   "source": [
    "#### 5.2.5 Record recreation error tensors for tensorboard"
   ]
  },
  {
   "cell_type": "code",
   "execution_count": 38,
   "metadata": {
    "ExecuteTime": {
     "end_time": "2019-10-09T14:13:32.089045Z",
     "start_time": "2019-10-09T14:13:31.984390Z"
    }
   },
   "outputs": [],
   "source": [
    "with G.as_default():\n",
    "    \n",
    "    with tf.name_scope(\"ERROR_SUMMARIES\"):\n",
    "        \n",
    "        train_recreation_error_summary = tf.summary.scalar(name = \"train_recreation_error\",\n",
    "                                                           tensor = train_recreation_error)\n",
    "        \n",
    "        validation_recreation_error_summary = tf.summary.scalar(name = \"val_recreation_error\",\n",
    "                                                                tensor = val_recreation_error)\n",
    "        \n",
    "        validation_recreation_error_raw_summary = tf.summary.histogram(\"val_recreation_error_raw\",\n",
    "                                                                       val_recreation_error_raw)      "
   ]
  },
  {
   "cell_type": "markdown",
   "metadata": {},
   "source": [
    "#### 5.2.6 Perform a backpass using `train_recreation_error`"
   ]
  },
  {
   "cell_type": "code",
   "execution_count": 39,
   "metadata": {
    "ExecuteTime": {
     "end_time": "2019-10-09T14:13:32.354812Z",
     "start_time": "2019-10-09T14:13:32.090192Z"
    }
   },
   "outputs": [],
   "source": [
    "def perform_one_back_pass(train_recreation_loss:tf.Tensor) -> tf.Operation:\n",
    "    trainable_variables = tf.trainable_variables()\n",
    "    gradients = tf.gradients(train_recreation_loss, trainable_variables, name = \"GRADIENTS\")\n",
    "    optimizer = tf.train.RMSPropOptimizer(learning_rate = hyperparameters[\"regularization_learning_rate\"],\n",
    "                                          name = \"RMSPROP\")\n",
    "    update_operation = optimizer.apply_gradients(grads_and_vars = zip(gradients, trainable_variables), \n",
    "                                                 name = \"BACK_PASS_GRADIENTS\")\n",
    "    return(update_operation)\n",
    "\n",
    "\n",
    "with G.as_default():\n",
    "    \n",
    "    with tf.name_scope(\"FULL_BACK_PASS\"):\n",
    "        \n",
    "        perform_backpass = perform_one_back_pass(train_recreation_loss = train_recreation_error)\n",
    "\n",
    "# clear deprecation warnings\n",
    "clear_output()"
   ]
  },
  {
   "cell_type": "markdown",
   "metadata": {},
   "source": [
    "#### 5.2.7 Create a node in `G` to save the current state of the model"
   ]
  },
  {
   "cell_type": "code",
   "execution_count": 40,
   "metadata": {
    "ExecuteTime": {
     "end_time": "2019-10-09T14:13:32.690733Z",
     "start_time": "2019-10-09T14:13:32.355980Z"
    }
   },
   "outputs": [],
   "source": [
    "temp = hyperparameters[\"model_dump\"]\n",
    "\n",
    "!rm -rf $temp\n",
    "!mkdir -p $temp\n",
    "\n",
    "\n",
    "with G.as_default():\n",
    "    \n",
    "    with tf.name_scope(\"MODEL_DUMP\"):\n",
    "        \n",
    "        save_graph_state = tf.train.Saver()"
   ]
  },
  {
   "cell_type": "markdown",
   "metadata": {},
   "source": [
    "#### 5.2.8 Get a run-down on shapes of some tensors and variables"
   ]
  },
  {
   "cell_type": "markdown",
   "metadata": {},
   "source": [
    "___Of batch sizes___"
   ]
  },
  {
   "cell_type": "code",
   "execution_count": 41,
   "metadata": {
    "ExecuteTime": {
     "end_time": "2019-10-09T14:13:32.694881Z",
     "start_time": "2019-10-09T14:13:32.692076Z"
    }
   },
   "outputs": [
    {
     "data": {
      "text/plain": [
       "(512, 34117, 22746)"
      ]
     },
     "execution_count": 41,
     "metadata": {},
     "output_type": "execute_result"
    }
   ],
   "source": [
    "# batch sizes\n",
    "hyperparameters[\"train_batch_size\"], hyperparameters[\"validation_batch_size\"], hyperparameters[\"test_batch_size\"]"
   ]
  },
  {
   "cell_type": "code",
   "execution_count": 42,
   "metadata": {
    "ExecuteTime": {
     "end_time": "2019-10-09T14:13:32.826725Z",
     "start_time": "2019-10-09T14:13:32.695918Z"
    }
   },
   "outputs": [
    {
     "data": {
      "text/plain": [
       "(444, 1, 1)"
      ]
     },
     "execution_count": 42,
     "metadata": {},
     "output_type": "execute_result"
    }
   ],
   "source": [
    "# number of batches to iterate over (also called \"epochs\")\n",
    "number_of_train_batches = x_train.shape[0] // hyperparameters[\"train_batch_size\"]\n",
    "number_of_validation_batches = x_val.shape[0] // hyperparameters[\"validation_batch_size\"]\n",
    "number_of_test_batches = x_test.shape[0] // hyperparameters[\"test_batch_size\"]\n",
    "\n",
    "number_of_train_batches, number_of_validation_batches, number_of_test_batches"
   ]
  },
  {
   "cell_type": "markdown",
   "metadata": {},
   "source": [
    "___Of inputs___"
   ]
  },
  {
   "cell_type": "code",
   "execution_count": 43,
   "metadata": {
    "ExecuteTime": {
     "end_time": "2019-10-09T14:13:32.929229Z",
     "start_time": "2019-10-09T14:13:32.828789Z"
    }
   },
   "outputs": [
    {
     "data": {
      "text/plain": [
       "(TensorShape([Dimension(None), Dimension(29)]),\n",
       " TensorShape([Dimension(None), Dimension(29)]),\n",
       " TensorShape([Dimension(None), Dimension(29)]))"
      ]
     },
     "execution_count": 43,
     "metadata": {},
     "output_type": "execute_result"
    }
   ],
   "source": [
    "# input tensors to the graph\n",
    "train_input.shape, validation_input.shape, test_input.shape"
   ]
  },
  {
   "cell_type": "code",
   "execution_count": 44,
   "metadata": {
    "ExecuteTime": {
     "end_time": "2019-10-09T14:13:32.991331Z",
     "start_time": "2019-10-09T14:13:32.934709Z"
    }
   },
   "outputs": [
    {
     "data": {
      "text/plain": [
       "(TensorShape([Dimension(None), Dimension(29)]),\n",
       " TensorShape([Dimension(None), Dimension(29)]),\n",
       " TensorShape([Dimension(None), Dimension(29)]))"
      ]
     },
     "execution_count": 44,
     "metadata": {},
     "output_type": "execute_result"
    }
   ],
   "source": [
    "# expected output tensors as input\n",
    "train_output.shape, validation_output.shape, test_output.shape"
   ]
  },
  {
   "cell_type": "markdown",
   "metadata": {},
   "source": [
    "___Of predictions___"
   ]
  },
  {
   "cell_type": "code",
   "execution_count": 45,
   "metadata": {
    "ExecuteTime": {
     "end_time": "2019-10-09T14:13:33.092151Z",
     "start_time": "2019-10-09T14:13:32.992374Z"
    }
   },
   "outputs": [
    {
     "data": {
      "text/plain": [
       "(TensorShape([Dimension(None), Dimension(29)]),\n",
       " TensorShape([Dimension(None), Dimension(29)]),\n",
       " TensorShape([Dimension(None), Dimension(29)]))"
      ]
     },
     "execution_count": 45,
     "metadata": {},
     "output_type": "execute_result"
    }
   ],
   "source": [
    "#full forward pass outputs\n",
    "predicted_train_output.shape, predicted_validation_output.shape, predicted_test_output.shape"
   ]
  },
  {
   "cell_type": "markdown",
   "metadata": {},
   "source": [
    "#### 5.2.9 A function to create`tf.Summary` writer object for the Tensorboard on demand"
   ]
  },
  {
   "cell_type": "code",
   "execution_count": 46,
   "metadata": {
    "ExecuteTime": {
     "end_time": "2019-10-09T14:13:33.194082Z",
     "start_time": "2019-10-09T14:13:33.093959Z"
    }
   },
   "outputs": [],
   "source": [
    "from os.path import isdir\n",
    "from os import mkdir\n",
    "\n",
    "def get_new_summary_writer(tensorboard_dump_folder):\n",
    "    if isdir(tensorboard_dump_folder):\n",
    "        tensorboard_dump_folder = \"./tensborboard/\"\n",
    "    mkdir(tensorboard_dump_folder)\n",
    "    writer = tf.summary.FileWriter(tensorboard_dump_folder)\n",
    "    return(writer)"
   ]
  },
  {
   "cell_type": "markdown",
   "metadata": {},
   "source": [
    "<br>\n",
    "\n",
    "### 5.3 Visualize the Graph"
   ]
  },
  {
   "cell_type": "markdown",
   "metadata": {
    "ExecuteTime": {
     "end_time": "2019-10-04T16:36:26.411648Z",
     "start_time": "2019-10-04T16:36:26.408412Z"
    }
   },
   "source": [
    "[Source code from Tensorflow Authors](https://nbviewer.jupyter.org/github/tensorflow/examples/blob/master/community/en/r1/deepdream.ipynb#Loading-and-displaying-the-model-graph)"
   ]
  },
  {
   "cell_type": "code",
   "execution_count": 47,
   "metadata": {
    "ExecuteTime": {
     "end_time": "2019-10-09T14:13:33.266015Z",
     "start_time": "2019-10-09T14:13:33.199319Z"
    }
   },
   "outputs": [],
   "source": [
    "from IPython.display import Image, display, HTML\n",
    "\n",
    "def strip_consts(graph_def, max_const_size = 32):\n",
    "    \"\"\"Strip large constant values from graph_def.\"\"\"\n",
    "    strip_def = tf.GraphDef()\n",
    "    for n0 in graph_def.node:\n",
    "        n = strip_def.node.add() \n",
    "        n.MergeFrom(n0)\n",
    "        if n.op == 'Const':\n",
    "            tensor = n.attr['value'].tensor\n",
    "            size = len(tensor.tensor_content)\n",
    "            if size > max_const_size:\n",
    "                tensor.tensor_content = \"<stripped %d bytes>\"%size\n",
    "    return strip_def\n",
    "\n",
    "def show_graph(graph_def, max_const_size = 32):\n",
    "    \"\"\"Visualize TensorFlow graph.\"\"\"\n",
    "    if hasattr(graph_def, 'as_graph_def'):\n",
    "        graph_def = graph_def.as_graph_def()\n",
    "    strip_def = strip_consts(graph_def, max_const_size = max_const_size)\n",
    "    code = \"\"\"\n",
    "        <script>\n",
    "          function load() {{\n",
    "            document.getElementById(\"{id}\").pbtxt = {data};\n",
    "          }}\n",
    "        </script>\n",
    "        <link rel=\"import\" href=\"https://tensorboard.appspot.com/tf-graph-basic.build.html\" onload=load()>\n",
    "        <div style=\"height:600px\">\n",
    "          <tf-graph-basic id=\"{id}\"></tf-graph-basic>\n",
    "        </div>\n",
    "    \"\"\".format(data=repr(str(strip_def)), id='graph'+str(np.random.rand()))\n",
    "\n",
    "    iframe = \"\"\"\n",
    "        <iframe seamless style=\"width:950px;height:620px;border:0\" srcdoc=\"{}\"></iframe>\n",
    "    \"\"\".format(code.replace('\"', '&quot;'))\n",
    "    display(HTML(iframe))"
   ]
  },
  {
   "cell_type": "code",
   "execution_count": 48,
   "metadata": {
    "ExecuteTime": {
     "end_time": "2019-10-09T14:13:33.387198Z",
     "start_time": "2019-10-09T14:13:33.267654Z"
    }
   },
   "outputs": [
    {
     "data": {
      "text/html": [
       "\n",
       "        <iframe seamless style=\"width:950px;height:620px;border:0\" srcdoc=\"\n",
       "        <script>\n",
       "          function load() {\n",
       "            document.getElementById(&quot;graph0.7891253144679928&quot;).pbtxt = 'node {\\n  name: &quot;INPUT_PIPELINE/Const&quot;\\n  op: &quot;Const&quot;\\n  attr {\\n    key: &quot;dtype&quot;\\n    value {\\n      type: DT_STRING\\n    }\\n  }\\n  attr {\\n    key: &quot;value&quot;\\n    value {\\n      tensor {\\n        dtype: DT_STRING\\n        tensor_shape {\\n          dim {\\n            size: 31\\n          }\\n        }\\n        string_val: &quot;./train_records/Batch_1.tfrecord&quot;\\n        string_val: &quot;./train_records/Batch_10.tfrecord&quot;\\n        string_val: &quot;./train_records/Batch_11.tfrecord&quot;\\n        string_val: &quot;./train_records/Batch_12.tfrecord&quot;\\n        string_val: &quot;./train_records/Batch_13.tfrecord&quot;\\n        string_val: &quot;./train_records/Batch_14.tfrecord&quot;\\n        string_val: &quot;./train_records/Batch_15.tfrecord&quot;\\n        string_val: &quot;./train_records/Batch_16.tfrecord&quot;\\n        string_val: &quot;./train_records/Batch_17.tfrecord&quot;\\n        string_val: &quot;./train_records/Batch_18.tfrecord&quot;\\n        string_val: &quot;./train_records/Batch_19.tfrecord&quot;\\n        string_val: &quot;./train_records/Batch_2.tfrecord&quot;\\n        string_val: &quot;./train_records/Batch_20.tfrecord&quot;\\n        string_val: &quot;./train_records/Batch_21.tfrecord&quot;\\n        string_val: &quot;./train_records/Batch_22.tfrecord&quot;\\n        string_val: &quot;./train_records/Batch_23.tfrecord&quot;\\n        string_val: &quot;./train_records/Batch_24.tfrecord&quot;\\n        string_val: &quot;./train_records/Batch_25.tfrecord&quot;\\n        string_val: &quot;./train_records/Batch_26.tfrecord&quot;\\n        string_val: &quot;./train_records/Batch_27.tfrecord&quot;\\n        string_val: &quot;./train_records/Batch_28.tfrecord&quot;\\n        string_val: &quot;./train_records/Batch_29.tfrecord&quot;\\n        string_val: &quot;./train_records/Batch_3.tfrecord&quot;\\n        string_val: &quot;./train_records/Batch_30.tfrecord&quot;\\n        string_val: &quot;./train_records/Batch_31.tfrecord&quot;\\n        string_val: &quot;./train_records/Batch_4.tfrecord&quot;\\n        string_val: &quot;./train_records/Batch_5.tfrecord&quot;\\n        string_val: &quot;./train_records/Batch_6.tfrecord&quot;\\n        string_val: &quot;./train_records/Batch_7.tfrecord&quot;\\n        string_val: &quot;./train_records/Batch_8.tfrecord&quot;\\n        string_val: &quot;./train_records/Batch_9.tfrecord&quot;\\n      }\\n    }\\n  }\\n}\\nnode {\\n  name: &quot;INPUT_PIPELINE/flat_filenames/shape&quot;\\n  op: &quot;Const&quot;\\n  attr {\\n    key: &quot;dtype&quot;\\n    value {\\n      type: DT_INT32\\n    }\\n  }\\n  attr {\\n    key: &quot;value&quot;\\n    value {\\n      tensor {\\n        dtype: DT_INT32\\n        tensor_shape {\\n          dim {\\n            size: 1\\n          }\\n        }\\n        int_val: -1\\n      }\\n    }\\n  }\\n}\\nnode {\\n  name: &quot;INPUT_PIPELINE/flat_filenames&quot;\\n  op: &quot;Reshape&quot;\\n  input: &quot;INPUT_PIPELINE/Const&quot;\\n  input: &quot;INPUT_PIPELINE/flat_filenames/shape&quot;\\n  attr {\\n    key: &quot;T&quot;\\n    value {\\n      type: DT_STRING\\n    }\\n  }\\n  attr {\\n    key: &quot;Tshape&quot;\\n    value {\\n      type: DT_INT32\\n    }\\n  }\\n}\\nnode {\\n  name: &quot;INPUT_PIPELINE/TensorSliceDataset&quot;\\n  op: &quot;TensorSliceDataset&quot;\\n  input: &quot;INPUT_PIPELINE/flat_filenames&quot;\\n  attr {\\n    key: &quot;Toutput_types&quot;\\n    value {\\n      list {\\n        type: DT_STRING\\n      }\\n    }\\n  }\\n  attr {\\n    key: &quot;output_shapes&quot;\\n    value {\\n      list {\\n        shape {\\n        }\\n      }\\n    }\\n  }\\n}\\nnode {\\n  name: &quot;INPUT_PIPELINE/FlatMapDataset&quot;\\n  op: &quot;FlatMapDataset&quot;\\n  input: &quot;INPUT_PIPELINE/TensorSliceDataset&quot;\\n  attr {\\n    key: &quot;Targuments&quot;\\n    value {\\n      list {\\n      }\\n    }\\n  }\\n  attr {\\n    key: &quot;f&quot;\\n    value {\\n      func {\\n        name: &quot;__inference_Dataset_flat_map_read_one_file_11&quot;\\n      }\\n    }\\n  }\\n  attr {\\n    key: &quot;output_shapes&quot;\\n    value {\\n      list {\\n        shape {\\n        }\\n      }\\n    }\\n  }\\n  attr {\\n    key: &quot;output_types&quot;\\n    value {\\n      list {\\n        type: DT_STRING\\n      }\\n    }\\n  }\\n}\\nnode {\\n  name: &quot;INPUT_PIPELINE/num_parallel_calls&quot;\\n  op: &quot;Const&quot;\\n  attr {\\n    key: &quot;dtype&quot;\\n    value {\\n      type: DT_INT32\\n    }\\n  }\\n  attr {\\n    key: &quot;value&quot;\\n    value {\\n      tensor {\\n        dtype: DT_INT32\\n        tensor_shape {\\n        }\\n        int_val: 5\\n      }\\n    }\\n  }\\n}\\nnode {\\n  name: &quot;INPUT_PIPELINE/ParallelMapDataset&quot;\\n  op: &quot;ParallelMapDataset&quot;\\n  input: &quot;INPUT_PIPELINE/FlatMapDataset&quot;\\n  input: &quot;INPUT_PIPELINE/num_parallel_calls&quot;\\n  attr {\\n    key: &quot;Targuments&quot;\\n    value {\\n      list {\\n      }\\n    }\\n  }\\n  attr {\\n    key: &quot;f&quot;\\n    value {\\n      func {\\n        name: &quot;__inference_Dataset_map_read_feature_21&quot;\\n      }\\n    }\\n  }\\n  attr {\\n    key: &quot;output_shapes&quot;\\n    value {\\n      list {\\n        shape {\\n          dim {\\n            size: 29\\n          }\\n        }\\n        shape {\\n          dim {\\n            size: 29\\n          }\\n        }\\n      }\\n    }\\n  }\\n  attr {\\n    key: &quot;output_types&quot;\\n    value {\\n      list {\\n        type: DT_FLOAT\\n        type: DT_FLOAT\\n      }\\n    }\\n  }\\n  attr {\\n    key: &quot;preserve_cardinality&quot;\\n    value {\\n      b: false\\n    }\\n  }\\n  attr {\\n    key: &quot;sloppy&quot;\\n    value {\\n      b: false\\n    }\\n  }\\n  attr {\\n    key: &quot;use_inter_op_parallelism&quot;\\n    value {\\n      b: true\\n    }\\n  }\\n}\\nnode {\\n  name: &quot;INPUT_PIPELINE/buffer_size&quot;\\n  op: &quot;Const&quot;\\n  attr {\\n    key: &quot;dtype&quot;\\n    value {\\n      type: DT_INT64\\n    }\\n  }\\n  attr {\\n    key: &quot;value&quot;\\n    value {\\n      tensor {\\n        dtype: DT_INT64\\n        tensor_shape {\\n        }\\n        int64_val: 512\\n      }\\n    }\\n  }\\n}\\nnode {\\n  name: &quot;INPUT_PIPELINE/seed&quot;\\n  op: &quot;Const&quot;\\n  attr {\\n    key: &quot;dtype&quot;\\n    value {\\n      type: DT_INT64\\n    }\\n  }\\n  attr {\\n    key: &quot;value&quot;\\n    value {\\n      tensor {\\n        dtype: DT_INT64\\n        tensor_shape {\\n        }\\n        int64_val: 0\\n      }\\n    }\\n  }\\n}\\nnode {\\n  name: &quot;INPUT_PIPELINE/seed2&quot;\\n  op: &quot;Const&quot;\\n  attr {\\n    key: &quot;dtype&quot;\\n    value {\\n      type: DT_INT64\\n    }\\n  }\\n  attr {\\n    key: &quot;value&quot;\\n    value {\\n      tensor {\\n        dtype: DT_INT64\\n        tensor_shape {\\n        }\\n        int64_val: 0\\n      }\\n    }\\n  }\\n}\\nnode {\\n  name: &quot;INPUT_PIPELINE/ShuffleDataset&quot;\\n  op: &quot;ShuffleDataset&quot;\\n  input: &quot;INPUT_PIPELINE/ParallelMapDataset&quot;\\n  input: &quot;INPUT_PIPELINE/buffer_size&quot;\\n  input: &quot;INPUT_PIPELINE/seed&quot;\\n  input: &quot;INPUT_PIPELINE/seed2&quot;\\n  attr {\\n    key: &quot;output_shapes&quot;\\n    value {\\n      list {\\n        shape {\\n          dim {\\n            size: 29\\n          }\\n        }\\n        shape {\\n          dim {\\n            size: 29\\n          }\\n        }\\n      }\\n    }\\n  }\\n  attr {\\n    key: &quot;output_types&quot;\\n    value {\\n      list {\\n        type: DT_FLOAT\\n        type: DT_FLOAT\\n      }\\n    }\\n  }\\n  attr {\\n    key: &quot;reshuffle_each_iteration&quot;\\n    value {\\n      b: true\\n    }\\n  }\\n}\\nnode {\\n  name: &quot;INPUT_PIPELINE/count&quot;\\n  op: &quot;Const&quot;\\n  attr {\\n    key: &quot;dtype&quot;\\n    value {\\n      type: DT_INT64\\n    }\\n  }\\n  attr {\\n    key: &quot;value&quot;\\n    value {\\n      tensor {\\n        dtype: DT_INT64\\n        tensor_shape {\\n        }\\n        int64_val: -1\\n      }\\n    }\\n  }\\n}\\nnode {\\n  name: &quot;INPUT_PIPELINE/RepeatDataset&quot;\\n  op: &quot;RepeatDataset&quot;\\n  input: &quot;INPUT_PIPELINE/ShuffleDataset&quot;\\n  input: &quot;INPUT_PIPELINE/count&quot;\\n  attr {\\n    key: &quot;output_shapes&quot;\\n    value {\\n      list {\\n        shape {\\n          dim {\\n            size: 29\\n          }\\n        }\\n        shape {\\n          dim {\\n            size: 29\\n          }\\n        }\\n      }\\n    }\\n  }\\n  attr {\\n    key: &quot;output_types&quot;\\n    value {\\n      list {\\n        type: DT_FLOAT\\n        type: DT_FLOAT\\n      }\\n    }\\n  }\\n}\\nnode {\\n  name: &quot;INPUT_PIPELINE/batch_size&quot;\\n  op: &quot;Const&quot;\\n  attr {\\n    key: &quot;dtype&quot;\\n    value {\\n      type: DT_INT64\\n    }\\n  }\\n  attr {\\n    key: &quot;value&quot;\\n    value {\\n      tensor {\\n        dtype: DT_INT64\\n        tensor_shape {\\n        }\\n        int64_val: 512\\n      }\\n    }\\n  }\\n}\\nnode {\\n  name: &quot;INPUT_PIPELINE/drop_remainder&quot;\\n  op: &quot;Const&quot;\\n  attr {\\n    key: &quot;dtype&quot;\\n    value {\\n      type: DT_BOOL\\n    }\\n  }\\n  attr {\\n    key: &quot;value&quot;\\n    value {\\n      tensor {\\n        dtype: DT_BOOL\\n        tensor_shape {\\n        }\\n        bool_val: false\\n      }\\n    }\\n  }\\n}\\nnode {\\n  name: &quot;INPUT_PIPELINE/BatchDatasetV2&quot;\\n  op: &quot;BatchDatasetV2&quot;\\n  input: &quot;INPUT_PIPELINE/RepeatDataset&quot;\\n  input: &quot;INPUT_PIPELINE/batch_size&quot;\\n  input: &quot;INPUT_PIPELINE/drop_remainder&quot;\\n  attr {\\n    key: &quot;output_shapes&quot;\\n    value {\\n      list {\\n        shape {\\n          dim {\\n            size: -1\\n          }\\n          dim {\\n            size: 29\\n          }\\n        }\\n        shape {\\n          dim {\\n            size: -1\\n          }\\n          dim {\\n            size: 29\\n          }\\n        }\\n      }\\n    }\\n  }\\n  attr {\\n    key: &quot;output_types&quot;\\n    value {\\n      list {\\n        type: DT_FLOAT\\n        type: DT_FLOAT\\n      }\\n    }\\n  }\\n  attr {\\n    key: &quot;parallel_copy&quot;\\n    value {\\n      b: false\\n    }\\n  }\\n}\\nnode {\\n  name: &quot;INPUT_PIPELINE/buffer_size_1&quot;\\n  op: &quot;Const&quot;\\n  attr {\\n    key: &quot;dtype&quot;\\n    value {\\n      type: DT_INT64\\n    }\\n  }\\n  attr {\\n    key: &quot;value&quot;\\n    value {\\n      tensor {\\n        dtype: DT_INT64\\n        tensor_shape {\\n        }\\n        int64_val: 3\\n      }\\n    }\\n  }\\n}\\nnode {\\n  name: &quot;INPUT_PIPELINE/PrefetchDataset&quot;\\n  op: &quot;PrefetchDataset&quot;\\n  input: &quot;INPUT_PIPELINE/BatchDatasetV2&quot;\\n  input: &quot;INPUT_PIPELINE/buffer_size_1&quot;\\n  attr {\\n    key: &quot;output_shapes&quot;\\n    value {\\n      list {\\n        shape {\\n          dim {\\n            size: -1\\n          }\\n          dim {\\n            size: 29\\n          }\\n        }\\n        shape {\\n          dim {\\n            size: -1\\n          }\\n          dim {\\n            size: 29\\n          }\\n        }\\n      }\\n    }\\n  }\\n  attr {\\n    key: &quot;output_types&quot;\\n    value {\\n      list {\\n        type: DT_FLOAT\\n        type: DT_FLOAT\\n      }\\n    }\\n  }\\n  attr {\\n    key: &quot;slack_period&quot;\\n    value {\\n      i: 0\\n    }\\n  }\\n}\\nnode {\\n  name: &quot;INPUT_PIPELINE/Const_1&quot;\\n  op: &quot;Const&quot;\\n  attr {\\n    key: &quot;dtype&quot;\\n    value {\\n      type: DT_STRING\\n    }\\n  }\\n  attr {\\n    key: &quot;value&quot;\\n    value {\\n      tensor {\\n        dtype: DT_STRING\\n        tensor_shape {\\n          dim {\\n            size: 28\\n          }\\n        }\\n        string_val: &quot;./validation_records/Batch_1.tfrecord&quot;\\n        string_val: &quot;./validation_records/Batch_10.tfrecord&quot;\\n        string_val: &quot;./validation_records/Batch_11.tfrecord&quot;\\n        string_val: &quot;./validation_records/Batch_12.tfrecord&quot;\\n        string_val: &quot;./validation_records/Batch_13.tfrecord&quot;\\n        string_val: &quot;./validation_records/Batch_14.tfrecord&quot;\\n        string_val: &quot;./validation_records/Batch_15.tfrecord&quot;\\n        string_val: &quot;./validation_records/Batch_16.tfrecord&quot;\\n        string_val: &quot;./validation_records/Batch_17.tfrecord&quot;\\n        string_val: &quot;./validation_records/Batch_18.tfrecord&quot;\\n        string_val: &quot;./validation_records/Batch_19.tfrecord&quot;\\n        string_val: &quot;./validation_records/Batch_2.tfrecord&quot;\\n        string_val: &quot;./validation_records/Batch_20.tfrecord&quot;\\n        string_val: &quot;./validation_records/Batch_21.tfrecord&quot;\\n        string_val: &quot;./validation_records/Batch_22.tfrecord&quot;\\n        string_val: &quot;./validation_records/Batch_23.tfrecord&quot;\\n        string_val: &quot;./validation_records/Batch_24.tfrecord&quot;\\n        string_val: &quot;./validation_records/Batch_25.tfrecord&quot;\\n        string_val: &quot;./validation_records/Batch_26.tfrecord&quot;\\n        string_val: &quot;./validation_records/Batch_27.tfrecord&quot;\\n        string_val: &quot;./validation_records/Batch_28.tfrecord&quot;\\n        string_val: &quot;./validation_records/Batch_3.tfrecord&quot;\\n        string_val: &quot;./validation_records/Batch_4.tfrecord&quot;\\n        string_val: &quot;./validation_records/Batch_5.tfrecord&quot;\\n        string_val: &quot;./validation_records/Batch_6.tfrecord&quot;\\n        string_val: &quot;./validation_records/Batch_7.tfrecord&quot;\\n        string_val: &quot;./validation_records/Batch_8.tfrecord&quot;\\n        string_val: &quot;./validation_records/Batch_9.tfrecord&quot;\\n      }\\n    }\\n  }\\n}\\nnode {\\n  name: &quot;INPUT_PIPELINE/flat_filenames_1/shape&quot;\\n  op: &quot;Const&quot;\\n  attr {\\n    key: &quot;dtype&quot;\\n    value {\\n      type: DT_INT32\\n    }\\n  }\\n  attr {\\n    key: &quot;value&quot;\\n    value {\\n      tensor {\\n        dtype: DT_INT32\\n        tensor_shape {\\n          dim {\\n            size: 1\\n          }\\n        }\\n        int_val: -1\\n      }\\n    }\\n  }\\n}\\nnode {\\n  name: &quot;INPUT_PIPELINE/flat_filenames_1&quot;\\n  op: &quot;Reshape&quot;\\n  input: &quot;INPUT_PIPELINE/Const_1&quot;\\n  input: &quot;INPUT_PIPELINE/flat_filenames_1/shape&quot;\\n  attr {\\n    key: &quot;T&quot;\\n    value {\\n      type: DT_STRING\\n    }\\n  }\\n  attr {\\n    key: &quot;Tshape&quot;\\n    value {\\n      type: DT_INT32\\n    }\\n  }\\n}\\nnode {\\n  name: &quot;INPUT_PIPELINE/TensorSliceDataset_1&quot;\\n  op: &quot;TensorSliceDataset&quot;\\n  input: &quot;INPUT_PIPELINE/flat_filenames_1&quot;\\n  attr {\\n    key: &quot;Toutput_types&quot;\\n    value {\\n      list {\\n        type: DT_STRING\\n      }\\n    }\\n  }\\n  attr {\\n    key: &quot;output_shapes&quot;\\n    value {\\n      list {\\n        shape {\\n        }\\n      }\\n    }\\n  }\\n}\\nnode {\\n  name: &quot;INPUT_PIPELINE/FlatMapDataset_1&quot;\\n  op: &quot;FlatMapDataset&quot;\\n  input: &quot;INPUT_PIPELINE/TensorSliceDataset_1&quot;\\n  attr {\\n    key: &quot;Targuments&quot;\\n    value {\\n      list {\\n      }\\n    }\\n  }\\n  attr {\\n    key: &quot;f&quot;\\n    value {\\n      func {\\n        name: &quot;__inference_Dataset_flat_map_read_one_file_45&quot;\\n      }\\n    }\\n  }\\n  attr {\\n    key: &quot;output_shapes&quot;\\n    value {\\n      list {\\n        shape {\\n        }\\n      }\\n    }\\n  }\\n  attr {\\n    key: &quot;output_types&quot;\\n    value {\\n      list {\\n        type: DT_STRING\\n      }\\n    }\\n  }\\n}\\nnode {\\n  name: &quot;INPUT_PIPELINE/num_parallel_calls_1&quot;\\n  op: &quot;Const&quot;\\n  attr {\\n    key: &quot;dtype&quot;\\n    value {\\n      type: DT_INT32\\n    }\\n  }\\n  attr {\\n    key: &quot;value&quot;\\n    value {\\n      tensor {\\n        dtype: DT_INT32\\n        tensor_shape {\\n        }\\n        int_val: 5\\n      }\\n    }\\n  }\\n}\\nnode {\\n  name: &quot;INPUT_PIPELINE/ParallelMapDataset_1&quot;\\n  op: &quot;ParallelMapDataset&quot;\\n  input: &quot;INPUT_PIPELINE/FlatMapDataset_1&quot;\\n  input: &quot;INPUT_PIPELINE/num_parallel_calls_1&quot;\\n  attr {\\n    key: &quot;Targuments&quot;\\n    value {\\n      list {\\n      }\\n    }\\n  }\\n  attr {\\n    key: &quot;f&quot;\\n    value {\\n      func {\\n        name: &quot;__inference_Dataset_map_read_feature_55&quot;\\n      }\\n    }\\n  }\\n  attr {\\n    key: &quot;output_shapes&quot;\\n    value {\\n      list {\\n        shape {\\n          dim {\\n            size: 29\\n          }\\n        }\\n        shape {\\n          dim {\\n            size: 29\\n          }\\n        }\\n      }\\n    }\\n  }\\n  attr {\\n    key: &quot;output_types&quot;\\n    value {\\n      list {\\n        type: DT_FLOAT\\n        type: DT_FLOAT\\n      }\\n    }\\n  }\\n  attr {\\n    key: &quot;preserve_cardinality&quot;\\n    value {\\n      b: false\\n    }\\n  }\\n  attr {\\n    key: &quot;sloppy&quot;\\n    value {\\n      b: false\\n    }\\n  }\\n  attr {\\n    key: &quot;use_inter_op_parallelism&quot;\\n    value {\\n      b: true\\n    }\\n  }\\n}\\nnode {\\n  name: &quot;INPUT_PIPELINE/count_1&quot;\\n  op: &quot;Const&quot;\\n  attr {\\n    key: &quot;dtype&quot;\\n    value {\\n      type: DT_INT64\\n    }\\n  }\\n  attr {\\n    key: &quot;value&quot;\\n    value {\\n      tensor {\\n        dtype: DT_INT64\\n        tensor_shape {\\n        }\\n        int64_val: -1\\n      }\\n    }\\n  }\\n}\\nnode {\\n  name: &quot;INPUT_PIPELINE/RepeatDataset_1&quot;\\n  op: &quot;RepeatDataset&quot;\\n  input: &quot;INPUT_PIPELINE/ParallelMapDataset_1&quot;\\n  input: &quot;INPUT_PIPELINE/count_1&quot;\\n  attr {\\n    key: &quot;output_shapes&quot;\\n    value {\\n      list {\\n        shape {\\n          dim {\\n            size: 29\\n          }\\n        }\\n        shape {\\n          dim {\\n            size: 29\\n          }\\n        }\\n      }\\n    }\\n  }\\n  attr {\\n    key: &quot;output_types&quot;\\n    value {\\n      list {\\n        type: DT_FLOAT\\n        type: DT_FLOAT\\n      }\\n    }\\n  }\\n}\\nnode {\\n  name: &quot;INPUT_PIPELINE/batch_size_1&quot;\\n  op: &quot;Const&quot;\\n  attr {\\n    key: &quot;dtype&quot;\\n    value {\\n      type: DT_INT64\\n    }\\n  }\\n  attr {\\n    key: &quot;value&quot;\\n    value {\\n      tensor {\\n        dtype: DT_INT64\\n        tensor_shape {\\n        }\\n        int64_val: 34117\\n      }\\n    }\\n  }\\n}\\nnode {\\n  name: &quot;INPUT_PIPELINE/drop_remainder_1&quot;\\n  op: &quot;Const&quot;\\n  attr {\\n    key: &quot;dtype&quot;\\n    value {\\n      type: DT_BOOL\\n    }\\n  }\\n  attr {\\n    key: &quot;value&quot;\\n    value {\\n      tensor {\\n        dtype: DT_BOOL\\n        tensor_shape {\\n        }\\n        bool_val: false\\n      }\\n    }\\n  }\\n}\\nnode {\\n  name: &quot;INPUT_PIPELINE/BatchDatasetV2_1&quot;\\n  op: &quot;BatchDatasetV2&quot;\\n  input: &quot;INPUT_PIPELINE/RepeatDataset_1&quot;\\n  input: &quot;INPUT_PIPELINE/batch_size_1&quot;\\n  input: &quot;INPUT_PIPELINE/drop_remainder_1&quot;\\n  attr {\\n    key: &quot;output_shapes&quot;\\n    value {\\n      list {\\n        shape {\\n          dim {\\n            size: -1\\n          }\\n          dim {\\n            size: 29\\n          }\\n        }\\n        shape {\\n          dim {\\n            size: -1\\n          }\\n          dim {\\n            size: 29\\n          }\\n        }\\n      }\\n    }\\n  }\\n  attr {\\n    key: &quot;output_types&quot;\\n    value {\\n      list {\\n        type: DT_FLOAT\\n        type: DT_FLOAT\\n      }\\n    }\\n  }\\n  attr {\\n    key: &quot;parallel_copy&quot;\\n    value {\\n      b: false\\n    }\\n  }\\n}\\nnode {\\n  name: &quot;INPUT_PIPELINE/buffer_size_2&quot;\\n  op: &quot;Const&quot;\\n  attr {\\n    key: &quot;dtype&quot;\\n    value {\\n      type: DT_INT64\\n    }\\n  }\\n  attr {\\n    key: &quot;value&quot;\\n    value {\\n      tensor {\\n        dtype: DT_INT64\\n        tensor_shape {\\n        }\\n        int64_val: 1\\n      }\\n    }\\n  }\\n}\\nnode {\\n  name: &quot;INPUT_PIPELINE/PrefetchDataset_1&quot;\\n  op: &quot;PrefetchDataset&quot;\\n  input: &quot;INPUT_PIPELINE/BatchDatasetV2_1&quot;\\n  input: &quot;INPUT_PIPELINE/buffer_size_2&quot;\\n  attr {\\n    key: &quot;output_shapes&quot;\\n    value {\\n      list {\\n        shape {\\n          dim {\\n            size: -1\\n          }\\n          dim {\\n            size: 29\\n          }\\n        }\\n        shape {\\n          dim {\\n            size: -1\\n          }\\n          dim {\\n            size: 29\\n          }\\n        }\\n      }\\n    }\\n  }\\n  attr {\\n    key: &quot;output_types&quot;\\n    value {\\n      list {\\n        type: DT_FLOAT\\n        type: DT_FLOAT\\n      }\\n    }\\n  }\\n  attr {\\n    key: &quot;slack_period&quot;\\n    value {\\n      i: 0\\n    }\\n  }\\n}\\nnode {\\n  name: &quot;INPUT_PIPELINE/Const_2&quot;\\n  op: &quot;Const&quot;\\n  attr {\\n    key: &quot;dtype&quot;\\n    value {\\n      type: DT_STRING\\n    }\\n  }\\n  attr {\\n    key: &quot;value&quot;\\n    value {\\n      tensor {\\n        dtype: DT_STRING\\n        tensor_shape {\\n          dim {\\n            size: 31\\n          }\\n        }\\n        string_val: &quot;./test_records/Batch_1.tfrecord&quot;\\n        string_val: &quot;./test_records/Batch_10.tfrecord&quot;\\n        string_val: &quot;./test_records/Batch_11.tfrecord&quot;\\n        string_val: &quot;./test_records/Batch_12.tfrecord&quot;\\n        string_val: &quot;./test_records/Batch_13.tfrecord&quot;\\n        string_val: &quot;./test_records/Batch_14.tfrecord&quot;\\n        string_val: &quot;./test_records/Batch_15.tfrecord&quot;\\n        string_val: &quot;./test_records/Batch_16.tfrecord&quot;\\n        string_val: &quot;./test_records/Batch_17.tfrecord&quot;\\n        string_val: &quot;./test_records/Batch_18.tfrecord&quot;\\n        string_val: &quot;./test_records/Batch_19.tfrecord&quot;\\n        string_val: &quot;./test_records/Batch_2.tfrecord&quot;\\n        string_val: &quot;./test_records/Batch_20.tfrecord&quot;\\n        string_val: &quot;./test_records/Batch_21.tfrecord&quot;\\n        string_val: &quot;./test_records/Batch_22.tfrecord&quot;\\n        string_val: &quot;./test_records/Batch_23.tfrecord&quot;\\n        string_val: &quot;./test_records/Batch_24.tfrecord&quot;\\n        string_val: &quot;./test_records/Batch_25.tfrecord&quot;\\n        string_val: &quot;./test_records/Batch_26.tfrecord&quot;\\n        string_val: &quot;./test_records/Batch_27.tfrecord&quot;\\n        string_val: &quot;./test_records/Batch_28.tfrecord&quot;\\n        string_val: &quot;./test_records/Batch_29.tfrecord&quot;\\n        string_val: &quot;./test_records/Batch_3.tfrecord&quot;\\n        string_val: &quot;./test_records/Batch_30.tfrecord&quot;\\n        string_val: &quot;./test_records/Batch_31.tfrecord&quot;\\n        string_val: &quot;./test_records/Batch_4.tfrecord&quot;\\n        string_val: &quot;./test_records/Batch_5.tfrecord&quot;\\n        string_val: &quot;./test_records/Batch_6.tfrecord&quot;\\n        string_val: &quot;./test_records/Batch_7.tfrecord&quot;\\n        string_val: &quot;./test_records/Batch_8.tfrecord&quot;\\n        string_val: &quot;./test_records/Batch_9.tfrecord&quot;\\n      }\\n    }\\n  }\\n}\\nnode {\\n  name: &quot;INPUT_PIPELINE/flat_filenames_2/shape&quot;\\n  op: &quot;Const&quot;\\n  attr {\\n    key: &quot;dtype&quot;\\n    value {\\n      type: DT_INT32\\n    }\\n  }\\n  attr {\\n    key: &quot;value&quot;\\n    value {\\n      tensor {\\n        dtype: DT_INT32\\n        tensor_shape {\\n          dim {\\n            size: 1\\n          }\\n        }\\n        int_val: -1\\n      }\\n    }\\n  }\\n}\\nnode {\\n  name: &quot;INPUT_PIPELINE/flat_filenames_2&quot;\\n  op: &quot;Reshape&quot;\\n  input: &quot;INPUT_PIPELINE/Const_2&quot;\\n  input: &quot;INPUT_PIPELINE/flat_filenames_2/shape&quot;\\n  attr {\\n    key: &quot;T&quot;\\n    value {\\n      type: DT_STRING\\n    }\\n  }\\n  attr {\\n    key: &quot;Tshape&quot;\\n    value {\\n      type: DT_INT32\\n    }\\n  }\\n}\\nnode {\\n  name: &quot;INPUT_PIPELINE/TensorSliceDataset_2&quot;\\n  op: &quot;TensorSliceDataset&quot;\\n  input: &quot;INPUT_PIPELINE/flat_filenames_2&quot;\\n  attr {\\n    key: &quot;Toutput_types&quot;\\n    value {\\n      list {\\n        type: DT_STRING\\n      }\\n    }\\n  }\\n  attr {\\n    key: &quot;output_shapes&quot;\\n    value {\\n      list {\\n        shape {\\n        }\\n      }\\n    }\\n  }\\n}\\nnode {\\n  name: &quot;INPUT_PIPELINE/FlatMapDataset_2&quot;\\n  op: &quot;FlatMapDataset&quot;\\n  input: &quot;INPUT_PIPELINE/TensorSliceDataset_2&quot;\\n  attr {\\n    key: &quot;Targuments&quot;\\n    value {\\n      list {\\n      }\\n    }\\n  }\\n  attr {\\n    key: &quot;f&quot;\\n    value {\\n      func {\\n        name: &quot;__inference_Dataset_flat_map_read_one_file_75&quot;\\n      }\\n    }\\n  }\\n  attr {\\n    key: &quot;output_shapes&quot;\\n    value {\\n      list {\\n        shape {\\n        }\\n      }\\n    }\\n  }\\n  attr {\\n    key: &quot;output_types&quot;\\n    value {\\n      list {\\n        type: DT_STRING\\n      }\\n    }\\n  }\\n}\\nnode {\\n  name: &quot;INPUT_PIPELINE/num_parallel_calls_2&quot;\\n  op: &quot;Const&quot;\\n  attr {\\n    key: &quot;dtype&quot;\\n    value {\\n      type: DT_INT32\\n    }\\n  }\\n  attr {\\n    key: &quot;value&quot;\\n    value {\\n      tensor {\\n        dtype: DT_INT32\\n        tensor_shape {\\n        }\\n        int_val: 5\\n      }\\n    }\\n  }\\n}\\nnode {\\n  name: &quot;INPUT_PIPELINE/ParallelMapDataset_2&quot;\\n  op: &quot;ParallelMapDataset&quot;\\n  input: &quot;INPUT_PIPELINE/FlatMapDataset_2&quot;\\n  input: &quot;INPUT_PIPELINE/num_parallel_calls_2&quot;\\n  attr {\\n    key: &quot;Targuments&quot;\\n    value {\\n      list {\\n      }\\n    }\\n  }\\n  attr {\\n    key: &quot;f&quot;\\n    value {\\n      func {\\n        name: &quot;__inference_Dataset_map_read_feature_85&quot;\\n      }\\n    }\\n  }\\n  attr {\\n    key: &quot;output_shapes&quot;\\n    value {\\n      list {\\n        shape {\\n          dim {\\n            size: 29\\n          }\\n        }\\n        shape {\\n          dim {\\n            size: 29\\n          }\\n        }\\n      }\\n    }\\n  }\\n  attr {\\n    key: &quot;output_types&quot;\\n    value {\\n      list {\\n        type: DT_FLOAT\\n        type: DT_FLOAT\\n      }\\n    }\\n  }\\n  attr {\\n    key: &quot;preserve_cardinality&quot;\\n    value {\\n      b: false\\n    }\\n  }\\n  attr {\\n    key: &quot;sloppy&quot;\\n    value {\\n      b: false\\n    }\\n  }\\n  attr {\\n    key: &quot;use_inter_op_parallelism&quot;\\n    value {\\n      b: true\\n    }\\n  }\\n}\\nnode {\\n  name: &quot;INPUT_PIPELINE/count_2&quot;\\n  op: &quot;Const&quot;\\n  attr {\\n    key: &quot;dtype&quot;\\n    value {\\n      type: DT_INT64\\n    }\\n  }\\n  attr {\\n    key: &quot;value&quot;\\n    value {\\n      tensor {\\n        dtype: DT_INT64\\n        tensor_shape {\\n        }\\n        int64_val: -1\\n      }\\n    }\\n  }\\n}\\nnode {\\n  name: &quot;INPUT_PIPELINE/RepeatDataset_2&quot;\\n  op: &quot;RepeatDataset&quot;\\n  input: &quot;INPUT_PIPELINE/ParallelMapDataset_2&quot;\\n  input: &quot;INPUT_PIPELINE/count_2&quot;\\n  attr {\\n    key: &quot;output_shapes&quot;\\n    value {\\n      list {\\n        shape {\\n          dim {\\n            size: 29\\n          }\\n        }\\n        shape {\\n          dim {\\n            size: 29\\n          }\\n        }\\n      }\\n    }\\n  }\\n  attr {\\n    key: &quot;output_types&quot;\\n    value {\\n      list {\\n        type: DT_FLOAT\\n        type: DT_FLOAT\\n      }\\n    }\\n  }\\n}\\nnode {\\n  name: &quot;INPUT_PIPELINE/batch_size_2&quot;\\n  op: &quot;Const&quot;\\n  attr {\\n    key: &quot;dtype&quot;\\n    value {\\n      type: DT_INT64\\n    }\\n  }\\n  attr {\\n    key: &quot;value&quot;\\n    value {\\n      tensor {\\n        dtype: DT_INT64\\n        tensor_shape {\\n        }\\n        int64_val: 22746\\n      }\\n    }\\n  }\\n}\\nnode {\\n  name: &quot;INPUT_PIPELINE/drop_remainder_2&quot;\\n  op: &quot;Const&quot;\\n  attr {\\n    key: &quot;dtype&quot;\\n    value {\\n      type: DT_BOOL\\n    }\\n  }\\n  attr {\\n    key: &quot;value&quot;\\n    value {\\n      tensor {\\n        dtype: DT_BOOL\\n        tensor_shape {\\n        }\\n        bool_val: false\\n      }\\n    }\\n  }\\n}\\nnode {\\n  name: &quot;INPUT_PIPELINE/BatchDatasetV2_2&quot;\\n  op: &quot;BatchDatasetV2&quot;\\n  input: &quot;INPUT_PIPELINE/RepeatDataset_2&quot;\\n  input: &quot;INPUT_PIPELINE/batch_size_2&quot;\\n  input: &quot;INPUT_PIPELINE/drop_remainder_2&quot;\\n  attr {\\n    key: &quot;output_shapes&quot;\\n    value {\\n      list {\\n        shape {\\n          dim {\\n            size: -1\\n          }\\n          dim {\\n            size: 29\\n          }\\n        }\\n        shape {\\n          dim {\\n            size: -1\\n          }\\n          dim {\\n            size: 29\\n          }\\n        }\\n      }\\n    }\\n  }\\n  attr {\\n    key: &quot;output_types&quot;\\n    value {\\n      list {\\n        type: DT_FLOAT\\n        type: DT_FLOAT\\n      }\\n    }\\n  }\\n  attr {\\n    key: &quot;parallel_copy&quot;\\n    value {\\n      b: false\\n    }\\n  }\\n}\\nnode {\\n  name: &quot;INPUT_PIPELINE/buffer_size_3&quot;\\n  op: &quot;Const&quot;\\n  attr {\\n    key: &quot;dtype&quot;\\n    value {\\n      type: DT_INT64\\n    }\\n  }\\n  attr {\\n    key: &quot;value&quot;\\n    value {\\n      tensor {\\n        dtype: DT_INT64\\n        tensor_shape {\\n        }\\n        int64_val: 1\\n      }\\n    }\\n  }\\n}\\nnode {\\n  name: &quot;INPUT_PIPELINE/PrefetchDataset_2&quot;\\n  op: &quot;PrefetchDataset&quot;\\n  input: &quot;INPUT_PIPELINE/BatchDatasetV2_2&quot;\\n  input: &quot;INPUT_PIPELINE/buffer_size_3&quot;\\n  attr {\\n    key: &quot;output_shapes&quot;\\n    value {\\n      list {\\n        shape {\\n          dim {\\n            size: -1\\n          }\\n          dim {\\n            size: 29\\n          }\\n        }\\n        shape {\\n          dim {\\n            size: -1\\n          }\\n          dim {\\n            size: 29\\n          }\\n        }\\n      }\\n    }\\n  }\\n  attr {\\n    key: &quot;output_types&quot;\\n    value {\\n      list {\\n        type: DT_FLOAT\\n        type: DT_FLOAT\\n      }\\n    }\\n  }\\n  attr {\\n    key: &quot;slack_period&quot;\\n    value {\\n      i: 0\\n    }\\n  }\\n}\\nnode {\\n  name: &quot;INPUT_PIPELINE/optimizations&quot;\\n  op: &quot;Const&quot;\\n  attr {\\n    key: &quot;dtype&quot;\\n    value {\\n      type: DT_STRING\\n    }\\n  }\\n  attr {\\n    key: &quot;value&quot;\\n    value {\\n      tensor {\\n        dtype: DT_STRING\\n        tensor_shape {\\n          dim {\\n            size: 3\\n          }\\n        }\\n        string_val: &quot;map_and_batch_fusion&quot;\\n        string_val: &quot;noop_elimination&quot;\\n        string_val: &quot;shuffle_and_repeat_fusion&quot;\\n      }\\n    }\\n  }\\n}\\nnode {\\n  name: &quot;INPUT_PIPELINE/OptimizeDataset&quot;\\n  op: &quot;OptimizeDataset&quot;\\n  input: &quot;INPUT_PIPELINE/PrefetchDataset&quot;\\n  input: &quot;INPUT_PIPELINE/optimizations&quot;\\n  attr {\\n    key: &quot;optimization_configs&quot;\\n    value {\\n      list {\\n        s: &quot;map_vectorization:use_choose_fastest:false&quot;\\n      }\\n    }\\n  }\\n  attr {\\n    key: &quot;output_shapes&quot;\\n    value {\\n      list {\\n        shape {\\n          dim {\\n            size: -1\\n          }\\n          dim {\\n            size: 29\\n          }\\n        }\\n        shape {\\n          dim {\\n            size: -1\\n          }\\n          dim {\\n            size: 29\\n          }\\n        }\\n      }\\n    }\\n  }\\n  attr {\\n    key: &quot;output_types&quot;\\n    value {\\n      list {\\n        type: DT_FLOAT\\n        type: DT_FLOAT\\n      }\\n    }\\n  }\\n}\\nnode {\\n  name: &quot;INPUT_PIPELINE/ModelDataset&quot;\\n  op: &quot;ModelDataset&quot;\\n  input: &quot;INPUT_PIPELINE/OptimizeDataset&quot;\\n  attr {\\n    key: &quot;cpu_budget&quot;\\n    value {\\n      i: 0\\n    }\\n  }\\n  attr {\\n    key: &quot;output_shapes&quot;\\n    value {\\n      list {\\n        shape {\\n          dim {\\n            size: -1\\n          }\\n          dim {\\n            size: 29\\n          }\\n        }\\n        shape {\\n          dim {\\n            size: -1\\n          }\\n          dim {\\n            size: 29\\n          }\\n        }\\n      }\\n    }\\n  }\\n  attr {\\n    key: &quot;output_types&quot;\\n    value {\\n      list {\\n        type: DT_FLOAT\\n        type: DT_FLOAT\\n      }\\n    }\\n  }\\n}\\nnode {\\n  name: &quot;INPUT_PIPELINE/IteratorV2&quot;\\n  op: &quot;IteratorV2&quot;\\n  attr {\\n    key: &quot;container&quot;\\n    value {\\n      s: &quot;&quot;\\n    }\\n  }\\n  attr {\\n    key: &quot;output_shapes&quot;\\n    value {\\n      list {\\n        shape {\\n          dim {\\n            size: -1\\n          }\\n          dim {\\n            size: 29\\n          }\\n        }\\n        shape {\\n          dim {\\n            size: -1\\n          }\\n          dim {\\n            size: 29\\n          }\\n        }\\n      }\\n    }\\n  }\\n  attr {\\n    key: &quot;output_types&quot;\\n    value {\\n      list {\\n        type: DT_FLOAT\\n        type: DT_FLOAT\\n      }\\n    }\\n  }\\n  attr {\\n    key: &quot;shared_name&quot;\\n    value {\\n      s: &quot;&quot;\\n    }\\n  }\\n}\\nnode {\\n  name: &quot;INPUT_PIPELINE/MakeIterator&quot;\\n  op: &quot;MakeIterator&quot;\\n  input: &quot;INPUT_PIPELINE/ModelDataset&quot;\\n  input: &quot;INPUT_PIPELINE/IteratorV2&quot;\\n  attr {\\n    key: &quot;_class&quot;\\n    value {\\n      list {\\n        s: &quot;loc:@INPUT_PIPELINE/IteratorV2&quot;\\n      }\\n    }\\n  }\\n}\\nnode {\\n  name: &quot;INPUT_PIPELINE/IteratorToStringHandle&quot;\\n  op: &quot;IteratorToStringHandle&quot;\\n  input: &quot;INPUT_PIPELINE/IteratorV2&quot;\\n}\\nnode {\\n  name: &quot;INPUT_PIPELINE/optimizations_1&quot;\\n  op: &quot;Const&quot;\\n  attr {\\n    key: &quot;dtype&quot;\\n    value {\\n      type: DT_STRING\\n    }\\n  }\\n  attr {\\n    key: &quot;value&quot;\\n    value {\\n      tensor {\\n        dtype: DT_STRING\\n        tensor_shape {\\n          dim {\\n            size: 3\\n          }\\n        }\\n        string_val: &quot;map_and_batch_fusion&quot;\\n        string_val: &quot;noop_elimination&quot;\\n        string_val: &quot;shuffle_and_repeat_fusion&quot;\\n      }\\n    }\\n  }\\n}\\nnode {\\n  name: &quot;INPUT_PIPELINE/OptimizeDataset_1&quot;\\n  op: &quot;OptimizeDataset&quot;\\n  input: &quot;INPUT_PIPELINE/PrefetchDataset_1&quot;\\n  input: &quot;INPUT_PIPELINE/optimizations_1&quot;\\n  attr {\\n    key: &quot;optimization_configs&quot;\\n    value {\\n      list {\\n        s: &quot;map_vectorization:use_choose_fastest:false&quot;\\n      }\\n    }\\n  }\\n  attr {\\n    key: &quot;output_shapes&quot;\\n    value {\\n      list {\\n        shape {\\n          dim {\\n            size: -1\\n          }\\n          dim {\\n            size: 29\\n          }\\n        }\\n        shape {\\n          dim {\\n            size: -1\\n          }\\n          dim {\\n            size: 29\\n          }\\n        }\\n      }\\n    }\\n  }\\n  attr {\\n    key: &quot;output_types&quot;\\n    value {\\n      list {\\n        type: DT_FLOAT\\n        type: DT_FLOAT\\n      }\\n    }\\n  }\\n}\\nnode {\\n  name: &quot;INPUT_PIPELINE/ModelDataset_1&quot;\\n  op: &quot;ModelDataset&quot;\\n  input: &quot;INPUT_PIPELINE/OptimizeDataset_1&quot;\\n  attr {\\n    key: &quot;cpu_budget&quot;\\n    value {\\n      i: 0\\n    }\\n  }\\n  attr {\\n    key: &quot;output_shapes&quot;\\n    value {\\n      list {\\n        shape {\\n          dim {\\n            size: -1\\n          }\\n          dim {\\n            size: 29\\n          }\\n        }\\n        shape {\\n          dim {\\n            size: -1\\n          }\\n          dim {\\n            size: 29\\n          }\\n        }\\n      }\\n    }\\n  }\\n  attr {\\n    key: &quot;output_types&quot;\\n    value {\\n      list {\\n        type: DT_FLOAT\\n        type: DT_FLOAT\\n      }\\n    }\\n  }\\n}\\nnode {\\n  name: &quot;INPUT_PIPELINE/IteratorV2_1&quot;\\n  op: &quot;IteratorV2&quot;\\n  attr {\\n    key: &quot;container&quot;\\n    value {\\n      s: &quot;&quot;\\n    }\\n  }\\n  attr {\\n    key: &quot;output_shapes&quot;\\n    value {\\n      list {\\n        shape {\\n          dim {\\n            size: -1\\n          }\\n          dim {\\n            size: 29\\n          }\\n        }\\n        shape {\\n          dim {\\n            size: -1\\n          }\\n          dim {\\n            size: 29\\n          }\\n        }\\n      }\\n    }\\n  }\\n  attr {\\n    key: &quot;output_types&quot;\\n    value {\\n      list {\\n        type: DT_FLOAT\\n        type: DT_FLOAT\\n      }\\n    }\\n  }\\n  attr {\\n    key: &quot;shared_name&quot;\\n    value {\\n      s: &quot;&quot;\\n    }\\n  }\\n}\\nnode {\\n  name: &quot;INPUT_PIPELINE/MakeIterator_1&quot;\\n  op: &quot;MakeIterator&quot;\\n  input: &quot;INPUT_PIPELINE/ModelDataset_1&quot;\\n  input: &quot;INPUT_PIPELINE/IteratorV2_1&quot;\\n  attr {\\n    key: &quot;_class&quot;\\n    value {\\n      list {\\n        s: &quot;loc:@INPUT_PIPELINE/IteratorV2_1&quot;\\n      }\\n    }\\n  }\\n}\\nnode {\\n  name: &quot;INPUT_PIPELINE/IteratorToStringHandle_1&quot;\\n  op: &quot;IteratorToStringHandle&quot;\\n  input: &quot;INPUT_PIPELINE/IteratorV2_1&quot;\\n}\\nnode {\\n  name: &quot;INPUT_PIPELINE/optimizations_2&quot;\\n  op: &quot;Const&quot;\\n  attr {\\n    key: &quot;dtype&quot;\\n    value {\\n      type: DT_STRING\\n    }\\n  }\\n  attr {\\n    key: &quot;value&quot;\\n    value {\\n      tensor {\\n        dtype: DT_STRING\\n        tensor_shape {\\n          dim {\\n            size: 3\\n          }\\n        }\\n        string_val: &quot;map_and_batch_fusion&quot;\\n        string_val: &quot;noop_elimination&quot;\\n        string_val: &quot;shuffle_and_repeat_fusion&quot;\\n      }\\n    }\\n  }\\n}\\nnode {\\n  name: &quot;INPUT_PIPELINE/OptimizeDataset_2&quot;\\n  op: &quot;OptimizeDataset&quot;\\n  input: &quot;INPUT_PIPELINE/PrefetchDataset_2&quot;\\n  input: &quot;INPUT_PIPELINE/optimizations_2&quot;\\n  attr {\\n    key: &quot;optimization_configs&quot;\\n    value {\\n      list {\\n        s: &quot;map_vectorization:use_choose_fastest:false&quot;\\n      }\\n    }\\n  }\\n  attr {\\n    key: &quot;output_shapes&quot;\\n    value {\\n      list {\\n        shape {\\n          dim {\\n            size: -1\\n          }\\n          dim {\\n            size: 29\\n          }\\n        }\\n        shape {\\n          dim {\\n            size: -1\\n          }\\n          dim {\\n            size: 29\\n          }\\n        }\\n      }\\n    }\\n  }\\n  attr {\\n    key: &quot;output_types&quot;\\n    value {\\n      list {\\n        type: DT_FLOAT\\n        type: DT_FLOAT\\n      }\\n    }\\n  }\\n}\\nnode {\\n  name: &quot;INPUT_PIPELINE/ModelDataset_2&quot;\\n  op: &quot;ModelDataset&quot;\\n  input: &quot;INPUT_PIPELINE/OptimizeDataset_2&quot;\\n  attr {\\n    key: &quot;cpu_budget&quot;\\n    value {\\n      i: 0\\n    }\\n  }\\n  attr {\\n    key: &quot;output_shapes&quot;\\n    value {\\n      list {\\n        shape {\\n          dim {\\n            size: -1\\n          }\\n          dim {\\n            size: 29\\n          }\\n        }\\n        shape {\\n          dim {\\n            size: -1\\n          }\\n          dim {\\n            size: 29\\n          }\\n        }\\n      }\\n    }\\n  }\\n  attr {\\n    key: &quot;output_types&quot;\\n    value {\\n      list {\\n        type: DT_FLOAT\\n        type: DT_FLOAT\\n      }\\n    }\\n  }\\n}\\nnode {\\n  name: &quot;INPUT_PIPELINE/IteratorV2_2&quot;\\n  op: &quot;IteratorV2&quot;\\n  attr {\\n    key: &quot;container&quot;\\n    value {\\n      s: &quot;&quot;\\n    }\\n  }\\n  attr {\\n    key: &quot;output_shapes&quot;\\n    value {\\n      list {\\n        shape {\\n          dim {\\n            size: -1\\n          }\\n          dim {\\n            size: 29\\n          }\\n        }\\n        shape {\\n          dim {\\n            size: -1\\n          }\\n          dim {\\n            size: 29\\n          }\\n        }\\n      }\\n    }\\n  }\\n  attr {\\n    key: &quot;output_types&quot;\\n    value {\\n      list {\\n        type: DT_FLOAT\\n        type: DT_FLOAT\\n      }\\n    }\\n  }\\n  attr {\\n    key: &quot;shared_name&quot;\\n    value {\\n      s: &quot;&quot;\\n    }\\n  }\\n}\\nnode {\\n  name: &quot;INPUT_PIPELINE/MakeIterator_2&quot;\\n  op: &quot;MakeIterator&quot;\\n  input: &quot;INPUT_PIPELINE/ModelDataset_2&quot;\\n  input: &quot;INPUT_PIPELINE/IteratorV2_2&quot;\\n  attr {\\n    key: &quot;_class&quot;\\n    value {\\n      list {\\n        s: &quot;loc:@INPUT_PIPELINE/IteratorV2_2&quot;\\n      }\\n    }\\n  }\\n}\\nnode {\\n  name: &quot;INPUT_PIPELINE/IteratorToStringHandle_2&quot;\\n  op: &quot;IteratorToStringHandle&quot;\\n  input: &quot;INPUT_PIPELINE/IteratorV2_2&quot;\\n}\\nnode {\\n  name: &quot;INPUT_PIPELINE/IteratorGetNext&quot;\\n  op: &quot;IteratorGetNext&quot;\\n  input: &quot;INPUT_PIPELINE/IteratorV2&quot;\\n  attr {\\n    key: &quot;output_shapes&quot;\\n    value {\\n      list {\\n        shape {\\n          dim {\\n            size: -1\\n          }\\n          dim {\\n            size: 29\\n          }\\n        }\\n        shape {\\n          dim {\\n            size: -1\\n          }\\n          dim {\\n            size: 29\\n          }\\n        }\\n      }\\n    }\\n  }\\n  attr {\\n    key: &quot;output_types&quot;\\n    value {\\n      list {\\n        type: DT_FLOAT\\n        type: DT_FLOAT\\n      }\\n    }\\n  }\\n}\\nnode {\\n  name: &quot;INPUT_PIPELINE/IteratorGetNext_1&quot;\\n  op: &quot;IteratorGetNext&quot;\\n  input: &quot;INPUT_PIPELINE/IteratorV2_1&quot;\\n  attr {\\n    key: &quot;output_shapes&quot;\\n    value {\\n      list {\\n        shape {\\n          dim {\\n            size: -1\\n          }\\n          dim {\\n            size: 29\\n          }\\n        }\\n        shape {\\n          dim {\\n            size: -1\\n          }\\n          dim {\\n            size: 29\\n          }\\n        }\\n      }\\n    }\\n  }\\n  attr {\\n    key: &quot;output_types&quot;\\n    value {\\n      list {\\n        type: DT_FLOAT\\n        type: DT_FLOAT\\n      }\\n    }\\n  }\\n}\\nnode {\\n  name: &quot;INPUT_PIPELINE/IteratorGetNext_2&quot;\\n  op: &quot;IteratorGetNext&quot;\\n  input: &quot;INPUT_PIPELINE/IteratorV2_2&quot;\\n  attr {\\n    key: &quot;output_shapes&quot;\\n    value {\\n      list {\\n        shape {\\n          dim {\\n            size: -1\\n          }\\n          dim {\\n            size: 29\\n          }\\n        }\\n        shape {\\n          dim {\\n            size: -1\\n          }\\n          dim {\\n            size: 29\\n          }\\n        }\\n      }\\n    }\\n  }\\n  attr {\\n    key: &quot;output_types&quot;\\n    value {\\n      list {\\n        type: DT_FLOAT\\n        type: DT_FLOAT\\n      }\\n    }\\n  }\\n}\\nnode {\\n  name: &quot;W1/Initializer/random_normal/shape&quot;\\n  op: &quot;Const&quot;\\n  attr {\\n    key: &quot;_class&quot;\\n    value {\\n      list {\\n        s: &quot;loc:@W1&quot;\\n      }\\n    }\\n  }\\n  attr {\\n    key: &quot;dtype&quot;\\n    value {\\n      type: DT_INT32\\n    }\\n  }\\n  attr {\\n    key: &quot;value&quot;\\n    value {\\n      tensor {\\n        dtype: DT_INT32\\n        tensor_shape {\\n          dim {\\n            size: 2\\n          }\\n        }\\n        tensor_content: &quot;\\\\035\\\\000\\\\000\\\\000\\\\030\\\\000\\\\000\\\\000&quot;\\n      }\\n    }\\n  }\\n}\\nnode {\\n  name: &quot;W1/Initializer/random_normal/mean&quot;\\n  op: &quot;Const&quot;\\n  attr {\\n    key: &quot;_class&quot;\\n    value {\\n      list {\\n        s: &quot;loc:@W1&quot;\\n      }\\n    }\\n  }\\n  attr {\\n    key: &quot;dtype&quot;\\n    value {\\n      type: DT_FLOAT\\n    }\\n  }\\n  attr {\\n    key: &quot;value&quot;\\n    value {\\n      tensor {\\n        dtype: DT_FLOAT\\n        tensor_shape {\\n        }\\n        float_val: 0.0\\n      }\\n    }\\n  }\\n}\\nnode {\\n  name: &quot;W1/Initializer/random_normal/stddev&quot;\\n  op: &quot;Const&quot;\\n  attr {\\n    key: &quot;_class&quot;\\n    value {\\n      list {\\n        s: &quot;loc:@W1&quot;\\n      }\\n    }\\n  }\\n  attr {\\n    key: &quot;dtype&quot;\\n    value {\\n      type: DT_FLOAT\\n    }\\n  }\\n  attr {\\n    key: &quot;value&quot;\\n    value {\\n      tensor {\\n        dtype: DT_FLOAT\\n        tensor_shape {\\n        }\\n        float_val: 1.0\\n      }\\n    }\\n  }\\n}\\nnode {\\n  name: &quot;W1/Initializer/random_normal/RandomStandardNormal&quot;\\n  op: &quot;RandomStandardNormal&quot;\\n  input: &quot;W1/Initializer/random_normal/shape&quot;\\n  attr {\\n    key: &quot;T&quot;\\n    value {\\n      type: DT_INT32\\n    }\\n  }\\n  attr {\\n    key: &quot;_class&quot;\\n    value {\\n      list {\\n        s: &quot;loc:@W1&quot;\\n      }\\n    }\\n  }\\n  attr {\\n    key: &quot;dtype&quot;\\n    value {\\n      type: DT_FLOAT\\n    }\\n  }\\n  attr {\\n    key: &quot;seed&quot;\\n    value {\\n      i: 0\\n    }\\n  }\\n  attr {\\n    key: &quot;seed2&quot;\\n    value {\\n      i: 0\\n    }\\n  }\\n}\\nnode {\\n  name: &quot;W1/Initializer/random_normal/mul&quot;\\n  op: &quot;Mul&quot;\\n  input: &quot;W1/Initializer/random_normal/RandomStandardNormal&quot;\\n  input: &quot;W1/Initializer/random_normal/stddev&quot;\\n  attr {\\n    key: &quot;T&quot;\\n    value {\\n      type: DT_FLOAT\\n    }\\n  }\\n  attr {\\n    key: &quot;_class&quot;\\n    value {\\n      list {\\n        s: &quot;loc:@W1&quot;\\n      }\\n    }\\n  }\\n}\\nnode {\\n  name: &quot;W1/Initializer/random_normal&quot;\\n  op: &quot;Add&quot;\\n  input: &quot;W1/Initializer/random_normal/mul&quot;\\n  input: &quot;W1/Initializer/random_normal/mean&quot;\\n  attr {\\n    key: &quot;T&quot;\\n    value {\\n      type: DT_FLOAT\\n    }\\n  }\\n  attr {\\n    key: &quot;_class&quot;\\n    value {\\n      list {\\n        s: &quot;loc:@W1&quot;\\n      }\\n    }\\n  }\\n}\\nnode {\\n  name: &quot;W1&quot;\\n  op: &quot;VariableV2&quot;\\n  attr {\\n    key: &quot;_class&quot;\\n    value {\\n      list {\\n        s: &quot;loc:@W1&quot;\\n      }\\n    }\\n  }\\n  attr {\\n    key: &quot;container&quot;\\n    value {\\n      s: &quot;&quot;\\n    }\\n  }\\n  attr {\\n    key: &quot;dtype&quot;\\n    value {\\n      type: DT_FLOAT\\n    }\\n  }\\n  attr {\\n    key: &quot;shape&quot;\\n    value {\\n      shape {\\n        dim {\\n          size: 29\\n        }\\n        dim {\\n          size: 24\\n        }\\n      }\\n    }\\n  }\\n  attr {\\n    key: &quot;shared_name&quot;\\n    value {\\n      s: &quot;&quot;\\n    }\\n  }\\n}\\nnode {\\n  name: &quot;W1/Assign&quot;\\n  op: &quot;Assign&quot;\\n  input: &quot;W1&quot;\\n  input: &quot;W1/Initializer/random_normal&quot;\\n  attr {\\n    key: &quot;T&quot;\\n    value {\\n      type: DT_FLOAT\\n    }\\n  }\\n  attr {\\n    key: &quot;_class&quot;\\n    value {\\n      list {\\n        s: &quot;loc:@W1&quot;\\n      }\\n    }\\n  }\\n  attr {\\n    key: &quot;use_locking&quot;\\n    value {\\n      b: true\\n    }\\n  }\\n  attr {\\n    key: &quot;validate_shape&quot;\\n    value {\\n      b: true\\n    }\\n  }\\n}\\nnode {\\n  name: &quot;W1/read&quot;\\n  op: &quot;Identity&quot;\\n  input: &quot;W1&quot;\\n  attr {\\n    key: &quot;T&quot;\\n    value {\\n      type: DT_FLOAT\\n    }\\n  }\\n  attr {\\n    key: &quot;_class&quot;\\n    value {\\n      list {\\n        s: &quot;loc:@W1&quot;\\n      }\\n    }\\n  }\\n}\\nnode {\\n  name: &quot;W1/Regularizer/l2_regularizer/scale&quot;\\n  op: &quot;Const&quot;\\n  attr {\\n    key: &quot;_class&quot;\\n    value {\\n      list {\\n        s: &quot;loc:@W1&quot;\\n      }\\n    }\\n  }\\n  attr {\\n    key: &quot;dtype&quot;\\n    value {\\n      type: DT_FLOAT\\n    }\\n  }\\n  attr {\\n    key: &quot;value&quot;\\n    value {\\n      tensor {\\n        dtype: DT_FLOAT\\n        tensor_shape {\\n        }\\n        float_val: 9.999999747378752e-06\\n      }\\n    }\\n  }\\n}\\nnode {\\n  name: &quot;W1/Regularizer/l2_regularizer/L2Loss&quot;\\n  op: &quot;L2Loss&quot;\\n  input: &quot;W1/read&quot;\\n  attr {\\n    key: &quot;T&quot;\\n    value {\\n      type: DT_FLOAT\\n    }\\n  }\\n  attr {\\n    key: &quot;_class&quot;\\n    value {\\n      list {\\n        s: &quot;loc:@W1&quot;\\n      }\\n    }\\n  }\\n}\\nnode {\\n  name: &quot;W1/Regularizer/l2_regularizer&quot;\\n  op: &quot;Mul&quot;\\n  input: &quot;W1/Regularizer/l2_regularizer/scale&quot;\\n  input: &quot;W1/Regularizer/l2_regularizer/L2Loss&quot;\\n  attr {\\n    key: &quot;T&quot;\\n    value {\\n      type: DT_FLOAT\\n    }\\n  }\\n  attr {\\n    key: &quot;_class&quot;\\n    value {\\n      list {\\n        s: &quot;loc:@W1&quot;\\n      }\\n    }\\n  }\\n}\\nnode {\\n  name: &quot;B1/Initializer/random_normal/shape&quot;\\n  op: &quot;Const&quot;\\n  attr {\\n    key: &quot;_class&quot;\\n    value {\\n      list {\\n        s: &quot;loc:@B1&quot;\\n      }\\n    }\\n  }\\n  attr {\\n    key: &quot;dtype&quot;\\n    value {\\n      type: DT_INT32\\n    }\\n  }\\n  attr {\\n    key: &quot;value&quot;\\n    value {\\n      tensor {\\n        dtype: DT_INT32\\n        tensor_shape {\\n          dim {\\n            size: 1\\n          }\\n        }\\n        int_val: 24\\n      }\\n    }\\n  }\\n}\\nnode {\\n  name: &quot;B1/Initializer/random_normal/mean&quot;\\n  op: &quot;Const&quot;\\n  attr {\\n    key: &quot;_class&quot;\\n    value {\\n      list {\\n        s: &quot;loc:@B1&quot;\\n      }\\n    }\\n  }\\n  attr {\\n    key: &quot;dtype&quot;\\n    value {\\n      type: DT_FLOAT\\n    }\\n  }\\n  attr {\\n    key: &quot;value&quot;\\n    value {\\n      tensor {\\n        dtype: DT_FLOAT\\n        tensor_shape {\\n        }\\n        float_val: 0.0\\n      }\\n    }\\n  }\\n}\\nnode {\\n  name: &quot;B1/Initializer/random_normal/stddev&quot;\\n  op: &quot;Const&quot;\\n  attr {\\n    key: &quot;_class&quot;\\n    value {\\n      list {\\n        s: &quot;loc:@B1&quot;\\n      }\\n    }\\n  }\\n  attr {\\n    key: &quot;dtype&quot;\\n    value {\\n      type: DT_FLOAT\\n    }\\n  }\\n  attr {\\n    key: &quot;value&quot;\\n    value {\\n      tensor {\\n        dtype: DT_FLOAT\\n        tensor_shape {\\n        }\\n        float_val: 1.0\\n      }\\n    }\\n  }\\n}\\nnode {\\n  name: &quot;B1/Initializer/random_normal/RandomStandardNormal&quot;\\n  op: &quot;RandomStandardNormal&quot;\\n  input: &quot;B1/Initializer/random_normal/shape&quot;\\n  attr {\\n    key: &quot;T&quot;\\n    value {\\n      type: DT_INT32\\n    }\\n  }\\n  attr {\\n    key: &quot;_class&quot;\\n    value {\\n      list {\\n        s: &quot;loc:@B1&quot;\\n      }\\n    }\\n  }\\n  attr {\\n    key: &quot;dtype&quot;\\n    value {\\n      type: DT_FLOAT\\n    }\\n  }\\n  attr {\\n    key: &quot;seed&quot;\\n    value {\\n      i: 0\\n    }\\n  }\\n  attr {\\n    key: &quot;seed2&quot;\\n    value {\\n      i: 0\\n    }\\n  }\\n}\\nnode {\\n  name: &quot;B1/Initializer/random_normal/mul&quot;\\n  op: &quot;Mul&quot;\\n  input: &quot;B1/Initializer/random_normal/RandomStandardNormal&quot;\\n  input: &quot;B1/Initializer/random_normal/stddev&quot;\\n  attr {\\n    key: &quot;T&quot;\\n    value {\\n      type: DT_FLOAT\\n    }\\n  }\\n  attr {\\n    key: &quot;_class&quot;\\n    value {\\n      list {\\n        s: &quot;loc:@B1&quot;\\n      }\\n    }\\n  }\\n}\\nnode {\\n  name: &quot;B1/Initializer/random_normal&quot;\\n  op: &quot;Add&quot;\\n  input: &quot;B1/Initializer/random_normal/mul&quot;\\n  input: &quot;B1/Initializer/random_normal/mean&quot;\\n  attr {\\n    key: &quot;T&quot;\\n    value {\\n      type: DT_FLOAT\\n    }\\n  }\\n  attr {\\n    key: &quot;_class&quot;\\n    value {\\n      list {\\n        s: &quot;loc:@B1&quot;\\n      }\\n    }\\n  }\\n}\\nnode {\\n  name: &quot;B1&quot;\\n  op: &quot;VariableV2&quot;\\n  attr {\\n    key: &quot;_class&quot;\\n    value {\\n      list {\\n        s: &quot;loc:@B1&quot;\\n      }\\n    }\\n  }\\n  attr {\\n    key: &quot;container&quot;\\n    value {\\n      s: &quot;&quot;\\n    }\\n  }\\n  attr {\\n    key: &quot;dtype&quot;\\n    value {\\n      type: DT_FLOAT\\n    }\\n  }\\n  attr {\\n    key: &quot;shape&quot;\\n    value {\\n      shape {\\n        dim {\\n          size: 24\\n        }\\n      }\\n    }\\n  }\\n  attr {\\n    key: &quot;shared_name&quot;\\n    value {\\n      s: &quot;&quot;\\n    }\\n  }\\n}\\nnode {\\n  name: &quot;B1/Assign&quot;\\n  op: &quot;Assign&quot;\\n  input: &quot;B1&quot;\\n  input: &quot;B1/Initializer/random_normal&quot;\\n  attr {\\n    key: &quot;T&quot;\\n    value {\\n      type: DT_FLOAT\\n    }\\n  }\\n  attr {\\n    key: &quot;_class&quot;\\n    value {\\n      list {\\n        s: &quot;loc:@B1&quot;\\n      }\\n    }\\n  }\\n  attr {\\n    key: &quot;use_locking&quot;\\n    value {\\n      b: true\\n    }\\n  }\\n  attr {\\n    key: &quot;validate_shape&quot;\\n    value {\\n      b: true\\n    }\\n  }\\n}\\nnode {\\n  name: &quot;B1/read&quot;\\n  op: &quot;Identity&quot;\\n  input: &quot;B1&quot;\\n  attr {\\n    key: &quot;T&quot;\\n    value {\\n      type: DT_FLOAT\\n    }\\n  }\\n  attr {\\n    key: &quot;_class&quot;\\n    value {\\n      list {\\n        s: &quot;loc:@B1&quot;\\n      }\\n    }\\n  }\\n}\\nnode {\\n  name: &quot;B1/Regularizer/l2_regularizer/scale&quot;\\n  op: &quot;Const&quot;\\n  attr {\\n    key: &quot;_class&quot;\\n    value {\\n      list {\\n        s: &quot;loc:@B1&quot;\\n      }\\n    }\\n  }\\n  attr {\\n    key: &quot;dtype&quot;\\n    value {\\n      type: DT_FLOAT\\n    }\\n  }\\n  attr {\\n    key: &quot;value&quot;\\n    value {\\n      tensor {\\n        dtype: DT_FLOAT\\n        tensor_shape {\\n        }\\n        float_val: 9.999999747378752e-06\\n      }\\n    }\\n  }\\n}\\nnode {\\n  name: &quot;B1/Regularizer/l2_regularizer/L2Loss&quot;\\n  op: &quot;L2Loss&quot;\\n  input: &quot;B1/read&quot;\\n  attr {\\n    key: &quot;T&quot;\\n    value {\\n      type: DT_FLOAT\\n    }\\n  }\\n  attr {\\n    key: &quot;_class&quot;\\n    value {\\n      list {\\n        s: &quot;loc:@B1&quot;\\n      }\\n    }\\n  }\\n}\\nnode {\\n  name: &quot;B1/Regularizer/l2_regularizer&quot;\\n  op: &quot;Mul&quot;\\n  input: &quot;B1/Regularizer/l2_regularizer/scale&quot;\\n  input: &quot;B1/Regularizer/l2_regularizer/L2Loss&quot;\\n  attr {\\n    key: &quot;T&quot;\\n    value {\\n      type: DT_FLOAT\\n    }\\n  }\\n  attr {\\n    key: &quot;_class&quot;\\n    value {\\n      list {\\n        s: &quot;loc:@B1&quot;\\n      }\\n    }\\n  }\\n}\\nnode {\\n  name: &quot;W2/Initializer/random_normal/shape&quot;\\n  op: &quot;Const&quot;\\n  attr {\\n    key: &quot;_class&quot;\\n    value {\\n      list {\\n        s: &quot;loc:@W2&quot;\\n      }\\n    }\\n  }\\n  attr {\\n    key: &quot;dtype&quot;\\n    value {\\n      type: DT_INT32\\n    }\\n  }\\n  attr {\\n    key: &quot;value&quot;\\n    value {\\n      tensor {\\n        dtype: DT_INT32\\n        tensor_shape {\\n          dim {\\n            size: 2\\n          }\\n        }\\n        tensor_content: &quot;\\\\030\\\\000\\\\000\\\\000\\\\014\\\\000\\\\000\\\\000&quot;\\n      }\\n    }\\n  }\\n}\\nnode {\\n  name: &quot;W2/Initializer/random_normal/mean&quot;\\n  op: &quot;Const&quot;\\n  attr {\\n    key: &quot;_class&quot;\\n    value {\\n      list {\\n        s: &quot;loc:@W2&quot;\\n      }\\n    }\\n  }\\n  attr {\\n    key: &quot;dtype&quot;\\n    value {\\n      type: DT_FLOAT\\n    }\\n  }\\n  attr {\\n    key: &quot;value&quot;\\n    value {\\n      tensor {\\n        dtype: DT_FLOAT\\n        tensor_shape {\\n        }\\n        float_val: 0.0\\n      }\\n    }\\n  }\\n}\\nnode {\\n  name: &quot;W2/Initializer/random_normal/stddev&quot;\\n  op: &quot;Const&quot;\\n  attr {\\n    key: &quot;_class&quot;\\n    value {\\n      list {\\n        s: &quot;loc:@W2&quot;\\n      }\\n    }\\n  }\\n  attr {\\n    key: &quot;dtype&quot;\\n    value {\\n      type: DT_FLOAT\\n    }\\n  }\\n  attr {\\n    key: &quot;value&quot;\\n    value {\\n      tensor {\\n        dtype: DT_FLOAT\\n        tensor_shape {\\n        }\\n        float_val: 1.0\\n      }\\n    }\\n  }\\n}\\nnode {\\n  name: &quot;W2/Initializer/random_normal/RandomStandardNormal&quot;\\n  op: &quot;RandomStandardNormal&quot;\\n  input: &quot;W2/Initializer/random_normal/shape&quot;\\n  attr {\\n    key: &quot;T&quot;\\n    value {\\n      type: DT_INT32\\n    }\\n  }\\n  attr {\\n    key: &quot;_class&quot;\\n    value {\\n      list {\\n        s: &quot;loc:@W2&quot;\\n      }\\n    }\\n  }\\n  attr {\\n    key: &quot;dtype&quot;\\n    value {\\n      type: DT_FLOAT\\n    }\\n  }\\n  attr {\\n    key: &quot;seed&quot;\\n    value {\\n      i: 0\\n    }\\n  }\\n  attr {\\n    key: &quot;seed2&quot;\\n    value {\\n      i: 0\\n    }\\n  }\\n}\\nnode {\\n  name: &quot;W2/Initializer/random_normal/mul&quot;\\n  op: &quot;Mul&quot;\\n  input: &quot;W2/Initializer/random_normal/RandomStandardNormal&quot;\\n  input: &quot;W2/Initializer/random_normal/stddev&quot;\\n  attr {\\n    key: &quot;T&quot;\\n    value {\\n      type: DT_FLOAT\\n    }\\n  }\\n  attr {\\n    key: &quot;_class&quot;\\n    value {\\n      list {\\n        s: &quot;loc:@W2&quot;\\n      }\\n    }\\n  }\\n}\\nnode {\\n  name: &quot;W2/Initializer/random_normal&quot;\\n  op: &quot;Add&quot;\\n  input: &quot;W2/Initializer/random_normal/mul&quot;\\n  input: &quot;W2/Initializer/random_normal/mean&quot;\\n  attr {\\n    key: &quot;T&quot;\\n    value {\\n      type: DT_FLOAT\\n    }\\n  }\\n  attr {\\n    key: &quot;_class&quot;\\n    value {\\n      list {\\n        s: &quot;loc:@W2&quot;\\n      }\\n    }\\n  }\\n}\\nnode {\\n  name: &quot;W2&quot;\\n  op: &quot;VariableV2&quot;\\n  attr {\\n    key: &quot;_class&quot;\\n    value {\\n      list {\\n        s: &quot;loc:@W2&quot;\\n      }\\n    }\\n  }\\n  attr {\\n    key: &quot;container&quot;\\n    value {\\n      s: &quot;&quot;\\n    }\\n  }\\n  attr {\\n    key: &quot;dtype&quot;\\n    value {\\n      type: DT_FLOAT\\n    }\\n  }\\n  attr {\\n    key: &quot;shape&quot;\\n    value {\\n      shape {\\n        dim {\\n          size: 24\\n        }\\n        dim {\\n          size: 12\\n        }\\n      }\\n    }\\n  }\\n  attr {\\n    key: &quot;shared_name&quot;\\n    value {\\n      s: &quot;&quot;\\n    }\\n  }\\n}\\nnode {\\n  name: &quot;W2/Assign&quot;\\n  op: &quot;Assign&quot;\\n  input: &quot;W2&quot;\\n  input: &quot;W2/Initializer/random_normal&quot;\\n  attr {\\n    key: &quot;T&quot;\\n    value {\\n      type: DT_FLOAT\\n    }\\n  }\\n  attr {\\n    key: &quot;_class&quot;\\n    value {\\n      list {\\n        s: &quot;loc:@W2&quot;\\n      }\\n    }\\n  }\\n  attr {\\n    key: &quot;use_locking&quot;\\n    value {\\n      b: true\\n    }\\n  }\\n  attr {\\n    key: &quot;validate_shape&quot;\\n    value {\\n      b: true\\n    }\\n  }\\n}\\nnode {\\n  name: &quot;W2/read&quot;\\n  op: &quot;Identity&quot;\\n  input: &quot;W2&quot;\\n  attr {\\n    key: &quot;T&quot;\\n    value {\\n      type: DT_FLOAT\\n    }\\n  }\\n  attr {\\n    key: &quot;_class&quot;\\n    value {\\n      list {\\n        s: &quot;loc:@W2&quot;\\n      }\\n    }\\n  }\\n}\\nnode {\\n  name: &quot;W2/Regularizer/l2_regularizer/scale&quot;\\n  op: &quot;Const&quot;\\n  attr {\\n    key: &quot;_class&quot;\\n    value {\\n      list {\\n        s: &quot;loc:@W2&quot;\\n      }\\n    }\\n  }\\n  attr {\\n    key: &quot;dtype&quot;\\n    value {\\n      type: DT_FLOAT\\n    }\\n  }\\n  attr {\\n    key: &quot;value&quot;\\n    value {\\n      tensor {\\n        dtype: DT_FLOAT\\n        tensor_shape {\\n        }\\n        float_val: 9.999999747378752e-06\\n      }\\n    }\\n  }\\n}\\nnode {\\n  name: &quot;W2/Regularizer/l2_regularizer/L2Loss&quot;\\n  op: &quot;L2Loss&quot;\\n  input: &quot;W2/read&quot;\\n  attr {\\n    key: &quot;T&quot;\\n    value {\\n      type: DT_FLOAT\\n    }\\n  }\\n  attr {\\n    key: &quot;_class&quot;\\n    value {\\n      list {\\n        s: &quot;loc:@W2&quot;\\n      }\\n    }\\n  }\\n}\\nnode {\\n  name: &quot;W2/Regularizer/l2_regularizer&quot;\\n  op: &quot;Mul&quot;\\n  input: &quot;W2/Regularizer/l2_regularizer/scale&quot;\\n  input: &quot;W2/Regularizer/l2_regularizer/L2Loss&quot;\\n  attr {\\n    key: &quot;T&quot;\\n    value {\\n      type: DT_FLOAT\\n    }\\n  }\\n  attr {\\n    key: &quot;_class&quot;\\n    value {\\n      list {\\n        s: &quot;loc:@W2&quot;\\n      }\\n    }\\n  }\\n}\\nnode {\\n  name: &quot;B2/Initializer/random_normal/shape&quot;\\n  op: &quot;Const&quot;\\n  attr {\\n    key: &quot;_class&quot;\\n    value {\\n      list {\\n        s: &quot;loc:@B2&quot;\\n      }\\n    }\\n  }\\n  attr {\\n    key: &quot;dtype&quot;\\n    value {\\n      type: DT_INT32\\n    }\\n  }\\n  attr {\\n    key: &quot;value&quot;\\n    value {\\n      tensor {\\n        dtype: DT_INT32\\n        tensor_shape {\\n          dim {\\n            size: 1\\n          }\\n        }\\n        int_val: 12\\n      }\\n    }\\n  }\\n}\\nnode {\\n  name: &quot;B2/Initializer/random_normal/mean&quot;\\n  op: &quot;Const&quot;\\n  attr {\\n    key: &quot;_class&quot;\\n    value {\\n      list {\\n        s: &quot;loc:@B2&quot;\\n      }\\n    }\\n  }\\n  attr {\\n    key: &quot;dtype&quot;\\n    value {\\n      type: DT_FLOAT\\n    }\\n  }\\n  attr {\\n    key: &quot;value&quot;\\n    value {\\n      tensor {\\n        dtype: DT_FLOAT\\n        tensor_shape {\\n        }\\n        float_val: 0.0\\n      }\\n    }\\n  }\\n}\\nnode {\\n  name: &quot;B2/Initializer/random_normal/stddev&quot;\\n  op: &quot;Const&quot;\\n  attr {\\n    key: &quot;_class&quot;\\n    value {\\n      list {\\n        s: &quot;loc:@B2&quot;\\n      }\\n    }\\n  }\\n  attr {\\n    key: &quot;dtype&quot;\\n    value {\\n      type: DT_FLOAT\\n    }\\n  }\\n  attr {\\n    key: &quot;value&quot;\\n    value {\\n      tensor {\\n        dtype: DT_FLOAT\\n        tensor_shape {\\n        }\\n        float_val: 1.0\\n      }\\n    }\\n  }\\n}\\nnode {\\n  name: &quot;B2/Initializer/random_normal/RandomStandardNormal&quot;\\n  op: &quot;RandomStandardNormal&quot;\\n  input: &quot;B2/Initializer/random_normal/shape&quot;\\n  attr {\\n    key: &quot;T&quot;\\n    value {\\n      type: DT_INT32\\n    }\\n  }\\n  attr {\\n    key: &quot;_class&quot;\\n    value {\\n      list {\\n        s: &quot;loc:@B2&quot;\\n      }\\n    }\\n  }\\n  attr {\\n    key: &quot;dtype&quot;\\n    value {\\n      type: DT_FLOAT\\n    }\\n  }\\n  attr {\\n    key: &quot;seed&quot;\\n    value {\\n      i: 0\\n    }\\n  }\\n  attr {\\n    key: &quot;seed2&quot;\\n    value {\\n      i: 0\\n    }\\n  }\\n}\\nnode {\\n  name: &quot;B2/Initializer/random_normal/mul&quot;\\n  op: &quot;Mul&quot;\\n  input: &quot;B2/Initializer/random_normal/RandomStandardNormal&quot;\\n  input: &quot;B2/Initializer/random_normal/stddev&quot;\\n  attr {\\n    key: &quot;T&quot;\\n    value {\\n      type: DT_FLOAT\\n    }\\n  }\\n  attr {\\n    key: &quot;_class&quot;\\n    value {\\n      list {\\n        s: &quot;loc:@B2&quot;\\n      }\\n    }\\n  }\\n}\\nnode {\\n  name: &quot;B2/Initializer/random_normal&quot;\\n  op: &quot;Add&quot;\\n  input: &quot;B2/Initializer/random_normal/mul&quot;\\n  input: &quot;B2/Initializer/random_normal/mean&quot;\\n  attr {\\n    key: &quot;T&quot;\\n    value {\\n      type: DT_FLOAT\\n    }\\n  }\\n  attr {\\n    key: &quot;_class&quot;\\n    value {\\n      list {\\n        s: &quot;loc:@B2&quot;\\n      }\\n    }\\n  }\\n}\\nnode {\\n  name: &quot;B2&quot;\\n  op: &quot;VariableV2&quot;\\n  attr {\\n    key: &quot;_class&quot;\\n    value {\\n      list {\\n        s: &quot;loc:@B2&quot;\\n      }\\n    }\\n  }\\n  attr {\\n    key: &quot;container&quot;\\n    value {\\n      s: &quot;&quot;\\n    }\\n  }\\n  attr {\\n    key: &quot;dtype&quot;\\n    value {\\n      type: DT_FLOAT\\n    }\\n  }\\n  attr {\\n    key: &quot;shape&quot;\\n    value {\\n      shape {\\n        dim {\\n          size: 12\\n        }\\n      }\\n    }\\n  }\\n  attr {\\n    key: &quot;shared_name&quot;\\n    value {\\n      s: &quot;&quot;\\n    }\\n  }\\n}\\nnode {\\n  name: &quot;B2/Assign&quot;\\n  op: &quot;Assign&quot;\\n  input: &quot;B2&quot;\\n  input: &quot;B2/Initializer/random_normal&quot;\\n  attr {\\n    key: &quot;T&quot;\\n    value {\\n      type: DT_FLOAT\\n    }\\n  }\\n  attr {\\n    key: &quot;_class&quot;\\n    value {\\n      list {\\n        s: &quot;loc:@B2&quot;\\n      }\\n    }\\n  }\\n  attr {\\n    key: &quot;use_locking&quot;\\n    value {\\n      b: true\\n    }\\n  }\\n  attr {\\n    key: &quot;validate_shape&quot;\\n    value {\\n      b: true\\n    }\\n  }\\n}\\nnode {\\n  name: &quot;B2/read&quot;\\n  op: &quot;Identity&quot;\\n  input: &quot;B2&quot;\\n  attr {\\n    key: &quot;T&quot;\\n    value {\\n      type: DT_FLOAT\\n    }\\n  }\\n  attr {\\n    key: &quot;_class&quot;\\n    value {\\n      list {\\n        s: &quot;loc:@B2&quot;\\n      }\\n    }\\n  }\\n}\\nnode {\\n  name: &quot;B2/Regularizer/l2_regularizer/scale&quot;\\n  op: &quot;Const&quot;\\n  attr {\\n    key: &quot;_class&quot;\\n    value {\\n      list {\\n        s: &quot;loc:@B2&quot;\\n      }\\n    }\\n  }\\n  attr {\\n    key: &quot;dtype&quot;\\n    value {\\n      type: DT_FLOAT\\n    }\\n  }\\n  attr {\\n    key: &quot;value&quot;\\n    value {\\n      tensor {\\n        dtype: DT_FLOAT\\n        tensor_shape {\\n        }\\n        float_val: 9.999999747378752e-06\\n      }\\n    }\\n  }\\n}\\nnode {\\n  name: &quot;B2/Regularizer/l2_regularizer/L2Loss&quot;\\n  op: &quot;L2Loss&quot;\\n  input: &quot;B2/read&quot;\\n  attr {\\n    key: &quot;T&quot;\\n    value {\\n      type: DT_FLOAT\\n    }\\n  }\\n  attr {\\n    key: &quot;_class&quot;\\n    value {\\n      list {\\n        s: &quot;loc:@B2&quot;\\n      }\\n    }\\n  }\\n}\\nnode {\\n  name: &quot;B2/Regularizer/l2_regularizer&quot;\\n  op: &quot;Mul&quot;\\n  input: &quot;B2/Regularizer/l2_regularizer/scale&quot;\\n  input: &quot;B2/Regularizer/l2_regularizer/L2Loss&quot;\\n  attr {\\n    key: &quot;T&quot;\\n    value {\\n      type: DT_FLOAT\\n    }\\n  }\\n  attr {\\n    key: &quot;_class&quot;\\n    value {\\n      list {\\n        s: &quot;loc:@B2&quot;\\n      }\\n    }\\n  }\\n}\\nnode {\\n  name: &quot;W3/Initializer/random_normal/shape&quot;\\n  op: &quot;Const&quot;\\n  attr {\\n    key: &quot;_class&quot;\\n    value {\\n      list {\\n        s: &quot;loc:@W3&quot;\\n      }\\n    }\\n  }\\n  attr {\\n    key: &quot;dtype&quot;\\n    value {\\n      type: DT_INT32\\n    }\\n  }\\n  attr {\\n    key: &quot;value&quot;\\n    value {\\n      tensor {\\n        dtype: DT_INT32\\n        tensor_shape {\\n          dim {\\n            size: 2\\n          }\\n        }\\n        tensor_content: &quot;\\\\014\\\\000\\\\000\\\\000\\\\010\\\\000\\\\000\\\\000&quot;\\n      }\\n    }\\n  }\\n}\\nnode {\\n  name: &quot;W3/Initializer/random_normal/mean&quot;\\n  op: &quot;Const&quot;\\n  attr {\\n    key: &quot;_class&quot;\\n    value {\\n      list {\\n        s: &quot;loc:@W3&quot;\\n      }\\n    }\\n  }\\n  attr {\\n    key: &quot;dtype&quot;\\n    value {\\n      type: DT_FLOAT\\n    }\\n  }\\n  attr {\\n    key: &quot;value&quot;\\n    value {\\n      tensor {\\n        dtype: DT_FLOAT\\n        tensor_shape {\\n        }\\n        float_val: 0.0\\n      }\\n    }\\n  }\\n}\\nnode {\\n  name: &quot;W3/Initializer/random_normal/stddev&quot;\\n  op: &quot;Const&quot;\\n  attr {\\n    key: &quot;_class&quot;\\n    value {\\n      list {\\n        s: &quot;loc:@W3&quot;\\n      }\\n    }\\n  }\\n  attr {\\n    key: &quot;dtype&quot;\\n    value {\\n      type: DT_FLOAT\\n    }\\n  }\\n  attr {\\n    key: &quot;value&quot;\\n    value {\\n      tensor {\\n        dtype: DT_FLOAT\\n        tensor_shape {\\n        }\\n        float_val: 1.0\\n      }\\n    }\\n  }\\n}\\nnode {\\n  name: &quot;W3/Initializer/random_normal/RandomStandardNormal&quot;\\n  op: &quot;RandomStandardNormal&quot;\\n  input: &quot;W3/Initializer/random_normal/shape&quot;\\n  attr {\\n    key: &quot;T&quot;\\n    value {\\n      type: DT_INT32\\n    }\\n  }\\n  attr {\\n    key: &quot;_class&quot;\\n    value {\\n      list {\\n        s: &quot;loc:@W3&quot;\\n      }\\n    }\\n  }\\n  attr {\\n    key: &quot;dtype&quot;\\n    value {\\n      type: DT_FLOAT\\n    }\\n  }\\n  attr {\\n    key: &quot;seed&quot;\\n    value {\\n      i: 0\\n    }\\n  }\\n  attr {\\n    key: &quot;seed2&quot;\\n    value {\\n      i: 0\\n    }\\n  }\\n}\\nnode {\\n  name: &quot;W3/Initializer/random_normal/mul&quot;\\n  op: &quot;Mul&quot;\\n  input: &quot;W3/Initializer/random_normal/RandomStandardNormal&quot;\\n  input: &quot;W3/Initializer/random_normal/stddev&quot;\\n  attr {\\n    key: &quot;T&quot;\\n    value {\\n      type: DT_FLOAT\\n    }\\n  }\\n  attr {\\n    key: &quot;_class&quot;\\n    value {\\n      list {\\n        s: &quot;loc:@W3&quot;\\n      }\\n    }\\n  }\\n}\\nnode {\\n  name: &quot;W3/Initializer/random_normal&quot;\\n  op: &quot;Add&quot;\\n  input: &quot;W3/Initializer/random_normal/mul&quot;\\n  input: &quot;W3/Initializer/random_normal/mean&quot;\\n  attr {\\n    key: &quot;T&quot;\\n    value {\\n      type: DT_FLOAT\\n    }\\n  }\\n  attr {\\n    key: &quot;_class&quot;\\n    value {\\n      list {\\n        s: &quot;loc:@W3&quot;\\n      }\\n    }\\n  }\\n}\\nnode {\\n  name: &quot;W3&quot;\\n  op: &quot;VariableV2&quot;\\n  attr {\\n    key: &quot;_class&quot;\\n    value {\\n      list {\\n        s: &quot;loc:@W3&quot;\\n      }\\n    }\\n  }\\n  attr {\\n    key: &quot;container&quot;\\n    value {\\n      s: &quot;&quot;\\n    }\\n  }\\n  attr {\\n    key: &quot;dtype&quot;\\n    value {\\n      type: DT_FLOAT\\n    }\\n  }\\n  attr {\\n    key: &quot;shape&quot;\\n    value {\\n      shape {\\n        dim {\\n          size: 12\\n        }\\n        dim {\\n          size: 8\\n        }\\n      }\\n    }\\n  }\\n  attr {\\n    key: &quot;shared_name&quot;\\n    value {\\n      s: &quot;&quot;\\n    }\\n  }\\n}\\nnode {\\n  name: &quot;W3/Assign&quot;\\n  op: &quot;Assign&quot;\\n  input: &quot;W3&quot;\\n  input: &quot;W3/Initializer/random_normal&quot;\\n  attr {\\n    key: &quot;T&quot;\\n    value {\\n      type: DT_FLOAT\\n    }\\n  }\\n  attr {\\n    key: &quot;_class&quot;\\n    value {\\n      list {\\n        s: &quot;loc:@W3&quot;\\n      }\\n    }\\n  }\\n  attr {\\n    key: &quot;use_locking&quot;\\n    value {\\n      b: true\\n    }\\n  }\\n  attr {\\n    key: &quot;validate_shape&quot;\\n    value {\\n      b: true\\n    }\\n  }\\n}\\nnode {\\n  name: &quot;W3/read&quot;\\n  op: &quot;Identity&quot;\\n  input: &quot;W3&quot;\\n  attr {\\n    key: &quot;T&quot;\\n    value {\\n      type: DT_FLOAT\\n    }\\n  }\\n  attr {\\n    key: &quot;_class&quot;\\n    value {\\n      list {\\n        s: &quot;loc:@W3&quot;\\n      }\\n    }\\n  }\\n}\\nnode {\\n  name: &quot;W3/Regularizer/l2_regularizer/scale&quot;\\n  op: &quot;Const&quot;\\n  attr {\\n    key: &quot;_class&quot;\\n    value {\\n      list {\\n        s: &quot;loc:@W3&quot;\\n      }\\n    }\\n  }\\n  attr {\\n    key: &quot;dtype&quot;\\n    value {\\n      type: DT_FLOAT\\n    }\\n  }\\n  attr {\\n    key: &quot;value&quot;\\n    value {\\n      tensor {\\n        dtype: DT_FLOAT\\n        tensor_shape {\\n        }\\n        float_val: 9.999999747378752e-06\\n      }\\n    }\\n  }\\n}\\nnode {\\n  name: &quot;W3/Regularizer/l2_regularizer/L2Loss&quot;\\n  op: &quot;L2Loss&quot;\\n  input: &quot;W3/read&quot;\\n  attr {\\n    key: &quot;T&quot;\\n    value {\\n      type: DT_FLOAT\\n    }\\n  }\\n  attr {\\n    key: &quot;_class&quot;\\n    value {\\n      list {\\n        s: &quot;loc:@W3&quot;\\n      }\\n    }\\n  }\\n}\\nnode {\\n  name: &quot;W3/Regularizer/l2_regularizer&quot;\\n  op: &quot;Mul&quot;\\n  input: &quot;W3/Regularizer/l2_regularizer/scale&quot;\\n  input: &quot;W3/Regularizer/l2_regularizer/L2Loss&quot;\\n  attr {\\n    key: &quot;T&quot;\\n    value {\\n      type: DT_FLOAT\\n    }\\n  }\\n  attr {\\n    key: &quot;_class&quot;\\n    value {\\n      list {\\n        s: &quot;loc:@W3&quot;\\n      }\\n    }\\n  }\\n}\\nnode {\\n  name: &quot;B3/Initializer/random_normal/shape&quot;\\n  op: &quot;Const&quot;\\n  attr {\\n    key: &quot;_class&quot;\\n    value {\\n      list {\\n        s: &quot;loc:@B3&quot;\\n      }\\n    }\\n  }\\n  attr {\\n    key: &quot;dtype&quot;\\n    value {\\n      type: DT_INT32\\n    }\\n  }\\n  attr {\\n    key: &quot;value&quot;\\n    value {\\n      tensor {\\n        dtype: DT_INT32\\n        tensor_shape {\\n          dim {\\n            size: 1\\n          }\\n        }\\n        int_val: 8\\n      }\\n    }\\n  }\\n}\\nnode {\\n  name: &quot;B3/Initializer/random_normal/mean&quot;\\n  op: &quot;Const&quot;\\n  attr {\\n    key: &quot;_class&quot;\\n    value {\\n      list {\\n        s: &quot;loc:@B3&quot;\\n      }\\n    }\\n  }\\n  attr {\\n    key: &quot;dtype&quot;\\n    value {\\n      type: DT_FLOAT\\n    }\\n  }\\n  attr {\\n    key: &quot;value&quot;\\n    value {\\n      tensor {\\n        dtype: DT_FLOAT\\n        tensor_shape {\\n        }\\n        float_val: 0.0\\n      }\\n    }\\n  }\\n}\\nnode {\\n  name: &quot;B3/Initializer/random_normal/stddev&quot;\\n  op: &quot;Const&quot;\\n  attr {\\n    key: &quot;_class&quot;\\n    value {\\n      list {\\n        s: &quot;loc:@B3&quot;\\n      }\\n    }\\n  }\\n  attr {\\n    key: &quot;dtype&quot;\\n    value {\\n      type: DT_FLOAT\\n    }\\n  }\\n  attr {\\n    key: &quot;value&quot;\\n    value {\\n      tensor {\\n        dtype: DT_FLOAT\\n        tensor_shape {\\n        }\\n        float_val: 1.0\\n      }\\n    }\\n  }\\n}\\nnode {\\n  name: &quot;B3/Initializer/random_normal/RandomStandardNormal&quot;\\n  op: &quot;RandomStandardNormal&quot;\\n  input: &quot;B3/Initializer/random_normal/shape&quot;\\n  attr {\\n    key: &quot;T&quot;\\n    value {\\n      type: DT_INT32\\n    }\\n  }\\n  attr {\\n    key: &quot;_class&quot;\\n    value {\\n      list {\\n        s: &quot;loc:@B3&quot;\\n      }\\n    }\\n  }\\n  attr {\\n    key: &quot;dtype&quot;\\n    value {\\n      type: DT_FLOAT\\n    }\\n  }\\n  attr {\\n    key: &quot;seed&quot;\\n    value {\\n      i: 0\\n    }\\n  }\\n  attr {\\n    key: &quot;seed2&quot;\\n    value {\\n      i: 0\\n    }\\n  }\\n}\\nnode {\\n  name: &quot;B3/Initializer/random_normal/mul&quot;\\n  op: &quot;Mul&quot;\\n  input: &quot;B3/Initializer/random_normal/RandomStandardNormal&quot;\\n  input: &quot;B3/Initializer/random_normal/stddev&quot;\\n  attr {\\n    key: &quot;T&quot;\\n    value {\\n      type: DT_FLOAT\\n    }\\n  }\\n  attr {\\n    key: &quot;_class&quot;\\n    value {\\n      list {\\n        s: &quot;loc:@B3&quot;\\n      }\\n    }\\n  }\\n}\\nnode {\\n  name: &quot;B3/Initializer/random_normal&quot;\\n  op: &quot;Add&quot;\\n  input: &quot;B3/Initializer/random_normal/mul&quot;\\n  input: &quot;B3/Initializer/random_normal/mean&quot;\\n  attr {\\n    key: &quot;T&quot;\\n    value {\\n      type: DT_FLOAT\\n    }\\n  }\\n  attr {\\n    key: &quot;_class&quot;\\n    value {\\n      list {\\n        s: &quot;loc:@B3&quot;\\n      }\\n    }\\n  }\\n}\\nnode {\\n  name: &quot;B3&quot;\\n  op: &quot;VariableV2&quot;\\n  attr {\\n    key: &quot;_class&quot;\\n    value {\\n      list {\\n        s: &quot;loc:@B3&quot;\\n      }\\n    }\\n  }\\n  attr {\\n    key: &quot;container&quot;\\n    value {\\n      s: &quot;&quot;\\n    }\\n  }\\n  attr {\\n    key: &quot;dtype&quot;\\n    value {\\n      type: DT_FLOAT\\n    }\\n  }\\n  attr {\\n    key: &quot;shape&quot;\\n    value {\\n      shape {\\n        dim {\\n          size: 8\\n        }\\n      }\\n    }\\n  }\\n  attr {\\n    key: &quot;shared_name&quot;\\n    value {\\n      s: &quot;&quot;\\n    }\\n  }\\n}\\nnode {\\n  name: &quot;B3/Assign&quot;\\n  op: &quot;Assign&quot;\\n  input: &quot;B3&quot;\\n  input: &quot;B3/Initializer/random_normal&quot;\\n  attr {\\n    key: &quot;T&quot;\\n    value {\\n      type: DT_FLOAT\\n    }\\n  }\\n  attr {\\n    key: &quot;_class&quot;\\n    value {\\n      list {\\n        s: &quot;loc:@B3&quot;\\n      }\\n    }\\n  }\\n  attr {\\n    key: &quot;use_locking&quot;\\n    value {\\n      b: true\\n    }\\n  }\\n  attr {\\n    key: &quot;validate_shape&quot;\\n    value {\\n      b: true\\n    }\\n  }\\n}\\nnode {\\n  name: &quot;B3/read&quot;\\n  op: &quot;Identity&quot;\\n  input: &quot;B3&quot;\\n  attr {\\n    key: &quot;T&quot;\\n    value {\\n      type: DT_FLOAT\\n    }\\n  }\\n  attr {\\n    key: &quot;_class&quot;\\n    value {\\n      list {\\n        s: &quot;loc:@B3&quot;\\n      }\\n    }\\n  }\\n}\\nnode {\\n  name: &quot;B3/Regularizer/l2_regularizer/scale&quot;\\n  op: &quot;Const&quot;\\n  attr {\\n    key: &quot;_class&quot;\\n    value {\\n      list {\\n        s: &quot;loc:@B3&quot;\\n      }\\n    }\\n  }\\n  attr {\\n    key: &quot;dtype&quot;\\n    value {\\n      type: DT_FLOAT\\n    }\\n  }\\n  attr {\\n    key: &quot;value&quot;\\n    value {\\n      tensor {\\n        dtype: DT_FLOAT\\n        tensor_shape {\\n        }\\n        float_val: 9.999999747378752e-06\\n      }\\n    }\\n  }\\n}\\nnode {\\n  name: &quot;B3/Regularizer/l2_regularizer/L2Loss&quot;\\n  op: &quot;L2Loss&quot;\\n  input: &quot;B3/read&quot;\\n  attr {\\n    key: &quot;T&quot;\\n    value {\\n      type: DT_FLOAT\\n    }\\n  }\\n  attr {\\n    key: &quot;_class&quot;\\n    value {\\n      list {\\n        s: &quot;loc:@B3&quot;\\n      }\\n    }\\n  }\\n}\\nnode {\\n  name: &quot;B3/Regularizer/l2_regularizer&quot;\\n  op: &quot;Mul&quot;\\n  input: &quot;B3/Regularizer/l2_regularizer/scale&quot;\\n  input: &quot;B3/Regularizer/l2_regularizer/L2Loss&quot;\\n  attr {\\n    key: &quot;T&quot;\\n    value {\\n      type: DT_FLOAT\\n    }\\n  }\\n  attr {\\n    key: &quot;_class&quot;\\n    value {\\n      list {\\n        s: &quot;loc:@B3&quot;\\n      }\\n    }\\n  }\\n}\\nnode {\\n  name: &quot;W4/Initializer/random_normal/shape&quot;\\n  op: &quot;Const&quot;\\n  attr {\\n    key: &quot;_class&quot;\\n    value {\\n      list {\\n        s: &quot;loc:@W4&quot;\\n      }\\n    }\\n  }\\n  attr {\\n    key: &quot;dtype&quot;\\n    value {\\n      type: DT_INT32\\n    }\\n  }\\n  attr {\\n    key: &quot;value&quot;\\n    value {\\n      tensor {\\n        dtype: DT_INT32\\n        tensor_shape {\\n          dim {\\n            size: 2\\n          }\\n        }\\n        tensor_content: &quot;\\\\010\\\\000\\\\000\\\\000\\\\014\\\\000\\\\000\\\\000&quot;\\n      }\\n    }\\n  }\\n}\\nnode {\\n  name: &quot;W4/Initializer/random_normal/mean&quot;\\n  op: &quot;Const&quot;\\n  attr {\\n    key: &quot;_class&quot;\\n    value {\\n      list {\\n        s: &quot;loc:@W4&quot;\\n      }\\n    }\\n  }\\n  attr {\\n    key: &quot;dtype&quot;\\n    value {\\n      type: DT_FLOAT\\n    }\\n  }\\n  attr {\\n    key: &quot;value&quot;\\n    value {\\n      tensor {\\n        dtype: DT_FLOAT\\n        tensor_shape {\\n        }\\n        float_val: 0.0\\n      }\\n    }\\n  }\\n}\\nnode {\\n  name: &quot;W4/Initializer/random_normal/stddev&quot;\\n  op: &quot;Const&quot;\\n  attr {\\n    key: &quot;_class&quot;\\n    value {\\n      list {\\n        s: &quot;loc:@W4&quot;\\n      }\\n    }\\n  }\\n  attr {\\n    key: &quot;dtype&quot;\\n    value {\\n      type: DT_FLOAT\\n    }\\n  }\\n  attr {\\n    key: &quot;value&quot;\\n    value {\\n      tensor {\\n        dtype: DT_FLOAT\\n        tensor_shape {\\n        }\\n        float_val: 1.0\\n      }\\n    }\\n  }\\n}\\nnode {\\n  name: &quot;W4/Initializer/random_normal/RandomStandardNormal&quot;\\n  op: &quot;RandomStandardNormal&quot;\\n  input: &quot;W4/Initializer/random_normal/shape&quot;\\n  attr {\\n    key: &quot;T&quot;\\n    value {\\n      type: DT_INT32\\n    }\\n  }\\n  attr {\\n    key: &quot;_class&quot;\\n    value {\\n      list {\\n        s: &quot;loc:@W4&quot;\\n      }\\n    }\\n  }\\n  attr {\\n    key: &quot;dtype&quot;\\n    value {\\n      type: DT_FLOAT\\n    }\\n  }\\n  attr {\\n    key: &quot;seed&quot;\\n    value {\\n      i: 0\\n    }\\n  }\\n  attr {\\n    key: &quot;seed2&quot;\\n    value {\\n      i: 0\\n    }\\n  }\\n}\\nnode {\\n  name: &quot;W4/Initializer/random_normal/mul&quot;\\n  op: &quot;Mul&quot;\\n  input: &quot;W4/Initializer/random_normal/RandomStandardNormal&quot;\\n  input: &quot;W4/Initializer/random_normal/stddev&quot;\\n  attr {\\n    key: &quot;T&quot;\\n    value {\\n      type: DT_FLOAT\\n    }\\n  }\\n  attr {\\n    key: &quot;_class&quot;\\n    value {\\n      list {\\n        s: &quot;loc:@W4&quot;\\n      }\\n    }\\n  }\\n}\\nnode {\\n  name: &quot;W4/Initializer/random_normal&quot;\\n  op: &quot;Add&quot;\\n  input: &quot;W4/Initializer/random_normal/mul&quot;\\n  input: &quot;W4/Initializer/random_normal/mean&quot;\\n  attr {\\n    key: &quot;T&quot;\\n    value {\\n      type: DT_FLOAT\\n    }\\n  }\\n  attr {\\n    key: &quot;_class&quot;\\n    value {\\n      list {\\n        s: &quot;loc:@W4&quot;\\n      }\\n    }\\n  }\\n}\\nnode {\\n  name: &quot;W4&quot;\\n  op: &quot;VariableV2&quot;\\n  attr {\\n    key: &quot;_class&quot;\\n    value {\\n      list {\\n        s: &quot;loc:@W4&quot;\\n      }\\n    }\\n  }\\n  attr {\\n    key: &quot;container&quot;\\n    value {\\n      s: &quot;&quot;\\n    }\\n  }\\n  attr {\\n    key: &quot;dtype&quot;\\n    value {\\n      type: DT_FLOAT\\n    }\\n  }\\n  attr {\\n    key: &quot;shape&quot;\\n    value {\\n      shape {\\n        dim {\\n          size: 8\\n        }\\n        dim {\\n          size: 12\\n        }\\n      }\\n    }\\n  }\\n  attr {\\n    key: &quot;shared_name&quot;\\n    value {\\n      s: &quot;&quot;\\n    }\\n  }\\n}\\nnode {\\n  name: &quot;W4/Assign&quot;\\n  op: &quot;Assign&quot;\\n  input: &quot;W4&quot;\\n  input: &quot;W4/Initializer/random_normal&quot;\\n  attr {\\n    key: &quot;T&quot;\\n    value {\\n      type: DT_FLOAT\\n    }\\n  }\\n  attr {\\n    key: &quot;_class&quot;\\n    value {\\n      list {\\n        s: &quot;loc:@W4&quot;\\n      }\\n    }\\n  }\\n  attr {\\n    key: &quot;use_locking&quot;\\n    value {\\n      b: true\\n    }\\n  }\\n  attr {\\n    key: &quot;validate_shape&quot;\\n    value {\\n      b: true\\n    }\\n  }\\n}\\nnode {\\n  name: &quot;W4/read&quot;\\n  op: &quot;Identity&quot;\\n  input: &quot;W4&quot;\\n  attr {\\n    key: &quot;T&quot;\\n    value {\\n      type: DT_FLOAT\\n    }\\n  }\\n  attr {\\n    key: &quot;_class&quot;\\n    value {\\n      list {\\n        s: &quot;loc:@W4&quot;\\n      }\\n    }\\n  }\\n}\\nnode {\\n  name: &quot;W4/Regularizer/l2_regularizer/scale&quot;\\n  op: &quot;Const&quot;\\n  attr {\\n    key: &quot;_class&quot;\\n    value {\\n      list {\\n        s: &quot;loc:@W4&quot;\\n      }\\n    }\\n  }\\n  attr {\\n    key: &quot;dtype&quot;\\n    value {\\n      type: DT_FLOAT\\n    }\\n  }\\n  attr {\\n    key: &quot;value&quot;\\n    value {\\n      tensor {\\n        dtype: DT_FLOAT\\n        tensor_shape {\\n        }\\n        float_val: 9.999999747378752e-06\\n      }\\n    }\\n  }\\n}\\nnode {\\n  name: &quot;W4/Regularizer/l2_regularizer/L2Loss&quot;\\n  op: &quot;L2Loss&quot;\\n  input: &quot;W4/read&quot;\\n  attr {\\n    key: &quot;T&quot;\\n    value {\\n      type: DT_FLOAT\\n    }\\n  }\\n  attr {\\n    key: &quot;_class&quot;\\n    value {\\n      list {\\n        s: &quot;loc:@W4&quot;\\n      }\\n    }\\n  }\\n}\\nnode {\\n  name: &quot;W4/Regularizer/l2_regularizer&quot;\\n  op: &quot;Mul&quot;\\n  input: &quot;W4/Regularizer/l2_regularizer/scale&quot;\\n  input: &quot;W4/Regularizer/l2_regularizer/L2Loss&quot;\\n  attr {\\n    key: &quot;T&quot;\\n    value {\\n      type: DT_FLOAT\\n    }\\n  }\\n  attr {\\n    key: &quot;_class&quot;\\n    value {\\n      list {\\n        s: &quot;loc:@W4&quot;\\n      }\\n    }\\n  }\\n}\\nnode {\\n  name: &quot;B4/Initializer/random_normal/shape&quot;\\n  op: &quot;Const&quot;\\n  attr {\\n    key: &quot;_class&quot;\\n    value {\\n      list {\\n        s: &quot;loc:@B4&quot;\\n      }\\n    }\\n  }\\n  attr {\\n    key: &quot;dtype&quot;\\n    value {\\n      type: DT_INT32\\n    }\\n  }\\n  attr {\\n    key: &quot;value&quot;\\n    value {\\n      tensor {\\n        dtype: DT_INT32\\n        tensor_shape {\\n          dim {\\n            size: 1\\n          }\\n        }\\n        int_val: 12\\n      }\\n    }\\n  }\\n}\\nnode {\\n  name: &quot;B4/Initializer/random_normal/mean&quot;\\n  op: &quot;Const&quot;\\n  attr {\\n    key: &quot;_class&quot;\\n    value {\\n      list {\\n        s: &quot;loc:@B4&quot;\\n      }\\n    }\\n  }\\n  attr {\\n    key: &quot;dtype&quot;\\n    value {\\n      type: DT_FLOAT\\n    }\\n  }\\n  attr {\\n    key: &quot;value&quot;\\n    value {\\n      tensor {\\n        dtype: DT_FLOAT\\n        tensor_shape {\\n        }\\n        float_val: 0.0\\n      }\\n    }\\n  }\\n}\\nnode {\\n  name: &quot;B4/Initializer/random_normal/stddev&quot;\\n  op: &quot;Const&quot;\\n  attr {\\n    key: &quot;_class&quot;\\n    value {\\n      list {\\n        s: &quot;loc:@B4&quot;\\n      }\\n    }\\n  }\\n  attr {\\n    key: &quot;dtype&quot;\\n    value {\\n      type: DT_FLOAT\\n    }\\n  }\\n  attr {\\n    key: &quot;value&quot;\\n    value {\\n      tensor {\\n        dtype: DT_FLOAT\\n        tensor_shape {\\n        }\\n        float_val: 1.0\\n      }\\n    }\\n  }\\n}\\nnode {\\n  name: &quot;B4/Initializer/random_normal/RandomStandardNormal&quot;\\n  op: &quot;RandomStandardNormal&quot;\\n  input: &quot;B4/Initializer/random_normal/shape&quot;\\n  attr {\\n    key: &quot;T&quot;\\n    value {\\n      type: DT_INT32\\n    }\\n  }\\n  attr {\\n    key: &quot;_class&quot;\\n    value {\\n      list {\\n        s: &quot;loc:@B4&quot;\\n      }\\n    }\\n  }\\n  attr {\\n    key: &quot;dtype&quot;\\n    value {\\n      type: DT_FLOAT\\n    }\\n  }\\n  attr {\\n    key: &quot;seed&quot;\\n    value {\\n      i: 0\\n    }\\n  }\\n  attr {\\n    key: &quot;seed2&quot;\\n    value {\\n      i: 0\\n    }\\n  }\\n}\\nnode {\\n  name: &quot;B4/Initializer/random_normal/mul&quot;\\n  op: &quot;Mul&quot;\\n  input: &quot;B4/Initializer/random_normal/RandomStandardNormal&quot;\\n  input: &quot;B4/Initializer/random_normal/stddev&quot;\\n  attr {\\n    key: &quot;T&quot;\\n    value {\\n      type: DT_FLOAT\\n    }\\n  }\\n  attr {\\n    key: &quot;_class&quot;\\n    value {\\n      list {\\n        s: &quot;loc:@B4&quot;\\n      }\\n    }\\n  }\\n}\\nnode {\\n  name: &quot;B4/Initializer/random_normal&quot;\\n  op: &quot;Add&quot;\\n  input: &quot;B4/Initializer/random_normal/mul&quot;\\n  input: &quot;B4/Initializer/random_normal/mean&quot;\\n  attr {\\n    key: &quot;T&quot;\\n    value {\\n      type: DT_FLOAT\\n    }\\n  }\\n  attr {\\n    key: &quot;_class&quot;\\n    value {\\n      list {\\n        s: &quot;loc:@B4&quot;\\n      }\\n    }\\n  }\\n}\\nnode {\\n  name: &quot;B4&quot;\\n  op: &quot;VariableV2&quot;\\n  attr {\\n    key: &quot;_class&quot;\\n    value {\\n      list {\\n        s: &quot;loc:@B4&quot;\\n      }\\n    }\\n  }\\n  attr {\\n    key: &quot;container&quot;\\n    value {\\n      s: &quot;&quot;\\n    }\\n  }\\n  attr {\\n    key: &quot;dtype&quot;\\n    value {\\n      type: DT_FLOAT\\n    }\\n  }\\n  attr {\\n    key: &quot;shape&quot;\\n    value {\\n      shape {\\n        dim {\\n          size: 12\\n        }\\n      }\\n    }\\n  }\\n  attr {\\n    key: &quot;shared_name&quot;\\n    value {\\n      s: &quot;&quot;\\n    }\\n  }\\n}\\nnode {\\n  name: &quot;B4/Assign&quot;\\n  op: &quot;Assign&quot;\\n  input: &quot;B4&quot;\\n  input: &quot;B4/Initializer/random_normal&quot;\\n  attr {\\n    key: &quot;T&quot;\\n    value {\\n      type: DT_FLOAT\\n    }\\n  }\\n  attr {\\n    key: &quot;_class&quot;\\n    value {\\n      list {\\n        s: &quot;loc:@B4&quot;\\n      }\\n    }\\n  }\\n  attr {\\n    key: &quot;use_locking&quot;\\n    value {\\n      b: true\\n    }\\n  }\\n  attr {\\n    key: &quot;validate_shape&quot;\\n    value {\\n      b: true\\n    }\\n  }\\n}\\nnode {\\n  name: &quot;B4/read&quot;\\n  op: &quot;Identity&quot;\\n  input: &quot;B4&quot;\\n  attr {\\n    key: &quot;T&quot;\\n    value {\\n      type: DT_FLOAT\\n    }\\n  }\\n  attr {\\n    key: &quot;_class&quot;\\n    value {\\n      list {\\n        s: &quot;loc:@B4&quot;\\n      }\\n    }\\n  }\\n}\\nnode {\\n  name: &quot;B4/Regularizer/l2_regularizer/scale&quot;\\n  op: &quot;Const&quot;\\n  attr {\\n    key: &quot;_class&quot;\\n    value {\\n      list {\\n        s: &quot;loc:@B4&quot;\\n      }\\n    }\\n  }\\n  attr {\\n    key: &quot;dtype&quot;\\n    value {\\n      type: DT_FLOAT\\n    }\\n  }\\n  attr {\\n    key: &quot;value&quot;\\n    value {\\n      tensor {\\n        dtype: DT_FLOAT\\n        tensor_shape {\\n        }\\n        float_val: 9.999999747378752e-06\\n      }\\n    }\\n  }\\n}\\nnode {\\n  name: &quot;B4/Regularizer/l2_regularizer/L2Loss&quot;\\n  op: &quot;L2Loss&quot;\\n  input: &quot;B4/read&quot;\\n  attr {\\n    key: &quot;T&quot;\\n    value {\\n      type: DT_FLOAT\\n    }\\n  }\\n  attr {\\n    key: &quot;_class&quot;\\n    value {\\n      list {\\n        s: &quot;loc:@B4&quot;\\n      }\\n    }\\n  }\\n}\\nnode {\\n  name: &quot;B4/Regularizer/l2_regularizer&quot;\\n  op: &quot;Mul&quot;\\n  input: &quot;B4/Regularizer/l2_regularizer/scale&quot;\\n  input: &quot;B4/Regularizer/l2_regularizer/L2Loss&quot;\\n  attr {\\n    key: &quot;T&quot;\\n    value {\\n      type: DT_FLOAT\\n    }\\n  }\\n  attr {\\n    key: &quot;_class&quot;\\n    value {\\n      list {\\n        s: &quot;loc:@B4&quot;\\n      }\\n    }\\n  }\\n}\\nnode {\\n  name: &quot;W5/Initializer/random_normal/shape&quot;\\n  op: &quot;Const&quot;\\n  attr {\\n    key: &quot;_class&quot;\\n    value {\\n      list {\\n        s: &quot;loc:@W5&quot;\\n      }\\n    }\\n  }\\n  attr {\\n    key: &quot;dtype&quot;\\n    value {\\n      type: DT_INT32\\n    }\\n  }\\n  attr {\\n    key: &quot;value&quot;\\n    value {\\n      tensor {\\n        dtype: DT_INT32\\n        tensor_shape {\\n          dim {\\n            size: 2\\n          }\\n        }\\n        tensor_content: &quot;\\\\014\\\\000\\\\000\\\\000\\\\030\\\\000\\\\000\\\\000&quot;\\n      }\\n    }\\n  }\\n}\\nnode {\\n  name: &quot;W5/Initializer/random_normal/mean&quot;\\n  op: &quot;Const&quot;\\n  attr {\\n    key: &quot;_class&quot;\\n    value {\\n      list {\\n        s: &quot;loc:@W5&quot;\\n      }\\n    }\\n  }\\n  attr {\\n    key: &quot;dtype&quot;\\n    value {\\n      type: DT_FLOAT\\n    }\\n  }\\n  attr {\\n    key: &quot;value&quot;\\n    value {\\n      tensor {\\n        dtype: DT_FLOAT\\n        tensor_shape {\\n        }\\n        float_val: 0.0\\n      }\\n    }\\n  }\\n}\\nnode {\\n  name: &quot;W5/Initializer/random_normal/stddev&quot;\\n  op: &quot;Const&quot;\\n  attr {\\n    key: &quot;_class&quot;\\n    value {\\n      list {\\n        s: &quot;loc:@W5&quot;\\n      }\\n    }\\n  }\\n  attr {\\n    key: &quot;dtype&quot;\\n    value {\\n      type: DT_FLOAT\\n    }\\n  }\\n  attr {\\n    key: &quot;value&quot;\\n    value {\\n      tensor {\\n        dtype: DT_FLOAT\\n        tensor_shape {\\n        }\\n        float_val: 1.0\\n      }\\n    }\\n  }\\n}\\nnode {\\n  name: &quot;W5/Initializer/random_normal/RandomStandardNormal&quot;\\n  op: &quot;RandomStandardNormal&quot;\\n  input: &quot;W5/Initializer/random_normal/shape&quot;\\n  attr {\\n    key: &quot;T&quot;\\n    value {\\n      type: DT_INT32\\n    }\\n  }\\n  attr {\\n    key: &quot;_class&quot;\\n    value {\\n      list {\\n        s: &quot;loc:@W5&quot;\\n      }\\n    }\\n  }\\n  attr {\\n    key: &quot;dtype&quot;\\n    value {\\n      type: DT_FLOAT\\n    }\\n  }\\n  attr {\\n    key: &quot;seed&quot;\\n    value {\\n      i: 0\\n    }\\n  }\\n  attr {\\n    key: &quot;seed2&quot;\\n    value {\\n      i: 0\\n    }\\n  }\\n}\\nnode {\\n  name: &quot;W5/Initializer/random_normal/mul&quot;\\n  op: &quot;Mul&quot;\\n  input: &quot;W5/Initializer/random_normal/RandomStandardNormal&quot;\\n  input: &quot;W5/Initializer/random_normal/stddev&quot;\\n  attr {\\n    key: &quot;T&quot;\\n    value {\\n      type: DT_FLOAT\\n    }\\n  }\\n  attr {\\n    key: &quot;_class&quot;\\n    value {\\n      list {\\n        s: &quot;loc:@W5&quot;\\n      }\\n    }\\n  }\\n}\\nnode {\\n  name: &quot;W5/Initializer/random_normal&quot;\\n  op: &quot;Add&quot;\\n  input: &quot;W5/Initializer/random_normal/mul&quot;\\n  input: &quot;W5/Initializer/random_normal/mean&quot;\\n  attr {\\n    key: &quot;T&quot;\\n    value {\\n      type: DT_FLOAT\\n    }\\n  }\\n  attr {\\n    key: &quot;_class&quot;\\n    value {\\n      list {\\n        s: &quot;loc:@W5&quot;\\n      }\\n    }\\n  }\\n}\\nnode {\\n  name: &quot;W5&quot;\\n  op: &quot;VariableV2&quot;\\n  attr {\\n    key: &quot;_class&quot;\\n    value {\\n      list {\\n        s: &quot;loc:@W5&quot;\\n      }\\n    }\\n  }\\n  attr {\\n    key: &quot;container&quot;\\n    value {\\n      s: &quot;&quot;\\n    }\\n  }\\n  attr {\\n    key: &quot;dtype&quot;\\n    value {\\n      type: DT_FLOAT\\n    }\\n  }\\n  attr {\\n    key: &quot;shape&quot;\\n    value {\\n      shape {\\n        dim {\\n          size: 12\\n        }\\n        dim {\\n          size: 24\\n        }\\n      }\\n    }\\n  }\\n  attr {\\n    key: &quot;shared_name&quot;\\n    value {\\n      s: &quot;&quot;\\n    }\\n  }\\n}\\nnode {\\n  name: &quot;W5/Assign&quot;\\n  op: &quot;Assign&quot;\\n  input: &quot;W5&quot;\\n  input: &quot;W5/Initializer/random_normal&quot;\\n  attr {\\n    key: &quot;T&quot;\\n    value {\\n      type: DT_FLOAT\\n    }\\n  }\\n  attr {\\n    key: &quot;_class&quot;\\n    value {\\n      list {\\n        s: &quot;loc:@W5&quot;\\n      }\\n    }\\n  }\\n  attr {\\n    key: &quot;use_locking&quot;\\n    value {\\n      b: true\\n    }\\n  }\\n  attr {\\n    key: &quot;validate_shape&quot;\\n    value {\\n      b: true\\n    }\\n  }\\n}\\nnode {\\n  name: &quot;W5/read&quot;\\n  op: &quot;Identity&quot;\\n  input: &quot;W5&quot;\\n  attr {\\n    key: &quot;T&quot;\\n    value {\\n      type: DT_FLOAT\\n    }\\n  }\\n  attr {\\n    key: &quot;_class&quot;\\n    value {\\n      list {\\n        s: &quot;loc:@W5&quot;\\n      }\\n    }\\n  }\\n}\\nnode {\\n  name: &quot;W5/Regularizer/l2_regularizer/scale&quot;\\n  op: &quot;Const&quot;\\n  attr {\\n    key: &quot;_class&quot;\\n    value {\\n      list {\\n        s: &quot;loc:@W5&quot;\\n      }\\n    }\\n  }\\n  attr {\\n    key: &quot;dtype&quot;\\n    value {\\n      type: DT_FLOAT\\n    }\\n  }\\n  attr {\\n    key: &quot;value&quot;\\n    value {\\n      tensor {\\n        dtype: DT_FLOAT\\n        tensor_shape {\\n        }\\n        float_val: 9.999999747378752e-06\\n      }\\n    }\\n  }\\n}\\nnode {\\n  name: &quot;W5/Regularizer/l2_regularizer/L2Loss&quot;\\n  op: &quot;L2Loss&quot;\\n  input: &quot;W5/read&quot;\\n  attr {\\n    key: &quot;T&quot;\\n    value {\\n      type: DT_FLOAT\\n    }\\n  }\\n  attr {\\n    key: &quot;_class&quot;\\n    value {\\n      list {\\n        s: &quot;loc:@W5&quot;\\n      }\\n    }\\n  }\\n}\\nnode {\\n  name: &quot;W5/Regularizer/l2_regularizer&quot;\\n  op: &quot;Mul&quot;\\n  input: &quot;W5/Regularizer/l2_regularizer/scale&quot;\\n  input: &quot;W5/Regularizer/l2_regularizer/L2Loss&quot;\\n  attr {\\n    key: &quot;T&quot;\\n    value {\\n      type: DT_FLOAT\\n    }\\n  }\\n  attr {\\n    key: &quot;_class&quot;\\n    value {\\n      list {\\n        s: &quot;loc:@W5&quot;\\n      }\\n    }\\n  }\\n}\\nnode {\\n  name: &quot;B5/Initializer/random_normal/shape&quot;\\n  op: &quot;Const&quot;\\n  attr {\\n    key: &quot;_class&quot;\\n    value {\\n      list {\\n        s: &quot;loc:@B5&quot;\\n      }\\n    }\\n  }\\n  attr {\\n    key: &quot;dtype&quot;\\n    value {\\n      type: DT_INT32\\n    }\\n  }\\n  attr {\\n    key: &quot;value&quot;\\n    value {\\n      tensor {\\n        dtype: DT_INT32\\n        tensor_shape {\\n          dim {\\n            size: 1\\n          }\\n        }\\n        int_val: 24\\n      }\\n    }\\n  }\\n}\\nnode {\\n  name: &quot;B5/Initializer/random_normal/mean&quot;\\n  op: &quot;Const&quot;\\n  attr {\\n    key: &quot;_class&quot;\\n    value {\\n      list {\\n        s: &quot;loc:@B5&quot;\\n      }\\n    }\\n  }\\n  attr {\\n    key: &quot;dtype&quot;\\n    value {\\n      type: DT_FLOAT\\n    }\\n  }\\n  attr {\\n    key: &quot;value&quot;\\n    value {\\n      tensor {\\n        dtype: DT_FLOAT\\n        tensor_shape {\\n        }\\n        float_val: 0.0\\n      }\\n    }\\n  }\\n}\\nnode {\\n  name: &quot;B5/Initializer/random_normal/stddev&quot;\\n  op: &quot;Const&quot;\\n  attr {\\n    key: &quot;_class&quot;\\n    value {\\n      list {\\n        s: &quot;loc:@B5&quot;\\n      }\\n    }\\n  }\\n  attr {\\n    key: &quot;dtype&quot;\\n    value {\\n      type: DT_FLOAT\\n    }\\n  }\\n  attr {\\n    key: &quot;value&quot;\\n    value {\\n      tensor {\\n        dtype: DT_FLOAT\\n        tensor_shape {\\n        }\\n        float_val: 1.0\\n      }\\n    }\\n  }\\n}\\nnode {\\n  name: &quot;B5/Initializer/random_normal/RandomStandardNormal&quot;\\n  op: &quot;RandomStandardNormal&quot;\\n  input: &quot;B5/Initializer/random_normal/shape&quot;\\n  attr {\\n    key: &quot;T&quot;\\n    value {\\n      type: DT_INT32\\n    }\\n  }\\n  attr {\\n    key: &quot;_class&quot;\\n    value {\\n      list {\\n        s: &quot;loc:@B5&quot;\\n      }\\n    }\\n  }\\n  attr {\\n    key: &quot;dtype&quot;\\n    value {\\n      type: DT_FLOAT\\n    }\\n  }\\n  attr {\\n    key: &quot;seed&quot;\\n    value {\\n      i: 0\\n    }\\n  }\\n  attr {\\n    key: &quot;seed2&quot;\\n    value {\\n      i: 0\\n    }\\n  }\\n}\\nnode {\\n  name: &quot;B5/Initializer/random_normal/mul&quot;\\n  op: &quot;Mul&quot;\\n  input: &quot;B5/Initializer/random_normal/RandomStandardNormal&quot;\\n  input: &quot;B5/Initializer/random_normal/stddev&quot;\\n  attr {\\n    key: &quot;T&quot;\\n    value {\\n      type: DT_FLOAT\\n    }\\n  }\\n  attr {\\n    key: &quot;_class&quot;\\n    value {\\n      list {\\n        s: &quot;loc:@B5&quot;\\n      }\\n    }\\n  }\\n}\\nnode {\\n  name: &quot;B5/Initializer/random_normal&quot;\\n  op: &quot;Add&quot;\\n  input: &quot;B5/Initializer/random_normal/mul&quot;\\n  input: &quot;B5/Initializer/random_normal/mean&quot;\\n  attr {\\n    key: &quot;T&quot;\\n    value {\\n      type: DT_FLOAT\\n    }\\n  }\\n  attr {\\n    key: &quot;_class&quot;\\n    value {\\n      list {\\n        s: &quot;loc:@B5&quot;\\n      }\\n    }\\n  }\\n}\\nnode {\\n  name: &quot;B5&quot;\\n  op: &quot;VariableV2&quot;\\n  attr {\\n    key: &quot;_class&quot;\\n    value {\\n      list {\\n        s: &quot;loc:@B5&quot;\\n      }\\n    }\\n  }\\n  attr {\\n    key: &quot;container&quot;\\n    value {\\n      s: &quot;&quot;\\n    }\\n  }\\n  attr {\\n    key: &quot;dtype&quot;\\n    value {\\n      type: DT_FLOAT\\n    }\\n  }\\n  attr {\\n    key: &quot;shape&quot;\\n    value {\\n      shape {\\n        dim {\\n          size: 24\\n        }\\n      }\\n    }\\n  }\\n  attr {\\n    key: &quot;shared_name&quot;\\n    value {\\n      s: &quot;&quot;\\n    }\\n  }\\n}\\nnode {\\n  name: &quot;B5/Assign&quot;\\n  op: &quot;Assign&quot;\\n  input: &quot;B5&quot;\\n  input: &quot;B5/Initializer/random_normal&quot;\\n  attr {\\n    key: &quot;T&quot;\\n    value {\\n      type: DT_FLOAT\\n    }\\n  }\\n  attr {\\n    key: &quot;_class&quot;\\n    value {\\n      list {\\n        s: &quot;loc:@B5&quot;\\n      }\\n    }\\n  }\\n  attr {\\n    key: &quot;use_locking&quot;\\n    value {\\n      b: true\\n    }\\n  }\\n  attr {\\n    key: &quot;validate_shape&quot;\\n    value {\\n      b: true\\n    }\\n  }\\n}\\nnode {\\n  name: &quot;B5/read&quot;\\n  op: &quot;Identity&quot;\\n  input: &quot;B5&quot;\\n  attr {\\n    key: &quot;T&quot;\\n    value {\\n      type: DT_FLOAT\\n    }\\n  }\\n  attr {\\n    key: &quot;_class&quot;\\n    value {\\n      list {\\n        s: &quot;loc:@B5&quot;\\n      }\\n    }\\n  }\\n}\\nnode {\\n  name: &quot;B5/Regularizer/l2_regularizer/scale&quot;\\n  op: &quot;Const&quot;\\n  attr {\\n    key: &quot;_class&quot;\\n    value {\\n      list {\\n        s: &quot;loc:@B5&quot;\\n      }\\n    }\\n  }\\n  attr {\\n    key: &quot;dtype&quot;\\n    value {\\n      type: DT_FLOAT\\n    }\\n  }\\n  attr {\\n    key: &quot;value&quot;\\n    value {\\n      tensor {\\n        dtype: DT_FLOAT\\n        tensor_shape {\\n        }\\n        float_val: 9.999999747378752e-06\\n      }\\n    }\\n  }\\n}\\nnode {\\n  name: &quot;B5/Regularizer/l2_regularizer/L2Loss&quot;\\n  op: &quot;L2Loss&quot;\\n  input: &quot;B5/read&quot;\\n  attr {\\n    key: &quot;T&quot;\\n    value {\\n      type: DT_FLOAT\\n    }\\n  }\\n  attr {\\n    key: &quot;_class&quot;\\n    value {\\n      list {\\n        s: &quot;loc:@B5&quot;\\n      }\\n    }\\n  }\\n}\\nnode {\\n  name: &quot;B5/Regularizer/l2_regularizer&quot;\\n  op: &quot;Mul&quot;\\n  input: &quot;B5/Regularizer/l2_regularizer/scale&quot;\\n  input: &quot;B5/Regularizer/l2_regularizer/L2Loss&quot;\\n  attr {\\n    key: &quot;T&quot;\\n    value {\\n      type: DT_FLOAT\\n    }\\n  }\\n  attr {\\n    key: &quot;_class&quot;\\n    value {\\n      list {\\n        s: &quot;loc:@B5&quot;\\n      }\\n    }\\n  }\\n}\\nnode {\\n  name: &quot;W6/Initializer/random_normal/shape&quot;\\n  op: &quot;Const&quot;\\n  attr {\\n    key: &quot;_class&quot;\\n    value {\\n      list {\\n        s: &quot;loc:@W6&quot;\\n      }\\n    }\\n  }\\n  attr {\\n    key: &quot;dtype&quot;\\n    value {\\n      type: DT_INT32\\n    }\\n  }\\n  attr {\\n    key: &quot;value&quot;\\n    value {\\n      tensor {\\n        dtype: DT_INT32\\n        tensor_shape {\\n          dim {\\n            size: 2\\n          }\\n        }\\n        tensor_content: &quot;\\\\030\\\\000\\\\000\\\\000\\\\035\\\\000\\\\000\\\\000&quot;\\n      }\\n    }\\n  }\\n}\\nnode {\\n  name: &quot;W6/Initializer/random_normal/mean&quot;\\n  op: &quot;Const&quot;\\n  attr {\\n    key: &quot;_class&quot;\\n    value {\\n      list {\\n        s: &quot;loc:@W6&quot;\\n      }\\n    }\\n  }\\n  attr {\\n    key: &quot;dtype&quot;\\n    value {\\n      type: DT_FLOAT\\n    }\\n  }\\n  attr {\\n    key: &quot;value&quot;\\n    value {\\n      tensor {\\n        dtype: DT_FLOAT\\n        tensor_shape {\\n        }\\n        float_val: 0.0\\n      }\\n    }\\n  }\\n}\\nnode {\\n  name: &quot;W6/Initializer/random_normal/stddev&quot;\\n  op: &quot;Const&quot;\\n  attr {\\n    key: &quot;_class&quot;\\n    value {\\n      list {\\n        s: &quot;loc:@W6&quot;\\n      }\\n    }\\n  }\\n  attr {\\n    key: &quot;dtype&quot;\\n    value {\\n      type: DT_FLOAT\\n    }\\n  }\\n  attr {\\n    key: &quot;value&quot;\\n    value {\\n      tensor {\\n        dtype: DT_FLOAT\\n        tensor_shape {\\n        }\\n        float_val: 1.0\\n      }\\n    }\\n  }\\n}\\nnode {\\n  name: &quot;W6/Initializer/random_normal/RandomStandardNormal&quot;\\n  op: &quot;RandomStandardNormal&quot;\\n  input: &quot;W6/Initializer/random_normal/shape&quot;\\n  attr {\\n    key: &quot;T&quot;\\n    value {\\n      type: DT_INT32\\n    }\\n  }\\n  attr {\\n    key: &quot;_class&quot;\\n    value {\\n      list {\\n        s: &quot;loc:@W6&quot;\\n      }\\n    }\\n  }\\n  attr {\\n    key: &quot;dtype&quot;\\n    value {\\n      type: DT_FLOAT\\n    }\\n  }\\n  attr {\\n    key: &quot;seed&quot;\\n    value {\\n      i: 0\\n    }\\n  }\\n  attr {\\n    key: &quot;seed2&quot;\\n    value {\\n      i: 0\\n    }\\n  }\\n}\\nnode {\\n  name: &quot;W6/Initializer/random_normal/mul&quot;\\n  op: &quot;Mul&quot;\\n  input: &quot;W6/Initializer/random_normal/RandomStandardNormal&quot;\\n  input: &quot;W6/Initializer/random_normal/stddev&quot;\\n  attr {\\n    key: &quot;T&quot;\\n    value {\\n      type: DT_FLOAT\\n    }\\n  }\\n  attr {\\n    key: &quot;_class&quot;\\n    value {\\n      list {\\n        s: &quot;loc:@W6&quot;\\n      }\\n    }\\n  }\\n}\\nnode {\\n  name: &quot;W6/Initializer/random_normal&quot;\\n  op: &quot;Add&quot;\\n  input: &quot;W6/Initializer/random_normal/mul&quot;\\n  input: &quot;W6/Initializer/random_normal/mean&quot;\\n  attr {\\n    key: &quot;T&quot;\\n    value {\\n      type: DT_FLOAT\\n    }\\n  }\\n  attr {\\n    key: &quot;_class&quot;\\n    value {\\n      list {\\n        s: &quot;loc:@W6&quot;\\n      }\\n    }\\n  }\\n}\\nnode {\\n  name: &quot;W6&quot;\\n  op: &quot;VariableV2&quot;\\n  attr {\\n    key: &quot;_class&quot;\\n    value {\\n      list {\\n        s: &quot;loc:@W6&quot;\\n      }\\n    }\\n  }\\n  attr {\\n    key: &quot;container&quot;\\n    value {\\n      s: &quot;&quot;\\n    }\\n  }\\n  attr {\\n    key: &quot;dtype&quot;\\n    value {\\n      type: DT_FLOAT\\n    }\\n  }\\n  attr {\\n    key: &quot;shape&quot;\\n    value {\\n      shape {\\n        dim {\\n          size: 24\\n        }\\n        dim {\\n          size: 29\\n        }\\n      }\\n    }\\n  }\\n  attr {\\n    key: &quot;shared_name&quot;\\n    value {\\n      s: &quot;&quot;\\n    }\\n  }\\n}\\nnode {\\n  name: &quot;W6/Assign&quot;\\n  op: &quot;Assign&quot;\\n  input: &quot;W6&quot;\\n  input: &quot;W6/Initializer/random_normal&quot;\\n  attr {\\n    key: &quot;T&quot;\\n    value {\\n      type: DT_FLOAT\\n    }\\n  }\\n  attr {\\n    key: &quot;_class&quot;\\n    value {\\n      list {\\n        s: &quot;loc:@W6&quot;\\n      }\\n    }\\n  }\\n  attr {\\n    key: &quot;use_locking&quot;\\n    value {\\n      b: true\\n    }\\n  }\\n  attr {\\n    key: &quot;validate_shape&quot;\\n    value {\\n      b: true\\n    }\\n  }\\n}\\nnode {\\n  name: &quot;W6/read&quot;\\n  op: &quot;Identity&quot;\\n  input: &quot;W6&quot;\\n  attr {\\n    key: &quot;T&quot;\\n    value {\\n      type: DT_FLOAT\\n    }\\n  }\\n  attr {\\n    key: &quot;_class&quot;\\n    value {\\n      list {\\n        s: &quot;loc:@W6&quot;\\n      }\\n    }\\n  }\\n}\\nnode {\\n  name: &quot;W6/Regularizer/l2_regularizer/scale&quot;\\n  op: &quot;Const&quot;\\n  attr {\\n    key: &quot;_class&quot;\\n    value {\\n      list {\\n        s: &quot;loc:@W6&quot;\\n      }\\n    }\\n  }\\n  attr {\\n    key: &quot;dtype&quot;\\n    value {\\n      type: DT_FLOAT\\n    }\\n  }\\n  attr {\\n    key: &quot;value&quot;\\n    value {\\n      tensor {\\n        dtype: DT_FLOAT\\n        tensor_shape {\\n        }\\n        float_val: 9.999999747378752e-06\\n      }\\n    }\\n  }\\n}\\nnode {\\n  name: &quot;W6/Regularizer/l2_regularizer/L2Loss&quot;\\n  op: &quot;L2Loss&quot;\\n  input: &quot;W6/read&quot;\\n  attr {\\n    key: &quot;T&quot;\\n    value {\\n      type: DT_FLOAT\\n    }\\n  }\\n  attr {\\n    key: &quot;_class&quot;\\n    value {\\n      list {\\n        s: &quot;loc:@W6&quot;\\n      }\\n    }\\n  }\\n}\\nnode {\\n  name: &quot;W6/Regularizer/l2_regularizer&quot;\\n  op: &quot;Mul&quot;\\n  input: &quot;W6/Regularizer/l2_regularizer/scale&quot;\\n  input: &quot;W6/Regularizer/l2_regularizer/L2Loss&quot;\\n  attr {\\n    key: &quot;T&quot;\\n    value {\\n      type: DT_FLOAT\\n    }\\n  }\\n  attr {\\n    key: &quot;_class&quot;\\n    value {\\n      list {\\n        s: &quot;loc:@W6&quot;\\n      }\\n    }\\n  }\\n}\\nnode {\\n  name: &quot;B6/Initializer/random_normal/shape&quot;\\n  op: &quot;Const&quot;\\n  attr {\\n    key: &quot;_class&quot;\\n    value {\\n      list {\\n        s: &quot;loc:@B6&quot;\\n      }\\n    }\\n  }\\n  attr {\\n    key: &quot;dtype&quot;\\n    value {\\n      type: DT_INT32\\n    }\\n  }\\n  attr {\\n    key: &quot;value&quot;\\n    value {\\n      tensor {\\n        dtype: DT_INT32\\n        tensor_shape {\\n          dim {\\n            size: 1\\n          }\\n        }\\n        int_val: 29\\n      }\\n    }\\n  }\\n}\\nnode {\\n  name: &quot;B6/Initializer/random_normal/mean&quot;\\n  op: &quot;Const&quot;\\n  attr {\\n    key: &quot;_class&quot;\\n    value {\\n      list {\\n        s: &quot;loc:@B6&quot;\\n      }\\n    }\\n  }\\n  attr {\\n    key: &quot;dtype&quot;\\n    value {\\n      type: DT_FLOAT\\n    }\\n  }\\n  attr {\\n    key: &quot;value&quot;\\n    value {\\n      tensor {\\n        dtype: DT_FLOAT\\n        tensor_shape {\\n        }\\n        float_val: 0.0\\n      }\\n    }\\n  }\\n}\\nnode {\\n  name: &quot;B6/Initializer/random_normal/stddev&quot;\\n  op: &quot;Const&quot;\\n  attr {\\n    key: &quot;_class&quot;\\n    value {\\n      list {\\n        s: &quot;loc:@B6&quot;\\n      }\\n    }\\n  }\\n  attr {\\n    key: &quot;dtype&quot;\\n    value {\\n      type: DT_FLOAT\\n    }\\n  }\\n  attr {\\n    key: &quot;value&quot;\\n    value {\\n      tensor {\\n        dtype: DT_FLOAT\\n        tensor_shape {\\n        }\\n        float_val: 1.0\\n      }\\n    }\\n  }\\n}\\nnode {\\n  name: &quot;B6/Initializer/random_normal/RandomStandardNormal&quot;\\n  op: &quot;RandomStandardNormal&quot;\\n  input: &quot;B6/Initializer/random_normal/shape&quot;\\n  attr {\\n    key: &quot;T&quot;\\n    value {\\n      type: DT_INT32\\n    }\\n  }\\n  attr {\\n    key: &quot;_class&quot;\\n    value {\\n      list {\\n        s: &quot;loc:@B6&quot;\\n      }\\n    }\\n  }\\n  attr {\\n    key: &quot;dtype&quot;\\n    value {\\n      type: DT_FLOAT\\n    }\\n  }\\n  attr {\\n    key: &quot;seed&quot;\\n    value {\\n      i: 0\\n    }\\n  }\\n  attr {\\n    key: &quot;seed2&quot;\\n    value {\\n      i: 0\\n    }\\n  }\\n}\\nnode {\\n  name: &quot;B6/Initializer/random_normal/mul&quot;\\n  op: &quot;Mul&quot;\\n  input: &quot;B6/Initializer/random_normal/RandomStandardNormal&quot;\\n  input: &quot;B6/Initializer/random_normal/stddev&quot;\\n  attr {\\n    key: &quot;T&quot;\\n    value {\\n      type: DT_FLOAT\\n    }\\n  }\\n  attr {\\n    key: &quot;_class&quot;\\n    value {\\n      list {\\n        s: &quot;loc:@B6&quot;\\n      }\\n    }\\n  }\\n}\\nnode {\\n  name: &quot;B6/Initializer/random_normal&quot;\\n  op: &quot;Add&quot;\\n  input: &quot;B6/Initializer/random_normal/mul&quot;\\n  input: &quot;B6/Initializer/random_normal/mean&quot;\\n  attr {\\n    key: &quot;T&quot;\\n    value {\\n      type: DT_FLOAT\\n    }\\n  }\\n  attr {\\n    key: &quot;_class&quot;\\n    value {\\n      list {\\n        s: &quot;loc:@B6&quot;\\n      }\\n    }\\n  }\\n}\\nnode {\\n  name: &quot;B6&quot;\\n  op: &quot;VariableV2&quot;\\n  attr {\\n    key: &quot;_class&quot;\\n    value {\\n      list {\\n        s: &quot;loc:@B6&quot;\\n      }\\n    }\\n  }\\n  attr {\\n    key: &quot;container&quot;\\n    value {\\n      s: &quot;&quot;\\n    }\\n  }\\n  attr {\\n    key: &quot;dtype&quot;\\n    value {\\n      type: DT_FLOAT\\n    }\\n  }\\n  attr {\\n    key: &quot;shape&quot;\\n    value {\\n      shape {\\n        dim {\\n          size: 29\\n        }\\n      }\\n    }\\n  }\\n  attr {\\n    key: &quot;shared_name&quot;\\n    value {\\n      s: &quot;&quot;\\n    }\\n  }\\n}\\nnode {\\n  name: &quot;B6/Assign&quot;\\n  op: &quot;Assign&quot;\\n  input: &quot;B6&quot;\\n  input: &quot;B6/Initializer/random_normal&quot;\\n  attr {\\n    key: &quot;T&quot;\\n    value {\\n      type: DT_FLOAT\\n    }\\n  }\\n  attr {\\n    key: &quot;_class&quot;\\n    value {\\n      list {\\n        s: &quot;loc:@B6&quot;\\n      }\\n    }\\n  }\\n  attr {\\n    key: &quot;use_locking&quot;\\n    value {\\n      b: true\\n    }\\n  }\\n  attr {\\n    key: &quot;validate_shape&quot;\\n    value {\\n      b: true\\n    }\\n  }\\n}\\nnode {\\n  name: &quot;B6/read&quot;\\n  op: &quot;Identity&quot;\\n  input: &quot;B6&quot;\\n  attr {\\n    key: &quot;T&quot;\\n    value {\\n      type: DT_FLOAT\\n    }\\n  }\\n  attr {\\n    key: &quot;_class&quot;\\n    value {\\n      list {\\n        s: &quot;loc:@B6&quot;\\n      }\\n    }\\n  }\\n}\\nnode {\\n  name: &quot;B6/Regularizer/l2_regularizer/scale&quot;\\n  op: &quot;Const&quot;\\n  attr {\\n    key: &quot;_class&quot;\\n    value {\\n      list {\\n        s: &quot;loc:@B6&quot;\\n      }\\n    }\\n  }\\n  attr {\\n    key: &quot;dtype&quot;\\n    value {\\n      type: DT_FLOAT\\n    }\\n  }\\n  attr {\\n    key: &quot;value&quot;\\n    value {\\n      tensor {\\n        dtype: DT_FLOAT\\n        tensor_shape {\\n        }\\n        float_val: 9.999999747378752e-06\\n      }\\n    }\\n  }\\n}\\nnode {\\n  name: &quot;B6/Regularizer/l2_regularizer/L2Loss&quot;\\n  op: &quot;L2Loss&quot;\\n  input: &quot;B6/read&quot;\\n  attr {\\n    key: &quot;T&quot;\\n    value {\\n      type: DT_FLOAT\\n    }\\n  }\\n  attr {\\n    key: &quot;_class&quot;\\n    value {\\n      list {\\n        s: &quot;loc:@B6&quot;\\n      }\\n    }\\n  }\\n}\\nnode {\\n  name: &quot;B6/Regularizer/l2_regularizer&quot;\\n  op: &quot;Mul&quot;\\n  input: &quot;B6/Regularizer/l2_regularizer/scale&quot;\\n  input: &quot;B6/Regularizer/l2_regularizer/L2Loss&quot;\\n  attr {\\n    key: &quot;T&quot;\\n    value {\\n      type: DT_FLOAT\\n    }\\n  }\\n  attr {\\n    key: &quot;_class&quot;\\n    value {\\n      list {\\n        s: &quot;loc:@B6&quot;\\n      }\\n    }\\n  }\\n}\\nnode {\\n  name: &quot;FULL_FORWARD_PASS/MatMul&quot;\\n  op: &quot;MatMul&quot;\\n  input: &quot;INPUT_PIPELINE/IteratorGetNext&quot;\\n  input: &quot;W1/read&quot;\\n  attr {\\n    key: &quot;T&quot;\\n    value {\\n      type: DT_FLOAT\\n    }\\n  }\\n  attr {\\n    key: &quot;transpose_a&quot;\\n    value {\\n      b: false\\n    }\\n  }\\n  attr {\\n    key: &quot;transpose_b&quot;\\n    value {\\n      b: false\\n    }\\n  }\\n}\\nnode {\\n  name: &quot;FULL_FORWARD_PASS/add&quot;\\n  op: &quot;Add&quot;\\n  input: &quot;FULL_FORWARD_PASS/MatMul&quot;\\n  input: &quot;B1/read&quot;\\n  attr {\\n    key: &quot;T&quot;\\n    value {\\n      type: DT_FLOAT\\n    }\\n  }\\n}\\nnode {\\n  name: &quot;FULL_FORWARD_PASS/Relu&quot;\\n  op: &quot;Relu&quot;\\n  input: &quot;FULL_FORWARD_PASS/add&quot;\\n  attr {\\n    key: &quot;T&quot;\\n    value {\\n      type: DT_FLOAT\\n    }\\n  }\\n}\\nnode {\\n  name: &quot;FULL_FORWARD_PASS/MatMul_1&quot;\\n  op: &quot;MatMul&quot;\\n  input: &quot;FULL_FORWARD_PASS/Relu&quot;\\n  input: &quot;W2/read&quot;\\n  attr {\\n    key: &quot;T&quot;\\n    value {\\n      type: DT_FLOAT\\n    }\\n  }\\n  attr {\\n    key: &quot;transpose_a&quot;\\n    value {\\n      b: false\\n    }\\n  }\\n  attr {\\n    key: &quot;transpose_b&quot;\\n    value {\\n      b: false\\n    }\\n  }\\n}\\nnode {\\n  name: &quot;FULL_FORWARD_PASS/add_1&quot;\\n  op: &quot;Add&quot;\\n  input: &quot;FULL_FORWARD_PASS/MatMul_1&quot;\\n  input: &quot;B2/read&quot;\\n  attr {\\n    key: &quot;T&quot;\\n    value {\\n      type: DT_FLOAT\\n    }\\n  }\\n}\\nnode {\\n  name: &quot;FULL_FORWARD_PASS/Relu_1&quot;\\n  op: &quot;Relu&quot;\\n  input: &quot;FULL_FORWARD_PASS/add_1&quot;\\n  attr {\\n    key: &quot;T&quot;\\n    value {\\n      type: DT_FLOAT\\n    }\\n  }\\n}\\nnode {\\n  name: &quot;FULL_FORWARD_PASS/MatMul_2&quot;\\n  op: &quot;MatMul&quot;\\n  input: &quot;FULL_FORWARD_PASS/Relu_1&quot;\\n  input: &quot;W3/read&quot;\\n  attr {\\n    key: &quot;T&quot;\\n    value {\\n      type: DT_FLOAT\\n    }\\n  }\\n  attr {\\n    key: &quot;transpose_a&quot;\\n    value {\\n      b: false\\n    }\\n  }\\n  attr {\\n    key: &quot;transpose_b&quot;\\n    value {\\n      b: false\\n    }\\n  }\\n}\\nnode {\\n  name: &quot;FULL_FORWARD_PASS/add_2&quot;\\n  op: &quot;Add&quot;\\n  input: &quot;FULL_FORWARD_PASS/MatMul_2&quot;\\n  input: &quot;B3/read&quot;\\n  attr {\\n    key: &quot;T&quot;\\n    value {\\n      type: DT_FLOAT\\n    }\\n  }\\n}\\nnode {\\n  name: &quot;FULL_FORWARD_PASS/Relu_2&quot;\\n  op: &quot;Relu&quot;\\n  input: &quot;FULL_FORWARD_PASS/add_2&quot;\\n  attr {\\n    key: &quot;T&quot;\\n    value {\\n      type: DT_FLOAT\\n    }\\n  }\\n}\\nnode {\\n  name: &quot;FULL_FORWARD_PASS/MatMul_3&quot;\\n  op: &quot;MatMul&quot;\\n  input: &quot;FULL_FORWARD_PASS/Relu_2&quot;\\n  input: &quot;W4/read&quot;\\n  attr {\\n    key: &quot;T&quot;\\n    value {\\n      type: DT_FLOAT\\n    }\\n  }\\n  attr {\\n    key: &quot;transpose_a&quot;\\n    value {\\n      b: false\\n    }\\n  }\\n  attr {\\n    key: &quot;transpose_b&quot;\\n    value {\\n      b: false\\n    }\\n  }\\n}\\nnode {\\n  name: &quot;FULL_FORWARD_PASS/add_3&quot;\\n  op: &quot;Add&quot;\\n  input: &quot;FULL_FORWARD_PASS/MatMul_3&quot;\\n  input: &quot;B4/read&quot;\\n  attr {\\n    key: &quot;T&quot;\\n    value {\\n      type: DT_FLOAT\\n    }\\n  }\\n}\\nnode {\\n  name: &quot;FULL_FORWARD_PASS/Relu_3&quot;\\n  op: &quot;Relu&quot;\\n  input: &quot;FULL_FORWARD_PASS/add_3&quot;\\n  attr {\\n    key: &quot;T&quot;\\n    value {\\n      type: DT_FLOAT\\n    }\\n  }\\n}\\nnode {\\n  name: &quot;FULL_FORWARD_PASS/MatMul_4&quot;\\n  op: &quot;MatMul&quot;\\n  input: &quot;FULL_FORWARD_PASS/Relu_3&quot;\\n  input: &quot;W5/read&quot;\\n  attr {\\n    key: &quot;T&quot;\\n    value {\\n      type: DT_FLOAT\\n    }\\n  }\\n  attr {\\n    key: &quot;transpose_a&quot;\\n    value {\\n      b: false\\n    }\\n  }\\n  attr {\\n    key: &quot;transpose_b&quot;\\n    value {\\n      b: false\\n    }\\n  }\\n}\\nnode {\\n  name: &quot;FULL_FORWARD_PASS/add_4&quot;\\n  op: &quot;Add&quot;\\n  input: &quot;FULL_FORWARD_PASS/MatMul_4&quot;\\n  input: &quot;B5/read&quot;\\n  attr {\\n    key: &quot;T&quot;\\n    value {\\n      type: DT_FLOAT\\n    }\\n  }\\n}\\nnode {\\n  name: &quot;FULL_FORWARD_PASS/Relu_4&quot;\\n  op: &quot;Relu&quot;\\n  input: &quot;FULL_FORWARD_PASS/add_4&quot;\\n  attr {\\n    key: &quot;T&quot;\\n    value {\\n      type: DT_FLOAT\\n    }\\n  }\\n}\\nnode {\\n  name: &quot;FULL_FORWARD_PASS/MatMul_5&quot;\\n  op: &quot;MatMul&quot;\\n  input: &quot;FULL_FORWARD_PASS/Relu_4&quot;\\n  input: &quot;W6/read&quot;\\n  attr {\\n    key: &quot;T&quot;\\n    value {\\n      type: DT_FLOAT\\n    }\\n  }\\n  attr {\\n    key: &quot;transpose_a&quot;\\n    value {\\n      b: false\\n    }\\n  }\\n  attr {\\n    key: &quot;transpose_b&quot;\\n    value {\\n      b: false\\n    }\\n  }\\n}\\nnode {\\n  name: &quot;FULL_FORWARD_PASS/add_5&quot;\\n  op: &quot;Add&quot;\\n  input: &quot;FULL_FORWARD_PASS/MatMul_5&quot;\\n  input: &quot;B6/read&quot;\\n  attr {\\n    key: &quot;T&quot;\\n    value {\\n      type: DT_FLOAT\\n    }\\n  }\\n}\\nnode {\\n  name: &quot;FULL_FORWARD_PASS/Relu_5&quot;\\n  op: &quot;Relu&quot;\\n  input: &quot;FULL_FORWARD_PASS/add_5&quot;\\n  attr {\\n    key: &quot;T&quot;\\n    value {\\n      type: DT_FLOAT\\n    }\\n  }\\n}\\nnode {\\n  name: &quot;FULL_FORWARD_PASS/MatMul_6&quot;\\n  op: &quot;MatMul&quot;\\n  input: &quot;INPUT_PIPELINE/IteratorGetNext_1&quot;\\n  input: &quot;W1/read&quot;\\n  attr {\\n    key: &quot;T&quot;\\n    value {\\n      type: DT_FLOAT\\n    }\\n  }\\n  attr {\\n    key: &quot;transpose_a&quot;\\n    value {\\n      b: false\\n    }\\n  }\\n  attr {\\n    key: &quot;transpose_b&quot;\\n    value {\\n      b: false\\n    }\\n  }\\n}\\nnode {\\n  name: &quot;FULL_FORWARD_PASS/add_6&quot;\\n  op: &quot;Add&quot;\\n  input: &quot;FULL_FORWARD_PASS/MatMul_6&quot;\\n  input: &quot;B1/read&quot;\\n  attr {\\n    key: &quot;T&quot;\\n    value {\\n      type: DT_FLOAT\\n    }\\n  }\\n}\\nnode {\\n  name: &quot;FULL_FORWARD_PASS/Relu_6&quot;\\n  op: &quot;Relu&quot;\\n  input: &quot;FULL_FORWARD_PASS/add_6&quot;\\n  attr {\\n    key: &quot;T&quot;\\n    value {\\n      type: DT_FLOAT\\n    }\\n  }\\n}\\nnode {\\n  name: &quot;FULL_FORWARD_PASS/MatMul_7&quot;\\n  op: &quot;MatMul&quot;\\n  input: &quot;FULL_FORWARD_PASS/Relu_6&quot;\\n  input: &quot;W2/read&quot;\\n  attr {\\n    key: &quot;T&quot;\\n    value {\\n      type: DT_FLOAT\\n    }\\n  }\\n  attr {\\n    key: &quot;transpose_a&quot;\\n    value {\\n      b: false\\n    }\\n  }\\n  attr {\\n    key: &quot;transpose_b&quot;\\n    value {\\n      b: false\\n    }\\n  }\\n}\\nnode {\\n  name: &quot;FULL_FORWARD_PASS/add_7&quot;\\n  op: &quot;Add&quot;\\n  input: &quot;FULL_FORWARD_PASS/MatMul_7&quot;\\n  input: &quot;B2/read&quot;\\n  attr {\\n    key: &quot;T&quot;\\n    value {\\n      type: DT_FLOAT\\n    }\\n  }\\n}\\nnode {\\n  name: &quot;FULL_FORWARD_PASS/Relu_7&quot;\\n  op: &quot;Relu&quot;\\n  input: &quot;FULL_FORWARD_PASS/add_7&quot;\\n  attr {\\n    key: &quot;T&quot;\\n    value {\\n      type: DT_FLOAT\\n    }\\n  }\\n}\\nnode {\\n  name: &quot;FULL_FORWARD_PASS/MatMul_8&quot;\\n  op: &quot;MatMul&quot;\\n  input: &quot;FULL_FORWARD_PASS/Relu_7&quot;\\n  input: &quot;W3/read&quot;\\n  attr {\\n    key: &quot;T&quot;\\n    value {\\n      type: DT_FLOAT\\n    }\\n  }\\n  attr {\\n    key: &quot;transpose_a&quot;\\n    value {\\n      b: false\\n    }\\n  }\\n  attr {\\n    key: &quot;transpose_b&quot;\\n    value {\\n      b: false\\n    }\\n  }\\n}\\nnode {\\n  name: &quot;FULL_FORWARD_PASS/add_8&quot;\\n  op: &quot;Add&quot;\\n  input: &quot;FULL_FORWARD_PASS/MatMul_8&quot;\\n  input: &quot;B3/read&quot;\\n  attr {\\n    key: &quot;T&quot;\\n    value {\\n      type: DT_FLOAT\\n    }\\n  }\\n}\\nnode {\\n  name: &quot;FULL_FORWARD_PASS/Relu_8&quot;\\n  op: &quot;Relu&quot;\\n  input: &quot;FULL_FORWARD_PASS/add_8&quot;\\n  attr {\\n    key: &quot;T&quot;\\n    value {\\n      type: DT_FLOAT\\n    }\\n  }\\n}\\nnode {\\n  name: &quot;FULL_FORWARD_PASS/MatMul_9&quot;\\n  op: &quot;MatMul&quot;\\n  input: &quot;FULL_FORWARD_PASS/Relu_8&quot;\\n  input: &quot;W4/read&quot;\\n  attr {\\n    key: &quot;T&quot;\\n    value {\\n      type: DT_FLOAT\\n    }\\n  }\\n  attr {\\n    key: &quot;transpose_a&quot;\\n    value {\\n      b: false\\n    }\\n  }\\n  attr {\\n    key: &quot;transpose_b&quot;\\n    value {\\n      b: false\\n    }\\n  }\\n}\\nnode {\\n  name: &quot;FULL_FORWARD_PASS/add_9&quot;\\n  op: &quot;Add&quot;\\n  input: &quot;FULL_FORWARD_PASS/MatMul_9&quot;\\n  input: &quot;B4/read&quot;\\n  attr {\\n    key: &quot;T&quot;\\n    value {\\n      type: DT_FLOAT\\n    }\\n  }\\n}\\nnode {\\n  name: &quot;FULL_FORWARD_PASS/Relu_9&quot;\\n  op: &quot;Relu&quot;\\n  input: &quot;FULL_FORWARD_PASS/add_9&quot;\\n  attr {\\n    key: &quot;T&quot;\\n    value {\\n      type: DT_FLOAT\\n    }\\n  }\\n}\\nnode {\\n  name: &quot;FULL_FORWARD_PASS/MatMul_10&quot;\\n  op: &quot;MatMul&quot;\\n  input: &quot;FULL_FORWARD_PASS/Relu_9&quot;\\n  input: &quot;W5/read&quot;\\n  attr {\\n    key: &quot;T&quot;\\n    value {\\n      type: DT_FLOAT\\n    }\\n  }\\n  attr {\\n    key: &quot;transpose_a&quot;\\n    value {\\n      b: false\\n    }\\n  }\\n  attr {\\n    key: &quot;transpose_b&quot;\\n    value {\\n      b: false\\n    }\\n  }\\n}\\nnode {\\n  name: &quot;FULL_FORWARD_PASS/add_10&quot;\\n  op: &quot;Add&quot;\\n  input: &quot;FULL_FORWARD_PASS/MatMul_10&quot;\\n  input: &quot;B5/read&quot;\\n  attr {\\n    key: &quot;T&quot;\\n    value {\\n      type: DT_FLOAT\\n    }\\n  }\\n}\\nnode {\\n  name: &quot;FULL_FORWARD_PASS/Relu_10&quot;\\n  op: &quot;Relu&quot;\\n  input: &quot;FULL_FORWARD_PASS/add_10&quot;\\n  attr {\\n    key: &quot;T&quot;\\n    value {\\n      type: DT_FLOAT\\n    }\\n  }\\n}\\nnode {\\n  name: &quot;FULL_FORWARD_PASS/MatMul_11&quot;\\n  op: &quot;MatMul&quot;\\n  input: &quot;FULL_FORWARD_PASS/Relu_10&quot;\\n  input: &quot;W6/read&quot;\\n  attr {\\n    key: &quot;T&quot;\\n    value {\\n      type: DT_FLOAT\\n    }\\n  }\\n  attr {\\n    key: &quot;transpose_a&quot;\\n    value {\\n      b: false\\n    }\\n  }\\n  attr {\\n    key: &quot;transpose_b&quot;\\n    value {\\n      b: false\\n    }\\n  }\\n}\\nnode {\\n  name: &quot;FULL_FORWARD_PASS/add_11&quot;\\n  op: &quot;Add&quot;\\n  input: &quot;FULL_FORWARD_PASS/MatMul_11&quot;\\n  input: &quot;B6/read&quot;\\n  attr {\\n    key: &quot;T&quot;\\n    value {\\n      type: DT_FLOAT\\n    }\\n  }\\n}\\nnode {\\n  name: &quot;FULL_FORWARD_PASS/Relu_11&quot;\\n  op: &quot;Relu&quot;\\n  input: &quot;FULL_FORWARD_PASS/add_11&quot;\\n  attr {\\n    key: &quot;T&quot;\\n    value {\\n      type: DT_FLOAT\\n    }\\n  }\\n}\\nnode {\\n  name: &quot;FULL_FORWARD_PASS/MatMul_12&quot;\\n  op: &quot;MatMul&quot;\\n  input: &quot;INPUT_PIPELINE/IteratorGetNext_2&quot;\\n  input: &quot;W1/read&quot;\\n  attr {\\n    key: &quot;T&quot;\\n    value {\\n      type: DT_FLOAT\\n    }\\n  }\\n  attr {\\n    key: &quot;transpose_a&quot;\\n    value {\\n      b: false\\n    }\\n  }\\n  attr {\\n    key: &quot;transpose_b&quot;\\n    value {\\n      b: false\\n    }\\n  }\\n}\\nnode {\\n  name: &quot;FULL_FORWARD_PASS/add_12&quot;\\n  op: &quot;Add&quot;\\n  input: &quot;FULL_FORWARD_PASS/MatMul_12&quot;\\n  input: &quot;B1/read&quot;\\n  attr {\\n    key: &quot;T&quot;\\n    value {\\n      type: DT_FLOAT\\n    }\\n  }\\n}\\nnode {\\n  name: &quot;FULL_FORWARD_PASS/Relu_12&quot;\\n  op: &quot;Relu&quot;\\n  input: &quot;FULL_FORWARD_PASS/add_12&quot;\\n  attr {\\n    key: &quot;T&quot;\\n    value {\\n      type: DT_FLOAT\\n    }\\n  }\\n}\\nnode {\\n  name: &quot;FULL_FORWARD_PASS/MatMul_13&quot;\\n  op: &quot;MatMul&quot;\\n  input: &quot;FULL_FORWARD_PASS/Relu_12&quot;\\n  input: &quot;W2/read&quot;\\n  attr {\\n    key: &quot;T&quot;\\n    value {\\n      type: DT_FLOAT\\n    }\\n  }\\n  attr {\\n    key: &quot;transpose_a&quot;\\n    value {\\n      b: false\\n    }\\n  }\\n  attr {\\n    key: &quot;transpose_b&quot;\\n    value {\\n      b: false\\n    }\\n  }\\n}\\nnode {\\n  name: &quot;FULL_FORWARD_PASS/add_13&quot;\\n  op: &quot;Add&quot;\\n  input: &quot;FULL_FORWARD_PASS/MatMul_13&quot;\\n  input: &quot;B2/read&quot;\\n  attr {\\n    key: &quot;T&quot;\\n    value {\\n      type: DT_FLOAT\\n    }\\n  }\\n}\\nnode {\\n  name: &quot;FULL_FORWARD_PASS/Relu_13&quot;\\n  op: &quot;Relu&quot;\\n  input: &quot;FULL_FORWARD_PASS/add_13&quot;\\n  attr {\\n    key: &quot;T&quot;\\n    value {\\n      type: DT_FLOAT\\n    }\\n  }\\n}\\nnode {\\n  name: &quot;FULL_FORWARD_PASS/MatMul_14&quot;\\n  op: &quot;MatMul&quot;\\n  input: &quot;FULL_FORWARD_PASS/Relu_13&quot;\\n  input: &quot;W3/read&quot;\\n  attr {\\n    key: &quot;T&quot;\\n    value {\\n      type: DT_FLOAT\\n    }\\n  }\\n  attr {\\n    key: &quot;transpose_a&quot;\\n    value {\\n      b: false\\n    }\\n  }\\n  attr {\\n    key: &quot;transpose_b&quot;\\n    value {\\n      b: false\\n    }\\n  }\\n}\\nnode {\\n  name: &quot;FULL_FORWARD_PASS/add_14&quot;\\n  op: &quot;Add&quot;\\n  input: &quot;FULL_FORWARD_PASS/MatMul_14&quot;\\n  input: &quot;B3/read&quot;\\n  attr {\\n    key: &quot;T&quot;\\n    value {\\n      type: DT_FLOAT\\n    }\\n  }\\n}\\nnode {\\n  name: &quot;FULL_FORWARD_PASS/Relu_14&quot;\\n  op: &quot;Relu&quot;\\n  input: &quot;FULL_FORWARD_PASS/add_14&quot;\\n  attr {\\n    key: &quot;T&quot;\\n    value {\\n      type: DT_FLOAT\\n    }\\n  }\\n}\\nnode {\\n  name: &quot;FULL_FORWARD_PASS/MatMul_15&quot;\\n  op: &quot;MatMul&quot;\\n  input: &quot;FULL_FORWARD_PASS/Relu_14&quot;\\n  input: &quot;W4/read&quot;\\n  attr {\\n    key: &quot;T&quot;\\n    value {\\n      type: DT_FLOAT\\n    }\\n  }\\n  attr {\\n    key: &quot;transpose_a&quot;\\n    value {\\n      b: false\\n    }\\n  }\\n  attr {\\n    key: &quot;transpose_b&quot;\\n    value {\\n      b: false\\n    }\\n  }\\n}\\nnode {\\n  name: &quot;FULL_FORWARD_PASS/add_15&quot;\\n  op: &quot;Add&quot;\\n  input: &quot;FULL_FORWARD_PASS/MatMul_15&quot;\\n  input: &quot;B4/read&quot;\\n  attr {\\n    key: &quot;T&quot;\\n    value {\\n      type: DT_FLOAT\\n    }\\n  }\\n}\\nnode {\\n  name: &quot;FULL_FORWARD_PASS/Relu_15&quot;\\n  op: &quot;Relu&quot;\\n  input: &quot;FULL_FORWARD_PASS/add_15&quot;\\n  attr {\\n    key: &quot;T&quot;\\n    value {\\n      type: DT_FLOAT\\n    }\\n  }\\n}\\nnode {\\n  name: &quot;FULL_FORWARD_PASS/MatMul_16&quot;\\n  op: &quot;MatMul&quot;\\n  input: &quot;FULL_FORWARD_PASS/Relu_15&quot;\\n  input: &quot;W5/read&quot;\\n  attr {\\n    key: &quot;T&quot;\\n    value {\\n      type: DT_FLOAT\\n    }\\n  }\\n  attr {\\n    key: &quot;transpose_a&quot;\\n    value {\\n      b: false\\n    }\\n  }\\n  attr {\\n    key: &quot;transpose_b&quot;\\n    value {\\n      b: false\\n    }\\n  }\\n}\\nnode {\\n  name: &quot;FULL_FORWARD_PASS/add_16&quot;\\n  op: &quot;Add&quot;\\n  input: &quot;FULL_FORWARD_PASS/MatMul_16&quot;\\n  input: &quot;B5/read&quot;\\n  attr {\\n    key: &quot;T&quot;\\n    value {\\n      type: DT_FLOAT\\n    }\\n  }\\n}\\nnode {\\n  name: &quot;FULL_FORWARD_PASS/Relu_16&quot;\\n  op: &quot;Relu&quot;\\n  input: &quot;FULL_FORWARD_PASS/add_16&quot;\\n  attr {\\n    key: &quot;T&quot;\\n    value {\\n      type: DT_FLOAT\\n    }\\n  }\\n}\\nnode {\\n  name: &quot;FULL_FORWARD_PASS/MatMul_17&quot;\\n  op: &quot;MatMul&quot;\\n  input: &quot;FULL_FORWARD_PASS/Relu_16&quot;\\n  input: &quot;W6/read&quot;\\n  attr {\\n    key: &quot;T&quot;\\n    value {\\n      type: DT_FLOAT\\n    }\\n  }\\n  attr {\\n    key: &quot;transpose_a&quot;\\n    value {\\n      b: false\\n    }\\n  }\\n  attr {\\n    key: &quot;transpose_b&quot;\\n    value {\\n      b: false\\n    }\\n  }\\n}\\nnode {\\n  name: &quot;FULL_FORWARD_PASS/add_17&quot;\\n  op: &quot;Add&quot;\\n  input: &quot;FULL_FORWARD_PASS/MatMul_17&quot;\\n  input: &quot;B6/read&quot;\\n  attr {\\n    key: &quot;T&quot;\\n    value {\\n      type: DT_FLOAT\\n    }\\n  }\\n}\\nnode {\\n  name: &quot;FULL_FORWARD_PASS/Relu_17&quot;\\n  op: &quot;Relu&quot;\\n  input: &quot;FULL_FORWARD_PASS/add_17&quot;\\n  attr {\\n    key: &quot;T&quot;\\n    value {\\n      type: DT_FLOAT\\n    }\\n  }\\n}\\nnode {\\n  name: &quot;RECREATION_LOSS/SquaredDifference&quot;\\n  op: &quot;SquaredDifference&quot;\\n  input: &quot;FULL_FORWARD_PASS/Relu_5&quot;\\n  input: &quot;INPUT_PIPELINE/IteratorGetNext:1&quot;\\n  attr {\\n    key: &quot;T&quot;\\n    value {\\n      type: DT_FLOAT\\n    }\\n  }\\n}\\nnode {\\n  name: &quot;RECREATION_LOSS/Mean/reduction_indices&quot;\\n  op: &quot;Const&quot;\\n  attr {\\n    key: &quot;dtype&quot;\\n    value {\\n      type: DT_INT32\\n    }\\n  }\\n  attr {\\n    key: &quot;value&quot;\\n    value {\\n      tensor {\\n        dtype: DT_INT32\\n        tensor_shape {\\n        }\\n        int_val: -1\\n      }\\n    }\\n  }\\n}\\nnode {\\n  name: &quot;RECREATION_LOSS/Mean&quot;\\n  op: &quot;Mean&quot;\\n  input: &quot;RECREATION_LOSS/SquaredDifference&quot;\\n  input: &quot;RECREATION_LOSS/Mean/reduction_indices&quot;\\n  attr {\\n    key: &quot;T&quot;\\n    value {\\n      type: DT_FLOAT\\n    }\\n  }\\n  attr {\\n    key: &quot;Tidx&quot;\\n    value {\\n      type: DT_INT32\\n    }\\n  }\\n  attr {\\n    key: &quot;keep_dims&quot;\\n    value {\\n      b: false\\n    }\\n  }\\n}\\nnode {\\n  name: &quot;RECREATION_LOSS/Const&quot;\\n  op: &quot;Const&quot;\\n  attr {\\n    key: &quot;dtype&quot;\\n    value {\\n      type: DT_INT32\\n    }\\n  }\\n  attr {\\n    key: &quot;value&quot;\\n    value {\\n      tensor {\\n        dtype: DT_INT32\\n        tensor_shape {\\n          dim {\\n            size: 1\\n          }\\n        }\\n        int_val: 0\\n      }\\n    }\\n  }\\n}\\nnode {\\n  name: &quot;RECREATION_LOSS/Mean_1&quot;\\n  op: &quot;Mean&quot;\\n  input: &quot;RECREATION_LOSS/Mean&quot;\\n  input: &quot;RECREATION_LOSS/Const&quot;\\n  attr {\\n    key: &quot;T&quot;\\n    value {\\n      type: DT_FLOAT\\n    }\\n  }\\n  attr {\\n    key: &quot;Tidx&quot;\\n    value {\\n      type: DT_INT32\\n    }\\n  }\\n  attr {\\n    key: &quot;keep_dims&quot;\\n    value {\\n      b: false\\n    }\\n  }\\n}\\nnode {\\n  name: &quot;RECREATION_LOSS/truediv/y&quot;\\n  op: &quot;Const&quot;\\n  attr {\\n    key: &quot;dtype&quot;\\n    value {\\n      type: DT_FLOAT\\n    }\\n  }\\n  attr {\\n    key: &quot;value&quot;\\n    value {\\n      tensor {\\n        dtype: DT_FLOAT\\n        tensor_shape {\\n        }\\n        float_val: 512.0\\n      }\\n    }\\n  }\\n}\\nnode {\\n  name: &quot;RECREATION_LOSS/truediv&quot;\\n  op: &quot;RealDiv&quot;\\n  input: &quot;RECREATION_LOSS/Mean_1&quot;\\n  input: &quot;RECREATION_LOSS/truediv/y&quot;\\n  attr {\\n    key: &quot;T&quot;\\n    value {\\n      type: DT_FLOAT\\n    }\\n  }\\n}\\nnode {\\n  name: &quot;RECREATION_LOSS/total_regularization_loss&quot;\\n  op: &quot;AddN&quot;\\n  input: &quot;W1/Regularizer/l2_regularizer&quot;\\n  input: &quot;B1/Regularizer/l2_regularizer&quot;\\n  input: &quot;W2/Regularizer/l2_regularizer&quot;\\n  input: &quot;B2/Regularizer/l2_regularizer&quot;\\n  input: &quot;W3/Regularizer/l2_regularizer&quot;\\n  input: &quot;B3/Regularizer/l2_regularizer&quot;\\n  input: &quot;W4/Regularizer/l2_regularizer&quot;\\n  input: &quot;B4/Regularizer/l2_regularizer&quot;\\n  input: &quot;W5/Regularizer/l2_regularizer&quot;\\n  input: &quot;B5/Regularizer/l2_regularizer&quot;\\n  input: &quot;W6/Regularizer/l2_regularizer&quot;\\n  input: &quot;B6/Regularizer/l2_regularizer&quot;\\n  attr {\\n    key: &quot;N&quot;\\n    value {\\n      i: 12\\n    }\\n  }\\n  attr {\\n    key: &quot;T&quot;\\n    value {\\n      type: DT_FLOAT\\n    }\\n  }\\n}\\nnode {\\n  name: &quot;RECREATION_LOSS/add&quot;\\n  op: &quot;Add&quot;\\n  input: &quot;RECREATION_LOSS/truediv&quot;\\n  input: &quot;RECREATION_LOSS/total_regularization_loss&quot;\\n  attr {\\n    key: &quot;T&quot;\\n    value {\\n      type: DT_FLOAT\\n    }\\n  }\\n}\\nnode {\\n  name: &quot;RECREATION_LOSS/SquaredDifference_1&quot;\\n  op: &quot;SquaredDifference&quot;\\n  input: &quot;FULL_FORWARD_PASS/Relu_11&quot;\\n  input: &quot;INPUT_PIPELINE/IteratorGetNext_1:1&quot;\\n  attr {\\n    key: &quot;T&quot;\\n    value {\\n      type: DT_FLOAT\\n    }\\n  }\\n}\\nnode {\\n  name: &quot;RECREATION_LOSS/Mean_2/reduction_indices&quot;\\n  op: &quot;Const&quot;\\n  attr {\\n    key: &quot;dtype&quot;\\n    value {\\n      type: DT_INT32\\n    }\\n  }\\n  attr {\\n    key: &quot;value&quot;\\n    value {\\n      tensor {\\n        dtype: DT_INT32\\n        tensor_shape {\\n        }\\n        int_val: -1\\n      }\\n    }\\n  }\\n}\\nnode {\\n  name: &quot;RECREATION_LOSS/Mean_2&quot;\\n  op: &quot;Mean&quot;\\n  input: &quot;RECREATION_LOSS/SquaredDifference_1&quot;\\n  input: &quot;RECREATION_LOSS/Mean_2/reduction_indices&quot;\\n  attr {\\n    key: &quot;T&quot;\\n    value {\\n      type: DT_FLOAT\\n    }\\n  }\\n  attr {\\n    key: &quot;Tidx&quot;\\n    value {\\n      type: DT_INT32\\n    }\\n  }\\n  attr {\\n    key: &quot;keep_dims&quot;\\n    value {\\n      b: false\\n    }\\n  }\\n}\\nnode {\\n  name: &quot;RECREATION_LOSS/Const_1&quot;\\n  op: &quot;Const&quot;\\n  attr {\\n    key: &quot;dtype&quot;\\n    value {\\n      type: DT_INT32\\n    }\\n  }\\n  attr {\\n    key: &quot;value&quot;\\n    value {\\n      tensor {\\n        dtype: DT_INT32\\n        tensor_shape {\\n          dim {\\n            size: 1\\n          }\\n        }\\n        int_val: 0\\n      }\\n    }\\n  }\\n}\\nnode {\\n  name: &quot;RECREATION_LOSS/Mean_3&quot;\\n  op: &quot;Mean&quot;\\n  input: &quot;RECREATION_LOSS/Mean_2&quot;\\n  input: &quot;RECREATION_LOSS/Const_1&quot;\\n  attr {\\n    key: &quot;T&quot;\\n    value {\\n      type: DT_FLOAT\\n    }\\n  }\\n  attr {\\n    key: &quot;Tidx&quot;\\n    value {\\n      type: DT_INT32\\n    }\\n  }\\n  attr {\\n    key: &quot;keep_dims&quot;\\n    value {\\n      b: false\\n    }\\n  }\\n}\\nnode {\\n  name: &quot;RECREATION_LOSS/truediv_1/y&quot;\\n  op: &quot;Const&quot;\\n  attr {\\n    key: &quot;dtype&quot;\\n    value {\\n      type: DT_FLOAT\\n    }\\n  }\\n  attr {\\n    key: &quot;value&quot;\\n    value {\\n      tensor {\\n        dtype: DT_FLOAT\\n        tensor_shape {\\n        }\\n        float_val: 34117.0\\n      }\\n    }\\n  }\\n}\\nnode {\\n  name: &quot;RECREATION_LOSS/truediv_1&quot;\\n  op: &quot;RealDiv&quot;\\n  input: &quot;RECREATION_LOSS/Mean_3&quot;\\n  input: &quot;RECREATION_LOSS/truediv_1/y&quot;\\n  attr {\\n    key: &quot;T&quot;\\n    value {\\n      type: DT_FLOAT\\n    }\\n  }\\n}\\nnode {\\n  name: &quot;RECREATION_LOSS/total_regularization_loss_1&quot;\\n  op: &quot;AddN&quot;\\n  input: &quot;W1/Regularizer/l2_regularizer&quot;\\n  input: &quot;B1/Regularizer/l2_regularizer&quot;\\n  input: &quot;W2/Regularizer/l2_regularizer&quot;\\n  input: &quot;B2/Regularizer/l2_regularizer&quot;\\n  input: &quot;W3/Regularizer/l2_regularizer&quot;\\n  input: &quot;B3/Regularizer/l2_regularizer&quot;\\n  input: &quot;W4/Regularizer/l2_regularizer&quot;\\n  input: &quot;B4/Regularizer/l2_regularizer&quot;\\n  input: &quot;W5/Regularizer/l2_regularizer&quot;\\n  input: &quot;B5/Regularizer/l2_regularizer&quot;\\n  input: &quot;W6/Regularizer/l2_regularizer&quot;\\n  input: &quot;B6/Regularizer/l2_regularizer&quot;\\n  attr {\\n    key: &quot;N&quot;\\n    value {\\n      i: 12\\n    }\\n  }\\n  attr {\\n    key: &quot;T&quot;\\n    value {\\n      type: DT_FLOAT\\n    }\\n  }\\n}\\nnode {\\n  name: &quot;RECREATION_LOSS/add_1&quot;\\n  op: &quot;Add&quot;\\n  input: &quot;RECREATION_LOSS/truediv_1&quot;\\n  input: &quot;RECREATION_LOSS/total_regularization_loss_1&quot;\\n  attr {\\n    key: &quot;T&quot;\\n    value {\\n      type: DT_FLOAT\\n    }\\n  }\\n}\\nnode {\\n  name: &quot;RECREATION_LOSS/SquaredDifference_2&quot;\\n  op: &quot;SquaredDifference&quot;\\n  input: &quot;FULL_FORWARD_PASS/Relu_11&quot;\\n  input: &quot;INPUT_PIPELINE/IteratorGetNext_1:1&quot;\\n  attr {\\n    key: &quot;T&quot;\\n    value {\\n      type: DT_FLOAT\\n    }\\n  }\\n}\\nnode {\\n  name: &quot;RECREATION_LOSS/Mean_4/reduction_indices&quot;\\n  op: &quot;Const&quot;\\n  attr {\\n    key: &quot;dtype&quot;\\n    value {\\n      type: DT_INT32\\n    }\\n  }\\n  attr {\\n    key: &quot;value&quot;\\n    value {\\n      tensor {\\n        dtype: DT_INT32\\n        tensor_shape {\\n        }\\n        int_val: -1\\n      }\\n    }\\n  }\\n}\\nnode {\\n  name: &quot;RECREATION_LOSS/Mean_4&quot;\\n  op: &quot;Mean&quot;\\n  input: &quot;RECREATION_LOSS/SquaredDifference_2&quot;\\n  input: &quot;RECREATION_LOSS/Mean_4/reduction_indices&quot;\\n  attr {\\n    key: &quot;T&quot;\\n    value {\\n      type: DT_FLOAT\\n    }\\n  }\\n  attr {\\n    key: &quot;Tidx&quot;\\n    value {\\n      type: DT_INT32\\n    }\\n  }\\n  attr {\\n    key: &quot;keep_dims&quot;\\n    value {\\n      b: false\\n    }\\n  }\\n}\\nnode {\\n  name: &quot;RECREATION_LOSS/SquaredDifference_3&quot;\\n  op: &quot;SquaredDifference&quot;\\n  input: &quot;FULL_FORWARD_PASS/Relu_17&quot;\\n  input: &quot;INPUT_PIPELINE/IteratorGetNext_2:1&quot;\\n  attr {\\n    key: &quot;T&quot;\\n    value {\\n      type: DT_FLOAT\\n    }\\n  }\\n}\\nnode {\\n  name: &quot;RECREATION_LOSS/Mean_5/reduction_indices&quot;\\n  op: &quot;Const&quot;\\n  attr {\\n    key: &quot;dtype&quot;\\n    value {\\n      type: DT_INT32\\n    }\\n  }\\n  attr {\\n    key: &quot;value&quot;\\n    value {\\n      tensor {\\n        dtype: DT_INT32\\n        tensor_shape {\\n        }\\n        int_val: -1\\n      }\\n    }\\n  }\\n}\\nnode {\\n  name: &quot;RECREATION_LOSS/Mean_5&quot;\\n  op: &quot;Mean&quot;\\n  input: &quot;RECREATION_LOSS/SquaredDifference_3&quot;\\n  input: &quot;RECREATION_LOSS/Mean_5/reduction_indices&quot;\\n  attr {\\n    key: &quot;T&quot;\\n    value {\\n      type: DT_FLOAT\\n    }\\n  }\\n  attr {\\n    key: &quot;Tidx&quot;\\n    value {\\n      type: DT_INT32\\n    }\\n  }\\n  attr {\\n    key: &quot;keep_dims&quot;\\n    value {\\n      b: false\\n    }\\n  }\\n}\\nnode {\\n  name: &quot;RECREATION_LOSS/Const_2&quot;\\n  op: &quot;Const&quot;\\n  attr {\\n    key: &quot;dtype&quot;\\n    value {\\n      type: DT_INT32\\n    }\\n  }\\n  attr {\\n    key: &quot;value&quot;\\n    value {\\n      tensor {\\n        dtype: DT_INT32\\n        tensor_shape {\\n          dim {\\n            size: 1\\n          }\\n        }\\n        int_val: 0\\n      }\\n    }\\n  }\\n}\\nnode {\\n  name: &quot;RECREATION_LOSS/Mean_6&quot;\\n  op: &quot;Mean&quot;\\n  input: &quot;RECREATION_LOSS/Mean_5&quot;\\n  input: &quot;RECREATION_LOSS/Const_2&quot;\\n  attr {\\n    key: &quot;T&quot;\\n    value {\\n      type: DT_FLOAT\\n    }\\n  }\\n  attr {\\n    key: &quot;Tidx&quot;\\n    value {\\n      type: DT_INT32\\n    }\\n  }\\n  attr {\\n    key: &quot;keep_dims&quot;\\n    value {\\n      b: false\\n    }\\n  }\\n}\\nnode {\\n  name: &quot;RECREATION_LOSS/truediv_2/y&quot;\\n  op: &quot;Const&quot;\\n  attr {\\n    key: &quot;dtype&quot;\\n    value {\\n      type: DT_FLOAT\\n    }\\n  }\\n  attr {\\n    key: &quot;value&quot;\\n    value {\\n      tensor {\\n        dtype: DT_FLOAT\\n        tensor_shape {\\n        }\\n        float_val: 22746.0\\n      }\\n    }\\n  }\\n}\\nnode {\\n  name: &quot;RECREATION_LOSS/truediv_2&quot;\\n  op: &quot;RealDiv&quot;\\n  input: &quot;RECREATION_LOSS/Mean_6&quot;\\n  input: &quot;RECREATION_LOSS/truediv_2/y&quot;\\n  attr {\\n    key: &quot;T&quot;\\n    value {\\n      type: DT_FLOAT\\n    }\\n  }\\n}\\nnode {\\n  name: &quot;RECREATION_LOSS/total_regularization_loss_2&quot;\\n  op: &quot;AddN&quot;\\n  input: &quot;W1/Regularizer/l2_regularizer&quot;\\n  input: &quot;B1/Regularizer/l2_regularizer&quot;\\n  input: &quot;W2/Regularizer/l2_regularizer&quot;\\n  input: &quot;B2/Regularizer/l2_regularizer&quot;\\n  input: &quot;W3/Regularizer/l2_regularizer&quot;\\n  input: &quot;B3/Regularizer/l2_regularizer&quot;\\n  input: &quot;W4/Regularizer/l2_regularizer&quot;\\n  input: &quot;B4/Regularizer/l2_regularizer&quot;\\n  input: &quot;W5/Regularizer/l2_regularizer&quot;\\n  input: &quot;B5/Regularizer/l2_regularizer&quot;\\n  input: &quot;W6/Regularizer/l2_regularizer&quot;\\n  input: &quot;B6/Regularizer/l2_regularizer&quot;\\n  attr {\\n    key: &quot;N&quot;\\n    value {\\n      i: 12\\n    }\\n  }\\n  attr {\\n    key: &quot;T&quot;\\n    value {\\n      type: DT_FLOAT\\n    }\\n  }\\n}\\nnode {\\n  name: &quot;RECREATION_LOSS/add_2&quot;\\n  op: &quot;Add&quot;\\n  input: &quot;RECREATION_LOSS/truediv_2&quot;\\n  input: &quot;RECREATION_LOSS/total_regularization_loss_2&quot;\\n  attr {\\n    key: &quot;T&quot;\\n    value {\\n      type: DT_FLOAT\\n    }\\n  }\\n}\\nnode {\\n  name: &quot;RECREATION_LOSS/SquaredDifference_4&quot;\\n  op: &quot;SquaredDifference&quot;\\n  input: &quot;FULL_FORWARD_PASS/Relu_17&quot;\\n  input: &quot;INPUT_PIPELINE/IteratorGetNext_2:1&quot;\\n  attr {\\n    key: &quot;T&quot;\\n    value {\\n      type: DT_FLOAT\\n    }\\n  }\\n}\\nnode {\\n  name: &quot;RECREATION_LOSS/Mean_7/reduction_indices&quot;\\n  op: &quot;Const&quot;\\n  attr {\\n    key: &quot;dtype&quot;\\n    value {\\n      type: DT_INT32\\n    }\\n  }\\n  attr {\\n    key: &quot;value&quot;\\n    value {\\n      tensor {\\n        dtype: DT_INT32\\n        tensor_shape {\\n        }\\n        int_val: -1\\n      }\\n    }\\n  }\\n}\\nnode {\\n  name: &quot;RECREATION_LOSS/Mean_7&quot;\\n  op: &quot;Mean&quot;\\n  input: &quot;RECREATION_LOSS/SquaredDifference_4&quot;\\n  input: &quot;RECREATION_LOSS/Mean_7/reduction_indices&quot;\\n  attr {\\n    key: &quot;T&quot;\\n    value {\\n      type: DT_FLOAT\\n    }\\n  }\\n  attr {\\n    key: &quot;Tidx&quot;\\n    value {\\n      type: DT_INT32\\n    }\\n  }\\n  attr {\\n    key: &quot;keep_dims&quot;\\n    value {\\n      b: false\\n    }\\n  }\\n}\\nnode {\\n  name: &quot;ERROR_SUMMARIES/train_recreation_error/tags&quot;\\n  op: &quot;Const&quot;\\n  attr {\\n    key: &quot;dtype&quot;\\n    value {\\n      type: DT_STRING\\n    }\\n  }\\n  attr {\\n    key: &quot;value&quot;\\n    value {\\n      tensor {\\n        dtype: DT_STRING\\n        tensor_shape {\\n        }\\n        string_val: &quot;ERROR_SUMMARIES/train_recreation_error&quot;\\n      }\\n    }\\n  }\\n}\\nnode {\\n  name: &quot;ERROR_SUMMARIES/train_recreation_error&quot;\\n  op: &quot;ScalarSummary&quot;\\n  input: &quot;ERROR_SUMMARIES/train_recreation_error/tags&quot;\\n  input: &quot;RECREATION_LOSS/add&quot;\\n  attr {\\n    key: &quot;T&quot;\\n    value {\\n      type: DT_FLOAT\\n    }\\n  }\\n}\\nnode {\\n  name: &quot;ERROR_SUMMARIES/val_recreation_error/tags&quot;\\n  op: &quot;Const&quot;\\n  attr {\\n    key: &quot;dtype&quot;\\n    value {\\n      type: DT_STRING\\n    }\\n  }\\n  attr {\\n    key: &quot;value&quot;\\n    value {\\n      tensor {\\n        dtype: DT_STRING\\n        tensor_shape {\\n        }\\n        string_val: &quot;ERROR_SUMMARIES/val_recreation_error&quot;\\n      }\\n    }\\n  }\\n}\\nnode {\\n  name: &quot;ERROR_SUMMARIES/val_recreation_error&quot;\\n  op: &quot;ScalarSummary&quot;\\n  input: &quot;ERROR_SUMMARIES/val_recreation_error/tags&quot;\\n  input: &quot;RECREATION_LOSS/add_1&quot;\\n  attr {\\n    key: &quot;T&quot;\\n    value {\\n      type: DT_FLOAT\\n    }\\n  }\\n}\\nnode {\\n  name: &quot;ERROR_SUMMARIES/val_recreation_error_raw/tag&quot;\\n  op: &quot;Const&quot;\\n  attr {\\n    key: &quot;dtype&quot;\\n    value {\\n      type: DT_STRING\\n    }\\n  }\\n  attr {\\n    key: &quot;value&quot;\\n    value {\\n      tensor {\\n        dtype: DT_STRING\\n        tensor_shape {\\n        }\\n        string_val: &quot;ERROR_SUMMARIES/val_recreation_error_raw&quot;\\n      }\\n    }\\n  }\\n}\\nnode {\\n  name: &quot;ERROR_SUMMARIES/val_recreation_error_raw&quot;\\n  op: &quot;HistogramSummary&quot;\\n  input: &quot;ERROR_SUMMARIES/val_recreation_error_raw/tag&quot;\\n  input: &quot;RECREATION_LOSS/Mean_4&quot;\\n  attr {\\n    key: &quot;T&quot;\\n    value {\\n      type: DT_FLOAT\\n    }\\n  }\\n}\\nnode {\\n  name: &quot;FULL_BACK_PASS/GRADIENTS/Shape&quot;\\n  op: &quot;Const&quot;\\n  attr {\\n    key: &quot;dtype&quot;\\n    value {\\n      type: DT_INT32\\n    }\\n  }\\n  attr {\\n    key: &quot;value&quot;\\n    value {\\n      tensor {\\n        dtype: DT_INT32\\n        tensor_shape {\\n          dim {\\n          }\\n        }\\n      }\\n    }\\n  }\\n}\\nnode {\\n  name: &quot;FULL_BACK_PASS/GRADIENTS/grad_ys_0&quot;\\n  op: &quot;Const&quot;\\n  attr {\\n    key: &quot;dtype&quot;\\n    value {\\n      type: DT_FLOAT\\n    }\\n  }\\n  attr {\\n    key: &quot;value&quot;\\n    value {\\n      tensor {\\n        dtype: DT_FLOAT\\n        tensor_shape {\\n        }\\n        float_val: 1.0\\n      }\\n    }\\n  }\\n}\\nnode {\\n  name: &quot;FULL_BACK_PASS/GRADIENTS/Fill&quot;\\n  op: &quot;Fill&quot;\\n  input: &quot;FULL_BACK_PASS/GRADIENTS/Shape&quot;\\n  input: &quot;FULL_BACK_PASS/GRADIENTS/grad_ys_0&quot;\\n  attr {\\n    key: &quot;T&quot;\\n    value {\\n      type: DT_FLOAT\\n    }\\n  }\\n  attr {\\n    key: &quot;index_type&quot;\\n    value {\\n      type: DT_INT32\\n    }\\n  }\\n}\\nnode {\\n  name: &quot;FULL_BACK_PASS/GRADIENTS/RECREATION_LOSS/truediv_grad/Shape&quot;\\n  op: &quot;Const&quot;\\n  attr {\\n    key: &quot;dtype&quot;\\n    value {\\n      type: DT_INT32\\n    }\\n  }\\n  attr {\\n    key: &quot;value&quot;\\n    value {\\n      tensor {\\n        dtype: DT_INT32\\n        tensor_shape {\\n          dim {\\n          }\\n        }\\n      }\\n    }\\n  }\\n}\\nnode {\\n  name: &quot;FULL_BACK_PASS/GRADIENTS/RECREATION_LOSS/truediv_grad/Shape_1&quot;\\n  op: &quot;Const&quot;\\n  attr {\\n    key: &quot;dtype&quot;\\n    value {\\n      type: DT_INT32\\n    }\\n  }\\n  attr {\\n    key: &quot;value&quot;\\n    value {\\n      tensor {\\n        dtype: DT_INT32\\n        tensor_shape {\\n          dim {\\n          }\\n        }\\n      }\\n    }\\n  }\\n}\\nnode {\\n  name: &quot;FULL_BACK_PASS/GRADIENTS/RECREATION_LOSS/truediv_grad/BroadcastGradientArgs&quot;\\n  op: &quot;BroadcastGradientArgs&quot;\\n  input: &quot;FULL_BACK_PASS/GRADIENTS/RECREATION_LOSS/truediv_grad/Shape&quot;\\n  input: &quot;FULL_BACK_PASS/GRADIENTS/RECREATION_LOSS/truediv_grad/Shape_1&quot;\\n  attr {\\n    key: &quot;T&quot;\\n    value {\\n      type: DT_INT32\\n    }\\n  }\\n}\\nnode {\\n  name: &quot;FULL_BACK_PASS/GRADIENTS/RECREATION_LOSS/truediv_grad/RealDiv&quot;\\n  op: &quot;RealDiv&quot;\\n  input: &quot;FULL_BACK_PASS/GRADIENTS/Fill&quot;\\n  input: &quot;RECREATION_LOSS/truediv/y&quot;\\n  attr {\\n    key: &quot;T&quot;\\n    value {\\n      type: DT_FLOAT\\n    }\\n  }\\n}\\nnode {\\n  name: &quot;FULL_BACK_PASS/GRADIENTS/RECREATION_LOSS/truediv_grad/Sum&quot;\\n  op: &quot;Sum&quot;\\n  input: &quot;FULL_BACK_PASS/GRADIENTS/RECREATION_LOSS/truediv_grad/RealDiv&quot;\\n  input: &quot;FULL_BACK_PASS/GRADIENTS/RECREATION_LOSS/truediv_grad/BroadcastGradientArgs&quot;\\n  attr {\\n    key: &quot;T&quot;\\n    value {\\n      type: DT_FLOAT\\n    }\\n  }\\n  attr {\\n    key: &quot;Tidx&quot;\\n    value {\\n      type: DT_INT32\\n    }\\n  }\\n  attr {\\n    key: &quot;keep_dims&quot;\\n    value {\\n      b: false\\n    }\\n  }\\n}\\nnode {\\n  name: &quot;FULL_BACK_PASS/GRADIENTS/RECREATION_LOSS/truediv_grad/Reshape&quot;\\n  op: &quot;Reshape&quot;\\n  input: &quot;FULL_BACK_PASS/GRADIENTS/RECREATION_LOSS/truediv_grad/Sum&quot;\\n  input: &quot;FULL_BACK_PASS/GRADIENTS/RECREATION_LOSS/truediv_grad/Shape&quot;\\n  attr {\\n    key: &quot;T&quot;\\n    value {\\n      type: DT_FLOAT\\n    }\\n  }\\n  attr {\\n    key: &quot;Tshape&quot;\\n    value {\\n      type: DT_INT32\\n    }\\n  }\\n}\\nnode {\\n  name: &quot;FULL_BACK_PASS/GRADIENTS/RECREATION_LOSS/truediv_grad/Neg&quot;\\n  op: &quot;Neg&quot;\\n  input: &quot;RECREATION_LOSS/Mean_1&quot;\\n  attr {\\n    key: &quot;T&quot;\\n    value {\\n      type: DT_FLOAT\\n    }\\n  }\\n}\\nnode {\\n  name: &quot;FULL_BACK_PASS/GRADIENTS/RECREATION_LOSS/truediv_grad/RealDiv_1&quot;\\n  op: &quot;RealDiv&quot;\\n  input: &quot;FULL_BACK_PASS/GRADIENTS/RECREATION_LOSS/truediv_grad/Neg&quot;\\n  input: &quot;RECREATION_LOSS/truediv/y&quot;\\n  attr {\\n    key: &quot;T&quot;\\n    value {\\n      type: DT_FLOAT\\n    }\\n  }\\n}\\nnode {\\n  name: &quot;FULL_BACK_PASS/GRADIENTS/RECREATION_LOSS/truediv_grad/RealDiv_2&quot;\\n  op: &quot;RealDiv&quot;\\n  input: &quot;FULL_BACK_PASS/GRADIENTS/RECREATION_LOSS/truediv_grad/RealDiv_1&quot;\\n  input: &quot;RECREATION_LOSS/truediv/y&quot;\\n  attr {\\n    key: &quot;T&quot;\\n    value {\\n      type: DT_FLOAT\\n    }\\n  }\\n}\\nnode {\\n  name: &quot;FULL_BACK_PASS/GRADIENTS/RECREATION_LOSS/truediv_grad/mul&quot;\\n  op: &quot;Mul&quot;\\n  input: &quot;FULL_BACK_PASS/GRADIENTS/Fill&quot;\\n  input: &quot;FULL_BACK_PASS/GRADIENTS/RECREATION_LOSS/truediv_grad/RealDiv_2&quot;\\n  attr {\\n    key: &quot;T&quot;\\n    value {\\n      type: DT_FLOAT\\n    }\\n  }\\n}\\nnode {\\n  name: &quot;FULL_BACK_PASS/GRADIENTS/RECREATION_LOSS/truediv_grad/Sum_1&quot;\\n  op: &quot;Sum&quot;\\n  input: &quot;FULL_BACK_PASS/GRADIENTS/RECREATION_LOSS/truediv_grad/mul&quot;\\n  input: &quot;FULL_BACK_PASS/GRADIENTS/RECREATION_LOSS/truediv_grad/BroadcastGradientArgs:1&quot;\\n  attr {\\n    key: &quot;T&quot;\\n    value {\\n      type: DT_FLOAT\\n    }\\n  }\\n  attr {\\n    key: &quot;Tidx&quot;\\n    value {\\n      type: DT_INT32\\n    }\\n  }\\n  attr {\\n    key: &quot;keep_dims&quot;\\n    value {\\n      b: false\\n    }\\n  }\\n}\\nnode {\\n  name: &quot;FULL_BACK_PASS/GRADIENTS/RECREATION_LOSS/truediv_grad/Reshape_1&quot;\\n  op: &quot;Reshape&quot;\\n  input: &quot;FULL_BACK_PASS/GRADIENTS/RECREATION_LOSS/truediv_grad/Sum_1&quot;\\n  input: &quot;FULL_BACK_PASS/GRADIENTS/RECREATION_LOSS/truediv_grad/Shape_1&quot;\\n  attr {\\n    key: &quot;T&quot;\\n    value {\\n      type: DT_FLOAT\\n    }\\n  }\\n  attr {\\n    key: &quot;Tshape&quot;\\n    value {\\n      type: DT_INT32\\n    }\\n  }\\n}\\nnode {\\n  name: &quot;FULL_BACK_PASS/GRADIENTS/RECREATION_LOSS/Mean_1_grad/Reshape/shape&quot;\\n  op: &quot;Const&quot;\\n  attr {\\n    key: &quot;dtype&quot;\\n    value {\\n      type: DT_INT32\\n    }\\n  }\\n  attr {\\n    key: &quot;value&quot;\\n    value {\\n      tensor {\\n        dtype: DT_INT32\\n        tensor_shape {\\n          dim {\\n            size: 1\\n          }\\n        }\\n        int_val: 1\\n      }\\n    }\\n  }\\n}\\nnode {\\n  name: &quot;FULL_BACK_PASS/GRADIENTS/RECREATION_LOSS/Mean_1_grad/Reshape&quot;\\n  op: &quot;Reshape&quot;\\n  input: &quot;FULL_BACK_PASS/GRADIENTS/RECREATION_LOSS/truediv_grad/Reshape&quot;\\n  input: &quot;FULL_BACK_PASS/GRADIENTS/RECREATION_LOSS/Mean_1_grad/Reshape/shape&quot;\\n  attr {\\n    key: &quot;T&quot;\\n    value {\\n      type: DT_FLOAT\\n    }\\n  }\\n  attr {\\n    key: &quot;Tshape&quot;\\n    value {\\n      type: DT_INT32\\n    }\\n  }\\n}\\nnode {\\n  name: &quot;FULL_BACK_PASS/GRADIENTS/RECREATION_LOSS/Mean_1_grad/Shape&quot;\\n  op: &quot;Shape&quot;\\n  input: &quot;RECREATION_LOSS/Mean&quot;\\n  attr {\\n    key: &quot;T&quot;\\n    value {\\n      type: DT_FLOAT\\n    }\\n  }\\n  attr {\\n    key: &quot;out_type&quot;\\n    value {\\n      type: DT_INT32\\n    }\\n  }\\n}\\nnode {\\n  name: &quot;FULL_BACK_PASS/GRADIENTS/RECREATION_LOSS/Mean_1_grad/Tile&quot;\\n  op: &quot;Tile&quot;\\n  input: &quot;FULL_BACK_PASS/GRADIENTS/RECREATION_LOSS/Mean_1_grad/Reshape&quot;\\n  input: &quot;FULL_BACK_PASS/GRADIENTS/RECREATION_LOSS/Mean_1_grad/Shape&quot;\\n  attr {\\n    key: &quot;T&quot;\\n    value {\\n      type: DT_FLOAT\\n    }\\n  }\\n  attr {\\n    key: &quot;Tmultiples&quot;\\n    value {\\n      type: DT_INT32\\n    }\\n  }\\n}\\nnode {\\n  name: &quot;FULL_BACK_PASS/GRADIENTS/RECREATION_LOSS/Mean_1_grad/Shape_1&quot;\\n  op: &quot;Shape&quot;\\n  input: &quot;RECREATION_LOSS/Mean&quot;\\n  attr {\\n    key: &quot;T&quot;\\n    value {\\n      type: DT_FLOAT\\n    }\\n  }\\n  attr {\\n    key: &quot;out_type&quot;\\n    value {\\n      type: DT_INT32\\n    }\\n  }\\n}\\nnode {\\n  name: &quot;FULL_BACK_PASS/GRADIENTS/RECREATION_LOSS/Mean_1_grad/Shape_2&quot;\\n  op: &quot;Const&quot;\\n  attr {\\n    key: &quot;dtype&quot;\\n    value {\\n      type: DT_INT32\\n    }\\n  }\\n  attr {\\n    key: &quot;value&quot;\\n    value {\\n      tensor {\\n        dtype: DT_INT32\\n        tensor_shape {\\n          dim {\\n          }\\n        }\\n      }\\n    }\\n  }\\n}\\nnode {\\n  name: &quot;FULL_BACK_PASS/GRADIENTS/RECREATION_LOSS/Mean_1_grad/Const&quot;\\n  op: &quot;Const&quot;\\n  attr {\\n    key: &quot;dtype&quot;\\n    value {\\n      type: DT_INT32\\n    }\\n  }\\n  attr {\\n    key: &quot;value&quot;\\n    value {\\n      tensor {\\n        dtype: DT_INT32\\n        tensor_shape {\\n          dim {\\n            size: 1\\n          }\\n        }\\n        int_val: 0\\n      }\\n    }\\n  }\\n}\\nnode {\\n  name: &quot;FULL_BACK_PASS/GRADIENTS/RECREATION_LOSS/Mean_1_grad/Prod&quot;\\n  op: &quot;Prod&quot;\\n  input: &quot;FULL_BACK_PASS/GRADIENTS/RECREATION_LOSS/Mean_1_grad/Shape_1&quot;\\n  input: &quot;FULL_BACK_PASS/GRADIENTS/RECREATION_LOSS/Mean_1_grad/Const&quot;\\n  attr {\\n    key: &quot;T&quot;\\n    value {\\n      type: DT_INT32\\n    }\\n  }\\n  attr {\\n    key: &quot;Tidx&quot;\\n    value {\\n      type: DT_INT32\\n    }\\n  }\\n  attr {\\n    key: &quot;keep_dims&quot;\\n    value {\\n      b: false\\n    }\\n  }\\n}\\nnode {\\n  name: &quot;FULL_BACK_PASS/GRADIENTS/RECREATION_LOSS/Mean_1_grad/Const_1&quot;\\n  op: &quot;Const&quot;\\n  attr {\\n    key: &quot;dtype&quot;\\n    value {\\n      type: DT_INT32\\n    }\\n  }\\n  attr {\\n    key: &quot;value&quot;\\n    value {\\n      tensor {\\n        dtype: DT_INT32\\n        tensor_shape {\\n          dim {\\n            size: 1\\n          }\\n        }\\n        int_val: 0\\n      }\\n    }\\n  }\\n}\\nnode {\\n  name: &quot;FULL_BACK_PASS/GRADIENTS/RECREATION_LOSS/Mean_1_grad/Prod_1&quot;\\n  op: &quot;Prod&quot;\\n  input: &quot;FULL_BACK_PASS/GRADIENTS/RECREATION_LOSS/Mean_1_grad/Shape_2&quot;\\n  input: &quot;FULL_BACK_PASS/GRADIENTS/RECREATION_LOSS/Mean_1_grad/Const_1&quot;\\n  attr {\\n    key: &quot;T&quot;\\n    value {\\n      type: DT_INT32\\n    }\\n  }\\n  attr {\\n    key: &quot;Tidx&quot;\\n    value {\\n      type: DT_INT32\\n    }\\n  }\\n  attr {\\n    key: &quot;keep_dims&quot;\\n    value {\\n      b: false\\n    }\\n  }\\n}\\nnode {\\n  name: &quot;FULL_BACK_PASS/GRADIENTS/RECREATION_LOSS/Mean_1_grad/Maximum/y&quot;\\n  op: &quot;Const&quot;\\n  attr {\\n    key: &quot;dtype&quot;\\n    value {\\n      type: DT_INT32\\n    }\\n  }\\n  attr {\\n    key: &quot;value&quot;\\n    value {\\n      tensor {\\n        dtype: DT_INT32\\n        tensor_shape {\\n        }\\n        int_val: 1\\n      }\\n    }\\n  }\\n}\\nnode {\\n  name: &quot;FULL_BACK_PASS/GRADIENTS/RECREATION_LOSS/Mean_1_grad/Maximum&quot;\\n  op: &quot;Maximum&quot;\\n  input: &quot;FULL_BACK_PASS/GRADIENTS/RECREATION_LOSS/Mean_1_grad/Prod_1&quot;\\n  input: &quot;FULL_BACK_PASS/GRADIENTS/RECREATION_LOSS/Mean_1_grad/Maximum/y&quot;\\n  attr {\\n    key: &quot;T&quot;\\n    value {\\n      type: DT_INT32\\n    }\\n  }\\n}\\nnode {\\n  name: &quot;FULL_BACK_PASS/GRADIENTS/RECREATION_LOSS/Mean_1_grad/floordiv&quot;\\n  op: &quot;FloorDiv&quot;\\n  input: &quot;FULL_BACK_PASS/GRADIENTS/RECREATION_LOSS/Mean_1_grad/Prod&quot;\\n  input: &quot;FULL_BACK_PASS/GRADIENTS/RECREATION_LOSS/Mean_1_grad/Maximum&quot;\\n  attr {\\n    key: &quot;T&quot;\\n    value {\\n      type: DT_INT32\\n    }\\n  }\\n}\\nnode {\\n  name: &quot;FULL_BACK_PASS/GRADIENTS/RECREATION_LOSS/Mean_1_grad/Cast&quot;\\n  op: &quot;Cast&quot;\\n  input: &quot;FULL_BACK_PASS/GRADIENTS/RECREATION_LOSS/Mean_1_grad/floordiv&quot;\\n  attr {\\n    key: &quot;DstT&quot;\\n    value {\\n      type: DT_FLOAT\\n    }\\n  }\\n  attr {\\n    key: &quot;SrcT&quot;\\n    value {\\n      type: DT_INT32\\n    }\\n  }\\n  attr {\\n    key: &quot;Truncate&quot;\\n    value {\\n      b: false\\n    }\\n  }\\n}\\nnode {\\n  name: &quot;FULL_BACK_PASS/GRADIENTS/RECREATION_LOSS/Mean_1_grad/truediv&quot;\\n  op: &quot;RealDiv&quot;\\n  input: &quot;FULL_BACK_PASS/GRADIENTS/RECREATION_LOSS/Mean_1_grad/Tile&quot;\\n  input: &quot;FULL_BACK_PASS/GRADIENTS/RECREATION_LOSS/Mean_1_grad/Cast&quot;\\n  attr {\\n    key: &quot;T&quot;\\n    value {\\n      type: DT_FLOAT\\n    }\\n  }\\n}\\nnode {\\n  name: &quot;FULL_BACK_PASS/GRADIENTS/W1/Regularizer/l2_regularizer_grad/Mul&quot;\\n  op: &quot;Mul&quot;\\n  input: &quot;FULL_BACK_PASS/GRADIENTS/Fill&quot;\\n  input: &quot;W1/Regularizer/l2_regularizer/L2Loss&quot;\\n  attr {\\n    key: &quot;T&quot;\\n    value {\\n      type: DT_FLOAT\\n    }\\n  }\\n}\\nnode {\\n  name: &quot;FULL_BACK_PASS/GRADIENTS/W1/Regularizer/l2_regularizer_grad/Mul_1&quot;\\n  op: &quot;Mul&quot;\\n  input: &quot;FULL_BACK_PASS/GRADIENTS/Fill&quot;\\n  input: &quot;W1/Regularizer/l2_regularizer/scale&quot;\\n  attr {\\n    key: &quot;T&quot;\\n    value {\\n      type: DT_FLOAT\\n    }\\n  }\\n}\\nnode {\\n  name: &quot;FULL_BACK_PASS/GRADIENTS/B1/Regularizer/l2_regularizer_grad/Mul&quot;\\n  op: &quot;Mul&quot;\\n  input: &quot;FULL_BACK_PASS/GRADIENTS/Fill&quot;\\n  input: &quot;B1/Regularizer/l2_regularizer/L2Loss&quot;\\n  attr {\\n    key: &quot;T&quot;\\n    value {\\n      type: DT_FLOAT\\n    }\\n  }\\n}\\nnode {\\n  name: &quot;FULL_BACK_PASS/GRADIENTS/B1/Regularizer/l2_regularizer_grad/Mul_1&quot;\\n  op: &quot;Mul&quot;\\n  input: &quot;FULL_BACK_PASS/GRADIENTS/Fill&quot;\\n  input: &quot;B1/Regularizer/l2_regularizer/scale&quot;\\n  attr {\\n    key: &quot;T&quot;\\n    value {\\n      type: DT_FLOAT\\n    }\\n  }\\n}\\nnode {\\n  name: &quot;FULL_BACK_PASS/GRADIENTS/W2/Regularizer/l2_regularizer_grad/Mul&quot;\\n  op: &quot;Mul&quot;\\n  input: &quot;FULL_BACK_PASS/GRADIENTS/Fill&quot;\\n  input: &quot;W2/Regularizer/l2_regularizer/L2Loss&quot;\\n  attr {\\n    key: &quot;T&quot;\\n    value {\\n      type: DT_FLOAT\\n    }\\n  }\\n}\\nnode {\\n  name: &quot;FULL_BACK_PASS/GRADIENTS/W2/Regularizer/l2_regularizer_grad/Mul_1&quot;\\n  op: &quot;Mul&quot;\\n  input: &quot;FULL_BACK_PASS/GRADIENTS/Fill&quot;\\n  input: &quot;W2/Regularizer/l2_regularizer/scale&quot;\\n  attr {\\n    key: &quot;T&quot;\\n    value {\\n      type: DT_FLOAT\\n    }\\n  }\\n}\\nnode {\\n  name: &quot;FULL_BACK_PASS/GRADIENTS/B2/Regularizer/l2_regularizer_grad/Mul&quot;\\n  op: &quot;Mul&quot;\\n  input: &quot;FULL_BACK_PASS/GRADIENTS/Fill&quot;\\n  input: &quot;B2/Regularizer/l2_regularizer/L2Loss&quot;\\n  attr {\\n    key: &quot;T&quot;\\n    value {\\n      type: DT_FLOAT\\n    }\\n  }\\n}\\nnode {\\n  name: &quot;FULL_BACK_PASS/GRADIENTS/B2/Regularizer/l2_regularizer_grad/Mul_1&quot;\\n  op: &quot;Mul&quot;\\n  input: &quot;FULL_BACK_PASS/GRADIENTS/Fill&quot;\\n  input: &quot;B2/Regularizer/l2_regularizer/scale&quot;\\n  attr {\\n    key: &quot;T&quot;\\n    value {\\n      type: DT_FLOAT\\n    }\\n  }\\n}\\nnode {\\n  name: &quot;FULL_BACK_PASS/GRADIENTS/W3/Regularizer/l2_regularizer_grad/Mul&quot;\\n  op: &quot;Mul&quot;\\n  input: &quot;FULL_BACK_PASS/GRADIENTS/Fill&quot;\\n  input: &quot;W3/Regularizer/l2_regularizer/L2Loss&quot;\\n  attr {\\n    key: &quot;T&quot;\\n    value {\\n      type: DT_FLOAT\\n    }\\n  }\\n}\\nnode {\\n  name: &quot;FULL_BACK_PASS/GRADIENTS/W3/Regularizer/l2_regularizer_grad/Mul_1&quot;\\n  op: &quot;Mul&quot;\\n  input: &quot;FULL_BACK_PASS/GRADIENTS/Fill&quot;\\n  input: &quot;W3/Regularizer/l2_regularizer/scale&quot;\\n  attr {\\n    key: &quot;T&quot;\\n    value {\\n      type: DT_FLOAT\\n    }\\n  }\\n}\\nnode {\\n  name: &quot;FULL_BACK_PASS/GRADIENTS/B3/Regularizer/l2_regularizer_grad/Mul&quot;\\n  op: &quot;Mul&quot;\\n  input: &quot;FULL_BACK_PASS/GRADIENTS/Fill&quot;\\n  input: &quot;B3/Regularizer/l2_regularizer/L2Loss&quot;\\n  attr {\\n    key: &quot;T&quot;\\n    value {\\n      type: DT_FLOAT\\n    }\\n  }\\n}\\nnode {\\n  name: &quot;FULL_BACK_PASS/GRADIENTS/B3/Regularizer/l2_regularizer_grad/Mul_1&quot;\\n  op: &quot;Mul&quot;\\n  input: &quot;FULL_BACK_PASS/GRADIENTS/Fill&quot;\\n  input: &quot;B3/Regularizer/l2_regularizer/scale&quot;\\n  attr {\\n    key: &quot;T&quot;\\n    value {\\n      type: DT_FLOAT\\n    }\\n  }\\n}\\nnode {\\n  name: &quot;FULL_BACK_PASS/GRADIENTS/W4/Regularizer/l2_regularizer_grad/Mul&quot;\\n  op: &quot;Mul&quot;\\n  input: &quot;FULL_BACK_PASS/GRADIENTS/Fill&quot;\\n  input: &quot;W4/Regularizer/l2_regularizer/L2Loss&quot;\\n  attr {\\n    key: &quot;T&quot;\\n    value {\\n      type: DT_FLOAT\\n    }\\n  }\\n}\\nnode {\\n  name: &quot;FULL_BACK_PASS/GRADIENTS/W4/Regularizer/l2_regularizer_grad/Mul_1&quot;\\n  op: &quot;Mul&quot;\\n  input: &quot;FULL_BACK_PASS/GRADIENTS/Fill&quot;\\n  input: &quot;W4/Regularizer/l2_regularizer/scale&quot;\\n  attr {\\n    key: &quot;T&quot;\\n    value {\\n      type: DT_FLOAT\\n    }\\n  }\\n}\\nnode {\\n  name: &quot;FULL_BACK_PASS/GRADIENTS/B4/Regularizer/l2_regularizer_grad/Mul&quot;\\n  op: &quot;Mul&quot;\\n  input: &quot;FULL_BACK_PASS/GRADIENTS/Fill&quot;\\n  input: &quot;B4/Regularizer/l2_regularizer/L2Loss&quot;\\n  attr {\\n    key: &quot;T&quot;\\n    value {\\n      type: DT_FLOAT\\n    }\\n  }\\n}\\nnode {\\n  name: &quot;FULL_BACK_PASS/GRADIENTS/B4/Regularizer/l2_regularizer_grad/Mul_1&quot;\\n  op: &quot;Mul&quot;\\n  input: &quot;FULL_BACK_PASS/GRADIENTS/Fill&quot;\\n  input: &quot;B4/Regularizer/l2_regularizer/scale&quot;\\n  attr {\\n    key: &quot;T&quot;\\n    value {\\n      type: DT_FLOAT\\n    }\\n  }\\n}\\nnode {\\n  name: &quot;FULL_BACK_PASS/GRADIENTS/W5/Regularizer/l2_regularizer_grad/Mul&quot;\\n  op: &quot;Mul&quot;\\n  input: &quot;FULL_BACK_PASS/GRADIENTS/Fill&quot;\\n  input: &quot;W5/Regularizer/l2_regularizer/L2Loss&quot;\\n  attr {\\n    key: &quot;T&quot;\\n    value {\\n      type: DT_FLOAT\\n    }\\n  }\\n}\\nnode {\\n  name: &quot;FULL_BACK_PASS/GRADIENTS/W5/Regularizer/l2_regularizer_grad/Mul_1&quot;\\n  op: &quot;Mul&quot;\\n  input: &quot;FULL_BACK_PASS/GRADIENTS/Fill&quot;\\n  input: &quot;W5/Regularizer/l2_regularizer/scale&quot;\\n  attr {\\n    key: &quot;T&quot;\\n    value {\\n      type: DT_FLOAT\\n    }\\n  }\\n}\\nnode {\\n  name: &quot;FULL_BACK_PASS/GRADIENTS/B5/Regularizer/l2_regularizer_grad/Mul&quot;\\n  op: &quot;Mul&quot;\\n  input: &quot;FULL_BACK_PASS/GRADIENTS/Fill&quot;\\n  input: &quot;B5/Regularizer/l2_regularizer/L2Loss&quot;\\n  attr {\\n    key: &quot;T&quot;\\n    value {\\n      type: DT_FLOAT\\n    }\\n  }\\n}\\nnode {\\n  name: &quot;FULL_BACK_PASS/GRADIENTS/B5/Regularizer/l2_regularizer_grad/Mul_1&quot;\\n  op: &quot;Mul&quot;\\n  input: &quot;FULL_BACK_PASS/GRADIENTS/Fill&quot;\\n  input: &quot;B5/Regularizer/l2_regularizer/scale&quot;\\n  attr {\\n    key: &quot;T&quot;\\n    value {\\n      type: DT_FLOAT\\n    }\\n  }\\n}\\nnode {\\n  name: &quot;FULL_BACK_PASS/GRADIENTS/W6/Regularizer/l2_regularizer_grad/Mul&quot;\\n  op: &quot;Mul&quot;\\n  input: &quot;FULL_BACK_PASS/GRADIENTS/Fill&quot;\\n  input: &quot;W6/Regularizer/l2_regularizer/L2Loss&quot;\\n  attr {\\n    key: &quot;T&quot;\\n    value {\\n      type: DT_FLOAT\\n    }\\n  }\\n}\\nnode {\\n  name: &quot;FULL_BACK_PASS/GRADIENTS/W6/Regularizer/l2_regularizer_grad/Mul_1&quot;\\n  op: &quot;Mul&quot;\\n  input: &quot;FULL_BACK_PASS/GRADIENTS/Fill&quot;\\n  input: &quot;W6/Regularizer/l2_regularizer/scale&quot;\\n  attr {\\n    key: &quot;T&quot;\\n    value {\\n      type: DT_FLOAT\\n    }\\n  }\\n}\\nnode {\\n  name: &quot;FULL_BACK_PASS/GRADIENTS/B6/Regularizer/l2_regularizer_grad/Mul&quot;\\n  op: &quot;Mul&quot;\\n  input: &quot;FULL_BACK_PASS/GRADIENTS/Fill&quot;\\n  input: &quot;B6/Regularizer/l2_regularizer/L2Loss&quot;\\n  attr {\\n    key: &quot;T&quot;\\n    value {\\n      type: DT_FLOAT\\n    }\\n  }\\n}\\nnode {\\n  name: &quot;FULL_BACK_PASS/GRADIENTS/B6/Regularizer/l2_regularizer_grad/Mul_1&quot;\\n  op: &quot;Mul&quot;\\n  input: &quot;FULL_BACK_PASS/GRADIENTS/Fill&quot;\\n  input: &quot;B6/Regularizer/l2_regularizer/scale&quot;\\n  attr {\\n    key: &quot;T&quot;\\n    value {\\n      type: DT_FLOAT\\n    }\\n  }\\n}\\nnode {\\n  name: &quot;FULL_BACK_PASS/GRADIENTS/RECREATION_LOSS/Mean_grad/Shape&quot;\\n  op: &quot;Shape&quot;\\n  input: &quot;RECREATION_LOSS/SquaredDifference&quot;\\n  attr {\\n    key: &quot;T&quot;\\n    value {\\n      type: DT_FLOAT\\n    }\\n  }\\n  attr {\\n    key: &quot;out_type&quot;\\n    value {\\n      type: DT_INT32\\n    }\\n  }\\n}\\nnode {\\n  name: &quot;FULL_BACK_PASS/GRADIENTS/RECREATION_LOSS/Mean_grad/Size&quot;\\n  op: &quot;Const&quot;\\n  attr {\\n    key: &quot;_class&quot;\\n    value {\\n      list {\\n        s: &quot;loc:@FULL_BACK_PASS/GRADIENTS/RECREATION_LOSS/Mean_grad/Shape&quot;\\n      }\\n    }\\n  }\\n  attr {\\n    key: &quot;dtype&quot;\\n    value {\\n      type: DT_INT32\\n    }\\n  }\\n  attr {\\n    key: &quot;value&quot;\\n    value {\\n      tensor {\\n        dtype: DT_INT32\\n        tensor_shape {\\n        }\\n        int_val: 2\\n      }\\n    }\\n  }\\n}\\nnode {\\n  name: &quot;FULL_BACK_PASS/GRADIENTS/RECREATION_LOSS/Mean_grad/add&quot;\\n  op: &quot;Add&quot;\\n  input: &quot;RECREATION_LOSS/Mean/reduction_indices&quot;\\n  input: &quot;FULL_BACK_PASS/GRADIENTS/RECREATION_LOSS/Mean_grad/Size&quot;\\n  attr {\\n    key: &quot;T&quot;\\n    value {\\n      type: DT_INT32\\n    }\\n  }\\n  attr {\\n    key: &quot;_class&quot;\\n    value {\\n      list {\\n        s: &quot;loc:@FULL_BACK_PASS/GRADIENTS/RECREATION_LOSS/Mean_grad/Shape&quot;\\n      }\\n    }\\n  }\\n}\\nnode {\\n  name: &quot;FULL_BACK_PASS/GRADIENTS/RECREATION_LOSS/Mean_grad/mod&quot;\\n  op: &quot;FloorMod&quot;\\n  input: &quot;FULL_BACK_PASS/GRADIENTS/RECREATION_LOSS/Mean_grad/add&quot;\\n  input: &quot;FULL_BACK_PASS/GRADIENTS/RECREATION_LOSS/Mean_grad/Size&quot;\\n  attr {\\n    key: &quot;T&quot;\\n    value {\\n      type: DT_INT32\\n    }\\n  }\\n  attr {\\n    key: &quot;_class&quot;\\n    value {\\n      list {\\n        s: &quot;loc:@FULL_BACK_PASS/GRADIENTS/RECREATION_LOSS/Mean_grad/Shape&quot;\\n      }\\n    }\\n  }\\n}\\nnode {\\n  name: &quot;FULL_BACK_PASS/GRADIENTS/RECREATION_LOSS/Mean_grad/Shape_1&quot;\\n  op: &quot;Const&quot;\\n  attr {\\n    key: &quot;_class&quot;\\n    value {\\n      list {\\n        s: &quot;loc:@FULL_BACK_PASS/GRADIENTS/RECREATION_LOSS/Mean_grad/Shape&quot;\\n      }\\n    }\\n  }\\n  attr {\\n    key: &quot;dtype&quot;\\n    value {\\n      type: DT_INT32\\n    }\\n  }\\n  attr {\\n    key: &quot;value&quot;\\n    value {\\n      tensor {\\n        dtype: DT_INT32\\n        tensor_shape {\\n          dim {\\n          }\\n        }\\n      }\\n    }\\n  }\\n}\\nnode {\\n  name: &quot;FULL_BACK_PASS/GRADIENTS/RECREATION_LOSS/Mean_grad/range/start&quot;\\n  op: &quot;Const&quot;\\n  attr {\\n    key: &quot;_class&quot;\\n    value {\\n      list {\\n        s: &quot;loc:@FULL_BACK_PASS/GRADIENTS/RECREATION_LOSS/Mean_grad/Shape&quot;\\n      }\\n    }\\n  }\\n  attr {\\n    key: &quot;dtype&quot;\\n    value {\\n      type: DT_INT32\\n    }\\n  }\\n  attr {\\n    key: &quot;value&quot;\\n    value {\\n      tensor {\\n        dtype: DT_INT32\\n        tensor_shape {\\n        }\\n        int_val: 0\\n      }\\n    }\\n  }\\n}\\nnode {\\n  name: &quot;FULL_BACK_PASS/GRADIENTS/RECREATION_LOSS/Mean_grad/range/delta&quot;\\n  op: &quot;Const&quot;\\n  attr {\\n    key: &quot;_class&quot;\\n    value {\\n      list {\\n        s: &quot;loc:@FULL_BACK_PASS/GRADIENTS/RECREATION_LOSS/Mean_grad/Shape&quot;\\n      }\\n    }\\n  }\\n  attr {\\n    key: &quot;dtype&quot;\\n    value {\\n      type: DT_INT32\\n    }\\n  }\\n  attr {\\n    key: &quot;value&quot;\\n    value {\\n      tensor {\\n        dtype: DT_INT32\\n        tensor_shape {\\n        }\\n        int_val: 1\\n      }\\n    }\\n  }\\n}\\nnode {\\n  name: &quot;FULL_BACK_PASS/GRADIENTS/RECREATION_LOSS/Mean_grad/range&quot;\\n  op: &quot;Range&quot;\\n  input: &quot;FULL_BACK_PASS/GRADIENTS/RECREATION_LOSS/Mean_grad/range/start&quot;\\n  input: &quot;FULL_BACK_PASS/GRADIENTS/RECREATION_LOSS/Mean_grad/Size&quot;\\n  input: &quot;FULL_BACK_PASS/GRADIENTS/RECREATION_LOSS/Mean_grad/range/delta&quot;\\n  attr {\\n    key: &quot;Tidx&quot;\\n    value {\\n      type: DT_INT32\\n    }\\n  }\\n  attr {\\n    key: &quot;_class&quot;\\n    value {\\n      list {\\n        s: &quot;loc:@FULL_BACK_PASS/GRADIENTS/RECREATION_LOSS/Mean_grad/Shape&quot;\\n      }\\n    }\\n  }\\n}\\nnode {\\n  name: &quot;FULL_BACK_PASS/GRADIENTS/RECREATION_LOSS/Mean_grad/Fill/value&quot;\\n  op: &quot;Const&quot;\\n  attr {\\n    key: &quot;_class&quot;\\n    value {\\n      list {\\n        s: &quot;loc:@FULL_BACK_PASS/GRADIENTS/RECREATION_LOSS/Mean_grad/Shape&quot;\\n      }\\n    }\\n  }\\n  attr {\\n    key: &quot;dtype&quot;\\n    value {\\n      type: DT_INT32\\n    }\\n  }\\n  attr {\\n    key: &quot;value&quot;\\n    value {\\n      tensor {\\n        dtype: DT_INT32\\n        tensor_shape {\\n        }\\n        int_val: 1\\n      }\\n    }\\n  }\\n}\\nnode {\\n  name: &quot;FULL_BACK_PASS/GRADIENTS/RECREATION_LOSS/Mean_grad/Fill&quot;\\n  op: &quot;Fill&quot;\\n  input: &quot;FULL_BACK_PASS/GRADIENTS/RECREATION_LOSS/Mean_grad/Shape_1&quot;\\n  input: &quot;FULL_BACK_PASS/GRADIENTS/RECREATION_LOSS/Mean_grad/Fill/value&quot;\\n  attr {\\n    key: &quot;T&quot;\\n    value {\\n      type: DT_INT32\\n    }\\n  }\\n  attr {\\n    key: &quot;_class&quot;\\n    value {\\n      list {\\n        s: &quot;loc:@FULL_BACK_PASS/GRADIENTS/RECREATION_LOSS/Mean_grad/Shape&quot;\\n      }\\n    }\\n  }\\n  attr {\\n    key: &quot;index_type&quot;\\n    value {\\n      type: DT_INT32\\n    }\\n  }\\n}\\nnode {\\n  name: &quot;FULL_BACK_PASS/GRADIENTS/RECREATION_LOSS/Mean_grad/DynamicStitch&quot;\\n  op: &quot;DynamicStitch&quot;\\n  input: &quot;FULL_BACK_PASS/GRADIENTS/RECREATION_LOSS/Mean_grad/range&quot;\\n  input: &quot;FULL_BACK_PASS/GRADIENTS/RECREATION_LOSS/Mean_grad/mod&quot;\\n  input: &quot;FULL_BACK_PASS/GRADIENTS/RECREATION_LOSS/Mean_grad/Shape&quot;\\n  input: &quot;FULL_BACK_PASS/GRADIENTS/RECREATION_LOSS/Mean_grad/Fill&quot;\\n  attr {\\n    key: &quot;N&quot;\\n    value {\\n      i: 2\\n    }\\n  }\\n  attr {\\n    key: &quot;T&quot;\\n    value {\\n      type: DT_INT32\\n    }\\n  }\\n  attr {\\n    key: &quot;_class&quot;\\n    value {\\n      list {\\n        s: &quot;loc:@FULL_BACK_PASS/GRADIENTS/RECREATION_LOSS/Mean_grad/Shape&quot;\\n      }\\n    }\\n  }\\n}\\nnode {\\n  name: &quot;FULL_BACK_PASS/GRADIENTS/RECREATION_LOSS/Mean_grad/Maximum/y&quot;\\n  op: &quot;Const&quot;\\n  attr {\\n    key: &quot;_class&quot;\\n    value {\\n      list {\\n        s: &quot;loc:@FULL_BACK_PASS/GRADIENTS/RECREATION_LOSS/Mean_grad/Shape&quot;\\n      }\\n    }\\n  }\\n  attr {\\n    key: &quot;dtype&quot;\\n    value {\\n      type: DT_INT32\\n    }\\n  }\\n  attr {\\n    key: &quot;value&quot;\\n    value {\\n      tensor {\\n        dtype: DT_INT32\\n        tensor_shape {\\n        }\\n        int_val: 1\\n      }\\n    }\\n  }\\n}\\nnode {\\n  name: &quot;FULL_BACK_PASS/GRADIENTS/RECREATION_LOSS/Mean_grad/Maximum&quot;\\n  op: &quot;Maximum&quot;\\n  input: &quot;FULL_BACK_PASS/GRADIENTS/RECREATION_LOSS/Mean_grad/DynamicStitch&quot;\\n  input: &quot;FULL_BACK_PASS/GRADIENTS/RECREATION_LOSS/Mean_grad/Maximum/y&quot;\\n  attr {\\n    key: &quot;T&quot;\\n    value {\\n      type: DT_INT32\\n    }\\n  }\\n  attr {\\n    key: &quot;_class&quot;\\n    value {\\n      list {\\n        s: &quot;loc:@FULL_BACK_PASS/GRADIENTS/RECREATION_LOSS/Mean_grad/Shape&quot;\\n      }\\n    }\\n  }\\n}\\nnode {\\n  name: &quot;FULL_BACK_PASS/GRADIENTS/RECREATION_LOSS/Mean_grad/floordiv&quot;\\n  op: &quot;FloorDiv&quot;\\n  input: &quot;FULL_BACK_PASS/GRADIENTS/RECREATION_LOSS/Mean_grad/Shape&quot;\\n  input: &quot;FULL_BACK_PASS/GRADIENTS/RECREATION_LOSS/Mean_grad/Maximum&quot;\\n  attr {\\n    key: &quot;T&quot;\\n    value {\\n      type: DT_INT32\\n    }\\n  }\\n  attr {\\n    key: &quot;_class&quot;\\n    value {\\n      list {\\n        s: &quot;loc:@FULL_BACK_PASS/GRADIENTS/RECREATION_LOSS/Mean_grad/Shape&quot;\\n      }\\n    }\\n  }\\n}\\nnode {\\n  name: &quot;FULL_BACK_PASS/GRADIENTS/RECREATION_LOSS/Mean_grad/Reshape&quot;\\n  op: &quot;Reshape&quot;\\n  input: &quot;FULL_BACK_PASS/GRADIENTS/RECREATION_LOSS/Mean_1_grad/truediv&quot;\\n  input: &quot;FULL_BACK_PASS/GRADIENTS/RECREATION_LOSS/Mean_grad/DynamicStitch&quot;\\n  attr {\\n    key: &quot;T&quot;\\n    value {\\n      type: DT_FLOAT\\n    }\\n  }\\n  attr {\\n    key: &quot;Tshape&quot;\\n    value {\\n      type: DT_INT32\\n    }\\n  }\\n}\\nnode {\\n  name: &quot;FULL_BACK_PASS/GRADIENTS/RECREATION_LOSS/Mean_grad/Tile&quot;\\n  op: &quot;Tile&quot;\\n  input: &quot;FULL_BACK_PASS/GRADIENTS/RECREATION_LOSS/Mean_grad/Reshape&quot;\\n  input: &quot;FULL_BACK_PASS/GRADIENTS/RECREATION_LOSS/Mean_grad/floordiv&quot;\\n  attr {\\n    key: &quot;T&quot;\\n    value {\\n      type: DT_FLOAT\\n    }\\n  }\\n  attr {\\n    key: &quot;Tmultiples&quot;\\n    value {\\n      type: DT_INT32\\n    }\\n  }\\n}\\nnode {\\n  name: &quot;FULL_BACK_PASS/GRADIENTS/RECREATION_LOSS/Mean_grad/Shape_2&quot;\\n  op: &quot;Shape&quot;\\n  input: &quot;RECREATION_LOSS/SquaredDifference&quot;\\n  attr {\\n    key: &quot;T&quot;\\n    value {\\n      type: DT_FLOAT\\n    }\\n  }\\n  attr {\\n    key: &quot;out_type&quot;\\n    value {\\n      type: DT_INT32\\n    }\\n  }\\n}\\nnode {\\n  name: &quot;FULL_BACK_PASS/GRADIENTS/RECREATION_LOSS/Mean_grad/Shape_3&quot;\\n  op: &quot;Shape&quot;\\n  input: &quot;RECREATION_LOSS/Mean&quot;\\n  attr {\\n    key: &quot;T&quot;\\n    value {\\n      type: DT_FLOAT\\n    }\\n  }\\n  attr {\\n    key: &quot;out_type&quot;\\n    value {\\n      type: DT_INT32\\n    }\\n  }\\n}\\nnode {\\n  name: &quot;FULL_BACK_PASS/GRADIENTS/RECREATION_LOSS/Mean_grad/Const&quot;\\n  op: &quot;Const&quot;\\n  attr {\\n    key: &quot;dtype&quot;\\n    value {\\n      type: DT_INT32\\n    }\\n  }\\n  attr {\\n    key: &quot;value&quot;\\n    value {\\n      tensor {\\n        dtype: DT_INT32\\n        tensor_shape {\\n          dim {\\n            size: 1\\n          }\\n        }\\n        int_val: 0\\n      }\\n    }\\n  }\\n}\\nnode {\\n  name: &quot;FULL_BACK_PASS/GRADIENTS/RECREATION_LOSS/Mean_grad/Prod&quot;\\n  op: &quot;Prod&quot;\\n  input: &quot;FULL_BACK_PASS/GRADIENTS/RECREATION_LOSS/Mean_grad/Shape_2&quot;\\n  input: &quot;FULL_BACK_PASS/GRADIENTS/RECREATION_LOSS/Mean_grad/Const&quot;\\n  attr {\\n    key: &quot;T&quot;\\n    value {\\n      type: DT_INT32\\n    }\\n  }\\n  attr {\\n    key: &quot;Tidx&quot;\\n    value {\\n      type: DT_INT32\\n    }\\n  }\\n  attr {\\n    key: &quot;keep_dims&quot;\\n    value {\\n      b: false\\n    }\\n  }\\n}\\nnode {\\n  name: &quot;FULL_BACK_PASS/GRADIENTS/RECREATION_LOSS/Mean_grad/Const_1&quot;\\n  op: &quot;Const&quot;\\n  attr {\\n    key: &quot;dtype&quot;\\n    value {\\n      type: DT_INT32\\n    }\\n  }\\n  attr {\\n    key: &quot;value&quot;\\n    value {\\n      tensor {\\n        dtype: DT_INT32\\n        tensor_shape {\\n          dim {\\n            size: 1\\n          }\\n        }\\n        int_val: 0\\n      }\\n    }\\n  }\\n}\\nnode {\\n  name: &quot;FULL_BACK_PASS/GRADIENTS/RECREATION_LOSS/Mean_grad/Prod_1&quot;\\n  op: &quot;Prod&quot;\\n  input: &quot;FULL_BACK_PASS/GRADIENTS/RECREATION_LOSS/Mean_grad/Shape_3&quot;\\n  input: &quot;FULL_BACK_PASS/GRADIENTS/RECREATION_LOSS/Mean_grad/Const_1&quot;\\n  attr {\\n    key: &quot;T&quot;\\n    value {\\n      type: DT_INT32\\n    }\\n  }\\n  attr {\\n    key: &quot;Tidx&quot;\\n    value {\\n      type: DT_INT32\\n    }\\n  }\\n  attr {\\n    key: &quot;keep_dims&quot;\\n    value {\\n      b: false\\n    }\\n  }\\n}\\nnode {\\n  name: &quot;FULL_BACK_PASS/GRADIENTS/RECREATION_LOSS/Mean_grad/Maximum_1/y&quot;\\n  op: &quot;Const&quot;\\n  attr {\\n    key: &quot;dtype&quot;\\n    value {\\n      type: DT_INT32\\n    }\\n  }\\n  attr {\\n    key: &quot;value&quot;\\n    value {\\n      tensor {\\n        dtype: DT_INT32\\n        tensor_shape {\\n        }\\n        int_val: 1\\n      }\\n    }\\n  }\\n}\\nnode {\\n  name: &quot;FULL_BACK_PASS/GRADIENTS/RECREATION_LOSS/Mean_grad/Maximum_1&quot;\\n  op: &quot;Maximum&quot;\\n  input: &quot;FULL_BACK_PASS/GRADIENTS/RECREATION_LOSS/Mean_grad/Prod_1&quot;\\n  input: &quot;FULL_BACK_PASS/GRADIENTS/RECREATION_LOSS/Mean_grad/Maximum_1/y&quot;\\n  attr {\\n    key: &quot;T&quot;\\n    value {\\n      type: DT_INT32\\n    }\\n  }\\n}\\nnode {\\n  name: &quot;FULL_BACK_PASS/GRADIENTS/RECREATION_LOSS/Mean_grad/floordiv_1&quot;\\n  op: &quot;FloorDiv&quot;\\n  input: &quot;FULL_BACK_PASS/GRADIENTS/RECREATION_LOSS/Mean_grad/Prod&quot;\\n  input: &quot;FULL_BACK_PASS/GRADIENTS/RECREATION_LOSS/Mean_grad/Maximum_1&quot;\\n  attr {\\n    key: &quot;T&quot;\\n    value {\\n      type: DT_INT32\\n    }\\n  }\\n}\\nnode {\\n  name: &quot;FULL_BACK_PASS/GRADIENTS/RECREATION_LOSS/Mean_grad/Cast&quot;\\n  op: &quot;Cast&quot;\\n  input: &quot;FULL_BACK_PASS/GRADIENTS/RECREATION_LOSS/Mean_grad/floordiv_1&quot;\\n  attr {\\n    key: &quot;DstT&quot;\\n    value {\\n      type: DT_FLOAT\\n    }\\n  }\\n  attr {\\n    key: &quot;SrcT&quot;\\n    value {\\n      type: DT_INT32\\n    }\\n  }\\n  attr {\\n    key: &quot;Truncate&quot;\\n    value {\\n      b: false\\n    }\\n  }\\n}\\nnode {\\n  name: &quot;FULL_BACK_PASS/GRADIENTS/RECREATION_LOSS/Mean_grad/truediv&quot;\\n  op: &quot;RealDiv&quot;\\n  input: &quot;FULL_BACK_PASS/GRADIENTS/RECREATION_LOSS/Mean_grad/Tile&quot;\\n  input: &quot;FULL_BACK_PASS/GRADIENTS/RECREATION_LOSS/Mean_grad/Cast&quot;\\n  attr {\\n    key: &quot;T&quot;\\n    value {\\n      type: DT_FLOAT\\n    }\\n  }\\n}\\nnode {\\n  name: &quot;FULL_BACK_PASS/GRADIENTS/W1/Regularizer/l2_regularizer/L2Loss_grad/mul&quot;\\n  op: &quot;Mul&quot;\\n  input: &quot;W1/read&quot;\\n  input: &quot;FULL_BACK_PASS/GRADIENTS/W1/Regularizer/l2_regularizer_grad/Mul_1&quot;\\n  attr {\\n    key: &quot;T&quot;\\n    value {\\n      type: DT_FLOAT\\n    }\\n  }\\n}\\nnode {\\n  name: &quot;FULL_BACK_PASS/GRADIENTS/B1/Regularizer/l2_regularizer/L2Loss_grad/mul&quot;\\n  op: &quot;Mul&quot;\\n  input: &quot;B1/read&quot;\\n  input: &quot;FULL_BACK_PASS/GRADIENTS/B1/Regularizer/l2_regularizer_grad/Mul_1&quot;\\n  attr {\\n    key: &quot;T&quot;\\n    value {\\n      type: DT_FLOAT\\n    }\\n  }\\n}\\nnode {\\n  name: &quot;FULL_BACK_PASS/GRADIENTS/W2/Regularizer/l2_regularizer/L2Loss_grad/mul&quot;\\n  op: &quot;Mul&quot;\\n  input: &quot;W2/read&quot;\\n  input: &quot;FULL_BACK_PASS/GRADIENTS/W2/Regularizer/l2_regularizer_grad/Mul_1&quot;\\n  attr {\\n    key: &quot;T&quot;\\n    value {\\n      type: DT_FLOAT\\n    }\\n  }\\n}\\nnode {\\n  name: &quot;FULL_BACK_PASS/GRADIENTS/B2/Regularizer/l2_regularizer/L2Loss_grad/mul&quot;\\n  op: &quot;Mul&quot;\\n  input: &quot;B2/read&quot;\\n  input: &quot;FULL_BACK_PASS/GRADIENTS/B2/Regularizer/l2_regularizer_grad/Mul_1&quot;\\n  attr {\\n    key: &quot;T&quot;\\n    value {\\n      type: DT_FLOAT\\n    }\\n  }\\n}\\nnode {\\n  name: &quot;FULL_BACK_PASS/GRADIENTS/W3/Regularizer/l2_regularizer/L2Loss_grad/mul&quot;\\n  op: &quot;Mul&quot;\\n  input: &quot;W3/read&quot;\\n  input: &quot;FULL_BACK_PASS/GRADIENTS/W3/Regularizer/l2_regularizer_grad/Mul_1&quot;\\n  attr {\\n    key: &quot;T&quot;\\n    value {\\n      type: DT_FLOAT\\n    }\\n  }\\n}\\nnode {\\n  name: &quot;FULL_BACK_PASS/GRADIENTS/B3/Regularizer/l2_regularizer/L2Loss_grad/mul&quot;\\n  op: &quot;Mul&quot;\\n  input: &quot;B3/read&quot;\\n  input: &quot;FULL_BACK_PASS/GRADIENTS/B3/Regularizer/l2_regularizer_grad/Mul_1&quot;\\n  attr {\\n    key: &quot;T&quot;\\n    value {\\n      type: DT_FLOAT\\n    }\\n  }\\n}\\nnode {\\n  name: &quot;FULL_BACK_PASS/GRADIENTS/W4/Regularizer/l2_regularizer/L2Loss_grad/mul&quot;\\n  op: &quot;Mul&quot;\\n  input: &quot;W4/read&quot;\\n  input: &quot;FULL_BACK_PASS/GRADIENTS/W4/Regularizer/l2_regularizer_grad/Mul_1&quot;\\n  attr {\\n    key: &quot;T&quot;\\n    value {\\n      type: DT_FLOAT\\n    }\\n  }\\n}\\nnode {\\n  name: &quot;FULL_BACK_PASS/GRADIENTS/B4/Regularizer/l2_regularizer/L2Loss_grad/mul&quot;\\n  op: &quot;Mul&quot;\\n  input: &quot;B4/read&quot;\\n  input: &quot;FULL_BACK_PASS/GRADIENTS/B4/Regularizer/l2_regularizer_grad/Mul_1&quot;\\n  attr {\\n    key: &quot;T&quot;\\n    value {\\n      type: DT_FLOAT\\n    }\\n  }\\n}\\nnode {\\n  name: &quot;FULL_BACK_PASS/GRADIENTS/W5/Regularizer/l2_regularizer/L2Loss_grad/mul&quot;\\n  op: &quot;Mul&quot;\\n  input: &quot;W5/read&quot;\\n  input: &quot;FULL_BACK_PASS/GRADIENTS/W5/Regularizer/l2_regularizer_grad/Mul_1&quot;\\n  attr {\\n    key: &quot;T&quot;\\n    value {\\n      type: DT_FLOAT\\n    }\\n  }\\n}\\nnode {\\n  name: &quot;FULL_BACK_PASS/GRADIENTS/B5/Regularizer/l2_regularizer/L2Loss_grad/mul&quot;\\n  op: &quot;Mul&quot;\\n  input: &quot;B5/read&quot;\\n  input: &quot;FULL_BACK_PASS/GRADIENTS/B5/Regularizer/l2_regularizer_grad/Mul_1&quot;\\n  attr {\\n    key: &quot;T&quot;\\n    value {\\n      type: DT_FLOAT\\n    }\\n  }\\n}\\nnode {\\n  name: &quot;FULL_BACK_PASS/GRADIENTS/W6/Regularizer/l2_regularizer/L2Loss_grad/mul&quot;\\n  op: &quot;Mul&quot;\\n  input: &quot;W6/read&quot;\\n  input: &quot;FULL_BACK_PASS/GRADIENTS/W6/Regularizer/l2_regularizer_grad/Mul_1&quot;\\n  attr {\\n    key: &quot;T&quot;\\n    value {\\n      type: DT_FLOAT\\n    }\\n  }\\n}\\nnode {\\n  name: &quot;FULL_BACK_PASS/GRADIENTS/B6/Regularizer/l2_regularizer/L2Loss_grad/mul&quot;\\n  op: &quot;Mul&quot;\\n  input: &quot;B6/read&quot;\\n  input: &quot;FULL_BACK_PASS/GRADIENTS/B6/Regularizer/l2_regularizer_grad/Mul_1&quot;\\n  attr {\\n    key: &quot;T&quot;\\n    value {\\n      type: DT_FLOAT\\n    }\\n  }\\n}\\nnode {\\n  name: &quot;FULL_BACK_PASS/GRADIENTS/RECREATION_LOSS/SquaredDifference_grad/Shape&quot;\\n  op: &quot;Shape&quot;\\n  input: &quot;FULL_FORWARD_PASS/Relu_5&quot;\\n  attr {\\n    key: &quot;T&quot;\\n    value {\\n      type: DT_FLOAT\\n    }\\n  }\\n  attr {\\n    key: &quot;out_type&quot;\\n    value {\\n      type: DT_INT32\\n    }\\n  }\\n}\\nnode {\\n  name: &quot;FULL_BACK_PASS/GRADIENTS/RECREATION_LOSS/SquaredDifference_grad/Shape_1&quot;\\n  op: &quot;Shape&quot;\\n  input: &quot;INPUT_PIPELINE/IteratorGetNext:1&quot;\\n  attr {\\n    key: &quot;T&quot;\\n    value {\\n      type: DT_FLOAT\\n    }\\n  }\\n  attr {\\n    key: &quot;out_type&quot;\\n    value {\\n      type: DT_INT32\\n    }\\n  }\\n}\\nnode {\\n  name: &quot;FULL_BACK_PASS/GRADIENTS/RECREATION_LOSS/SquaredDifference_grad/BroadcastGradientArgs&quot;\\n  op: &quot;BroadcastGradientArgs&quot;\\n  input: &quot;FULL_BACK_PASS/GRADIENTS/RECREATION_LOSS/SquaredDifference_grad/Shape&quot;\\n  input: &quot;FULL_BACK_PASS/GRADIENTS/RECREATION_LOSS/SquaredDifference_grad/Shape_1&quot;\\n  attr {\\n    key: &quot;T&quot;\\n    value {\\n      type: DT_INT32\\n    }\\n  }\\n}\\nnode {\\n  name: &quot;FULL_BACK_PASS/GRADIENTS/RECREATION_LOSS/SquaredDifference_grad/scalar&quot;\\n  op: &quot;Const&quot;\\n  input: &quot;^FULL_BACK_PASS/GRADIENTS/RECREATION_LOSS/Mean_grad/truediv&quot;\\n  attr {\\n    key: &quot;dtype&quot;\\n    value {\\n      type: DT_FLOAT\\n    }\\n  }\\n  attr {\\n    key: &quot;value&quot;\\n    value {\\n      tensor {\\n        dtype: DT_FLOAT\\n        tensor_shape {\\n        }\\n        float_val: 2.0\\n      }\\n    }\\n  }\\n}\\nnode {\\n  name: &quot;FULL_BACK_PASS/GRADIENTS/RECREATION_LOSS/SquaredDifference_grad/Mul&quot;\\n  op: &quot;Mul&quot;\\n  input: &quot;FULL_BACK_PASS/GRADIENTS/RECREATION_LOSS/SquaredDifference_grad/scalar&quot;\\n  input: &quot;FULL_BACK_PASS/GRADIENTS/RECREATION_LOSS/Mean_grad/truediv&quot;\\n  attr {\\n    key: &quot;T&quot;\\n    value {\\n      type: DT_FLOAT\\n    }\\n  }\\n}\\nnode {\\n  name: &quot;FULL_BACK_PASS/GRADIENTS/RECREATION_LOSS/SquaredDifference_grad/sub&quot;\\n  op: &quot;Sub&quot;\\n  input: &quot;FULL_FORWARD_PASS/Relu_5&quot;\\n  input: &quot;INPUT_PIPELINE/IteratorGetNext:1&quot;\\n  input: &quot;^FULL_BACK_PASS/GRADIENTS/RECREATION_LOSS/Mean_grad/truediv&quot;\\n  attr {\\n    key: &quot;T&quot;\\n    value {\\n      type: DT_FLOAT\\n    }\\n  }\\n}\\nnode {\\n  name: &quot;FULL_BACK_PASS/GRADIENTS/RECREATION_LOSS/SquaredDifference_grad/mul_1&quot;\\n  op: &quot;Mul&quot;\\n  input: &quot;FULL_BACK_PASS/GRADIENTS/RECREATION_LOSS/SquaredDifference_grad/Mul&quot;\\n  input: &quot;FULL_BACK_PASS/GRADIENTS/RECREATION_LOSS/SquaredDifference_grad/sub&quot;\\n  attr {\\n    key: &quot;T&quot;\\n    value {\\n      type: DT_FLOAT\\n    }\\n  }\\n}\\nnode {\\n  name: &quot;FULL_BACK_PASS/GRADIENTS/RECREATION_LOSS/SquaredDifference_grad/Sum&quot;\\n  op: &quot;Sum&quot;\\n  input: &quot;FULL_BACK_PASS/GRADIENTS/RECREATION_LOSS/SquaredDifference_grad/mul_1&quot;\\n  input: &quot;FULL_BACK_PASS/GRADIENTS/RECREATION_LOSS/SquaredDifference_grad/BroadcastGradientArgs&quot;\\n  attr {\\n    key: &quot;T&quot;\\n    value {\\n      type: DT_FLOAT\\n    }\\n  }\\n  attr {\\n    key: &quot;Tidx&quot;\\n    value {\\n      type: DT_INT32\\n    }\\n  }\\n  attr {\\n    key: &quot;keep_dims&quot;\\n    value {\\n      b: false\\n    }\\n  }\\n}\\nnode {\\n  name: &quot;FULL_BACK_PASS/GRADIENTS/RECREATION_LOSS/SquaredDifference_grad/Reshape&quot;\\n  op: &quot;Reshape&quot;\\n  input: &quot;FULL_BACK_PASS/GRADIENTS/RECREATION_LOSS/SquaredDifference_grad/Sum&quot;\\n  input: &quot;FULL_BACK_PASS/GRADIENTS/RECREATION_LOSS/SquaredDifference_grad/Shape&quot;\\n  attr {\\n    key: &quot;T&quot;\\n    value {\\n      type: DT_FLOAT\\n    }\\n  }\\n  attr {\\n    key: &quot;Tshape&quot;\\n    value {\\n      type: DT_INT32\\n    }\\n  }\\n}\\nnode {\\n  name: &quot;FULL_BACK_PASS/GRADIENTS/RECREATION_LOSS/SquaredDifference_grad/Sum_1&quot;\\n  op: &quot;Sum&quot;\\n  input: &quot;FULL_BACK_PASS/GRADIENTS/RECREATION_LOSS/SquaredDifference_grad/mul_1&quot;\\n  input: &quot;FULL_BACK_PASS/GRADIENTS/RECREATION_LOSS/SquaredDifference_grad/BroadcastGradientArgs:1&quot;\\n  attr {\\n    key: &quot;T&quot;\\n    value {\\n      type: DT_FLOAT\\n    }\\n  }\\n  attr {\\n    key: &quot;Tidx&quot;\\n    value {\\n      type: DT_INT32\\n    }\\n  }\\n  attr {\\n    key: &quot;keep_dims&quot;\\n    value {\\n      b: false\\n    }\\n  }\\n}\\nnode {\\n  name: &quot;FULL_BACK_PASS/GRADIENTS/RECREATION_LOSS/SquaredDifference_grad/Reshape_1&quot;\\n  op: &quot;Reshape&quot;\\n  input: &quot;FULL_BACK_PASS/GRADIENTS/RECREATION_LOSS/SquaredDifference_grad/Sum_1&quot;\\n  input: &quot;FULL_BACK_PASS/GRADIENTS/RECREATION_LOSS/SquaredDifference_grad/Shape_1&quot;\\n  attr {\\n    key: &quot;T&quot;\\n    value {\\n      type: DT_FLOAT\\n    }\\n  }\\n  attr {\\n    key: &quot;Tshape&quot;\\n    value {\\n      type: DT_INT32\\n    }\\n  }\\n}\\nnode {\\n  name: &quot;FULL_BACK_PASS/GRADIENTS/RECREATION_LOSS/SquaredDifference_grad/Neg&quot;\\n  op: &quot;Neg&quot;\\n  input: &quot;FULL_BACK_PASS/GRADIENTS/RECREATION_LOSS/SquaredDifference_grad/Reshape_1&quot;\\n  attr {\\n    key: &quot;T&quot;\\n    value {\\n      type: DT_FLOAT\\n    }\\n  }\\n}\\nnode {\\n  name: &quot;FULL_BACK_PASS/GRADIENTS/FULL_FORWARD_PASS/Relu_5_grad/ReluGrad&quot;\\n  op: &quot;ReluGrad&quot;\\n  input: &quot;FULL_BACK_PASS/GRADIENTS/RECREATION_LOSS/SquaredDifference_grad/Reshape&quot;\\n  input: &quot;FULL_FORWARD_PASS/Relu_5&quot;\\n  attr {\\n    key: &quot;T&quot;\\n    value {\\n      type: DT_FLOAT\\n    }\\n  }\\n}\\nnode {\\n  name: &quot;FULL_BACK_PASS/GRADIENTS/FULL_FORWARD_PASS/add_5_grad/Shape&quot;\\n  op: &quot;Shape&quot;\\n  input: &quot;FULL_FORWARD_PASS/MatMul_5&quot;\\n  attr {\\n    key: &quot;T&quot;\\n    value {\\n      type: DT_FLOAT\\n    }\\n  }\\n  attr {\\n    key: &quot;out_type&quot;\\n    value {\\n      type: DT_INT32\\n    }\\n  }\\n}\\nnode {\\n  name: &quot;FULL_BACK_PASS/GRADIENTS/FULL_FORWARD_PASS/add_5_grad/Shape_1&quot;\\n  op: &quot;Const&quot;\\n  attr {\\n    key: &quot;dtype&quot;\\n    value {\\n      type: DT_INT32\\n    }\\n  }\\n  attr {\\n    key: &quot;value&quot;\\n    value {\\n      tensor {\\n        dtype: DT_INT32\\n        tensor_shape {\\n          dim {\\n            size: 1\\n          }\\n        }\\n        int_val: 29\\n      }\\n    }\\n  }\\n}\\nnode {\\n  name: &quot;FULL_BACK_PASS/GRADIENTS/FULL_FORWARD_PASS/add_5_grad/BroadcastGradientArgs&quot;\\n  op: &quot;BroadcastGradientArgs&quot;\\n  input: &quot;FULL_BACK_PASS/GRADIENTS/FULL_FORWARD_PASS/add_5_grad/Shape&quot;\\n  input: &quot;FULL_BACK_PASS/GRADIENTS/FULL_FORWARD_PASS/add_5_grad/Shape_1&quot;\\n  attr {\\n    key: &quot;T&quot;\\n    value {\\n      type: DT_INT32\\n    }\\n  }\\n}\\nnode {\\n  name: &quot;FULL_BACK_PASS/GRADIENTS/FULL_FORWARD_PASS/add_5_grad/Sum&quot;\\n  op: &quot;Sum&quot;\\n  input: &quot;FULL_BACK_PASS/GRADIENTS/FULL_FORWARD_PASS/Relu_5_grad/ReluGrad&quot;\\n  input: &quot;FULL_BACK_PASS/GRADIENTS/FULL_FORWARD_PASS/add_5_grad/BroadcastGradientArgs&quot;\\n  attr {\\n    key: &quot;T&quot;\\n    value {\\n      type: DT_FLOAT\\n    }\\n  }\\n  attr {\\n    key: &quot;Tidx&quot;\\n    value {\\n      type: DT_INT32\\n    }\\n  }\\n  attr {\\n    key: &quot;keep_dims&quot;\\n    value {\\n      b: false\\n    }\\n  }\\n}\\nnode {\\n  name: &quot;FULL_BACK_PASS/GRADIENTS/FULL_FORWARD_PASS/add_5_grad/Reshape&quot;\\n  op: &quot;Reshape&quot;\\n  input: &quot;FULL_BACK_PASS/GRADIENTS/FULL_FORWARD_PASS/add_5_grad/Sum&quot;\\n  input: &quot;FULL_BACK_PASS/GRADIENTS/FULL_FORWARD_PASS/add_5_grad/Shape&quot;\\n  attr {\\n    key: &quot;T&quot;\\n    value {\\n      type: DT_FLOAT\\n    }\\n  }\\n  attr {\\n    key: &quot;Tshape&quot;\\n    value {\\n      type: DT_INT32\\n    }\\n  }\\n}\\nnode {\\n  name: &quot;FULL_BACK_PASS/GRADIENTS/FULL_FORWARD_PASS/add_5_grad/Sum_1&quot;\\n  op: &quot;Sum&quot;\\n  input: &quot;FULL_BACK_PASS/GRADIENTS/FULL_FORWARD_PASS/Relu_5_grad/ReluGrad&quot;\\n  input: &quot;FULL_BACK_PASS/GRADIENTS/FULL_FORWARD_PASS/add_5_grad/BroadcastGradientArgs:1&quot;\\n  attr {\\n    key: &quot;T&quot;\\n    value {\\n      type: DT_FLOAT\\n    }\\n  }\\n  attr {\\n    key: &quot;Tidx&quot;\\n    value {\\n      type: DT_INT32\\n    }\\n  }\\n  attr {\\n    key: &quot;keep_dims&quot;\\n    value {\\n      b: false\\n    }\\n  }\\n}\\nnode {\\n  name: &quot;FULL_BACK_PASS/GRADIENTS/FULL_FORWARD_PASS/add_5_grad/Reshape_1&quot;\\n  op: &quot;Reshape&quot;\\n  input: &quot;FULL_BACK_PASS/GRADIENTS/FULL_FORWARD_PASS/add_5_grad/Sum_1&quot;\\n  input: &quot;FULL_BACK_PASS/GRADIENTS/FULL_FORWARD_PASS/add_5_grad/Shape_1&quot;\\n  attr {\\n    key: &quot;T&quot;\\n    value {\\n      type: DT_FLOAT\\n    }\\n  }\\n  attr {\\n    key: &quot;Tshape&quot;\\n    value {\\n      type: DT_INT32\\n    }\\n  }\\n}\\nnode {\\n  name: &quot;FULL_BACK_PASS/GRADIENTS/FULL_FORWARD_PASS/MatMul_5_grad/MatMul&quot;\\n  op: &quot;MatMul&quot;\\n  input: &quot;FULL_BACK_PASS/GRADIENTS/FULL_FORWARD_PASS/add_5_grad/Reshape&quot;\\n  input: &quot;W6/read&quot;\\n  attr {\\n    key: &quot;T&quot;\\n    value {\\n      type: DT_FLOAT\\n    }\\n  }\\n  attr {\\n    key: &quot;transpose_a&quot;\\n    value {\\n      b: false\\n    }\\n  }\\n  attr {\\n    key: &quot;transpose_b&quot;\\n    value {\\n      b: true\\n    }\\n  }\\n}\\nnode {\\n  name: &quot;FULL_BACK_PASS/GRADIENTS/FULL_FORWARD_PASS/MatMul_5_grad/MatMul_1&quot;\\n  op: &quot;MatMul&quot;\\n  input: &quot;FULL_FORWARD_PASS/Relu_4&quot;\\n  input: &quot;FULL_BACK_PASS/GRADIENTS/FULL_FORWARD_PASS/add_5_grad/Reshape&quot;\\n  attr {\\n    key: &quot;T&quot;\\n    value {\\n      type: DT_FLOAT\\n    }\\n  }\\n  attr {\\n    key: &quot;transpose_a&quot;\\n    value {\\n      b: true\\n    }\\n  }\\n  attr {\\n    key: &quot;transpose_b&quot;\\n    value {\\n      b: false\\n    }\\n  }\\n}\\nnode {\\n  name: &quot;FULL_BACK_PASS/GRADIENTS/AddN&quot;\\n  op: &quot;AddN&quot;\\n  input: &quot;FULL_BACK_PASS/GRADIENTS/B6/Regularizer/l2_regularizer/L2Loss_grad/mul&quot;\\n  input: &quot;FULL_BACK_PASS/GRADIENTS/FULL_FORWARD_PASS/add_5_grad/Reshape_1&quot;\\n  attr {\\n    key: &quot;N&quot;\\n    value {\\n      i: 2\\n    }\\n  }\\n  attr {\\n    key: &quot;T&quot;\\n    value {\\n      type: DT_FLOAT\\n    }\\n  }\\n  attr {\\n    key: &quot;_class&quot;\\n    value {\\n      list {\\n        s: &quot;loc:@FULL_BACK_PASS/GRADIENTS/B6/Regularizer/l2_regularizer/L2Loss_grad/mul&quot;\\n      }\\n    }\\n  }\\n}\\nnode {\\n  name: &quot;FULL_BACK_PASS/GRADIENTS/FULL_FORWARD_PASS/Relu_4_grad/ReluGrad&quot;\\n  op: &quot;ReluGrad&quot;\\n  input: &quot;FULL_BACK_PASS/GRADIENTS/FULL_FORWARD_PASS/MatMul_5_grad/MatMul&quot;\\n  input: &quot;FULL_FORWARD_PASS/Relu_4&quot;\\n  attr {\\n    key: &quot;T&quot;\\n    value {\\n      type: DT_FLOAT\\n    }\\n  }\\n}\\nnode {\\n  name: &quot;FULL_BACK_PASS/GRADIENTS/AddN_1&quot;\\n  op: &quot;AddN&quot;\\n  input: &quot;FULL_BACK_PASS/GRADIENTS/W6/Regularizer/l2_regularizer/L2Loss_grad/mul&quot;\\n  input: &quot;FULL_BACK_PASS/GRADIENTS/FULL_FORWARD_PASS/MatMul_5_grad/MatMul_1&quot;\\n  attr {\\n    key: &quot;N&quot;\\n    value {\\n      i: 2\\n    }\\n  }\\n  attr {\\n    key: &quot;T&quot;\\n    value {\\n      type: DT_FLOAT\\n    }\\n  }\\n  attr {\\n    key: &quot;_class&quot;\\n    value {\\n      list {\\n        s: &quot;loc:@FULL_BACK_PASS/GRADIENTS/W6/Regularizer/l2_regularizer/L2Loss_grad/mul&quot;\\n      }\\n    }\\n  }\\n}\\nnode {\\n  name: &quot;FULL_BACK_PASS/GRADIENTS/FULL_FORWARD_PASS/add_4_grad/Shape&quot;\\n  op: &quot;Shape&quot;\\n  input: &quot;FULL_FORWARD_PASS/MatMul_4&quot;\\n  attr {\\n    key: &quot;T&quot;\\n    value {\\n      type: DT_FLOAT\\n    }\\n  }\\n  attr {\\n    key: &quot;out_type&quot;\\n    value {\\n      type: DT_INT32\\n    }\\n  }\\n}\\nnode {\\n  name: &quot;FULL_BACK_PASS/GRADIENTS/FULL_FORWARD_PASS/add_4_grad/Shape_1&quot;\\n  op: &quot;Const&quot;\\n  attr {\\n    key: &quot;dtype&quot;\\n    value {\\n      type: DT_INT32\\n    }\\n  }\\n  attr {\\n    key: &quot;value&quot;\\n    value {\\n      tensor {\\n        dtype: DT_INT32\\n        tensor_shape {\\n          dim {\\n            size: 1\\n          }\\n        }\\n        int_val: 24\\n      }\\n    }\\n  }\\n}\\nnode {\\n  name: &quot;FULL_BACK_PASS/GRADIENTS/FULL_FORWARD_PASS/add_4_grad/BroadcastGradientArgs&quot;\\n  op: &quot;BroadcastGradientArgs&quot;\\n  input: &quot;FULL_BACK_PASS/GRADIENTS/FULL_FORWARD_PASS/add_4_grad/Shape&quot;\\n  input: &quot;FULL_BACK_PASS/GRADIENTS/FULL_FORWARD_PASS/add_4_grad/Shape_1&quot;\\n  attr {\\n    key: &quot;T&quot;\\n    value {\\n      type: DT_INT32\\n    }\\n  }\\n}\\nnode {\\n  name: &quot;FULL_BACK_PASS/GRADIENTS/FULL_FORWARD_PASS/add_4_grad/Sum&quot;\\n  op: &quot;Sum&quot;\\n  input: &quot;FULL_BACK_PASS/GRADIENTS/FULL_FORWARD_PASS/Relu_4_grad/ReluGrad&quot;\\n  input: &quot;FULL_BACK_PASS/GRADIENTS/FULL_FORWARD_PASS/add_4_grad/BroadcastGradientArgs&quot;\\n  attr {\\n    key: &quot;T&quot;\\n    value {\\n      type: DT_FLOAT\\n    }\\n  }\\n  attr {\\n    key: &quot;Tidx&quot;\\n    value {\\n      type: DT_INT32\\n    }\\n  }\\n  attr {\\n    key: &quot;keep_dims&quot;\\n    value {\\n      b: false\\n    }\\n  }\\n}\\nnode {\\n  name: &quot;FULL_BACK_PASS/GRADIENTS/FULL_FORWARD_PASS/add_4_grad/Reshape&quot;\\n  op: &quot;Reshape&quot;\\n  input: &quot;FULL_BACK_PASS/GRADIENTS/FULL_FORWARD_PASS/add_4_grad/Sum&quot;\\n  input: &quot;FULL_BACK_PASS/GRADIENTS/FULL_FORWARD_PASS/add_4_grad/Shape&quot;\\n  attr {\\n    key: &quot;T&quot;\\n    value {\\n      type: DT_FLOAT\\n    }\\n  }\\n  attr {\\n    key: &quot;Tshape&quot;\\n    value {\\n      type: DT_INT32\\n    }\\n  }\\n}\\nnode {\\n  name: &quot;FULL_BACK_PASS/GRADIENTS/FULL_FORWARD_PASS/add_4_grad/Sum_1&quot;\\n  op: &quot;Sum&quot;\\n  input: &quot;FULL_BACK_PASS/GRADIENTS/FULL_FORWARD_PASS/Relu_4_grad/ReluGrad&quot;\\n  input: &quot;FULL_BACK_PASS/GRADIENTS/FULL_FORWARD_PASS/add_4_grad/BroadcastGradientArgs:1&quot;\\n  attr {\\n    key: &quot;T&quot;\\n    value {\\n      type: DT_FLOAT\\n    }\\n  }\\n  attr {\\n    key: &quot;Tidx&quot;\\n    value {\\n      type: DT_INT32\\n    }\\n  }\\n  attr {\\n    key: &quot;keep_dims&quot;\\n    value {\\n      b: false\\n    }\\n  }\\n}\\nnode {\\n  name: &quot;FULL_BACK_PASS/GRADIENTS/FULL_FORWARD_PASS/add_4_grad/Reshape_1&quot;\\n  op: &quot;Reshape&quot;\\n  input: &quot;FULL_BACK_PASS/GRADIENTS/FULL_FORWARD_PASS/add_4_grad/Sum_1&quot;\\n  input: &quot;FULL_BACK_PASS/GRADIENTS/FULL_FORWARD_PASS/add_4_grad/Shape_1&quot;\\n  attr {\\n    key: &quot;T&quot;\\n    value {\\n      type: DT_FLOAT\\n    }\\n  }\\n  attr {\\n    key: &quot;Tshape&quot;\\n    value {\\n      type: DT_INT32\\n    }\\n  }\\n}\\nnode {\\n  name: &quot;FULL_BACK_PASS/GRADIENTS/FULL_FORWARD_PASS/MatMul_4_grad/MatMul&quot;\\n  op: &quot;MatMul&quot;\\n  input: &quot;FULL_BACK_PASS/GRADIENTS/FULL_FORWARD_PASS/add_4_grad/Reshape&quot;\\n  input: &quot;W5/read&quot;\\n  attr {\\n    key: &quot;T&quot;\\n    value {\\n      type: DT_FLOAT\\n    }\\n  }\\n  attr {\\n    key: &quot;transpose_a&quot;\\n    value {\\n      b: false\\n    }\\n  }\\n  attr {\\n    key: &quot;transpose_b&quot;\\n    value {\\n      b: true\\n    }\\n  }\\n}\\nnode {\\n  name: &quot;FULL_BACK_PASS/GRADIENTS/FULL_FORWARD_PASS/MatMul_4_grad/MatMul_1&quot;\\n  op: &quot;MatMul&quot;\\n  input: &quot;FULL_FORWARD_PASS/Relu_3&quot;\\n  input: &quot;FULL_BACK_PASS/GRADIENTS/FULL_FORWARD_PASS/add_4_grad/Reshape&quot;\\n  attr {\\n    key: &quot;T&quot;\\n    value {\\n      type: DT_FLOAT\\n    }\\n  }\\n  attr {\\n    key: &quot;transpose_a&quot;\\n    value {\\n      b: true\\n    }\\n  }\\n  attr {\\n    key: &quot;transpose_b&quot;\\n    value {\\n      b: false\\n    }\\n  }\\n}\\nnode {\\n  name: &quot;FULL_BACK_PASS/GRADIENTS/AddN_2&quot;\\n  op: &quot;AddN&quot;\\n  input: &quot;FULL_BACK_PASS/GRADIENTS/B5/Regularizer/l2_regularizer/L2Loss_grad/mul&quot;\\n  input: &quot;FULL_BACK_PASS/GRADIENTS/FULL_FORWARD_PASS/add_4_grad/Reshape_1&quot;\\n  attr {\\n    key: &quot;N&quot;\\n    value {\\n      i: 2\\n    }\\n  }\\n  attr {\\n    key: &quot;T&quot;\\n    value {\\n      type: DT_FLOAT\\n    }\\n  }\\n  attr {\\n    key: &quot;_class&quot;\\n    value {\\n      list {\\n        s: &quot;loc:@FULL_BACK_PASS/GRADIENTS/B5/Regularizer/l2_regularizer/L2Loss_grad/mul&quot;\\n      }\\n    }\\n  }\\n}\\nnode {\\n  name: &quot;FULL_BACK_PASS/GRADIENTS/FULL_FORWARD_PASS/Relu_3_grad/ReluGrad&quot;\\n  op: &quot;ReluGrad&quot;\\n  input: &quot;FULL_BACK_PASS/GRADIENTS/FULL_FORWARD_PASS/MatMul_4_grad/MatMul&quot;\\n  input: &quot;FULL_FORWARD_PASS/Relu_3&quot;\\n  attr {\\n    key: &quot;T&quot;\\n    value {\\n      type: DT_FLOAT\\n    }\\n  }\\n}\\nnode {\\n  name: &quot;FULL_BACK_PASS/GRADIENTS/AddN_3&quot;\\n  op: &quot;AddN&quot;\\n  input: &quot;FULL_BACK_PASS/GRADIENTS/W5/Regularizer/l2_regularizer/L2Loss_grad/mul&quot;\\n  input: &quot;FULL_BACK_PASS/GRADIENTS/FULL_FORWARD_PASS/MatMul_4_grad/MatMul_1&quot;\\n  attr {\\n    key: &quot;N&quot;\\n    value {\\n      i: 2\\n    }\\n  }\\n  attr {\\n    key: &quot;T&quot;\\n    value {\\n      type: DT_FLOAT\\n    }\\n  }\\n  attr {\\n    key: &quot;_class&quot;\\n    value {\\n      list {\\n        s: &quot;loc:@FULL_BACK_PASS/GRADIENTS/W5/Regularizer/l2_regularizer/L2Loss_grad/mul&quot;\\n      }\\n    }\\n  }\\n}\\nnode {\\n  name: &quot;FULL_BACK_PASS/GRADIENTS/FULL_FORWARD_PASS/add_3_grad/Shape&quot;\\n  op: &quot;Shape&quot;\\n  input: &quot;FULL_FORWARD_PASS/MatMul_3&quot;\\n  attr {\\n    key: &quot;T&quot;\\n    value {\\n      type: DT_FLOAT\\n    }\\n  }\\n  attr {\\n    key: &quot;out_type&quot;\\n    value {\\n      type: DT_INT32\\n    }\\n  }\\n}\\nnode {\\n  name: &quot;FULL_BACK_PASS/GRADIENTS/FULL_FORWARD_PASS/add_3_grad/Shape_1&quot;\\n  op: &quot;Const&quot;\\n  attr {\\n    key: &quot;dtype&quot;\\n    value {\\n      type: DT_INT32\\n    }\\n  }\\n  attr {\\n    key: &quot;value&quot;\\n    value {\\n      tensor {\\n        dtype: DT_INT32\\n        tensor_shape {\\n          dim {\\n            size: 1\\n          }\\n        }\\n        int_val: 12\\n      }\\n    }\\n  }\\n}\\nnode {\\n  name: &quot;FULL_BACK_PASS/GRADIENTS/FULL_FORWARD_PASS/add_3_grad/BroadcastGradientArgs&quot;\\n  op: &quot;BroadcastGradientArgs&quot;\\n  input: &quot;FULL_BACK_PASS/GRADIENTS/FULL_FORWARD_PASS/add_3_grad/Shape&quot;\\n  input: &quot;FULL_BACK_PASS/GRADIENTS/FULL_FORWARD_PASS/add_3_grad/Shape_1&quot;\\n  attr {\\n    key: &quot;T&quot;\\n    value {\\n      type: DT_INT32\\n    }\\n  }\\n}\\nnode {\\n  name: &quot;FULL_BACK_PASS/GRADIENTS/FULL_FORWARD_PASS/add_3_grad/Sum&quot;\\n  op: &quot;Sum&quot;\\n  input: &quot;FULL_BACK_PASS/GRADIENTS/FULL_FORWARD_PASS/Relu_3_grad/ReluGrad&quot;\\n  input: &quot;FULL_BACK_PASS/GRADIENTS/FULL_FORWARD_PASS/add_3_grad/BroadcastGradientArgs&quot;\\n  attr {\\n    key: &quot;T&quot;\\n    value {\\n      type: DT_FLOAT\\n    }\\n  }\\n  attr {\\n    key: &quot;Tidx&quot;\\n    value {\\n      type: DT_INT32\\n    }\\n  }\\n  attr {\\n    key: &quot;keep_dims&quot;\\n    value {\\n      b: false\\n    }\\n  }\\n}\\nnode {\\n  name: &quot;FULL_BACK_PASS/GRADIENTS/FULL_FORWARD_PASS/add_3_grad/Reshape&quot;\\n  op: &quot;Reshape&quot;\\n  input: &quot;FULL_BACK_PASS/GRADIENTS/FULL_FORWARD_PASS/add_3_grad/Sum&quot;\\n  input: &quot;FULL_BACK_PASS/GRADIENTS/FULL_FORWARD_PASS/add_3_grad/Shape&quot;\\n  attr {\\n    key: &quot;T&quot;\\n    value {\\n      type: DT_FLOAT\\n    }\\n  }\\n  attr {\\n    key: &quot;Tshape&quot;\\n    value {\\n      type: DT_INT32\\n    }\\n  }\\n}\\nnode {\\n  name: &quot;FULL_BACK_PASS/GRADIENTS/FULL_FORWARD_PASS/add_3_grad/Sum_1&quot;\\n  op: &quot;Sum&quot;\\n  input: &quot;FULL_BACK_PASS/GRADIENTS/FULL_FORWARD_PASS/Relu_3_grad/ReluGrad&quot;\\n  input: &quot;FULL_BACK_PASS/GRADIENTS/FULL_FORWARD_PASS/add_3_grad/BroadcastGradientArgs:1&quot;\\n  attr {\\n    key: &quot;T&quot;\\n    value {\\n      type: DT_FLOAT\\n    }\\n  }\\n  attr {\\n    key: &quot;Tidx&quot;\\n    value {\\n      type: DT_INT32\\n    }\\n  }\\n  attr {\\n    key: &quot;keep_dims&quot;\\n    value {\\n      b: false\\n    }\\n  }\\n}\\nnode {\\n  name: &quot;FULL_BACK_PASS/GRADIENTS/FULL_FORWARD_PASS/add_3_grad/Reshape_1&quot;\\n  op: &quot;Reshape&quot;\\n  input: &quot;FULL_BACK_PASS/GRADIENTS/FULL_FORWARD_PASS/add_3_grad/Sum_1&quot;\\n  input: &quot;FULL_BACK_PASS/GRADIENTS/FULL_FORWARD_PASS/add_3_grad/Shape_1&quot;\\n  attr {\\n    key: &quot;T&quot;\\n    value {\\n      type: DT_FLOAT\\n    }\\n  }\\n  attr {\\n    key: &quot;Tshape&quot;\\n    value {\\n      type: DT_INT32\\n    }\\n  }\\n}\\nnode {\\n  name: &quot;FULL_BACK_PASS/GRADIENTS/FULL_FORWARD_PASS/MatMul_3_grad/MatMul&quot;\\n  op: &quot;MatMul&quot;\\n  input: &quot;FULL_BACK_PASS/GRADIENTS/FULL_FORWARD_PASS/add_3_grad/Reshape&quot;\\n  input: &quot;W4/read&quot;\\n  attr {\\n    key: &quot;T&quot;\\n    value {\\n      type: DT_FLOAT\\n    }\\n  }\\n  attr {\\n    key: &quot;transpose_a&quot;\\n    value {\\n      b: false\\n    }\\n  }\\n  attr {\\n    key: &quot;transpose_b&quot;\\n    value {\\n      b: true\\n    }\\n  }\\n}\\nnode {\\n  name: &quot;FULL_BACK_PASS/GRADIENTS/FULL_FORWARD_PASS/MatMul_3_grad/MatMul_1&quot;\\n  op: &quot;MatMul&quot;\\n  input: &quot;FULL_FORWARD_PASS/Relu_2&quot;\\n  input: &quot;FULL_BACK_PASS/GRADIENTS/FULL_FORWARD_PASS/add_3_grad/Reshape&quot;\\n  attr {\\n    key: &quot;T&quot;\\n    value {\\n      type: DT_FLOAT\\n    }\\n  }\\n  attr {\\n    key: &quot;transpose_a&quot;\\n    value {\\n      b: true\\n    }\\n  }\\n  attr {\\n    key: &quot;transpose_b&quot;\\n    value {\\n      b: false\\n    }\\n  }\\n}\\nnode {\\n  name: &quot;FULL_BACK_PASS/GRADIENTS/AddN_4&quot;\\n  op: &quot;AddN&quot;\\n  input: &quot;FULL_BACK_PASS/GRADIENTS/B4/Regularizer/l2_regularizer/L2Loss_grad/mul&quot;\\n  input: &quot;FULL_BACK_PASS/GRADIENTS/FULL_FORWARD_PASS/add_3_grad/Reshape_1&quot;\\n  attr {\\n    key: &quot;N&quot;\\n    value {\\n      i: 2\\n    }\\n  }\\n  attr {\\n    key: &quot;T&quot;\\n    value {\\n      type: DT_FLOAT\\n    }\\n  }\\n  attr {\\n    key: &quot;_class&quot;\\n    value {\\n      list {\\n        s: &quot;loc:@FULL_BACK_PASS/GRADIENTS/B4/Regularizer/l2_regularizer/L2Loss_grad/mul&quot;\\n      }\\n    }\\n  }\\n}\\nnode {\\n  name: &quot;FULL_BACK_PASS/GRADIENTS/FULL_FORWARD_PASS/Relu_2_grad/ReluGrad&quot;\\n  op: &quot;ReluGrad&quot;\\n  input: &quot;FULL_BACK_PASS/GRADIENTS/FULL_FORWARD_PASS/MatMul_3_grad/MatMul&quot;\\n  input: &quot;FULL_FORWARD_PASS/Relu_2&quot;\\n  attr {\\n    key: &quot;T&quot;\\n    value {\\n      type: DT_FLOAT\\n    }\\n  }\\n}\\nnode {\\n  name: &quot;FULL_BACK_PASS/GRADIENTS/AddN_5&quot;\\n  op: &quot;AddN&quot;\\n  input: &quot;FULL_BACK_PASS/GRADIENTS/W4/Regularizer/l2_regularizer/L2Loss_grad/mul&quot;\\n  input: &quot;FULL_BACK_PASS/GRADIENTS/FULL_FORWARD_PASS/MatMul_3_grad/MatMul_1&quot;\\n  attr {\\n    key: &quot;N&quot;\\n    value {\\n      i: 2\\n    }\\n  }\\n  attr {\\n    key: &quot;T&quot;\\n    value {\\n      type: DT_FLOAT\\n    }\\n  }\\n  attr {\\n    key: &quot;_class&quot;\\n    value {\\n      list {\\n        s: &quot;loc:@FULL_BACK_PASS/GRADIENTS/W4/Regularizer/l2_regularizer/L2Loss_grad/mul&quot;\\n      }\\n    }\\n  }\\n}\\nnode {\\n  name: &quot;FULL_BACK_PASS/GRADIENTS/FULL_FORWARD_PASS/add_2_grad/Shape&quot;\\n  op: &quot;Shape&quot;\\n  input: &quot;FULL_FORWARD_PASS/MatMul_2&quot;\\n  attr {\\n    key: &quot;T&quot;\\n    value {\\n      type: DT_FLOAT\\n    }\\n  }\\n  attr {\\n    key: &quot;out_type&quot;\\n    value {\\n      type: DT_INT32\\n    }\\n  }\\n}\\nnode {\\n  name: &quot;FULL_BACK_PASS/GRADIENTS/FULL_FORWARD_PASS/add_2_grad/Shape_1&quot;\\n  op: &quot;Const&quot;\\n  attr {\\n    key: &quot;dtype&quot;\\n    value {\\n      type: DT_INT32\\n    }\\n  }\\n  attr {\\n    key: &quot;value&quot;\\n    value {\\n      tensor {\\n        dtype: DT_INT32\\n        tensor_shape {\\n          dim {\\n            size: 1\\n          }\\n        }\\n        int_val: 8\\n      }\\n    }\\n  }\\n}\\nnode {\\n  name: &quot;FULL_BACK_PASS/GRADIENTS/FULL_FORWARD_PASS/add_2_grad/BroadcastGradientArgs&quot;\\n  op: &quot;BroadcastGradientArgs&quot;\\n  input: &quot;FULL_BACK_PASS/GRADIENTS/FULL_FORWARD_PASS/add_2_grad/Shape&quot;\\n  input: &quot;FULL_BACK_PASS/GRADIENTS/FULL_FORWARD_PASS/add_2_grad/Shape_1&quot;\\n  attr {\\n    key: &quot;T&quot;\\n    value {\\n      type: DT_INT32\\n    }\\n  }\\n}\\nnode {\\n  name: &quot;FULL_BACK_PASS/GRADIENTS/FULL_FORWARD_PASS/add_2_grad/Sum&quot;\\n  op: &quot;Sum&quot;\\n  input: &quot;FULL_BACK_PASS/GRADIENTS/FULL_FORWARD_PASS/Relu_2_grad/ReluGrad&quot;\\n  input: &quot;FULL_BACK_PASS/GRADIENTS/FULL_FORWARD_PASS/add_2_grad/BroadcastGradientArgs&quot;\\n  attr {\\n    key: &quot;T&quot;\\n    value {\\n      type: DT_FLOAT\\n    }\\n  }\\n  attr {\\n    key: &quot;Tidx&quot;\\n    value {\\n      type: DT_INT32\\n    }\\n  }\\n  attr {\\n    key: &quot;keep_dims&quot;\\n    value {\\n      b: false\\n    }\\n  }\\n}\\nnode {\\n  name: &quot;FULL_BACK_PASS/GRADIENTS/FULL_FORWARD_PASS/add_2_grad/Reshape&quot;\\n  op: &quot;Reshape&quot;\\n  input: &quot;FULL_BACK_PASS/GRADIENTS/FULL_FORWARD_PASS/add_2_grad/Sum&quot;\\n  input: &quot;FULL_BACK_PASS/GRADIENTS/FULL_FORWARD_PASS/add_2_grad/Shape&quot;\\n  attr {\\n    key: &quot;T&quot;\\n    value {\\n      type: DT_FLOAT\\n    }\\n  }\\n  attr {\\n    key: &quot;Tshape&quot;\\n    value {\\n      type: DT_INT32\\n    }\\n  }\\n}\\nnode {\\n  name: &quot;FULL_BACK_PASS/GRADIENTS/FULL_FORWARD_PASS/add_2_grad/Sum_1&quot;\\n  op: &quot;Sum&quot;\\n  input: &quot;FULL_BACK_PASS/GRADIENTS/FULL_FORWARD_PASS/Relu_2_grad/ReluGrad&quot;\\n  input: &quot;FULL_BACK_PASS/GRADIENTS/FULL_FORWARD_PASS/add_2_grad/BroadcastGradientArgs:1&quot;\\n  attr {\\n    key: &quot;T&quot;\\n    value {\\n      type: DT_FLOAT\\n    }\\n  }\\n  attr {\\n    key: &quot;Tidx&quot;\\n    value {\\n      type: DT_INT32\\n    }\\n  }\\n  attr {\\n    key: &quot;keep_dims&quot;\\n    value {\\n      b: false\\n    }\\n  }\\n}\\nnode {\\n  name: &quot;FULL_BACK_PASS/GRADIENTS/FULL_FORWARD_PASS/add_2_grad/Reshape_1&quot;\\n  op: &quot;Reshape&quot;\\n  input: &quot;FULL_BACK_PASS/GRADIENTS/FULL_FORWARD_PASS/add_2_grad/Sum_1&quot;\\n  input: &quot;FULL_BACK_PASS/GRADIENTS/FULL_FORWARD_PASS/add_2_grad/Shape_1&quot;\\n  attr {\\n    key: &quot;T&quot;\\n    value {\\n      type: DT_FLOAT\\n    }\\n  }\\n  attr {\\n    key: &quot;Tshape&quot;\\n    value {\\n      type: DT_INT32\\n    }\\n  }\\n}\\nnode {\\n  name: &quot;FULL_BACK_PASS/GRADIENTS/FULL_FORWARD_PASS/MatMul_2_grad/MatMul&quot;\\n  op: &quot;MatMul&quot;\\n  input: &quot;FULL_BACK_PASS/GRADIENTS/FULL_FORWARD_PASS/add_2_grad/Reshape&quot;\\n  input: &quot;W3/read&quot;\\n  attr {\\n    key: &quot;T&quot;\\n    value {\\n      type: DT_FLOAT\\n    }\\n  }\\n  attr {\\n    key: &quot;transpose_a&quot;\\n    value {\\n      b: false\\n    }\\n  }\\n  attr {\\n    key: &quot;transpose_b&quot;\\n    value {\\n      b: true\\n    }\\n  }\\n}\\nnode {\\n  name: &quot;FULL_BACK_PASS/GRADIENTS/FULL_FORWARD_PASS/MatMul_2_grad/MatMul_1&quot;\\n  op: &quot;MatMul&quot;\\n  input: &quot;FULL_FORWARD_PASS/Relu_1&quot;\\n  input: &quot;FULL_BACK_PASS/GRADIENTS/FULL_FORWARD_PASS/add_2_grad/Reshape&quot;\\n  attr {\\n    key: &quot;T&quot;\\n    value {\\n      type: DT_FLOAT\\n    }\\n  }\\n  attr {\\n    key: &quot;transpose_a&quot;\\n    value {\\n      b: true\\n    }\\n  }\\n  attr {\\n    key: &quot;transpose_b&quot;\\n    value {\\n      b: false\\n    }\\n  }\\n}\\nnode {\\n  name: &quot;FULL_BACK_PASS/GRADIENTS/AddN_6&quot;\\n  op: &quot;AddN&quot;\\n  input: &quot;FULL_BACK_PASS/GRADIENTS/B3/Regularizer/l2_regularizer/L2Loss_grad/mul&quot;\\n  input: &quot;FULL_BACK_PASS/GRADIENTS/FULL_FORWARD_PASS/add_2_grad/Reshape_1&quot;\\n  attr {\\n    key: &quot;N&quot;\\n    value {\\n      i: 2\\n    }\\n  }\\n  attr {\\n    key: &quot;T&quot;\\n    value {\\n      type: DT_FLOAT\\n    }\\n  }\\n  attr {\\n    key: &quot;_class&quot;\\n    value {\\n      list {\\n        s: &quot;loc:@FULL_BACK_PASS/GRADIENTS/B3/Regularizer/l2_regularizer/L2Loss_grad/mul&quot;\\n      }\\n    }\\n  }\\n}\\nnode {\\n  name: &quot;FULL_BACK_PASS/GRADIENTS/FULL_FORWARD_PASS/Relu_1_grad/ReluGrad&quot;\\n  op: &quot;ReluGrad&quot;\\n  input: &quot;FULL_BACK_PASS/GRADIENTS/FULL_FORWARD_PASS/MatMul_2_grad/MatMul&quot;\\n  input: &quot;FULL_FORWARD_PASS/Relu_1&quot;\\n  attr {\\n    key: &quot;T&quot;\\n    value {\\n      type: DT_FLOAT\\n    }\\n  }\\n}\\nnode {\\n  name: &quot;FULL_BACK_PASS/GRADIENTS/AddN_7&quot;\\n  op: &quot;AddN&quot;\\n  input: &quot;FULL_BACK_PASS/GRADIENTS/W3/Regularizer/l2_regularizer/L2Loss_grad/mul&quot;\\n  input: &quot;FULL_BACK_PASS/GRADIENTS/FULL_FORWARD_PASS/MatMul_2_grad/MatMul_1&quot;\\n  attr {\\n    key: &quot;N&quot;\\n    value {\\n      i: 2\\n    }\\n  }\\n  attr {\\n    key: &quot;T&quot;\\n    value {\\n      type: DT_FLOAT\\n    }\\n  }\\n  attr {\\n    key: &quot;_class&quot;\\n    value {\\n      list {\\n        s: &quot;loc:@FULL_BACK_PASS/GRADIENTS/W3/Regularizer/l2_regularizer/L2Loss_grad/mul&quot;\\n      }\\n    }\\n  }\\n}\\nnode {\\n  name: &quot;FULL_BACK_PASS/GRADIENTS/FULL_FORWARD_PASS/add_1_grad/Shape&quot;\\n  op: &quot;Shape&quot;\\n  input: &quot;FULL_FORWARD_PASS/MatMul_1&quot;\\n  attr {\\n    key: &quot;T&quot;\\n    value {\\n      type: DT_FLOAT\\n    }\\n  }\\n  attr {\\n    key: &quot;out_type&quot;\\n    value {\\n      type: DT_INT32\\n    }\\n  }\\n}\\nnode {\\n  name: &quot;FULL_BACK_PASS/GRADIENTS/FULL_FORWARD_PASS/add_1_grad/Shape_1&quot;\\n  op: &quot;Const&quot;\\n  attr {\\n    key: &quot;dtype&quot;\\n    value {\\n      type: DT_INT32\\n    }\\n  }\\n  attr {\\n    key: &quot;value&quot;\\n    value {\\n      tensor {\\n        dtype: DT_INT32\\n        tensor_shape {\\n          dim {\\n            size: 1\\n          }\\n        }\\n        int_val: 12\\n      }\\n    }\\n  }\\n}\\nnode {\\n  name: &quot;FULL_BACK_PASS/GRADIENTS/FULL_FORWARD_PASS/add_1_grad/BroadcastGradientArgs&quot;\\n  op: &quot;BroadcastGradientArgs&quot;\\n  input: &quot;FULL_BACK_PASS/GRADIENTS/FULL_FORWARD_PASS/add_1_grad/Shape&quot;\\n  input: &quot;FULL_BACK_PASS/GRADIENTS/FULL_FORWARD_PASS/add_1_grad/Shape_1&quot;\\n  attr {\\n    key: &quot;T&quot;\\n    value {\\n      type: DT_INT32\\n    }\\n  }\\n}\\nnode {\\n  name: &quot;FULL_BACK_PASS/GRADIENTS/FULL_FORWARD_PASS/add_1_grad/Sum&quot;\\n  op: &quot;Sum&quot;\\n  input: &quot;FULL_BACK_PASS/GRADIENTS/FULL_FORWARD_PASS/Relu_1_grad/ReluGrad&quot;\\n  input: &quot;FULL_BACK_PASS/GRADIENTS/FULL_FORWARD_PASS/add_1_grad/BroadcastGradientArgs&quot;\\n  attr {\\n    key: &quot;T&quot;\\n    value {\\n      type: DT_FLOAT\\n    }\\n  }\\n  attr {\\n    key: &quot;Tidx&quot;\\n    value {\\n      type: DT_INT32\\n    }\\n  }\\n  attr {\\n    key: &quot;keep_dims&quot;\\n    value {\\n      b: false\\n    }\\n  }\\n}\\nnode {\\n  name: &quot;FULL_BACK_PASS/GRADIENTS/FULL_FORWARD_PASS/add_1_grad/Reshape&quot;\\n  op: &quot;Reshape&quot;\\n  input: &quot;FULL_BACK_PASS/GRADIENTS/FULL_FORWARD_PASS/add_1_grad/Sum&quot;\\n  input: &quot;FULL_BACK_PASS/GRADIENTS/FULL_FORWARD_PASS/add_1_grad/Shape&quot;\\n  attr {\\n    key: &quot;T&quot;\\n    value {\\n      type: DT_FLOAT\\n    }\\n  }\\n  attr {\\n    key: &quot;Tshape&quot;\\n    value {\\n      type: DT_INT32\\n    }\\n  }\\n}\\nnode {\\n  name: &quot;FULL_BACK_PASS/GRADIENTS/FULL_FORWARD_PASS/add_1_grad/Sum_1&quot;\\n  op: &quot;Sum&quot;\\n  input: &quot;FULL_BACK_PASS/GRADIENTS/FULL_FORWARD_PASS/Relu_1_grad/ReluGrad&quot;\\n  input: &quot;FULL_BACK_PASS/GRADIENTS/FULL_FORWARD_PASS/add_1_grad/BroadcastGradientArgs:1&quot;\\n  attr {\\n    key: &quot;T&quot;\\n    value {\\n      type: DT_FLOAT\\n    }\\n  }\\n  attr {\\n    key: &quot;Tidx&quot;\\n    value {\\n      type: DT_INT32\\n    }\\n  }\\n  attr {\\n    key: &quot;keep_dims&quot;\\n    value {\\n      b: false\\n    }\\n  }\\n}\\nnode {\\n  name: &quot;FULL_BACK_PASS/GRADIENTS/FULL_FORWARD_PASS/add_1_grad/Reshape_1&quot;\\n  op: &quot;Reshape&quot;\\n  input: &quot;FULL_BACK_PASS/GRADIENTS/FULL_FORWARD_PASS/add_1_grad/Sum_1&quot;\\n  input: &quot;FULL_BACK_PASS/GRADIENTS/FULL_FORWARD_PASS/add_1_grad/Shape_1&quot;\\n  attr {\\n    key: &quot;T&quot;\\n    value {\\n      type: DT_FLOAT\\n    }\\n  }\\n  attr {\\n    key: &quot;Tshape&quot;\\n    value {\\n      type: DT_INT32\\n    }\\n  }\\n}\\nnode {\\n  name: &quot;FULL_BACK_PASS/GRADIENTS/FULL_FORWARD_PASS/MatMul_1_grad/MatMul&quot;\\n  op: &quot;MatMul&quot;\\n  input: &quot;FULL_BACK_PASS/GRADIENTS/FULL_FORWARD_PASS/add_1_grad/Reshape&quot;\\n  input: &quot;W2/read&quot;\\n  attr {\\n    key: &quot;T&quot;\\n    value {\\n      type: DT_FLOAT\\n    }\\n  }\\n  attr {\\n    key: &quot;transpose_a&quot;\\n    value {\\n      b: false\\n    }\\n  }\\n  attr {\\n    key: &quot;transpose_b&quot;\\n    value {\\n      b: true\\n    }\\n  }\\n}\\nnode {\\n  name: &quot;FULL_BACK_PASS/GRADIENTS/FULL_FORWARD_PASS/MatMul_1_grad/MatMul_1&quot;\\n  op: &quot;MatMul&quot;\\n  input: &quot;FULL_FORWARD_PASS/Relu&quot;\\n  input: &quot;FULL_BACK_PASS/GRADIENTS/FULL_FORWARD_PASS/add_1_grad/Reshape&quot;\\n  attr {\\n    key: &quot;T&quot;\\n    value {\\n      type: DT_FLOAT\\n    }\\n  }\\n  attr {\\n    key: &quot;transpose_a&quot;\\n    value {\\n      b: true\\n    }\\n  }\\n  attr {\\n    key: &quot;transpose_b&quot;\\n    value {\\n      b: false\\n    }\\n  }\\n}\\nnode {\\n  name: &quot;FULL_BACK_PASS/GRADIENTS/AddN_8&quot;\\n  op: &quot;AddN&quot;\\n  input: &quot;FULL_BACK_PASS/GRADIENTS/B2/Regularizer/l2_regularizer/L2Loss_grad/mul&quot;\\n  input: &quot;FULL_BACK_PASS/GRADIENTS/FULL_FORWARD_PASS/add_1_grad/Reshape_1&quot;\\n  attr {\\n    key: &quot;N&quot;\\n    value {\\n      i: 2\\n    }\\n  }\\n  attr {\\n    key: &quot;T&quot;\\n    value {\\n      type: DT_FLOAT\\n    }\\n  }\\n  attr {\\n    key: &quot;_class&quot;\\n    value {\\n      list {\\n        s: &quot;loc:@FULL_BACK_PASS/GRADIENTS/B2/Regularizer/l2_regularizer/L2Loss_grad/mul&quot;\\n      }\\n    }\\n  }\\n}\\nnode {\\n  name: &quot;FULL_BACK_PASS/GRADIENTS/FULL_FORWARD_PASS/Relu_grad/ReluGrad&quot;\\n  op: &quot;ReluGrad&quot;\\n  input: &quot;FULL_BACK_PASS/GRADIENTS/FULL_FORWARD_PASS/MatMul_1_grad/MatMul&quot;\\n  input: &quot;FULL_FORWARD_PASS/Relu&quot;\\n  attr {\\n    key: &quot;T&quot;\\n    value {\\n      type: DT_FLOAT\\n    }\\n  }\\n}\\nnode {\\n  name: &quot;FULL_BACK_PASS/GRADIENTS/AddN_9&quot;\\n  op: &quot;AddN&quot;\\n  input: &quot;FULL_BACK_PASS/GRADIENTS/W2/Regularizer/l2_regularizer/L2Loss_grad/mul&quot;\\n  input: &quot;FULL_BACK_PASS/GRADIENTS/FULL_FORWARD_PASS/MatMul_1_grad/MatMul_1&quot;\\n  attr {\\n    key: &quot;N&quot;\\n    value {\\n      i: 2\\n    }\\n  }\\n  attr {\\n    key: &quot;T&quot;\\n    value {\\n      type: DT_FLOAT\\n    }\\n  }\\n  attr {\\n    key: &quot;_class&quot;\\n    value {\\n      list {\\n        s: &quot;loc:@FULL_BACK_PASS/GRADIENTS/W2/Regularizer/l2_regularizer/L2Loss_grad/mul&quot;\\n      }\\n    }\\n  }\\n}\\nnode {\\n  name: &quot;FULL_BACK_PASS/GRADIENTS/FULL_FORWARD_PASS/add_grad/Shape&quot;\\n  op: &quot;Shape&quot;\\n  input: &quot;FULL_FORWARD_PASS/MatMul&quot;\\n  attr {\\n    key: &quot;T&quot;\\n    value {\\n      type: DT_FLOAT\\n    }\\n  }\\n  attr {\\n    key: &quot;out_type&quot;\\n    value {\\n      type: DT_INT32\\n    }\\n  }\\n}\\nnode {\\n  name: &quot;FULL_BACK_PASS/GRADIENTS/FULL_FORWARD_PASS/add_grad/Shape_1&quot;\\n  op: &quot;Const&quot;\\n  attr {\\n    key: &quot;dtype&quot;\\n    value {\\n      type: DT_INT32\\n    }\\n  }\\n  attr {\\n    key: &quot;value&quot;\\n    value {\\n      tensor {\\n        dtype: DT_INT32\\n        tensor_shape {\\n          dim {\\n            size: 1\\n          }\\n        }\\n        int_val: 24\\n      }\\n    }\\n  }\\n}\\nnode {\\n  name: &quot;FULL_BACK_PASS/GRADIENTS/FULL_FORWARD_PASS/add_grad/BroadcastGradientArgs&quot;\\n  op: &quot;BroadcastGradientArgs&quot;\\n  input: &quot;FULL_BACK_PASS/GRADIENTS/FULL_FORWARD_PASS/add_grad/Shape&quot;\\n  input: &quot;FULL_BACK_PASS/GRADIENTS/FULL_FORWARD_PASS/add_grad/Shape_1&quot;\\n  attr {\\n    key: &quot;T&quot;\\n    value {\\n      type: DT_INT32\\n    }\\n  }\\n}\\nnode {\\n  name: &quot;FULL_BACK_PASS/GRADIENTS/FULL_FORWARD_PASS/add_grad/Sum&quot;\\n  op: &quot;Sum&quot;\\n  input: &quot;FULL_BACK_PASS/GRADIENTS/FULL_FORWARD_PASS/Relu_grad/ReluGrad&quot;\\n  input: &quot;FULL_BACK_PASS/GRADIENTS/FULL_FORWARD_PASS/add_grad/BroadcastGradientArgs&quot;\\n  attr {\\n    key: &quot;T&quot;\\n    value {\\n      type: DT_FLOAT\\n    }\\n  }\\n  attr {\\n    key: &quot;Tidx&quot;\\n    value {\\n      type: DT_INT32\\n    }\\n  }\\n  attr {\\n    key: &quot;keep_dims&quot;\\n    value {\\n      b: false\\n    }\\n  }\\n}\\nnode {\\n  name: &quot;FULL_BACK_PASS/GRADIENTS/FULL_FORWARD_PASS/add_grad/Reshape&quot;\\n  op: &quot;Reshape&quot;\\n  input: &quot;FULL_BACK_PASS/GRADIENTS/FULL_FORWARD_PASS/add_grad/Sum&quot;\\n  input: &quot;FULL_BACK_PASS/GRADIENTS/FULL_FORWARD_PASS/add_grad/Shape&quot;\\n  attr {\\n    key: &quot;T&quot;\\n    value {\\n      type: DT_FLOAT\\n    }\\n  }\\n  attr {\\n    key: &quot;Tshape&quot;\\n    value {\\n      type: DT_INT32\\n    }\\n  }\\n}\\nnode {\\n  name: &quot;FULL_BACK_PASS/GRADIENTS/FULL_FORWARD_PASS/add_grad/Sum_1&quot;\\n  op: &quot;Sum&quot;\\n  input: &quot;FULL_BACK_PASS/GRADIENTS/FULL_FORWARD_PASS/Relu_grad/ReluGrad&quot;\\n  input: &quot;FULL_BACK_PASS/GRADIENTS/FULL_FORWARD_PASS/add_grad/BroadcastGradientArgs:1&quot;\\n  attr {\\n    key: &quot;T&quot;\\n    value {\\n      type: DT_FLOAT\\n    }\\n  }\\n  attr {\\n    key: &quot;Tidx&quot;\\n    value {\\n      type: DT_INT32\\n    }\\n  }\\n  attr {\\n    key: &quot;keep_dims&quot;\\n    value {\\n      b: false\\n    }\\n  }\\n}\\nnode {\\n  name: &quot;FULL_BACK_PASS/GRADIENTS/FULL_FORWARD_PASS/add_grad/Reshape_1&quot;\\n  op: &quot;Reshape&quot;\\n  input: &quot;FULL_BACK_PASS/GRADIENTS/FULL_FORWARD_PASS/add_grad/Sum_1&quot;\\n  input: &quot;FULL_BACK_PASS/GRADIENTS/FULL_FORWARD_PASS/add_grad/Shape_1&quot;\\n  attr {\\n    key: &quot;T&quot;\\n    value {\\n      type: DT_FLOAT\\n    }\\n  }\\n  attr {\\n    key: &quot;Tshape&quot;\\n    value {\\n      type: DT_INT32\\n    }\\n  }\\n}\\nnode {\\n  name: &quot;FULL_BACK_PASS/GRADIENTS/FULL_FORWARD_PASS/MatMul_grad/MatMul&quot;\\n  op: &quot;MatMul&quot;\\n  input: &quot;FULL_BACK_PASS/GRADIENTS/FULL_FORWARD_PASS/add_grad/Reshape&quot;\\n  input: &quot;W1/read&quot;\\n  attr {\\n    key: &quot;T&quot;\\n    value {\\n      type: DT_FLOAT\\n    }\\n  }\\n  attr {\\n    key: &quot;transpose_a&quot;\\n    value {\\n      b: false\\n    }\\n  }\\n  attr {\\n    key: &quot;transpose_b&quot;\\n    value {\\n      b: true\\n    }\\n  }\\n}\\nnode {\\n  name: &quot;FULL_BACK_PASS/GRADIENTS/FULL_FORWARD_PASS/MatMul_grad/MatMul_1&quot;\\n  op: &quot;MatMul&quot;\\n  input: &quot;INPUT_PIPELINE/IteratorGetNext&quot;\\n  input: &quot;FULL_BACK_PASS/GRADIENTS/FULL_FORWARD_PASS/add_grad/Reshape&quot;\\n  attr {\\n    key: &quot;T&quot;\\n    value {\\n      type: DT_FLOAT\\n    }\\n  }\\n  attr {\\n    key: &quot;transpose_a&quot;\\n    value {\\n      b: true\\n    }\\n  }\\n  attr {\\n    key: &quot;transpose_b&quot;\\n    value {\\n      b: false\\n    }\\n  }\\n}\\nnode {\\n  name: &quot;FULL_BACK_PASS/GRADIENTS/AddN_10&quot;\\n  op: &quot;AddN&quot;\\n  input: &quot;FULL_BACK_PASS/GRADIENTS/B1/Regularizer/l2_regularizer/L2Loss_grad/mul&quot;\\n  input: &quot;FULL_BACK_PASS/GRADIENTS/FULL_FORWARD_PASS/add_grad/Reshape_1&quot;\\n  attr {\\n    key: &quot;N&quot;\\n    value {\\n      i: 2\\n    }\\n  }\\n  attr {\\n    key: &quot;T&quot;\\n    value {\\n      type: DT_FLOAT\\n    }\\n  }\\n  attr {\\n    key: &quot;_class&quot;\\n    value {\\n      list {\\n        s: &quot;loc:@FULL_BACK_PASS/GRADIENTS/B1/Regularizer/l2_regularizer/L2Loss_grad/mul&quot;\\n      }\\n    }\\n  }\\n}\\nnode {\\n  name: &quot;FULL_BACK_PASS/GRADIENTS/AddN_11&quot;\\n  op: &quot;AddN&quot;\\n  input: &quot;FULL_BACK_PASS/GRADIENTS/W1/Regularizer/l2_regularizer/L2Loss_grad/mul&quot;\\n  input: &quot;FULL_BACK_PASS/GRADIENTS/FULL_FORWARD_PASS/MatMul_grad/MatMul_1&quot;\\n  attr {\\n    key: &quot;N&quot;\\n    value {\\n      i: 2\\n    }\\n  }\\n  attr {\\n    key: &quot;T&quot;\\n    value {\\n      type: DT_FLOAT\\n    }\\n  }\\n  attr {\\n    key: &quot;_class&quot;\\n    value {\\n      list {\\n        s: &quot;loc:@FULL_BACK_PASS/GRADIENTS/W1/Regularizer/l2_regularizer/L2Loss_grad/mul&quot;\\n      }\\n    }\\n  }\\n}\\nnode {\\n  name: &quot;W1/RMSPROP/Initializer/ones&quot;\\n  op: &quot;Const&quot;\\n  attr {\\n    key: &quot;_class&quot;\\n    value {\\n      list {\\n        s: &quot;loc:@W1&quot;\\n      }\\n    }\\n  }\\n  attr {\\n    key: &quot;dtype&quot;\\n    value {\\n      type: DT_FLOAT\\n    }\\n  }\\n  attr {\\n    key: &quot;value&quot;\\n    value {\\n      tensor {\\n        dtype: DT_FLOAT\\n        tensor_shape {\\n          dim {\\n            size: 29\\n          }\\n          dim {\\n            size: 24\\n          }\\n        }\\n        float_val: 1.0\\n      }\\n    }\\n  }\\n}\\nnode {\\n  name: &quot;W1/RMSPROP&quot;\\n  op: &quot;VariableV2&quot;\\n  attr {\\n    key: &quot;_class&quot;\\n    value {\\n      list {\\n        s: &quot;loc:@W1&quot;\\n      }\\n    }\\n  }\\n  attr {\\n    key: &quot;container&quot;\\n    value {\\n      s: &quot;&quot;\\n    }\\n  }\\n  attr {\\n    key: &quot;dtype&quot;\\n    value {\\n      type: DT_FLOAT\\n    }\\n  }\\n  attr {\\n    key: &quot;shape&quot;\\n    value {\\n      shape {\\n        dim {\\n          size: 29\\n        }\\n        dim {\\n          size: 24\\n        }\\n      }\\n    }\\n  }\\n  attr {\\n    key: &quot;shared_name&quot;\\n    value {\\n      s: &quot;&quot;\\n    }\\n  }\\n}\\nnode {\\n  name: &quot;W1/RMSPROP/Assign&quot;\\n  op: &quot;Assign&quot;\\n  input: &quot;W1/RMSPROP&quot;\\n  input: &quot;W1/RMSPROP/Initializer/ones&quot;\\n  attr {\\n    key: &quot;T&quot;\\n    value {\\n      type: DT_FLOAT\\n    }\\n  }\\n  attr {\\n    key: &quot;_class&quot;\\n    value {\\n      list {\\n        s: &quot;loc:@W1&quot;\\n      }\\n    }\\n  }\\n  attr {\\n    key: &quot;use_locking&quot;\\n    value {\\n      b: true\\n    }\\n  }\\n  attr {\\n    key: &quot;validate_shape&quot;\\n    value {\\n      b: true\\n    }\\n  }\\n}\\nnode {\\n  name: &quot;W1/RMSPROP/read&quot;\\n  op: &quot;Identity&quot;\\n  input: &quot;W1/RMSPROP&quot;\\n  attr {\\n    key: &quot;T&quot;\\n    value {\\n      type: DT_FLOAT\\n    }\\n  }\\n  attr {\\n    key: &quot;_class&quot;\\n    value {\\n      list {\\n        s: &quot;loc:@W1&quot;\\n      }\\n    }\\n  }\\n}\\nnode {\\n  name: &quot;W1/RMSPROP_1/Initializer/zeros&quot;\\n  op: &quot;Const&quot;\\n  attr {\\n    key: &quot;_class&quot;\\n    value {\\n      list {\\n        s: &quot;loc:@W1&quot;\\n      }\\n    }\\n  }\\n  attr {\\n    key: &quot;dtype&quot;\\n    value {\\n      type: DT_FLOAT\\n    }\\n  }\\n  attr {\\n    key: &quot;value&quot;\\n    value {\\n      tensor {\\n        dtype: DT_FLOAT\\n        tensor_shape {\\n          dim {\\n            size: 29\\n          }\\n          dim {\\n            size: 24\\n          }\\n        }\\n        float_val: 0.0\\n      }\\n    }\\n  }\\n}\\nnode {\\n  name: &quot;W1/RMSPROP_1&quot;\\n  op: &quot;VariableV2&quot;\\n  attr {\\n    key: &quot;_class&quot;\\n    value {\\n      list {\\n        s: &quot;loc:@W1&quot;\\n      }\\n    }\\n  }\\n  attr {\\n    key: &quot;container&quot;\\n    value {\\n      s: &quot;&quot;\\n    }\\n  }\\n  attr {\\n    key: &quot;dtype&quot;\\n    value {\\n      type: DT_FLOAT\\n    }\\n  }\\n  attr {\\n    key: &quot;shape&quot;\\n    value {\\n      shape {\\n        dim {\\n          size: 29\\n        }\\n        dim {\\n          size: 24\\n        }\\n      }\\n    }\\n  }\\n  attr {\\n    key: &quot;shared_name&quot;\\n    value {\\n      s: &quot;&quot;\\n    }\\n  }\\n}\\nnode {\\n  name: &quot;W1/RMSPROP_1/Assign&quot;\\n  op: &quot;Assign&quot;\\n  input: &quot;W1/RMSPROP_1&quot;\\n  input: &quot;W1/RMSPROP_1/Initializer/zeros&quot;\\n  attr {\\n    key: &quot;T&quot;\\n    value {\\n      type: DT_FLOAT\\n    }\\n  }\\n  attr {\\n    key: &quot;_class&quot;\\n    value {\\n      list {\\n        s: &quot;loc:@W1&quot;\\n      }\\n    }\\n  }\\n  attr {\\n    key: &quot;use_locking&quot;\\n    value {\\n      b: true\\n    }\\n  }\\n  attr {\\n    key: &quot;validate_shape&quot;\\n    value {\\n      b: true\\n    }\\n  }\\n}\\nnode {\\n  name: &quot;W1/RMSPROP_1/read&quot;\\n  op: &quot;Identity&quot;\\n  input: &quot;W1/RMSPROP_1&quot;\\n  attr {\\n    key: &quot;T&quot;\\n    value {\\n      type: DT_FLOAT\\n    }\\n  }\\n  attr {\\n    key: &quot;_class&quot;\\n    value {\\n      list {\\n        s: &quot;loc:@W1&quot;\\n      }\\n    }\\n  }\\n}\\nnode {\\n  name: &quot;B1/RMSPROP/Initializer/ones&quot;\\n  op: &quot;Const&quot;\\n  attr {\\n    key: &quot;_class&quot;\\n    value {\\n      list {\\n        s: &quot;loc:@B1&quot;\\n      }\\n    }\\n  }\\n  attr {\\n    key: &quot;dtype&quot;\\n    value {\\n      type: DT_FLOAT\\n    }\\n  }\\n  attr {\\n    key: &quot;value&quot;\\n    value {\\n      tensor {\\n        dtype: DT_FLOAT\\n        tensor_shape {\\n          dim {\\n            size: 24\\n          }\\n        }\\n        float_val: 1.0\\n      }\\n    }\\n  }\\n}\\nnode {\\n  name: &quot;B1/RMSPROP&quot;\\n  op: &quot;VariableV2&quot;\\n  attr {\\n    key: &quot;_class&quot;\\n    value {\\n      list {\\n        s: &quot;loc:@B1&quot;\\n      }\\n    }\\n  }\\n  attr {\\n    key: &quot;container&quot;\\n    value {\\n      s: &quot;&quot;\\n    }\\n  }\\n  attr {\\n    key: &quot;dtype&quot;\\n    value {\\n      type: DT_FLOAT\\n    }\\n  }\\n  attr {\\n    key: &quot;shape&quot;\\n    value {\\n      shape {\\n        dim {\\n          size: 24\\n        }\\n      }\\n    }\\n  }\\n  attr {\\n    key: &quot;shared_name&quot;\\n    value {\\n      s: &quot;&quot;\\n    }\\n  }\\n}\\nnode {\\n  name: &quot;B1/RMSPROP/Assign&quot;\\n  op: &quot;Assign&quot;\\n  input: &quot;B1/RMSPROP&quot;\\n  input: &quot;B1/RMSPROP/Initializer/ones&quot;\\n  attr {\\n    key: &quot;T&quot;\\n    value {\\n      type: DT_FLOAT\\n    }\\n  }\\n  attr {\\n    key: &quot;_class&quot;\\n    value {\\n      list {\\n        s: &quot;loc:@B1&quot;\\n      }\\n    }\\n  }\\n  attr {\\n    key: &quot;use_locking&quot;\\n    value {\\n      b: true\\n    }\\n  }\\n  attr {\\n    key: &quot;validate_shape&quot;\\n    value {\\n      b: true\\n    }\\n  }\\n}\\nnode {\\n  name: &quot;B1/RMSPROP/read&quot;\\n  op: &quot;Identity&quot;\\n  input: &quot;B1/RMSPROP&quot;\\n  attr {\\n    key: &quot;T&quot;\\n    value {\\n      type: DT_FLOAT\\n    }\\n  }\\n  attr {\\n    key: &quot;_class&quot;\\n    value {\\n      list {\\n        s: &quot;loc:@B1&quot;\\n      }\\n    }\\n  }\\n}\\nnode {\\n  name: &quot;B1/RMSPROP_1/Initializer/zeros&quot;\\n  op: &quot;Const&quot;\\n  attr {\\n    key: &quot;_class&quot;\\n    value {\\n      list {\\n        s: &quot;loc:@B1&quot;\\n      }\\n    }\\n  }\\n  attr {\\n    key: &quot;dtype&quot;\\n    value {\\n      type: DT_FLOAT\\n    }\\n  }\\n  attr {\\n    key: &quot;value&quot;\\n    value {\\n      tensor {\\n        dtype: DT_FLOAT\\n        tensor_shape {\\n          dim {\\n            size: 24\\n          }\\n        }\\n        float_val: 0.0\\n      }\\n    }\\n  }\\n}\\nnode {\\n  name: &quot;B1/RMSPROP_1&quot;\\n  op: &quot;VariableV2&quot;\\n  attr {\\n    key: &quot;_class&quot;\\n    value {\\n      list {\\n        s: &quot;loc:@B1&quot;\\n      }\\n    }\\n  }\\n  attr {\\n    key: &quot;container&quot;\\n    value {\\n      s: &quot;&quot;\\n    }\\n  }\\n  attr {\\n    key: &quot;dtype&quot;\\n    value {\\n      type: DT_FLOAT\\n    }\\n  }\\n  attr {\\n    key: &quot;shape&quot;\\n    value {\\n      shape {\\n        dim {\\n          size: 24\\n        }\\n      }\\n    }\\n  }\\n  attr {\\n    key: &quot;shared_name&quot;\\n    value {\\n      s: &quot;&quot;\\n    }\\n  }\\n}\\nnode {\\n  name: &quot;B1/RMSPROP_1/Assign&quot;\\n  op: &quot;Assign&quot;\\n  input: &quot;B1/RMSPROP_1&quot;\\n  input: &quot;B1/RMSPROP_1/Initializer/zeros&quot;\\n  attr {\\n    key: &quot;T&quot;\\n    value {\\n      type: DT_FLOAT\\n    }\\n  }\\n  attr {\\n    key: &quot;_class&quot;\\n    value {\\n      list {\\n        s: &quot;loc:@B1&quot;\\n      }\\n    }\\n  }\\n  attr {\\n    key: &quot;use_locking&quot;\\n    value {\\n      b: true\\n    }\\n  }\\n  attr {\\n    key: &quot;validate_shape&quot;\\n    value {\\n      b: true\\n    }\\n  }\\n}\\nnode {\\n  name: &quot;B1/RMSPROP_1/read&quot;\\n  op: &quot;Identity&quot;\\n  input: &quot;B1/RMSPROP_1&quot;\\n  attr {\\n    key: &quot;T&quot;\\n    value {\\n      type: DT_FLOAT\\n    }\\n  }\\n  attr {\\n    key: &quot;_class&quot;\\n    value {\\n      list {\\n        s: &quot;loc:@B1&quot;\\n      }\\n    }\\n  }\\n}\\nnode {\\n  name: &quot;W2/RMSPROP/Initializer/ones&quot;\\n  op: &quot;Const&quot;\\n  attr {\\n    key: &quot;_class&quot;\\n    value {\\n      list {\\n        s: &quot;loc:@W2&quot;\\n      }\\n    }\\n  }\\n  attr {\\n    key: &quot;dtype&quot;\\n    value {\\n      type: DT_FLOAT\\n    }\\n  }\\n  attr {\\n    key: &quot;value&quot;\\n    value {\\n      tensor {\\n        dtype: DT_FLOAT\\n        tensor_shape {\\n          dim {\\n            size: 24\\n          }\\n          dim {\\n            size: 12\\n          }\\n        }\\n        float_val: 1.0\\n      }\\n    }\\n  }\\n}\\nnode {\\n  name: &quot;W2/RMSPROP&quot;\\n  op: &quot;VariableV2&quot;\\n  attr {\\n    key: &quot;_class&quot;\\n    value {\\n      list {\\n        s: &quot;loc:@W2&quot;\\n      }\\n    }\\n  }\\n  attr {\\n    key: &quot;container&quot;\\n    value {\\n      s: &quot;&quot;\\n    }\\n  }\\n  attr {\\n    key: &quot;dtype&quot;\\n    value {\\n      type: DT_FLOAT\\n    }\\n  }\\n  attr {\\n    key: &quot;shape&quot;\\n    value {\\n      shape {\\n        dim {\\n          size: 24\\n        }\\n        dim {\\n          size: 12\\n        }\\n      }\\n    }\\n  }\\n  attr {\\n    key: &quot;shared_name&quot;\\n    value {\\n      s: &quot;&quot;\\n    }\\n  }\\n}\\nnode {\\n  name: &quot;W2/RMSPROP/Assign&quot;\\n  op: &quot;Assign&quot;\\n  input: &quot;W2/RMSPROP&quot;\\n  input: &quot;W2/RMSPROP/Initializer/ones&quot;\\n  attr {\\n    key: &quot;T&quot;\\n    value {\\n      type: DT_FLOAT\\n    }\\n  }\\n  attr {\\n    key: &quot;_class&quot;\\n    value {\\n      list {\\n        s: &quot;loc:@W2&quot;\\n      }\\n    }\\n  }\\n  attr {\\n    key: &quot;use_locking&quot;\\n    value {\\n      b: true\\n    }\\n  }\\n  attr {\\n    key: &quot;validate_shape&quot;\\n    value {\\n      b: true\\n    }\\n  }\\n}\\nnode {\\n  name: &quot;W2/RMSPROP/read&quot;\\n  op: &quot;Identity&quot;\\n  input: &quot;W2/RMSPROP&quot;\\n  attr {\\n    key: &quot;T&quot;\\n    value {\\n      type: DT_FLOAT\\n    }\\n  }\\n  attr {\\n    key: &quot;_class&quot;\\n    value {\\n      list {\\n        s: &quot;loc:@W2&quot;\\n      }\\n    }\\n  }\\n}\\nnode {\\n  name: &quot;W2/RMSPROP_1/Initializer/zeros&quot;\\n  op: &quot;Const&quot;\\n  attr {\\n    key: &quot;_class&quot;\\n    value {\\n      list {\\n        s: &quot;loc:@W2&quot;\\n      }\\n    }\\n  }\\n  attr {\\n    key: &quot;dtype&quot;\\n    value {\\n      type: DT_FLOAT\\n    }\\n  }\\n  attr {\\n    key: &quot;value&quot;\\n    value {\\n      tensor {\\n        dtype: DT_FLOAT\\n        tensor_shape {\\n          dim {\\n            size: 24\\n          }\\n          dim {\\n            size: 12\\n          }\\n        }\\n        float_val: 0.0\\n      }\\n    }\\n  }\\n}\\nnode {\\n  name: &quot;W2/RMSPROP_1&quot;\\n  op: &quot;VariableV2&quot;\\n  attr {\\n    key: &quot;_class&quot;\\n    value {\\n      list {\\n        s: &quot;loc:@W2&quot;\\n      }\\n    }\\n  }\\n  attr {\\n    key: &quot;container&quot;\\n    value {\\n      s: &quot;&quot;\\n    }\\n  }\\n  attr {\\n    key: &quot;dtype&quot;\\n    value {\\n      type: DT_FLOAT\\n    }\\n  }\\n  attr {\\n    key: &quot;shape&quot;\\n    value {\\n      shape {\\n        dim {\\n          size: 24\\n        }\\n        dim {\\n          size: 12\\n        }\\n      }\\n    }\\n  }\\n  attr {\\n    key: &quot;shared_name&quot;\\n    value {\\n      s: &quot;&quot;\\n    }\\n  }\\n}\\nnode {\\n  name: &quot;W2/RMSPROP_1/Assign&quot;\\n  op: &quot;Assign&quot;\\n  input: &quot;W2/RMSPROP_1&quot;\\n  input: &quot;W2/RMSPROP_1/Initializer/zeros&quot;\\n  attr {\\n    key: &quot;T&quot;\\n    value {\\n      type: DT_FLOAT\\n    }\\n  }\\n  attr {\\n    key: &quot;_class&quot;\\n    value {\\n      list {\\n        s: &quot;loc:@W2&quot;\\n      }\\n    }\\n  }\\n  attr {\\n    key: &quot;use_locking&quot;\\n    value {\\n      b: true\\n    }\\n  }\\n  attr {\\n    key: &quot;validate_shape&quot;\\n    value {\\n      b: true\\n    }\\n  }\\n}\\nnode {\\n  name: &quot;W2/RMSPROP_1/read&quot;\\n  op: &quot;Identity&quot;\\n  input: &quot;W2/RMSPROP_1&quot;\\n  attr {\\n    key: &quot;T&quot;\\n    value {\\n      type: DT_FLOAT\\n    }\\n  }\\n  attr {\\n    key: &quot;_class&quot;\\n    value {\\n      list {\\n        s: &quot;loc:@W2&quot;\\n      }\\n    }\\n  }\\n}\\nnode {\\n  name: &quot;B2/RMSPROP/Initializer/ones&quot;\\n  op: &quot;Const&quot;\\n  attr {\\n    key: &quot;_class&quot;\\n    value {\\n      list {\\n        s: &quot;loc:@B2&quot;\\n      }\\n    }\\n  }\\n  attr {\\n    key: &quot;dtype&quot;\\n    value {\\n      type: DT_FLOAT\\n    }\\n  }\\n  attr {\\n    key: &quot;value&quot;\\n    value {\\n      tensor {\\n        dtype: DT_FLOAT\\n        tensor_shape {\\n          dim {\\n            size: 12\\n          }\\n        }\\n        float_val: 1.0\\n      }\\n    }\\n  }\\n}\\nnode {\\n  name: &quot;B2/RMSPROP&quot;\\n  op: &quot;VariableV2&quot;\\n  attr {\\n    key: &quot;_class&quot;\\n    value {\\n      list {\\n        s: &quot;loc:@B2&quot;\\n      }\\n    }\\n  }\\n  attr {\\n    key: &quot;container&quot;\\n    value {\\n      s: &quot;&quot;\\n    }\\n  }\\n  attr {\\n    key: &quot;dtype&quot;\\n    value {\\n      type: DT_FLOAT\\n    }\\n  }\\n  attr {\\n    key: &quot;shape&quot;\\n    value {\\n      shape {\\n        dim {\\n          size: 12\\n        }\\n      }\\n    }\\n  }\\n  attr {\\n    key: &quot;shared_name&quot;\\n    value {\\n      s: &quot;&quot;\\n    }\\n  }\\n}\\nnode {\\n  name: &quot;B2/RMSPROP/Assign&quot;\\n  op: &quot;Assign&quot;\\n  input: &quot;B2/RMSPROP&quot;\\n  input: &quot;B2/RMSPROP/Initializer/ones&quot;\\n  attr {\\n    key: &quot;T&quot;\\n    value {\\n      type: DT_FLOAT\\n    }\\n  }\\n  attr {\\n    key: &quot;_class&quot;\\n    value {\\n      list {\\n        s: &quot;loc:@B2&quot;\\n      }\\n    }\\n  }\\n  attr {\\n    key: &quot;use_locking&quot;\\n    value {\\n      b: true\\n    }\\n  }\\n  attr {\\n    key: &quot;validate_shape&quot;\\n    value {\\n      b: true\\n    }\\n  }\\n}\\nnode {\\n  name: &quot;B2/RMSPROP/read&quot;\\n  op: &quot;Identity&quot;\\n  input: &quot;B2/RMSPROP&quot;\\n  attr {\\n    key: &quot;T&quot;\\n    value {\\n      type: DT_FLOAT\\n    }\\n  }\\n  attr {\\n    key: &quot;_class&quot;\\n    value {\\n      list {\\n        s: &quot;loc:@B2&quot;\\n      }\\n    }\\n  }\\n}\\nnode {\\n  name: &quot;B2/RMSPROP_1/Initializer/zeros&quot;\\n  op: &quot;Const&quot;\\n  attr {\\n    key: &quot;_class&quot;\\n    value {\\n      list {\\n        s: &quot;loc:@B2&quot;\\n      }\\n    }\\n  }\\n  attr {\\n    key: &quot;dtype&quot;\\n    value {\\n      type: DT_FLOAT\\n    }\\n  }\\n  attr {\\n    key: &quot;value&quot;\\n    value {\\n      tensor {\\n        dtype: DT_FLOAT\\n        tensor_shape {\\n          dim {\\n            size: 12\\n          }\\n        }\\n        float_val: 0.0\\n      }\\n    }\\n  }\\n}\\nnode {\\n  name: &quot;B2/RMSPROP_1&quot;\\n  op: &quot;VariableV2&quot;\\n  attr {\\n    key: &quot;_class&quot;\\n    value {\\n      list {\\n        s: &quot;loc:@B2&quot;\\n      }\\n    }\\n  }\\n  attr {\\n    key: &quot;container&quot;\\n    value {\\n      s: &quot;&quot;\\n    }\\n  }\\n  attr {\\n    key: &quot;dtype&quot;\\n    value {\\n      type: DT_FLOAT\\n    }\\n  }\\n  attr {\\n    key: &quot;shape&quot;\\n    value {\\n      shape {\\n        dim {\\n          size: 12\\n        }\\n      }\\n    }\\n  }\\n  attr {\\n    key: &quot;shared_name&quot;\\n    value {\\n      s: &quot;&quot;\\n    }\\n  }\\n}\\nnode {\\n  name: &quot;B2/RMSPROP_1/Assign&quot;\\n  op: &quot;Assign&quot;\\n  input: &quot;B2/RMSPROP_1&quot;\\n  input: &quot;B2/RMSPROP_1/Initializer/zeros&quot;\\n  attr {\\n    key: &quot;T&quot;\\n    value {\\n      type: DT_FLOAT\\n    }\\n  }\\n  attr {\\n    key: &quot;_class&quot;\\n    value {\\n      list {\\n        s: &quot;loc:@B2&quot;\\n      }\\n    }\\n  }\\n  attr {\\n    key: &quot;use_locking&quot;\\n    value {\\n      b: true\\n    }\\n  }\\n  attr {\\n    key: &quot;validate_shape&quot;\\n    value {\\n      b: true\\n    }\\n  }\\n}\\nnode {\\n  name: &quot;B2/RMSPROP_1/read&quot;\\n  op: &quot;Identity&quot;\\n  input: &quot;B2/RMSPROP_1&quot;\\n  attr {\\n    key: &quot;T&quot;\\n    value {\\n      type: DT_FLOAT\\n    }\\n  }\\n  attr {\\n    key: &quot;_class&quot;\\n    value {\\n      list {\\n        s: &quot;loc:@B2&quot;\\n      }\\n    }\\n  }\\n}\\nnode {\\n  name: &quot;W3/RMSPROP/Initializer/ones&quot;\\n  op: &quot;Const&quot;\\n  attr {\\n    key: &quot;_class&quot;\\n    value {\\n      list {\\n        s: &quot;loc:@W3&quot;\\n      }\\n    }\\n  }\\n  attr {\\n    key: &quot;dtype&quot;\\n    value {\\n      type: DT_FLOAT\\n    }\\n  }\\n  attr {\\n    key: &quot;value&quot;\\n    value {\\n      tensor {\\n        dtype: DT_FLOAT\\n        tensor_shape {\\n          dim {\\n            size: 12\\n          }\\n          dim {\\n            size: 8\\n          }\\n        }\\n        float_val: 1.0\\n      }\\n    }\\n  }\\n}\\nnode {\\n  name: &quot;W3/RMSPROP&quot;\\n  op: &quot;VariableV2&quot;\\n  attr {\\n    key: &quot;_class&quot;\\n    value {\\n      list {\\n        s: &quot;loc:@W3&quot;\\n      }\\n    }\\n  }\\n  attr {\\n    key: &quot;container&quot;\\n    value {\\n      s: &quot;&quot;\\n    }\\n  }\\n  attr {\\n    key: &quot;dtype&quot;\\n    value {\\n      type: DT_FLOAT\\n    }\\n  }\\n  attr {\\n    key: &quot;shape&quot;\\n    value {\\n      shape {\\n        dim {\\n          size: 12\\n        }\\n        dim {\\n          size: 8\\n        }\\n      }\\n    }\\n  }\\n  attr {\\n    key: &quot;shared_name&quot;\\n    value {\\n      s: &quot;&quot;\\n    }\\n  }\\n}\\nnode {\\n  name: &quot;W3/RMSPROP/Assign&quot;\\n  op: &quot;Assign&quot;\\n  input: &quot;W3/RMSPROP&quot;\\n  input: &quot;W3/RMSPROP/Initializer/ones&quot;\\n  attr {\\n    key: &quot;T&quot;\\n    value {\\n      type: DT_FLOAT\\n    }\\n  }\\n  attr {\\n    key: &quot;_class&quot;\\n    value {\\n      list {\\n        s: &quot;loc:@W3&quot;\\n      }\\n    }\\n  }\\n  attr {\\n    key: &quot;use_locking&quot;\\n    value {\\n      b: true\\n    }\\n  }\\n  attr {\\n    key: &quot;validate_shape&quot;\\n    value {\\n      b: true\\n    }\\n  }\\n}\\nnode {\\n  name: &quot;W3/RMSPROP/read&quot;\\n  op: &quot;Identity&quot;\\n  input: &quot;W3/RMSPROP&quot;\\n  attr {\\n    key: &quot;T&quot;\\n    value {\\n      type: DT_FLOAT\\n    }\\n  }\\n  attr {\\n    key: &quot;_class&quot;\\n    value {\\n      list {\\n        s: &quot;loc:@W3&quot;\\n      }\\n    }\\n  }\\n}\\nnode {\\n  name: &quot;W3/RMSPROP_1/Initializer/zeros&quot;\\n  op: &quot;Const&quot;\\n  attr {\\n    key: &quot;_class&quot;\\n    value {\\n      list {\\n        s: &quot;loc:@W3&quot;\\n      }\\n    }\\n  }\\n  attr {\\n    key: &quot;dtype&quot;\\n    value {\\n      type: DT_FLOAT\\n    }\\n  }\\n  attr {\\n    key: &quot;value&quot;\\n    value {\\n      tensor {\\n        dtype: DT_FLOAT\\n        tensor_shape {\\n          dim {\\n            size: 12\\n          }\\n          dim {\\n            size: 8\\n          }\\n        }\\n        float_val: 0.0\\n      }\\n    }\\n  }\\n}\\nnode {\\n  name: &quot;W3/RMSPROP_1&quot;\\n  op: &quot;VariableV2&quot;\\n  attr {\\n    key: &quot;_class&quot;\\n    value {\\n      list {\\n        s: &quot;loc:@W3&quot;\\n      }\\n    }\\n  }\\n  attr {\\n    key: &quot;container&quot;\\n    value {\\n      s: &quot;&quot;\\n    }\\n  }\\n  attr {\\n    key: &quot;dtype&quot;\\n    value {\\n      type: DT_FLOAT\\n    }\\n  }\\n  attr {\\n    key: &quot;shape&quot;\\n    value {\\n      shape {\\n        dim {\\n          size: 12\\n        }\\n        dim {\\n          size: 8\\n        }\\n      }\\n    }\\n  }\\n  attr {\\n    key: &quot;shared_name&quot;\\n    value {\\n      s: &quot;&quot;\\n    }\\n  }\\n}\\nnode {\\n  name: &quot;W3/RMSPROP_1/Assign&quot;\\n  op: &quot;Assign&quot;\\n  input: &quot;W3/RMSPROP_1&quot;\\n  input: &quot;W3/RMSPROP_1/Initializer/zeros&quot;\\n  attr {\\n    key: &quot;T&quot;\\n    value {\\n      type: DT_FLOAT\\n    }\\n  }\\n  attr {\\n    key: &quot;_class&quot;\\n    value {\\n      list {\\n        s: &quot;loc:@W3&quot;\\n      }\\n    }\\n  }\\n  attr {\\n    key: &quot;use_locking&quot;\\n    value {\\n      b: true\\n    }\\n  }\\n  attr {\\n    key: &quot;validate_shape&quot;\\n    value {\\n      b: true\\n    }\\n  }\\n}\\nnode {\\n  name: &quot;W3/RMSPROP_1/read&quot;\\n  op: &quot;Identity&quot;\\n  input: &quot;W3/RMSPROP_1&quot;\\n  attr {\\n    key: &quot;T&quot;\\n    value {\\n      type: DT_FLOAT\\n    }\\n  }\\n  attr {\\n    key: &quot;_class&quot;\\n    value {\\n      list {\\n        s: &quot;loc:@W3&quot;\\n      }\\n    }\\n  }\\n}\\nnode {\\n  name: &quot;B3/RMSPROP/Initializer/ones&quot;\\n  op: &quot;Const&quot;\\n  attr {\\n    key: &quot;_class&quot;\\n    value {\\n      list {\\n        s: &quot;loc:@B3&quot;\\n      }\\n    }\\n  }\\n  attr {\\n    key: &quot;dtype&quot;\\n    value {\\n      type: DT_FLOAT\\n    }\\n  }\\n  attr {\\n    key: &quot;value&quot;\\n    value {\\n      tensor {\\n        dtype: DT_FLOAT\\n        tensor_shape {\\n          dim {\\n            size: 8\\n          }\\n        }\\n        float_val: 1.0\\n      }\\n    }\\n  }\\n}\\nnode {\\n  name: &quot;B3/RMSPROP&quot;\\n  op: &quot;VariableV2&quot;\\n  attr {\\n    key: &quot;_class&quot;\\n    value {\\n      list {\\n        s: &quot;loc:@B3&quot;\\n      }\\n    }\\n  }\\n  attr {\\n    key: &quot;container&quot;\\n    value {\\n      s: &quot;&quot;\\n    }\\n  }\\n  attr {\\n    key: &quot;dtype&quot;\\n    value {\\n      type: DT_FLOAT\\n    }\\n  }\\n  attr {\\n    key: &quot;shape&quot;\\n    value {\\n      shape {\\n        dim {\\n          size: 8\\n        }\\n      }\\n    }\\n  }\\n  attr {\\n    key: &quot;shared_name&quot;\\n    value {\\n      s: &quot;&quot;\\n    }\\n  }\\n}\\nnode {\\n  name: &quot;B3/RMSPROP/Assign&quot;\\n  op: &quot;Assign&quot;\\n  input: &quot;B3/RMSPROP&quot;\\n  input: &quot;B3/RMSPROP/Initializer/ones&quot;\\n  attr {\\n    key: &quot;T&quot;\\n    value {\\n      type: DT_FLOAT\\n    }\\n  }\\n  attr {\\n    key: &quot;_class&quot;\\n    value {\\n      list {\\n        s: &quot;loc:@B3&quot;\\n      }\\n    }\\n  }\\n  attr {\\n    key: &quot;use_locking&quot;\\n    value {\\n      b: true\\n    }\\n  }\\n  attr {\\n    key: &quot;validate_shape&quot;\\n    value {\\n      b: true\\n    }\\n  }\\n}\\nnode {\\n  name: &quot;B3/RMSPROP/read&quot;\\n  op: &quot;Identity&quot;\\n  input: &quot;B3/RMSPROP&quot;\\n  attr {\\n    key: &quot;T&quot;\\n    value {\\n      type: DT_FLOAT\\n    }\\n  }\\n  attr {\\n    key: &quot;_class&quot;\\n    value {\\n      list {\\n        s: &quot;loc:@B3&quot;\\n      }\\n    }\\n  }\\n}\\nnode {\\n  name: &quot;B3/RMSPROP_1/Initializer/zeros&quot;\\n  op: &quot;Const&quot;\\n  attr {\\n    key: &quot;_class&quot;\\n    value {\\n      list {\\n        s: &quot;loc:@B3&quot;\\n      }\\n    }\\n  }\\n  attr {\\n    key: &quot;dtype&quot;\\n    value {\\n      type: DT_FLOAT\\n    }\\n  }\\n  attr {\\n    key: &quot;value&quot;\\n    value {\\n      tensor {\\n        dtype: DT_FLOAT\\n        tensor_shape {\\n          dim {\\n            size: 8\\n          }\\n        }\\n        float_val: 0.0\\n      }\\n    }\\n  }\\n}\\nnode {\\n  name: &quot;B3/RMSPROP_1&quot;\\n  op: &quot;VariableV2&quot;\\n  attr {\\n    key: &quot;_class&quot;\\n    value {\\n      list {\\n        s: &quot;loc:@B3&quot;\\n      }\\n    }\\n  }\\n  attr {\\n    key: &quot;container&quot;\\n    value {\\n      s: &quot;&quot;\\n    }\\n  }\\n  attr {\\n    key: &quot;dtype&quot;\\n    value {\\n      type: DT_FLOAT\\n    }\\n  }\\n  attr {\\n    key: &quot;shape&quot;\\n    value {\\n      shape {\\n        dim {\\n          size: 8\\n        }\\n      }\\n    }\\n  }\\n  attr {\\n    key: &quot;shared_name&quot;\\n    value {\\n      s: &quot;&quot;\\n    }\\n  }\\n}\\nnode {\\n  name: &quot;B3/RMSPROP_1/Assign&quot;\\n  op: &quot;Assign&quot;\\n  input: &quot;B3/RMSPROP_1&quot;\\n  input: &quot;B3/RMSPROP_1/Initializer/zeros&quot;\\n  attr {\\n    key: &quot;T&quot;\\n    value {\\n      type: DT_FLOAT\\n    }\\n  }\\n  attr {\\n    key: &quot;_class&quot;\\n    value {\\n      list {\\n        s: &quot;loc:@B3&quot;\\n      }\\n    }\\n  }\\n  attr {\\n    key: &quot;use_locking&quot;\\n    value {\\n      b: true\\n    }\\n  }\\n  attr {\\n    key: &quot;validate_shape&quot;\\n    value {\\n      b: true\\n    }\\n  }\\n}\\nnode {\\n  name: &quot;B3/RMSPROP_1/read&quot;\\n  op: &quot;Identity&quot;\\n  input: &quot;B3/RMSPROP_1&quot;\\n  attr {\\n    key: &quot;T&quot;\\n    value {\\n      type: DT_FLOAT\\n    }\\n  }\\n  attr {\\n    key: &quot;_class&quot;\\n    value {\\n      list {\\n        s: &quot;loc:@B3&quot;\\n      }\\n    }\\n  }\\n}\\nnode {\\n  name: &quot;W4/RMSPROP/Initializer/ones&quot;\\n  op: &quot;Const&quot;\\n  attr {\\n    key: &quot;_class&quot;\\n    value {\\n      list {\\n        s: &quot;loc:@W4&quot;\\n      }\\n    }\\n  }\\n  attr {\\n    key: &quot;dtype&quot;\\n    value {\\n      type: DT_FLOAT\\n    }\\n  }\\n  attr {\\n    key: &quot;value&quot;\\n    value {\\n      tensor {\\n        dtype: DT_FLOAT\\n        tensor_shape {\\n          dim {\\n            size: 8\\n          }\\n          dim {\\n            size: 12\\n          }\\n        }\\n        float_val: 1.0\\n      }\\n    }\\n  }\\n}\\nnode {\\n  name: &quot;W4/RMSPROP&quot;\\n  op: &quot;VariableV2&quot;\\n  attr {\\n    key: &quot;_class&quot;\\n    value {\\n      list {\\n        s: &quot;loc:@W4&quot;\\n      }\\n    }\\n  }\\n  attr {\\n    key: &quot;container&quot;\\n    value {\\n      s: &quot;&quot;\\n    }\\n  }\\n  attr {\\n    key: &quot;dtype&quot;\\n    value {\\n      type: DT_FLOAT\\n    }\\n  }\\n  attr {\\n    key: &quot;shape&quot;\\n    value {\\n      shape {\\n        dim {\\n          size: 8\\n        }\\n        dim {\\n          size: 12\\n        }\\n      }\\n    }\\n  }\\n  attr {\\n    key: &quot;shared_name&quot;\\n    value {\\n      s: &quot;&quot;\\n    }\\n  }\\n}\\nnode {\\n  name: &quot;W4/RMSPROP/Assign&quot;\\n  op: &quot;Assign&quot;\\n  input: &quot;W4/RMSPROP&quot;\\n  input: &quot;W4/RMSPROP/Initializer/ones&quot;\\n  attr {\\n    key: &quot;T&quot;\\n    value {\\n      type: DT_FLOAT\\n    }\\n  }\\n  attr {\\n    key: &quot;_class&quot;\\n    value {\\n      list {\\n        s: &quot;loc:@W4&quot;\\n      }\\n    }\\n  }\\n  attr {\\n    key: &quot;use_locking&quot;\\n    value {\\n      b: true\\n    }\\n  }\\n  attr {\\n    key: &quot;validate_shape&quot;\\n    value {\\n      b: true\\n    }\\n  }\\n}\\nnode {\\n  name: &quot;W4/RMSPROP/read&quot;\\n  op: &quot;Identity&quot;\\n  input: &quot;W4/RMSPROP&quot;\\n  attr {\\n    key: &quot;T&quot;\\n    value {\\n      type: DT_FLOAT\\n    }\\n  }\\n  attr {\\n    key: &quot;_class&quot;\\n    value {\\n      list {\\n        s: &quot;loc:@W4&quot;\\n      }\\n    }\\n  }\\n}\\nnode {\\n  name: &quot;W4/RMSPROP_1/Initializer/zeros&quot;\\n  op: &quot;Const&quot;\\n  attr {\\n    key: &quot;_class&quot;\\n    value {\\n      list {\\n        s: &quot;loc:@W4&quot;\\n      }\\n    }\\n  }\\n  attr {\\n    key: &quot;dtype&quot;\\n    value {\\n      type: DT_FLOAT\\n    }\\n  }\\n  attr {\\n    key: &quot;value&quot;\\n    value {\\n      tensor {\\n        dtype: DT_FLOAT\\n        tensor_shape {\\n          dim {\\n            size: 8\\n          }\\n          dim {\\n            size: 12\\n          }\\n        }\\n        float_val: 0.0\\n      }\\n    }\\n  }\\n}\\nnode {\\n  name: &quot;W4/RMSPROP_1&quot;\\n  op: &quot;VariableV2&quot;\\n  attr {\\n    key: &quot;_class&quot;\\n    value {\\n      list {\\n        s: &quot;loc:@W4&quot;\\n      }\\n    }\\n  }\\n  attr {\\n    key: &quot;container&quot;\\n    value {\\n      s: &quot;&quot;\\n    }\\n  }\\n  attr {\\n    key: &quot;dtype&quot;\\n    value {\\n      type: DT_FLOAT\\n    }\\n  }\\n  attr {\\n    key: &quot;shape&quot;\\n    value {\\n      shape {\\n        dim {\\n          size: 8\\n        }\\n        dim {\\n          size: 12\\n        }\\n      }\\n    }\\n  }\\n  attr {\\n    key: &quot;shared_name&quot;\\n    value {\\n      s: &quot;&quot;\\n    }\\n  }\\n}\\nnode {\\n  name: &quot;W4/RMSPROP_1/Assign&quot;\\n  op: &quot;Assign&quot;\\n  input: &quot;W4/RMSPROP_1&quot;\\n  input: &quot;W4/RMSPROP_1/Initializer/zeros&quot;\\n  attr {\\n    key: &quot;T&quot;\\n    value {\\n      type: DT_FLOAT\\n    }\\n  }\\n  attr {\\n    key: &quot;_class&quot;\\n    value {\\n      list {\\n        s: &quot;loc:@W4&quot;\\n      }\\n    }\\n  }\\n  attr {\\n    key: &quot;use_locking&quot;\\n    value {\\n      b: true\\n    }\\n  }\\n  attr {\\n    key: &quot;validate_shape&quot;\\n    value {\\n      b: true\\n    }\\n  }\\n}\\nnode {\\n  name: &quot;W4/RMSPROP_1/read&quot;\\n  op: &quot;Identity&quot;\\n  input: &quot;W4/RMSPROP_1&quot;\\n  attr {\\n    key: &quot;T&quot;\\n    value {\\n      type: DT_FLOAT\\n    }\\n  }\\n  attr {\\n    key: &quot;_class&quot;\\n    value {\\n      list {\\n        s: &quot;loc:@W4&quot;\\n      }\\n    }\\n  }\\n}\\nnode {\\n  name: &quot;B4/RMSPROP/Initializer/ones&quot;\\n  op: &quot;Const&quot;\\n  attr {\\n    key: &quot;_class&quot;\\n    value {\\n      list {\\n        s: &quot;loc:@B4&quot;\\n      }\\n    }\\n  }\\n  attr {\\n    key: &quot;dtype&quot;\\n    value {\\n      type: DT_FLOAT\\n    }\\n  }\\n  attr {\\n    key: &quot;value&quot;\\n    value {\\n      tensor {\\n        dtype: DT_FLOAT\\n        tensor_shape {\\n          dim {\\n            size: 12\\n          }\\n        }\\n        float_val: 1.0\\n      }\\n    }\\n  }\\n}\\nnode {\\n  name: &quot;B4/RMSPROP&quot;\\n  op: &quot;VariableV2&quot;\\n  attr {\\n    key: &quot;_class&quot;\\n    value {\\n      list {\\n        s: &quot;loc:@B4&quot;\\n      }\\n    }\\n  }\\n  attr {\\n    key: &quot;container&quot;\\n    value {\\n      s: &quot;&quot;\\n    }\\n  }\\n  attr {\\n    key: &quot;dtype&quot;\\n    value {\\n      type: DT_FLOAT\\n    }\\n  }\\n  attr {\\n    key: &quot;shape&quot;\\n    value {\\n      shape {\\n        dim {\\n          size: 12\\n        }\\n      }\\n    }\\n  }\\n  attr {\\n    key: &quot;shared_name&quot;\\n    value {\\n      s: &quot;&quot;\\n    }\\n  }\\n}\\nnode {\\n  name: &quot;B4/RMSPROP/Assign&quot;\\n  op: &quot;Assign&quot;\\n  input: &quot;B4/RMSPROP&quot;\\n  input: &quot;B4/RMSPROP/Initializer/ones&quot;\\n  attr {\\n    key: &quot;T&quot;\\n    value {\\n      type: DT_FLOAT\\n    }\\n  }\\n  attr {\\n    key: &quot;_class&quot;\\n    value {\\n      list {\\n        s: &quot;loc:@B4&quot;\\n      }\\n    }\\n  }\\n  attr {\\n    key: &quot;use_locking&quot;\\n    value {\\n      b: true\\n    }\\n  }\\n  attr {\\n    key: &quot;validate_shape&quot;\\n    value {\\n      b: true\\n    }\\n  }\\n}\\nnode {\\n  name: &quot;B4/RMSPROP/read&quot;\\n  op: &quot;Identity&quot;\\n  input: &quot;B4/RMSPROP&quot;\\n  attr {\\n    key: &quot;T&quot;\\n    value {\\n      type: DT_FLOAT\\n    }\\n  }\\n  attr {\\n    key: &quot;_class&quot;\\n    value {\\n      list {\\n        s: &quot;loc:@B4&quot;\\n      }\\n    }\\n  }\\n}\\nnode {\\n  name: &quot;B4/RMSPROP_1/Initializer/zeros&quot;\\n  op: &quot;Const&quot;\\n  attr {\\n    key: &quot;_class&quot;\\n    value {\\n      list {\\n        s: &quot;loc:@B4&quot;\\n      }\\n    }\\n  }\\n  attr {\\n    key: &quot;dtype&quot;\\n    value {\\n      type: DT_FLOAT\\n    }\\n  }\\n  attr {\\n    key: &quot;value&quot;\\n    value {\\n      tensor {\\n        dtype: DT_FLOAT\\n        tensor_shape {\\n          dim {\\n            size: 12\\n          }\\n        }\\n        float_val: 0.0\\n      }\\n    }\\n  }\\n}\\nnode {\\n  name: &quot;B4/RMSPROP_1&quot;\\n  op: &quot;VariableV2&quot;\\n  attr {\\n    key: &quot;_class&quot;\\n    value {\\n      list {\\n        s: &quot;loc:@B4&quot;\\n      }\\n    }\\n  }\\n  attr {\\n    key: &quot;container&quot;\\n    value {\\n      s: &quot;&quot;\\n    }\\n  }\\n  attr {\\n    key: &quot;dtype&quot;\\n    value {\\n      type: DT_FLOAT\\n    }\\n  }\\n  attr {\\n    key: &quot;shape&quot;\\n    value {\\n      shape {\\n        dim {\\n          size: 12\\n        }\\n      }\\n    }\\n  }\\n  attr {\\n    key: &quot;shared_name&quot;\\n    value {\\n      s: &quot;&quot;\\n    }\\n  }\\n}\\nnode {\\n  name: &quot;B4/RMSPROP_1/Assign&quot;\\n  op: &quot;Assign&quot;\\n  input: &quot;B4/RMSPROP_1&quot;\\n  input: &quot;B4/RMSPROP_1/Initializer/zeros&quot;\\n  attr {\\n    key: &quot;T&quot;\\n    value {\\n      type: DT_FLOAT\\n    }\\n  }\\n  attr {\\n    key: &quot;_class&quot;\\n    value {\\n      list {\\n        s: &quot;loc:@B4&quot;\\n      }\\n    }\\n  }\\n  attr {\\n    key: &quot;use_locking&quot;\\n    value {\\n      b: true\\n    }\\n  }\\n  attr {\\n    key: &quot;validate_shape&quot;\\n    value {\\n      b: true\\n    }\\n  }\\n}\\nnode {\\n  name: &quot;B4/RMSPROP_1/read&quot;\\n  op: &quot;Identity&quot;\\n  input: &quot;B4/RMSPROP_1&quot;\\n  attr {\\n    key: &quot;T&quot;\\n    value {\\n      type: DT_FLOAT\\n    }\\n  }\\n  attr {\\n    key: &quot;_class&quot;\\n    value {\\n      list {\\n        s: &quot;loc:@B4&quot;\\n      }\\n    }\\n  }\\n}\\nnode {\\n  name: &quot;W5/RMSPROP/Initializer/ones&quot;\\n  op: &quot;Const&quot;\\n  attr {\\n    key: &quot;_class&quot;\\n    value {\\n      list {\\n        s: &quot;loc:@W5&quot;\\n      }\\n    }\\n  }\\n  attr {\\n    key: &quot;dtype&quot;\\n    value {\\n      type: DT_FLOAT\\n    }\\n  }\\n  attr {\\n    key: &quot;value&quot;\\n    value {\\n      tensor {\\n        dtype: DT_FLOAT\\n        tensor_shape {\\n          dim {\\n            size: 12\\n          }\\n          dim {\\n            size: 24\\n          }\\n        }\\n        float_val: 1.0\\n      }\\n    }\\n  }\\n}\\nnode {\\n  name: &quot;W5/RMSPROP&quot;\\n  op: &quot;VariableV2&quot;\\n  attr {\\n    key: &quot;_class&quot;\\n    value {\\n      list {\\n        s: &quot;loc:@W5&quot;\\n      }\\n    }\\n  }\\n  attr {\\n    key: &quot;container&quot;\\n    value {\\n      s: &quot;&quot;\\n    }\\n  }\\n  attr {\\n    key: &quot;dtype&quot;\\n    value {\\n      type: DT_FLOAT\\n    }\\n  }\\n  attr {\\n    key: &quot;shape&quot;\\n    value {\\n      shape {\\n        dim {\\n          size: 12\\n        }\\n        dim {\\n          size: 24\\n        }\\n      }\\n    }\\n  }\\n  attr {\\n    key: &quot;shared_name&quot;\\n    value {\\n      s: &quot;&quot;\\n    }\\n  }\\n}\\nnode {\\n  name: &quot;W5/RMSPROP/Assign&quot;\\n  op: &quot;Assign&quot;\\n  input: &quot;W5/RMSPROP&quot;\\n  input: &quot;W5/RMSPROP/Initializer/ones&quot;\\n  attr {\\n    key: &quot;T&quot;\\n    value {\\n      type: DT_FLOAT\\n    }\\n  }\\n  attr {\\n    key: &quot;_class&quot;\\n    value {\\n      list {\\n        s: &quot;loc:@W5&quot;\\n      }\\n    }\\n  }\\n  attr {\\n    key: &quot;use_locking&quot;\\n    value {\\n      b: true\\n    }\\n  }\\n  attr {\\n    key: &quot;validate_shape&quot;\\n    value {\\n      b: true\\n    }\\n  }\\n}\\nnode {\\n  name: &quot;W5/RMSPROP/read&quot;\\n  op: &quot;Identity&quot;\\n  input: &quot;W5/RMSPROP&quot;\\n  attr {\\n    key: &quot;T&quot;\\n    value {\\n      type: DT_FLOAT\\n    }\\n  }\\n  attr {\\n    key: &quot;_class&quot;\\n    value {\\n      list {\\n        s: &quot;loc:@W5&quot;\\n      }\\n    }\\n  }\\n}\\nnode {\\n  name: &quot;W5/RMSPROP_1/Initializer/zeros&quot;\\n  op: &quot;Const&quot;\\n  attr {\\n    key: &quot;_class&quot;\\n    value {\\n      list {\\n        s: &quot;loc:@W5&quot;\\n      }\\n    }\\n  }\\n  attr {\\n    key: &quot;dtype&quot;\\n    value {\\n      type: DT_FLOAT\\n    }\\n  }\\n  attr {\\n    key: &quot;value&quot;\\n    value {\\n      tensor {\\n        dtype: DT_FLOAT\\n        tensor_shape {\\n          dim {\\n            size: 12\\n          }\\n          dim {\\n            size: 24\\n          }\\n        }\\n        float_val: 0.0\\n      }\\n    }\\n  }\\n}\\nnode {\\n  name: &quot;W5/RMSPROP_1&quot;\\n  op: &quot;VariableV2&quot;\\n  attr {\\n    key: &quot;_class&quot;\\n    value {\\n      list {\\n        s: &quot;loc:@W5&quot;\\n      }\\n    }\\n  }\\n  attr {\\n    key: &quot;container&quot;\\n    value {\\n      s: &quot;&quot;\\n    }\\n  }\\n  attr {\\n    key: &quot;dtype&quot;\\n    value {\\n      type: DT_FLOAT\\n    }\\n  }\\n  attr {\\n    key: &quot;shape&quot;\\n    value {\\n      shape {\\n        dim {\\n          size: 12\\n        }\\n        dim {\\n          size: 24\\n        }\\n      }\\n    }\\n  }\\n  attr {\\n    key: &quot;shared_name&quot;\\n    value {\\n      s: &quot;&quot;\\n    }\\n  }\\n}\\nnode {\\n  name: &quot;W5/RMSPROP_1/Assign&quot;\\n  op: &quot;Assign&quot;\\n  input: &quot;W5/RMSPROP_1&quot;\\n  input: &quot;W5/RMSPROP_1/Initializer/zeros&quot;\\n  attr {\\n    key: &quot;T&quot;\\n    value {\\n      type: DT_FLOAT\\n    }\\n  }\\n  attr {\\n    key: &quot;_class&quot;\\n    value {\\n      list {\\n        s: &quot;loc:@W5&quot;\\n      }\\n    }\\n  }\\n  attr {\\n    key: &quot;use_locking&quot;\\n    value {\\n      b: true\\n    }\\n  }\\n  attr {\\n    key: &quot;validate_shape&quot;\\n    value {\\n      b: true\\n    }\\n  }\\n}\\nnode {\\n  name: &quot;W5/RMSPROP_1/read&quot;\\n  op: &quot;Identity&quot;\\n  input: &quot;W5/RMSPROP_1&quot;\\n  attr {\\n    key: &quot;T&quot;\\n    value {\\n      type: DT_FLOAT\\n    }\\n  }\\n  attr {\\n    key: &quot;_class&quot;\\n    value {\\n      list {\\n        s: &quot;loc:@W5&quot;\\n      }\\n    }\\n  }\\n}\\nnode {\\n  name: &quot;B5/RMSPROP/Initializer/ones&quot;\\n  op: &quot;Const&quot;\\n  attr {\\n    key: &quot;_class&quot;\\n    value {\\n      list {\\n        s: &quot;loc:@B5&quot;\\n      }\\n    }\\n  }\\n  attr {\\n    key: &quot;dtype&quot;\\n    value {\\n      type: DT_FLOAT\\n    }\\n  }\\n  attr {\\n    key: &quot;value&quot;\\n    value {\\n      tensor {\\n        dtype: DT_FLOAT\\n        tensor_shape {\\n          dim {\\n            size: 24\\n          }\\n        }\\n        float_val: 1.0\\n      }\\n    }\\n  }\\n}\\nnode {\\n  name: &quot;B5/RMSPROP&quot;\\n  op: &quot;VariableV2&quot;\\n  attr {\\n    key: &quot;_class&quot;\\n    value {\\n      list {\\n        s: &quot;loc:@B5&quot;\\n      }\\n    }\\n  }\\n  attr {\\n    key: &quot;container&quot;\\n    value {\\n      s: &quot;&quot;\\n    }\\n  }\\n  attr {\\n    key: &quot;dtype&quot;\\n    value {\\n      type: DT_FLOAT\\n    }\\n  }\\n  attr {\\n    key: &quot;shape&quot;\\n    value {\\n      shape {\\n        dim {\\n          size: 24\\n        }\\n      }\\n    }\\n  }\\n  attr {\\n    key: &quot;shared_name&quot;\\n    value {\\n      s: &quot;&quot;\\n    }\\n  }\\n}\\nnode {\\n  name: &quot;B5/RMSPROP/Assign&quot;\\n  op: &quot;Assign&quot;\\n  input: &quot;B5/RMSPROP&quot;\\n  input: &quot;B5/RMSPROP/Initializer/ones&quot;\\n  attr {\\n    key: &quot;T&quot;\\n    value {\\n      type: DT_FLOAT\\n    }\\n  }\\n  attr {\\n    key: &quot;_class&quot;\\n    value {\\n      list {\\n        s: &quot;loc:@B5&quot;\\n      }\\n    }\\n  }\\n  attr {\\n    key: &quot;use_locking&quot;\\n    value {\\n      b: true\\n    }\\n  }\\n  attr {\\n    key: &quot;validate_shape&quot;\\n    value {\\n      b: true\\n    }\\n  }\\n}\\nnode {\\n  name: &quot;B5/RMSPROP/read&quot;\\n  op: &quot;Identity&quot;\\n  input: &quot;B5/RMSPROP&quot;\\n  attr {\\n    key: &quot;T&quot;\\n    value {\\n      type: DT_FLOAT\\n    }\\n  }\\n  attr {\\n    key: &quot;_class&quot;\\n    value {\\n      list {\\n        s: &quot;loc:@B5&quot;\\n      }\\n    }\\n  }\\n}\\nnode {\\n  name: &quot;B5/RMSPROP_1/Initializer/zeros&quot;\\n  op: &quot;Const&quot;\\n  attr {\\n    key: &quot;_class&quot;\\n    value {\\n      list {\\n        s: &quot;loc:@B5&quot;\\n      }\\n    }\\n  }\\n  attr {\\n    key: &quot;dtype&quot;\\n    value {\\n      type: DT_FLOAT\\n    }\\n  }\\n  attr {\\n    key: &quot;value&quot;\\n    value {\\n      tensor {\\n        dtype: DT_FLOAT\\n        tensor_shape {\\n          dim {\\n            size: 24\\n          }\\n        }\\n        float_val: 0.0\\n      }\\n    }\\n  }\\n}\\nnode {\\n  name: &quot;B5/RMSPROP_1&quot;\\n  op: &quot;VariableV2&quot;\\n  attr {\\n    key: &quot;_class&quot;\\n    value {\\n      list {\\n        s: &quot;loc:@B5&quot;\\n      }\\n    }\\n  }\\n  attr {\\n    key: &quot;container&quot;\\n    value {\\n      s: &quot;&quot;\\n    }\\n  }\\n  attr {\\n    key: &quot;dtype&quot;\\n    value {\\n      type: DT_FLOAT\\n    }\\n  }\\n  attr {\\n    key: &quot;shape&quot;\\n    value {\\n      shape {\\n        dim {\\n          size: 24\\n        }\\n      }\\n    }\\n  }\\n  attr {\\n    key: &quot;shared_name&quot;\\n    value {\\n      s: &quot;&quot;\\n    }\\n  }\\n}\\nnode {\\n  name: &quot;B5/RMSPROP_1/Assign&quot;\\n  op: &quot;Assign&quot;\\n  input: &quot;B5/RMSPROP_1&quot;\\n  input: &quot;B5/RMSPROP_1/Initializer/zeros&quot;\\n  attr {\\n    key: &quot;T&quot;\\n    value {\\n      type: DT_FLOAT\\n    }\\n  }\\n  attr {\\n    key: &quot;_class&quot;\\n    value {\\n      list {\\n        s: &quot;loc:@B5&quot;\\n      }\\n    }\\n  }\\n  attr {\\n    key: &quot;use_locking&quot;\\n    value {\\n      b: true\\n    }\\n  }\\n  attr {\\n    key: &quot;validate_shape&quot;\\n    value {\\n      b: true\\n    }\\n  }\\n}\\nnode {\\n  name: &quot;B5/RMSPROP_1/read&quot;\\n  op: &quot;Identity&quot;\\n  input: &quot;B5/RMSPROP_1&quot;\\n  attr {\\n    key: &quot;T&quot;\\n    value {\\n      type: DT_FLOAT\\n    }\\n  }\\n  attr {\\n    key: &quot;_class&quot;\\n    value {\\n      list {\\n        s: &quot;loc:@B5&quot;\\n      }\\n    }\\n  }\\n}\\nnode {\\n  name: &quot;W6/RMSPROP/Initializer/ones&quot;\\n  op: &quot;Const&quot;\\n  attr {\\n    key: &quot;_class&quot;\\n    value {\\n      list {\\n        s: &quot;loc:@W6&quot;\\n      }\\n    }\\n  }\\n  attr {\\n    key: &quot;dtype&quot;\\n    value {\\n      type: DT_FLOAT\\n    }\\n  }\\n  attr {\\n    key: &quot;value&quot;\\n    value {\\n      tensor {\\n        dtype: DT_FLOAT\\n        tensor_shape {\\n          dim {\\n            size: 24\\n          }\\n          dim {\\n            size: 29\\n          }\\n        }\\n        float_val: 1.0\\n      }\\n    }\\n  }\\n}\\nnode {\\n  name: &quot;W6/RMSPROP&quot;\\n  op: &quot;VariableV2&quot;\\n  attr {\\n    key: &quot;_class&quot;\\n    value {\\n      list {\\n        s: &quot;loc:@W6&quot;\\n      }\\n    }\\n  }\\n  attr {\\n    key: &quot;container&quot;\\n    value {\\n      s: &quot;&quot;\\n    }\\n  }\\n  attr {\\n    key: &quot;dtype&quot;\\n    value {\\n      type: DT_FLOAT\\n    }\\n  }\\n  attr {\\n    key: &quot;shape&quot;\\n    value {\\n      shape {\\n        dim {\\n          size: 24\\n        }\\n        dim {\\n          size: 29\\n        }\\n      }\\n    }\\n  }\\n  attr {\\n    key: &quot;shared_name&quot;\\n    value {\\n      s: &quot;&quot;\\n    }\\n  }\\n}\\nnode {\\n  name: &quot;W6/RMSPROP/Assign&quot;\\n  op: &quot;Assign&quot;\\n  input: &quot;W6/RMSPROP&quot;\\n  input: &quot;W6/RMSPROP/Initializer/ones&quot;\\n  attr {\\n    key: &quot;T&quot;\\n    value {\\n      type: DT_FLOAT\\n    }\\n  }\\n  attr {\\n    key: &quot;_class&quot;\\n    value {\\n      list {\\n        s: &quot;loc:@W6&quot;\\n      }\\n    }\\n  }\\n  attr {\\n    key: &quot;use_locking&quot;\\n    value {\\n      b: true\\n    }\\n  }\\n  attr {\\n    key: &quot;validate_shape&quot;\\n    value {\\n      b: true\\n    }\\n  }\\n}\\nnode {\\n  name: &quot;W6/RMSPROP/read&quot;\\n  op: &quot;Identity&quot;\\n  input: &quot;W6/RMSPROP&quot;\\n  attr {\\n    key: &quot;T&quot;\\n    value {\\n      type: DT_FLOAT\\n    }\\n  }\\n  attr {\\n    key: &quot;_class&quot;\\n    value {\\n      list {\\n        s: &quot;loc:@W6&quot;\\n      }\\n    }\\n  }\\n}\\nnode {\\n  name: &quot;W6/RMSPROP_1/Initializer/zeros&quot;\\n  op: &quot;Const&quot;\\n  attr {\\n    key: &quot;_class&quot;\\n    value {\\n      list {\\n        s: &quot;loc:@W6&quot;\\n      }\\n    }\\n  }\\n  attr {\\n    key: &quot;dtype&quot;\\n    value {\\n      type: DT_FLOAT\\n    }\\n  }\\n  attr {\\n    key: &quot;value&quot;\\n    value {\\n      tensor {\\n        dtype: DT_FLOAT\\n        tensor_shape {\\n          dim {\\n            size: 24\\n          }\\n          dim {\\n            size: 29\\n          }\\n        }\\n        float_val: 0.0\\n      }\\n    }\\n  }\\n}\\nnode {\\n  name: &quot;W6/RMSPROP_1&quot;\\n  op: &quot;VariableV2&quot;\\n  attr {\\n    key: &quot;_class&quot;\\n    value {\\n      list {\\n        s: &quot;loc:@W6&quot;\\n      }\\n    }\\n  }\\n  attr {\\n    key: &quot;container&quot;\\n    value {\\n      s: &quot;&quot;\\n    }\\n  }\\n  attr {\\n    key: &quot;dtype&quot;\\n    value {\\n      type: DT_FLOAT\\n    }\\n  }\\n  attr {\\n    key: &quot;shape&quot;\\n    value {\\n      shape {\\n        dim {\\n          size: 24\\n        }\\n        dim {\\n          size: 29\\n        }\\n      }\\n    }\\n  }\\n  attr {\\n    key: &quot;shared_name&quot;\\n    value {\\n      s: &quot;&quot;\\n    }\\n  }\\n}\\nnode {\\n  name: &quot;W6/RMSPROP_1/Assign&quot;\\n  op: &quot;Assign&quot;\\n  input: &quot;W6/RMSPROP_1&quot;\\n  input: &quot;W6/RMSPROP_1/Initializer/zeros&quot;\\n  attr {\\n    key: &quot;T&quot;\\n    value {\\n      type: DT_FLOAT\\n    }\\n  }\\n  attr {\\n    key: &quot;_class&quot;\\n    value {\\n      list {\\n        s: &quot;loc:@W6&quot;\\n      }\\n    }\\n  }\\n  attr {\\n    key: &quot;use_locking&quot;\\n    value {\\n      b: true\\n    }\\n  }\\n  attr {\\n    key: &quot;validate_shape&quot;\\n    value {\\n      b: true\\n    }\\n  }\\n}\\nnode {\\n  name: &quot;W6/RMSPROP_1/read&quot;\\n  op: &quot;Identity&quot;\\n  input: &quot;W6/RMSPROP_1&quot;\\n  attr {\\n    key: &quot;T&quot;\\n    value {\\n      type: DT_FLOAT\\n    }\\n  }\\n  attr {\\n    key: &quot;_class&quot;\\n    value {\\n      list {\\n        s: &quot;loc:@W6&quot;\\n      }\\n    }\\n  }\\n}\\nnode {\\n  name: &quot;B6/RMSPROP/Initializer/ones&quot;\\n  op: &quot;Const&quot;\\n  attr {\\n    key: &quot;_class&quot;\\n    value {\\n      list {\\n        s: &quot;loc:@B6&quot;\\n      }\\n    }\\n  }\\n  attr {\\n    key: &quot;dtype&quot;\\n    value {\\n      type: DT_FLOAT\\n    }\\n  }\\n  attr {\\n    key: &quot;value&quot;\\n    value {\\n      tensor {\\n        dtype: DT_FLOAT\\n        tensor_shape {\\n          dim {\\n            size: 29\\n          }\\n        }\\n        float_val: 1.0\\n      }\\n    }\\n  }\\n}\\nnode {\\n  name: &quot;B6/RMSPROP&quot;\\n  op: &quot;VariableV2&quot;\\n  attr {\\n    key: &quot;_class&quot;\\n    value {\\n      list {\\n        s: &quot;loc:@B6&quot;\\n      }\\n    }\\n  }\\n  attr {\\n    key: &quot;container&quot;\\n    value {\\n      s: &quot;&quot;\\n    }\\n  }\\n  attr {\\n    key: &quot;dtype&quot;\\n    value {\\n      type: DT_FLOAT\\n    }\\n  }\\n  attr {\\n    key: &quot;shape&quot;\\n    value {\\n      shape {\\n        dim {\\n          size: 29\\n        }\\n      }\\n    }\\n  }\\n  attr {\\n    key: &quot;shared_name&quot;\\n    value {\\n      s: &quot;&quot;\\n    }\\n  }\\n}\\nnode {\\n  name: &quot;B6/RMSPROP/Assign&quot;\\n  op: &quot;Assign&quot;\\n  input: &quot;B6/RMSPROP&quot;\\n  input: &quot;B6/RMSPROP/Initializer/ones&quot;\\n  attr {\\n    key: &quot;T&quot;\\n    value {\\n      type: DT_FLOAT\\n    }\\n  }\\n  attr {\\n    key: &quot;_class&quot;\\n    value {\\n      list {\\n        s: &quot;loc:@B6&quot;\\n      }\\n    }\\n  }\\n  attr {\\n    key: &quot;use_locking&quot;\\n    value {\\n      b: true\\n    }\\n  }\\n  attr {\\n    key: &quot;validate_shape&quot;\\n    value {\\n      b: true\\n    }\\n  }\\n}\\nnode {\\n  name: &quot;B6/RMSPROP/read&quot;\\n  op: &quot;Identity&quot;\\n  input: &quot;B6/RMSPROP&quot;\\n  attr {\\n    key: &quot;T&quot;\\n    value {\\n      type: DT_FLOAT\\n    }\\n  }\\n  attr {\\n    key: &quot;_class&quot;\\n    value {\\n      list {\\n        s: &quot;loc:@B6&quot;\\n      }\\n    }\\n  }\\n}\\nnode {\\n  name: &quot;B6/RMSPROP_1/Initializer/zeros&quot;\\n  op: &quot;Const&quot;\\n  attr {\\n    key: &quot;_class&quot;\\n    value {\\n      list {\\n        s: &quot;loc:@B6&quot;\\n      }\\n    }\\n  }\\n  attr {\\n    key: &quot;dtype&quot;\\n    value {\\n      type: DT_FLOAT\\n    }\\n  }\\n  attr {\\n    key: &quot;value&quot;\\n    value {\\n      tensor {\\n        dtype: DT_FLOAT\\n        tensor_shape {\\n          dim {\\n            size: 29\\n          }\\n        }\\n        float_val: 0.0\\n      }\\n    }\\n  }\\n}\\nnode {\\n  name: &quot;B6/RMSPROP_1&quot;\\n  op: &quot;VariableV2&quot;\\n  attr {\\n    key: &quot;_class&quot;\\n    value {\\n      list {\\n        s: &quot;loc:@B6&quot;\\n      }\\n    }\\n  }\\n  attr {\\n    key: &quot;container&quot;\\n    value {\\n      s: &quot;&quot;\\n    }\\n  }\\n  attr {\\n    key: &quot;dtype&quot;\\n    value {\\n      type: DT_FLOAT\\n    }\\n  }\\n  attr {\\n    key: &quot;shape&quot;\\n    value {\\n      shape {\\n        dim {\\n          size: 29\\n        }\\n      }\\n    }\\n  }\\n  attr {\\n    key: &quot;shared_name&quot;\\n    value {\\n      s: &quot;&quot;\\n    }\\n  }\\n}\\nnode {\\n  name: &quot;B6/RMSPROP_1/Assign&quot;\\n  op: &quot;Assign&quot;\\n  input: &quot;B6/RMSPROP_1&quot;\\n  input: &quot;B6/RMSPROP_1/Initializer/zeros&quot;\\n  attr {\\n    key: &quot;T&quot;\\n    value {\\n      type: DT_FLOAT\\n    }\\n  }\\n  attr {\\n    key: &quot;_class&quot;\\n    value {\\n      list {\\n        s: &quot;loc:@B6&quot;\\n      }\\n    }\\n  }\\n  attr {\\n    key: &quot;use_locking&quot;\\n    value {\\n      b: true\\n    }\\n  }\\n  attr {\\n    key: &quot;validate_shape&quot;\\n    value {\\n      b: true\\n    }\\n  }\\n}\\nnode {\\n  name: &quot;B6/RMSPROP_1/read&quot;\\n  op: &quot;Identity&quot;\\n  input: &quot;B6/RMSPROP_1&quot;\\n  attr {\\n    key: &quot;T&quot;\\n    value {\\n      type: DT_FLOAT\\n    }\\n  }\\n  attr {\\n    key: &quot;_class&quot;\\n    value {\\n      list {\\n        s: &quot;loc:@B6&quot;\\n      }\\n    }\\n  }\\n}\\nnode {\\n  name: &quot;FULL_BACK_PASS/BACK_PASS_GRADIENTS/learning_rate&quot;\\n  op: &quot;Const&quot;\\n  attr {\\n    key: &quot;dtype&quot;\\n    value {\\n      type: DT_FLOAT\\n    }\\n  }\\n  attr {\\n    key: &quot;value&quot;\\n    value {\\n      tensor {\\n        dtype: DT_FLOAT\\n        tensor_shape {\\n        }\\n        float_val: 9.999999747378752e-06\\n      }\\n    }\\n  }\\n}\\nnode {\\n  name: &quot;FULL_BACK_PASS/BACK_PASS_GRADIENTS/decay&quot;\\n  op: &quot;Const&quot;\\n  attr {\\n    key: &quot;dtype&quot;\\n    value {\\n      type: DT_FLOAT\\n    }\\n  }\\n  attr {\\n    key: &quot;value&quot;\\n    value {\\n      tensor {\\n        dtype: DT_FLOAT\\n        tensor_shape {\\n        }\\n        float_val: 0.8999999761581421\\n      }\\n    }\\n  }\\n}\\nnode {\\n  name: &quot;FULL_BACK_PASS/BACK_PASS_GRADIENTS/momentum&quot;\\n  op: &quot;Const&quot;\\n  attr {\\n    key: &quot;dtype&quot;\\n    value {\\n      type: DT_FLOAT\\n    }\\n  }\\n  attr {\\n    key: &quot;value&quot;\\n    value {\\n      tensor {\\n        dtype: DT_FLOAT\\n        tensor_shape {\\n        }\\n        float_val: 0.0\\n      }\\n    }\\n  }\\n}\\nnode {\\n  name: &quot;FULL_BACK_PASS/BACK_PASS_GRADIENTS/epsilon&quot;\\n  op: &quot;Const&quot;\\n  attr {\\n    key: &quot;dtype&quot;\\n    value {\\n      type: DT_FLOAT\\n    }\\n  }\\n  attr {\\n    key: &quot;value&quot;\\n    value {\\n      tensor {\\n        dtype: DT_FLOAT\\n        tensor_shape {\\n        }\\n        float_val: 1.000000013351432e-10\\n      }\\n    }\\n  }\\n}\\nnode {\\n  name: &quot;FULL_BACK_PASS/BACK_PASS_GRADIENTS/update_W1/ApplyRMSProp&quot;\\n  op: &quot;ApplyRMSProp&quot;\\n  input: &quot;W1&quot;\\n  input: &quot;W1/RMSPROP&quot;\\n  input: &quot;W1/RMSPROP_1&quot;\\n  input: &quot;FULL_BACK_PASS/BACK_PASS_GRADIENTS/learning_rate&quot;\\n  input: &quot;FULL_BACK_PASS/BACK_PASS_GRADIENTS/decay&quot;\\n  input: &quot;FULL_BACK_PASS/BACK_PASS_GRADIENTS/momentum&quot;\\n  input: &quot;FULL_BACK_PASS/BACK_PASS_GRADIENTS/epsilon&quot;\\n  input: &quot;FULL_BACK_PASS/GRADIENTS/AddN_11&quot;\\n  attr {\\n    key: &quot;T&quot;\\n    value {\\n      type: DT_FLOAT\\n    }\\n  }\\n  attr {\\n    key: &quot;_class&quot;\\n    value {\\n      list {\\n        s: &quot;loc:@W1&quot;\\n      }\\n    }\\n  }\\n  attr {\\n    key: &quot;use_locking&quot;\\n    value {\\n      b: false\\n    }\\n  }\\n}\\nnode {\\n  name: &quot;FULL_BACK_PASS/BACK_PASS_GRADIENTS/update_B1/ApplyRMSProp&quot;\\n  op: &quot;ApplyRMSProp&quot;\\n  input: &quot;B1&quot;\\n  input: &quot;B1/RMSPROP&quot;\\n  input: &quot;B1/RMSPROP_1&quot;\\n  input: &quot;FULL_BACK_PASS/BACK_PASS_GRADIENTS/learning_rate&quot;\\n  input: &quot;FULL_BACK_PASS/BACK_PASS_GRADIENTS/decay&quot;\\n  input: &quot;FULL_BACK_PASS/BACK_PASS_GRADIENTS/momentum&quot;\\n  input: &quot;FULL_BACK_PASS/BACK_PASS_GRADIENTS/epsilon&quot;\\n  input: &quot;FULL_BACK_PASS/GRADIENTS/AddN_10&quot;\\n  attr {\\n    key: &quot;T&quot;\\n    value {\\n      type: DT_FLOAT\\n    }\\n  }\\n  attr {\\n    key: &quot;_class&quot;\\n    value {\\n      list {\\n        s: &quot;loc:@B1&quot;\\n      }\\n    }\\n  }\\n  attr {\\n    key: &quot;use_locking&quot;\\n    value {\\n      b: false\\n    }\\n  }\\n}\\nnode {\\n  name: &quot;FULL_BACK_PASS/BACK_PASS_GRADIENTS/update_W2/ApplyRMSProp&quot;\\n  op: &quot;ApplyRMSProp&quot;\\n  input: &quot;W2&quot;\\n  input: &quot;W2/RMSPROP&quot;\\n  input: &quot;W2/RMSPROP_1&quot;\\n  input: &quot;FULL_BACK_PASS/BACK_PASS_GRADIENTS/learning_rate&quot;\\n  input: &quot;FULL_BACK_PASS/BACK_PASS_GRADIENTS/decay&quot;\\n  input: &quot;FULL_BACK_PASS/BACK_PASS_GRADIENTS/momentum&quot;\\n  input: &quot;FULL_BACK_PASS/BACK_PASS_GRADIENTS/epsilon&quot;\\n  input: &quot;FULL_BACK_PASS/GRADIENTS/AddN_9&quot;\\n  attr {\\n    key: &quot;T&quot;\\n    value {\\n      type: DT_FLOAT\\n    }\\n  }\\n  attr {\\n    key: &quot;_class&quot;\\n    value {\\n      list {\\n        s: &quot;loc:@W2&quot;\\n      }\\n    }\\n  }\\n  attr {\\n    key: &quot;use_locking&quot;\\n    value {\\n      b: false\\n    }\\n  }\\n}\\nnode {\\n  name: &quot;FULL_BACK_PASS/BACK_PASS_GRADIENTS/update_B2/ApplyRMSProp&quot;\\n  op: &quot;ApplyRMSProp&quot;\\n  input: &quot;B2&quot;\\n  input: &quot;B2/RMSPROP&quot;\\n  input: &quot;B2/RMSPROP_1&quot;\\n  input: &quot;FULL_BACK_PASS/BACK_PASS_GRADIENTS/learning_rate&quot;\\n  input: &quot;FULL_BACK_PASS/BACK_PASS_GRADIENTS/decay&quot;\\n  input: &quot;FULL_BACK_PASS/BACK_PASS_GRADIENTS/momentum&quot;\\n  input: &quot;FULL_BACK_PASS/BACK_PASS_GRADIENTS/epsilon&quot;\\n  input: &quot;FULL_BACK_PASS/GRADIENTS/AddN_8&quot;\\n  attr {\\n    key: &quot;T&quot;\\n    value {\\n      type: DT_FLOAT\\n    }\\n  }\\n  attr {\\n    key: &quot;_class&quot;\\n    value {\\n      list {\\n        s: &quot;loc:@B2&quot;\\n      }\\n    }\\n  }\\n  attr {\\n    key: &quot;use_locking&quot;\\n    value {\\n      b: false\\n    }\\n  }\\n}\\nnode {\\n  name: &quot;FULL_BACK_PASS/BACK_PASS_GRADIENTS/update_W3/ApplyRMSProp&quot;\\n  op: &quot;ApplyRMSProp&quot;\\n  input: &quot;W3&quot;\\n  input: &quot;W3/RMSPROP&quot;\\n  input: &quot;W3/RMSPROP_1&quot;\\n  input: &quot;FULL_BACK_PASS/BACK_PASS_GRADIENTS/learning_rate&quot;\\n  input: &quot;FULL_BACK_PASS/BACK_PASS_GRADIENTS/decay&quot;\\n  input: &quot;FULL_BACK_PASS/BACK_PASS_GRADIENTS/momentum&quot;\\n  input: &quot;FULL_BACK_PASS/BACK_PASS_GRADIENTS/epsilon&quot;\\n  input: &quot;FULL_BACK_PASS/GRADIENTS/AddN_7&quot;\\n  attr {\\n    key: &quot;T&quot;\\n    value {\\n      type: DT_FLOAT\\n    }\\n  }\\n  attr {\\n    key: &quot;_class&quot;\\n    value {\\n      list {\\n        s: &quot;loc:@W3&quot;\\n      }\\n    }\\n  }\\n  attr {\\n    key: &quot;use_locking&quot;\\n    value {\\n      b: false\\n    }\\n  }\\n}\\nnode {\\n  name: &quot;FULL_BACK_PASS/BACK_PASS_GRADIENTS/update_B3/ApplyRMSProp&quot;\\n  op: &quot;ApplyRMSProp&quot;\\n  input: &quot;B3&quot;\\n  input: &quot;B3/RMSPROP&quot;\\n  input: &quot;B3/RMSPROP_1&quot;\\n  input: &quot;FULL_BACK_PASS/BACK_PASS_GRADIENTS/learning_rate&quot;\\n  input: &quot;FULL_BACK_PASS/BACK_PASS_GRADIENTS/decay&quot;\\n  input: &quot;FULL_BACK_PASS/BACK_PASS_GRADIENTS/momentum&quot;\\n  input: &quot;FULL_BACK_PASS/BACK_PASS_GRADIENTS/epsilon&quot;\\n  input: &quot;FULL_BACK_PASS/GRADIENTS/AddN_6&quot;\\n  attr {\\n    key: &quot;T&quot;\\n    value {\\n      type: DT_FLOAT\\n    }\\n  }\\n  attr {\\n    key: &quot;_class&quot;\\n    value {\\n      list {\\n        s: &quot;loc:@B3&quot;\\n      }\\n    }\\n  }\\n  attr {\\n    key: &quot;use_locking&quot;\\n    value {\\n      b: false\\n    }\\n  }\\n}\\nnode {\\n  name: &quot;FULL_BACK_PASS/BACK_PASS_GRADIENTS/update_W4/ApplyRMSProp&quot;\\n  op: &quot;ApplyRMSProp&quot;\\n  input: &quot;W4&quot;\\n  input: &quot;W4/RMSPROP&quot;\\n  input: &quot;W4/RMSPROP_1&quot;\\n  input: &quot;FULL_BACK_PASS/BACK_PASS_GRADIENTS/learning_rate&quot;\\n  input: &quot;FULL_BACK_PASS/BACK_PASS_GRADIENTS/decay&quot;\\n  input: &quot;FULL_BACK_PASS/BACK_PASS_GRADIENTS/momentum&quot;\\n  input: &quot;FULL_BACK_PASS/BACK_PASS_GRADIENTS/epsilon&quot;\\n  input: &quot;FULL_BACK_PASS/GRADIENTS/AddN_5&quot;\\n  attr {\\n    key: &quot;T&quot;\\n    value {\\n      type: DT_FLOAT\\n    }\\n  }\\n  attr {\\n    key: &quot;_class&quot;\\n    value {\\n      list {\\n        s: &quot;loc:@W4&quot;\\n      }\\n    }\\n  }\\n  attr {\\n    key: &quot;use_locking&quot;\\n    value {\\n      b: false\\n    }\\n  }\\n}\\nnode {\\n  name: &quot;FULL_BACK_PASS/BACK_PASS_GRADIENTS/update_B4/ApplyRMSProp&quot;\\n  op: &quot;ApplyRMSProp&quot;\\n  input: &quot;B4&quot;\\n  input: &quot;B4/RMSPROP&quot;\\n  input: &quot;B4/RMSPROP_1&quot;\\n  input: &quot;FULL_BACK_PASS/BACK_PASS_GRADIENTS/learning_rate&quot;\\n  input: &quot;FULL_BACK_PASS/BACK_PASS_GRADIENTS/decay&quot;\\n  input: &quot;FULL_BACK_PASS/BACK_PASS_GRADIENTS/momentum&quot;\\n  input: &quot;FULL_BACK_PASS/BACK_PASS_GRADIENTS/epsilon&quot;\\n  input: &quot;FULL_BACK_PASS/GRADIENTS/AddN_4&quot;\\n  attr {\\n    key: &quot;T&quot;\\n    value {\\n      type: DT_FLOAT\\n    }\\n  }\\n  attr {\\n    key: &quot;_class&quot;\\n    value {\\n      list {\\n        s: &quot;loc:@B4&quot;\\n      }\\n    }\\n  }\\n  attr {\\n    key: &quot;use_locking&quot;\\n    value {\\n      b: false\\n    }\\n  }\\n}\\nnode {\\n  name: &quot;FULL_BACK_PASS/BACK_PASS_GRADIENTS/update_W5/ApplyRMSProp&quot;\\n  op: &quot;ApplyRMSProp&quot;\\n  input: &quot;W5&quot;\\n  input: &quot;W5/RMSPROP&quot;\\n  input: &quot;W5/RMSPROP_1&quot;\\n  input: &quot;FULL_BACK_PASS/BACK_PASS_GRADIENTS/learning_rate&quot;\\n  input: &quot;FULL_BACK_PASS/BACK_PASS_GRADIENTS/decay&quot;\\n  input: &quot;FULL_BACK_PASS/BACK_PASS_GRADIENTS/momentum&quot;\\n  input: &quot;FULL_BACK_PASS/BACK_PASS_GRADIENTS/epsilon&quot;\\n  input: &quot;FULL_BACK_PASS/GRADIENTS/AddN_3&quot;\\n  attr {\\n    key: &quot;T&quot;\\n    value {\\n      type: DT_FLOAT\\n    }\\n  }\\n  attr {\\n    key: &quot;_class&quot;\\n    value {\\n      list {\\n        s: &quot;loc:@W5&quot;\\n      }\\n    }\\n  }\\n  attr {\\n    key: &quot;use_locking&quot;\\n    value {\\n      b: false\\n    }\\n  }\\n}\\nnode {\\n  name: &quot;FULL_BACK_PASS/BACK_PASS_GRADIENTS/update_B5/ApplyRMSProp&quot;\\n  op: &quot;ApplyRMSProp&quot;\\n  input: &quot;B5&quot;\\n  input: &quot;B5/RMSPROP&quot;\\n  input: &quot;B5/RMSPROP_1&quot;\\n  input: &quot;FULL_BACK_PASS/BACK_PASS_GRADIENTS/learning_rate&quot;\\n  input: &quot;FULL_BACK_PASS/BACK_PASS_GRADIENTS/decay&quot;\\n  input: &quot;FULL_BACK_PASS/BACK_PASS_GRADIENTS/momentum&quot;\\n  input: &quot;FULL_BACK_PASS/BACK_PASS_GRADIENTS/epsilon&quot;\\n  input: &quot;FULL_BACK_PASS/GRADIENTS/AddN_2&quot;\\n  attr {\\n    key: &quot;T&quot;\\n    value {\\n      type: DT_FLOAT\\n    }\\n  }\\n  attr {\\n    key: &quot;_class&quot;\\n    value {\\n      list {\\n        s: &quot;loc:@B5&quot;\\n      }\\n    }\\n  }\\n  attr {\\n    key: &quot;use_locking&quot;\\n    value {\\n      b: false\\n    }\\n  }\\n}\\nnode {\\n  name: &quot;FULL_BACK_PASS/BACK_PASS_GRADIENTS/update_W6/ApplyRMSProp&quot;\\n  op: &quot;ApplyRMSProp&quot;\\n  input: &quot;W6&quot;\\n  input: &quot;W6/RMSPROP&quot;\\n  input: &quot;W6/RMSPROP_1&quot;\\n  input: &quot;FULL_BACK_PASS/BACK_PASS_GRADIENTS/learning_rate&quot;\\n  input: &quot;FULL_BACK_PASS/BACK_PASS_GRADIENTS/decay&quot;\\n  input: &quot;FULL_BACK_PASS/BACK_PASS_GRADIENTS/momentum&quot;\\n  input: &quot;FULL_BACK_PASS/BACK_PASS_GRADIENTS/epsilon&quot;\\n  input: &quot;FULL_BACK_PASS/GRADIENTS/AddN_1&quot;\\n  attr {\\n    key: &quot;T&quot;\\n    value {\\n      type: DT_FLOAT\\n    }\\n  }\\n  attr {\\n    key: &quot;_class&quot;\\n    value {\\n      list {\\n        s: &quot;loc:@W6&quot;\\n      }\\n    }\\n  }\\n  attr {\\n    key: &quot;use_locking&quot;\\n    value {\\n      b: false\\n    }\\n  }\\n}\\nnode {\\n  name: &quot;FULL_BACK_PASS/BACK_PASS_GRADIENTS/update_B6/ApplyRMSProp&quot;\\n  op: &quot;ApplyRMSProp&quot;\\n  input: &quot;B6&quot;\\n  input: &quot;B6/RMSPROP&quot;\\n  input: &quot;B6/RMSPROP_1&quot;\\n  input: &quot;FULL_BACK_PASS/BACK_PASS_GRADIENTS/learning_rate&quot;\\n  input: &quot;FULL_BACK_PASS/BACK_PASS_GRADIENTS/decay&quot;\\n  input: &quot;FULL_BACK_PASS/BACK_PASS_GRADIENTS/momentum&quot;\\n  input: &quot;FULL_BACK_PASS/BACK_PASS_GRADIENTS/epsilon&quot;\\n  input: &quot;FULL_BACK_PASS/GRADIENTS/AddN&quot;\\n  attr {\\n    key: &quot;T&quot;\\n    value {\\n      type: DT_FLOAT\\n    }\\n  }\\n  attr {\\n    key: &quot;_class&quot;\\n    value {\\n      list {\\n        s: &quot;loc:@B6&quot;\\n      }\\n    }\\n  }\\n  attr {\\n    key: &quot;use_locking&quot;\\n    value {\\n      b: false\\n    }\\n  }\\n}\\nnode {\\n  name: &quot;FULL_BACK_PASS/BACK_PASS_GRADIENTS&quot;\\n  op: &quot;NoOp&quot;\\n  input: &quot;^FULL_BACK_PASS/BACK_PASS_GRADIENTS/update_B1/ApplyRMSProp&quot;\\n  input: &quot;^FULL_BACK_PASS/BACK_PASS_GRADIENTS/update_B2/ApplyRMSProp&quot;\\n  input: &quot;^FULL_BACK_PASS/BACK_PASS_GRADIENTS/update_B3/ApplyRMSProp&quot;\\n  input: &quot;^FULL_BACK_PASS/BACK_PASS_GRADIENTS/update_B4/ApplyRMSProp&quot;\\n  input: &quot;^FULL_BACK_PASS/BACK_PASS_GRADIENTS/update_B5/ApplyRMSProp&quot;\\n  input: &quot;^FULL_BACK_PASS/BACK_PASS_GRADIENTS/update_B6/ApplyRMSProp&quot;\\n  input: &quot;^FULL_BACK_PASS/BACK_PASS_GRADIENTS/update_W1/ApplyRMSProp&quot;\\n  input: &quot;^FULL_BACK_PASS/BACK_PASS_GRADIENTS/update_W2/ApplyRMSProp&quot;\\n  input: &quot;^FULL_BACK_PASS/BACK_PASS_GRADIENTS/update_W3/ApplyRMSProp&quot;\\n  input: &quot;^FULL_BACK_PASS/BACK_PASS_GRADIENTS/update_W4/ApplyRMSProp&quot;\\n  input: &quot;^FULL_BACK_PASS/BACK_PASS_GRADIENTS/update_W5/ApplyRMSProp&quot;\\n  input: &quot;^FULL_BACK_PASS/BACK_PASS_GRADIENTS/update_W6/ApplyRMSProp&quot;\\n}\\nnode {\\n  name: &quot;MODEL_DUMP/save/filename/input&quot;\\n  op: &quot;Const&quot;\\n  attr {\\n    key: &quot;dtype&quot;\\n    value {\\n      type: DT_STRING\\n    }\\n  }\\n  attr {\\n    key: &quot;value&quot;\\n    value {\\n      tensor {\\n        dtype: DT_STRING\\n        tensor_shape {\\n        }\\n        string_val: &quot;model&quot;\\n      }\\n    }\\n  }\\n}\\nnode {\\n  name: &quot;MODEL_DUMP/save/filename&quot;\\n  op: &quot;PlaceholderWithDefault&quot;\\n  input: &quot;MODEL_DUMP/save/filename/input&quot;\\n  attr {\\n    key: &quot;dtype&quot;\\n    value {\\n      type: DT_STRING\\n    }\\n  }\\n  attr {\\n    key: &quot;shape&quot;\\n    value {\\n      shape {\\n      }\\n    }\\n  }\\n}\\nnode {\\n  name: &quot;MODEL_DUMP/save/Const&quot;\\n  op: &quot;PlaceholderWithDefault&quot;\\n  input: &quot;MODEL_DUMP/save/filename&quot;\\n  attr {\\n    key: &quot;dtype&quot;\\n    value {\\n      type: DT_STRING\\n    }\\n  }\\n  attr {\\n    key: &quot;shape&quot;\\n    value {\\n      shape {\\n      }\\n    }\\n  }\\n}\\nnode {\\n  name: &quot;MODEL_DUMP/save/SaveV2/tensor_names&quot;\\n  op: &quot;Const&quot;\\n  attr {\\n    key: &quot;dtype&quot;\\n    value {\\n      type: DT_STRING\\n    }\\n  }\\n  attr {\\n    key: &quot;value&quot;\\n    value {\\n      tensor {\\n        dtype: DT_STRING\\n        tensor_shape {\\n          dim {\\n            size: 36\\n          }\\n        }\\n        string_val: &quot;B1&quot;\\n        string_val: &quot;B1/RMSPROP&quot;\\n        string_val: &quot;B1/RMSPROP_1&quot;\\n        string_val: &quot;B2&quot;\\n        string_val: &quot;B2/RMSPROP&quot;\\n        string_val: &quot;B2/RMSPROP_1&quot;\\n        string_val: &quot;B3&quot;\\n        string_val: &quot;B3/RMSPROP&quot;\\n        string_val: &quot;B3/RMSPROP_1&quot;\\n        string_val: &quot;B4&quot;\\n        string_val: &quot;B4/RMSPROP&quot;\\n        string_val: &quot;B4/RMSPROP_1&quot;\\n        string_val: &quot;B5&quot;\\n        string_val: &quot;B5/RMSPROP&quot;\\n        string_val: &quot;B5/RMSPROP_1&quot;\\n        string_val: &quot;B6&quot;\\n        string_val: &quot;B6/RMSPROP&quot;\\n        string_val: &quot;B6/RMSPROP_1&quot;\\n        string_val: &quot;W1&quot;\\n        string_val: &quot;W1/RMSPROP&quot;\\n        string_val: &quot;W1/RMSPROP_1&quot;\\n        string_val: &quot;W2&quot;\\n        string_val: &quot;W2/RMSPROP&quot;\\n        string_val: &quot;W2/RMSPROP_1&quot;\\n        string_val: &quot;W3&quot;\\n        string_val: &quot;W3/RMSPROP&quot;\\n        string_val: &quot;W3/RMSPROP_1&quot;\\n        string_val: &quot;W4&quot;\\n        string_val: &quot;W4/RMSPROP&quot;\\n        string_val: &quot;W4/RMSPROP_1&quot;\\n        string_val: &quot;W5&quot;\\n        string_val: &quot;W5/RMSPROP&quot;\\n        string_val: &quot;W5/RMSPROP_1&quot;\\n        string_val: &quot;W6&quot;\\n        string_val: &quot;W6/RMSPROP&quot;\\n        string_val: &quot;W6/RMSPROP_1&quot;\\n      }\\n    }\\n  }\\n}\\nnode {\\n  name: &quot;MODEL_DUMP/save/SaveV2/shape_and_slices&quot;\\n  op: &quot;Const&quot;\\n  attr {\\n    key: &quot;dtype&quot;\\n    value {\\n      type: DT_STRING\\n    }\\n  }\\n  attr {\\n    key: &quot;value&quot;\\n    value {\\n      tensor {\\n        dtype: DT_STRING\\n        tensor_shape {\\n          dim {\\n            size: 36\\n          }\\n        }\\n        string_val: &quot;&quot;\\n        string_val: &quot;&quot;\\n        string_val: &quot;&quot;\\n        string_val: &quot;&quot;\\n        string_val: &quot;&quot;\\n        string_val: &quot;&quot;\\n        string_val: &quot;&quot;\\n        string_val: &quot;&quot;\\n        string_val: &quot;&quot;\\n        string_val: &quot;&quot;\\n        string_val: &quot;&quot;\\n        string_val: &quot;&quot;\\n        string_val: &quot;&quot;\\n        string_val: &quot;&quot;\\n        string_val: &quot;&quot;\\n        string_val: &quot;&quot;\\n        string_val: &quot;&quot;\\n        string_val: &quot;&quot;\\n        string_val: &quot;&quot;\\n        string_val: &quot;&quot;\\n        string_val: &quot;&quot;\\n        string_val: &quot;&quot;\\n        string_val: &quot;&quot;\\n        string_val: &quot;&quot;\\n        string_val: &quot;&quot;\\n        string_val: &quot;&quot;\\n        string_val: &quot;&quot;\\n        string_val: &quot;&quot;\\n        string_val: &quot;&quot;\\n        string_val: &quot;&quot;\\n        string_val: &quot;&quot;\\n        string_val: &quot;&quot;\\n        string_val: &quot;&quot;\\n        string_val: &quot;&quot;\\n        string_val: &quot;&quot;\\n        string_val: &quot;&quot;\\n      }\\n    }\\n  }\\n}\\nnode {\\n  name: &quot;MODEL_DUMP/save/SaveV2&quot;\\n  op: &quot;SaveV2&quot;\\n  input: &quot;MODEL_DUMP/save/Const&quot;\\n  input: &quot;MODEL_DUMP/save/SaveV2/tensor_names&quot;\\n  input: &quot;MODEL_DUMP/save/SaveV2/shape_and_slices&quot;\\n  input: &quot;B1&quot;\\n  input: &quot;B1/RMSPROP&quot;\\n  input: &quot;B1/RMSPROP_1&quot;\\n  input: &quot;B2&quot;\\n  input: &quot;B2/RMSPROP&quot;\\n  input: &quot;B2/RMSPROP_1&quot;\\n  input: &quot;B3&quot;\\n  input: &quot;B3/RMSPROP&quot;\\n  input: &quot;B3/RMSPROP_1&quot;\\n  input: &quot;B4&quot;\\n  input: &quot;B4/RMSPROP&quot;\\n  input: &quot;B4/RMSPROP_1&quot;\\n  input: &quot;B5&quot;\\n  input: &quot;B5/RMSPROP&quot;\\n  input: &quot;B5/RMSPROP_1&quot;\\n  input: &quot;B6&quot;\\n  input: &quot;B6/RMSPROP&quot;\\n  input: &quot;B6/RMSPROP_1&quot;\\n  input: &quot;W1&quot;\\n  input: &quot;W1/RMSPROP&quot;\\n  input: &quot;W1/RMSPROP_1&quot;\\n  input: &quot;W2&quot;\\n  input: &quot;W2/RMSPROP&quot;\\n  input: &quot;W2/RMSPROP_1&quot;\\n  input: &quot;W3&quot;\\n  input: &quot;W3/RMSPROP&quot;\\n  input: &quot;W3/RMSPROP_1&quot;\\n  input: &quot;W4&quot;\\n  input: &quot;W4/RMSPROP&quot;\\n  input: &quot;W4/RMSPROP_1&quot;\\n  input: &quot;W5&quot;\\n  input: &quot;W5/RMSPROP&quot;\\n  input: &quot;W5/RMSPROP_1&quot;\\n  input: &quot;W6&quot;\\n  input: &quot;W6/RMSPROP&quot;\\n  input: &quot;W6/RMSPROP_1&quot;\\n  attr {\\n    key: &quot;dtypes&quot;\\n    value {\\n      list {\\n        type: DT_FLOAT\\n        type: DT_FLOAT\\n        type: DT_FLOAT\\n        type: DT_FLOAT\\n        type: DT_FLOAT\\n        type: DT_FLOAT\\n        type: DT_FLOAT\\n        type: DT_FLOAT\\n        type: DT_FLOAT\\n        type: DT_FLOAT\\n        type: DT_FLOAT\\n        type: DT_FLOAT\\n        type: DT_FLOAT\\n        type: DT_FLOAT\\n        type: DT_FLOAT\\n        type: DT_FLOAT\\n        type: DT_FLOAT\\n        type: DT_FLOAT\\n        type: DT_FLOAT\\n        type: DT_FLOAT\\n        type: DT_FLOAT\\n        type: DT_FLOAT\\n        type: DT_FLOAT\\n        type: DT_FLOAT\\n        type: DT_FLOAT\\n        type: DT_FLOAT\\n        type: DT_FLOAT\\n        type: DT_FLOAT\\n        type: DT_FLOAT\\n        type: DT_FLOAT\\n        type: DT_FLOAT\\n        type: DT_FLOAT\\n        type: DT_FLOAT\\n        type: DT_FLOAT\\n        type: DT_FLOAT\\n        type: DT_FLOAT\\n      }\\n    }\\n  }\\n}\\nnode {\\n  name: &quot;MODEL_DUMP/save/control_dependency&quot;\\n  op: &quot;Identity&quot;\\n  input: &quot;MODEL_DUMP/save/Const&quot;\\n  input: &quot;^MODEL_DUMP/save/SaveV2&quot;\\n  attr {\\n    key: &quot;T&quot;\\n    value {\\n      type: DT_STRING\\n    }\\n  }\\n  attr {\\n    key: &quot;_class&quot;\\n    value {\\n      list {\\n        s: &quot;loc:@MODEL_DUMP/save/Const&quot;\\n      }\\n    }\\n  }\\n}\\nnode {\\n  name: &quot;MODEL_DUMP/save/RestoreV2/tensor_names&quot;\\n  op: &quot;Const&quot;\\n  device: &quot;/device:CPU:0&quot;\\n  attr {\\n    key: &quot;dtype&quot;\\n    value {\\n      type: DT_STRING\\n    }\\n  }\\n  attr {\\n    key: &quot;value&quot;\\n    value {\\n      tensor {\\n        dtype: DT_STRING\\n        tensor_shape {\\n          dim {\\n            size: 36\\n          }\\n        }\\n        string_val: &quot;B1&quot;\\n        string_val: &quot;B1/RMSPROP&quot;\\n        string_val: &quot;B1/RMSPROP_1&quot;\\n        string_val: &quot;B2&quot;\\n        string_val: &quot;B2/RMSPROP&quot;\\n        string_val: &quot;B2/RMSPROP_1&quot;\\n        string_val: &quot;B3&quot;\\n        string_val: &quot;B3/RMSPROP&quot;\\n        string_val: &quot;B3/RMSPROP_1&quot;\\n        string_val: &quot;B4&quot;\\n        string_val: &quot;B4/RMSPROP&quot;\\n        string_val: &quot;B4/RMSPROP_1&quot;\\n        string_val: &quot;B5&quot;\\n        string_val: &quot;B5/RMSPROP&quot;\\n        string_val: &quot;B5/RMSPROP_1&quot;\\n        string_val: &quot;B6&quot;\\n        string_val: &quot;B6/RMSPROP&quot;\\n        string_val: &quot;B6/RMSPROP_1&quot;\\n        string_val: &quot;W1&quot;\\n        string_val: &quot;W1/RMSPROP&quot;\\n        string_val: &quot;W1/RMSPROP_1&quot;\\n        string_val: &quot;W2&quot;\\n        string_val: &quot;W2/RMSPROP&quot;\\n        string_val: &quot;W2/RMSPROP_1&quot;\\n        string_val: &quot;W3&quot;\\n        string_val: &quot;W3/RMSPROP&quot;\\n        string_val: &quot;W3/RMSPROP_1&quot;\\n        string_val: &quot;W4&quot;\\n        string_val: &quot;W4/RMSPROP&quot;\\n        string_val: &quot;W4/RMSPROP_1&quot;\\n        string_val: &quot;W5&quot;\\n        string_val: &quot;W5/RMSPROP&quot;\\n        string_val: &quot;W5/RMSPROP_1&quot;\\n        string_val: &quot;W6&quot;\\n        string_val: &quot;W6/RMSPROP&quot;\\n        string_val: &quot;W6/RMSPROP_1&quot;\\n      }\\n    }\\n  }\\n}\\nnode {\\n  name: &quot;MODEL_DUMP/save/RestoreV2/shape_and_slices&quot;\\n  op: &quot;Const&quot;\\n  device: &quot;/device:CPU:0&quot;\\n  attr {\\n    key: &quot;dtype&quot;\\n    value {\\n      type: DT_STRING\\n    }\\n  }\\n  attr {\\n    key: &quot;value&quot;\\n    value {\\n      tensor {\\n        dtype: DT_STRING\\n        tensor_shape {\\n          dim {\\n            size: 36\\n          }\\n        }\\n        string_val: &quot;&quot;\\n        string_val: &quot;&quot;\\n        string_val: &quot;&quot;\\n        string_val: &quot;&quot;\\n        string_val: &quot;&quot;\\n        string_val: &quot;&quot;\\n        string_val: &quot;&quot;\\n        string_val: &quot;&quot;\\n        string_val: &quot;&quot;\\n        string_val: &quot;&quot;\\n        string_val: &quot;&quot;\\n        string_val: &quot;&quot;\\n        string_val: &quot;&quot;\\n        string_val: &quot;&quot;\\n        string_val: &quot;&quot;\\n        string_val: &quot;&quot;\\n        string_val: &quot;&quot;\\n        string_val: &quot;&quot;\\n        string_val: &quot;&quot;\\n        string_val: &quot;&quot;\\n        string_val: &quot;&quot;\\n        string_val: &quot;&quot;\\n        string_val: &quot;&quot;\\n        string_val: &quot;&quot;\\n        string_val: &quot;&quot;\\n        string_val: &quot;&quot;\\n        string_val: &quot;&quot;\\n        string_val: &quot;&quot;\\n        string_val: &quot;&quot;\\n        string_val: &quot;&quot;\\n        string_val: &quot;&quot;\\n        string_val: &quot;&quot;\\n        string_val: &quot;&quot;\\n        string_val: &quot;&quot;\\n        string_val: &quot;&quot;\\n        string_val: &quot;&quot;\\n      }\\n    }\\n  }\\n}\\nnode {\\n  name: &quot;MODEL_DUMP/save/RestoreV2&quot;\\n  op: &quot;RestoreV2&quot;\\n  input: &quot;MODEL_DUMP/save/Const&quot;\\n  input: &quot;MODEL_DUMP/save/RestoreV2/tensor_names&quot;\\n  input: &quot;MODEL_DUMP/save/RestoreV2/shape_and_slices&quot;\\n  device: &quot;/device:CPU:0&quot;\\n  attr {\\n    key: &quot;dtypes&quot;\\n    value {\\n      list {\\n        type: DT_FLOAT\\n        type: DT_FLOAT\\n        type: DT_FLOAT\\n        type: DT_FLOAT\\n        type: DT_FLOAT\\n        type: DT_FLOAT\\n        type: DT_FLOAT\\n        type: DT_FLOAT\\n        type: DT_FLOAT\\n        type: DT_FLOAT\\n        type: DT_FLOAT\\n        type: DT_FLOAT\\n        type: DT_FLOAT\\n        type: DT_FLOAT\\n        type: DT_FLOAT\\n        type: DT_FLOAT\\n        type: DT_FLOAT\\n        type: DT_FLOAT\\n        type: DT_FLOAT\\n        type: DT_FLOAT\\n        type: DT_FLOAT\\n        type: DT_FLOAT\\n        type: DT_FLOAT\\n        type: DT_FLOAT\\n        type: DT_FLOAT\\n        type: DT_FLOAT\\n        type: DT_FLOAT\\n        type: DT_FLOAT\\n        type: DT_FLOAT\\n        type: DT_FLOAT\\n        type: DT_FLOAT\\n        type: DT_FLOAT\\n        type: DT_FLOAT\\n        type: DT_FLOAT\\n        type: DT_FLOAT\\n        type: DT_FLOAT\\n      }\\n    }\\n  }\\n}\\nnode {\\n  name: &quot;MODEL_DUMP/save/Assign&quot;\\n  op: &quot;Assign&quot;\\n  input: &quot;B1&quot;\\n  input: &quot;MODEL_DUMP/save/RestoreV2&quot;\\n  attr {\\n    key: &quot;T&quot;\\n    value {\\n      type: DT_FLOAT\\n    }\\n  }\\n  attr {\\n    key: &quot;_class&quot;\\n    value {\\n      list {\\n        s: &quot;loc:@B1&quot;\\n      }\\n    }\\n  }\\n  attr {\\n    key: &quot;use_locking&quot;\\n    value {\\n      b: true\\n    }\\n  }\\n  attr {\\n    key: &quot;validate_shape&quot;\\n    value {\\n      b: true\\n    }\\n  }\\n}\\nnode {\\n  name: &quot;MODEL_DUMP/save/Assign_1&quot;\\n  op: &quot;Assign&quot;\\n  input: &quot;B1/RMSPROP&quot;\\n  input: &quot;MODEL_DUMP/save/RestoreV2:1&quot;\\n  attr {\\n    key: &quot;T&quot;\\n    value {\\n      type: DT_FLOAT\\n    }\\n  }\\n  attr {\\n    key: &quot;_class&quot;\\n    value {\\n      list {\\n        s: &quot;loc:@B1&quot;\\n      }\\n    }\\n  }\\n  attr {\\n    key: &quot;use_locking&quot;\\n    value {\\n      b: true\\n    }\\n  }\\n  attr {\\n    key: &quot;validate_shape&quot;\\n    value {\\n      b: true\\n    }\\n  }\\n}\\nnode {\\n  name: &quot;MODEL_DUMP/save/Assign_2&quot;\\n  op: &quot;Assign&quot;\\n  input: &quot;B1/RMSPROP_1&quot;\\n  input: &quot;MODEL_DUMP/save/RestoreV2:2&quot;\\n  attr {\\n    key: &quot;T&quot;\\n    value {\\n      type: DT_FLOAT\\n    }\\n  }\\n  attr {\\n    key: &quot;_class&quot;\\n    value {\\n      list {\\n        s: &quot;loc:@B1&quot;\\n      }\\n    }\\n  }\\n  attr {\\n    key: &quot;use_locking&quot;\\n    value {\\n      b: true\\n    }\\n  }\\n  attr {\\n    key: &quot;validate_shape&quot;\\n    value {\\n      b: true\\n    }\\n  }\\n}\\nnode {\\n  name: &quot;MODEL_DUMP/save/Assign_3&quot;\\n  op: &quot;Assign&quot;\\n  input: &quot;B2&quot;\\n  input: &quot;MODEL_DUMP/save/RestoreV2:3&quot;\\n  attr {\\n    key: &quot;T&quot;\\n    value {\\n      type: DT_FLOAT\\n    }\\n  }\\n  attr {\\n    key: &quot;_class&quot;\\n    value {\\n      list {\\n        s: &quot;loc:@B2&quot;\\n      }\\n    }\\n  }\\n  attr {\\n    key: &quot;use_locking&quot;\\n    value {\\n      b: true\\n    }\\n  }\\n  attr {\\n    key: &quot;validate_shape&quot;\\n    value {\\n      b: true\\n    }\\n  }\\n}\\nnode {\\n  name: &quot;MODEL_DUMP/save/Assign_4&quot;\\n  op: &quot;Assign&quot;\\n  input: &quot;B2/RMSPROP&quot;\\n  input: &quot;MODEL_DUMP/save/RestoreV2:4&quot;\\n  attr {\\n    key: &quot;T&quot;\\n    value {\\n      type: DT_FLOAT\\n    }\\n  }\\n  attr {\\n    key: &quot;_class&quot;\\n    value {\\n      list {\\n        s: &quot;loc:@B2&quot;\\n      }\\n    }\\n  }\\n  attr {\\n    key: &quot;use_locking&quot;\\n    value {\\n      b: true\\n    }\\n  }\\n  attr {\\n    key: &quot;validate_shape&quot;\\n    value {\\n      b: true\\n    }\\n  }\\n}\\nnode {\\n  name: &quot;MODEL_DUMP/save/Assign_5&quot;\\n  op: &quot;Assign&quot;\\n  input: &quot;B2/RMSPROP_1&quot;\\n  input: &quot;MODEL_DUMP/save/RestoreV2:5&quot;\\n  attr {\\n    key: &quot;T&quot;\\n    value {\\n      type: DT_FLOAT\\n    }\\n  }\\n  attr {\\n    key: &quot;_class&quot;\\n    value {\\n      list {\\n        s: &quot;loc:@B2&quot;\\n      }\\n    }\\n  }\\n  attr {\\n    key: &quot;use_locking&quot;\\n    value {\\n      b: true\\n    }\\n  }\\n  attr {\\n    key: &quot;validate_shape&quot;\\n    value {\\n      b: true\\n    }\\n  }\\n}\\nnode {\\n  name: &quot;MODEL_DUMP/save/Assign_6&quot;\\n  op: &quot;Assign&quot;\\n  input: &quot;B3&quot;\\n  input: &quot;MODEL_DUMP/save/RestoreV2:6&quot;\\n  attr {\\n    key: &quot;T&quot;\\n    value {\\n      type: DT_FLOAT\\n    }\\n  }\\n  attr {\\n    key: &quot;_class&quot;\\n    value {\\n      list {\\n        s: &quot;loc:@B3&quot;\\n      }\\n    }\\n  }\\n  attr {\\n    key: &quot;use_locking&quot;\\n    value {\\n      b: true\\n    }\\n  }\\n  attr {\\n    key: &quot;validate_shape&quot;\\n    value {\\n      b: true\\n    }\\n  }\\n}\\nnode {\\n  name: &quot;MODEL_DUMP/save/Assign_7&quot;\\n  op: &quot;Assign&quot;\\n  input: &quot;B3/RMSPROP&quot;\\n  input: &quot;MODEL_DUMP/save/RestoreV2:7&quot;\\n  attr {\\n    key: &quot;T&quot;\\n    value {\\n      type: DT_FLOAT\\n    }\\n  }\\n  attr {\\n    key: &quot;_class&quot;\\n    value {\\n      list {\\n        s: &quot;loc:@B3&quot;\\n      }\\n    }\\n  }\\n  attr {\\n    key: &quot;use_locking&quot;\\n    value {\\n      b: true\\n    }\\n  }\\n  attr {\\n    key: &quot;validate_shape&quot;\\n    value {\\n      b: true\\n    }\\n  }\\n}\\nnode {\\n  name: &quot;MODEL_DUMP/save/Assign_8&quot;\\n  op: &quot;Assign&quot;\\n  input: &quot;B3/RMSPROP_1&quot;\\n  input: &quot;MODEL_DUMP/save/RestoreV2:8&quot;\\n  attr {\\n    key: &quot;T&quot;\\n    value {\\n      type: DT_FLOAT\\n    }\\n  }\\n  attr {\\n    key: &quot;_class&quot;\\n    value {\\n      list {\\n        s: &quot;loc:@B3&quot;\\n      }\\n    }\\n  }\\n  attr {\\n    key: &quot;use_locking&quot;\\n    value {\\n      b: true\\n    }\\n  }\\n  attr {\\n    key: &quot;validate_shape&quot;\\n    value {\\n      b: true\\n    }\\n  }\\n}\\nnode {\\n  name: &quot;MODEL_DUMP/save/Assign_9&quot;\\n  op: &quot;Assign&quot;\\n  input: &quot;B4&quot;\\n  input: &quot;MODEL_DUMP/save/RestoreV2:9&quot;\\n  attr {\\n    key: &quot;T&quot;\\n    value {\\n      type: DT_FLOAT\\n    }\\n  }\\n  attr {\\n    key: &quot;_class&quot;\\n    value {\\n      list {\\n        s: &quot;loc:@B4&quot;\\n      }\\n    }\\n  }\\n  attr {\\n    key: &quot;use_locking&quot;\\n    value {\\n      b: true\\n    }\\n  }\\n  attr {\\n    key: &quot;validate_shape&quot;\\n    value {\\n      b: true\\n    }\\n  }\\n}\\nnode {\\n  name: &quot;MODEL_DUMP/save/Assign_10&quot;\\n  op: &quot;Assign&quot;\\n  input: &quot;B4/RMSPROP&quot;\\n  input: &quot;MODEL_DUMP/save/RestoreV2:10&quot;\\n  attr {\\n    key: &quot;T&quot;\\n    value {\\n      type: DT_FLOAT\\n    }\\n  }\\n  attr {\\n    key: &quot;_class&quot;\\n    value {\\n      list {\\n        s: &quot;loc:@B4&quot;\\n      }\\n    }\\n  }\\n  attr {\\n    key: &quot;use_locking&quot;\\n    value {\\n      b: true\\n    }\\n  }\\n  attr {\\n    key: &quot;validate_shape&quot;\\n    value {\\n      b: true\\n    }\\n  }\\n}\\nnode {\\n  name: &quot;MODEL_DUMP/save/Assign_11&quot;\\n  op: &quot;Assign&quot;\\n  input: &quot;B4/RMSPROP_1&quot;\\n  input: &quot;MODEL_DUMP/save/RestoreV2:11&quot;\\n  attr {\\n    key: &quot;T&quot;\\n    value {\\n      type: DT_FLOAT\\n    }\\n  }\\n  attr {\\n    key: &quot;_class&quot;\\n    value {\\n      list {\\n        s: &quot;loc:@B4&quot;\\n      }\\n    }\\n  }\\n  attr {\\n    key: &quot;use_locking&quot;\\n    value {\\n      b: true\\n    }\\n  }\\n  attr {\\n    key: &quot;validate_shape&quot;\\n    value {\\n      b: true\\n    }\\n  }\\n}\\nnode {\\n  name: &quot;MODEL_DUMP/save/Assign_12&quot;\\n  op: &quot;Assign&quot;\\n  input: &quot;B5&quot;\\n  input: &quot;MODEL_DUMP/save/RestoreV2:12&quot;\\n  attr {\\n    key: &quot;T&quot;\\n    value {\\n      type: DT_FLOAT\\n    }\\n  }\\n  attr {\\n    key: &quot;_class&quot;\\n    value {\\n      list {\\n        s: &quot;loc:@B5&quot;\\n      }\\n    }\\n  }\\n  attr {\\n    key: &quot;use_locking&quot;\\n    value {\\n      b: true\\n    }\\n  }\\n  attr {\\n    key: &quot;validate_shape&quot;\\n    value {\\n      b: true\\n    }\\n  }\\n}\\nnode {\\n  name: &quot;MODEL_DUMP/save/Assign_13&quot;\\n  op: &quot;Assign&quot;\\n  input: &quot;B5/RMSPROP&quot;\\n  input: &quot;MODEL_DUMP/save/RestoreV2:13&quot;\\n  attr {\\n    key: &quot;T&quot;\\n    value {\\n      type: DT_FLOAT\\n    }\\n  }\\n  attr {\\n    key: &quot;_class&quot;\\n    value {\\n      list {\\n        s: &quot;loc:@B5&quot;\\n      }\\n    }\\n  }\\n  attr {\\n    key: &quot;use_locking&quot;\\n    value {\\n      b: true\\n    }\\n  }\\n  attr {\\n    key: &quot;validate_shape&quot;\\n    value {\\n      b: true\\n    }\\n  }\\n}\\nnode {\\n  name: &quot;MODEL_DUMP/save/Assign_14&quot;\\n  op: &quot;Assign&quot;\\n  input: &quot;B5/RMSPROP_1&quot;\\n  input: &quot;MODEL_DUMP/save/RestoreV2:14&quot;\\n  attr {\\n    key: &quot;T&quot;\\n    value {\\n      type: DT_FLOAT\\n    }\\n  }\\n  attr {\\n    key: &quot;_class&quot;\\n    value {\\n      list {\\n        s: &quot;loc:@B5&quot;\\n      }\\n    }\\n  }\\n  attr {\\n    key: &quot;use_locking&quot;\\n    value {\\n      b: true\\n    }\\n  }\\n  attr {\\n    key: &quot;validate_shape&quot;\\n    value {\\n      b: true\\n    }\\n  }\\n}\\nnode {\\n  name: &quot;MODEL_DUMP/save/Assign_15&quot;\\n  op: &quot;Assign&quot;\\n  input: &quot;B6&quot;\\n  input: &quot;MODEL_DUMP/save/RestoreV2:15&quot;\\n  attr {\\n    key: &quot;T&quot;\\n    value {\\n      type: DT_FLOAT\\n    }\\n  }\\n  attr {\\n    key: &quot;_class&quot;\\n    value {\\n      list {\\n        s: &quot;loc:@B6&quot;\\n      }\\n    }\\n  }\\n  attr {\\n    key: &quot;use_locking&quot;\\n    value {\\n      b: true\\n    }\\n  }\\n  attr {\\n    key: &quot;validate_shape&quot;\\n    value {\\n      b: true\\n    }\\n  }\\n}\\nnode {\\n  name: &quot;MODEL_DUMP/save/Assign_16&quot;\\n  op: &quot;Assign&quot;\\n  input: &quot;B6/RMSPROP&quot;\\n  input: &quot;MODEL_DUMP/save/RestoreV2:16&quot;\\n  attr {\\n    key: &quot;T&quot;\\n    value {\\n      type: DT_FLOAT\\n    }\\n  }\\n  attr {\\n    key: &quot;_class&quot;\\n    value {\\n      list {\\n        s: &quot;loc:@B6&quot;\\n      }\\n    }\\n  }\\n  attr {\\n    key: &quot;use_locking&quot;\\n    value {\\n      b: true\\n    }\\n  }\\n  attr {\\n    key: &quot;validate_shape&quot;\\n    value {\\n      b: true\\n    }\\n  }\\n}\\nnode {\\n  name: &quot;MODEL_DUMP/save/Assign_17&quot;\\n  op: &quot;Assign&quot;\\n  input: &quot;B6/RMSPROP_1&quot;\\n  input: &quot;MODEL_DUMP/save/RestoreV2:17&quot;\\n  attr {\\n    key: &quot;T&quot;\\n    value {\\n      type: DT_FLOAT\\n    }\\n  }\\n  attr {\\n    key: &quot;_class&quot;\\n    value {\\n      list {\\n        s: &quot;loc:@B6&quot;\\n      }\\n    }\\n  }\\n  attr {\\n    key: &quot;use_locking&quot;\\n    value {\\n      b: true\\n    }\\n  }\\n  attr {\\n    key: &quot;validate_shape&quot;\\n    value {\\n      b: true\\n    }\\n  }\\n}\\nnode {\\n  name: &quot;MODEL_DUMP/save/Assign_18&quot;\\n  op: &quot;Assign&quot;\\n  input: &quot;W1&quot;\\n  input: &quot;MODEL_DUMP/save/RestoreV2:18&quot;\\n  attr {\\n    key: &quot;T&quot;\\n    value {\\n      type: DT_FLOAT\\n    }\\n  }\\n  attr {\\n    key: &quot;_class&quot;\\n    value {\\n      list {\\n        s: &quot;loc:@W1&quot;\\n      }\\n    }\\n  }\\n  attr {\\n    key: &quot;use_locking&quot;\\n    value {\\n      b: true\\n    }\\n  }\\n  attr {\\n    key: &quot;validate_shape&quot;\\n    value {\\n      b: true\\n    }\\n  }\\n}\\nnode {\\n  name: &quot;MODEL_DUMP/save/Assign_19&quot;\\n  op: &quot;Assign&quot;\\n  input: &quot;W1/RMSPROP&quot;\\n  input: &quot;MODEL_DUMP/save/RestoreV2:19&quot;\\n  attr {\\n    key: &quot;T&quot;\\n    value {\\n      type: DT_FLOAT\\n    }\\n  }\\n  attr {\\n    key: &quot;_class&quot;\\n    value {\\n      list {\\n        s: &quot;loc:@W1&quot;\\n      }\\n    }\\n  }\\n  attr {\\n    key: &quot;use_locking&quot;\\n    value {\\n      b: true\\n    }\\n  }\\n  attr {\\n    key: &quot;validate_shape&quot;\\n    value {\\n      b: true\\n    }\\n  }\\n}\\nnode {\\n  name: &quot;MODEL_DUMP/save/Assign_20&quot;\\n  op: &quot;Assign&quot;\\n  input: &quot;W1/RMSPROP_1&quot;\\n  input: &quot;MODEL_DUMP/save/RestoreV2:20&quot;\\n  attr {\\n    key: &quot;T&quot;\\n    value {\\n      type: DT_FLOAT\\n    }\\n  }\\n  attr {\\n    key: &quot;_class&quot;\\n    value {\\n      list {\\n        s: &quot;loc:@W1&quot;\\n      }\\n    }\\n  }\\n  attr {\\n    key: &quot;use_locking&quot;\\n    value {\\n      b: true\\n    }\\n  }\\n  attr {\\n    key: &quot;validate_shape&quot;\\n    value {\\n      b: true\\n    }\\n  }\\n}\\nnode {\\n  name: &quot;MODEL_DUMP/save/Assign_21&quot;\\n  op: &quot;Assign&quot;\\n  input: &quot;W2&quot;\\n  input: &quot;MODEL_DUMP/save/RestoreV2:21&quot;\\n  attr {\\n    key: &quot;T&quot;\\n    value {\\n      type: DT_FLOAT\\n    }\\n  }\\n  attr {\\n    key: &quot;_class&quot;\\n    value {\\n      list {\\n        s: &quot;loc:@W2&quot;\\n      }\\n    }\\n  }\\n  attr {\\n    key: &quot;use_locking&quot;\\n    value {\\n      b: true\\n    }\\n  }\\n  attr {\\n    key: &quot;validate_shape&quot;\\n    value {\\n      b: true\\n    }\\n  }\\n}\\nnode {\\n  name: &quot;MODEL_DUMP/save/Assign_22&quot;\\n  op: &quot;Assign&quot;\\n  input: &quot;W2/RMSPROP&quot;\\n  input: &quot;MODEL_DUMP/save/RestoreV2:22&quot;\\n  attr {\\n    key: &quot;T&quot;\\n    value {\\n      type: DT_FLOAT\\n    }\\n  }\\n  attr {\\n    key: &quot;_class&quot;\\n    value {\\n      list {\\n        s: &quot;loc:@W2&quot;\\n      }\\n    }\\n  }\\n  attr {\\n    key: &quot;use_locking&quot;\\n    value {\\n      b: true\\n    }\\n  }\\n  attr {\\n    key: &quot;validate_shape&quot;\\n    value {\\n      b: true\\n    }\\n  }\\n}\\nnode {\\n  name: &quot;MODEL_DUMP/save/Assign_23&quot;\\n  op: &quot;Assign&quot;\\n  input: &quot;W2/RMSPROP_1&quot;\\n  input: &quot;MODEL_DUMP/save/RestoreV2:23&quot;\\n  attr {\\n    key: &quot;T&quot;\\n    value {\\n      type: DT_FLOAT\\n    }\\n  }\\n  attr {\\n    key: &quot;_class&quot;\\n    value {\\n      list {\\n        s: &quot;loc:@W2&quot;\\n      }\\n    }\\n  }\\n  attr {\\n    key: &quot;use_locking&quot;\\n    value {\\n      b: true\\n    }\\n  }\\n  attr {\\n    key: &quot;validate_shape&quot;\\n    value {\\n      b: true\\n    }\\n  }\\n}\\nnode {\\n  name: &quot;MODEL_DUMP/save/Assign_24&quot;\\n  op: &quot;Assign&quot;\\n  input: &quot;W3&quot;\\n  input: &quot;MODEL_DUMP/save/RestoreV2:24&quot;\\n  attr {\\n    key: &quot;T&quot;\\n    value {\\n      type: DT_FLOAT\\n    }\\n  }\\n  attr {\\n    key: &quot;_class&quot;\\n    value {\\n      list {\\n        s: &quot;loc:@W3&quot;\\n      }\\n    }\\n  }\\n  attr {\\n    key: &quot;use_locking&quot;\\n    value {\\n      b: true\\n    }\\n  }\\n  attr {\\n    key: &quot;validate_shape&quot;\\n    value {\\n      b: true\\n    }\\n  }\\n}\\nnode {\\n  name: &quot;MODEL_DUMP/save/Assign_25&quot;\\n  op: &quot;Assign&quot;\\n  input: &quot;W3/RMSPROP&quot;\\n  input: &quot;MODEL_DUMP/save/RestoreV2:25&quot;\\n  attr {\\n    key: &quot;T&quot;\\n    value {\\n      type: DT_FLOAT\\n    }\\n  }\\n  attr {\\n    key: &quot;_class&quot;\\n    value {\\n      list {\\n        s: &quot;loc:@W3&quot;\\n      }\\n    }\\n  }\\n  attr {\\n    key: &quot;use_locking&quot;\\n    value {\\n      b: true\\n    }\\n  }\\n  attr {\\n    key: &quot;validate_shape&quot;\\n    value {\\n      b: true\\n    }\\n  }\\n}\\nnode {\\n  name: &quot;MODEL_DUMP/save/Assign_26&quot;\\n  op: &quot;Assign&quot;\\n  input: &quot;W3/RMSPROP_1&quot;\\n  input: &quot;MODEL_DUMP/save/RestoreV2:26&quot;\\n  attr {\\n    key: &quot;T&quot;\\n    value {\\n      type: DT_FLOAT\\n    }\\n  }\\n  attr {\\n    key: &quot;_class&quot;\\n    value {\\n      list {\\n        s: &quot;loc:@W3&quot;\\n      }\\n    }\\n  }\\n  attr {\\n    key: &quot;use_locking&quot;\\n    value {\\n      b: true\\n    }\\n  }\\n  attr {\\n    key: &quot;validate_shape&quot;\\n    value {\\n      b: true\\n    }\\n  }\\n}\\nnode {\\n  name: &quot;MODEL_DUMP/save/Assign_27&quot;\\n  op: &quot;Assign&quot;\\n  input: &quot;W4&quot;\\n  input: &quot;MODEL_DUMP/save/RestoreV2:27&quot;\\n  attr {\\n    key: &quot;T&quot;\\n    value {\\n      type: DT_FLOAT\\n    }\\n  }\\n  attr {\\n    key: &quot;_class&quot;\\n    value {\\n      list {\\n        s: &quot;loc:@W4&quot;\\n      }\\n    }\\n  }\\n  attr {\\n    key: &quot;use_locking&quot;\\n    value {\\n      b: true\\n    }\\n  }\\n  attr {\\n    key: &quot;validate_shape&quot;\\n    value {\\n      b: true\\n    }\\n  }\\n}\\nnode {\\n  name: &quot;MODEL_DUMP/save/Assign_28&quot;\\n  op: &quot;Assign&quot;\\n  input: &quot;W4/RMSPROP&quot;\\n  input: &quot;MODEL_DUMP/save/RestoreV2:28&quot;\\n  attr {\\n    key: &quot;T&quot;\\n    value {\\n      type: DT_FLOAT\\n    }\\n  }\\n  attr {\\n    key: &quot;_class&quot;\\n    value {\\n      list {\\n        s: &quot;loc:@W4&quot;\\n      }\\n    }\\n  }\\n  attr {\\n    key: &quot;use_locking&quot;\\n    value {\\n      b: true\\n    }\\n  }\\n  attr {\\n    key: &quot;validate_shape&quot;\\n    value {\\n      b: true\\n    }\\n  }\\n}\\nnode {\\n  name: &quot;MODEL_DUMP/save/Assign_29&quot;\\n  op: &quot;Assign&quot;\\n  input: &quot;W4/RMSPROP_1&quot;\\n  input: &quot;MODEL_DUMP/save/RestoreV2:29&quot;\\n  attr {\\n    key: &quot;T&quot;\\n    value {\\n      type: DT_FLOAT\\n    }\\n  }\\n  attr {\\n    key: &quot;_class&quot;\\n    value {\\n      list {\\n        s: &quot;loc:@W4&quot;\\n      }\\n    }\\n  }\\n  attr {\\n    key: &quot;use_locking&quot;\\n    value {\\n      b: true\\n    }\\n  }\\n  attr {\\n    key: &quot;validate_shape&quot;\\n    value {\\n      b: true\\n    }\\n  }\\n}\\nnode {\\n  name: &quot;MODEL_DUMP/save/Assign_30&quot;\\n  op: &quot;Assign&quot;\\n  input: &quot;W5&quot;\\n  input: &quot;MODEL_DUMP/save/RestoreV2:30&quot;\\n  attr {\\n    key: &quot;T&quot;\\n    value {\\n      type: DT_FLOAT\\n    }\\n  }\\n  attr {\\n    key: &quot;_class&quot;\\n    value {\\n      list {\\n        s: &quot;loc:@W5&quot;\\n      }\\n    }\\n  }\\n  attr {\\n    key: &quot;use_locking&quot;\\n    value {\\n      b: true\\n    }\\n  }\\n  attr {\\n    key: &quot;validate_shape&quot;\\n    value {\\n      b: true\\n    }\\n  }\\n}\\nnode {\\n  name: &quot;MODEL_DUMP/save/Assign_31&quot;\\n  op: &quot;Assign&quot;\\n  input: &quot;W5/RMSPROP&quot;\\n  input: &quot;MODEL_DUMP/save/RestoreV2:31&quot;\\n  attr {\\n    key: &quot;T&quot;\\n    value {\\n      type: DT_FLOAT\\n    }\\n  }\\n  attr {\\n    key: &quot;_class&quot;\\n    value {\\n      list {\\n        s: &quot;loc:@W5&quot;\\n      }\\n    }\\n  }\\n  attr {\\n    key: &quot;use_locking&quot;\\n    value {\\n      b: true\\n    }\\n  }\\n  attr {\\n    key: &quot;validate_shape&quot;\\n    value {\\n      b: true\\n    }\\n  }\\n}\\nnode {\\n  name: &quot;MODEL_DUMP/save/Assign_32&quot;\\n  op: &quot;Assign&quot;\\n  input: &quot;W5/RMSPROP_1&quot;\\n  input: &quot;MODEL_DUMP/save/RestoreV2:32&quot;\\n  attr {\\n    key: &quot;T&quot;\\n    value {\\n      type: DT_FLOAT\\n    }\\n  }\\n  attr {\\n    key: &quot;_class&quot;\\n    value {\\n      list {\\n        s: &quot;loc:@W5&quot;\\n      }\\n    }\\n  }\\n  attr {\\n    key: &quot;use_locking&quot;\\n    value {\\n      b: true\\n    }\\n  }\\n  attr {\\n    key: &quot;validate_shape&quot;\\n    value {\\n      b: true\\n    }\\n  }\\n}\\nnode {\\n  name: &quot;MODEL_DUMP/save/Assign_33&quot;\\n  op: &quot;Assign&quot;\\n  input: &quot;W6&quot;\\n  input: &quot;MODEL_DUMP/save/RestoreV2:33&quot;\\n  attr {\\n    key: &quot;T&quot;\\n    value {\\n      type: DT_FLOAT\\n    }\\n  }\\n  attr {\\n    key: &quot;_class&quot;\\n    value {\\n      list {\\n        s: &quot;loc:@W6&quot;\\n      }\\n    }\\n  }\\n  attr {\\n    key: &quot;use_locking&quot;\\n    value {\\n      b: true\\n    }\\n  }\\n  attr {\\n    key: &quot;validate_shape&quot;\\n    value {\\n      b: true\\n    }\\n  }\\n}\\nnode {\\n  name: &quot;MODEL_DUMP/save/Assign_34&quot;\\n  op: &quot;Assign&quot;\\n  input: &quot;W6/RMSPROP&quot;\\n  input: &quot;MODEL_DUMP/save/RestoreV2:34&quot;\\n  attr {\\n    key: &quot;T&quot;\\n    value {\\n      type: DT_FLOAT\\n    }\\n  }\\n  attr {\\n    key: &quot;_class&quot;\\n    value {\\n      list {\\n        s: &quot;loc:@W6&quot;\\n      }\\n    }\\n  }\\n  attr {\\n    key: &quot;use_locking&quot;\\n    value {\\n      b: true\\n    }\\n  }\\n  attr {\\n    key: &quot;validate_shape&quot;\\n    value {\\n      b: true\\n    }\\n  }\\n}\\nnode {\\n  name: &quot;MODEL_DUMP/save/Assign_35&quot;\\n  op: &quot;Assign&quot;\\n  input: &quot;W6/RMSPROP_1&quot;\\n  input: &quot;MODEL_DUMP/save/RestoreV2:35&quot;\\n  attr {\\n    key: &quot;T&quot;\\n    value {\\n      type: DT_FLOAT\\n    }\\n  }\\n  attr {\\n    key: &quot;_class&quot;\\n    value {\\n      list {\\n        s: &quot;loc:@W6&quot;\\n      }\\n    }\\n  }\\n  attr {\\n    key: &quot;use_locking&quot;\\n    value {\\n      b: true\\n    }\\n  }\\n  attr {\\n    key: &quot;validate_shape&quot;\\n    value {\\n      b: true\\n    }\\n  }\\n}\\nnode {\\n  name: &quot;MODEL_DUMP/save/restore_all&quot;\\n  op: &quot;NoOp&quot;\\n  input: &quot;^MODEL_DUMP/save/Assign&quot;\\n  input: &quot;^MODEL_DUMP/save/Assign_1&quot;\\n  input: &quot;^MODEL_DUMP/save/Assign_10&quot;\\n  input: &quot;^MODEL_DUMP/save/Assign_11&quot;\\n  input: &quot;^MODEL_DUMP/save/Assign_12&quot;\\n  input: &quot;^MODEL_DUMP/save/Assign_13&quot;\\n  input: &quot;^MODEL_DUMP/save/Assign_14&quot;\\n  input: &quot;^MODEL_DUMP/save/Assign_15&quot;\\n  input: &quot;^MODEL_DUMP/save/Assign_16&quot;\\n  input: &quot;^MODEL_DUMP/save/Assign_17&quot;\\n  input: &quot;^MODEL_DUMP/save/Assign_18&quot;\\n  input: &quot;^MODEL_DUMP/save/Assign_19&quot;\\n  input: &quot;^MODEL_DUMP/save/Assign_2&quot;\\n  input: &quot;^MODEL_DUMP/save/Assign_20&quot;\\n  input: &quot;^MODEL_DUMP/save/Assign_21&quot;\\n  input: &quot;^MODEL_DUMP/save/Assign_22&quot;\\n  input: &quot;^MODEL_DUMP/save/Assign_23&quot;\\n  input: &quot;^MODEL_DUMP/save/Assign_24&quot;\\n  input: &quot;^MODEL_DUMP/save/Assign_25&quot;\\n  input: &quot;^MODEL_DUMP/save/Assign_26&quot;\\n  input: &quot;^MODEL_DUMP/save/Assign_27&quot;\\n  input: &quot;^MODEL_DUMP/save/Assign_28&quot;\\n  input: &quot;^MODEL_DUMP/save/Assign_29&quot;\\n  input: &quot;^MODEL_DUMP/save/Assign_3&quot;\\n  input: &quot;^MODEL_DUMP/save/Assign_30&quot;\\n  input: &quot;^MODEL_DUMP/save/Assign_31&quot;\\n  input: &quot;^MODEL_DUMP/save/Assign_32&quot;\\n  input: &quot;^MODEL_DUMP/save/Assign_33&quot;\\n  input: &quot;^MODEL_DUMP/save/Assign_34&quot;\\n  input: &quot;^MODEL_DUMP/save/Assign_35&quot;\\n  input: &quot;^MODEL_DUMP/save/Assign_4&quot;\\n  input: &quot;^MODEL_DUMP/save/Assign_5&quot;\\n  input: &quot;^MODEL_DUMP/save/Assign_6&quot;\\n  input: &quot;^MODEL_DUMP/save/Assign_7&quot;\\n  input: &quot;^MODEL_DUMP/save/Assign_8&quot;\\n  input: &quot;^MODEL_DUMP/save/Assign_9&quot;\\n}\\n';\n",
       "          }\n",
       "        </script>\n",
       "        <link rel=&quot;import&quot; href=&quot;https://tensorboard.appspot.com/tf-graph-basic.build.html&quot; onload=load()>\n",
       "        <div style=&quot;height:600px&quot;>\n",
       "          <tf-graph-basic id=&quot;graph0.7891253144679928&quot;></tf-graph-basic>\n",
       "        </div>\n",
       "    \"></iframe>\n",
       "    "
      ],
      "text/plain": [
       "<IPython.core.display.HTML object>"
      ]
     },
     "metadata": {},
     "output_type": "display_data"
    }
   ],
   "source": [
    "# cannot show tensor constants\n",
    "show_graph(G)"
   ]
  },
  {
   "cell_type": "markdown",
   "metadata": {},
   "source": [
    "### 5.4 Run a Session on `G` for training and validation"
   ]
  },
  {
   "cell_type": "markdown",
   "metadata": {},
   "source": [
    "#### 5.4.1 Define a session `ConfigProto` instance for model execution protocols"
   ]
  },
  {
   "cell_type": "code",
   "execution_count": 49,
   "metadata": {
    "ExecuteTime": {
     "end_time": "2019-10-09T14:13:33.451004Z",
     "start_time": "2019-10-09T14:13:33.388354Z"
    }
   },
   "outputs": [],
   "source": [
    "config = tf.ConfigProto(log_device_placement = True) # log where each tensor is computed (CPU or GPU)\n",
    "\n",
    "# if you wish to impose a hard limit on the gpu memory used (at 20% max usage)\n",
    "if tf.test.is_gpu_available():\n",
    "    config.gpu_options.allow_growth = False\n",
    "    config.gpu_options.per_process_gpu_memory_fraction = 0.2\n",
    "\n",
    "\n",
    "# if you want to impose a flexible use-on-demand setting for using the gpu\n",
    "#if tf.test.is_gpu_available():\n",
    "#    config.gpu_options.allow_growth = True"
   ]
  },
  {
   "cell_type": "markdown",
   "metadata": {},
   "source": [
    "#### 5.4.2 Run the session with the defined `ConfigProto` instance `config`"
   ]
  },
  {
   "cell_type": "code",
   "execution_count": 50,
   "metadata": {
    "ExecuteTime": {
     "end_time": "2019-10-09T14:18:53.490910Z",
     "start_time": "2019-10-09T14:13:33.451977Z"
    },
    "scrolled": false
   },
   "outputs": [
    {
     "name": "stdout",
     "output_type": "stream",
     "text": [
      " \n",
      " (Training)\n",
      "\n",
      " TRL = Train Recreation Loss\n",
      " VRL = Validation Recreation Loss\n",
      "\n",
      "\n",
      " Epoch 1: \t TRL = 30.719 \t VRL = 0.415\n",
      " Epoch 2: \t TRL = 23.617 \t VRL = 0.321\n",
      " Epoch 3: \t TRL = 18.023 \t VRL = 0.246\n",
      " Epoch 4: \t TRL = 13.605 \t VRL = 0.187\n",
      " Epoch 5: \t TRL = 10.135 \t VRL = 0.141\n",
      " Epoch 6: \t TRL = 7.377 \t VRL = 0.104\n",
      " Epoch 7: \t TRL = 5.263 \t VRL = 0.077\n",
      " Epoch 8: \t TRL = 3.723 \t VRL = 0.057\n",
      " Epoch 9: \t TRL = 2.611 \t VRL = 0.044\n",
      " Epoch 10: \t TRL = 1.844 \t VRL = 0.034\n",
      " Epoch 11: \t TRL = 1.310 \t VRL = 0.027\n",
      " Epoch 12: \t TRL = 0.945 \t VRL = 0.023\n",
      " Epoch 13: \t TRL = 0.694 \t VRL = 0.020\n",
      " Epoch 14: \t TRL = 0.505 \t VRL = 0.017\n",
      " Epoch 15: \t TRL = 0.372 \t VRL = 0.016\n",
      " Epoch 16: \t TRL = 0.305 \t VRL = 0.015\n",
      " Epoch 17: \t TRL = 0.231 \t VRL = 0.014\n",
      " Epoch 18: \t TRL = 0.185 \t VRL = 0.013\n",
      " Epoch 19: \t TRL = 0.160 \t VRL = 0.013\n",
      " Epoch 20: \t TRL = 0.135 \t VRL = 0.012\n",
      " Epoch 21: \t TRL = 0.111 \t VRL = 0.012\n",
      " Epoch 22: \t TRL = 0.099 \t VRL = 0.012\n",
      " Epoch 23: \t TRL = 0.100 \t VRL = 0.012\n",
      " Epoch 24: \t TRL = 0.079 \t VRL = 0.012\n",
      " Epoch 25: \t TRL = 0.077 \t VRL = 0.012\n",
      " Epoch 26: \t TRL = 0.064 \t VRL = 0.012\n",
      " Epoch 27: \t TRL = 0.062 \t VRL = 0.011\n",
      " Epoch 28: \t TRL = 0.053 \t VRL = 0.011\n",
      " Epoch 29: \t TRL = 0.060 \t VRL = 0.011\n",
      " Epoch 30: \t TRL = 0.051 \t VRL = 0.011\n",
      " Epoch 31: \t TRL = 0.047 \t VRL = 0.011\n",
      " Epoch 32: \t TRL = 0.046 \t VRL = 0.011\n"
     ]
    }
   ],
   "source": [
    "tf.reset_default_graph()\n",
    "\n",
    "train_recreation_loss_history = []\n",
    "validation_recreation_loss_history = []\n",
    "\n",
    "with tf.Session(graph = G, config = config) as session:\n",
    "    \n",
    "    # initialize all `tf.Variables` declared in the graph\n",
    "    session.run(tf.global_variables_initializer())\n",
    "    \n",
    "    # create a summary writer instance\n",
    "    writer = get_new_summary_writer(hyperparameters[\"tensorboard_data_dump\"])\n",
    "        \n",
    "    print(\" \\n (Training)\\n\")\n",
    "    print(\" TRL = Train Recreation Loss\\n VRL = Validation Recreation Loss\\n\\n\")\n",
    "    \n",
    "    epochs = 32\n",
    "    k = 1\n",
    "    \n",
    "    for i in range(epochs):\n",
    "        \n",
    "        # you will need to start the iterator so that they are ready to\n",
    "        # flow-transfer data into the graph\n",
    "        # (\"Open the taps for training and validation datasets\")\n",
    "        session.run(train_tap.initializer)\n",
    "        session.run(validation_tap.initializer)\n",
    "        \n",
    "        L1 = 0\n",
    "        for j in range(number_of_train_batches):\n",
    "            # compute the training loss on the current training batch by executing the train loss sub-graph\n",
    "            L1_one_batch = session.run(train_recreation_error)\n",
    "            \n",
    "            # perform backprop on the whole graph G\n",
    "            session.run(perform_backpass)\n",
    "            \n",
    "            # obtain a live summary object containing data dump for train recreation loss\n",
    "            L1_one_batch_summary = session.run(train_recreation_error_summary)\n",
    "            \n",
    "            # accumulate the recreation losses\n",
    "            L1 = L1 + L1_one_batch\n",
    "            \n",
    "            # dump L1_summary and mark it with iteration id = k\n",
    "            # here, k = the iteration number/step -after- i epochs and j mini-batches of training\n",
    "            writer.add_summary(L1_one_batch_summary, k)\n",
    "            k = k + 1\n",
    "        \n",
    "        # compute the average training loss\n",
    "        L1 = L1/number_of_train_batches\n",
    "        \n",
    "        # compute the validation loss\n",
    "        L2 = session.run(val_recreation_error)\n",
    "        L2_raw = session.run(validation_recreation_error_raw_summary)\n",
    "        \n",
    "        # obtain a live summary object containing data dump for val_recreation_loss\n",
    "        L2_summary = session.run(validation_recreation_error_summary)\n",
    "        L2_raw_summary = session.run(validation_recreation_error_raw_summary)\n",
    "        \n",
    "        # dump L2_summary and mark it with iteration id = k\n",
    "        writer.add_summary(L2_summary, k)\n",
    "        writer.add_summary(L2_raw_summary, k)\n",
    "        \n",
    "        # make sure the any pending dumping work on the summary writer object is cleared\n",
    "        writer.flush()\n",
    "        \n",
    "        # print a live update on the recreation losses\n",
    "        print(\" Epoch %i: \\t TRL = %0.03f \\t VRL = %0.03f\" % ((i + 1), L1, L2))\n",
    "        \n",
    "        # record train/validation loss and inter-cluster distance scores\n",
    "        train_recreation_loss_history.append(L1)\n",
    "        validation_recreation_loss_history.append(L2)\n",
    "        \n",
    "    \n",
    "    # the training is complete, so now we can close the open write stream associated\n",
    "    writer.close()\n",
    "    \n",
    "    # save all data associated with the session, offline\n",
    "    model_dump_path = hyperparameters[\"model_dump\"] + \"MyModel.ckpt\"\n",
    "    save_graph_state.save(session, model_dump_path)"
   ]
  },
  {
   "cell_type": "markdown",
   "metadata": {},
   "source": [
    "#### 5.4.3 Visualize recreation losses"
   ]
  },
  {
   "cell_type": "code",
   "execution_count": 51,
   "metadata": {
    "ExecuteTime": {
     "end_time": "2019-10-09T14:18:53.623591Z",
     "start_time": "2019-10-09T14:18:53.492411Z"
    }
   },
   "outputs": [],
   "source": [
    "import matplotlib.pyplot as plt\n",
    "\n",
    "%matplotlib inline"
   ]
  },
  {
   "cell_type": "markdown",
   "metadata": {},
   "source": [
    "___Using `matplotlib`___"
   ]
  },
  {
   "cell_type": "code",
   "execution_count": 52,
   "metadata": {
    "ExecuteTime": {
     "end_time": "2019-10-09T14:18:54.005888Z",
     "start_time": "2019-10-09T14:18:53.624607Z"
    }
   },
   "outputs": [
    {
     "data": {
      "image/png": "[encoded data removed]",
      "text/plain": [
       "<Figure size 1224x864 with 2 Axes>"
      ]
     },
     "metadata": {
      "needs_background": "light"
     },
     "output_type": "display_data"
    }
   ],
   "source": [
    "plt.rcParams['figure.figsize'] = 17, 12\n",
    "plt.rcParams.update({'font.size': 16})\n",
    "\n",
    "t_epochs = range(epochs)\n",
    "\n",
    "plt.subplot(2, 1, 1)\n",
    "plt.plot(t_epochs, train_recreation_loss_history, \"k\")\n",
    "plt.xlabel(\"Epochs\")\n",
    "plt.ylabel(\"Regularized MSE Error\")\n",
    "plt.title(\"Training Recreation Loss\")\n",
    "\n",
    "plt.subplot(2, 1, 2)\n",
    "plt.plot(t_epochs, validation_recreation_loss_history, \"k\")\n",
    "plt.xlabel(\"Epochs\")\n",
    "plt.ylabel(\"Regularized MSE Error\")\n",
    "plt.title(\"Validation Recreation Loss\")\n",
    "\n",
    "plt.tight_layout()\n",
    "plt.show()"
   ]
  },
  {
   "cell_type": "markdown",
   "metadata": {},
   "source": [
    "<br>\n",
    "\n",
    "___From the tensorboard___\n",
    "\n",
    "__Training Recreation Loss Curve for `32` epochs (`14112` iterations)__\n",
    "\n",
    "<img src = \"./tensorboard_plots/ERROR_SUMMARIES_train_recreation_error.svg\">\n",
    "\n",
    "__Validation Recreation Loss Curve for `32` epochs (`14112` iterations)__\n",
    "\n",
    "<img src = \"./tensorboard_plots/ERROR_SUMMARIES_val_recreation_error.svg\">"
   ]
  },
  {
   "cell_type": "markdown",
   "metadata": {},
   "source": [
    "<br>\n",
    "\n",
    "## 6 Testing the AutoEncoder"
   ]
  },
  {
   "cell_type": "markdown",
   "metadata": {},
   "source": [
    "### 6.1 Obtaining MSE Error Distributions of the test non-fraudulent transactions"
   ]
  },
  {
   "cell_type": "markdown",
   "metadata": {},
   "source": [
    "#### 6.1.1 Test Dataset Recreation Error of `test_input`-`test_output`"
   ]
  },
  {
   "cell_type": "code",
   "execution_count": 53,
   "metadata": {
    "ExecuteTime": {
     "end_time": "2019-10-09T14:18:54.842684Z",
     "start_time": "2019-10-09T14:18:54.006959Z"
    }
   },
   "outputs": [
    {
     "name": "stdout",
     "output_type": "stream",
     "text": [
      "Test Dataset Error = 0.011\n"
     ]
    }
   ],
   "source": [
    "with tf.Session(graph = G) as session:\n",
    "    \n",
    "    # let's load our saved session data\n",
    "    save_graph_state.restore(session, model_dump_path)\n",
    "    clear_output()\n",
    "            \n",
    "    # you will need to start the iterator so that they are ready to\n",
    "    # flow-transfer data into the graph\n",
    "    # (\"Open the taps for the test dataset\")\n",
    "    session.run(test_tap.initializer)\n",
    "    \n",
    "    # get the test recreation error\n",
    "    error = session.run(test_recreation_error)\n",
    "    print(\"Test Dataset Error = %0.03f\" % error)\n",
    "    \n",
    "    # get the untouched MSE error\n",
    "    raw_error = session.run(test_recreation_error_raw)"
   ]
  },
  {
   "cell_type": "markdown",
   "metadata": {},
   "source": [
    "#### 6.1.2 Test Dataset MSE Error Distribution"
   ]
  },
  {
   "cell_type": "code",
   "execution_count": 54,
   "metadata": {
    "ExecuteTime": {
     "end_time": "2019-10-09T14:18:55.096577Z",
     "start_time": "2019-10-09T14:18:54.843830Z"
    }
   },
   "outputs": [
    {
     "data": {
      "image/png": "[encoded data removed]",
      "text/plain": [
       "<Figure size 1008x360 with 1 Axes>"
      ]
     },
     "metadata": {
      "needs_background": "light"
     },
     "output_type": "display_data"
    }
   ],
   "source": [
    "from scipy.stats import norm\n",
    "\n",
    "# Fit a normal distribution to the data\n",
    "mean, std = norm.fit(raw_error)\n",
    "\n",
    "# Plot the PDF\n",
    "plt.rcParams['figure.figsize'] = 14, 5\n",
    "plt.rcParams.update({'font.size': 12})\n",
    "\n",
    "x = np.linspace(mean - 3 * std , mean + 3 * std, 1000)\n",
    "pdf = norm.pdf(x, mean, std)\n",
    "plt.plot(x, pdf, \"b--\", linewidth = 1.5)\n",
    "\n",
    "title = \"Gaussian Fit : $\\mu$ = %0.02f, $\\sigma$ = %0.02f\" % (mean, std)\n",
    "plt.title(title)\n",
    "plt.xlabel(\"Recreation Error\")\n",
    "plt.ylabel(\"Probability\")\n",
    "\n",
    "plt.show()"
   ]
  },
  {
   "cell_type": "markdown",
   "metadata": {},
   "source": [
    "<br>\n",
    "\n",
    "### 6.2 Obtaining MSE Error Distributions for fraudulent transactions"
   ]
  },
  {
   "cell_type": "markdown",
   "metadata": {},
   "source": [
    "#### 6.2.1 Divide `X_F` into two subsets for experimentation and evaluation"
   ]
  },
  {
   "cell_type": "code",
   "execution_count": 55,
   "metadata": {
    "ExecuteTime": {
     "end_time": "2019-10-09T14:18:55.099815Z",
     "start_time": "2019-10-09T14:18:55.097652Z"
    }
   },
   "outputs": [],
   "source": [
    "# use one half of `X_F` tofind the error distributions and the other\n",
    "# half to test the classification threshold\n",
    "\n",
    "n = int(len(X_NF)/2)\n",
    "F_experiment = X_NF[:n]\n",
    "F_test = X_NF[n:]"
   ]
  },
  {
   "cell_type": "markdown",
   "metadata": {},
   "source": [
    "#### 6.2.2 Define Tensorflow Operations for MSE Error Distribution for a custom dataset"
   ]
  },
  {
   "cell_type": "code",
   "execution_count": 56,
   "metadata": {
    "ExecuteTime": {
     "end_time": "2019-10-09T14:18:55.214379Z",
     "start_time": "2019-10-09T14:18:55.100708Z"
    }
   },
   "outputs": [],
   "source": [
    "with G.as_default():\n",
    "    \n",
    "    with tf.name_scope(\"CUSTOM_TEST\"):\n",
    "        \n",
    "        # this placeholder tensor can accept one or multiple transaction data with\n",
    "        # the specified number of features\n",
    "        T_input = tf.placeholder(dtype = tf.float32,\n",
    "                                 shape = [None, hyperparameters[\"number_of_features\"]],\n",
    "                                 name = \"custom_test_dataset\")\n",
    "        \n",
    "        # perform a forward pass\n",
    "        T_predicted_output = perform_one_forward_pass(input_data = T_input,\n",
    "                                                      layers = layers,\n",
    "                                                      full_pass = True)\n",
    "        \n",
    "        # obtain the raw recreation error\n",
    "        T_recreation_error_raw = tf.keras.losses.MSE(y_true = T_input,y_pred = T_predicted_output)"
   ]
  },
  {
   "cell_type": "markdown",
   "metadata": {},
   "source": [
    "#### 6.2.2 Run a session and obtain the required raw recreation errors of `F_experiment` and `validation_input`"
   ]
  },
  {
   "cell_type": "code",
   "execution_count": 57,
   "metadata": {
    "ExecuteTime": {
     "end_time": "2019-10-09T14:18:56.131940Z",
     "start_time": "2019-10-09T14:18:55.216519Z"
    }
   },
   "outputs": [],
   "source": [
    "with tf.Session(graph = G) as session:\n",
    "    \n",
    "    # let's load our saved session data\n",
    "    save_graph_state.restore(session, model_dump_path)\n",
    "    clear_output()\n",
    "    \n",
    "    session.run(validation_tap.initializer)\n",
    "    \n",
    "    # get the untouched validation MSE error\n",
    "    validation_error_raw = session.run(val_recreation_error_raw)\n",
    "    \n",
    "    # get the untouched MSE error for `F_experiment`\n",
    "    F_experiment_error_raw = session.run(T_recreation_error_raw, \n",
    "                                         feed_dict = {T_input:np.array(F_experiment, dtype = np.float32)})"
   ]
  },
  {
   "cell_type": "markdown",
   "metadata": {
    "ExecuteTime": {
     "end_time": "2019-10-07T10:19:11.436875Z",
     "start_time": "2019-10-07T10:19:11.434604Z"
    }
   },
   "source": [
    "#### 6.2.3 MSE Error Distribution for the two types of transactions"
   ]
  },
  {
   "cell_type": "code",
   "execution_count": 58,
   "metadata": {
    "ExecuteTime": {
     "end_time": "2019-10-09T14:18:56.318524Z",
     "start_time": "2019-10-09T14:18:56.133224Z"
    }
   },
   "outputs": [
    {
     "data": {
      "image/png": "[encoded data removed]",
      "text/plain": [
       "<Figure size 1008x360 with 1 Axes>"
      ]
     },
     "metadata": {
      "needs_background": "light"
     },
     "output_type": "display_data"
    }
   ],
   "source": [
    "from scipy.stats import norm\n",
    "\n",
    "# Fit a normal distribution to the data\n",
    "FT_mean, FT_std = norm.fit(F_experiment_error_raw)\n",
    "NFT_mean, NFT_std = norm.fit(validation_error_raw)\n",
    "\n",
    "# Plot the PDF for non-fraudulent transactions\n",
    "NFT_x = np.linspace(NFT_mean - 3 * NFT_std , NFT_mean + 3 * NFT_std, 1000)\n",
    "NFT_pdf = norm.pdf(NFT_x, NFT_mean, NFT_std)\n",
    "plt.plot(NFT_x, NFT_pdf, \"b--\", linewidth = 1.5)\n",
    "\n",
    "# Plot the PDF for fraudulent transactions\n",
    "FT_x = np.linspace(FT_mean - 3 * FT_std , FT_mean + 3 * FT_std, 1000)\n",
    "FT_pdf = norm.pdf(FT_x, FT_mean, FT_std)\n",
    "plt.plot(FT_x, FT_pdf, \"r--\", linewidth = 1.5)\n",
    "\n",
    "\n",
    "# set xlim\n",
    "min_mean = np.min([NFT_mean, FT_mean])\n",
    "min_std = np.min([NFT_std, FT_std])\n",
    "xlim_start = min_mean - 2 * min_std\n",
    "max_mean = np.max([NFT_mean, FT_mean])\n",
    "max_std = np.max([NFT_std, FT_std])\n",
    "xlim_end = max_mean + 2 * max_std\n",
    "plt.xlim([-xlim_start - xlim_end, xlim_start + xlim_end])\n",
    "\n",
    "\n",
    "# set ylim\n",
    "plt.ylim([0, max(max(NFT_pdf), max(FT_pdf))])\n",
    "\n",
    "\n",
    "# add labels\n",
    "\n",
    "plt.xlabel(\"Recreation Error\")\n",
    "plt.ylabel(\"Probability\")\n",
    "plt.legend([\"Loss for NFT \", \"Loss for FT\"])\n",
    "title = \"NFT($\\mu$ = %0.02f, $\\sigma$ = %0.02f), FT($\\mu$ = %0.02f, $\\sigma$ = %0.02f)\" % (NFT_mean,\n",
    "                                                                                           NFT_std,\n",
    "                                                                                           FT_mean,\n",
    "                                                                                           FT_std)\n",
    "plt.title(title)\n",
    "\n",
    "plt.show()"
   ]
  },
  {
   "cell_type": "markdown",
   "metadata": {},
   "source": [
    "_You should see that the MSE error distributions for the non-fraudulent and fraudulent transactions have different probability distributions. This can help identity whether a new transaction has a high probability of being fraudulent or not (think hypothesis testing)_"
   ]
  }
 ],
 "metadata": {
  "accelerator": "GPU",
  "colab": {
   "collapsed_sections": [],
   "name": "Fraud_Detection_Draft01.ipynb",
   "provenance": [],
   "toc_visible": true
  },
  "kernelspec": {
   "display_name": "Python 3",
   "language": "python",
   "name": "python3"
  },
  "language_info": {
   "codemirror_mode": {
    "name": "ipython",
    "version": 3
   },
   "file_extension": ".py",
   "mimetype": "text/x-python",
   "name": "python",
   "nbconvert_exporter": "python",
   "pygments_lexer": "ipython3",
   "version": "3.7.4"
  },
  "toc": {
   "base_numbering": 1,
   "nav_menu": {},
   "number_sections": false,
   "sideBar": true,
   "skip_h1_title": true,
   "title_cell": "Table of Contents",
   "title_sidebar": "Contents",
   "toc_cell": false,
   "toc_position": {
    "height": "calc(100% - 180px)",
    "left": "10px",
    "top": "150px",
    "width": "539.961px"
   },
   "toc_section_display": true,
   "toc_window_display": false
  },
  "varInspector": {
   "cols": {
    "lenName": 16,
    "lenType": 16,
    "lenVar": 40
   },
   "kernels_config": {
    "python": {
     "delete_cmd_postfix": "",
     "delete_cmd_prefix": "del ",
     "library": "var_list.py",
     "varRefreshCmd": "print(var_dic_list())"
    },
    "r": {
     "delete_cmd_postfix": ") ",
     "delete_cmd_prefix": "rm(",
     "library": "var_list.r",
     "varRefreshCmd": "cat(var_dic_list()) "
    }
   },
   "types_to_exclude": [
    "module",
    "function",
    "builtin_function_or_method",
    "instance",
    "_Feature"
   ],
   "window_display": false
  }
 },
 "nbformat": 4,
 "nbformat_minor": 1
}
